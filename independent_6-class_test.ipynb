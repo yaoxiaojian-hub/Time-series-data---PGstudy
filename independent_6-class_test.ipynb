{
 "cells": [
  {
   "cell_type": "code",
   "execution_count": 1,
   "metadata": {},
   "outputs": [
    {
     "name": "stderr",
     "output_type": "stream",
     "text": [
      "/home/yaoxiaojian/anaconda3/lib/python3.7/site-packages/sklearn/cross_validation.py:41: DeprecationWarning: This module was deprecated in version 0.18 in favor of the model_selection module into which all the refactored classes and functions are moved. Also note that the interface of the new CV iterators are different from that of this module. This module will be removed in 0.20.\n",
      "  \"This module will be removed in 0.20.\", DeprecationWarning)\n"
     ]
    }
   ],
   "source": [
    "# the code is for 6-class sub-independent test, no data saved to HD\n",
    "\n",
    "from __future__ import  division, print_function, absolute_import\n",
    "import tensorflow as tf\n",
    "import matplotlib.pyplot as plt\n",
    "import numpy as np\n",
    "import pandas as pd\n",
    "import mne\n",
    "import sklearn.cross_validation as cross_validation\n",
    "from mne.io import RawArray\n",
    "from mne.epochs import concatenate_epochs\n",
    "from mne import create_info, find_events, Epochs\n",
    "from mne.channels import read_custom_montage\n",
    "from sklearn.pipeline import make_pipeline\n",
    "from sklearn.linear_model import LogisticRegression\n",
    "from sklearn.cross_validation import cross_val_score, LeaveOneLabelOut\n",
    "from glob import glob\n",
    "from mpl_toolkits.axes_grid1 import make_axes_locatable\n",
    "from scipy.signal import welch\n",
    "from mne import pick_types\n",
    "from tensorflow.examples.tutorials.mnist import input_data\n",
    "import os.path\n",
    "import scipy.io as sio\n",
    "\n",
    "##########################\n",
    "# create MNE readable file \n",
    "##########################\n",
    "def creat_mne_raw_object(fname):\n",
    "    \"\"\"Create a mne raw instance from csv file\"\"\"\n",
    "    # Read EEG file\n",
    "    data = pd.read_csv(fname)\n",
    "    \n",
    "    # get chanel names\n",
    "    ch_names = list(data.columns[1:])\n",
    "    \n",
    "    # read EEG standard montage from mne\n",
    "    montage = 'standard_1005'\n",
    "\n",
    "    # events file\n",
    "    ev_fname = fname.replace('_data','_events')\n",
    "    # read event file\n",
    "    events = pd.read_csv(ev_fname)\n",
    "    events_names = events.columns[1:]\n",
    "    events_data = np.array(events[events_names]).T\n",
    "    \n",
    "    # concatenate event file and data\n",
    "    data = np.concatenate((1e-6*np.array(data[ch_names]).T,events_data))        \n",
    "    \n",
    "    # define channel type, the first is EEG, the last 6 are stimulations\n",
    "    ch_type = ['eeg']*len(ch_names) + ['stim']*6\n",
    "    \n",
    "    # create and populate MNE info structure\n",
    "    ch_names.extend(events_names)\n",
    "    info = create_info(ch_names,sfreq=500.0,ch_types=ch_type,montage = montage)\n",
    "    # info.set_montage(montage)\n",
    "    #info['filename'] = fname\n",
    "    \n",
    "    # create raw object \n",
    "    raw = RawArray(data,info,verbose=False)\n",
    "    return raw\n"
   ]
  },
  {
   "cell_type": "code",
   "execution_count": 2,
   "metadata": {},
   "outputs": [],
   "source": [
    "####################################################################\n",
    "# Data preprocessing, band_pass, event related 1.5s + 1.5s featuring\n",
    "####################################################################\n",
    "def data_gen(subjects):    \n",
    "    X_train=[]\n",
    "    y_train=[]\n",
    "    n = 0\n",
    "    for i in range(len(subjects)):\n",
    "        n+=1\n",
    "        subject = subjects[i]\n",
    "        epochs_tot = []\n",
    "        epochs_rest_tot = []\n",
    "        fnames =  glob('../EEG/train/subj%d_series*_data.csv' % (subject))\n",
    "\n",
    "        y = []\n",
    "        for i,fname in enumerate(fnames):\n",
    "            # read data \n",
    "            raw = creat_mne_raw_object(fname)\n",
    "            #raw.plot(block=True)\n",
    "            # pick eeg signal\n",
    "            picks = pick_types(raw.info,eeg=True)\n",
    "            raw.filter(7,35, picks=picks, method='iir', n_jobs=-1, verbose=False)        \n",
    "            # Filter data for alpha frequency and beta band\n",
    "            ##########\n",
    "            # Events #\n",
    "            ##########\n",
    "            ###############id = 'Replace'#################        \n",
    "            # get event posision corresponding to Replace\n",
    "            events = find_events(raw,stim_channel='Replace', verbose=False)\n",
    "            # epochs signal for 1.5 second before the movement\n",
    "            epochs = Epochs(raw, events, {'after' : 1}, 0.5, 2, proj=False, picks=picks, baseline=None, \n",
    "                            preload=True, verbose=False)\n",
    "            epochs_tot.append(epochs)        \n",
    "            # epochs signal for 1.5 second after the movement, this correspond to the rest period.\n",
    "            epochs_rest = Epochs(raw, events, {'during' : 1}, -2, -0.5, proj=False, picks=picks, baseline=None, \n",
    "                                 preload=True, verbose=False)\n",
    "            # Workaround to be able to concatenate epochs\n",
    "            epochs_rest.shift_time(2.5, relative = True)\n",
    "            epochs_rest_tot.append(epochs_rest)\n",
    "            # adding \"Replace\" lable \"5\" \n",
    "            y.extend([5]*len(epochs_rest))\n",
    "\n",
    "            #################### id = 'HandStart'####################\n",
    "            # get event posision corresponding to HandStart\n",
    "            events = find_events(raw,stim_channel='HandStart', verbose=False)\n",
    "            # epochs signal for 1.5 second before the movement\n",
    "            epochs = Epochs(raw, events, {'during' : 1}, 0.5, 2, proj=False, picks=picks, baseline=None, \n",
    "                            preload=True, verbose=False)       \n",
    "            epochs_tot.append(epochs)        \n",
    "            # epochs signal for 1.5 second after the movement, this correspond to the rest period.\n",
    "            epochs_rest = Epochs(raw, events, {'before' : 1}, -2, -0.5, proj=False, picks=picks, baseline=None, \n",
    "                                 preload=True, verbose=False)\n",
    "\n",
    "            # Workaround to be able to concatenate epochs\n",
    "            epochs_rest.shift_time(2.5, relative = True)\n",
    "            epochs_rest_tot.append(epochs_rest)\n",
    "            # adding lable \"1\" of \"HandStart\"\n",
    "            y.extend([1]*len(epochs_rest))\n",
    "\n",
    "            #################### id = 'FirstDigitTouch'####################\n",
    "            # get event posision corresponding to FirstDigitTouch\n",
    "            events = find_events(raw,stim_channel='FirstDigitTouch', verbose=False)\n",
    "            epochs = Epochs(raw, events, {'during' : 1}, 0.5, 2, proj=False, picks=picks, baseline=None, \n",
    "                            preload=True, verbose=False)       \n",
    "            epochs_tot.append(epochs)        \n",
    "            epochs_rest = Epochs(raw, events, {'before' : 1}, -2, -0.5, proj=False, picks=picks, baseline=None, \n",
    "                                 preload=True, verbose=False)\n",
    "            epochs_rest.shift_time(2.5, relative = True)\n",
    "            epochs_rest_tot.append(epochs_rest)\n",
    "            # adding lable \"2\" of \"FirstDigitTouch\"\n",
    "            y.extend([2]*len(epochs_rest))\n",
    "\n",
    "            #################### id = 'BothStartLoadPhase'####################\n",
    "            # get event posision corresponding to BothStartLoadPh - truncated to 15 characters\n",
    "            events = find_events(raw,stim_channel='BothStartLoadPh', verbose=False)\n",
    "            epochs = Epochs(raw, events, {'during' : 1}, 0.5, 2, proj=False, picks=picks, baseline=None, \n",
    "                            preload=True, verbose=False)       \n",
    "            epochs_tot.append(epochs)        \n",
    "            epochs_rest = Epochs(raw, events, {'before' : 1}, -2, -0.5, proj=False, picks=picks, baseline=None, \n",
    "                                 preload=True, verbose=False)        \n",
    "            epochs_rest.shift_time(2.5, relative = True)\n",
    "            epochs_rest_tot.append(epochs_rest)\n",
    "            # adding lable \"3\" of \"FirstDigitTouch\"\n",
    "            y.extend([3]*len(epochs_rest))\n",
    "\n",
    "            #################### id = 'Liftoff'####################\n",
    "            # get event posision corresponding to Liftoff \n",
    "            events = find_events(raw,stim_channel='LiftOff', verbose=False)\n",
    "            epochs = Epochs(raw, events, {'during' : 1}, 0.5, 2, proj=False, picks=picks, baseline=None, \n",
    "                            preload=True, verbose=False)       \n",
    "            epochs_tot.append(epochs)        \n",
    "            epochs_rest = Epochs(raw, events, {'before' : 1}, -2, -0.5, proj=False, picks=picks, baseline=None, \n",
    "                                 preload=True, verbose=False)        \n",
    "            epochs_rest.shift_time(2.5, relative = True)\n",
    "            epochs_rest_tot.append(epochs_rest)\n",
    "            # adding lable \"4\" of \"FirstDigitTouch\"\n",
    "            y.extend([4]*len(epochs_rest))\n",
    "\n",
    "            #################### id = 'BothReleased'####################\n",
    "            # get event posision corresponding to BothReleased \n",
    "            events = find_events(raw,stim_channel='BothReleased', verbose=False)\n",
    "            epochs = Epochs(raw, events, {'during' : 1}, 0.5, 2, proj=False, picks=picks, baseline=None, \n",
    "                            preload=True, verbose=False)       \n",
    "            epochs_tot.append(epochs)        \n",
    "            epochs_rest = Epochs(raw, events, {'before' : 1}, -2, -0.5, proj=False, picks=picks, baseline=None, \n",
    "                                 preload=True, verbose=False)        \n",
    "            epochs_rest.shift_time(2.5, relative = True)\n",
    "            epochs_rest_tot.append(epochs_rest)\n",
    "            # adding lable \"6\" of \"BothReleased\"\n",
    "            y.extend([6]*len(epochs_rest))\n",
    "\n",
    "        epochs_during = concatenate_epochs(epochs_tot)\n",
    "        epochs_rests = concatenate_epochs(epochs_rest_tot)\n",
    "\n",
    "        #get data \n",
    "        X_during = epochs_during.get_data()\n",
    "        X_rests = epochs_rests.get_data()\n",
    "        X = np.concatenate((X_during,X_rests),axis=1)\n",
    "        y = np.array(y)\n",
    "        \n",
    "        #y = np.array(y)\n",
    "        print (\"subject\",subject,X.shape)\n",
    "\n",
    "        if n == 1:\n",
    "            X_train = X\n",
    "            y_train = y\n",
    "        else:\n",
    "            X_train = np.append(X_train,X,axis =0)\n",
    "            y_train = np.append(y_train,y,axis =0)\n",
    "\n",
    "        print (\"data stack shape:\",X_train.shape,y_train.shape)\n",
    "\n",
    "    # generate feature dataset for next process \n",
    "    X_train = np.array(X_train)\n",
    "    y_train = np.array(y_train)\n",
    "    print ('return data shape: ',X_train.shape,y_train.shape)\n",
    "    return (X_train, y_train)\n"
   ]
  },
  {
   "cell_type": "code",
   "execution_count": null,
   "metadata": {
    "scrolled": false
   },
   "outputs": [
    {
     "name": "stdout",
     "output_type": "stream",
     "text": [
      "DigMontage is a superset of info. 311 in DigMontage will be ignored. The ignored channels are: {'PPO3h', 'FFC2h', 'PPOz', 'FCC5h', 'POO5h', 'OI2h', 'AFp7', 'AFF10', 'FCC4', 'POz', 'CCP1', 'PPO9', 'FTT8h', 'FFT8', 'FCC3h', 'PPO10h', 'AFF9', 'F9', 'O1h', 'FT10h', 'F3h', 'F6', 'FFC2', 'F2h', 'AFp6h', 'AFpz', 'PPO3', 'PO8', 'FC2h', 'PPO1', 'T4', 'AF9h', 'POO9', 'AFp1h', 'TPP8', 'CCP5h', 'PPO8', 'FCC6', 'AFp4h', 'P1', 'POO8h', 'FT9h', 'FTT7h', 'CPP6h', 'FC4h', 'PPO4', 'Fpz', 'C6h', 'F5h', 'FFT10', 'POO1h', 'FCC2h', 'AFp3h', 'PO8h', 'CPP3', 'PPO5', 'FC5h', 'AF6', 'P6', 'P1h', 'PO4h', 'TTP7', 'FFT9', 'POO4h', 'PO10h', 'AFF9h', 'POO10h', 'PO4', 'F2', 'AFp7h', 'FCz', 'FFC1', 'POO1', 'CPP2h', 'CP4', 'PO2', 'CCP1h', 'C5h', 'I1', 'FFC5h', 'FC6h', 'FT9', 'Fp1h', 'AFF2h', 'FFC3h', 'F7h', 'PPO2', 'FTT8', 'PO9h', 'AF4h', 'F6h', 'AFF4', 'FC1h', 'AFF3h', 'TP8h', 'CPP1h', 'F1', 'AF10h', 'CPPz', 'FCC3', 'TPP7h', 'CCP6h', 'C5', 'T9', 'FCC6h', 'C3h', 'I1h', 'CPP4', 'FT10', 'TPP10h', 'TTP10', 'CPP6', 'FT7h', 'FFC6', 'FCC2', 'AFFz', 'C2h', 'P6h', 'FCC5', 'POO8', 'M2', 'FCC1h', 'POO3', 'AF7', 'TP9h', 'AFF7', 'PPO2h', 'CP6h', 'T7h', 'F9h', 'CPP5', 'TTP9', 'AF3', 'PPO5h', 'PPO6h', 'FT8', 'AFp2', 'AF4', 'PPO10', 'PO5', 'AFp3', 'FCC4h', 'CCP4', 'AFp2h', 'FTT7', 'P9', 'AFF3', 'AF7h', 'CCP5', 'FFT8h', 'FC4', 'AFp8', 'PPO1h', 'AFF1', 'CP5h', 'AF2', 'PPO7h', 'AF5h', 'POO5', 'TPP9', 'CPz', 'FCCz', 'FTT9', 'POO10', 'C6', 'AF8h', 'POO6h', 'POO2h', 'PO7', 'FTT10h', 'TTP10h', 'A1', 'PO1', 'CPP4h', 'CCP3', 'T9h', 'TP7', 'AF1', 'TTP8h', 'CP4h', 'AFF7h', 'F8h', 'POO4', 'FT7', 'PPO4h', 'POOz', 'CP2h', 'AFp8h', 'CCP2', 'FTT10', 'POO6', 'FFC1h', 'T3', 'CCP6', 'TP10h', 'OI1', 'F10h', 'TPP10', 'FFC4h', 'AF5', 'AF10', 'TTP8', 'OI2', 'AF3h', 'AFp5', 'C2', 'I2h', 'FT8h', 'CCPz', 'CCP4h', 'P7h', 'PO7h', 'FFT7h', 'T10', 'PPO8h', 'POO7h', 'AFF5', 'PPO9h', 'T10h', 'F4h', 'FFC5', 'PO6h', 'AFF10h', 'AFF5h', 'T5', 'P5h', 'P10', 'PO6', 'FC3h', 'FFC6h', 'CPP2', 'AF2h', 'CP3h', 'T6', 'CP3', 'M1', 'P2', 'AFp9', 'CCP2h', 'P5', 'F1h', 'TP7h', 'F5', 'P9h', 'P3h', 'AFp9h', 'AFF4h', 'TPP9h', 'POO2', 'P8h', 'FCC1', 'AFp5h', 'TPP8h', 'Fp2h', 'PO3', 'P4h', 'PO3h', 'TPP7', 'AFp4', 'FFCz', 'AFz', 'FFT7', 'AFF6h', 'AFF8h', 'FFT9h', 'PO2h', 'PPO7', 'TTP7h', 'C1', 'AF1h', 'FFT10h', 'T8h', 'PO1h', 'AFp1', 'A2', 'C4h', 'AF6h', 'CPP3h', 'AFF8', 'PPO6', 'FC3', 'AFF6', 'POO3h', 'CP1h', 'AF8', 'Iz', 'FFC4', 'P10h', 'P2h', 'AFp6', 'AFF1h', 'I2', 'TP8', 'TTP9h', 'FFC3', 'POO7', 'FTT9h', 'CCP3h', 'CPP5h', 'AFF2', 'OIz', 'AFp10h', 'AFp10', 'CPP1', 'AF9', 'O2h', 'OI1h', 'C1h', 'PO5h', 'F10', 'POO9h'}\n"
     ]
    },
    {
     "name": "stderr",
     "output_type": "stream",
     "text": [
      "<ipython-input-1-81fa588ad679>:54: RuntimeWarning: 1 channel names are too long, have been truncated to 15 characters:\n",
      "['BothStartLoadPhase']\n",
      "  info = create_info(ch_names,sfreq=500.0,ch_types=ch_type,montage = montage)\n",
      "/home/yaoxiaojian/anaconda3/lib/python3.7/site-packages/scipy/signal/_arraytools.py:45: FutureWarning: Using a non-tuple sequence for multidimensional indexing is deprecated; use `arr[tuple(seq)]` instead of `arr[seq]`. In the future this will be interpreted as an array index, `arr[np.array(seq)]`, which will result either in an error or a different result.\n",
      "  b = a[a_slice]\n",
      "/home/yaoxiaojian/anaconda3/lib/python3.7/site-packages/scipy/signal/_arraytools.py:45: FutureWarning: Using a non-tuple sequence for multidimensional indexing is deprecated; use `arr[tuple(seq)]` instead of `arr[seq]`. In the future this will be interpreted as an array index, `arr[np.array(seq)]`, which will result either in an error or a different result.\n",
      "  b = a[a_slice]\n",
      "/home/yaoxiaojian/anaconda3/lib/python3.7/site-packages/scipy/signal/_arraytools.py:45: FutureWarning: Using a non-tuple sequence for multidimensional indexing is deprecated; use `arr[tuple(seq)]` instead of `arr[seq]`. In the future this will be interpreted as an array index, `arr[np.array(seq)]`, which will result either in an error or a different result.\n",
      "  b = a[a_slice]\n",
      "/home/yaoxiaojian/anaconda3/lib/python3.7/site-packages/scipy/signal/_arraytools.py:45: FutureWarning: Using a non-tuple sequence for multidimensional indexing is deprecated; use `arr[tuple(seq)]` instead of `arr[seq]`. In the future this will be interpreted as an array index, `arr[np.array(seq)]`, which will result either in an error or a different result.\n",
      "  b = a[a_slice]\n",
      "/home/yaoxiaojian/anaconda3/lib/python3.7/site-packages/scipy/signal/_arraytools.py:45: FutureWarning: Using a non-tuple sequence for multidimensional indexing is deprecated; use `arr[tuple(seq)]` instead of `arr[seq]`. In the future this will be interpreted as an array index, `arr[np.array(seq)]`, which will result either in an error or a different result.\n",
      "  b = a[a_slice]\n",
      "/home/yaoxiaojian/anaconda3/lib/python3.7/site-packages/scipy/signal/_arraytools.py:45: FutureWarning: Using a non-tuple sequence for multidimensional indexing is deprecated; use `arr[tuple(seq)]` instead of `arr[seq]`. In the future this will be interpreted as an array index, `arr[np.array(seq)]`, which will result either in an error or a different result.\n",
      "  b = a[a_slice]\n",
      "/home/yaoxiaojian/anaconda3/lib/python3.7/site-packages/scipy/signal/_arraytools.py:45: FutureWarning: Using a non-tuple sequence for multidimensional indexing is deprecated; use `arr[tuple(seq)]` instead of `arr[seq]`. In the future this will be interpreted as an array index, `arr[np.array(seq)]`, which will result either in an error or a different result.\n",
      "  b = a[a_slice]\n",
      "/home/yaoxiaojian/anaconda3/lib/python3.7/site-packages/scipy/signal/_arraytools.py:45: FutureWarning: Using a non-tuple sequence for multidimensional indexing is deprecated; use `arr[tuple(seq)]` instead of `arr[seq]`. In the future this will be interpreted as an array index, `arr[np.array(seq)]`, which will result either in an error or a different result.\n",
      "  b = a[a_slice]\n"
     ]
    },
    {
     "name": "stdout",
     "output_type": "stream",
     "text": [
      "DigMontage is a superset of info. 311 in DigMontage will be ignored. The ignored channels are: {'PPO3h', 'FFC2h', 'PPOz', 'FCC5h', 'POO5h', 'OI2h', 'AFp7', 'AFF10', 'FCC4', 'POz', 'CCP1', 'PPO9', 'FTT8h', 'FFT8', 'FCC3h', 'PPO10h', 'AFF9', 'F9', 'O1h', 'FT10h', 'F3h', 'F6', 'FFC2', 'F2h', 'AFp6h', 'AFpz', 'PPO3', 'PO8', 'FC2h', 'PPO1', 'T4', 'AF9h', 'POO9', 'AFp1h', 'TPP8', 'CCP5h', 'PPO8', 'FCC6', 'AFp4h', 'P1', 'POO8h', 'FT9h', 'FTT7h', 'CPP6h', 'FC4h', 'PPO4', 'Fpz', 'C6h', 'F5h', 'FFT10', 'POO1h', 'FCC2h', 'AFp3h', 'PO8h', 'CPP3', 'PPO5', 'FC5h', 'AF6', 'P6', 'P1h', 'PO4h', 'TTP7', 'FFT9', 'POO4h', 'PO10h', 'AFF9h', 'POO10h', 'PO4', 'F2', 'AFp7h', 'FCz', 'FFC1', 'POO1', 'CPP2h', 'CP4', 'PO2', 'CCP1h', 'C5h', 'I1', 'FFC5h', 'FC6h', 'FT9', 'Fp1h', 'AFF2h', 'FFC3h', 'F7h', 'PPO2', 'FTT8', 'PO9h', 'AF4h', 'F6h', 'AFF4', 'FC1h', 'AFF3h', 'TP8h', 'CPP1h', 'F1', 'AF10h', 'CPPz', 'FCC3', 'TPP7h', 'CCP6h', 'C5', 'T9', 'FCC6h', 'C3h', 'I1h', 'CPP4', 'FT10', 'TPP10h', 'TTP10', 'CPP6', 'FT7h', 'FFC6', 'FCC2', 'AFFz', 'C2h', 'P6h', 'FCC5', 'POO8', 'M2', 'FCC1h', 'POO3', 'AF7', 'TP9h', 'AFF7', 'PPO2h', 'CP6h', 'T7h', 'F9h', 'CPP5', 'TTP9', 'AF3', 'PPO5h', 'PPO6h', 'FT8', 'AFp2', 'AF4', 'PPO10', 'PO5', 'AFp3', 'FCC4h', 'CCP4', 'AFp2h', 'FTT7', 'P9', 'AFF3', 'AF7h', 'CCP5', 'FFT8h', 'FC4', 'AFp8', 'PPO1h', 'AFF1', 'CP5h', 'AF2', 'PPO7h', 'AF5h', 'POO5', 'TPP9', 'CPz', 'FCCz', 'FTT9', 'POO10', 'C6', 'AF8h', 'POO6h', 'POO2h', 'PO7', 'FTT10h', 'TTP10h', 'A1', 'PO1', 'CPP4h', 'CCP3', 'T9h', 'TP7', 'AF1', 'TTP8h', 'CP4h', 'AFF7h', 'F8h', 'POO4', 'FT7', 'PPO4h', 'POOz', 'CP2h', 'AFp8h', 'CCP2', 'FTT10', 'POO6', 'FFC1h', 'T3', 'CCP6', 'TP10h', 'OI1', 'F10h', 'TPP10', 'FFC4h', 'AF5', 'AF10', 'TTP8', 'OI2', 'AF3h', 'AFp5', 'C2', 'I2h', 'FT8h', 'CCPz', 'CCP4h', 'P7h', 'PO7h', 'FFT7h', 'T10', 'PPO8h', 'POO7h', 'AFF5', 'PPO9h', 'T10h', 'F4h', 'FFC5', 'PO6h', 'AFF10h', 'AFF5h', 'T5', 'P5h', 'P10', 'PO6', 'FC3h', 'FFC6h', 'CPP2', 'AF2h', 'CP3h', 'T6', 'CP3', 'M1', 'P2', 'AFp9', 'CCP2h', 'P5', 'F1h', 'TP7h', 'F5', 'P9h', 'P3h', 'AFp9h', 'AFF4h', 'TPP9h', 'POO2', 'P8h', 'FCC1', 'AFp5h', 'TPP8h', 'Fp2h', 'PO3', 'P4h', 'PO3h', 'TPP7', 'AFp4', 'FFCz', 'AFz', 'FFT7', 'AFF6h', 'AFF8h', 'FFT9h', 'PO2h', 'PPO7', 'TTP7h', 'C1', 'AF1h', 'FFT10h', 'T8h', 'PO1h', 'AFp1', 'A2', 'C4h', 'AF6h', 'CPP3h', 'AFF8', 'PPO6', 'FC3', 'AFF6', 'POO3h', 'CP1h', 'AF8', 'Iz', 'FFC4', 'P10h', 'P2h', 'AFp6', 'AFF1h', 'I2', 'TP8', 'TTP9h', 'FFC3', 'POO7', 'FTT9h', 'CCP3h', 'CPP5h', 'AFF2', 'OIz', 'AFp10h', 'AFp10', 'CPP1', 'AF9', 'O2h', 'OI1h', 'C1h', 'PO5h', 'F10', 'POO9h'}\n"
     ]
    },
    {
     "name": "stderr",
     "output_type": "stream",
     "text": [
      "<ipython-input-1-81fa588ad679>:54: RuntimeWarning: 1 channel names are too long, have been truncated to 15 characters:\n",
      "['BothStartLoadPhase']\n",
      "  info = create_info(ch_names,sfreq=500.0,ch_types=ch_type,montage = montage)\n",
      "/home/yaoxiaojian/anaconda3/lib/python3.7/site-packages/scipy/signal/_arraytools.py:45: FutureWarning: Using a non-tuple sequence for multidimensional indexing is deprecated; use `arr[tuple(seq)]` instead of `arr[seq]`. In the future this will be interpreted as an array index, `arr[np.array(seq)]`, which will result either in an error or a different result.\n",
      "  b = a[a_slice]\n",
      "/home/yaoxiaojian/anaconda3/lib/python3.7/site-packages/scipy/signal/_arraytools.py:45: FutureWarning: Using a non-tuple sequence for multidimensional indexing is deprecated; use `arr[tuple(seq)]` instead of `arr[seq]`. In the future this will be interpreted as an array index, `arr[np.array(seq)]`, which will result either in an error or a different result.\n",
      "  b = a[a_slice]\n",
      "/home/yaoxiaojian/anaconda3/lib/python3.7/site-packages/scipy/signal/_arraytools.py:45: FutureWarning: Using a non-tuple sequence for multidimensional indexing is deprecated; use `arr[tuple(seq)]` instead of `arr[seq]`. In the future this will be interpreted as an array index, `arr[np.array(seq)]`, which will result either in an error or a different result.\n",
      "  b = a[a_slice]\n",
      "/home/yaoxiaojian/anaconda3/lib/python3.7/site-packages/scipy/signal/_arraytools.py:45: FutureWarning: Using a non-tuple sequence for multidimensional indexing is deprecated; use `arr[tuple(seq)]` instead of `arr[seq]`. In the future this will be interpreted as an array index, `arr[np.array(seq)]`, which will result either in an error or a different result.\n",
      "  b = a[a_slice]\n",
      "/home/yaoxiaojian/anaconda3/lib/python3.7/site-packages/scipy/signal/_arraytools.py:45: FutureWarning: Using a non-tuple sequence for multidimensional indexing is deprecated; use `arr[tuple(seq)]` instead of `arr[seq]`. In the future this will be interpreted as an array index, `arr[np.array(seq)]`, which will result either in an error or a different result.\n",
      "  b = a[a_slice]\n",
      "/home/yaoxiaojian/anaconda3/lib/python3.7/site-packages/scipy/signal/_arraytools.py:45: FutureWarning: Using a non-tuple sequence for multidimensional indexing is deprecated; use `arr[tuple(seq)]` instead of `arr[seq]`. In the future this will be interpreted as an array index, `arr[np.array(seq)]`, which will result either in an error or a different result.\n",
      "  b = a[a_slice]\n",
      "/home/yaoxiaojian/anaconda3/lib/python3.7/site-packages/scipy/signal/_arraytools.py:45: FutureWarning: Using a non-tuple sequence for multidimensional indexing is deprecated; use `arr[tuple(seq)]` instead of `arr[seq]`. In the future this will be interpreted as an array index, `arr[np.array(seq)]`, which will result either in an error or a different result.\n",
      "  b = a[a_slice]\n",
      "/home/yaoxiaojian/anaconda3/lib/python3.7/site-packages/scipy/signal/_arraytools.py:45: FutureWarning: Using a non-tuple sequence for multidimensional indexing is deprecated; use `arr[tuple(seq)]` instead of `arr[seq]`. In the future this will be interpreted as an array index, `arr[np.array(seq)]`, which will result either in an error or a different result.\n",
      "  b = a[a_slice]\n"
     ]
    },
    {
     "name": "stdout",
     "output_type": "stream",
     "text": [
      "DigMontage is a superset of info. 311 in DigMontage will be ignored. The ignored channels are: {'PPO3h', 'FFC2h', 'PPOz', 'FCC5h', 'POO5h', 'OI2h', 'AFp7', 'AFF10', 'FCC4', 'POz', 'CCP1', 'PPO9', 'FTT8h', 'FFT8', 'FCC3h', 'PPO10h', 'AFF9', 'F9', 'O1h', 'FT10h', 'F3h', 'F6', 'FFC2', 'F2h', 'AFp6h', 'AFpz', 'PPO3', 'PO8', 'FC2h', 'PPO1', 'T4', 'AF9h', 'POO9', 'AFp1h', 'TPP8', 'CCP5h', 'PPO8', 'FCC6', 'AFp4h', 'P1', 'POO8h', 'FT9h', 'FTT7h', 'CPP6h', 'FC4h', 'PPO4', 'Fpz', 'C6h', 'F5h', 'FFT10', 'POO1h', 'FCC2h', 'AFp3h', 'PO8h', 'CPP3', 'PPO5', 'FC5h', 'AF6', 'P6', 'P1h', 'PO4h', 'TTP7', 'FFT9', 'POO4h', 'PO10h', 'AFF9h', 'POO10h', 'PO4', 'F2', 'AFp7h', 'FCz', 'FFC1', 'POO1', 'CPP2h', 'CP4', 'PO2', 'CCP1h', 'C5h', 'I1', 'FFC5h', 'FC6h', 'FT9', 'Fp1h', 'AFF2h', 'FFC3h', 'F7h', 'PPO2', 'FTT8', 'PO9h', 'AF4h', 'F6h', 'AFF4', 'FC1h', 'AFF3h', 'TP8h', 'CPP1h', 'F1', 'AF10h', 'CPPz', 'FCC3', 'TPP7h', 'CCP6h', 'C5', 'T9', 'FCC6h', 'C3h', 'I1h', 'CPP4', 'FT10', 'TPP10h', 'TTP10', 'CPP6', 'FT7h', 'FFC6', 'FCC2', 'AFFz', 'C2h', 'P6h', 'FCC5', 'POO8', 'M2', 'FCC1h', 'POO3', 'AF7', 'TP9h', 'AFF7', 'PPO2h', 'CP6h', 'T7h', 'F9h', 'CPP5', 'TTP9', 'AF3', 'PPO5h', 'PPO6h', 'FT8', 'AFp2', 'AF4', 'PPO10', 'PO5', 'AFp3', 'FCC4h', 'CCP4', 'AFp2h', 'FTT7', 'P9', 'AFF3', 'AF7h', 'CCP5', 'FFT8h', 'FC4', 'AFp8', 'PPO1h', 'AFF1', 'CP5h', 'AF2', 'PPO7h', 'AF5h', 'POO5', 'TPP9', 'CPz', 'FCCz', 'FTT9', 'POO10', 'C6', 'AF8h', 'POO6h', 'POO2h', 'PO7', 'FTT10h', 'TTP10h', 'A1', 'PO1', 'CPP4h', 'CCP3', 'T9h', 'TP7', 'AF1', 'TTP8h', 'CP4h', 'AFF7h', 'F8h', 'POO4', 'FT7', 'PPO4h', 'POOz', 'CP2h', 'AFp8h', 'CCP2', 'FTT10', 'POO6', 'FFC1h', 'T3', 'CCP6', 'TP10h', 'OI1', 'F10h', 'TPP10', 'FFC4h', 'AF5', 'AF10', 'TTP8', 'OI2', 'AF3h', 'AFp5', 'C2', 'I2h', 'FT8h', 'CCPz', 'CCP4h', 'P7h', 'PO7h', 'FFT7h', 'T10', 'PPO8h', 'POO7h', 'AFF5', 'PPO9h', 'T10h', 'F4h', 'FFC5', 'PO6h', 'AFF10h', 'AFF5h', 'T5', 'P5h', 'P10', 'PO6', 'FC3h', 'FFC6h', 'CPP2', 'AF2h', 'CP3h', 'T6', 'CP3', 'M1', 'P2', 'AFp9', 'CCP2h', 'P5', 'F1h', 'TP7h', 'F5', 'P9h', 'P3h', 'AFp9h', 'AFF4h', 'TPP9h', 'POO2', 'P8h', 'FCC1', 'AFp5h', 'TPP8h', 'Fp2h', 'PO3', 'P4h', 'PO3h', 'TPP7', 'AFp4', 'FFCz', 'AFz', 'FFT7', 'AFF6h', 'AFF8h', 'FFT9h', 'PO2h', 'PPO7', 'TTP7h', 'C1', 'AF1h', 'FFT10h', 'T8h', 'PO1h', 'AFp1', 'A2', 'C4h', 'AF6h', 'CPP3h', 'AFF8', 'PPO6', 'FC3', 'AFF6', 'POO3h', 'CP1h', 'AF8', 'Iz', 'FFC4', 'P10h', 'P2h', 'AFp6', 'AFF1h', 'I2', 'TP8', 'TTP9h', 'FFC3', 'POO7', 'FTT9h', 'CCP3h', 'CPP5h', 'AFF2', 'OIz', 'AFp10h', 'AFp10', 'CPP1', 'AF9', 'O2h', 'OI1h', 'C1h', 'PO5h', 'F10', 'POO9h'}\n"
     ]
    },
    {
     "name": "stderr",
     "output_type": "stream",
     "text": [
      "<ipython-input-1-81fa588ad679>:54: RuntimeWarning: 1 channel names are too long, have been truncated to 15 characters:\n",
      "['BothStartLoadPhase']\n",
      "  info = create_info(ch_names,sfreq=500.0,ch_types=ch_type,montage = montage)\n",
      "/home/yaoxiaojian/anaconda3/lib/python3.7/site-packages/scipy/signal/_arraytools.py:45: FutureWarning: Using a non-tuple sequence for multidimensional indexing is deprecated; use `arr[tuple(seq)]` instead of `arr[seq]`. In the future this will be interpreted as an array index, `arr[np.array(seq)]`, which will result either in an error or a different result.\n",
      "  b = a[a_slice]\n",
      "/home/yaoxiaojian/anaconda3/lib/python3.7/site-packages/scipy/signal/_arraytools.py:45: FutureWarning: Using a non-tuple sequence for multidimensional indexing is deprecated; use `arr[tuple(seq)]` instead of `arr[seq]`. In the future this will be interpreted as an array index, `arr[np.array(seq)]`, which will result either in an error or a different result.\n",
      "  b = a[a_slice]\n",
      "/home/yaoxiaojian/anaconda3/lib/python3.7/site-packages/scipy/signal/_arraytools.py:45: FutureWarning: Using a non-tuple sequence for multidimensional indexing is deprecated; use `arr[tuple(seq)]` instead of `arr[seq]`. In the future this will be interpreted as an array index, `arr[np.array(seq)]`, which will result either in an error or a different result.\n",
      "  b = a[a_slice]\n",
      "/home/yaoxiaojian/anaconda3/lib/python3.7/site-packages/scipy/signal/_arraytools.py:45: FutureWarning: Using a non-tuple sequence for multidimensional indexing is deprecated; use `arr[tuple(seq)]` instead of `arr[seq]`. In the future this will be interpreted as an array index, `arr[np.array(seq)]`, which will result either in an error or a different result.\n",
      "  b = a[a_slice]\n",
      "/home/yaoxiaojian/anaconda3/lib/python3.7/site-packages/scipy/signal/_arraytools.py:45: FutureWarning: Using a non-tuple sequence for multidimensional indexing is deprecated; use `arr[tuple(seq)]` instead of `arr[seq]`. In the future this will be interpreted as an array index, `arr[np.array(seq)]`, which will result either in an error or a different result.\n",
      "  b = a[a_slice]\n",
      "/home/yaoxiaojian/anaconda3/lib/python3.7/site-packages/scipy/signal/_arraytools.py:45: FutureWarning: Using a non-tuple sequence for multidimensional indexing is deprecated; use `arr[tuple(seq)]` instead of `arr[seq]`. In the future this will be interpreted as an array index, `arr[np.array(seq)]`, which will result either in an error or a different result.\n",
      "  b = a[a_slice]\n",
      "/home/yaoxiaojian/anaconda3/lib/python3.7/site-packages/scipy/signal/_arraytools.py:45: FutureWarning: Using a non-tuple sequence for multidimensional indexing is deprecated; use `arr[tuple(seq)]` instead of `arr[seq]`. In the future this will be interpreted as an array index, `arr[np.array(seq)]`, which will result either in an error or a different result.\n",
      "  b = a[a_slice]\n",
      "/home/yaoxiaojian/anaconda3/lib/python3.7/site-packages/scipy/signal/_arraytools.py:45: FutureWarning: Using a non-tuple sequence for multidimensional indexing is deprecated; use `arr[tuple(seq)]` instead of `arr[seq]`. In the future this will be interpreted as an array index, `arr[np.array(seq)]`, which will result either in an error or a different result.\n",
      "  b = a[a_slice]\n"
     ]
    },
    {
     "name": "stdout",
     "output_type": "stream",
     "text": [
      "DigMontage is a superset of info. 311 in DigMontage will be ignored. The ignored channels are: {'PPO3h', 'FFC2h', 'PPOz', 'FCC5h', 'POO5h', 'OI2h', 'AFp7', 'AFF10', 'FCC4', 'POz', 'CCP1', 'PPO9', 'FTT8h', 'FFT8', 'FCC3h', 'PPO10h', 'AFF9', 'F9', 'O1h', 'FT10h', 'F3h', 'F6', 'FFC2', 'F2h', 'AFp6h', 'AFpz', 'PPO3', 'PO8', 'FC2h', 'PPO1', 'T4', 'AF9h', 'POO9', 'AFp1h', 'TPP8', 'CCP5h', 'PPO8', 'FCC6', 'AFp4h', 'P1', 'POO8h', 'FT9h', 'FTT7h', 'CPP6h', 'FC4h', 'PPO4', 'Fpz', 'C6h', 'F5h', 'FFT10', 'POO1h', 'FCC2h', 'AFp3h', 'PO8h', 'CPP3', 'PPO5', 'FC5h', 'AF6', 'P6', 'P1h', 'PO4h', 'TTP7', 'FFT9', 'POO4h', 'PO10h', 'AFF9h', 'POO10h', 'PO4', 'F2', 'AFp7h', 'FCz', 'FFC1', 'POO1', 'CPP2h', 'CP4', 'PO2', 'CCP1h', 'C5h', 'I1', 'FFC5h', 'FC6h', 'FT9', 'Fp1h', 'AFF2h', 'FFC3h', 'F7h', 'PPO2', 'FTT8', 'PO9h', 'AF4h', 'F6h', 'AFF4', 'FC1h', 'AFF3h', 'TP8h', 'CPP1h', 'F1', 'AF10h', 'CPPz', 'FCC3', 'TPP7h', 'CCP6h', 'C5', 'T9', 'FCC6h', 'C3h', 'I1h', 'CPP4', 'FT10', 'TPP10h', 'TTP10', 'CPP6', 'FT7h', 'FFC6', 'FCC2', 'AFFz', 'C2h', 'P6h', 'FCC5', 'POO8', 'M2', 'FCC1h', 'POO3', 'AF7', 'TP9h', 'AFF7', 'PPO2h', 'CP6h', 'T7h', 'F9h', 'CPP5', 'TTP9', 'AF3', 'PPO5h', 'PPO6h', 'FT8', 'AFp2', 'AF4', 'PPO10', 'PO5', 'AFp3', 'FCC4h', 'CCP4', 'AFp2h', 'FTT7', 'P9', 'AFF3', 'AF7h', 'CCP5', 'FFT8h', 'FC4', 'AFp8', 'PPO1h', 'AFF1', 'CP5h', 'AF2', 'PPO7h', 'AF5h', 'POO5', 'TPP9', 'CPz', 'FCCz', 'FTT9', 'POO10', 'C6', 'AF8h', 'POO6h', 'POO2h', 'PO7', 'FTT10h', 'TTP10h', 'A1', 'PO1', 'CPP4h', 'CCP3', 'T9h', 'TP7', 'AF1', 'TTP8h', 'CP4h', 'AFF7h', 'F8h', 'POO4', 'FT7', 'PPO4h', 'POOz', 'CP2h', 'AFp8h', 'CCP2', 'FTT10', 'POO6', 'FFC1h', 'T3', 'CCP6', 'TP10h', 'OI1', 'F10h', 'TPP10', 'FFC4h', 'AF5', 'AF10', 'TTP8', 'OI2', 'AF3h', 'AFp5', 'C2', 'I2h', 'FT8h', 'CCPz', 'CCP4h', 'P7h', 'PO7h', 'FFT7h', 'T10', 'PPO8h', 'POO7h', 'AFF5', 'PPO9h', 'T10h', 'F4h', 'FFC5', 'PO6h', 'AFF10h', 'AFF5h', 'T5', 'P5h', 'P10', 'PO6', 'FC3h', 'FFC6h', 'CPP2', 'AF2h', 'CP3h', 'T6', 'CP3', 'M1', 'P2', 'AFp9', 'CCP2h', 'P5', 'F1h', 'TP7h', 'F5', 'P9h', 'P3h', 'AFp9h', 'AFF4h', 'TPP9h', 'POO2', 'P8h', 'FCC1', 'AFp5h', 'TPP8h', 'Fp2h', 'PO3', 'P4h', 'PO3h', 'TPP7', 'AFp4', 'FFCz', 'AFz', 'FFT7', 'AFF6h', 'AFF8h', 'FFT9h', 'PO2h', 'PPO7', 'TTP7h', 'C1', 'AF1h', 'FFT10h', 'T8h', 'PO1h', 'AFp1', 'A2', 'C4h', 'AF6h', 'CPP3h', 'AFF8', 'PPO6', 'FC3', 'AFF6', 'POO3h', 'CP1h', 'AF8', 'Iz', 'FFC4', 'P10h', 'P2h', 'AFp6', 'AFF1h', 'I2', 'TP8', 'TTP9h', 'FFC3', 'POO7', 'FTT9h', 'CCP3h', 'CPP5h', 'AFF2', 'OIz', 'AFp10h', 'AFp10', 'CPP1', 'AF9', 'O2h', 'OI1h', 'C1h', 'PO5h', 'F10', 'POO9h'}\n"
     ]
    },
    {
     "name": "stderr",
     "output_type": "stream",
     "text": [
      "<ipython-input-1-81fa588ad679>:54: RuntimeWarning: 1 channel names are too long, have been truncated to 15 characters:\n",
      "['BothStartLoadPhase']\n",
      "  info = create_info(ch_names,sfreq=500.0,ch_types=ch_type,montage = montage)\n",
      "/home/yaoxiaojian/anaconda3/lib/python3.7/site-packages/scipy/signal/_arraytools.py:45: FutureWarning: Using a non-tuple sequence for multidimensional indexing is deprecated; use `arr[tuple(seq)]` instead of `arr[seq]`. In the future this will be interpreted as an array index, `arr[np.array(seq)]`, which will result either in an error or a different result.\n",
      "  b = a[a_slice]\n",
      "/home/yaoxiaojian/anaconda3/lib/python3.7/site-packages/scipy/signal/_arraytools.py:45: FutureWarning: Using a non-tuple sequence for multidimensional indexing is deprecated; use `arr[tuple(seq)]` instead of `arr[seq]`. In the future this will be interpreted as an array index, `arr[np.array(seq)]`, which will result either in an error or a different result.\n",
      "  b = a[a_slice]\n",
      "/home/yaoxiaojian/anaconda3/lib/python3.7/site-packages/scipy/signal/_arraytools.py:45: FutureWarning: Using a non-tuple sequence for multidimensional indexing is deprecated; use `arr[tuple(seq)]` instead of `arr[seq]`. In the future this will be interpreted as an array index, `arr[np.array(seq)]`, which will result either in an error or a different result.\n",
      "  b = a[a_slice]\n",
      "/home/yaoxiaojian/anaconda3/lib/python3.7/site-packages/scipy/signal/_arraytools.py:45: FutureWarning: Using a non-tuple sequence for multidimensional indexing is deprecated; use `arr[tuple(seq)]` instead of `arr[seq]`. In the future this will be interpreted as an array index, `arr[np.array(seq)]`, which will result either in an error or a different result.\n",
      "  b = a[a_slice]\n",
      "/home/yaoxiaojian/anaconda3/lib/python3.7/site-packages/scipy/signal/_arraytools.py:45: FutureWarning: Using a non-tuple sequence for multidimensional indexing is deprecated; use `arr[tuple(seq)]` instead of `arr[seq]`. In the future this will be interpreted as an array index, `arr[np.array(seq)]`, which will result either in an error or a different result.\n",
      "  b = a[a_slice]\n",
      "/home/yaoxiaojian/anaconda3/lib/python3.7/site-packages/scipy/signal/_arraytools.py:45: FutureWarning: Using a non-tuple sequence for multidimensional indexing is deprecated; use `arr[tuple(seq)]` instead of `arr[seq]`. In the future this will be interpreted as an array index, `arr[np.array(seq)]`, which will result either in an error or a different result.\n",
      "  b = a[a_slice]\n",
      "/home/yaoxiaojian/anaconda3/lib/python3.7/site-packages/scipy/signal/_arraytools.py:45: FutureWarning: Using a non-tuple sequence for multidimensional indexing is deprecated; use `arr[tuple(seq)]` instead of `arr[seq]`. In the future this will be interpreted as an array index, `arr[np.array(seq)]`, which will result either in an error or a different result.\n",
      "  b = a[a_slice]\n",
      "/home/yaoxiaojian/anaconda3/lib/python3.7/site-packages/scipy/signal/_arraytools.py:45: FutureWarning: Using a non-tuple sequence for multidimensional indexing is deprecated; use `arr[tuple(seq)]` instead of `arr[seq]`. In the future this will be interpreted as an array index, `arr[np.array(seq)]`, which will result either in an error or a different result.\n",
      "  b = a[a_slice]\n"
     ]
    },
    {
     "name": "stdout",
     "output_type": "stream",
     "text": [
      "DigMontage is a superset of info. 311 in DigMontage will be ignored. The ignored channels are: {'PPO3h', 'FFC2h', 'PPOz', 'FCC5h', 'POO5h', 'OI2h', 'AFp7', 'AFF10', 'FCC4', 'POz', 'CCP1', 'PPO9', 'FTT8h', 'FFT8', 'FCC3h', 'PPO10h', 'AFF9', 'F9', 'O1h', 'FT10h', 'F3h', 'F6', 'FFC2', 'F2h', 'AFp6h', 'AFpz', 'PPO3', 'PO8', 'FC2h', 'PPO1', 'T4', 'AF9h', 'POO9', 'AFp1h', 'TPP8', 'CCP5h', 'PPO8', 'FCC6', 'AFp4h', 'P1', 'POO8h', 'FT9h', 'FTT7h', 'CPP6h', 'FC4h', 'PPO4', 'Fpz', 'C6h', 'F5h', 'FFT10', 'POO1h', 'FCC2h', 'AFp3h', 'PO8h', 'CPP3', 'PPO5', 'FC5h', 'AF6', 'P6', 'P1h', 'PO4h', 'TTP7', 'FFT9', 'POO4h', 'PO10h', 'AFF9h', 'POO10h', 'PO4', 'F2', 'AFp7h', 'FCz', 'FFC1', 'POO1', 'CPP2h', 'CP4', 'PO2', 'CCP1h', 'C5h', 'I1', 'FFC5h', 'FC6h', 'FT9', 'Fp1h', 'AFF2h', 'FFC3h', 'F7h', 'PPO2', 'FTT8', 'PO9h', 'AF4h', 'F6h', 'AFF4', 'FC1h', 'AFF3h', 'TP8h', 'CPP1h', 'F1', 'AF10h', 'CPPz', 'FCC3', 'TPP7h', 'CCP6h', 'C5', 'T9', 'FCC6h', 'C3h', 'I1h', 'CPP4', 'FT10', 'TPP10h', 'TTP10', 'CPP6', 'FT7h', 'FFC6', 'FCC2', 'AFFz', 'C2h', 'P6h', 'FCC5', 'POO8', 'M2', 'FCC1h', 'POO3', 'AF7', 'TP9h', 'AFF7', 'PPO2h', 'CP6h', 'T7h', 'F9h', 'CPP5', 'TTP9', 'AF3', 'PPO5h', 'PPO6h', 'FT8', 'AFp2', 'AF4', 'PPO10', 'PO5', 'AFp3', 'FCC4h', 'CCP4', 'AFp2h', 'FTT7', 'P9', 'AFF3', 'AF7h', 'CCP5', 'FFT8h', 'FC4', 'AFp8', 'PPO1h', 'AFF1', 'CP5h', 'AF2', 'PPO7h', 'AF5h', 'POO5', 'TPP9', 'CPz', 'FCCz', 'FTT9', 'POO10', 'C6', 'AF8h', 'POO6h', 'POO2h', 'PO7', 'FTT10h', 'TTP10h', 'A1', 'PO1', 'CPP4h', 'CCP3', 'T9h', 'TP7', 'AF1', 'TTP8h', 'CP4h', 'AFF7h', 'F8h', 'POO4', 'FT7', 'PPO4h', 'POOz', 'CP2h', 'AFp8h', 'CCP2', 'FTT10', 'POO6', 'FFC1h', 'T3', 'CCP6', 'TP10h', 'OI1', 'F10h', 'TPP10', 'FFC4h', 'AF5', 'AF10', 'TTP8', 'OI2', 'AF3h', 'AFp5', 'C2', 'I2h', 'FT8h', 'CCPz', 'CCP4h', 'P7h', 'PO7h', 'FFT7h', 'T10', 'PPO8h', 'POO7h', 'AFF5', 'PPO9h', 'T10h', 'F4h', 'FFC5', 'PO6h', 'AFF10h', 'AFF5h', 'T5', 'P5h', 'P10', 'PO6', 'FC3h', 'FFC6h', 'CPP2', 'AF2h', 'CP3h', 'T6', 'CP3', 'M1', 'P2', 'AFp9', 'CCP2h', 'P5', 'F1h', 'TP7h', 'F5', 'P9h', 'P3h', 'AFp9h', 'AFF4h', 'TPP9h', 'POO2', 'P8h', 'FCC1', 'AFp5h', 'TPP8h', 'Fp2h', 'PO3', 'P4h', 'PO3h', 'TPP7', 'AFp4', 'FFCz', 'AFz', 'FFT7', 'AFF6h', 'AFF8h', 'FFT9h', 'PO2h', 'PPO7', 'TTP7h', 'C1', 'AF1h', 'FFT10h', 'T8h', 'PO1h', 'AFp1', 'A2', 'C4h', 'AF6h', 'CPP3h', 'AFF8', 'PPO6', 'FC3', 'AFF6', 'POO3h', 'CP1h', 'AF8', 'Iz', 'FFC4', 'P10h', 'P2h', 'AFp6', 'AFF1h', 'I2', 'TP8', 'TTP9h', 'FFC3', 'POO7', 'FTT9h', 'CCP3h', 'CPP5h', 'AFF2', 'OIz', 'AFp10h', 'AFp10', 'CPP1', 'AF9', 'O2h', 'OI1h', 'C1h', 'PO5h', 'F10', 'POO9h'}\n"
     ]
    },
    {
     "name": "stderr",
     "output_type": "stream",
     "text": [
      "<ipython-input-1-81fa588ad679>:54: RuntimeWarning: 1 channel names are too long, have been truncated to 15 characters:\n",
      "['BothStartLoadPhase']\n",
      "  info = create_info(ch_names,sfreq=500.0,ch_types=ch_type,montage = montage)\n",
      "/home/yaoxiaojian/anaconda3/lib/python3.7/site-packages/scipy/signal/_arraytools.py:45: FutureWarning: Using a non-tuple sequence for multidimensional indexing is deprecated; use `arr[tuple(seq)]` instead of `arr[seq]`. In the future this will be interpreted as an array index, `arr[np.array(seq)]`, which will result either in an error or a different result.\n",
      "  b = a[a_slice]\n",
      "/home/yaoxiaojian/anaconda3/lib/python3.7/site-packages/scipy/signal/_arraytools.py:45: FutureWarning: Using a non-tuple sequence for multidimensional indexing is deprecated; use `arr[tuple(seq)]` instead of `arr[seq]`. In the future this will be interpreted as an array index, `arr[np.array(seq)]`, which will result either in an error or a different result.\n",
      "  b = a[a_slice]\n",
      "/home/yaoxiaojian/anaconda3/lib/python3.7/site-packages/scipy/signal/_arraytools.py:45: FutureWarning: Using a non-tuple sequence for multidimensional indexing is deprecated; use `arr[tuple(seq)]` instead of `arr[seq]`. In the future this will be interpreted as an array index, `arr[np.array(seq)]`, which will result either in an error or a different result.\n",
      "  b = a[a_slice]\n",
      "/home/yaoxiaojian/anaconda3/lib/python3.7/site-packages/scipy/signal/_arraytools.py:45: FutureWarning: Using a non-tuple sequence for multidimensional indexing is deprecated; use `arr[tuple(seq)]` instead of `arr[seq]`. In the future this will be interpreted as an array index, `arr[np.array(seq)]`, which will result either in an error or a different result.\n",
      "  b = a[a_slice]\n",
      "/home/yaoxiaojian/anaconda3/lib/python3.7/site-packages/scipy/signal/_arraytools.py:45: FutureWarning: Using a non-tuple sequence for multidimensional indexing is deprecated; use `arr[tuple(seq)]` instead of `arr[seq]`. In the future this will be interpreted as an array index, `arr[np.array(seq)]`, which will result either in an error or a different result.\n",
      "  b = a[a_slice]\n",
      "/home/yaoxiaojian/anaconda3/lib/python3.7/site-packages/scipy/signal/_arraytools.py:45: FutureWarning: Using a non-tuple sequence for multidimensional indexing is deprecated; use `arr[tuple(seq)]` instead of `arr[seq]`. In the future this will be interpreted as an array index, `arr[np.array(seq)]`, which will result either in an error or a different result.\n",
      "  b = a[a_slice]\n",
      "/home/yaoxiaojian/anaconda3/lib/python3.7/site-packages/scipy/signal/_arraytools.py:45: FutureWarning: Using a non-tuple sequence for multidimensional indexing is deprecated; use `arr[tuple(seq)]` instead of `arr[seq]`. In the future this will be interpreted as an array index, `arr[np.array(seq)]`, which will result either in an error or a different result.\n",
      "  b = a[a_slice]\n",
      "/home/yaoxiaojian/anaconda3/lib/python3.7/site-packages/scipy/signal/_arraytools.py:45: FutureWarning: Using a non-tuple sequence for multidimensional indexing is deprecated; use `arr[tuple(seq)]` instead of `arr[seq]`. In the future this will be interpreted as an array index, `arr[np.array(seq)]`, which will result either in an error or a different result.\n",
      "  b = a[a_slice]\n"
     ]
    },
    {
     "name": "stdout",
     "output_type": "stream",
     "text": [
      "DigMontage is a superset of info. 311 in DigMontage will be ignored. The ignored channels are: {'PPO3h', 'FFC2h', 'PPOz', 'FCC5h', 'POO5h', 'OI2h', 'AFp7', 'AFF10', 'FCC4', 'POz', 'CCP1', 'PPO9', 'FTT8h', 'FFT8', 'FCC3h', 'PPO10h', 'AFF9', 'F9', 'O1h', 'FT10h', 'F3h', 'F6', 'FFC2', 'F2h', 'AFp6h', 'AFpz', 'PPO3', 'PO8', 'FC2h', 'PPO1', 'T4', 'AF9h', 'POO9', 'AFp1h', 'TPP8', 'CCP5h', 'PPO8', 'FCC6', 'AFp4h', 'P1', 'POO8h', 'FT9h', 'FTT7h', 'CPP6h', 'FC4h', 'PPO4', 'Fpz', 'C6h', 'F5h', 'FFT10', 'POO1h', 'FCC2h', 'AFp3h', 'PO8h', 'CPP3', 'PPO5', 'FC5h', 'AF6', 'P6', 'P1h', 'PO4h', 'TTP7', 'FFT9', 'POO4h', 'PO10h', 'AFF9h', 'POO10h', 'PO4', 'F2', 'AFp7h', 'FCz', 'FFC1', 'POO1', 'CPP2h', 'CP4', 'PO2', 'CCP1h', 'C5h', 'I1', 'FFC5h', 'FC6h', 'FT9', 'Fp1h', 'AFF2h', 'FFC3h', 'F7h', 'PPO2', 'FTT8', 'PO9h', 'AF4h', 'F6h', 'AFF4', 'FC1h', 'AFF3h', 'TP8h', 'CPP1h', 'F1', 'AF10h', 'CPPz', 'FCC3', 'TPP7h', 'CCP6h', 'C5', 'T9', 'FCC6h', 'C3h', 'I1h', 'CPP4', 'FT10', 'TPP10h', 'TTP10', 'CPP6', 'FT7h', 'FFC6', 'FCC2', 'AFFz', 'C2h', 'P6h', 'FCC5', 'POO8', 'M2', 'FCC1h', 'POO3', 'AF7', 'TP9h', 'AFF7', 'PPO2h', 'CP6h', 'T7h', 'F9h', 'CPP5', 'TTP9', 'AF3', 'PPO5h', 'PPO6h', 'FT8', 'AFp2', 'AF4', 'PPO10', 'PO5', 'AFp3', 'FCC4h', 'CCP4', 'AFp2h', 'FTT7', 'P9', 'AFF3', 'AF7h', 'CCP5', 'FFT8h', 'FC4', 'AFp8', 'PPO1h', 'AFF1', 'CP5h', 'AF2', 'PPO7h', 'AF5h', 'POO5', 'TPP9', 'CPz', 'FCCz', 'FTT9', 'POO10', 'C6', 'AF8h', 'POO6h', 'POO2h', 'PO7', 'FTT10h', 'TTP10h', 'A1', 'PO1', 'CPP4h', 'CCP3', 'T9h', 'TP7', 'AF1', 'TTP8h', 'CP4h', 'AFF7h', 'F8h', 'POO4', 'FT7', 'PPO4h', 'POOz', 'CP2h', 'AFp8h', 'CCP2', 'FTT10', 'POO6', 'FFC1h', 'T3', 'CCP6', 'TP10h', 'OI1', 'F10h', 'TPP10', 'FFC4h', 'AF5', 'AF10', 'TTP8', 'OI2', 'AF3h', 'AFp5', 'C2', 'I2h', 'FT8h', 'CCPz', 'CCP4h', 'P7h', 'PO7h', 'FFT7h', 'T10', 'PPO8h', 'POO7h', 'AFF5', 'PPO9h', 'T10h', 'F4h', 'FFC5', 'PO6h', 'AFF10h', 'AFF5h', 'T5', 'P5h', 'P10', 'PO6', 'FC3h', 'FFC6h', 'CPP2', 'AF2h', 'CP3h', 'T6', 'CP3', 'M1', 'P2', 'AFp9', 'CCP2h', 'P5', 'F1h', 'TP7h', 'F5', 'P9h', 'P3h', 'AFp9h', 'AFF4h', 'TPP9h', 'POO2', 'P8h', 'FCC1', 'AFp5h', 'TPP8h', 'Fp2h', 'PO3', 'P4h', 'PO3h', 'TPP7', 'AFp4', 'FFCz', 'AFz', 'FFT7', 'AFF6h', 'AFF8h', 'FFT9h', 'PO2h', 'PPO7', 'TTP7h', 'C1', 'AF1h', 'FFT10h', 'T8h', 'PO1h', 'AFp1', 'A2', 'C4h', 'AF6h', 'CPP3h', 'AFF8', 'PPO6', 'FC3', 'AFF6', 'POO3h', 'CP1h', 'AF8', 'Iz', 'FFC4', 'P10h', 'P2h', 'AFp6', 'AFF1h', 'I2', 'TP8', 'TTP9h', 'FFC3', 'POO7', 'FTT9h', 'CCP3h', 'CPP5h', 'AFF2', 'OIz', 'AFp10h', 'AFp10', 'CPP1', 'AF9', 'O2h', 'OI1h', 'C1h', 'PO5h', 'F10', 'POO9h'}\n"
     ]
    },
    {
     "name": "stderr",
     "output_type": "stream",
     "text": [
      "<ipython-input-1-81fa588ad679>:54: RuntimeWarning: 1 channel names are too long, have been truncated to 15 characters:\n",
      "['BothStartLoadPhase']\n",
      "  info = create_info(ch_names,sfreq=500.0,ch_types=ch_type,montage = montage)\n",
      "/home/yaoxiaojian/anaconda3/lib/python3.7/site-packages/scipy/signal/_arraytools.py:45: FutureWarning: Using a non-tuple sequence for multidimensional indexing is deprecated; use `arr[tuple(seq)]` instead of `arr[seq]`. In the future this will be interpreted as an array index, `arr[np.array(seq)]`, which will result either in an error or a different result.\n",
      "  b = a[a_slice]\n",
      "/home/yaoxiaojian/anaconda3/lib/python3.7/site-packages/scipy/signal/_arraytools.py:45: FutureWarning: Using a non-tuple sequence for multidimensional indexing is deprecated; use `arr[tuple(seq)]` instead of `arr[seq]`. In the future this will be interpreted as an array index, `arr[np.array(seq)]`, which will result either in an error or a different result.\n",
      "  b = a[a_slice]\n",
      "/home/yaoxiaojian/anaconda3/lib/python3.7/site-packages/scipy/signal/_arraytools.py:45: FutureWarning: Using a non-tuple sequence for multidimensional indexing is deprecated; use `arr[tuple(seq)]` instead of `arr[seq]`. In the future this will be interpreted as an array index, `arr[np.array(seq)]`, which will result either in an error or a different result.\n",
      "  b = a[a_slice]\n",
      "/home/yaoxiaojian/anaconda3/lib/python3.7/site-packages/scipy/signal/_arraytools.py:45: FutureWarning: Using a non-tuple sequence for multidimensional indexing is deprecated; use `arr[tuple(seq)]` instead of `arr[seq]`. In the future this will be interpreted as an array index, `arr[np.array(seq)]`, which will result either in an error or a different result.\n",
      "  b = a[a_slice]\n",
      "/home/yaoxiaojian/anaconda3/lib/python3.7/site-packages/scipy/signal/_arraytools.py:45: FutureWarning: Using a non-tuple sequence for multidimensional indexing is deprecated; use `arr[tuple(seq)]` instead of `arr[seq]`. In the future this will be interpreted as an array index, `arr[np.array(seq)]`, which will result either in an error or a different result.\n",
      "  b = a[a_slice]\n",
      "/home/yaoxiaojian/anaconda3/lib/python3.7/site-packages/scipy/signal/_arraytools.py:45: FutureWarning: Using a non-tuple sequence for multidimensional indexing is deprecated; use `arr[tuple(seq)]` instead of `arr[seq]`. In the future this will be interpreted as an array index, `arr[np.array(seq)]`, which will result either in an error or a different result.\n",
      "  b = a[a_slice]\n",
      "/home/yaoxiaojian/anaconda3/lib/python3.7/site-packages/scipy/signal/_arraytools.py:45: FutureWarning: Using a non-tuple sequence for multidimensional indexing is deprecated; use `arr[tuple(seq)]` instead of `arr[seq]`. In the future this will be interpreted as an array index, `arr[np.array(seq)]`, which will result either in an error or a different result.\n",
      "  b = a[a_slice]\n",
      "/home/yaoxiaojian/anaconda3/lib/python3.7/site-packages/scipy/signal/_arraytools.py:45: FutureWarning: Using a non-tuple sequence for multidimensional indexing is deprecated; use `arr[tuple(seq)]` instead of `arr[seq]`. In the future this will be interpreted as an array index, `arr[np.array(seq)]`, which will result either in an error or a different result.\n",
      "  b = a[a_slice]\n"
     ]
    },
    {
     "name": "stdout",
     "output_type": "stream",
     "text": [
      "DigMontage is a superset of info. 311 in DigMontage will be ignored. The ignored channels are: {'PPO3h', 'FFC2h', 'PPOz', 'FCC5h', 'POO5h', 'OI2h', 'AFp7', 'AFF10', 'FCC4', 'POz', 'CCP1', 'PPO9', 'FTT8h', 'FFT8', 'FCC3h', 'PPO10h', 'AFF9', 'F9', 'O1h', 'FT10h', 'F3h', 'F6', 'FFC2', 'F2h', 'AFp6h', 'AFpz', 'PPO3', 'PO8', 'FC2h', 'PPO1', 'T4', 'AF9h', 'POO9', 'AFp1h', 'TPP8', 'CCP5h', 'PPO8', 'FCC6', 'AFp4h', 'P1', 'POO8h', 'FT9h', 'FTT7h', 'CPP6h', 'FC4h', 'PPO4', 'Fpz', 'C6h', 'F5h', 'FFT10', 'POO1h', 'FCC2h', 'AFp3h', 'PO8h', 'CPP3', 'PPO5', 'FC5h', 'AF6', 'P6', 'P1h', 'PO4h', 'TTP7', 'FFT9', 'POO4h', 'PO10h', 'AFF9h', 'POO10h', 'PO4', 'F2', 'AFp7h', 'FCz', 'FFC1', 'POO1', 'CPP2h', 'CP4', 'PO2', 'CCP1h', 'C5h', 'I1', 'FFC5h', 'FC6h', 'FT9', 'Fp1h', 'AFF2h', 'FFC3h', 'F7h', 'PPO2', 'FTT8', 'PO9h', 'AF4h', 'F6h', 'AFF4', 'FC1h', 'AFF3h', 'TP8h', 'CPP1h', 'F1', 'AF10h', 'CPPz', 'FCC3', 'TPP7h', 'CCP6h', 'C5', 'T9', 'FCC6h', 'C3h', 'I1h', 'CPP4', 'FT10', 'TPP10h', 'TTP10', 'CPP6', 'FT7h', 'FFC6', 'FCC2', 'AFFz', 'C2h', 'P6h', 'FCC5', 'POO8', 'M2', 'FCC1h', 'POO3', 'AF7', 'TP9h', 'AFF7', 'PPO2h', 'CP6h', 'T7h', 'F9h', 'CPP5', 'TTP9', 'AF3', 'PPO5h', 'PPO6h', 'FT8', 'AFp2', 'AF4', 'PPO10', 'PO5', 'AFp3', 'FCC4h', 'CCP4', 'AFp2h', 'FTT7', 'P9', 'AFF3', 'AF7h', 'CCP5', 'FFT8h', 'FC4', 'AFp8', 'PPO1h', 'AFF1', 'CP5h', 'AF2', 'PPO7h', 'AF5h', 'POO5', 'TPP9', 'CPz', 'FCCz', 'FTT9', 'POO10', 'C6', 'AF8h', 'POO6h', 'POO2h', 'PO7', 'FTT10h', 'TTP10h', 'A1', 'PO1', 'CPP4h', 'CCP3', 'T9h', 'TP7', 'AF1', 'TTP8h', 'CP4h', 'AFF7h', 'F8h', 'POO4', 'FT7', 'PPO4h', 'POOz', 'CP2h', 'AFp8h', 'CCP2', 'FTT10', 'POO6', 'FFC1h', 'T3', 'CCP6', 'TP10h', 'OI1', 'F10h', 'TPP10', 'FFC4h', 'AF5', 'AF10', 'TTP8', 'OI2', 'AF3h', 'AFp5', 'C2', 'I2h', 'FT8h', 'CCPz', 'CCP4h', 'P7h', 'PO7h', 'FFT7h', 'T10', 'PPO8h', 'POO7h', 'AFF5', 'PPO9h', 'T10h', 'F4h', 'FFC5', 'PO6h', 'AFF10h', 'AFF5h', 'T5', 'P5h', 'P10', 'PO6', 'FC3h', 'FFC6h', 'CPP2', 'AF2h', 'CP3h', 'T6', 'CP3', 'M1', 'P2', 'AFp9', 'CCP2h', 'P5', 'F1h', 'TP7h', 'F5', 'P9h', 'P3h', 'AFp9h', 'AFF4h', 'TPP9h', 'POO2', 'P8h', 'FCC1', 'AFp5h', 'TPP8h', 'Fp2h', 'PO3', 'P4h', 'PO3h', 'TPP7', 'AFp4', 'FFCz', 'AFz', 'FFT7', 'AFF6h', 'AFF8h', 'FFT9h', 'PO2h', 'PPO7', 'TTP7h', 'C1', 'AF1h', 'FFT10h', 'T8h', 'PO1h', 'AFp1', 'A2', 'C4h', 'AF6h', 'CPP3h', 'AFF8', 'PPO6', 'FC3', 'AFF6', 'POO3h', 'CP1h', 'AF8', 'Iz', 'FFC4', 'P10h', 'P2h', 'AFp6', 'AFF1h', 'I2', 'TP8', 'TTP9h', 'FFC3', 'POO7', 'FTT9h', 'CCP3h', 'CPP5h', 'AFF2', 'OIz', 'AFp10h', 'AFp10', 'CPP1', 'AF9', 'O2h', 'OI1h', 'C1h', 'PO5h', 'F10', 'POO9h'}\n"
     ]
    },
    {
     "name": "stderr",
     "output_type": "stream",
     "text": [
      "<ipython-input-1-81fa588ad679>:54: RuntimeWarning: 1 channel names are too long, have been truncated to 15 characters:\n",
      "['BothStartLoadPhase']\n",
      "  info = create_info(ch_names,sfreq=500.0,ch_types=ch_type,montage = montage)\n",
      "/home/yaoxiaojian/anaconda3/lib/python3.7/site-packages/scipy/signal/_arraytools.py:45: FutureWarning: Using a non-tuple sequence for multidimensional indexing is deprecated; use `arr[tuple(seq)]` instead of `arr[seq]`. In the future this will be interpreted as an array index, `arr[np.array(seq)]`, which will result either in an error or a different result.\n",
      "  b = a[a_slice]\n",
      "/home/yaoxiaojian/anaconda3/lib/python3.7/site-packages/scipy/signal/_arraytools.py:45: FutureWarning: Using a non-tuple sequence for multidimensional indexing is deprecated; use `arr[tuple(seq)]` instead of `arr[seq]`. In the future this will be interpreted as an array index, `arr[np.array(seq)]`, which will result either in an error or a different result.\n",
      "  b = a[a_slice]\n",
      "/home/yaoxiaojian/anaconda3/lib/python3.7/site-packages/scipy/signal/_arraytools.py:45: FutureWarning: Using a non-tuple sequence for multidimensional indexing is deprecated; use `arr[tuple(seq)]` instead of `arr[seq]`. In the future this will be interpreted as an array index, `arr[np.array(seq)]`, which will result either in an error or a different result.\n",
      "  b = a[a_slice]\n",
      "/home/yaoxiaojian/anaconda3/lib/python3.7/site-packages/scipy/signal/_arraytools.py:45: FutureWarning: Using a non-tuple sequence for multidimensional indexing is deprecated; use `arr[tuple(seq)]` instead of `arr[seq]`. In the future this will be interpreted as an array index, `arr[np.array(seq)]`, which will result either in an error or a different result.\n",
      "  b = a[a_slice]\n",
      "/home/yaoxiaojian/anaconda3/lib/python3.7/site-packages/scipy/signal/_arraytools.py:45: FutureWarning: Using a non-tuple sequence for multidimensional indexing is deprecated; use `arr[tuple(seq)]` instead of `arr[seq]`. In the future this will be interpreted as an array index, `arr[np.array(seq)]`, which will result either in an error or a different result.\n",
      "  b = a[a_slice]\n",
      "/home/yaoxiaojian/anaconda3/lib/python3.7/site-packages/scipy/signal/_arraytools.py:45: FutureWarning: Using a non-tuple sequence for multidimensional indexing is deprecated; use `arr[tuple(seq)]` instead of `arr[seq]`. In the future this will be interpreted as an array index, `arr[np.array(seq)]`, which will result either in an error or a different result.\n",
      "  b = a[a_slice]\n",
      "/home/yaoxiaojian/anaconda3/lib/python3.7/site-packages/scipy/signal/_arraytools.py:45: FutureWarning: Using a non-tuple sequence for multidimensional indexing is deprecated; use `arr[tuple(seq)]` instead of `arr[seq]`. In the future this will be interpreted as an array index, `arr[np.array(seq)]`, which will result either in an error or a different result.\n",
      "  b = a[a_slice]\n",
      "/home/yaoxiaojian/anaconda3/lib/python3.7/site-packages/scipy/signal/_arraytools.py:45: FutureWarning: Using a non-tuple sequence for multidimensional indexing is deprecated; use `arr[tuple(seq)]` instead of `arr[seq]`. In the future this will be interpreted as an array index, `arr[np.array(seq)]`, which will result either in an error or a different result.\n",
      "  b = a[a_slice]\n"
     ]
    },
    {
     "name": "stdout",
     "output_type": "stream",
     "text": [
      "DigMontage is a superset of info. 311 in DigMontage will be ignored. The ignored channels are: {'PPO3h', 'FFC2h', 'PPOz', 'FCC5h', 'POO5h', 'OI2h', 'AFp7', 'AFF10', 'FCC4', 'POz', 'CCP1', 'PPO9', 'FTT8h', 'FFT8', 'FCC3h', 'PPO10h', 'AFF9', 'F9', 'O1h', 'FT10h', 'F3h', 'F6', 'FFC2', 'F2h', 'AFp6h', 'AFpz', 'PPO3', 'PO8', 'FC2h', 'PPO1', 'T4', 'AF9h', 'POO9', 'AFp1h', 'TPP8', 'CCP5h', 'PPO8', 'FCC6', 'AFp4h', 'P1', 'POO8h', 'FT9h', 'FTT7h', 'CPP6h', 'FC4h', 'PPO4', 'Fpz', 'C6h', 'F5h', 'FFT10', 'POO1h', 'FCC2h', 'AFp3h', 'PO8h', 'CPP3', 'PPO5', 'FC5h', 'AF6', 'P6', 'P1h', 'PO4h', 'TTP7', 'FFT9', 'POO4h', 'PO10h', 'AFF9h', 'POO10h', 'PO4', 'F2', 'AFp7h', 'FCz', 'FFC1', 'POO1', 'CPP2h', 'CP4', 'PO2', 'CCP1h', 'C5h', 'I1', 'FFC5h', 'FC6h', 'FT9', 'Fp1h', 'AFF2h', 'FFC3h', 'F7h', 'PPO2', 'FTT8', 'PO9h', 'AF4h', 'F6h', 'AFF4', 'FC1h', 'AFF3h', 'TP8h', 'CPP1h', 'F1', 'AF10h', 'CPPz', 'FCC3', 'TPP7h', 'CCP6h', 'C5', 'T9', 'FCC6h', 'C3h', 'I1h', 'CPP4', 'FT10', 'TPP10h', 'TTP10', 'CPP6', 'FT7h', 'FFC6', 'FCC2', 'AFFz', 'C2h', 'P6h', 'FCC5', 'POO8', 'M2', 'FCC1h', 'POO3', 'AF7', 'TP9h', 'AFF7', 'PPO2h', 'CP6h', 'T7h', 'F9h', 'CPP5', 'TTP9', 'AF3', 'PPO5h', 'PPO6h', 'FT8', 'AFp2', 'AF4', 'PPO10', 'PO5', 'AFp3', 'FCC4h', 'CCP4', 'AFp2h', 'FTT7', 'P9', 'AFF3', 'AF7h', 'CCP5', 'FFT8h', 'FC4', 'AFp8', 'PPO1h', 'AFF1', 'CP5h', 'AF2', 'PPO7h', 'AF5h', 'POO5', 'TPP9', 'CPz', 'FCCz', 'FTT9', 'POO10', 'C6', 'AF8h', 'POO6h', 'POO2h', 'PO7', 'FTT10h', 'TTP10h', 'A1', 'PO1', 'CPP4h', 'CCP3', 'T9h', 'TP7', 'AF1', 'TTP8h', 'CP4h', 'AFF7h', 'F8h', 'POO4', 'FT7', 'PPO4h', 'POOz', 'CP2h', 'AFp8h', 'CCP2', 'FTT10', 'POO6', 'FFC1h', 'T3', 'CCP6', 'TP10h', 'OI1', 'F10h', 'TPP10', 'FFC4h', 'AF5', 'AF10', 'TTP8', 'OI2', 'AF3h', 'AFp5', 'C2', 'I2h', 'FT8h', 'CCPz', 'CCP4h', 'P7h', 'PO7h', 'FFT7h', 'T10', 'PPO8h', 'POO7h', 'AFF5', 'PPO9h', 'T10h', 'F4h', 'FFC5', 'PO6h', 'AFF10h', 'AFF5h', 'T5', 'P5h', 'P10', 'PO6', 'FC3h', 'FFC6h', 'CPP2', 'AF2h', 'CP3h', 'T6', 'CP3', 'M1', 'P2', 'AFp9', 'CCP2h', 'P5', 'F1h', 'TP7h', 'F5', 'P9h', 'P3h', 'AFp9h', 'AFF4h', 'TPP9h', 'POO2', 'P8h', 'FCC1', 'AFp5h', 'TPP8h', 'Fp2h', 'PO3', 'P4h', 'PO3h', 'TPP7', 'AFp4', 'FFCz', 'AFz', 'FFT7', 'AFF6h', 'AFF8h', 'FFT9h', 'PO2h', 'PPO7', 'TTP7h', 'C1', 'AF1h', 'FFT10h', 'T8h', 'PO1h', 'AFp1', 'A2', 'C4h', 'AF6h', 'CPP3h', 'AFF8', 'PPO6', 'FC3', 'AFF6', 'POO3h', 'CP1h', 'AF8', 'Iz', 'FFC4', 'P10h', 'P2h', 'AFp6', 'AFF1h', 'I2', 'TP8', 'TTP9h', 'FFC3', 'POO7', 'FTT9h', 'CCP3h', 'CPP5h', 'AFF2', 'OIz', 'AFp10h', 'AFp10', 'CPP1', 'AF9', 'O2h', 'OI1h', 'C1h', 'PO5h', 'F10', 'POO9h'}\n"
     ]
    },
    {
     "name": "stderr",
     "output_type": "stream",
     "text": [
      "<ipython-input-1-81fa588ad679>:54: RuntimeWarning: 1 channel names are too long, have been truncated to 15 characters:\n",
      "['BothStartLoadPhase']\n",
      "  info = create_info(ch_names,sfreq=500.0,ch_types=ch_type,montage = montage)\n",
      "/home/yaoxiaojian/anaconda3/lib/python3.7/site-packages/scipy/signal/_arraytools.py:45: FutureWarning: Using a non-tuple sequence for multidimensional indexing is deprecated; use `arr[tuple(seq)]` instead of `arr[seq]`. In the future this will be interpreted as an array index, `arr[np.array(seq)]`, which will result either in an error or a different result.\n",
      "  b = a[a_slice]\n",
      "/home/yaoxiaojian/anaconda3/lib/python3.7/site-packages/scipy/signal/_arraytools.py:45: FutureWarning: Using a non-tuple sequence for multidimensional indexing is deprecated; use `arr[tuple(seq)]` instead of `arr[seq]`. In the future this will be interpreted as an array index, `arr[np.array(seq)]`, which will result either in an error or a different result.\n",
      "  b = a[a_slice]\n",
      "/home/yaoxiaojian/anaconda3/lib/python3.7/site-packages/scipy/signal/_arraytools.py:45: FutureWarning: Using a non-tuple sequence for multidimensional indexing is deprecated; use `arr[tuple(seq)]` instead of `arr[seq]`. In the future this will be interpreted as an array index, `arr[np.array(seq)]`, which will result either in an error or a different result.\n",
      "  b = a[a_slice]\n",
      "/home/yaoxiaojian/anaconda3/lib/python3.7/site-packages/scipy/signal/_arraytools.py:45: FutureWarning: Using a non-tuple sequence for multidimensional indexing is deprecated; use `arr[tuple(seq)]` instead of `arr[seq]`. In the future this will be interpreted as an array index, `arr[np.array(seq)]`, which will result either in an error or a different result.\n",
      "  b = a[a_slice]\n",
      "/home/yaoxiaojian/anaconda3/lib/python3.7/site-packages/scipy/signal/_arraytools.py:45: FutureWarning: Using a non-tuple sequence for multidimensional indexing is deprecated; use `arr[tuple(seq)]` instead of `arr[seq]`. In the future this will be interpreted as an array index, `arr[np.array(seq)]`, which will result either in an error or a different result.\n",
      "  b = a[a_slice]\n",
      "/home/yaoxiaojian/anaconda3/lib/python3.7/site-packages/scipy/signal/_arraytools.py:45: FutureWarning: Using a non-tuple sequence for multidimensional indexing is deprecated; use `arr[tuple(seq)]` instead of `arr[seq]`. In the future this will be interpreted as an array index, `arr[np.array(seq)]`, which will result either in an error or a different result.\n",
      "  b = a[a_slice]\n",
      "/home/yaoxiaojian/anaconda3/lib/python3.7/site-packages/scipy/signal/_arraytools.py:45: FutureWarning: Using a non-tuple sequence for multidimensional indexing is deprecated; use `arr[tuple(seq)]` instead of `arr[seq]`. In the future this will be interpreted as an array index, `arr[np.array(seq)]`, which will result either in an error or a different result.\n",
      "  b = a[a_slice]\n",
      "/home/yaoxiaojian/anaconda3/lib/python3.7/site-packages/scipy/signal/_arraytools.py:45: FutureWarning: Using a non-tuple sequence for multidimensional indexing is deprecated; use `arr[tuple(seq)]` instead of `arr[seq]`. In the future this will be interpreted as an array index, `arr[np.array(seq)]`, which will result either in an error or a different result.\n",
      "  b = a[a_slice]\n"
     ]
    },
    {
     "name": "stdout",
     "output_type": "stream",
     "text": [
      "subject 1 (1560, 64, 751)\n",
      "data stack shape: (1560, 64, 751) (1560,)\n",
      "DigMontage is a superset of info. 311 in DigMontage will be ignored. The ignored channels are: {'PPO3h', 'FFC2h', 'PPOz', 'FCC5h', 'POO5h', 'OI2h', 'AFp7', 'AFF10', 'FCC4', 'POz', 'CCP1', 'PPO9', 'FTT8h', 'FFT8', 'FCC3h', 'PPO10h', 'AFF9', 'F9', 'O1h', 'FT10h', 'F3h', 'F6', 'FFC2', 'F2h', 'AFp6h', 'AFpz', 'PPO3', 'PO8', 'FC2h', 'PPO1', 'T4', 'AF9h', 'POO9', 'AFp1h', 'TPP8', 'CCP5h', 'PPO8', 'FCC6', 'AFp4h', 'P1', 'POO8h', 'FT9h', 'FTT7h', 'CPP6h', 'FC4h', 'PPO4', 'Fpz', 'C6h', 'F5h', 'FFT10', 'POO1h', 'FCC2h', 'AFp3h', 'PO8h', 'CPP3', 'PPO5', 'FC5h', 'AF6', 'P6', 'P1h', 'PO4h', 'TTP7', 'FFT9', 'POO4h', 'PO10h', 'AFF9h', 'POO10h', 'PO4', 'F2', 'AFp7h', 'FCz', 'FFC1', 'POO1', 'CPP2h', 'CP4', 'PO2', 'CCP1h', 'C5h', 'I1', 'FFC5h', 'FC6h', 'FT9', 'Fp1h', 'AFF2h', 'FFC3h', 'F7h', 'PPO2', 'FTT8', 'PO9h', 'AF4h', 'F6h', 'AFF4', 'FC1h', 'AFF3h', 'TP8h', 'CPP1h', 'F1', 'AF10h', 'CPPz', 'FCC3', 'TPP7h', 'CCP6h', 'C5', 'T9', 'FCC6h', 'C3h', 'I1h', 'CPP4', 'FT10', 'TPP10h', 'TTP10', 'CPP6', 'FT7h', 'FFC6', 'FCC2', 'AFFz', 'C2h', 'P6h', 'FCC5', 'POO8', 'M2', 'FCC1h', 'POO3', 'AF7', 'TP9h', 'AFF7', 'PPO2h', 'CP6h', 'T7h', 'F9h', 'CPP5', 'TTP9', 'AF3', 'PPO5h', 'PPO6h', 'FT8', 'AFp2', 'AF4', 'PPO10', 'PO5', 'AFp3', 'FCC4h', 'CCP4', 'AFp2h', 'FTT7', 'P9', 'AFF3', 'AF7h', 'CCP5', 'FFT8h', 'FC4', 'AFp8', 'PPO1h', 'AFF1', 'CP5h', 'AF2', 'PPO7h', 'AF5h', 'POO5', 'TPP9', 'CPz', 'FCCz', 'FTT9', 'POO10', 'C6', 'AF8h', 'POO6h', 'POO2h', 'PO7', 'FTT10h', 'TTP10h', 'A1', 'PO1', 'CPP4h', 'CCP3', 'T9h', 'TP7', 'AF1', 'TTP8h', 'CP4h', 'AFF7h', 'F8h', 'POO4', 'FT7', 'PPO4h', 'POOz', 'CP2h', 'AFp8h', 'CCP2', 'FTT10', 'POO6', 'FFC1h', 'T3', 'CCP6', 'TP10h', 'OI1', 'F10h', 'TPP10', 'FFC4h', 'AF5', 'AF10', 'TTP8', 'OI2', 'AF3h', 'AFp5', 'C2', 'I2h', 'FT8h', 'CCPz', 'CCP4h', 'P7h', 'PO7h', 'FFT7h', 'T10', 'PPO8h', 'POO7h', 'AFF5', 'PPO9h', 'T10h', 'F4h', 'FFC5', 'PO6h', 'AFF10h', 'AFF5h', 'T5', 'P5h', 'P10', 'PO6', 'FC3h', 'FFC6h', 'CPP2', 'AF2h', 'CP3h', 'T6', 'CP3', 'M1', 'P2', 'AFp9', 'CCP2h', 'P5', 'F1h', 'TP7h', 'F5', 'P9h', 'P3h', 'AFp9h', 'AFF4h', 'TPP9h', 'POO2', 'P8h', 'FCC1', 'AFp5h', 'TPP8h', 'Fp2h', 'PO3', 'P4h', 'PO3h', 'TPP7', 'AFp4', 'FFCz', 'AFz', 'FFT7', 'AFF6h', 'AFF8h', 'FFT9h', 'PO2h', 'PPO7', 'TTP7h', 'C1', 'AF1h', 'FFT10h', 'T8h', 'PO1h', 'AFp1', 'A2', 'C4h', 'AF6h', 'CPP3h', 'AFF8', 'PPO6', 'FC3', 'AFF6', 'POO3h', 'CP1h', 'AF8', 'Iz', 'FFC4', 'P10h', 'P2h', 'AFp6', 'AFF1h', 'I2', 'TP8', 'TTP9h', 'FFC3', 'POO7', 'FTT9h', 'CCP3h', 'CPP5h', 'AFF2', 'OIz', 'AFp10h', 'AFp10', 'CPP1', 'AF9', 'O2h', 'OI1h', 'C1h', 'PO5h', 'F10', 'POO9h'}\n"
     ]
    },
    {
     "name": "stderr",
     "output_type": "stream",
     "text": [
      "<ipython-input-1-81fa588ad679>:54: RuntimeWarning: 1 channel names are too long, have been truncated to 15 characters:\n",
      "['BothStartLoadPhase']\n",
      "  info = create_info(ch_names,sfreq=500.0,ch_types=ch_type,montage = montage)\n",
      "/home/yaoxiaojian/anaconda3/lib/python3.7/site-packages/scipy/signal/_arraytools.py:45: FutureWarning: Using a non-tuple sequence for multidimensional indexing is deprecated; use `arr[tuple(seq)]` instead of `arr[seq]`. In the future this will be interpreted as an array index, `arr[np.array(seq)]`, which will result either in an error or a different result.\n",
      "  b = a[a_slice]\n",
      "/home/yaoxiaojian/anaconda3/lib/python3.7/site-packages/scipy/signal/_arraytools.py:45: FutureWarning: Using a non-tuple sequence for multidimensional indexing is deprecated; use `arr[tuple(seq)]` instead of `arr[seq]`. In the future this will be interpreted as an array index, `arr[np.array(seq)]`, which will result either in an error or a different result.\n",
      "  b = a[a_slice]\n",
      "/home/yaoxiaojian/anaconda3/lib/python3.7/site-packages/scipy/signal/_arraytools.py:45: FutureWarning: Using a non-tuple sequence for multidimensional indexing is deprecated; use `arr[tuple(seq)]` instead of `arr[seq]`. In the future this will be interpreted as an array index, `arr[np.array(seq)]`, which will result either in an error or a different result.\n",
      "  b = a[a_slice]\n",
      "/home/yaoxiaojian/anaconda3/lib/python3.7/site-packages/scipy/signal/_arraytools.py:45: FutureWarning: Using a non-tuple sequence for multidimensional indexing is deprecated; use `arr[tuple(seq)]` instead of `arr[seq]`. In the future this will be interpreted as an array index, `arr[np.array(seq)]`, which will result either in an error or a different result.\n",
      "  b = a[a_slice]\n",
      "/home/yaoxiaojian/anaconda3/lib/python3.7/site-packages/scipy/signal/_arraytools.py:45: FutureWarning: Using a non-tuple sequence for multidimensional indexing is deprecated; use `arr[tuple(seq)]` instead of `arr[seq]`. In the future this will be interpreted as an array index, `arr[np.array(seq)]`, which will result either in an error or a different result.\n",
      "  b = a[a_slice]\n",
      "/home/yaoxiaojian/anaconda3/lib/python3.7/site-packages/scipy/signal/_arraytools.py:45: FutureWarning: Using a non-tuple sequence for multidimensional indexing is deprecated; use `arr[tuple(seq)]` instead of `arr[seq]`. In the future this will be interpreted as an array index, `arr[np.array(seq)]`, which will result either in an error or a different result.\n",
      "  b = a[a_slice]\n",
      "/home/yaoxiaojian/anaconda3/lib/python3.7/site-packages/scipy/signal/_arraytools.py:45: FutureWarning: Using a non-tuple sequence for multidimensional indexing is deprecated; use `arr[tuple(seq)]` instead of `arr[seq]`. In the future this will be interpreted as an array index, `arr[np.array(seq)]`, which will result either in an error or a different result.\n",
      "  b = a[a_slice]\n",
      "/home/yaoxiaojian/anaconda3/lib/python3.7/site-packages/scipy/signal/_arraytools.py:45: FutureWarning: Using a non-tuple sequence for multidimensional indexing is deprecated; use `arr[tuple(seq)]` instead of `arr[seq]`. In the future this will be interpreted as an array index, `arr[np.array(seq)]`, which will result either in an error or a different result.\n",
      "  b = a[a_slice]\n"
     ]
    },
    {
     "name": "stdout",
     "output_type": "stream",
     "text": [
      "DigMontage is a superset of info. 311 in DigMontage will be ignored. The ignored channels are: {'PPO3h', 'FFC2h', 'PPOz', 'FCC5h', 'POO5h', 'OI2h', 'AFp7', 'AFF10', 'FCC4', 'POz', 'CCP1', 'PPO9', 'FTT8h', 'FFT8', 'FCC3h', 'PPO10h', 'AFF9', 'F9', 'O1h', 'FT10h', 'F3h', 'F6', 'FFC2', 'F2h', 'AFp6h', 'AFpz', 'PPO3', 'PO8', 'FC2h', 'PPO1', 'T4', 'AF9h', 'POO9', 'AFp1h', 'TPP8', 'CCP5h', 'PPO8', 'FCC6', 'AFp4h', 'P1', 'POO8h', 'FT9h', 'FTT7h', 'CPP6h', 'FC4h', 'PPO4', 'Fpz', 'C6h', 'F5h', 'FFT10', 'POO1h', 'FCC2h', 'AFp3h', 'PO8h', 'CPP3', 'PPO5', 'FC5h', 'AF6', 'P6', 'P1h', 'PO4h', 'TTP7', 'FFT9', 'POO4h', 'PO10h', 'AFF9h', 'POO10h', 'PO4', 'F2', 'AFp7h', 'FCz', 'FFC1', 'POO1', 'CPP2h', 'CP4', 'PO2', 'CCP1h', 'C5h', 'I1', 'FFC5h', 'FC6h', 'FT9', 'Fp1h', 'AFF2h', 'FFC3h', 'F7h', 'PPO2', 'FTT8', 'PO9h', 'AF4h', 'F6h', 'AFF4', 'FC1h', 'AFF3h', 'TP8h', 'CPP1h', 'F1', 'AF10h', 'CPPz', 'FCC3', 'TPP7h', 'CCP6h', 'C5', 'T9', 'FCC6h', 'C3h', 'I1h', 'CPP4', 'FT10', 'TPP10h', 'TTP10', 'CPP6', 'FT7h', 'FFC6', 'FCC2', 'AFFz', 'C2h', 'P6h', 'FCC5', 'POO8', 'M2', 'FCC1h', 'POO3', 'AF7', 'TP9h', 'AFF7', 'PPO2h', 'CP6h', 'T7h', 'F9h', 'CPP5', 'TTP9', 'AF3', 'PPO5h', 'PPO6h', 'FT8', 'AFp2', 'AF4', 'PPO10', 'PO5', 'AFp3', 'FCC4h', 'CCP4', 'AFp2h', 'FTT7', 'P9', 'AFF3', 'AF7h', 'CCP5', 'FFT8h', 'FC4', 'AFp8', 'PPO1h', 'AFF1', 'CP5h', 'AF2', 'PPO7h', 'AF5h', 'POO5', 'TPP9', 'CPz', 'FCCz', 'FTT9', 'POO10', 'C6', 'AF8h', 'POO6h', 'POO2h', 'PO7', 'FTT10h', 'TTP10h', 'A1', 'PO1', 'CPP4h', 'CCP3', 'T9h', 'TP7', 'AF1', 'TTP8h', 'CP4h', 'AFF7h', 'F8h', 'POO4', 'FT7', 'PPO4h', 'POOz', 'CP2h', 'AFp8h', 'CCP2', 'FTT10', 'POO6', 'FFC1h', 'T3', 'CCP6', 'TP10h', 'OI1', 'F10h', 'TPP10', 'FFC4h', 'AF5', 'AF10', 'TTP8', 'OI2', 'AF3h', 'AFp5', 'C2', 'I2h', 'FT8h', 'CCPz', 'CCP4h', 'P7h', 'PO7h', 'FFT7h', 'T10', 'PPO8h', 'POO7h', 'AFF5', 'PPO9h', 'T10h', 'F4h', 'FFC5', 'PO6h', 'AFF10h', 'AFF5h', 'T5', 'P5h', 'P10', 'PO6', 'FC3h', 'FFC6h', 'CPP2', 'AF2h', 'CP3h', 'T6', 'CP3', 'M1', 'P2', 'AFp9', 'CCP2h', 'P5', 'F1h', 'TP7h', 'F5', 'P9h', 'P3h', 'AFp9h', 'AFF4h', 'TPP9h', 'POO2', 'P8h', 'FCC1', 'AFp5h', 'TPP8h', 'Fp2h', 'PO3', 'P4h', 'PO3h', 'TPP7', 'AFp4', 'FFCz', 'AFz', 'FFT7', 'AFF6h', 'AFF8h', 'FFT9h', 'PO2h', 'PPO7', 'TTP7h', 'C1', 'AF1h', 'FFT10h', 'T8h', 'PO1h', 'AFp1', 'A2', 'C4h', 'AF6h', 'CPP3h', 'AFF8', 'PPO6', 'FC3', 'AFF6', 'POO3h', 'CP1h', 'AF8', 'Iz', 'FFC4', 'P10h', 'P2h', 'AFp6', 'AFF1h', 'I2', 'TP8', 'TTP9h', 'FFC3', 'POO7', 'FTT9h', 'CCP3h', 'CPP5h', 'AFF2', 'OIz', 'AFp10h', 'AFp10', 'CPP1', 'AF9', 'O2h', 'OI1h', 'C1h', 'PO5h', 'F10', 'POO9h'}\n"
     ]
    },
    {
     "name": "stderr",
     "output_type": "stream",
     "text": [
      "<ipython-input-1-81fa588ad679>:54: RuntimeWarning: 1 channel names are too long, have been truncated to 15 characters:\n",
      "['BothStartLoadPhase']\n",
      "  info = create_info(ch_names,sfreq=500.0,ch_types=ch_type,montage = montage)\n",
      "/home/yaoxiaojian/anaconda3/lib/python3.7/site-packages/scipy/signal/_arraytools.py:45: FutureWarning: Using a non-tuple sequence for multidimensional indexing is deprecated; use `arr[tuple(seq)]` instead of `arr[seq]`. In the future this will be interpreted as an array index, `arr[np.array(seq)]`, which will result either in an error or a different result.\n",
      "  b = a[a_slice]\n",
      "/home/yaoxiaojian/anaconda3/lib/python3.7/site-packages/scipy/signal/_arraytools.py:45: FutureWarning: Using a non-tuple sequence for multidimensional indexing is deprecated; use `arr[tuple(seq)]` instead of `arr[seq]`. In the future this will be interpreted as an array index, `arr[np.array(seq)]`, which will result either in an error or a different result.\n",
      "  b = a[a_slice]\n",
      "/home/yaoxiaojian/anaconda3/lib/python3.7/site-packages/scipy/signal/_arraytools.py:45: FutureWarning: Using a non-tuple sequence for multidimensional indexing is deprecated; use `arr[tuple(seq)]` instead of `arr[seq]`. In the future this will be interpreted as an array index, `arr[np.array(seq)]`, which will result either in an error or a different result.\n",
      "  b = a[a_slice]\n",
      "/home/yaoxiaojian/anaconda3/lib/python3.7/site-packages/scipy/signal/_arraytools.py:45: FutureWarning: Using a non-tuple sequence for multidimensional indexing is deprecated; use `arr[tuple(seq)]` instead of `arr[seq]`. In the future this will be interpreted as an array index, `arr[np.array(seq)]`, which will result either in an error or a different result.\n",
      "  b = a[a_slice]\n",
      "/home/yaoxiaojian/anaconda3/lib/python3.7/site-packages/scipy/signal/_arraytools.py:45: FutureWarning: Using a non-tuple sequence for multidimensional indexing is deprecated; use `arr[tuple(seq)]` instead of `arr[seq]`. In the future this will be interpreted as an array index, `arr[np.array(seq)]`, which will result either in an error or a different result.\n",
      "  b = a[a_slice]\n",
      "/home/yaoxiaojian/anaconda3/lib/python3.7/site-packages/scipy/signal/_arraytools.py:45: FutureWarning: Using a non-tuple sequence for multidimensional indexing is deprecated; use `arr[tuple(seq)]` instead of `arr[seq]`. In the future this will be interpreted as an array index, `arr[np.array(seq)]`, which will result either in an error or a different result.\n",
      "  b = a[a_slice]\n",
      "/home/yaoxiaojian/anaconda3/lib/python3.7/site-packages/scipy/signal/_arraytools.py:45: FutureWarning: Using a non-tuple sequence for multidimensional indexing is deprecated; use `arr[tuple(seq)]` instead of `arr[seq]`. In the future this will be interpreted as an array index, `arr[np.array(seq)]`, which will result either in an error or a different result.\n",
      "  b = a[a_slice]\n",
      "/home/yaoxiaojian/anaconda3/lib/python3.7/site-packages/scipy/signal/_arraytools.py:45: FutureWarning: Using a non-tuple sequence for multidimensional indexing is deprecated; use `arr[tuple(seq)]` instead of `arr[seq]`. In the future this will be interpreted as an array index, `arr[np.array(seq)]`, which will result either in an error or a different result.\n",
      "  b = a[a_slice]\n"
     ]
    },
    {
     "name": "stdout",
     "output_type": "stream",
     "text": [
      "DigMontage is a superset of info. 311 in DigMontage will be ignored. The ignored channels are: {'PPO3h', 'FFC2h', 'PPOz', 'FCC5h', 'POO5h', 'OI2h', 'AFp7', 'AFF10', 'FCC4', 'POz', 'CCP1', 'PPO9', 'FTT8h', 'FFT8', 'FCC3h', 'PPO10h', 'AFF9', 'F9', 'O1h', 'FT10h', 'F3h', 'F6', 'FFC2', 'F2h', 'AFp6h', 'AFpz', 'PPO3', 'PO8', 'FC2h', 'PPO1', 'T4', 'AF9h', 'POO9', 'AFp1h', 'TPP8', 'CCP5h', 'PPO8', 'FCC6', 'AFp4h', 'P1', 'POO8h', 'FT9h', 'FTT7h', 'CPP6h', 'FC4h', 'PPO4', 'Fpz', 'C6h', 'F5h', 'FFT10', 'POO1h', 'FCC2h', 'AFp3h', 'PO8h', 'CPP3', 'PPO5', 'FC5h', 'AF6', 'P6', 'P1h', 'PO4h', 'TTP7', 'FFT9', 'POO4h', 'PO10h', 'AFF9h', 'POO10h', 'PO4', 'F2', 'AFp7h', 'FCz', 'FFC1', 'POO1', 'CPP2h', 'CP4', 'PO2', 'CCP1h', 'C5h', 'I1', 'FFC5h', 'FC6h', 'FT9', 'Fp1h', 'AFF2h', 'FFC3h', 'F7h', 'PPO2', 'FTT8', 'PO9h', 'AF4h', 'F6h', 'AFF4', 'FC1h', 'AFF3h', 'TP8h', 'CPP1h', 'F1', 'AF10h', 'CPPz', 'FCC3', 'TPP7h', 'CCP6h', 'C5', 'T9', 'FCC6h', 'C3h', 'I1h', 'CPP4', 'FT10', 'TPP10h', 'TTP10', 'CPP6', 'FT7h', 'FFC6', 'FCC2', 'AFFz', 'C2h', 'P6h', 'FCC5', 'POO8', 'M2', 'FCC1h', 'POO3', 'AF7', 'TP9h', 'AFF7', 'PPO2h', 'CP6h', 'T7h', 'F9h', 'CPP5', 'TTP9', 'AF3', 'PPO5h', 'PPO6h', 'FT8', 'AFp2', 'AF4', 'PPO10', 'PO5', 'AFp3', 'FCC4h', 'CCP4', 'AFp2h', 'FTT7', 'P9', 'AFF3', 'AF7h', 'CCP5', 'FFT8h', 'FC4', 'AFp8', 'PPO1h', 'AFF1', 'CP5h', 'AF2', 'PPO7h', 'AF5h', 'POO5', 'TPP9', 'CPz', 'FCCz', 'FTT9', 'POO10', 'C6', 'AF8h', 'POO6h', 'POO2h', 'PO7', 'FTT10h', 'TTP10h', 'A1', 'PO1', 'CPP4h', 'CCP3', 'T9h', 'TP7', 'AF1', 'TTP8h', 'CP4h', 'AFF7h', 'F8h', 'POO4', 'FT7', 'PPO4h', 'POOz', 'CP2h', 'AFp8h', 'CCP2', 'FTT10', 'POO6', 'FFC1h', 'T3', 'CCP6', 'TP10h', 'OI1', 'F10h', 'TPP10', 'FFC4h', 'AF5', 'AF10', 'TTP8', 'OI2', 'AF3h', 'AFp5', 'C2', 'I2h', 'FT8h', 'CCPz', 'CCP4h', 'P7h', 'PO7h', 'FFT7h', 'T10', 'PPO8h', 'POO7h', 'AFF5', 'PPO9h', 'T10h', 'F4h', 'FFC5', 'PO6h', 'AFF10h', 'AFF5h', 'T5', 'P5h', 'P10', 'PO6', 'FC3h', 'FFC6h', 'CPP2', 'AF2h', 'CP3h', 'T6', 'CP3', 'M1', 'P2', 'AFp9', 'CCP2h', 'P5', 'F1h', 'TP7h', 'F5', 'P9h', 'P3h', 'AFp9h', 'AFF4h', 'TPP9h', 'POO2', 'P8h', 'FCC1', 'AFp5h', 'TPP8h', 'Fp2h', 'PO3', 'P4h', 'PO3h', 'TPP7', 'AFp4', 'FFCz', 'AFz', 'FFT7', 'AFF6h', 'AFF8h', 'FFT9h', 'PO2h', 'PPO7', 'TTP7h', 'C1', 'AF1h', 'FFT10h', 'T8h', 'PO1h', 'AFp1', 'A2', 'C4h', 'AF6h', 'CPP3h', 'AFF8', 'PPO6', 'FC3', 'AFF6', 'POO3h', 'CP1h', 'AF8', 'Iz', 'FFC4', 'P10h', 'P2h', 'AFp6', 'AFF1h', 'I2', 'TP8', 'TTP9h', 'FFC3', 'POO7', 'FTT9h', 'CCP3h', 'CPP5h', 'AFF2', 'OIz', 'AFp10h', 'AFp10', 'CPP1', 'AF9', 'O2h', 'OI1h', 'C1h', 'PO5h', 'F10', 'POO9h'}\n"
     ]
    },
    {
     "name": "stderr",
     "output_type": "stream",
     "text": [
      "<ipython-input-1-81fa588ad679>:54: RuntimeWarning: 1 channel names are too long, have been truncated to 15 characters:\n",
      "['BothStartLoadPhase']\n",
      "  info = create_info(ch_names,sfreq=500.0,ch_types=ch_type,montage = montage)\n",
      "/home/yaoxiaojian/anaconda3/lib/python3.7/site-packages/scipy/signal/_arraytools.py:45: FutureWarning: Using a non-tuple sequence for multidimensional indexing is deprecated; use `arr[tuple(seq)]` instead of `arr[seq]`. In the future this will be interpreted as an array index, `arr[np.array(seq)]`, which will result either in an error or a different result.\n",
      "  b = a[a_slice]\n",
      "/home/yaoxiaojian/anaconda3/lib/python3.7/site-packages/scipy/signal/_arraytools.py:45: FutureWarning: Using a non-tuple sequence for multidimensional indexing is deprecated; use `arr[tuple(seq)]` instead of `arr[seq]`. In the future this will be interpreted as an array index, `arr[np.array(seq)]`, which will result either in an error or a different result.\n",
      "  b = a[a_slice]\n",
      "/home/yaoxiaojian/anaconda3/lib/python3.7/site-packages/scipy/signal/_arraytools.py:45: FutureWarning: Using a non-tuple sequence for multidimensional indexing is deprecated; use `arr[tuple(seq)]` instead of `arr[seq]`. In the future this will be interpreted as an array index, `arr[np.array(seq)]`, which will result either in an error or a different result.\n",
      "  b = a[a_slice]\n",
      "/home/yaoxiaojian/anaconda3/lib/python3.7/site-packages/scipy/signal/_arraytools.py:45: FutureWarning: Using a non-tuple sequence for multidimensional indexing is deprecated; use `arr[tuple(seq)]` instead of `arr[seq]`. In the future this will be interpreted as an array index, `arr[np.array(seq)]`, which will result either in an error or a different result.\n",
      "  b = a[a_slice]\n",
      "/home/yaoxiaojian/anaconda3/lib/python3.7/site-packages/scipy/signal/_arraytools.py:45: FutureWarning: Using a non-tuple sequence for multidimensional indexing is deprecated; use `arr[tuple(seq)]` instead of `arr[seq]`. In the future this will be interpreted as an array index, `arr[np.array(seq)]`, which will result either in an error or a different result.\n",
      "  b = a[a_slice]\n",
      "/home/yaoxiaojian/anaconda3/lib/python3.7/site-packages/scipy/signal/_arraytools.py:45: FutureWarning: Using a non-tuple sequence for multidimensional indexing is deprecated; use `arr[tuple(seq)]` instead of `arr[seq]`. In the future this will be interpreted as an array index, `arr[np.array(seq)]`, which will result either in an error or a different result.\n",
      "  b = a[a_slice]\n",
      "/home/yaoxiaojian/anaconda3/lib/python3.7/site-packages/scipy/signal/_arraytools.py:45: FutureWarning: Using a non-tuple sequence for multidimensional indexing is deprecated; use `arr[tuple(seq)]` instead of `arr[seq]`. In the future this will be interpreted as an array index, `arr[np.array(seq)]`, which will result either in an error or a different result.\n",
      "  b = a[a_slice]\n",
      "/home/yaoxiaojian/anaconda3/lib/python3.7/site-packages/scipy/signal/_arraytools.py:45: FutureWarning: Using a non-tuple sequence for multidimensional indexing is deprecated; use `arr[tuple(seq)]` instead of `arr[seq]`. In the future this will be interpreted as an array index, `arr[np.array(seq)]`, which will result either in an error or a different result.\n",
      "  b = a[a_slice]\n"
     ]
    },
    {
     "name": "stdout",
     "output_type": "stream",
     "text": [
      "DigMontage is a superset of info. 311 in DigMontage will be ignored. The ignored channels are: {'PPO3h', 'FFC2h', 'PPOz', 'FCC5h', 'POO5h', 'OI2h', 'AFp7', 'AFF10', 'FCC4', 'POz', 'CCP1', 'PPO9', 'FTT8h', 'FFT8', 'FCC3h', 'PPO10h', 'AFF9', 'F9', 'O1h', 'FT10h', 'F3h', 'F6', 'FFC2', 'F2h', 'AFp6h', 'AFpz', 'PPO3', 'PO8', 'FC2h', 'PPO1', 'T4', 'AF9h', 'POO9', 'AFp1h', 'TPP8', 'CCP5h', 'PPO8', 'FCC6', 'AFp4h', 'P1', 'POO8h', 'FT9h', 'FTT7h', 'CPP6h', 'FC4h', 'PPO4', 'Fpz', 'C6h', 'F5h', 'FFT10', 'POO1h', 'FCC2h', 'AFp3h', 'PO8h', 'CPP3', 'PPO5', 'FC5h', 'AF6', 'P6', 'P1h', 'PO4h', 'TTP7', 'FFT9', 'POO4h', 'PO10h', 'AFF9h', 'POO10h', 'PO4', 'F2', 'AFp7h', 'FCz', 'FFC1', 'POO1', 'CPP2h', 'CP4', 'PO2', 'CCP1h', 'C5h', 'I1', 'FFC5h', 'FC6h', 'FT9', 'Fp1h', 'AFF2h', 'FFC3h', 'F7h', 'PPO2', 'FTT8', 'PO9h', 'AF4h', 'F6h', 'AFF4', 'FC1h', 'AFF3h', 'TP8h', 'CPP1h', 'F1', 'AF10h', 'CPPz', 'FCC3', 'TPP7h', 'CCP6h', 'C5', 'T9', 'FCC6h', 'C3h', 'I1h', 'CPP4', 'FT10', 'TPP10h', 'TTP10', 'CPP6', 'FT7h', 'FFC6', 'FCC2', 'AFFz', 'C2h', 'P6h', 'FCC5', 'POO8', 'M2', 'FCC1h', 'POO3', 'AF7', 'TP9h', 'AFF7', 'PPO2h', 'CP6h', 'T7h', 'F9h', 'CPP5', 'TTP9', 'AF3', 'PPO5h', 'PPO6h', 'FT8', 'AFp2', 'AF4', 'PPO10', 'PO5', 'AFp3', 'FCC4h', 'CCP4', 'AFp2h', 'FTT7', 'P9', 'AFF3', 'AF7h', 'CCP5', 'FFT8h', 'FC4', 'AFp8', 'PPO1h', 'AFF1', 'CP5h', 'AF2', 'PPO7h', 'AF5h', 'POO5', 'TPP9', 'CPz', 'FCCz', 'FTT9', 'POO10', 'C6', 'AF8h', 'POO6h', 'POO2h', 'PO7', 'FTT10h', 'TTP10h', 'A1', 'PO1', 'CPP4h', 'CCP3', 'T9h', 'TP7', 'AF1', 'TTP8h', 'CP4h', 'AFF7h', 'F8h', 'POO4', 'FT7', 'PPO4h', 'POOz', 'CP2h', 'AFp8h', 'CCP2', 'FTT10', 'POO6', 'FFC1h', 'T3', 'CCP6', 'TP10h', 'OI1', 'F10h', 'TPP10', 'FFC4h', 'AF5', 'AF10', 'TTP8', 'OI2', 'AF3h', 'AFp5', 'C2', 'I2h', 'FT8h', 'CCPz', 'CCP4h', 'P7h', 'PO7h', 'FFT7h', 'T10', 'PPO8h', 'POO7h', 'AFF5', 'PPO9h', 'T10h', 'F4h', 'FFC5', 'PO6h', 'AFF10h', 'AFF5h', 'T5', 'P5h', 'P10', 'PO6', 'FC3h', 'FFC6h', 'CPP2', 'AF2h', 'CP3h', 'T6', 'CP3', 'M1', 'P2', 'AFp9', 'CCP2h', 'P5', 'F1h', 'TP7h', 'F5', 'P9h', 'P3h', 'AFp9h', 'AFF4h', 'TPP9h', 'POO2', 'P8h', 'FCC1', 'AFp5h', 'TPP8h', 'Fp2h', 'PO3', 'P4h', 'PO3h', 'TPP7', 'AFp4', 'FFCz', 'AFz', 'FFT7', 'AFF6h', 'AFF8h', 'FFT9h', 'PO2h', 'PPO7', 'TTP7h', 'C1', 'AF1h', 'FFT10h', 'T8h', 'PO1h', 'AFp1', 'A2', 'C4h', 'AF6h', 'CPP3h', 'AFF8', 'PPO6', 'FC3', 'AFF6', 'POO3h', 'CP1h', 'AF8', 'Iz', 'FFC4', 'P10h', 'P2h', 'AFp6', 'AFF1h', 'I2', 'TP8', 'TTP9h', 'FFC3', 'POO7', 'FTT9h', 'CCP3h', 'CPP5h', 'AFF2', 'OIz', 'AFp10h', 'AFp10', 'CPP1', 'AF9', 'O2h', 'OI1h', 'C1h', 'PO5h', 'F10', 'POO9h'}\n"
     ]
    },
    {
     "name": "stderr",
     "output_type": "stream",
     "text": [
      "<ipython-input-1-81fa588ad679>:54: RuntimeWarning: 1 channel names are too long, have been truncated to 15 characters:\n",
      "['BothStartLoadPhase']\n",
      "  info = create_info(ch_names,sfreq=500.0,ch_types=ch_type,montage = montage)\n",
      "/home/yaoxiaojian/anaconda3/lib/python3.7/site-packages/scipy/signal/_arraytools.py:45: FutureWarning: Using a non-tuple sequence for multidimensional indexing is deprecated; use `arr[tuple(seq)]` instead of `arr[seq]`. In the future this will be interpreted as an array index, `arr[np.array(seq)]`, which will result either in an error or a different result.\n",
      "  b = a[a_slice]\n",
      "/home/yaoxiaojian/anaconda3/lib/python3.7/site-packages/scipy/signal/_arraytools.py:45: FutureWarning: Using a non-tuple sequence for multidimensional indexing is deprecated; use `arr[tuple(seq)]` instead of `arr[seq]`. In the future this will be interpreted as an array index, `arr[np.array(seq)]`, which will result either in an error or a different result.\n",
      "  b = a[a_slice]\n",
      "/home/yaoxiaojian/anaconda3/lib/python3.7/site-packages/scipy/signal/_arraytools.py:45: FutureWarning: Using a non-tuple sequence for multidimensional indexing is deprecated; use `arr[tuple(seq)]` instead of `arr[seq]`. In the future this will be interpreted as an array index, `arr[np.array(seq)]`, which will result either in an error or a different result.\n",
      "  b = a[a_slice]\n",
      "/home/yaoxiaojian/anaconda3/lib/python3.7/site-packages/scipy/signal/_arraytools.py:45: FutureWarning: Using a non-tuple sequence for multidimensional indexing is deprecated; use `arr[tuple(seq)]` instead of `arr[seq]`. In the future this will be interpreted as an array index, `arr[np.array(seq)]`, which will result either in an error or a different result.\n",
      "  b = a[a_slice]\n",
      "/home/yaoxiaojian/anaconda3/lib/python3.7/site-packages/scipy/signal/_arraytools.py:45: FutureWarning: Using a non-tuple sequence for multidimensional indexing is deprecated; use `arr[tuple(seq)]` instead of `arr[seq]`. In the future this will be interpreted as an array index, `arr[np.array(seq)]`, which will result either in an error or a different result.\n",
      "  b = a[a_slice]\n",
      "/home/yaoxiaojian/anaconda3/lib/python3.7/site-packages/scipy/signal/_arraytools.py:45: FutureWarning: Using a non-tuple sequence for multidimensional indexing is deprecated; use `arr[tuple(seq)]` instead of `arr[seq]`. In the future this will be interpreted as an array index, `arr[np.array(seq)]`, which will result either in an error or a different result.\n",
      "  b = a[a_slice]\n",
      "/home/yaoxiaojian/anaconda3/lib/python3.7/site-packages/scipy/signal/_arraytools.py:45: FutureWarning: Using a non-tuple sequence for multidimensional indexing is deprecated; use `arr[tuple(seq)]` instead of `arr[seq]`. In the future this will be interpreted as an array index, `arr[np.array(seq)]`, which will result either in an error or a different result.\n",
      "  b = a[a_slice]\n",
      "/home/yaoxiaojian/anaconda3/lib/python3.7/site-packages/scipy/signal/_arraytools.py:45: FutureWarning: Using a non-tuple sequence for multidimensional indexing is deprecated; use `arr[tuple(seq)]` instead of `arr[seq]`. In the future this will be interpreted as an array index, `arr[np.array(seq)]`, which will result either in an error or a different result.\n",
      "  b = a[a_slice]\n"
     ]
    },
    {
     "name": "stdout",
     "output_type": "stream",
     "text": [
      "DigMontage is a superset of info. 311 in DigMontage will be ignored. The ignored channels are: {'PPO3h', 'FFC2h', 'PPOz', 'FCC5h', 'POO5h', 'OI2h', 'AFp7', 'AFF10', 'FCC4', 'POz', 'CCP1', 'PPO9', 'FTT8h', 'FFT8', 'FCC3h', 'PPO10h', 'AFF9', 'F9', 'O1h', 'FT10h', 'F3h', 'F6', 'FFC2', 'F2h', 'AFp6h', 'AFpz', 'PPO3', 'PO8', 'FC2h', 'PPO1', 'T4', 'AF9h', 'POO9', 'AFp1h', 'TPP8', 'CCP5h', 'PPO8', 'FCC6', 'AFp4h', 'P1', 'POO8h', 'FT9h', 'FTT7h', 'CPP6h', 'FC4h', 'PPO4', 'Fpz', 'C6h', 'F5h', 'FFT10', 'POO1h', 'FCC2h', 'AFp3h', 'PO8h', 'CPP3', 'PPO5', 'FC5h', 'AF6', 'P6', 'P1h', 'PO4h', 'TTP7', 'FFT9', 'POO4h', 'PO10h', 'AFF9h', 'POO10h', 'PO4', 'F2', 'AFp7h', 'FCz', 'FFC1', 'POO1', 'CPP2h', 'CP4', 'PO2', 'CCP1h', 'C5h', 'I1', 'FFC5h', 'FC6h', 'FT9', 'Fp1h', 'AFF2h', 'FFC3h', 'F7h', 'PPO2', 'FTT8', 'PO9h', 'AF4h', 'F6h', 'AFF4', 'FC1h', 'AFF3h', 'TP8h', 'CPP1h', 'F1', 'AF10h', 'CPPz', 'FCC3', 'TPP7h', 'CCP6h', 'C5', 'T9', 'FCC6h', 'C3h', 'I1h', 'CPP4', 'FT10', 'TPP10h', 'TTP10', 'CPP6', 'FT7h', 'FFC6', 'FCC2', 'AFFz', 'C2h', 'P6h', 'FCC5', 'POO8', 'M2', 'FCC1h', 'POO3', 'AF7', 'TP9h', 'AFF7', 'PPO2h', 'CP6h', 'T7h', 'F9h', 'CPP5', 'TTP9', 'AF3', 'PPO5h', 'PPO6h', 'FT8', 'AFp2', 'AF4', 'PPO10', 'PO5', 'AFp3', 'FCC4h', 'CCP4', 'AFp2h', 'FTT7', 'P9', 'AFF3', 'AF7h', 'CCP5', 'FFT8h', 'FC4', 'AFp8', 'PPO1h', 'AFF1', 'CP5h', 'AF2', 'PPO7h', 'AF5h', 'POO5', 'TPP9', 'CPz', 'FCCz', 'FTT9', 'POO10', 'C6', 'AF8h', 'POO6h', 'POO2h', 'PO7', 'FTT10h', 'TTP10h', 'A1', 'PO1', 'CPP4h', 'CCP3', 'T9h', 'TP7', 'AF1', 'TTP8h', 'CP4h', 'AFF7h', 'F8h', 'POO4', 'FT7', 'PPO4h', 'POOz', 'CP2h', 'AFp8h', 'CCP2', 'FTT10', 'POO6', 'FFC1h', 'T3', 'CCP6', 'TP10h', 'OI1', 'F10h', 'TPP10', 'FFC4h', 'AF5', 'AF10', 'TTP8', 'OI2', 'AF3h', 'AFp5', 'C2', 'I2h', 'FT8h', 'CCPz', 'CCP4h', 'P7h', 'PO7h', 'FFT7h', 'T10', 'PPO8h', 'POO7h', 'AFF5', 'PPO9h', 'T10h', 'F4h', 'FFC5', 'PO6h', 'AFF10h', 'AFF5h', 'T5', 'P5h', 'P10', 'PO6', 'FC3h', 'FFC6h', 'CPP2', 'AF2h', 'CP3h', 'T6', 'CP3', 'M1', 'P2', 'AFp9', 'CCP2h', 'P5', 'F1h', 'TP7h', 'F5', 'P9h', 'P3h', 'AFp9h', 'AFF4h', 'TPP9h', 'POO2', 'P8h', 'FCC1', 'AFp5h', 'TPP8h', 'Fp2h', 'PO3', 'P4h', 'PO3h', 'TPP7', 'AFp4', 'FFCz', 'AFz', 'FFT7', 'AFF6h', 'AFF8h', 'FFT9h', 'PO2h', 'PPO7', 'TTP7h', 'C1', 'AF1h', 'FFT10h', 'T8h', 'PO1h', 'AFp1', 'A2', 'C4h', 'AF6h', 'CPP3h', 'AFF8', 'PPO6', 'FC3', 'AFF6', 'POO3h', 'CP1h', 'AF8', 'Iz', 'FFC4', 'P10h', 'P2h', 'AFp6', 'AFF1h', 'I2', 'TP8', 'TTP9h', 'FFC3', 'POO7', 'FTT9h', 'CCP3h', 'CPP5h', 'AFF2', 'OIz', 'AFp10h', 'AFp10', 'CPP1', 'AF9', 'O2h', 'OI1h', 'C1h', 'PO5h', 'F10', 'POO9h'}\n"
     ]
    },
    {
     "name": "stderr",
     "output_type": "stream",
     "text": [
      "<ipython-input-1-81fa588ad679>:54: RuntimeWarning: 1 channel names are too long, have been truncated to 15 characters:\n",
      "['BothStartLoadPhase']\n",
      "  info = create_info(ch_names,sfreq=500.0,ch_types=ch_type,montage = montage)\n",
      "/home/yaoxiaojian/anaconda3/lib/python3.7/site-packages/scipy/signal/_arraytools.py:45: FutureWarning: Using a non-tuple sequence for multidimensional indexing is deprecated; use `arr[tuple(seq)]` instead of `arr[seq]`. In the future this will be interpreted as an array index, `arr[np.array(seq)]`, which will result either in an error or a different result.\n",
      "  b = a[a_slice]\n",
      "/home/yaoxiaojian/anaconda3/lib/python3.7/site-packages/scipy/signal/_arraytools.py:45: FutureWarning: Using a non-tuple sequence for multidimensional indexing is deprecated; use `arr[tuple(seq)]` instead of `arr[seq]`. In the future this will be interpreted as an array index, `arr[np.array(seq)]`, which will result either in an error or a different result.\n",
      "  b = a[a_slice]\n",
      "/home/yaoxiaojian/anaconda3/lib/python3.7/site-packages/scipy/signal/_arraytools.py:45: FutureWarning: Using a non-tuple sequence for multidimensional indexing is deprecated; use `arr[tuple(seq)]` instead of `arr[seq]`. In the future this will be interpreted as an array index, `arr[np.array(seq)]`, which will result either in an error or a different result.\n",
      "  b = a[a_slice]\n",
      "/home/yaoxiaojian/anaconda3/lib/python3.7/site-packages/scipy/signal/_arraytools.py:45: FutureWarning: Using a non-tuple sequence for multidimensional indexing is deprecated; use `arr[tuple(seq)]` instead of `arr[seq]`. In the future this will be interpreted as an array index, `arr[np.array(seq)]`, which will result either in an error or a different result.\n",
      "  b = a[a_slice]\n",
      "/home/yaoxiaojian/anaconda3/lib/python3.7/site-packages/scipy/signal/_arraytools.py:45: FutureWarning: Using a non-tuple sequence for multidimensional indexing is deprecated; use `arr[tuple(seq)]` instead of `arr[seq]`. In the future this will be interpreted as an array index, `arr[np.array(seq)]`, which will result either in an error or a different result.\n",
      "  b = a[a_slice]\n",
      "/home/yaoxiaojian/anaconda3/lib/python3.7/site-packages/scipy/signal/_arraytools.py:45: FutureWarning: Using a non-tuple sequence for multidimensional indexing is deprecated; use `arr[tuple(seq)]` instead of `arr[seq]`. In the future this will be interpreted as an array index, `arr[np.array(seq)]`, which will result either in an error or a different result.\n",
      "  b = a[a_slice]\n",
      "/home/yaoxiaojian/anaconda3/lib/python3.7/site-packages/scipy/signal/_arraytools.py:45: FutureWarning: Using a non-tuple sequence for multidimensional indexing is deprecated; use `arr[tuple(seq)]` instead of `arr[seq]`. In the future this will be interpreted as an array index, `arr[np.array(seq)]`, which will result either in an error or a different result.\n",
      "  b = a[a_slice]\n",
      "/home/yaoxiaojian/anaconda3/lib/python3.7/site-packages/scipy/signal/_arraytools.py:45: FutureWarning: Using a non-tuple sequence for multidimensional indexing is deprecated; use `arr[tuple(seq)]` instead of `arr[seq]`. In the future this will be interpreted as an array index, `arr[np.array(seq)]`, which will result either in an error or a different result.\n",
      "  b = a[a_slice]\n"
     ]
    },
    {
     "name": "stdout",
     "output_type": "stream",
     "text": [
      "DigMontage is a superset of info. 311 in DigMontage will be ignored. The ignored channels are: {'PPO3h', 'FFC2h', 'PPOz', 'FCC5h', 'POO5h', 'OI2h', 'AFp7', 'AFF10', 'FCC4', 'POz', 'CCP1', 'PPO9', 'FTT8h', 'FFT8', 'FCC3h', 'PPO10h', 'AFF9', 'F9', 'O1h', 'FT10h', 'F3h', 'F6', 'FFC2', 'F2h', 'AFp6h', 'AFpz', 'PPO3', 'PO8', 'FC2h', 'PPO1', 'T4', 'AF9h', 'POO9', 'AFp1h', 'TPP8', 'CCP5h', 'PPO8', 'FCC6', 'AFp4h', 'P1', 'POO8h', 'FT9h', 'FTT7h', 'CPP6h', 'FC4h', 'PPO4', 'Fpz', 'C6h', 'F5h', 'FFT10', 'POO1h', 'FCC2h', 'AFp3h', 'PO8h', 'CPP3', 'PPO5', 'FC5h', 'AF6', 'P6', 'P1h', 'PO4h', 'TTP7', 'FFT9', 'POO4h', 'PO10h', 'AFF9h', 'POO10h', 'PO4', 'F2', 'AFp7h', 'FCz', 'FFC1', 'POO1', 'CPP2h', 'CP4', 'PO2', 'CCP1h', 'C5h', 'I1', 'FFC5h', 'FC6h', 'FT9', 'Fp1h', 'AFF2h', 'FFC3h', 'F7h', 'PPO2', 'FTT8', 'PO9h', 'AF4h', 'F6h', 'AFF4', 'FC1h', 'AFF3h', 'TP8h', 'CPP1h', 'F1', 'AF10h', 'CPPz', 'FCC3', 'TPP7h', 'CCP6h', 'C5', 'T9', 'FCC6h', 'C3h', 'I1h', 'CPP4', 'FT10', 'TPP10h', 'TTP10', 'CPP6', 'FT7h', 'FFC6', 'FCC2', 'AFFz', 'C2h', 'P6h', 'FCC5', 'POO8', 'M2', 'FCC1h', 'POO3', 'AF7', 'TP9h', 'AFF7', 'PPO2h', 'CP6h', 'T7h', 'F9h', 'CPP5', 'TTP9', 'AF3', 'PPO5h', 'PPO6h', 'FT8', 'AFp2', 'AF4', 'PPO10', 'PO5', 'AFp3', 'FCC4h', 'CCP4', 'AFp2h', 'FTT7', 'P9', 'AFF3', 'AF7h', 'CCP5', 'FFT8h', 'FC4', 'AFp8', 'PPO1h', 'AFF1', 'CP5h', 'AF2', 'PPO7h', 'AF5h', 'POO5', 'TPP9', 'CPz', 'FCCz', 'FTT9', 'POO10', 'C6', 'AF8h', 'POO6h', 'POO2h', 'PO7', 'FTT10h', 'TTP10h', 'A1', 'PO1', 'CPP4h', 'CCP3', 'T9h', 'TP7', 'AF1', 'TTP8h', 'CP4h', 'AFF7h', 'F8h', 'POO4', 'FT7', 'PPO4h', 'POOz', 'CP2h', 'AFp8h', 'CCP2', 'FTT10', 'POO6', 'FFC1h', 'T3', 'CCP6', 'TP10h', 'OI1', 'F10h', 'TPP10', 'FFC4h', 'AF5', 'AF10', 'TTP8', 'OI2', 'AF3h', 'AFp5', 'C2', 'I2h', 'FT8h', 'CCPz', 'CCP4h', 'P7h', 'PO7h', 'FFT7h', 'T10', 'PPO8h', 'POO7h', 'AFF5', 'PPO9h', 'T10h', 'F4h', 'FFC5', 'PO6h', 'AFF10h', 'AFF5h', 'T5', 'P5h', 'P10', 'PO6', 'FC3h', 'FFC6h', 'CPP2', 'AF2h', 'CP3h', 'T6', 'CP3', 'M1', 'P2', 'AFp9', 'CCP2h', 'P5', 'F1h', 'TP7h', 'F5', 'P9h', 'P3h', 'AFp9h', 'AFF4h', 'TPP9h', 'POO2', 'P8h', 'FCC1', 'AFp5h', 'TPP8h', 'Fp2h', 'PO3', 'P4h', 'PO3h', 'TPP7', 'AFp4', 'FFCz', 'AFz', 'FFT7', 'AFF6h', 'AFF8h', 'FFT9h', 'PO2h', 'PPO7', 'TTP7h', 'C1', 'AF1h', 'FFT10h', 'T8h', 'PO1h', 'AFp1', 'A2', 'C4h', 'AF6h', 'CPP3h', 'AFF8', 'PPO6', 'FC3', 'AFF6', 'POO3h', 'CP1h', 'AF8', 'Iz', 'FFC4', 'P10h', 'P2h', 'AFp6', 'AFF1h', 'I2', 'TP8', 'TTP9h', 'FFC3', 'POO7', 'FTT9h', 'CCP3h', 'CPP5h', 'AFF2', 'OIz', 'AFp10h', 'AFp10', 'CPP1', 'AF9', 'O2h', 'OI1h', 'C1h', 'PO5h', 'F10', 'POO9h'}\n"
     ]
    },
    {
     "name": "stderr",
     "output_type": "stream",
     "text": [
      "<ipython-input-1-81fa588ad679>:54: RuntimeWarning: 1 channel names are too long, have been truncated to 15 characters:\n",
      "['BothStartLoadPhase']\n",
      "  info = create_info(ch_names,sfreq=500.0,ch_types=ch_type,montage = montage)\n",
      "/home/yaoxiaojian/anaconda3/lib/python3.7/site-packages/scipy/signal/_arraytools.py:45: FutureWarning: Using a non-tuple sequence for multidimensional indexing is deprecated; use `arr[tuple(seq)]` instead of `arr[seq]`. In the future this will be interpreted as an array index, `arr[np.array(seq)]`, which will result either in an error or a different result.\n",
      "  b = a[a_slice]\n",
      "/home/yaoxiaojian/anaconda3/lib/python3.7/site-packages/scipy/signal/_arraytools.py:45: FutureWarning: Using a non-tuple sequence for multidimensional indexing is deprecated; use `arr[tuple(seq)]` instead of `arr[seq]`. In the future this will be interpreted as an array index, `arr[np.array(seq)]`, which will result either in an error or a different result.\n",
      "  b = a[a_slice]\n",
      "/home/yaoxiaojian/anaconda3/lib/python3.7/site-packages/scipy/signal/_arraytools.py:45: FutureWarning: Using a non-tuple sequence for multidimensional indexing is deprecated; use `arr[tuple(seq)]` instead of `arr[seq]`. In the future this will be interpreted as an array index, `arr[np.array(seq)]`, which will result either in an error or a different result.\n",
      "  b = a[a_slice]\n",
      "/home/yaoxiaojian/anaconda3/lib/python3.7/site-packages/scipy/signal/_arraytools.py:45: FutureWarning: Using a non-tuple sequence for multidimensional indexing is deprecated; use `arr[tuple(seq)]` instead of `arr[seq]`. In the future this will be interpreted as an array index, `arr[np.array(seq)]`, which will result either in an error or a different result.\n",
      "  b = a[a_slice]\n",
      "/home/yaoxiaojian/anaconda3/lib/python3.7/site-packages/scipy/signal/_arraytools.py:45: FutureWarning: Using a non-tuple sequence for multidimensional indexing is deprecated; use `arr[tuple(seq)]` instead of `arr[seq]`. In the future this will be interpreted as an array index, `arr[np.array(seq)]`, which will result either in an error or a different result.\n",
      "  b = a[a_slice]\n",
      "/home/yaoxiaojian/anaconda3/lib/python3.7/site-packages/scipy/signal/_arraytools.py:45: FutureWarning: Using a non-tuple sequence for multidimensional indexing is deprecated; use `arr[tuple(seq)]` instead of `arr[seq]`. In the future this will be interpreted as an array index, `arr[np.array(seq)]`, which will result either in an error or a different result.\n",
      "  b = a[a_slice]\n",
      "/home/yaoxiaojian/anaconda3/lib/python3.7/site-packages/scipy/signal/_arraytools.py:45: FutureWarning: Using a non-tuple sequence for multidimensional indexing is deprecated; use `arr[tuple(seq)]` instead of `arr[seq]`. In the future this will be interpreted as an array index, `arr[np.array(seq)]`, which will result either in an error or a different result.\n",
      "  b = a[a_slice]\n",
      "/home/yaoxiaojian/anaconda3/lib/python3.7/site-packages/scipy/signal/_arraytools.py:45: FutureWarning: Using a non-tuple sequence for multidimensional indexing is deprecated; use `arr[tuple(seq)]` instead of `arr[seq]`. In the future this will be interpreted as an array index, `arr[np.array(seq)]`, which will result either in an error or a different result.\n",
      "  b = a[a_slice]\n"
     ]
    },
    {
     "name": "stdout",
     "output_type": "stream",
     "text": [
      "DigMontage is a superset of info. 311 in DigMontage will be ignored. The ignored channels are: {'PPO3h', 'FFC2h', 'PPOz', 'FCC5h', 'POO5h', 'OI2h', 'AFp7', 'AFF10', 'FCC4', 'POz', 'CCP1', 'PPO9', 'FTT8h', 'FFT8', 'FCC3h', 'PPO10h', 'AFF9', 'F9', 'O1h', 'FT10h', 'F3h', 'F6', 'FFC2', 'F2h', 'AFp6h', 'AFpz', 'PPO3', 'PO8', 'FC2h', 'PPO1', 'T4', 'AF9h', 'POO9', 'AFp1h', 'TPP8', 'CCP5h', 'PPO8', 'FCC6', 'AFp4h', 'P1', 'POO8h', 'FT9h', 'FTT7h', 'CPP6h', 'FC4h', 'PPO4', 'Fpz', 'C6h', 'F5h', 'FFT10', 'POO1h', 'FCC2h', 'AFp3h', 'PO8h', 'CPP3', 'PPO5', 'FC5h', 'AF6', 'P6', 'P1h', 'PO4h', 'TTP7', 'FFT9', 'POO4h', 'PO10h', 'AFF9h', 'POO10h', 'PO4', 'F2', 'AFp7h', 'FCz', 'FFC1', 'POO1', 'CPP2h', 'CP4', 'PO2', 'CCP1h', 'C5h', 'I1', 'FFC5h', 'FC6h', 'FT9', 'Fp1h', 'AFF2h', 'FFC3h', 'F7h', 'PPO2', 'FTT8', 'PO9h', 'AF4h', 'F6h', 'AFF4', 'FC1h', 'AFF3h', 'TP8h', 'CPP1h', 'F1', 'AF10h', 'CPPz', 'FCC3', 'TPP7h', 'CCP6h', 'C5', 'T9', 'FCC6h', 'C3h', 'I1h', 'CPP4', 'FT10', 'TPP10h', 'TTP10', 'CPP6', 'FT7h', 'FFC6', 'FCC2', 'AFFz', 'C2h', 'P6h', 'FCC5', 'POO8', 'M2', 'FCC1h', 'POO3', 'AF7', 'TP9h', 'AFF7', 'PPO2h', 'CP6h', 'T7h', 'F9h', 'CPP5', 'TTP9', 'AF3', 'PPO5h', 'PPO6h', 'FT8', 'AFp2', 'AF4', 'PPO10', 'PO5', 'AFp3', 'FCC4h', 'CCP4', 'AFp2h', 'FTT7', 'P9', 'AFF3', 'AF7h', 'CCP5', 'FFT8h', 'FC4', 'AFp8', 'PPO1h', 'AFF1', 'CP5h', 'AF2', 'PPO7h', 'AF5h', 'POO5', 'TPP9', 'CPz', 'FCCz', 'FTT9', 'POO10', 'C6', 'AF8h', 'POO6h', 'POO2h', 'PO7', 'FTT10h', 'TTP10h', 'A1', 'PO1', 'CPP4h', 'CCP3', 'T9h', 'TP7', 'AF1', 'TTP8h', 'CP4h', 'AFF7h', 'F8h', 'POO4', 'FT7', 'PPO4h', 'POOz', 'CP2h', 'AFp8h', 'CCP2', 'FTT10', 'POO6', 'FFC1h', 'T3', 'CCP6', 'TP10h', 'OI1', 'F10h', 'TPP10', 'FFC4h', 'AF5', 'AF10', 'TTP8', 'OI2', 'AF3h', 'AFp5', 'C2', 'I2h', 'FT8h', 'CCPz', 'CCP4h', 'P7h', 'PO7h', 'FFT7h', 'T10', 'PPO8h', 'POO7h', 'AFF5', 'PPO9h', 'T10h', 'F4h', 'FFC5', 'PO6h', 'AFF10h', 'AFF5h', 'T5', 'P5h', 'P10', 'PO6', 'FC3h', 'FFC6h', 'CPP2', 'AF2h', 'CP3h', 'T6', 'CP3', 'M1', 'P2', 'AFp9', 'CCP2h', 'P5', 'F1h', 'TP7h', 'F5', 'P9h', 'P3h', 'AFp9h', 'AFF4h', 'TPP9h', 'POO2', 'P8h', 'FCC1', 'AFp5h', 'TPP8h', 'Fp2h', 'PO3', 'P4h', 'PO3h', 'TPP7', 'AFp4', 'FFCz', 'AFz', 'FFT7', 'AFF6h', 'AFF8h', 'FFT9h', 'PO2h', 'PPO7', 'TTP7h', 'C1', 'AF1h', 'FFT10h', 'T8h', 'PO1h', 'AFp1', 'A2', 'C4h', 'AF6h', 'CPP3h', 'AFF8', 'PPO6', 'FC3', 'AFF6', 'POO3h', 'CP1h', 'AF8', 'Iz', 'FFC4', 'P10h', 'P2h', 'AFp6', 'AFF1h', 'I2', 'TP8', 'TTP9h', 'FFC3', 'POO7', 'FTT9h', 'CCP3h', 'CPP5h', 'AFF2', 'OIz', 'AFp10h', 'AFp10', 'CPP1', 'AF9', 'O2h', 'OI1h', 'C1h', 'PO5h', 'F10', 'POO9h'}\n"
     ]
    },
    {
     "name": "stderr",
     "output_type": "stream",
     "text": [
      "<ipython-input-1-81fa588ad679>:54: RuntimeWarning: 1 channel names are too long, have been truncated to 15 characters:\n",
      "['BothStartLoadPhase']\n",
      "  info = create_info(ch_names,sfreq=500.0,ch_types=ch_type,montage = montage)\n",
      "/home/yaoxiaojian/anaconda3/lib/python3.7/site-packages/scipy/signal/_arraytools.py:45: FutureWarning: Using a non-tuple sequence for multidimensional indexing is deprecated; use `arr[tuple(seq)]` instead of `arr[seq]`. In the future this will be interpreted as an array index, `arr[np.array(seq)]`, which will result either in an error or a different result.\n",
      "  b = a[a_slice]\n",
      "/home/yaoxiaojian/anaconda3/lib/python3.7/site-packages/scipy/signal/_arraytools.py:45: FutureWarning: Using a non-tuple sequence for multidimensional indexing is deprecated; use `arr[tuple(seq)]` instead of `arr[seq]`. In the future this will be interpreted as an array index, `arr[np.array(seq)]`, which will result either in an error or a different result.\n",
      "  b = a[a_slice]\n",
      "/home/yaoxiaojian/anaconda3/lib/python3.7/site-packages/scipy/signal/_arraytools.py:45: FutureWarning: Using a non-tuple sequence for multidimensional indexing is deprecated; use `arr[tuple(seq)]` instead of `arr[seq]`. In the future this will be interpreted as an array index, `arr[np.array(seq)]`, which will result either in an error or a different result.\n",
      "  b = a[a_slice]\n",
      "/home/yaoxiaojian/anaconda3/lib/python3.7/site-packages/scipy/signal/_arraytools.py:45: FutureWarning: Using a non-tuple sequence for multidimensional indexing is deprecated; use `arr[tuple(seq)]` instead of `arr[seq]`. In the future this will be interpreted as an array index, `arr[np.array(seq)]`, which will result either in an error or a different result.\n",
      "  b = a[a_slice]\n",
      "/home/yaoxiaojian/anaconda3/lib/python3.7/site-packages/scipy/signal/_arraytools.py:45: FutureWarning: Using a non-tuple sequence for multidimensional indexing is deprecated; use `arr[tuple(seq)]` instead of `arr[seq]`. In the future this will be interpreted as an array index, `arr[np.array(seq)]`, which will result either in an error or a different result.\n",
      "  b = a[a_slice]\n",
      "/home/yaoxiaojian/anaconda3/lib/python3.7/site-packages/scipy/signal/_arraytools.py:45: FutureWarning: Using a non-tuple sequence for multidimensional indexing is deprecated; use `arr[tuple(seq)]` instead of `arr[seq]`. In the future this will be interpreted as an array index, `arr[np.array(seq)]`, which will result either in an error or a different result.\n",
      "  b = a[a_slice]\n",
      "/home/yaoxiaojian/anaconda3/lib/python3.7/site-packages/scipy/signal/_arraytools.py:45: FutureWarning: Using a non-tuple sequence for multidimensional indexing is deprecated; use `arr[tuple(seq)]` instead of `arr[seq]`. In the future this will be interpreted as an array index, `arr[np.array(seq)]`, which will result either in an error or a different result.\n",
      "  b = a[a_slice]\n",
      "/home/yaoxiaojian/anaconda3/lib/python3.7/site-packages/scipy/signal/_arraytools.py:45: FutureWarning: Using a non-tuple sequence for multidimensional indexing is deprecated; use `arr[tuple(seq)]` instead of `arr[seq]`. In the future this will be interpreted as an array index, `arr[np.array(seq)]`, which will result either in an error or a different result.\n",
      "  b = a[a_slice]\n"
     ]
    },
    {
     "name": "stdout",
     "output_type": "stream",
     "text": [
      "DigMontage is a superset of info. 311 in DigMontage will be ignored. The ignored channels are: {'PPO3h', 'FFC2h', 'PPOz', 'FCC5h', 'POO5h', 'OI2h', 'AFp7', 'AFF10', 'FCC4', 'POz', 'CCP1', 'PPO9', 'FTT8h', 'FFT8', 'FCC3h', 'PPO10h', 'AFF9', 'F9', 'O1h', 'FT10h', 'F3h', 'F6', 'FFC2', 'F2h', 'AFp6h', 'AFpz', 'PPO3', 'PO8', 'FC2h', 'PPO1', 'T4', 'AF9h', 'POO9', 'AFp1h', 'TPP8', 'CCP5h', 'PPO8', 'FCC6', 'AFp4h', 'P1', 'POO8h', 'FT9h', 'FTT7h', 'CPP6h', 'FC4h', 'PPO4', 'Fpz', 'C6h', 'F5h', 'FFT10', 'POO1h', 'FCC2h', 'AFp3h', 'PO8h', 'CPP3', 'PPO5', 'FC5h', 'AF6', 'P6', 'P1h', 'PO4h', 'TTP7', 'FFT9', 'POO4h', 'PO10h', 'AFF9h', 'POO10h', 'PO4', 'F2', 'AFp7h', 'FCz', 'FFC1', 'POO1', 'CPP2h', 'CP4', 'PO2', 'CCP1h', 'C5h', 'I1', 'FFC5h', 'FC6h', 'FT9', 'Fp1h', 'AFF2h', 'FFC3h', 'F7h', 'PPO2', 'FTT8', 'PO9h', 'AF4h', 'F6h', 'AFF4', 'FC1h', 'AFF3h', 'TP8h', 'CPP1h', 'F1', 'AF10h', 'CPPz', 'FCC3', 'TPP7h', 'CCP6h', 'C5', 'T9', 'FCC6h', 'C3h', 'I1h', 'CPP4', 'FT10', 'TPP10h', 'TTP10', 'CPP6', 'FT7h', 'FFC6', 'FCC2', 'AFFz', 'C2h', 'P6h', 'FCC5', 'POO8', 'M2', 'FCC1h', 'POO3', 'AF7', 'TP9h', 'AFF7', 'PPO2h', 'CP6h', 'T7h', 'F9h', 'CPP5', 'TTP9', 'AF3', 'PPO5h', 'PPO6h', 'FT8', 'AFp2', 'AF4', 'PPO10', 'PO5', 'AFp3', 'FCC4h', 'CCP4', 'AFp2h', 'FTT7', 'P9', 'AFF3', 'AF7h', 'CCP5', 'FFT8h', 'FC4', 'AFp8', 'PPO1h', 'AFF1', 'CP5h', 'AF2', 'PPO7h', 'AF5h', 'POO5', 'TPP9', 'CPz', 'FCCz', 'FTT9', 'POO10', 'C6', 'AF8h', 'POO6h', 'POO2h', 'PO7', 'FTT10h', 'TTP10h', 'A1', 'PO1', 'CPP4h', 'CCP3', 'T9h', 'TP7', 'AF1', 'TTP8h', 'CP4h', 'AFF7h', 'F8h', 'POO4', 'FT7', 'PPO4h', 'POOz', 'CP2h', 'AFp8h', 'CCP2', 'FTT10', 'POO6', 'FFC1h', 'T3', 'CCP6', 'TP10h', 'OI1', 'F10h', 'TPP10', 'FFC4h', 'AF5', 'AF10', 'TTP8', 'OI2', 'AF3h', 'AFp5', 'C2', 'I2h', 'FT8h', 'CCPz', 'CCP4h', 'P7h', 'PO7h', 'FFT7h', 'T10', 'PPO8h', 'POO7h', 'AFF5', 'PPO9h', 'T10h', 'F4h', 'FFC5', 'PO6h', 'AFF10h', 'AFF5h', 'T5', 'P5h', 'P10', 'PO6', 'FC3h', 'FFC6h', 'CPP2', 'AF2h', 'CP3h', 'T6', 'CP3', 'M1', 'P2', 'AFp9', 'CCP2h', 'P5', 'F1h', 'TP7h', 'F5', 'P9h', 'P3h', 'AFp9h', 'AFF4h', 'TPP9h', 'POO2', 'P8h', 'FCC1', 'AFp5h', 'TPP8h', 'Fp2h', 'PO3', 'P4h', 'PO3h', 'TPP7', 'AFp4', 'FFCz', 'AFz', 'FFT7', 'AFF6h', 'AFF8h', 'FFT9h', 'PO2h', 'PPO7', 'TTP7h', 'C1', 'AF1h', 'FFT10h', 'T8h', 'PO1h', 'AFp1', 'A2', 'C4h', 'AF6h', 'CPP3h', 'AFF8', 'PPO6', 'FC3', 'AFF6', 'POO3h', 'CP1h', 'AF8', 'Iz', 'FFC4', 'P10h', 'P2h', 'AFp6', 'AFF1h', 'I2', 'TP8', 'TTP9h', 'FFC3', 'POO7', 'FTT9h', 'CCP3h', 'CPP5h', 'AFF2', 'OIz', 'AFp10h', 'AFp10', 'CPP1', 'AF9', 'O2h', 'OI1h', 'C1h', 'PO5h', 'F10', 'POO9h'}\n"
     ]
    },
    {
     "name": "stderr",
     "output_type": "stream",
     "text": [
      "<ipython-input-1-81fa588ad679>:54: RuntimeWarning: 1 channel names are too long, have been truncated to 15 characters:\n",
      "['BothStartLoadPhase']\n",
      "  info = create_info(ch_names,sfreq=500.0,ch_types=ch_type,montage = montage)\n",
      "/home/yaoxiaojian/anaconda3/lib/python3.7/site-packages/scipy/signal/_arraytools.py:45: FutureWarning: Using a non-tuple sequence for multidimensional indexing is deprecated; use `arr[tuple(seq)]` instead of `arr[seq]`. In the future this will be interpreted as an array index, `arr[np.array(seq)]`, which will result either in an error or a different result.\n",
      "  b = a[a_slice]\n",
      "/home/yaoxiaojian/anaconda3/lib/python3.7/site-packages/scipy/signal/_arraytools.py:45: FutureWarning: Using a non-tuple sequence for multidimensional indexing is deprecated; use `arr[tuple(seq)]` instead of `arr[seq]`. In the future this will be interpreted as an array index, `arr[np.array(seq)]`, which will result either in an error or a different result.\n",
      "  b = a[a_slice]\n",
      "/home/yaoxiaojian/anaconda3/lib/python3.7/site-packages/scipy/signal/_arraytools.py:45: FutureWarning: Using a non-tuple sequence for multidimensional indexing is deprecated; use `arr[tuple(seq)]` instead of `arr[seq]`. In the future this will be interpreted as an array index, `arr[np.array(seq)]`, which will result either in an error or a different result.\n",
      "  b = a[a_slice]\n",
      "/home/yaoxiaojian/anaconda3/lib/python3.7/site-packages/scipy/signal/_arraytools.py:45: FutureWarning: Using a non-tuple sequence for multidimensional indexing is deprecated; use `arr[tuple(seq)]` instead of `arr[seq]`. In the future this will be interpreted as an array index, `arr[np.array(seq)]`, which will result either in an error or a different result.\n",
      "  b = a[a_slice]\n",
      "/home/yaoxiaojian/anaconda3/lib/python3.7/site-packages/scipy/signal/_arraytools.py:45: FutureWarning: Using a non-tuple sequence for multidimensional indexing is deprecated; use `arr[tuple(seq)]` instead of `arr[seq]`. In the future this will be interpreted as an array index, `arr[np.array(seq)]`, which will result either in an error or a different result.\n",
      "  b = a[a_slice]\n",
      "/home/yaoxiaojian/anaconda3/lib/python3.7/site-packages/scipy/signal/_arraytools.py:45: FutureWarning: Using a non-tuple sequence for multidimensional indexing is deprecated; use `arr[tuple(seq)]` instead of `arr[seq]`. In the future this will be interpreted as an array index, `arr[np.array(seq)]`, which will result either in an error or a different result.\n",
      "  b = a[a_slice]\n",
      "/home/yaoxiaojian/anaconda3/lib/python3.7/site-packages/scipy/signal/_arraytools.py:45: FutureWarning: Using a non-tuple sequence for multidimensional indexing is deprecated; use `arr[tuple(seq)]` instead of `arr[seq]`. In the future this will be interpreted as an array index, `arr[np.array(seq)]`, which will result either in an error or a different result.\n",
      "  b = a[a_slice]\n",
      "/home/yaoxiaojian/anaconda3/lib/python3.7/site-packages/scipy/signal/_arraytools.py:45: FutureWarning: Using a non-tuple sequence for multidimensional indexing is deprecated; use `arr[tuple(seq)]` instead of `arr[seq]`. In the future this will be interpreted as an array index, `arr[np.array(seq)]`, which will result either in an error or a different result.\n",
      "  b = a[a_slice]\n"
     ]
    },
    {
     "name": "stdout",
     "output_type": "stream",
     "text": [
      "subject 2 (1560, 64, 751)\n",
      "data stack shape: (3120, 64, 751) (3120,)\n",
      "DigMontage is a superset of info. 311 in DigMontage will be ignored. The ignored channels are: {'PPO3h', 'FFC2h', 'PPOz', 'FCC5h', 'POO5h', 'OI2h', 'AFp7', 'AFF10', 'FCC4', 'POz', 'CCP1', 'PPO9', 'FTT8h', 'FFT8', 'FCC3h', 'PPO10h', 'AFF9', 'F9', 'O1h', 'FT10h', 'F3h', 'F6', 'FFC2', 'F2h', 'AFp6h', 'AFpz', 'PPO3', 'PO8', 'FC2h', 'PPO1', 'T4', 'AF9h', 'POO9', 'AFp1h', 'TPP8', 'CCP5h', 'PPO8', 'FCC6', 'AFp4h', 'P1', 'POO8h', 'FT9h', 'FTT7h', 'CPP6h', 'FC4h', 'PPO4', 'Fpz', 'C6h', 'F5h', 'FFT10', 'POO1h', 'FCC2h', 'AFp3h', 'PO8h', 'CPP3', 'PPO5', 'FC5h', 'AF6', 'P6', 'P1h', 'PO4h', 'TTP7', 'FFT9', 'POO4h', 'PO10h', 'AFF9h', 'POO10h', 'PO4', 'F2', 'AFp7h', 'FCz', 'FFC1', 'POO1', 'CPP2h', 'CP4', 'PO2', 'CCP1h', 'C5h', 'I1', 'FFC5h', 'FC6h', 'FT9', 'Fp1h', 'AFF2h', 'FFC3h', 'F7h', 'PPO2', 'FTT8', 'PO9h', 'AF4h', 'F6h', 'AFF4', 'FC1h', 'AFF3h', 'TP8h', 'CPP1h', 'F1', 'AF10h', 'CPPz', 'FCC3', 'TPP7h', 'CCP6h', 'C5', 'T9', 'FCC6h', 'C3h', 'I1h', 'CPP4', 'FT10', 'TPP10h', 'TTP10', 'CPP6', 'FT7h', 'FFC6', 'FCC2', 'AFFz', 'C2h', 'P6h', 'FCC5', 'POO8', 'M2', 'FCC1h', 'POO3', 'AF7', 'TP9h', 'AFF7', 'PPO2h', 'CP6h', 'T7h', 'F9h', 'CPP5', 'TTP9', 'AF3', 'PPO5h', 'PPO6h', 'FT8', 'AFp2', 'AF4', 'PPO10', 'PO5', 'AFp3', 'FCC4h', 'CCP4', 'AFp2h', 'FTT7', 'P9', 'AFF3', 'AF7h', 'CCP5', 'FFT8h', 'FC4', 'AFp8', 'PPO1h', 'AFF1', 'CP5h', 'AF2', 'PPO7h', 'AF5h', 'POO5', 'TPP9', 'CPz', 'FCCz', 'FTT9', 'POO10', 'C6', 'AF8h', 'POO6h', 'POO2h', 'PO7', 'FTT10h', 'TTP10h', 'A1', 'PO1', 'CPP4h', 'CCP3', 'T9h', 'TP7', 'AF1', 'TTP8h', 'CP4h', 'AFF7h', 'F8h', 'POO4', 'FT7', 'PPO4h', 'POOz', 'CP2h', 'AFp8h', 'CCP2', 'FTT10', 'POO6', 'FFC1h', 'T3', 'CCP6', 'TP10h', 'OI1', 'F10h', 'TPP10', 'FFC4h', 'AF5', 'AF10', 'TTP8', 'OI2', 'AF3h', 'AFp5', 'C2', 'I2h', 'FT8h', 'CCPz', 'CCP4h', 'P7h', 'PO7h', 'FFT7h', 'T10', 'PPO8h', 'POO7h', 'AFF5', 'PPO9h', 'T10h', 'F4h', 'FFC5', 'PO6h', 'AFF10h', 'AFF5h', 'T5', 'P5h', 'P10', 'PO6', 'FC3h', 'FFC6h', 'CPP2', 'AF2h', 'CP3h', 'T6', 'CP3', 'M1', 'P2', 'AFp9', 'CCP2h', 'P5', 'F1h', 'TP7h', 'F5', 'P9h', 'P3h', 'AFp9h', 'AFF4h', 'TPP9h', 'POO2', 'P8h', 'FCC1', 'AFp5h', 'TPP8h', 'Fp2h', 'PO3', 'P4h', 'PO3h', 'TPP7', 'AFp4', 'FFCz', 'AFz', 'FFT7', 'AFF6h', 'AFF8h', 'FFT9h', 'PO2h', 'PPO7', 'TTP7h', 'C1', 'AF1h', 'FFT10h', 'T8h', 'PO1h', 'AFp1', 'A2', 'C4h', 'AF6h', 'CPP3h', 'AFF8', 'PPO6', 'FC3', 'AFF6', 'POO3h', 'CP1h', 'AF8', 'Iz', 'FFC4', 'P10h', 'P2h', 'AFp6', 'AFF1h', 'I2', 'TP8', 'TTP9h', 'FFC3', 'POO7', 'FTT9h', 'CCP3h', 'CPP5h', 'AFF2', 'OIz', 'AFp10h', 'AFp10', 'CPP1', 'AF9', 'O2h', 'OI1h', 'C1h', 'PO5h', 'F10', 'POO9h'}\n"
     ]
    },
    {
     "name": "stderr",
     "output_type": "stream",
     "text": [
      "<ipython-input-1-81fa588ad679>:54: RuntimeWarning: 1 channel names are too long, have been truncated to 15 characters:\n",
      "['BothStartLoadPhase']\n",
      "  info = create_info(ch_names,sfreq=500.0,ch_types=ch_type,montage = montage)\n",
      "/home/yaoxiaojian/anaconda3/lib/python3.7/site-packages/scipy/signal/_arraytools.py:45: FutureWarning: Using a non-tuple sequence for multidimensional indexing is deprecated; use `arr[tuple(seq)]` instead of `arr[seq]`. In the future this will be interpreted as an array index, `arr[np.array(seq)]`, which will result either in an error or a different result.\n",
      "  b = a[a_slice]\n",
      "/home/yaoxiaojian/anaconda3/lib/python3.7/site-packages/scipy/signal/_arraytools.py:45: FutureWarning: Using a non-tuple sequence for multidimensional indexing is deprecated; use `arr[tuple(seq)]` instead of `arr[seq]`. In the future this will be interpreted as an array index, `arr[np.array(seq)]`, which will result either in an error or a different result.\n",
      "  b = a[a_slice]\n",
      "/home/yaoxiaojian/anaconda3/lib/python3.7/site-packages/scipy/signal/_arraytools.py:45: FutureWarning: Using a non-tuple sequence for multidimensional indexing is deprecated; use `arr[tuple(seq)]` instead of `arr[seq]`. In the future this will be interpreted as an array index, `arr[np.array(seq)]`, which will result either in an error or a different result.\n",
      "  b = a[a_slice]\n",
      "/home/yaoxiaojian/anaconda3/lib/python3.7/site-packages/scipy/signal/_arraytools.py:45: FutureWarning: Using a non-tuple sequence for multidimensional indexing is deprecated; use `arr[tuple(seq)]` instead of `arr[seq]`. In the future this will be interpreted as an array index, `arr[np.array(seq)]`, which will result either in an error or a different result.\n",
      "  b = a[a_slice]\n",
      "/home/yaoxiaojian/anaconda3/lib/python3.7/site-packages/scipy/signal/_arraytools.py:45: FutureWarning: Using a non-tuple sequence for multidimensional indexing is deprecated; use `arr[tuple(seq)]` instead of `arr[seq]`. In the future this will be interpreted as an array index, `arr[np.array(seq)]`, which will result either in an error or a different result.\n",
      "  b = a[a_slice]\n",
      "/home/yaoxiaojian/anaconda3/lib/python3.7/site-packages/scipy/signal/_arraytools.py:45: FutureWarning: Using a non-tuple sequence for multidimensional indexing is deprecated; use `arr[tuple(seq)]` instead of `arr[seq]`. In the future this will be interpreted as an array index, `arr[np.array(seq)]`, which will result either in an error or a different result.\n",
      "  b = a[a_slice]\n",
      "/home/yaoxiaojian/anaconda3/lib/python3.7/site-packages/scipy/signal/_arraytools.py:45: FutureWarning: Using a non-tuple sequence for multidimensional indexing is deprecated; use `arr[tuple(seq)]` instead of `arr[seq]`. In the future this will be interpreted as an array index, `arr[np.array(seq)]`, which will result either in an error or a different result.\n",
      "  b = a[a_slice]\n",
      "/home/yaoxiaojian/anaconda3/lib/python3.7/site-packages/scipy/signal/_arraytools.py:45: FutureWarning: Using a non-tuple sequence for multidimensional indexing is deprecated; use `arr[tuple(seq)]` instead of `arr[seq]`. In the future this will be interpreted as an array index, `arr[np.array(seq)]`, which will result either in an error or a different result.\n",
      "  b = a[a_slice]\n"
     ]
    },
    {
     "name": "stdout",
     "output_type": "stream",
     "text": [
      "DigMontage is a superset of info. 311 in DigMontage will be ignored. The ignored channels are: {'PPO3h', 'FFC2h', 'PPOz', 'FCC5h', 'POO5h', 'OI2h', 'AFp7', 'AFF10', 'FCC4', 'POz', 'CCP1', 'PPO9', 'FTT8h', 'FFT8', 'FCC3h', 'PPO10h', 'AFF9', 'F9', 'O1h', 'FT10h', 'F3h', 'F6', 'FFC2', 'F2h', 'AFp6h', 'AFpz', 'PPO3', 'PO8', 'FC2h', 'PPO1', 'T4', 'AF9h', 'POO9', 'AFp1h', 'TPP8', 'CCP5h', 'PPO8', 'FCC6', 'AFp4h', 'P1', 'POO8h', 'FT9h', 'FTT7h', 'CPP6h', 'FC4h', 'PPO4', 'Fpz', 'C6h', 'F5h', 'FFT10', 'POO1h', 'FCC2h', 'AFp3h', 'PO8h', 'CPP3', 'PPO5', 'FC5h', 'AF6', 'P6', 'P1h', 'PO4h', 'TTP7', 'FFT9', 'POO4h', 'PO10h', 'AFF9h', 'POO10h', 'PO4', 'F2', 'AFp7h', 'FCz', 'FFC1', 'POO1', 'CPP2h', 'CP4', 'PO2', 'CCP1h', 'C5h', 'I1', 'FFC5h', 'FC6h', 'FT9', 'Fp1h', 'AFF2h', 'FFC3h', 'F7h', 'PPO2', 'FTT8', 'PO9h', 'AF4h', 'F6h', 'AFF4', 'FC1h', 'AFF3h', 'TP8h', 'CPP1h', 'F1', 'AF10h', 'CPPz', 'FCC3', 'TPP7h', 'CCP6h', 'C5', 'T9', 'FCC6h', 'C3h', 'I1h', 'CPP4', 'FT10', 'TPP10h', 'TTP10', 'CPP6', 'FT7h', 'FFC6', 'FCC2', 'AFFz', 'C2h', 'P6h', 'FCC5', 'POO8', 'M2', 'FCC1h', 'POO3', 'AF7', 'TP9h', 'AFF7', 'PPO2h', 'CP6h', 'T7h', 'F9h', 'CPP5', 'TTP9', 'AF3', 'PPO5h', 'PPO6h', 'FT8', 'AFp2', 'AF4', 'PPO10', 'PO5', 'AFp3', 'FCC4h', 'CCP4', 'AFp2h', 'FTT7', 'P9', 'AFF3', 'AF7h', 'CCP5', 'FFT8h', 'FC4', 'AFp8', 'PPO1h', 'AFF1', 'CP5h', 'AF2', 'PPO7h', 'AF5h', 'POO5', 'TPP9', 'CPz', 'FCCz', 'FTT9', 'POO10', 'C6', 'AF8h', 'POO6h', 'POO2h', 'PO7', 'FTT10h', 'TTP10h', 'A1', 'PO1', 'CPP4h', 'CCP3', 'T9h', 'TP7', 'AF1', 'TTP8h', 'CP4h', 'AFF7h', 'F8h', 'POO4', 'FT7', 'PPO4h', 'POOz', 'CP2h', 'AFp8h', 'CCP2', 'FTT10', 'POO6', 'FFC1h', 'T3', 'CCP6', 'TP10h', 'OI1', 'F10h', 'TPP10', 'FFC4h', 'AF5', 'AF10', 'TTP8', 'OI2', 'AF3h', 'AFp5', 'C2', 'I2h', 'FT8h', 'CCPz', 'CCP4h', 'P7h', 'PO7h', 'FFT7h', 'T10', 'PPO8h', 'POO7h', 'AFF5', 'PPO9h', 'T10h', 'F4h', 'FFC5', 'PO6h', 'AFF10h', 'AFF5h', 'T5', 'P5h', 'P10', 'PO6', 'FC3h', 'FFC6h', 'CPP2', 'AF2h', 'CP3h', 'T6', 'CP3', 'M1', 'P2', 'AFp9', 'CCP2h', 'P5', 'F1h', 'TP7h', 'F5', 'P9h', 'P3h', 'AFp9h', 'AFF4h', 'TPP9h', 'POO2', 'P8h', 'FCC1', 'AFp5h', 'TPP8h', 'Fp2h', 'PO3', 'P4h', 'PO3h', 'TPP7', 'AFp4', 'FFCz', 'AFz', 'FFT7', 'AFF6h', 'AFF8h', 'FFT9h', 'PO2h', 'PPO7', 'TTP7h', 'C1', 'AF1h', 'FFT10h', 'T8h', 'PO1h', 'AFp1', 'A2', 'C4h', 'AF6h', 'CPP3h', 'AFF8', 'PPO6', 'FC3', 'AFF6', 'POO3h', 'CP1h', 'AF8', 'Iz', 'FFC4', 'P10h', 'P2h', 'AFp6', 'AFF1h', 'I2', 'TP8', 'TTP9h', 'FFC3', 'POO7', 'FTT9h', 'CCP3h', 'CPP5h', 'AFF2', 'OIz', 'AFp10h', 'AFp10', 'CPP1', 'AF9', 'O2h', 'OI1h', 'C1h', 'PO5h', 'F10', 'POO9h'}\n"
     ]
    },
    {
     "name": "stderr",
     "output_type": "stream",
     "text": [
      "<ipython-input-1-81fa588ad679>:54: RuntimeWarning: 1 channel names are too long, have been truncated to 15 characters:\n",
      "['BothStartLoadPhase']\n",
      "  info = create_info(ch_names,sfreq=500.0,ch_types=ch_type,montage = montage)\n",
      "/home/yaoxiaojian/anaconda3/lib/python3.7/site-packages/scipy/signal/_arraytools.py:45: FutureWarning: Using a non-tuple sequence for multidimensional indexing is deprecated; use `arr[tuple(seq)]` instead of `arr[seq]`. In the future this will be interpreted as an array index, `arr[np.array(seq)]`, which will result either in an error or a different result.\n",
      "  b = a[a_slice]\n",
      "/home/yaoxiaojian/anaconda3/lib/python3.7/site-packages/scipy/signal/_arraytools.py:45: FutureWarning: Using a non-tuple sequence for multidimensional indexing is deprecated; use `arr[tuple(seq)]` instead of `arr[seq]`. In the future this will be interpreted as an array index, `arr[np.array(seq)]`, which will result either in an error or a different result.\n",
      "  b = a[a_slice]\n",
      "/home/yaoxiaojian/anaconda3/lib/python3.7/site-packages/scipy/signal/_arraytools.py:45: FutureWarning: Using a non-tuple sequence for multidimensional indexing is deprecated; use `arr[tuple(seq)]` instead of `arr[seq]`. In the future this will be interpreted as an array index, `arr[np.array(seq)]`, which will result either in an error or a different result.\n",
      "  b = a[a_slice]\n",
      "/home/yaoxiaojian/anaconda3/lib/python3.7/site-packages/scipy/signal/_arraytools.py:45: FutureWarning: Using a non-tuple sequence for multidimensional indexing is deprecated; use `arr[tuple(seq)]` instead of `arr[seq]`. In the future this will be interpreted as an array index, `arr[np.array(seq)]`, which will result either in an error or a different result.\n",
      "  b = a[a_slice]\n",
      "/home/yaoxiaojian/anaconda3/lib/python3.7/site-packages/scipy/signal/_arraytools.py:45: FutureWarning: Using a non-tuple sequence for multidimensional indexing is deprecated; use `arr[tuple(seq)]` instead of `arr[seq]`. In the future this will be interpreted as an array index, `arr[np.array(seq)]`, which will result either in an error or a different result.\n",
      "  b = a[a_slice]\n",
      "/home/yaoxiaojian/anaconda3/lib/python3.7/site-packages/scipy/signal/_arraytools.py:45: FutureWarning: Using a non-tuple sequence for multidimensional indexing is deprecated; use `arr[tuple(seq)]` instead of `arr[seq]`. In the future this will be interpreted as an array index, `arr[np.array(seq)]`, which will result either in an error or a different result.\n",
      "  b = a[a_slice]\n",
      "/home/yaoxiaojian/anaconda3/lib/python3.7/site-packages/scipy/signal/_arraytools.py:45: FutureWarning: Using a non-tuple sequence for multidimensional indexing is deprecated; use `arr[tuple(seq)]` instead of `arr[seq]`. In the future this will be interpreted as an array index, `arr[np.array(seq)]`, which will result either in an error or a different result.\n",
      "  b = a[a_slice]\n",
      "/home/yaoxiaojian/anaconda3/lib/python3.7/site-packages/scipy/signal/_arraytools.py:45: FutureWarning: Using a non-tuple sequence for multidimensional indexing is deprecated; use `arr[tuple(seq)]` instead of `arr[seq]`. In the future this will be interpreted as an array index, `arr[np.array(seq)]`, which will result either in an error or a different result.\n",
      "  b = a[a_slice]\n"
     ]
    },
    {
     "name": "stdout",
     "output_type": "stream",
     "text": [
      "DigMontage is a superset of info. 311 in DigMontage will be ignored. The ignored channels are: {'PPO3h', 'FFC2h', 'PPOz', 'FCC5h', 'POO5h', 'OI2h', 'AFp7', 'AFF10', 'FCC4', 'POz', 'CCP1', 'PPO9', 'FTT8h', 'FFT8', 'FCC3h', 'PPO10h', 'AFF9', 'F9', 'O1h', 'FT10h', 'F3h', 'F6', 'FFC2', 'F2h', 'AFp6h', 'AFpz', 'PPO3', 'PO8', 'FC2h', 'PPO1', 'T4', 'AF9h', 'POO9', 'AFp1h', 'TPP8', 'CCP5h', 'PPO8', 'FCC6', 'AFp4h', 'P1', 'POO8h', 'FT9h', 'FTT7h', 'CPP6h', 'FC4h', 'PPO4', 'Fpz', 'C6h', 'F5h', 'FFT10', 'POO1h', 'FCC2h', 'AFp3h', 'PO8h', 'CPP3', 'PPO5', 'FC5h', 'AF6', 'P6', 'P1h', 'PO4h', 'TTP7', 'FFT9', 'POO4h', 'PO10h', 'AFF9h', 'POO10h', 'PO4', 'F2', 'AFp7h', 'FCz', 'FFC1', 'POO1', 'CPP2h', 'CP4', 'PO2', 'CCP1h', 'C5h', 'I1', 'FFC5h', 'FC6h', 'FT9', 'Fp1h', 'AFF2h', 'FFC3h', 'F7h', 'PPO2', 'FTT8', 'PO9h', 'AF4h', 'F6h', 'AFF4', 'FC1h', 'AFF3h', 'TP8h', 'CPP1h', 'F1', 'AF10h', 'CPPz', 'FCC3', 'TPP7h', 'CCP6h', 'C5', 'T9', 'FCC6h', 'C3h', 'I1h', 'CPP4', 'FT10', 'TPP10h', 'TTP10', 'CPP6', 'FT7h', 'FFC6', 'FCC2', 'AFFz', 'C2h', 'P6h', 'FCC5', 'POO8', 'M2', 'FCC1h', 'POO3', 'AF7', 'TP9h', 'AFF7', 'PPO2h', 'CP6h', 'T7h', 'F9h', 'CPP5', 'TTP9', 'AF3', 'PPO5h', 'PPO6h', 'FT8', 'AFp2', 'AF4', 'PPO10', 'PO5', 'AFp3', 'FCC4h', 'CCP4', 'AFp2h', 'FTT7', 'P9', 'AFF3', 'AF7h', 'CCP5', 'FFT8h', 'FC4', 'AFp8', 'PPO1h', 'AFF1', 'CP5h', 'AF2', 'PPO7h', 'AF5h', 'POO5', 'TPP9', 'CPz', 'FCCz', 'FTT9', 'POO10', 'C6', 'AF8h', 'POO6h', 'POO2h', 'PO7', 'FTT10h', 'TTP10h', 'A1', 'PO1', 'CPP4h', 'CCP3', 'T9h', 'TP7', 'AF1', 'TTP8h', 'CP4h', 'AFF7h', 'F8h', 'POO4', 'FT7', 'PPO4h', 'POOz', 'CP2h', 'AFp8h', 'CCP2', 'FTT10', 'POO6', 'FFC1h', 'T3', 'CCP6', 'TP10h', 'OI1', 'F10h', 'TPP10', 'FFC4h', 'AF5', 'AF10', 'TTP8', 'OI2', 'AF3h', 'AFp5', 'C2', 'I2h', 'FT8h', 'CCPz', 'CCP4h', 'P7h', 'PO7h', 'FFT7h', 'T10', 'PPO8h', 'POO7h', 'AFF5', 'PPO9h', 'T10h', 'F4h', 'FFC5', 'PO6h', 'AFF10h', 'AFF5h', 'T5', 'P5h', 'P10', 'PO6', 'FC3h', 'FFC6h', 'CPP2', 'AF2h', 'CP3h', 'T6', 'CP3', 'M1', 'P2', 'AFp9', 'CCP2h', 'P5', 'F1h', 'TP7h', 'F5', 'P9h', 'P3h', 'AFp9h', 'AFF4h', 'TPP9h', 'POO2', 'P8h', 'FCC1', 'AFp5h', 'TPP8h', 'Fp2h', 'PO3', 'P4h', 'PO3h', 'TPP7', 'AFp4', 'FFCz', 'AFz', 'FFT7', 'AFF6h', 'AFF8h', 'FFT9h', 'PO2h', 'PPO7', 'TTP7h', 'C1', 'AF1h', 'FFT10h', 'T8h', 'PO1h', 'AFp1', 'A2', 'C4h', 'AF6h', 'CPP3h', 'AFF8', 'PPO6', 'FC3', 'AFF6', 'POO3h', 'CP1h', 'AF8', 'Iz', 'FFC4', 'P10h', 'P2h', 'AFp6', 'AFF1h', 'I2', 'TP8', 'TTP9h', 'FFC3', 'POO7', 'FTT9h', 'CCP3h', 'CPP5h', 'AFF2', 'OIz', 'AFp10h', 'AFp10', 'CPP1', 'AF9', 'O2h', 'OI1h', 'C1h', 'PO5h', 'F10', 'POO9h'}\n"
     ]
    },
    {
     "name": "stderr",
     "output_type": "stream",
     "text": [
      "<ipython-input-1-81fa588ad679>:54: RuntimeWarning: 1 channel names are too long, have been truncated to 15 characters:\n",
      "['BothStartLoadPhase']\n",
      "  info = create_info(ch_names,sfreq=500.0,ch_types=ch_type,montage = montage)\n",
      "/home/yaoxiaojian/anaconda3/lib/python3.7/site-packages/scipy/signal/_arraytools.py:45: FutureWarning: Using a non-tuple sequence for multidimensional indexing is deprecated; use `arr[tuple(seq)]` instead of `arr[seq]`. In the future this will be interpreted as an array index, `arr[np.array(seq)]`, which will result either in an error or a different result.\n",
      "  b = a[a_slice]\n",
      "/home/yaoxiaojian/anaconda3/lib/python3.7/site-packages/scipy/signal/_arraytools.py:45: FutureWarning: Using a non-tuple sequence for multidimensional indexing is deprecated; use `arr[tuple(seq)]` instead of `arr[seq]`. In the future this will be interpreted as an array index, `arr[np.array(seq)]`, which will result either in an error or a different result.\n",
      "  b = a[a_slice]\n",
      "/home/yaoxiaojian/anaconda3/lib/python3.7/site-packages/scipy/signal/_arraytools.py:45: FutureWarning: Using a non-tuple sequence for multidimensional indexing is deprecated; use `arr[tuple(seq)]` instead of `arr[seq]`. In the future this will be interpreted as an array index, `arr[np.array(seq)]`, which will result either in an error or a different result.\n",
      "  b = a[a_slice]\n",
      "/home/yaoxiaojian/anaconda3/lib/python3.7/site-packages/scipy/signal/_arraytools.py:45: FutureWarning: Using a non-tuple sequence for multidimensional indexing is deprecated; use `arr[tuple(seq)]` instead of `arr[seq]`. In the future this will be interpreted as an array index, `arr[np.array(seq)]`, which will result either in an error or a different result.\n",
      "  b = a[a_slice]\n",
      "/home/yaoxiaojian/anaconda3/lib/python3.7/site-packages/scipy/signal/_arraytools.py:45: FutureWarning: Using a non-tuple sequence for multidimensional indexing is deprecated; use `arr[tuple(seq)]` instead of `arr[seq]`. In the future this will be interpreted as an array index, `arr[np.array(seq)]`, which will result either in an error or a different result.\n",
      "  b = a[a_slice]\n",
      "/home/yaoxiaojian/anaconda3/lib/python3.7/site-packages/scipy/signal/_arraytools.py:45: FutureWarning: Using a non-tuple sequence for multidimensional indexing is deprecated; use `arr[tuple(seq)]` instead of `arr[seq]`. In the future this will be interpreted as an array index, `arr[np.array(seq)]`, which will result either in an error or a different result.\n",
      "  b = a[a_slice]\n",
      "/home/yaoxiaojian/anaconda3/lib/python3.7/site-packages/scipy/signal/_arraytools.py:45: FutureWarning: Using a non-tuple sequence for multidimensional indexing is deprecated; use `arr[tuple(seq)]` instead of `arr[seq]`. In the future this will be interpreted as an array index, `arr[np.array(seq)]`, which will result either in an error or a different result.\n",
      "  b = a[a_slice]\n",
      "/home/yaoxiaojian/anaconda3/lib/python3.7/site-packages/scipy/signal/_arraytools.py:45: FutureWarning: Using a non-tuple sequence for multidimensional indexing is deprecated; use `arr[tuple(seq)]` instead of `arr[seq]`. In the future this will be interpreted as an array index, `arr[np.array(seq)]`, which will result either in an error or a different result.\n",
      "  b = a[a_slice]\n"
     ]
    },
    {
     "name": "stdout",
     "output_type": "stream",
     "text": [
      "DigMontage is a superset of info. 311 in DigMontage will be ignored. The ignored channels are: {'PPO3h', 'FFC2h', 'PPOz', 'FCC5h', 'POO5h', 'OI2h', 'AFp7', 'AFF10', 'FCC4', 'POz', 'CCP1', 'PPO9', 'FTT8h', 'FFT8', 'FCC3h', 'PPO10h', 'AFF9', 'F9', 'O1h', 'FT10h', 'F3h', 'F6', 'FFC2', 'F2h', 'AFp6h', 'AFpz', 'PPO3', 'PO8', 'FC2h', 'PPO1', 'T4', 'AF9h', 'POO9', 'AFp1h', 'TPP8', 'CCP5h', 'PPO8', 'FCC6', 'AFp4h', 'P1', 'POO8h', 'FT9h', 'FTT7h', 'CPP6h', 'FC4h', 'PPO4', 'Fpz', 'C6h', 'F5h', 'FFT10', 'POO1h', 'FCC2h', 'AFp3h', 'PO8h', 'CPP3', 'PPO5', 'FC5h', 'AF6', 'P6', 'P1h', 'PO4h', 'TTP7', 'FFT9', 'POO4h', 'PO10h', 'AFF9h', 'POO10h', 'PO4', 'F2', 'AFp7h', 'FCz', 'FFC1', 'POO1', 'CPP2h', 'CP4', 'PO2', 'CCP1h', 'C5h', 'I1', 'FFC5h', 'FC6h', 'FT9', 'Fp1h', 'AFF2h', 'FFC3h', 'F7h', 'PPO2', 'FTT8', 'PO9h', 'AF4h', 'F6h', 'AFF4', 'FC1h', 'AFF3h', 'TP8h', 'CPP1h', 'F1', 'AF10h', 'CPPz', 'FCC3', 'TPP7h', 'CCP6h', 'C5', 'T9', 'FCC6h', 'C3h', 'I1h', 'CPP4', 'FT10', 'TPP10h', 'TTP10', 'CPP6', 'FT7h', 'FFC6', 'FCC2', 'AFFz', 'C2h', 'P6h', 'FCC5', 'POO8', 'M2', 'FCC1h', 'POO3', 'AF7', 'TP9h', 'AFF7', 'PPO2h', 'CP6h', 'T7h', 'F9h', 'CPP5', 'TTP9', 'AF3', 'PPO5h', 'PPO6h', 'FT8', 'AFp2', 'AF4', 'PPO10', 'PO5', 'AFp3', 'FCC4h', 'CCP4', 'AFp2h', 'FTT7', 'P9', 'AFF3', 'AF7h', 'CCP5', 'FFT8h', 'FC4', 'AFp8', 'PPO1h', 'AFF1', 'CP5h', 'AF2', 'PPO7h', 'AF5h', 'POO5', 'TPP9', 'CPz', 'FCCz', 'FTT9', 'POO10', 'C6', 'AF8h', 'POO6h', 'POO2h', 'PO7', 'FTT10h', 'TTP10h', 'A1', 'PO1', 'CPP4h', 'CCP3', 'T9h', 'TP7', 'AF1', 'TTP8h', 'CP4h', 'AFF7h', 'F8h', 'POO4', 'FT7', 'PPO4h', 'POOz', 'CP2h', 'AFp8h', 'CCP2', 'FTT10', 'POO6', 'FFC1h', 'T3', 'CCP6', 'TP10h', 'OI1', 'F10h', 'TPP10', 'FFC4h', 'AF5', 'AF10', 'TTP8', 'OI2', 'AF3h', 'AFp5', 'C2', 'I2h', 'FT8h', 'CCPz', 'CCP4h', 'P7h', 'PO7h', 'FFT7h', 'T10', 'PPO8h', 'POO7h', 'AFF5', 'PPO9h', 'T10h', 'F4h', 'FFC5', 'PO6h', 'AFF10h', 'AFF5h', 'T5', 'P5h', 'P10', 'PO6', 'FC3h', 'FFC6h', 'CPP2', 'AF2h', 'CP3h', 'T6', 'CP3', 'M1', 'P2', 'AFp9', 'CCP2h', 'P5', 'F1h', 'TP7h', 'F5', 'P9h', 'P3h', 'AFp9h', 'AFF4h', 'TPP9h', 'POO2', 'P8h', 'FCC1', 'AFp5h', 'TPP8h', 'Fp2h', 'PO3', 'P4h', 'PO3h', 'TPP7', 'AFp4', 'FFCz', 'AFz', 'FFT7', 'AFF6h', 'AFF8h', 'FFT9h', 'PO2h', 'PPO7', 'TTP7h', 'C1', 'AF1h', 'FFT10h', 'T8h', 'PO1h', 'AFp1', 'A2', 'C4h', 'AF6h', 'CPP3h', 'AFF8', 'PPO6', 'FC3', 'AFF6', 'POO3h', 'CP1h', 'AF8', 'Iz', 'FFC4', 'P10h', 'P2h', 'AFp6', 'AFF1h', 'I2', 'TP8', 'TTP9h', 'FFC3', 'POO7', 'FTT9h', 'CCP3h', 'CPP5h', 'AFF2', 'OIz', 'AFp10h', 'AFp10', 'CPP1', 'AF9', 'O2h', 'OI1h', 'C1h', 'PO5h', 'F10', 'POO9h'}\n"
     ]
    },
    {
     "name": "stderr",
     "output_type": "stream",
     "text": [
      "<ipython-input-1-81fa588ad679>:54: RuntimeWarning: 1 channel names are too long, have been truncated to 15 characters:\n",
      "['BothStartLoadPhase']\n",
      "  info = create_info(ch_names,sfreq=500.0,ch_types=ch_type,montage = montage)\n",
      "/home/yaoxiaojian/anaconda3/lib/python3.7/site-packages/scipy/signal/_arraytools.py:45: FutureWarning: Using a non-tuple sequence for multidimensional indexing is deprecated; use `arr[tuple(seq)]` instead of `arr[seq]`. In the future this will be interpreted as an array index, `arr[np.array(seq)]`, which will result either in an error or a different result.\n",
      "  b = a[a_slice]\n",
      "/home/yaoxiaojian/anaconda3/lib/python3.7/site-packages/scipy/signal/_arraytools.py:45: FutureWarning: Using a non-tuple sequence for multidimensional indexing is deprecated; use `arr[tuple(seq)]` instead of `arr[seq]`. In the future this will be interpreted as an array index, `arr[np.array(seq)]`, which will result either in an error or a different result.\n",
      "  b = a[a_slice]\n",
      "/home/yaoxiaojian/anaconda3/lib/python3.7/site-packages/scipy/signal/_arraytools.py:45: FutureWarning: Using a non-tuple sequence for multidimensional indexing is deprecated; use `arr[tuple(seq)]` instead of `arr[seq]`. In the future this will be interpreted as an array index, `arr[np.array(seq)]`, which will result either in an error or a different result.\n",
      "  b = a[a_slice]\n",
      "/home/yaoxiaojian/anaconda3/lib/python3.7/site-packages/scipy/signal/_arraytools.py:45: FutureWarning: Using a non-tuple sequence for multidimensional indexing is deprecated; use `arr[tuple(seq)]` instead of `arr[seq]`. In the future this will be interpreted as an array index, `arr[np.array(seq)]`, which will result either in an error or a different result.\n",
      "  b = a[a_slice]\n",
      "/home/yaoxiaojian/anaconda3/lib/python3.7/site-packages/scipy/signal/_arraytools.py:45: FutureWarning: Using a non-tuple sequence for multidimensional indexing is deprecated; use `arr[tuple(seq)]` instead of `arr[seq]`. In the future this will be interpreted as an array index, `arr[np.array(seq)]`, which will result either in an error or a different result.\n",
      "  b = a[a_slice]\n",
      "/home/yaoxiaojian/anaconda3/lib/python3.7/site-packages/scipy/signal/_arraytools.py:45: FutureWarning: Using a non-tuple sequence for multidimensional indexing is deprecated; use `arr[tuple(seq)]` instead of `arr[seq]`. In the future this will be interpreted as an array index, `arr[np.array(seq)]`, which will result either in an error or a different result.\n",
      "  b = a[a_slice]\n",
      "/home/yaoxiaojian/anaconda3/lib/python3.7/site-packages/scipy/signal/_arraytools.py:45: FutureWarning: Using a non-tuple sequence for multidimensional indexing is deprecated; use `arr[tuple(seq)]` instead of `arr[seq]`. In the future this will be interpreted as an array index, `arr[np.array(seq)]`, which will result either in an error or a different result.\n",
      "  b = a[a_slice]\n",
      "/home/yaoxiaojian/anaconda3/lib/python3.7/site-packages/scipy/signal/_arraytools.py:45: FutureWarning: Using a non-tuple sequence for multidimensional indexing is deprecated; use `arr[tuple(seq)]` instead of `arr[seq]`. In the future this will be interpreted as an array index, `arr[np.array(seq)]`, which will result either in an error or a different result.\n",
      "  b = a[a_slice]\n"
     ]
    },
    {
     "name": "stdout",
     "output_type": "stream",
     "text": [
      "DigMontage is a superset of info. 311 in DigMontage will be ignored. The ignored channels are: {'PPO3h', 'FFC2h', 'PPOz', 'FCC5h', 'POO5h', 'OI2h', 'AFp7', 'AFF10', 'FCC4', 'POz', 'CCP1', 'PPO9', 'FTT8h', 'FFT8', 'FCC3h', 'PPO10h', 'AFF9', 'F9', 'O1h', 'FT10h', 'F3h', 'F6', 'FFC2', 'F2h', 'AFp6h', 'AFpz', 'PPO3', 'PO8', 'FC2h', 'PPO1', 'T4', 'AF9h', 'POO9', 'AFp1h', 'TPP8', 'CCP5h', 'PPO8', 'FCC6', 'AFp4h', 'P1', 'POO8h', 'FT9h', 'FTT7h', 'CPP6h', 'FC4h', 'PPO4', 'Fpz', 'C6h', 'F5h', 'FFT10', 'POO1h', 'FCC2h', 'AFp3h', 'PO8h', 'CPP3', 'PPO5', 'FC5h', 'AF6', 'P6', 'P1h', 'PO4h', 'TTP7', 'FFT9', 'POO4h', 'PO10h', 'AFF9h', 'POO10h', 'PO4', 'F2', 'AFp7h', 'FCz', 'FFC1', 'POO1', 'CPP2h', 'CP4', 'PO2', 'CCP1h', 'C5h', 'I1', 'FFC5h', 'FC6h', 'FT9', 'Fp1h', 'AFF2h', 'FFC3h', 'F7h', 'PPO2', 'FTT8', 'PO9h', 'AF4h', 'F6h', 'AFF4', 'FC1h', 'AFF3h', 'TP8h', 'CPP1h', 'F1', 'AF10h', 'CPPz', 'FCC3', 'TPP7h', 'CCP6h', 'C5', 'T9', 'FCC6h', 'C3h', 'I1h', 'CPP4', 'FT10', 'TPP10h', 'TTP10', 'CPP6', 'FT7h', 'FFC6', 'FCC2', 'AFFz', 'C2h', 'P6h', 'FCC5', 'POO8', 'M2', 'FCC1h', 'POO3', 'AF7', 'TP9h', 'AFF7', 'PPO2h', 'CP6h', 'T7h', 'F9h', 'CPP5', 'TTP9', 'AF3', 'PPO5h', 'PPO6h', 'FT8', 'AFp2', 'AF4', 'PPO10', 'PO5', 'AFp3', 'FCC4h', 'CCP4', 'AFp2h', 'FTT7', 'P9', 'AFF3', 'AF7h', 'CCP5', 'FFT8h', 'FC4', 'AFp8', 'PPO1h', 'AFF1', 'CP5h', 'AF2', 'PPO7h', 'AF5h', 'POO5', 'TPP9', 'CPz', 'FCCz', 'FTT9', 'POO10', 'C6', 'AF8h', 'POO6h', 'POO2h', 'PO7', 'FTT10h', 'TTP10h', 'A1', 'PO1', 'CPP4h', 'CCP3', 'T9h', 'TP7', 'AF1', 'TTP8h', 'CP4h', 'AFF7h', 'F8h', 'POO4', 'FT7', 'PPO4h', 'POOz', 'CP2h', 'AFp8h', 'CCP2', 'FTT10', 'POO6', 'FFC1h', 'T3', 'CCP6', 'TP10h', 'OI1', 'F10h', 'TPP10', 'FFC4h', 'AF5', 'AF10', 'TTP8', 'OI2', 'AF3h', 'AFp5', 'C2', 'I2h', 'FT8h', 'CCPz', 'CCP4h', 'P7h', 'PO7h', 'FFT7h', 'T10', 'PPO8h', 'POO7h', 'AFF5', 'PPO9h', 'T10h', 'F4h', 'FFC5', 'PO6h', 'AFF10h', 'AFF5h', 'T5', 'P5h', 'P10', 'PO6', 'FC3h', 'FFC6h', 'CPP2', 'AF2h', 'CP3h', 'T6', 'CP3', 'M1', 'P2', 'AFp9', 'CCP2h', 'P5', 'F1h', 'TP7h', 'F5', 'P9h', 'P3h', 'AFp9h', 'AFF4h', 'TPP9h', 'POO2', 'P8h', 'FCC1', 'AFp5h', 'TPP8h', 'Fp2h', 'PO3', 'P4h', 'PO3h', 'TPP7', 'AFp4', 'FFCz', 'AFz', 'FFT7', 'AFF6h', 'AFF8h', 'FFT9h', 'PO2h', 'PPO7', 'TTP7h', 'C1', 'AF1h', 'FFT10h', 'T8h', 'PO1h', 'AFp1', 'A2', 'C4h', 'AF6h', 'CPP3h', 'AFF8', 'PPO6', 'FC3', 'AFF6', 'POO3h', 'CP1h', 'AF8', 'Iz', 'FFC4', 'P10h', 'P2h', 'AFp6', 'AFF1h', 'I2', 'TP8', 'TTP9h', 'FFC3', 'POO7', 'FTT9h', 'CCP3h', 'CPP5h', 'AFF2', 'OIz', 'AFp10h', 'AFp10', 'CPP1', 'AF9', 'O2h', 'OI1h', 'C1h', 'PO5h', 'F10', 'POO9h'}\n"
     ]
    },
    {
     "name": "stderr",
     "output_type": "stream",
     "text": [
      "<ipython-input-1-81fa588ad679>:54: RuntimeWarning: 1 channel names are too long, have been truncated to 15 characters:\n",
      "['BothStartLoadPhase']\n",
      "  info = create_info(ch_names,sfreq=500.0,ch_types=ch_type,montage = montage)\n",
      "/home/yaoxiaojian/anaconda3/lib/python3.7/site-packages/scipy/signal/_arraytools.py:45: FutureWarning: Using a non-tuple sequence for multidimensional indexing is deprecated; use `arr[tuple(seq)]` instead of `arr[seq]`. In the future this will be interpreted as an array index, `arr[np.array(seq)]`, which will result either in an error or a different result.\n",
      "  b = a[a_slice]\n",
      "/home/yaoxiaojian/anaconda3/lib/python3.7/site-packages/scipy/signal/_arraytools.py:45: FutureWarning: Using a non-tuple sequence for multidimensional indexing is deprecated; use `arr[tuple(seq)]` instead of `arr[seq]`. In the future this will be interpreted as an array index, `arr[np.array(seq)]`, which will result either in an error or a different result.\n",
      "  b = a[a_slice]\n",
      "/home/yaoxiaojian/anaconda3/lib/python3.7/site-packages/scipy/signal/_arraytools.py:45: FutureWarning: Using a non-tuple sequence for multidimensional indexing is deprecated; use `arr[tuple(seq)]` instead of `arr[seq]`. In the future this will be interpreted as an array index, `arr[np.array(seq)]`, which will result either in an error or a different result.\n",
      "  b = a[a_slice]\n",
      "/home/yaoxiaojian/anaconda3/lib/python3.7/site-packages/scipy/signal/_arraytools.py:45: FutureWarning: Using a non-tuple sequence for multidimensional indexing is deprecated; use `arr[tuple(seq)]` instead of `arr[seq]`. In the future this will be interpreted as an array index, `arr[np.array(seq)]`, which will result either in an error or a different result.\n",
      "  b = a[a_slice]\n",
      "/home/yaoxiaojian/anaconda3/lib/python3.7/site-packages/scipy/signal/_arraytools.py:45: FutureWarning: Using a non-tuple sequence for multidimensional indexing is deprecated; use `arr[tuple(seq)]` instead of `arr[seq]`. In the future this will be interpreted as an array index, `arr[np.array(seq)]`, which will result either in an error or a different result.\n",
      "  b = a[a_slice]\n",
      "/home/yaoxiaojian/anaconda3/lib/python3.7/site-packages/scipy/signal/_arraytools.py:45: FutureWarning: Using a non-tuple sequence for multidimensional indexing is deprecated; use `arr[tuple(seq)]` instead of `arr[seq]`. In the future this will be interpreted as an array index, `arr[np.array(seq)]`, which will result either in an error or a different result.\n",
      "  b = a[a_slice]\n",
      "/home/yaoxiaojian/anaconda3/lib/python3.7/site-packages/scipy/signal/_arraytools.py:45: FutureWarning: Using a non-tuple sequence for multidimensional indexing is deprecated; use `arr[tuple(seq)]` instead of `arr[seq]`. In the future this will be interpreted as an array index, `arr[np.array(seq)]`, which will result either in an error or a different result.\n",
      "  b = a[a_slice]\n",
      "/home/yaoxiaojian/anaconda3/lib/python3.7/site-packages/scipy/signal/_arraytools.py:45: FutureWarning: Using a non-tuple sequence for multidimensional indexing is deprecated; use `arr[tuple(seq)]` instead of `arr[seq]`. In the future this will be interpreted as an array index, `arr[np.array(seq)]`, which will result either in an error or a different result.\n",
      "  b = a[a_slice]\n"
     ]
    },
    {
     "name": "stdout",
     "output_type": "stream",
     "text": [
      "DigMontage is a superset of info. 311 in DigMontage will be ignored. The ignored channels are: {'PPO3h', 'FFC2h', 'PPOz', 'FCC5h', 'POO5h', 'OI2h', 'AFp7', 'AFF10', 'FCC4', 'POz', 'CCP1', 'PPO9', 'FTT8h', 'FFT8', 'FCC3h', 'PPO10h', 'AFF9', 'F9', 'O1h', 'FT10h', 'F3h', 'F6', 'FFC2', 'F2h', 'AFp6h', 'AFpz', 'PPO3', 'PO8', 'FC2h', 'PPO1', 'T4', 'AF9h', 'POO9', 'AFp1h', 'TPP8', 'CCP5h', 'PPO8', 'FCC6', 'AFp4h', 'P1', 'POO8h', 'FT9h', 'FTT7h', 'CPP6h', 'FC4h', 'PPO4', 'Fpz', 'C6h', 'F5h', 'FFT10', 'POO1h', 'FCC2h', 'AFp3h', 'PO8h', 'CPP3', 'PPO5', 'FC5h', 'AF6', 'P6', 'P1h', 'PO4h', 'TTP7', 'FFT9', 'POO4h', 'PO10h', 'AFF9h', 'POO10h', 'PO4', 'F2', 'AFp7h', 'FCz', 'FFC1', 'POO1', 'CPP2h', 'CP4', 'PO2', 'CCP1h', 'C5h', 'I1', 'FFC5h', 'FC6h', 'FT9', 'Fp1h', 'AFF2h', 'FFC3h', 'F7h', 'PPO2', 'FTT8', 'PO9h', 'AF4h', 'F6h', 'AFF4', 'FC1h', 'AFF3h', 'TP8h', 'CPP1h', 'F1', 'AF10h', 'CPPz', 'FCC3', 'TPP7h', 'CCP6h', 'C5', 'T9', 'FCC6h', 'C3h', 'I1h', 'CPP4', 'FT10', 'TPP10h', 'TTP10', 'CPP6', 'FT7h', 'FFC6', 'FCC2', 'AFFz', 'C2h', 'P6h', 'FCC5', 'POO8', 'M2', 'FCC1h', 'POO3', 'AF7', 'TP9h', 'AFF7', 'PPO2h', 'CP6h', 'T7h', 'F9h', 'CPP5', 'TTP9', 'AF3', 'PPO5h', 'PPO6h', 'FT8', 'AFp2', 'AF4', 'PPO10', 'PO5', 'AFp3', 'FCC4h', 'CCP4', 'AFp2h', 'FTT7', 'P9', 'AFF3', 'AF7h', 'CCP5', 'FFT8h', 'FC4', 'AFp8', 'PPO1h', 'AFF1', 'CP5h', 'AF2', 'PPO7h', 'AF5h', 'POO5', 'TPP9', 'CPz', 'FCCz', 'FTT9', 'POO10', 'C6', 'AF8h', 'POO6h', 'POO2h', 'PO7', 'FTT10h', 'TTP10h', 'A1', 'PO1', 'CPP4h', 'CCP3', 'T9h', 'TP7', 'AF1', 'TTP8h', 'CP4h', 'AFF7h', 'F8h', 'POO4', 'FT7', 'PPO4h', 'POOz', 'CP2h', 'AFp8h', 'CCP2', 'FTT10', 'POO6', 'FFC1h', 'T3', 'CCP6', 'TP10h', 'OI1', 'F10h', 'TPP10', 'FFC4h', 'AF5', 'AF10', 'TTP8', 'OI2', 'AF3h', 'AFp5', 'C2', 'I2h', 'FT8h', 'CCPz', 'CCP4h', 'P7h', 'PO7h', 'FFT7h', 'T10', 'PPO8h', 'POO7h', 'AFF5', 'PPO9h', 'T10h', 'F4h', 'FFC5', 'PO6h', 'AFF10h', 'AFF5h', 'T5', 'P5h', 'P10', 'PO6', 'FC3h', 'FFC6h', 'CPP2', 'AF2h', 'CP3h', 'T6', 'CP3', 'M1', 'P2', 'AFp9', 'CCP2h', 'P5', 'F1h', 'TP7h', 'F5', 'P9h', 'P3h', 'AFp9h', 'AFF4h', 'TPP9h', 'POO2', 'P8h', 'FCC1', 'AFp5h', 'TPP8h', 'Fp2h', 'PO3', 'P4h', 'PO3h', 'TPP7', 'AFp4', 'FFCz', 'AFz', 'FFT7', 'AFF6h', 'AFF8h', 'FFT9h', 'PO2h', 'PPO7', 'TTP7h', 'C1', 'AF1h', 'FFT10h', 'T8h', 'PO1h', 'AFp1', 'A2', 'C4h', 'AF6h', 'CPP3h', 'AFF8', 'PPO6', 'FC3', 'AFF6', 'POO3h', 'CP1h', 'AF8', 'Iz', 'FFC4', 'P10h', 'P2h', 'AFp6', 'AFF1h', 'I2', 'TP8', 'TTP9h', 'FFC3', 'POO7', 'FTT9h', 'CCP3h', 'CPP5h', 'AFF2', 'OIz', 'AFp10h', 'AFp10', 'CPP1', 'AF9', 'O2h', 'OI1h', 'C1h', 'PO5h', 'F10', 'POO9h'}\n"
     ]
    },
    {
     "name": "stderr",
     "output_type": "stream",
     "text": [
      "<ipython-input-1-81fa588ad679>:54: RuntimeWarning: 1 channel names are too long, have been truncated to 15 characters:\n",
      "['BothStartLoadPhase']\n",
      "  info = create_info(ch_names,sfreq=500.0,ch_types=ch_type,montage = montage)\n",
      "/home/yaoxiaojian/anaconda3/lib/python3.7/site-packages/scipy/signal/_arraytools.py:45: FutureWarning: Using a non-tuple sequence for multidimensional indexing is deprecated; use `arr[tuple(seq)]` instead of `arr[seq]`. In the future this will be interpreted as an array index, `arr[np.array(seq)]`, which will result either in an error or a different result.\n",
      "  b = a[a_slice]\n",
      "/home/yaoxiaojian/anaconda3/lib/python3.7/site-packages/scipy/signal/_arraytools.py:45: FutureWarning: Using a non-tuple sequence for multidimensional indexing is deprecated; use `arr[tuple(seq)]` instead of `arr[seq]`. In the future this will be interpreted as an array index, `arr[np.array(seq)]`, which will result either in an error or a different result.\n",
      "  b = a[a_slice]\n",
      "/home/yaoxiaojian/anaconda3/lib/python3.7/site-packages/scipy/signal/_arraytools.py:45: FutureWarning: Using a non-tuple sequence for multidimensional indexing is deprecated; use `arr[tuple(seq)]` instead of `arr[seq]`. In the future this will be interpreted as an array index, `arr[np.array(seq)]`, which will result either in an error or a different result.\n",
      "  b = a[a_slice]\n",
      "/home/yaoxiaojian/anaconda3/lib/python3.7/site-packages/scipy/signal/_arraytools.py:45: FutureWarning: Using a non-tuple sequence for multidimensional indexing is deprecated; use `arr[tuple(seq)]` instead of `arr[seq]`. In the future this will be interpreted as an array index, `arr[np.array(seq)]`, which will result either in an error or a different result.\n",
      "  b = a[a_slice]\n",
      "/home/yaoxiaojian/anaconda3/lib/python3.7/site-packages/scipy/signal/_arraytools.py:45: FutureWarning: Using a non-tuple sequence for multidimensional indexing is deprecated; use `arr[tuple(seq)]` instead of `arr[seq]`. In the future this will be interpreted as an array index, `arr[np.array(seq)]`, which will result either in an error or a different result.\n",
      "  b = a[a_slice]\n",
      "/home/yaoxiaojian/anaconda3/lib/python3.7/site-packages/scipy/signal/_arraytools.py:45: FutureWarning: Using a non-tuple sequence for multidimensional indexing is deprecated; use `arr[tuple(seq)]` instead of `arr[seq]`. In the future this will be interpreted as an array index, `arr[np.array(seq)]`, which will result either in an error or a different result.\n",
      "  b = a[a_slice]\n",
      "/home/yaoxiaojian/anaconda3/lib/python3.7/site-packages/scipy/signal/_arraytools.py:45: FutureWarning: Using a non-tuple sequence for multidimensional indexing is deprecated; use `arr[tuple(seq)]` instead of `arr[seq]`. In the future this will be interpreted as an array index, `arr[np.array(seq)]`, which will result either in an error or a different result.\n",
      "  b = a[a_slice]\n",
      "/home/yaoxiaojian/anaconda3/lib/python3.7/site-packages/scipy/signal/_arraytools.py:45: FutureWarning: Using a non-tuple sequence for multidimensional indexing is deprecated; use `arr[tuple(seq)]` instead of `arr[seq]`. In the future this will be interpreted as an array index, `arr[np.array(seq)]`, which will result either in an error or a different result.\n",
      "  b = a[a_slice]\n"
     ]
    },
    {
     "name": "stdout",
     "output_type": "stream",
     "text": [
      "DigMontage is a superset of info. 311 in DigMontage will be ignored. The ignored channels are: {'PPO3h', 'FFC2h', 'PPOz', 'FCC5h', 'POO5h', 'OI2h', 'AFp7', 'AFF10', 'FCC4', 'POz', 'CCP1', 'PPO9', 'FTT8h', 'FFT8', 'FCC3h', 'PPO10h', 'AFF9', 'F9', 'O1h', 'FT10h', 'F3h', 'F6', 'FFC2', 'F2h', 'AFp6h', 'AFpz', 'PPO3', 'PO8', 'FC2h', 'PPO1', 'T4', 'AF9h', 'POO9', 'AFp1h', 'TPP8', 'CCP5h', 'PPO8', 'FCC6', 'AFp4h', 'P1', 'POO8h', 'FT9h', 'FTT7h', 'CPP6h', 'FC4h', 'PPO4', 'Fpz', 'C6h', 'F5h', 'FFT10', 'POO1h', 'FCC2h', 'AFp3h', 'PO8h', 'CPP3', 'PPO5', 'FC5h', 'AF6', 'P6', 'P1h', 'PO4h', 'TTP7', 'FFT9', 'POO4h', 'PO10h', 'AFF9h', 'POO10h', 'PO4', 'F2', 'AFp7h', 'FCz', 'FFC1', 'POO1', 'CPP2h', 'CP4', 'PO2', 'CCP1h', 'C5h', 'I1', 'FFC5h', 'FC6h', 'FT9', 'Fp1h', 'AFF2h', 'FFC3h', 'F7h', 'PPO2', 'FTT8', 'PO9h', 'AF4h', 'F6h', 'AFF4', 'FC1h', 'AFF3h', 'TP8h', 'CPP1h', 'F1', 'AF10h', 'CPPz', 'FCC3', 'TPP7h', 'CCP6h', 'C5', 'T9', 'FCC6h', 'C3h', 'I1h', 'CPP4', 'FT10', 'TPP10h', 'TTP10', 'CPP6', 'FT7h', 'FFC6', 'FCC2', 'AFFz', 'C2h', 'P6h', 'FCC5', 'POO8', 'M2', 'FCC1h', 'POO3', 'AF7', 'TP9h', 'AFF7', 'PPO2h', 'CP6h', 'T7h', 'F9h', 'CPP5', 'TTP9', 'AF3', 'PPO5h', 'PPO6h', 'FT8', 'AFp2', 'AF4', 'PPO10', 'PO5', 'AFp3', 'FCC4h', 'CCP4', 'AFp2h', 'FTT7', 'P9', 'AFF3', 'AF7h', 'CCP5', 'FFT8h', 'FC4', 'AFp8', 'PPO1h', 'AFF1', 'CP5h', 'AF2', 'PPO7h', 'AF5h', 'POO5', 'TPP9', 'CPz', 'FCCz', 'FTT9', 'POO10', 'C6', 'AF8h', 'POO6h', 'POO2h', 'PO7', 'FTT10h', 'TTP10h', 'A1', 'PO1', 'CPP4h', 'CCP3', 'T9h', 'TP7', 'AF1', 'TTP8h', 'CP4h', 'AFF7h', 'F8h', 'POO4', 'FT7', 'PPO4h', 'POOz', 'CP2h', 'AFp8h', 'CCP2', 'FTT10', 'POO6', 'FFC1h', 'T3', 'CCP6', 'TP10h', 'OI1', 'F10h', 'TPP10', 'FFC4h', 'AF5', 'AF10', 'TTP8', 'OI2', 'AF3h', 'AFp5', 'C2', 'I2h', 'FT8h', 'CCPz', 'CCP4h', 'P7h', 'PO7h', 'FFT7h', 'T10', 'PPO8h', 'POO7h', 'AFF5', 'PPO9h', 'T10h', 'F4h', 'FFC5', 'PO6h', 'AFF10h', 'AFF5h', 'T5', 'P5h', 'P10', 'PO6', 'FC3h', 'FFC6h', 'CPP2', 'AF2h', 'CP3h', 'T6', 'CP3', 'M1', 'P2', 'AFp9', 'CCP2h', 'P5', 'F1h', 'TP7h', 'F5', 'P9h', 'P3h', 'AFp9h', 'AFF4h', 'TPP9h', 'POO2', 'P8h', 'FCC1', 'AFp5h', 'TPP8h', 'Fp2h', 'PO3', 'P4h', 'PO3h', 'TPP7', 'AFp4', 'FFCz', 'AFz', 'FFT7', 'AFF6h', 'AFF8h', 'FFT9h', 'PO2h', 'PPO7', 'TTP7h', 'C1', 'AF1h', 'FFT10h', 'T8h', 'PO1h', 'AFp1', 'A2', 'C4h', 'AF6h', 'CPP3h', 'AFF8', 'PPO6', 'FC3', 'AFF6', 'POO3h', 'CP1h', 'AF8', 'Iz', 'FFC4', 'P10h', 'P2h', 'AFp6', 'AFF1h', 'I2', 'TP8', 'TTP9h', 'FFC3', 'POO7', 'FTT9h', 'CCP3h', 'CPP5h', 'AFF2', 'OIz', 'AFp10h', 'AFp10', 'CPP1', 'AF9', 'O2h', 'OI1h', 'C1h', 'PO5h', 'F10', 'POO9h'}\n"
     ]
    },
    {
     "name": "stderr",
     "output_type": "stream",
     "text": [
      "<ipython-input-1-81fa588ad679>:54: RuntimeWarning: 1 channel names are too long, have been truncated to 15 characters:\n",
      "['BothStartLoadPhase']\n",
      "  info = create_info(ch_names,sfreq=500.0,ch_types=ch_type,montage = montage)\n",
      "/home/yaoxiaojian/anaconda3/lib/python3.7/site-packages/scipy/signal/_arraytools.py:45: FutureWarning: Using a non-tuple sequence for multidimensional indexing is deprecated; use `arr[tuple(seq)]` instead of `arr[seq]`. In the future this will be interpreted as an array index, `arr[np.array(seq)]`, which will result either in an error or a different result.\n",
      "  b = a[a_slice]\n",
      "/home/yaoxiaojian/anaconda3/lib/python3.7/site-packages/scipy/signal/_arraytools.py:45: FutureWarning: Using a non-tuple sequence for multidimensional indexing is deprecated; use `arr[tuple(seq)]` instead of `arr[seq]`. In the future this will be interpreted as an array index, `arr[np.array(seq)]`, which will result either in an error or a different result.\n",
      "  b = a[a_slice]\n",
      "/home/yaoxiaojian/anaconda3/lib/python3.7/site-packages/scipy/signal/_arraytools.py:45: FutureWarning: Using a non-tuple sequence for multidimensional indexing is deprecated; use `arr[tuple(seq)]` instead of `arr[seq]`. In the future this will be interpreted as an array index, `arr[np.array(seq)]`, which will result either in an error or a different result.\n",
      "  b = a[a_slice]\n",
      "/home/yaoxiaojian/anaconda3/lib/python3.7/site-packages/scipy/signal/_arraytools.py:45: FutureWarning: Using a non-tuple sequence for multidimensional indexing is deprecated; use `arr[tuple(seq)]` instead of `arr[seq]`. In the future this will be interpreted as an array index, `arr[np.array(seq)]`, which will result either in an error or a different result.\n",
      "  b = a[a_slice]\n",
      "/home/yaoxiaojian/anaconda3/lib/python3.7/site-packages/scipy/signal/_arraytools.py:45: FutureWarning: Using a non-tuple sequence for multidimensional indexing is deprecated; use `arr[tuple(seq)]` instead of `arr[seq]`. In the future this will be interpreted as an array index, `arr[np.array(seq)]`, which will result either in an error or a different result.\n",
      "  b = a[a_slice]\n",
      "/home/yaoxiaojian/anaconda3/lib/python3.7/site-packages/scipy/signal/_arraytools.py:45: FutureWarning: Using a non-tuple sequence for multidimensional indexing is deprecated; use `arr[tuple(seq)]` instead of `arr[seq]`. In the future this will be interpreted as an array index, `arr[np.array(seq)]`, which will result either in an error or a different result.\n",
      "  b = a[a_slice]\n",
      "/home/yaoxiaojian/anaconda3/lib/python3.7/site-packages/scipy/signal/_arraytools.py:45: FutureWarning: Using a non-tuple sequence for multidimensional indexing is deprecated; use `arr[tuple(seq)]` instead of `arr[seq]`. In the future this will be interpreted as an array index, `arr[np.array(seq)]`, which will result either in an error or a different result.\n",
      "  b = a[a_slice]\n",
      "/home/yaoxiaojian/anaconda3/lib/python3.7/site-packages/scipy/signal/_arraytools.py:45: FutureWarning: Using a non-tuple sequence for multidimensional indexing is deprecated; use `arr[tuple(seq)]` instead of `arr[seq]`. In the future this will be interpreted as an array index, `arr[np.array(seq)]`, which will result either in an error or a different result.\n",
      "  b = a[a_slice]\n"
     ]
    },
    {
     "name": "stdout",
     "output_type": "stream",
     "text": [
      "DigMontage is a superset of info. 311 in DigMontage will be ignored. The ignored channels are: {'PPO3h', 'FFC2h', 'PPOz', 'FCC5h', 'POO5h', 'OI2h', 'AFp7', 'AFF10', 'FCC4', 'POz', 'CCP1', 'PPO9', 'FTT8h', 'FFT8', 'FCC3h', 'PPO10h', 'AFF9', 'F9', 'O1h', 'FT10h', 'F3h', 'F6', 'FFC2', 'F2h', 'AFp6h', 'AFpz', 'PPO3', 'PO8', 'FC2h', 'PPO1', 'T4', 'AF9h', 'POO9', 'AFp1h', 'TPP8', 'CCP5h', 'PPO8', 'FCC6', 'AFp4h', 'P1', 'POO8h', 'FT9h', 'FTT7h', 'CPP6h', 'FC4h', 'PPO4', 'Fpz', 'C6h', 'F5h', 'FFT10', 'POO1h', 'FCC2h', 'AFp3h', 'PO8h', 'CPP3', 'PPO5', 'FC5h', 'AF6', 'P6', 'P1h', 'PO4h', 'TTP7', 'FFT9', 'POO4h', 'PO10h', 'AFF9h', 'POO10h', 'PO4', 'F2', 'AFp7h', 'FCz', 'FFC1', 'POO1', 'CPP2h', 'CP4', 'PO2', 'CCP1h', 'C5h', 'I1', 'FFC5h', 'FC6h', 'FT9', 'Fp1h', 'AFF2h', 'FFC3h', 'F7h', 'PPO2', 'FTT8', 'PO9h', 'AF4h', 'F6h', 'AFF4', 'FC1h', 'AFF3h', 'TP8h', 'CPP1h', 'F1', 'AF10h', 'CPPz', 'FCC3', 'TPP7h', 'CCP6h', 'C5', 'T9', 'FCC6h', 'C3h', 'I1h', 'CPP4', 'FT10', 'TPP10h', 'TTP10', 'CPP6', 'FT7h', 'FFC6', 'FCC2', 'AFFz', 'C2h', 'P6h', 'FCC5', 'POO8', 'M2', 'FCC1h', 'POO3', 'AF7', 'TP9h', 'AFF7', 'PPO2h', 'CP6h', 'T7h', 'F9h', 'CPP5', 'TTP9', 'AF3', 'PPO5h', 'PPO6h', 'FT8', 'AFp2', 'AF4', 'PPO10', 'PO5', 'AFp3', 'FCC4h', 'CCP4', 'AFp2h', 'FTT7', 'P9', 'AFF3', 'AF7h', 'CCP5', 'FFT8h', 'FC4', 'AFp8', 'PPO1h', 'AFF1', 'CP5h', 'AF2', 'PPO7h', 'AF5h', 'POO5', 'TPP9', 'CPz', 'FCCz', 'FTT9', 'POO10', 'C6', 'AF8h', 'POO6h', 'POO2h', 'PO7', 'FTT10h', 'TTP10h', 'A1', 'PO1', 'CPP4h', 'CCP3', 'T9h', 'TP7', 'AF1', 'TTP8h', 'CP4h', 'AFF7h', 'F8h', 'POO4', 'FT7', 'PPO4h', 'POOz', 'CP2h', 'AFp8h', 'CCP2', 'FTT10', 'POO6', 'FFC1h', 'T3', 'CCP6', 'TP10h', 'OI1', 'F10h', 'TPP10', 'FFC4h', 'AF5', 'AF10', 'TTP8', 'OI2', 'AF3h', 'AFp5', 'C2', 'I2h', 'FT8h', 'CCPz', 'CCP4h', 'P7h', 'PO7h', 'FFT7h', 'T10', 'PPO8h', 'POO7h', 'AFF5', 'PPO9h', 'T10h', 'F4h', 'FFC5', 'PO6h', 'AFF10h', 'AFF5h', 'T5', 'P5h', 'P10', 'PO6', 'FC3h', 'FFC6h', 'CPP2', 'AF2h', 'CP3h', 'T6', 'CP3', 'M1', 'P2', 'AFp9', 'CCP2h', 'P5', 'F1h', 'TP7h', 'F5', 'P9h', 'P3h', 'AFp9h', 'AFF4h', 'TPP9h', 'POO2', 'P8h', 'FCC1', 'AFp5h', 'TPP8h', 'Fp2h', 'PO3', 'P4h', 'PO3h', 'TPP7', 'AFp4', 'FFCz', 'AFz', 'FFT7', 'AFF6h', 'AFF8h', 'FFT9h', 'PO2h', 'PPO7', 'TTP7h', 'C1', 'AF1h', 'FFT10h', 'T8h', 'PO1h', 'AFp1', 'A2', 'C4h', 'AF6h', 'CPP3h', 'AFF8', 'PPO6', 'FC3', 'AFF6', 'POO3h', 'CP1h', 'AF8', 'Iz', 'FFC4', 'P10h', 'P2h', 'AFp6', 'AFF1h', 'I2', 'TP8', 'TTP9h', 'FFC3', 'POO7', 'FTT9h', 'CCP3h', 'CPP5h', 'AFF2', 'OIz', 'AFp10h', 'AFp10', 'CPP1', 'AF9', 'O2h', 'OI1h', 'C1h', 'PO5h', 'F10', 'POO9h'}\n"
     ]
    },
    {
     "name": "stderr",
     "output_type": "stream",
     "text": [
      "<ipython-input-1-81fa588ad679>:54: RuntimeWarning: 1 channel names are too long, have been truncated to 15 characters:\n",
      "['BothStartLoadPhase']\n",
      "  info = create_info(ch_names,sfreq=500.0,ch_types=ch_type,montage = montage)\n",
      "/home/yaoxiaojian/anaconda3/lib/python3.7/site-packages/scipy/signal/_arraytools.py:45: FutureWarning: Using a non-tuple sequence for multidimensional indexing is deprecated; use `arr[tuple(seq)]` instead of `arr[seq]`. In the future this will be interpreted as an array index, `arr[np.array(seq)]`, which will result either in an error or a different result.\n",
      "  b = a[a_slice]\n",
      "/home/yaoxiaojian/anaconda3/lib/python3.7/site-packages/scipy/signal/_arraytools.py:45: FutureWarning: Using a non-tuple sequence for multidimensional indexing is deprecated; use `arr[tuple(seq)]` instead of `arr[seq]`. In the future this will be interpreted as an array index, `arr[np.array(seq)]`, which will result either in an error or a different result.\n",
      "  b = a[a_slice]\n",
      "/home/yaoxiaojian/anaconda3/lib/python3.7/site-packages/scipy/signal/_arraytools.py:45: FutureWarning: Using a non-tuple sequence for multidimensional indexing is deprecated; use `arr[tuple(seq)]` instead of `arr[seq]`. In the future this will be interpreted as an array index, `arr[np.array(seq)]`, which will result either in an error or a different result.\n",
      "  b = a[a_slice]\n",
      "/home/yaoxiaojian/anaconda3/lib/python3.7/site-packages/scipy/signal/_arraytools.py:45: FutureWarning: Using a non-tuple sequence for multidimensional indexing is deprecated; use `arr[tuple(seq)]` instead of `arr[seq]`. In the future this will be interpreted as an array index, `arr[np.array(seq)]`, which will result either in an error or a different result.\n",
      "  b = a[a_slice]\n",
      "/home/yaoxiaojian/anaconda3/lib/python3.7/site-packages/scipy/signal/_arraytools.py:45: FutureWarning: Using a non-tuple sequence for multidimensional indexing is deprecated; use `arr[tuple(seq)]` instead of `arr[seq]`. In the future this will be interpreted as an array index, `arr[np.array(seq)]`, which will result either in an error or a different result.\n",
      "  b = a[a_slice]\n",
      "/home/yaoxiaojian/anaconda3/lib/python3.7/site-packages/scipy/signal/_arraytools.py:45: FutureWarning: Using a non-tuple sequence for multidimensional indexing is deprecated; use `arr[tuple(seq)]` instead of `arr[seq]`. In the future this will be interpreted as an array index, `arr[np.array(seq)]`, which will result either in an error or a different result.\n",
      "  b = a[a_slice]\n",
      "/home/yaoxiaojian/anaconda3/lib/python3.7/site-packages/scipy/signal/_arraytools.py:45: FutureWarning: Using a non-tuple sequence for multidimensional indexing is deprecated; use `arr[tuple(seq)]` instead of `arr[seq]`. In the future this will be interpreted as an array index, `arr[np.array(seq)]`, which will result either in an error or a different result.\n",
      "  b = a[a_slice]\n",
      "/home/yaoxiaojian/anaconda3/lib/python3.7/site-packages/scipy/signal/_arraytools.py:45: FutureWarning: Using a non-tuple sequence for multidimensional indexing is deprecated; use `arr[tuple(seq)]` instead of `arr[seq]`. In the future this will be interpreted as an array index, `arr[np.array(seq)]`, which will result either in an error or a different result.\n",
      "  b = a[a_slice]\n"
     ]
    },
    {
     "name": "stdout",
     "output_type": "stream",
     "text": [
      "subject 3 (1560, 64, 751)\n",
      "data stack shape: (4680, 64, 751) (4680,)\n",
      "DigMontage is a superset of info. 311 in DigMontage will be ignored. The ignored channels are: {'PPO3h', 'FFC2h', 'PPOz', 'FCC5h', 'POO5h', 'OI2h', 'AFp7', 'AFF10', 'FCC4', 'POz', 'CCP1', 'PPO9', 'FTT8h', 'FFT8', 'FCC3h', 'PPO10h', 'AFF9', 'F9', 'O1h', 'FT10h', 'F3h', 'F6', 'FFC2', 'F2h', 'AFp6h', 'AFpz', 'PPO3', 'PO8', 'FC2h', 'PPO1', 'T4', 'AF9h', 'POO9', 'AFp1h', 'TPP8', 'CCP5h', 'PPO8', 'FCC6', 'AFp4h', 'P1', 'POO8h', 'FT9h', 'FTT7h', 'CPP6h', 'FC4h', 'PPO4', 'Fpz', 'C6h', 'F5h', 'FFT10', 'POO1h', 'FCC2h', 'AFp3h', 'PO8h', 'CPP3', 'PPO5', 'FC5h', 'AF6', 'P6', 'P1h', 'PO4h', 'TTP7', 'FFT9', 'POO4h', 'PO10h', 'AFF9h', 'POO10h', 'PO4', 'F2', 'AFp7h', 'FCz', 'FFC1', 'POO1', 'CPP2h', 'CP4', 'PO2', 'CCP1h', 'C5h', 'I1', 'FFC5h', 'FC6h', 'FT9', 'Fp1h', 'AFF2h', 'FFC3h', 'F7h', 'PPO2', 'FTT8', 'PO9h', 'AF4h', 'F6h', 'AFF4', 'FC1h', 'AFF3h', 'TP8h', 'CPP1h', 'F1', 'AF10h', 'CPPz', 'FCC3', 'TPP7h', 'CCP6h', 'C5', 'T9', 'FCC6h', 'C3h', 'I1h', 'CPP4', 'FT10', 'TPP10h', 'TTP10', 'CPP6', 'FT7h', 'FFC6', 'FCC2', 'AFFz', 'C2h', 'P6h', 'FCC5', 'POO8', 'M2', 'FCC1h', 'POO3', 'AF7', 'TP9h', 'AFF7', 'PPO2h', 'CP6h', 'T7h', 'F9h', 'CPP5', 'TTP9', 'AF3', 'PPO5h', 'PPO6h', 'FT8', 'AFp2', 'AF4', 'PPO10', 'PO5', 'AFp3', 'FCC4h', 'CCP4', 'AFp2h', 'FTT7', 'P9', 'AFF3', 'AF7h', 'CCP5', 'FFT8h', 'FC4', 'AFp8', 'PPO1h', 'AFF1', 'CP5h', 'AF2', 'PPO7h', 'AF5h', 'POO5', 'TPP9', 'CPz', 'FCCz', 'FTT9', 'POO10', 'C6', 'AF8h', 'POO6h', 'POO2h', 'PO7', 'FTT10h', 'TTP10h', 'A1', 'PO1', 'CPP4h', 'CCP3', 'T9h', 'TP7', 'AF1', 'TTP8h', 'CP4h', 'AFF7h', 'F8h', 'POO4', 'FT7', 'PPO4h', 'POOz', 'CP2h', 'AFp8h', 'CCP2', 'FTT10', 'POO6', 'FFC1h', 'T3', 'CCP6', 'TP10h', 'OI1', 'F10h', 'TPP10', 'FFC4h', 'AF5', 'AF10', 'TTP8', 'OI2', 'AF3h', 'AFp5', 'C2', 'I2h', 'FT8h', 'CCPz', 'CCP4h', 'P7h', 'PO7h', 'FFT7h', 'T10', 'PPO8h', 'POO7h', 'AFF5', 'PPO9h', 'T10h', 'F4h', 'FFC5', 'PO6h', 'AFF10h', 'AFF5h', 'T5', 'P5h', 'P10', 'PO6', 'FC3h', 'FFC6h', 'CPP2', 'AF2h', 'CP3h', 'T6', 'CP3', 'M1', 'P2', 'AFp9', 'CCP2h', 'P5', 'F1h', 'TP7h', 'F5', 'P9h', 'P3h', 'AFp9h', 'AFF4h', 'TPP9h', 'POO2', 'P8h', 'FCC1', 'AFp5h', 'TPP8h', 'Fp2h', 'PO3', 'P4h', 'PO3h', 'TPP7', 'AFp4', 'FFCz', 'AFz', 'FFT7', 'AFF6h', 'AFF8h', 'FFT9h', 'PO2h', 'PPO7', 'TTP7h', 'C1', 'AF1h', 'FFT10h', 'T8h', 'PO1h', 'AFp1', 'A2', 'C4h', 'AF6h', 'CPP3h', 'AFF8', 'PPO6', 'FC3', 'AFF6', 'POO3h', 'CP1h', 'AF8', 'Iz', 'FFC4', 'P10h', 'P2h', 'AFp6', 'AFF1h', 'I2', 'TP8', 'TTP9h', 'FFC3', 'POO7', 'FTT9h', 'CCP3h', 'CPP5h', 'AFF2', 'OIz', 'AFp10h', 'AFp10', 'CPP1', 'AF9', 'O2h', 'OI1h', 'C1h', 'PO5h', 'F10', 'POO9h'}\n"
     ]
    },
    {
     "name": "stderr",
     "output_type": "stream",
     "text": [
      "<ipython-input-1-81fa588ad679>:54: RuntimeWarning: 1 channel names are too long, have been truncated to 15 characters:\n",
      "['BothStartLoadPhase']\n",
      "  info = create_info(ch_names,sfreq=500.0,ch_types=ch_type,montage = montage)\n",
      "/home/yaoxiaojian/anaconda3/lib/python3.7/site-packages/scipy/signal/_arraytools.py:45: FutureWarning: Using a non-tuple sequence for multidimensional indexing is deprecated; use `arr[tuple(seq)]` instead of `arr[seq]`. In the future this will be interpreted as an array index, `arr[np.array(seq)]`, which will result either in an error or a different result.\n",
      "  b = a[a_slice]\n",
      "/home/yaoxiaojian/anaconda3/lib/python3.7/site-packages/scipy/signal/_arraytools.py:45: FutureWarning: Using a non-tuple sequence for multidimensional indexing is deprecated; use `arr[tuple(seq)]` instead of `arr[seq]`. In the future this will be interpreted as an array index, `arr[np.array(seq)]`, which will result either in an error or a different result.\n",
      "  b = a[a_slice]\n",
      "/home/yaoxiaojian/anaconda3/lib/python3.7/site-packages/scipy/signal/_arraytools.py:45: FutureWarning: Using a non-tuple sequence for multidimensional indexing is deprecated; use `arr[tuple(seq)]` instead of `arr[seq]`. In the future this will be interpreted as an array index, `arr[np.array(seq)]`, which will result either in an error or a different result.\n",
      "  b = a[a_slice]\n",
      "/home/yaoxiaojian/anaconda3/lib/python3.7/site-packages/scipy/signal/_arraytools.py:45: FutureWarning: Using a non-tuple sequence for multidimensional indexing is deprecated; use `arr[tuple(seq)]` instead of `arr[seq]`. In the future this will be interpreted as an array index, `arr[np.array(seq)]`, which will result either in an error or a different result.\n",
      "  b = a[a_slice]\n",
      "/home/yaoxiaojian/anaconda3/lib/python3.7/site-packages/scipy/signal/_arraytools.py:45: FutureWarning: Using a non-tuple sequence for multidimensional indexing is deprecated; use `arr[tuple(seq)]` instead of `arr[seq]`. In the future this will be interpreted as an array index, `arr[np.array(seq)]`, which will result either in an error or a different result.\n",
      "  b = a[a_slice]\n",
      "/home/yaoxiaojian/anaconda3/lib/python3.7/site-packages/scipy/signal/_arraytools.py:45: FutureWarning: Using a non-tuple sequence for multidimensional indexing is deprecated; use `arr[tuple(seq)]` instead of `arr[seq]`. In the future this will be interpreted as an array index, `arr[np.array(seq)]`, which will result either in an error or a different result.\n",
      "  b = a[a_slice]\n",
      "/home/yaoxiaojian/anaconda3/lib/python3.7/site-packages/scipy/signal/_arraytools.py:45: FutureWarning: Using a non-tuple sequence for multidimensional indexing is deprecated; use `arr[tuple(seq)]` instead of `arr[seq]`. In the future this will be interpreted as an array index, `arr[np.array(seq)]`, which will result either in an error or a different result.\n",
      "  b = a[a_slice]\n",
      "/home/yaoxiaojian/anaconda3/lib/python3.7/site-packages/scipy/signal/_arraytools.py:45: FutureWarning: Using a non-tuple sequence for multidimensional indexing is deprecated; use `arr[tuple(seq)]` instead of `arr[seq]`. In the future this will be interpreted as an array index, `arr[np.array(seq)]`, which will result either in an error or a different result.\n",
      "  b = a[a_slice]\n"
     ]
    },
    {
     "name": "stdout",
     "output_type": "stream",
     "text": [
      "DigMontage is a superset of info. 311 in DigMontage will be ignored. The ignored channels are: {'PPO3h', 'FFC2h', 'PPOz', 'FCC5h', 'POO5h', 'OI2h', 'AFp7', 'AFF10', 'FCC4', 'POz', 'CCP1', 'PPO9', 'FTT8h', 'FFT8', 'FCC3h', 'PPO10h', 'AFF9', 'F9', 'O1h', 'FT10h', 'F3h', 'F6', 'FFC2', 'F2h', 'AFp6h', 'AFpz', 'PPO3', 'PO8', 'FC2h', 'PPO1', 'T4', 'AF9h', 'POO9', 'AFp1h', 'TPP8', 'CCP5h', 'PPO8', 'FCC6', 'AFp4h', 'P1', 'POO8h', 'FT9h', 'FTT7h', 'CPP6h', 'FC4h', 'PPO4', 'Fpz', 'C6h', 'F5h', 'FFT10', 'POO1h', 'FCC2h', 'AFp3h', 'PO8h', 'CPP3', 'PPO5', 'FC5h', 'AF6', 'P6', 'P1h', 'PO4h', 'TTP7', 'FFT9', 'POO4h', 'PO10h', 'AFF9h', 'POO10h', 'PO4', 'F2', 'AFp7h', 'FCz', 'FFC1', 'POO1', 'CPP2h', 'CP4', 'PO2', 'CCP1h', 'C5h', 'I1', 'FFC5h', 'FC6h', 'FT9', 'Fp1h', 'AFF2h', 'FFC3h', 'F7h', 'PPO2', 'FTT8', 'PO9h', 'AF4h', 'F6h', 'AFF4', 'FC1h', 'AFF3h', 'TP8h', 'CPP1h', 'F1', 'AF10h', 'CPPz', 'FCC3', 'TPP7h', 'CCP6h', 'C5', 'T9', 'FCC6h', 'C3h', 'I1h', 'CPP4', 'FT10', 'TPP10h', 'TTP10', 'CPP6', 'FT7h', 'FFC6', 'FCC2', 'AFFz', 'C2h', 'P6h', 'FCC5', 'POO8', 'M2', 'FCC1h', 'POO3', 'AF7', 'TP9h', 'AFF7', 'PPO2h', 'CP6h', 'T7h', 'F9h', 'CPP5', 'TTP9', 'AF3', 'PPO5h', 'PPO6h', 'FT8', 'AFp2', 'AF4', 'PPO10', 'PO5', 'AFp3', 'FCC4h', 'CCP4', 'AFp2h', 'FTT7', 'P9', 'AFF3', 'AF7h', 'CCP5', 'FFT8h', 'FC4', 'AFp8', 'PPO1h', 'AFF1', 'CP5h', 'AF2', 'PPO7h', 'AF5h', 'POO5', 'TPP9', 'CPz', 'FCCz', 'FTT9', 'POO10', 'C6', 'AF8h', 'POO6h', 'POO2h', 'PO7', 'FTT10h', 'TTP10h', 'A1', 'PO1', 'CPP4h', 'CCP3', 'T9h', 'TP7', 'AF1', 'TTP8h', 'CP4h', 'AFF7h', 'F8h', 'POO4', 'FT7', 'PPO4h', 'POOz', 'CP2h', 'AFp8h', 'CCP2', 'FTT10', 'POO6', 'FFC1h', 'T3', 'CCP6', 'TP10h', 'OI1', 'F10h', 'TPP10', 'FFC4h', 'AF5', 'AF10', 'TTP8', 'OI2', 'AF3h', 'AFp5', 'C2', 'I2h', 'FT8h', 'CCPz', 'CCP4h', 'P7h', 'PO7h', 'FFT7h', 'T10', 'PPO8h', 'POO7h', 'AFF5', 'PPO9h', 'T10h', 'F4h', 'FFC5', 'PO6h', 'AFF10h', 'AFF5h', 'T5', 'P5h', 'P10', 'PO6', 'FC3h', 'FFC6h', 'CPP2', 'AF2h', 'CP3h', 'T6', 'CP3', 'M1', 'P2', 'AFp9', 'CCP2h', 'P5', 'F1h', 'TP7h', 'F5', 'P9h', 'P3h', 'AFp9h', 'AFF4h', 'TPP9h', 'POO2', 'P8h', 'FCC1', 'AFp5h', 'TPP8h', 'Fp2h', 'PO3', 'P4h', 'PO3h', 'TPP7', 'AFp4', 'FFCz', 'AFz', 'FFT7', 'AFF6h', 'AFF8h', 'FFT9h', 'PO2h', 'PPO7', 'TTP7h', 'C1', 'AF1h', 'FFT10h', 'T8h', 'PO1h', 'AFp1', 'A2', 'C4h', 'AF6h', 'CPP3h', 'AFF8', 'PPO6', 'FC3', 'AFF6', 'POO3h', 'CP1h', 'AF8', 'Iz', 'FFC4', 'P10h', 'P2h', 'AFp6', 'AFF1h', 'I2', 'TP8', 'TTP9h', 'FFC3', 'POO7', 'FTT9h', 'CCP3h', 'CPP5h', 'AFF2', 'OIz', 'AFp10h', 'AFp10', 'CPP1', 'AF9', 'O2h', 'OI1h', 'C1h', 'PO5h', 'F10', 'POO9h'}\n"
     ]
    },
    {
     "name": "stderr",
     "output_type": "stream",
     "text": [
      "<ipython-input-1-81fa588ad679>:54: RuntimeWarning: 1 channel names are too long, have been truncated to 15 characters:\n",
      "['BothStartLoadPhase']\n",
      "  info = create_info(ch_names,sfreq=500.0,ch_types=ch_type,montage = montage)\n",
      "/home/yaoxiaojian/anaconda3/lib/python3.7/site-packages/scipy/signal/_arraytools.py:45: FutureWarning: Using a non-tuple sequence for multidimensional indexing is deprecated; use `arr[tuple(seq)]` instead of `arr[seq]`. In the future this will be interpreted as an array index, `arr[np.array(seq)]`, which will result either in an error or a different result.\n",
      "  b = a[a_slice]\n",
      "/home/yaoxiaojian/anaconda3/lib/python3.7/site-packages/scipy/signal/_arraytools.py:45: FutureWarning: Using a non-tuple sequence for multidimensional indexing is deprecated; use `arr[tuple(seq)]` instead of `arr[seq]`. In the future this will be interpreted as an array index, `arr[np.array(seq)]`, which will result either in an error or a different result.\n",
      "  b = a[a_slice]\n",
      "/home/yaoxiaojian/anaconda3/lib/python3.7/site-packages/scipy/signal/_arraytools.py:45: FutureWarning: Using a non-tuple sequence for multidimensional indexing is deprecated; use `arr[tuple(seq)]` instead of `arr[seq]`. In the future this will be interpreted as an array index, `arr[np.array(seq)]`, which will result either in an error or a different result.\n",
      "  b = a[a_slice]\n",
      "/home/yaoxiaojian/anaconda3/lib/python3.7/site-packages/scipy/signal/_arraytools.py:45: FutureWarning: Using a non-tuple sequence for multidimensional indexing is deprecated; use `arr[tuple(seq)]` instead of `arr[seq]`. In the future this will be interpreted as an array index, `arr[np.array(seq)]`, which will result either in an error or a different result.\n",
      "  b = a[a_slice]\n",
      "/home/yaoxiaojian/anaconda3/lib/python3.7/site-packages/scipy/signal/_arraytools.py:45: FutureWarning: Using a non-tuple sequence for multidimensional indexing is deprecated; use `arr[tuple(seq)]` instead of `arr[seq]`. In the future this will be interpreted as an array index, `arr[np.array(seq)]`, which will result either in an error or a different result.\n",
      "  b = a[a_slice]\n",
      "/home/yaoxiaojian/anaconda3/lib/python3.7/site-packages/scipy/signal/_arraytools.py:45: FutureWarning: Using a non-tuple sequence for multidimensional indexing is deprecated; use `arr[tuple(seq)]` instead of `arr[seq]`. In the future this will be interpreted as an array index, `arr[np.array(seq)]`, which will result either in an error or a different result.\n",
      "  b = a[a_slice]\n",
      "/home/yaoxiaojian/anaconda3/lib/python3.7/site-packages/scipy/signal/_arraytools.py:45: FutureWarning: Using a non-tuple sequence for multidimensional indexing is deprecated; use `arr[tuple(seq)]` instead of `arr[seq]`. In the future this will be interpreted as an array index, `arr[np.array(seq)]`, which will result either in an error or a different result.\n",
      "  b = a[a_slice]\n",
      "/home/yaoxiaojian/anaconda3/lib/python3.7/site-packages/scipy/signal/_arraytools.py:45: FutureWarning: Using a non-tuple sequence for multidimensional indexing is deprecated; use `arr[tuple(seq)]` instead of `arr[seq]`. In the future this will be interpreted as an array index, `arr[np.array(seq)]`, which will result either in an error or a different result.\n",
      "  b = a[a_slice]\n"
     ]
    },
    {
     "name": "stdout",
     "output_type": "stream",
     "text": [
      "DigMontage is a superset of info. 311 in DigMontage will be ignored. The ignored channels are: {'PPO3h', 'FFC2h', 'PPOz', 'FCC5h', 'POO5h', 'OI2h', 'AFp7', 'AFF10', 'FCC4', 'POz', 'CCP1', 'PPO9', 'FTT8h', 'FFT8', 'FCC3h', 'PPO10h', 'AFF9', 'F9', 'O1h', 'FT10h', 'F3h', 'F6', 'FFC2', 'F2h', 'AFp6h', 'AFpz', 'PPO3', 'PO8', 'FC2h', 'PPO1', 'T4', 'AF9h', 'POO9', 'AFp1h', 'TPP8', 'CCP5h', 'PPO8', 'FCC6', 'AFp4h', 'P1', 'POO8h', 'FT9h', 'FTT7h', 'CPP6h', 'FC4h', 'PPO4', 'Fpz', 'C6h', 'F5h', 'FFT10', 'POO1h', 'FCC2h', 'AFp3h', 'PO8h', 'CPP3', 'PPO5', 'FC5h', 'AF6', 'P6', 'P1h', 'PO4h', 'TTP7', 'FFT9', 'POO4h', 'PO10h', 'AFF9h', 'POO10h', 'PO4', 'F2', 'AFp7h', 'FCz', 'FFC1', 'POO1', 'CPP2h', 'CP4', 'PO2', 'CCP1h', 'C5h', 'I1', 'FFC5h', 'FC6h', 'FT9', 'Fp1h', 'AFF2h', 'FFC3h', 'F7h', 'PPO2', 'FTT8', 'PO9h', 'AF4h', 'F6h', 'AFF4', 'FC1h', 'AFF3h', 'TP8h', 'CPP1h', 'F1', 'AF10h', 'CPPz', 'FCC3', 'TPP7h', 'CCP6h', 'C5', 'T9', 'FCC6h', 'C3h', 'I1h', 'CPP4', 'FT10', 'TPP10h', 'TTP10', 'CPP6', 'FT7h', 'FFC6', 'FCC2', 'AFFz', 'C2h', 'P6h', 'FCC5', 'POO8', 'M2', 'FCC1h', 'POO3', 'AF7', 'TP9h', 'AFF7', 'PPO2h', 'CP6h', 'T7h', 'F9h', 'CPP5', 'TTP9', 'AF3', 'PPO5h', 'PPO6h', 'FT8', 'AFp2', 'AF4', 'PPO10', 'PO5', 'AFp3', 'FCC4h', 'CCP4', 'AFp2h', 'FTT7', 'P9', 'AFF3', 'AF7h', 'CCP5', 'FFT8h', 'FC4', 'AFp8', 'PPO1h', 'AFF1', 'CP5h', 'AF2', 'PPO7h', 'AF5h', 'POO5', 'TPP9', 'CPz', 'FCCz', 'FTT9', 'POO10', 'C6', 'AF8h', 'POO6h', 'POO2h', 'PO7', 'FTT10h', 'TTP10h', 'A1', 'PO1', 'CPP4h', 'CCP3', 'T9h', 'TP7', 'AF1', 'TTP8h', 'CP4h', 'AFF7h', 'F8h', 'POO4', 'FT7', 'PPO4h', 'POOz', 'CP2h', 'AFp8h', 'CCP2', 'FTT10', 'POO6', 'FFC1h', 'T3', 'CCP6', 'TP10h', 'OI1', 'F10h', 'TPP10', 'FFC4h', 'AF5', 'AF10', 'TTP8', 'OI2', 'AF3h', 'AFp5', 'C2', 'I2h', 'FT8h', 'CCPz', 'CCP4h', 'P7h', 'PO7h', 'FFT7h', 'T10', 'PPO8h', 'POO7h', 'AFF5', 'PPO9h', 'T10h', 'F4h', 'FFC5', 'PO6h', 'AFF10h', 'AFF5h', 'T5', 'P5h', 'P10', 'PO6', 'FC3h', 'FFC6h', 'CPP2', 'AF2h', 'CP3h', 'T6', 'CP3', 'M1', 'P2', 'AFp9', 'CCP2h', 'P5', 'F1h', 'TP7h', 'F5', 'P9h', 'P3h', 'AFp9h', 'AFF4h', 'TPP9h', 'POO2', 'P8h', 'FCC1', 'AFp5h', 'TPP8h', 'Fp2h', 'PO3', 'P4h', 'PO3h', 'TPP7', 'AFp4', 'FFCz', 'AFz', 'FFT7', 'AFF6h', 'AFF8h', 'FFT9h', 'PO2h', 'PPO7', 'TTP7h', 'C1', 'AF1h', 'FFT10h', 'T8h', 'PO1h', 'AFp1', 'A2', 'C4h', 'AF6h', 'CPP3h', 'AFF8', 'PPO6', 'FC3', 'AFF6', 'POO3h', 'CP1h', 'AF8', 'Iz', 'FFC4', 'P10h', 'P2h', 'AFp6', 'AFF1h', 'I2', 'TP8', 'TTP9h', 'FFC3', 'POO7', 'FTT9h', 'CCP3h', 'CPP5h', 'AFF2', 'OIz', 'AFp10h', 'AFp10', 'CPP1', 'AF9', 'O2h', 'OI1h', 'C1h', 'PO5h', 'F10', 'POO9h'}\n"
     ]
    },
    {
     "name": "stderr",
     "output_type": "stream",
     "text": [
      "<ipython-input-1-81fa588ad679>:54: RuntimeWarning: 1 channel names are too long, have been truncated to 15 characters:\n",
      "['BothStartLoadPhase']\n",
      "  info = create_info(ch_names,sfreq=500.0,ch_types=ch_type,montage = montage)\n",
      "/home/yaoxiaojian/anaconda3/lib/python3.7/site-packages/scipy/signal/_arraytools.py:45: FutureWarning: Using a non-tuple sequence for multidimensional indexing is deprecated; use `arr[tuple(seq)]` instead of `arr[seq]`. In the future this will be interpreted as an array index, `arr[np.array(seq)]`, which will result either in an error or a different result.\n",
      "  b = a[a_slice]\n",
      "/home/yaoxiaojian/anaconda3/lib/python3.7/site-packages/scipy/signal/_arraytools.py:45: FutureWarning: Using a non-tuple sequence for multidimensional indexing is deprecated; use `arr[tuple(seq)]` instead of `arr[seq]`. In the future this will be interpreted as an array index, `arr[np.array(seq)]`, which will result either in an error or a different result.\n",
      "  b = a[a_slice]\n",
      "/home/yaoxiaojian/anaconda3/lib/python3.7/site-packages/scipy/signal/_arraytools.py:45: FutureWarning: Using a non-tuple sequence for multidimensional indexing is deprecated; use `arr[tuple(seq)]` instead of `arr[seq]`. In the future this will be interpreted as an array index, `arr[np.array(seq)]`, which will result either in an error or a different result.\n",
      "  b = a[a_slice]\n",
      "/home/yaoxiaojian/anaconda3/lib/python3.7/site-packages/scipy/signal/_arraytools.py:45: FutureWarning: Using a non-tuple sequence for multidimensional indexing is deprecated; use `arr[tuple(seq)]` instead of `arr[seq]`. In the future this will be interpreted as an array index, `arr[np.array(seq)]`, which will result either in an error or a different result.\n",
      "  b = a[a_slice]\n",
      "/home/yaoxiaojian/anaconda3/lib/python3.7/site-packages/scipy/signal/_arraytools.py:45: FutureWarning: Using a non-tuple sequence for multidimensional indexing is deprecated; use `arr[tuple(seq)]` instead of `arr[seq]`. In the future this will be interpreted as an array index, `arr[np.array(seq)]`, which will result either in an error or a different result.\n",
      "  b = a[a_slice]\n",
      "/home/yaoxiaojian/anaconda3/lib/python3.7/site-packages/scipy/signal/_arraytools.py:45: FutureWarning: Using a non-tuple sequence for multidimensional indexing is deprecated; use `arr[tuple(seq)]` instead of `arr[seq]`. In the future this will be interpreted as an array index, `arr[np.array(seq)]`, which will result either in an error or a different result.\n",
      "  b = a[a_slice]\n",
      "/home/yaoxiaojian/anaconda3/lib/python3.7/site-packages/scipy/signal/_arraytools.py:45: FutureWarning: Using a non-tuple sequence for multidimensional indexing is deprecated; use `arr[tuple(seq)]` instead of `arr[seq]`. In the future this will be interpreted as an array index, `arr[np.array(seq)]`, which will result either in an error or a different result.\n",
      "  b = a[a_slice]\n",
      "/home/yaoxiaojian/anaconda3/lib/python3.7/site-packages/scipy/signal/_arraytools.py:45: FutureWarning: Using a non-tuple sequence for multidimensional indexing is deprecated; use `arr[tuple(seq)]` instead of `arr[seq]`. In the future this will be interpreted as an array index, `arr[np.array(seq)]`, which will result either in an error or a different result.\n",
      "  b = a[a_slice]\n"
     ]
    },
    {
     "name": "stdout",
     "output_type": "stream",
     "text": [
      "DigMontage is a superset of info. 311 in DigMontage will be ignored. The ignored channels are: {'PPO3h', 'FFC2h', 'PPOz', 'FCC5h', 'POO5h', 'OI2h', 'AFp7', 'AFF10', 'FCC4', 'POz', 'CCP1', 'PPO9', 'FTT8h', 'FFT8', 'FCC3h', 'PPO10h', 'AFF9', 'F9', 'O1h', 'FT10h', 'F3h', 'F6', 'FFC2', 'F2h', 'AFp6h', 'AFpz', 'PPO3', 'PO8', 'FC2h', 'PPO1', 'T4', 'AF9h', 'POO9', 'AFp1h', 'TPP8', 'CCP5h', 'PPO8', 'FCC6', 'AFp4h', 'P1', 'POO8h', 'FT9h', 'FTT7h', 'CPP6h', 'FC4h', 'PPO4', 'Fpz', 'C6h', 'F5h', 'FFT10', 'POO1h', 'FCC2h', 'AFp3h', 'PO8h', 'CPP3', 'PPO5', 'FC5h', 'AF6', 'P6', 'P1h', 'PO4h', 'TTP7', 'FFT9', 'POO4h', 'PO10h', 'AFF9h', 'POO10h', 'PO4', 'F2', 'AFp7h', 'FCz', 'FFC1', 'POO1', 'CPP2h', 'CP4', 'PO2', 'CCP1h', 'C5h', 'I1', 'FFC5h', 'FC6h', 'FT9', 'Fp1h', 'AFF2h', 'FFC3h', 'F7h', 'PPO2', 'FTT8', 'PO9h', 'AF4h', 'F6h', 'AFF4', 'FC1h', 'AFF3h', 'TP8h', 'CPP1h', 'F1', 'AF10h', 'CPPz', 'FCC3', 'TPP7h', 'CCP6h', 'C5', 'T9', 'FCC6h', 'C3h', 'I1h', 'CPP4', 'FT10', 'TPP10h', 'TTP10', 'CPP6', 'FT7h', 'FFC6', 'FCC2', 'AFFz', 'C2h', 'P6h', 'FCC5', 'POO8', 'M2', 'FCC1h', 'POO3', 'AF7', 'TP9h', 'AFF7', 'PPO2h', 'CP6h', 'T7h', 'F9h', 'CPP5', 'TTP9', 'AF3', 'PPO5h', 'PPO6h', 'FT8', 'AFp2', 'AF4', 'PPO10', 'PO5', 'AFp3', 'FCC4h', 'CCP4', 'AFp2h', 'FTT7', 'P9', 'AFF3', 'AF7h', 'CCP5', 'FFT8h', 'FC4', 'AFp8', 'PPO1h', 'AFF1', 'CP5h', 'AF2', 'PPO7h', 'AF5h', 'POO5', 'TPP9', 'CPz', 'FCCz', 'FTT9', 'POO10', 'C6', 'AF8h', 'POO6h', 'POO2h', 'PO7', 'FTT10h', 'TTP10h', 'A1', 'PO1', 'CPP4h', 'CCP3', 'T9h', 'TP7', 'AF1', 'TTP8h', 'CP4h', 'AFF7h', 'F8h', 'POO4', 'FT7', 'PPO4h', 'POOz', 'CP2h', 'AFp8h', 'CCP2', 'FTT10', 'POO6', 'FFC1h', 'T3', 'CCP6', 'TP10h', 'OI1', 'F10h', 'TPP10', 'FFC4h', 'AF5', 'AF10', 'TTP8', 'OI2', 'AF3h', 'AFp5', 'C2', 'I2h', 'FT8h', 'CCPz', 'CCP4h', 'P7h', 'PO7h', 'FFT7h', 'T10', 'PPO8h', 'POO7h', 'AFF5', 'PPO9h', 'T10h', 'F4h', 'FFC5', 'PO6h', 'AFF10h', 'AFF5h', 'T5', 'P5h', 'P10', 'PO6', 'FC3h', 'FFC6h', 'CPP2', 'AF2h', 'CP3h', 'T6', 'CP3', 'M1', 'P2', 'AFp9', 'CCP2h', 'P5', 'F1h', 'TP7h', 'F5', 'P9h', 'P3h', 'AFp9h', 'AFF4h', 'TPP9h', 'POO2', 'P8h', 'FCC1', 'AFp5h', 'TPP8h', 'Fp2h', 'PO3', 'P4h', 'PO3h', 'TPP7', 'AFp4', 'FFCz', 'AFz', 'FFT7', 'AFF6h', 'AFF8h', 'FFT9h', 'PO2h', 'PPO7', 'TTP7h', 'C1', 'AF1h', 'FFT10h', 'T8h', 'PO1h', 'AFp1', 'A2', 'C4h', 'AF6h', 'CPP3h', 'AFF8', 'PPO6', 'FC3', 'AFF6', 'POO3h', 'CP1h', 'AF8', 'Iz', 'FFC4', 'P10h', 'P2h', 'AFp6', 'AFF1h', 'I2', 'TP8', 'TTP9h', 'FFC3', 'POO7', 'FTT9h', 'CCP3h', 'CPP5h', 'AFF2', 'OIz', 'AFp10h', 'AFp10', 'CPP1', 'AF9', 'O2h', 'OI1h', 'C1h', 'PO5h', 'F10', 'POO9h'}\n"
     ]
    },
    {
     "name": "stderr",
     "output_type": "stream",
     "text": [
      "<ipython-input-1-81fa588ad679>:54: RuntimeWarning: 1 channel names are too long, have been truncated to 15 characters:\n",
      "['BothStartLoadPhase']\n",
      "  info = create_info(ch_names,sfreq=500.0,ch_types=ch_type,montage = montage)\n",
      "/home/yaoxiaojian/anaconda3/lib/python3.7/site-packages/scipy/signal/_arraytools.py:45: FutureWarning: Using a non-tuple sequence for multidimensional indexing is deprecated; use `arr[tuple(seq)]` instead of `arr[seq]`. In the future this will be interpreted as an array index, `arr[np.array(seq)]`, which will result either in an error or a different result.\n",
      "  b = a[a_slice]\n",
      "/home/yaoxiaojian/anaconda3/lib/python3.7/site-packages/scipy/signal/_arraytools.py:45: FutureWarning: Using a non-tuple sequence for multidimensional indexing is deprecated; use `arr[tuple(seq)]` instead of `arr[seq]`. In the future this will be interpreted as an array index, `arr[np.array(seq)]`, which will result either in an error or a different result.\n",
      "  b = a[a_slice]\n",
      "/home/yaoxiaojian/anaconda3/lib/python3.7/site-packages/scipy/signal/_arraytools.py:45: FutureWarning: Using a non-tuple sequence for multidimensional indexing is deprecated; use `arr[tuple(seq)]` instead of `arr[seq]`. In the future this will be interpreted as an array index, `arr[np.array(seq)]`, which will result either in an error or a different result.\n",
      "  b = a[a_slice]\n",
      "/home/yaoxiaojian/anaconda3/lib/python3.7/site-packages/scipy/signal/_arraytools.py:45: FutureWarning: Using a non-tuple sequence for multidimensional indexing is deprecated; use `arr[tuple(seq)]` instead of `arr[seq]`. In the future this will be interpreted as an array index, `arr[np.array(seq)]`, which will result either in an error or a different result.\n",
      "  b = a[a_slice]\n",
      "/home/yaoxiaojian/anaconda3/lib/python3.7/site-packages/scipy/signal/_arraytools.py:45: FutureWarning: Using a non-tuple sequence for multidimensional indexing is deprecated; use `arr[tuple(seq)]` instead of `arr[seq]`. In the future this will be interpreted as an array index, `arr[np.array(seq)]`, which will result either in an error or a different result.\n",
      "  b = a[a_slice]\n",
      "/home/yaoxiaojian/anaconda3/lib/python3.7/site-packages/scipy/signal/_arraytools.py:45: FutureWarning: Using a non-tuple sequence for multidimensional indexing is deprecated; use `arr[tuple(seq)]` instead of `arr[seq]`. In the future this will be interpreted as an array index, `arr[np.array(seq)]`, which will result either in an error or a different result.\n",
      "  b = a[a_slice]\n",
      "/home/yaoxiaojian/anaconda3/lib/python3.7/site-packages/scipy/signal/_arraytools.py:45: FutureWarning: Using a non-tuple sequence for multidimensional indexing is deprecated; use `arr[tuple(seq)]` instead of `arr[seq]`. In the future this will be interpreted as an array index, `arr[np.array(seq)]`, which will result either in an error or a different result.\n",
      "  b = a[a_slice]\n",
      "/home/yaoxiaojian/anaconda3/lib/python3.7/site-packages/scipy/signal/_arraytools.py:45: FutureWarning: Using a non-tuple sequence for multidimensional indexing is deprecated; use `arr[tuple(seq)]` instead of `arr[seq]`. In the future this will be interpreted as an array index, `arr[np.array(seq)]`, which will result either in an error or a different result.\n",
      "  b = a[a_slice]\n"
     ]
    },
    {
     "name": "stdout",
     "output_type": "stream",
     "text": [
      "DigMontage is a superset of info. 311 in DigMontage will be ignored. The ignored channels are: {'PPO3h', 'FFC2h', 'PPOz', 'FCC5h', 'POO5h', 'OI2h', 'AFp7', 'AFF10', 'FCC4', 'POz', 'CCP1', 'PPO9', 'FTT8h', 'FFT8', 'FCC3h', 'PPO10h', 'AFF9', 'F9', 'O1h', 'FT10h', 'F3h', 'F6', 'FFC2', 'F2h', 'AFp6h', 'AFpz', 'PPO3', 'PO8', 'FC2h', 'PPO1', 'T4', 'AF9h', 'POO9', 'AFp1h', 'TPP8', 'CCP5h', 'PPO8', 'FCC6', 'AFp4h', 'P1', 'POO8h', 'FT9h', 'FTT7h', 'CPP6h', 'FC4h', 'PPO4', 'Fpz', 'C6h', 'F5h', 'FFT10', 'POO1h', 'FCC2h', 'AFp3h', 'PO8h', 'CPP3', 'PPO5', 'FC5h', 'AF6', 'P6', 'P1h', 'PO4h', 'TTP7', 'FFT9', 'POO4h', 'PO10h', 'AFF9h', 'POO10h', 'PO4', 'F2', 'AFp7h', 'FCz', 'FFC1', 'POO1', 'CPP2h', 'CP4', 'PO2', 'CCP1h', 'C5h', 'I1', 'FFC5h', 'FC6h', 'FT9', 'Fp1h', 'AFF2h', 'FFC3h', 'F7h', 'PPO2', 'FTT8', 'PO9h', 'AF4h', 'F6h', 'AFF4', 'FC1h', 'AFF3h', 'TP8h', 'CPP1h', 'F1', 'AF10h', 'CPPz', 'FCC3', 'TPP7h', 'CCP6h', 'C5', 'T9', 'FCC6h', 'C3h', 'I1h', 'CPP4', 'FT10', 'TPP10h', 'TTP10', 'CPP6', 'FT7h', 'FFC6', 'FCC2', 'AFFz', 'C2h', 'P6h', 'FCC5', 'POO8', 'M2', 'FCC1h', 'POO3', 'AF7', 'TP9h', 'AFF7', 'PPO2h', 'CP6h', 'T7h', 'F9h', 'CPP5', 'TTP9', 'AF3', 'PPO5h', 'PPO6h', 'FT8', 'AFp2', 'AF4', 'PPO10', 'PO5', 'AFp3', 'FCC4h', 'CCP4', 'AFp2h', 'FTT7', 'P9', 'AFF3', 'AF7h', 'CCP5', 'FFT8h', 'FC4', 'AFp8', 'PPO1h', 'AFF1', 'CP5h', 'AF2', 'PPO7h', 'AF5h', 'POO5', 'TPP9', 'CPz', 'FCCz', 'FTT9', 'POO10', 'C6', 'AF8h', 'POO6h', 'POO2h', 'PO7', 'FTT10h', 'TTP10h', 'A1', 'PO1', 'CPP4h', 'CCP3', 'T9h', 'TP7', 'AF1', 'TTP8h', 'CP4h', 'AFF7h', 'F8h', 'POO4', 'FT7', 'PPO4h', 'POOz', 'CP2h', 'AFp8h', 'CCP2', 'FTT10', 'POO6', 'FFC1h', 'T3', 'CCP6', 'TP10h', 'OI1', 'F10h', 'TPP10', 'FFC4h', 'AF5', 'AF10', 'TTP8', 'OI2', 'AF3h', 'AFp5', 'C2', 'I2h', 'FT8h', 'CCPz', 'CCP4h', 'P7h', 'PO7h', 'FFT7h', 'T10', 'PPO8h', 'POO7h', 'AFF5', 'PPO9h', 'T10h', 'F4h', 'FFC5', 'PO6h', 'AFF10h', 'AFF5h', 'T5', 'P5h', 'P10', 'PO6', 'FC3h', 'FFC6h', 'CPP2', 'AF2h', 'CP3h', 'T6', 'CP3', 'M1', 'P2', 'AFp9', 'CCP2h', 'P5', 'F1h', 'TP7h', 'F5', 'P9h', 'P3h', 'AFp9h', 'AFF4h', 'TPP9h', 'POO2', 'P8h', 'FCC1', 'AFp5h', 'TPP8h', 'Fp2h', 'PO3', 'P4h', 'PO3h', 'TPP7', 'AFp4', 'FFCz', 'AFz', 'FFT7', 'AFF6h', 'AFF8h', 'FFT9h', 'PO2h', 'PPO7', 'TTP7h', 'C1', 'AF1h', 'FFT10h', 'T8h', 'PO1h', 'AFp1', 'A2', 'C4h', 'AF6h', 'CPP3h', 'AFF8', 'PPO6', 'FC3', 'AFF6', 'POO3h', 'CP1h', 'AF8', 'Iz', 'FFC4', 'P10h', 'P2h', 'AFp6', 'AFF1h', 'I2', 'TP8', 'TTP9h', 'FFC3', 'POO7', 'FTT9h', 'CCP3h', 'CPP5h', 'AFF2', 'OIz', 'AFp10h', 'AFp10', 'CPP1', 'AF9', 'O2h', 'OI1h', 'C1h', 'PO5h', 'F10', 'POO9h'}\n"
     ]
    },
    {
     "name": "stderr",
     "output_type": "stream",
     "text": [
      "<ipython-input-1-81fa588ad679>:54: RuntimeWarning: 1 channel names are too long, have been truncated to 15 characters:\n",
      "['BothStartLoadPhase']\n",
      "  info = create_info(ch_names,sfreq=500.0,ch_types=ch_type,montage = montage)\n",
      "/home/yaoxiaojian/anaconda3/lib/python3.7/site-packages/scipy/signal/_arraytools.py:45: FutureWarning: Using a non-tuple sequence for multidimensional indexing is deprecated; use `arr[tuple(seq)]` instead of `arr[seq]`. In the future this will be interpreted as an array index, `arr[np.array(seq)]`, which will result either in an error or a different result.\n",
      "  b = a[a_slice]\n",
      "/home/yaoxiaojian/anaconda3/lib/python3.7/site-packages/scipy/signal/_arraytools.py:45: FutureWarning: Using a non-tuple sequence for multidimensional indexing is deprecated; use `arr[tuple(seq)]` instead of `arr[seq]`. In the future this will be interpreted as an array index, `arr[np.array(seq)]`, which will result either in an error or a different result.\n",
      "  b = a[a_slice]\n",
      "/home/yaoxiaojian/anaconda3/lib/python3.7/site-packages/scipy/signal/_arraytools.py:45: FutureWarning: Using a non-tuple sequence for multidimensional indexing is deprecated; use `arr[tuple(seq)]` instead of `arr[seq]`. In the future this will be interpreted as an array index, `arr[np.array(seq)]`, which will result either in an error or a different result.\n",
      "  b = a[a_slice]\n",
      "/home/yaoxiaojian/anaconda3/lib/python3.7/site-packages/scipy/signal/_arraytools.py:45: FutureWarning: Using a non-tuple sequence for multidimensional indexing is deprecated; use `arr[tuple(seq)]` instead of `arr[seq]`. In the future this will be interpreted as an array index, `arr[np.array(seq)]`, which will result either in an error or a different result.\n",
      "  b = a[a_slice]\n",
      "/home/yaoxiaojian/anaconda3/lib/python3.7/site-packages/scipy/signal/_arraytools.py:45: FutureWarning: Using a non-tuple sequence for multidimensional indexing is deprecated; use `arr[tuple(seq)]` instead of `arr[seq]`. In the future this will be interpreted as an array index, `arr[np.array(seq)]`, which will result either in an error or a different result.\n",
      "  b = a[a_slice]\n",
      "/home/yaoxiaojian/anaconda3/lib/python3.7/site-packages/scipy/signal/_arraytools.py:45: FutureWarning: Using a non-tuple sequence for multidimensional indexing is deprecated; use `arr[tuple(seq)]` instead of `arr[seq]`. In the future this will be interpreted as an array index, `arr[np.array(seq)]`, which will result either in an error or a different result.\n",
      "  b = a[a_slice]\n",
      "/home/yaoxiaojian/anaconda3/lib/python3.7/site-packages/scipy/signal/_arraytools.py:45: FutureWarning: Using a non-tuple sequence for multidimensional indexing is deprecated; use `arr[tuple(seq)]` instead of `arr[seq]`. In the future this will be interpreted as an array index, `arr[np.array(seq)]`, which will result either in an error or a different result.\n",
      "  b = a[a_slice]\n",
      "/home/yaoxiaojian/anaconda3/lib/python3.7/site-packages/scipy/signal/_arraytools.py:45: FutureWarning: Using a non-tuple sequence for multidimensional indexing is deprecated; use `arr[tuple(seq)]` instead of `arr[seq]`. In the future this will be interpreted as an array index, `arr[np.array(seq)]`, which will result either in an error or a different result.\n",
      "  b = a[a_slice]\n"
     ]
    },
    {
     "name": "stdout",
     "output_type": "stream",
     "text": [
      "DigMontage is a superset of info. 311 in DigMontage will be ignored. The ignored channels are: {'PPO3h', 'FFC2h', 'PPOz', 'FCC5h', 'POO5h', 'OI2h', 'AFp7', 'AFF10', 'FCC4', 'POz', 'CCP1', 'PPO9', 'FTT8h', 'FFT8', 'FCC3h', 'PPO10h', 'AFF9', 'F9', 'O1h', 'FT10h', 'F3h', 'F6', 'FFC2', 'F2h', 'AFp6h', 'AFpz', 'PPO3', 'PO8', 'FC2h', 'PPO1', 'T4', 'AF9h', 'POO9', 'AFp1h', 'TPP8', 'CCP5h', 'PPO8', 'FCC6', 'AFp4h', 'P1', 'POO8h', 'FT9h', 'FTT7h', 'CPP6h', 'FC4h', 'PPO4', 'Fpz', 'C6h', 'F5h', 'FFT10', 'POO1h', 'FCC2h', 'AFp3h', 'PO8h', 'CPP3', 'PPO5', 'FC5h', 'AF6', 'P6', 'P1h', 'PO4h', 'TTP7', 'FFT9', 'POO4h', 'PO10h', 'AFF9h', 'POO10h', 'PO4', 'F2', 'AFp7h', 'FCz', 'FFC1', 'POO1', 'CPP2h', 'CP4', 'PO2', 'CCP1h', 'C5h', 'I1', 'FFC5h', 'FC6h', 'FT9', 'Fp1h', 'AFF2h', 'FFC3h', 'F7h', 'PPO2', 'FTT8', 'PO9h', 'AF4h', 'F6h', 'AFF4', 'FC1h', 'AFF3h', 'TP8h', 'CPP1h', 'F1', 'AF10h', 'CPPz', 'FCC3', 'TPP7h', 'CCP6h', 'C5', 'T9', 'FCC6h', 'C3h', 'I1h', 'CPP4', 'FT10', 'TPP10h', 'TTP10', 'CPP6', 'FT7h', 'FFC6', 'FCC2', 'AFFz', 'C2h', 'P6h', 'FCC5', 'POO8', 'M2', 'FCC1h', 'POO3', 'AF7', 'TP9h', 'AFF7', 'PPO2h', 'CP6h', 'T7h', 'F9h', 'CPP5', 'TTP9', 'AF3', 'PPO5h', 'PPO6h', 'FT8', 'AFp2', 'AF4', 'PPO10', 'PO5', 'AFp3', 'FCC4h', 'CCP4', 'AFp2h', 'FTT7', 'P9', 'AFF3', 'AF7h', 'CCP5', 'FFT8h', 'FC4', 'AFp8', 'PPO1h', 'AFF1', 'CP5h', 'AF2', 'PPO7h', 'AF5h', 'POO5', 'TPP9', 'CPz', 'FCCz', 'FTT9', 'POO10', 'C6', 'AF8h', 'POO6h', 'POO2h', 'PO7', 'FTT10h', 'TTP10h', 'A1', 'PO1', 'CPP4h', 'CCP3', 'T9h', 'TP7', 'AF1', 'TTP8h', 'CP4h', 'AFF7h', 'F8h', 'POO4', 'FT7', 'PPO4h', 'POOz', 'CP2h', 'AFp8h', 'CCP2', 'FTT10', 'POO6', 'FFC1h', 'T3', 'CCP6', 'TP10h', 'OI1', 'F10h', 'TPP10', 'FFC4h', 'AF5', 'AF10', 'TTP8', 'OI2', 'AF3h', 'AFp5', 'C2', 'I2h', 'FT8h', 'CCPz', 'CCP4h', 'P7h', 'PO7h', 'FFT7h', 'T10', 'PPO8h', 'POO7h', 'AFF5', 'PPO9h', 'T10h', 'F4h', 'FFC5', 'PO6h', 'AFF10h', 'AFF5h', 'T5', 'P5h', 'P10', 'PO6', 'FC3h', 'FFC6h', 'CPP2', 'AF2h', 'CP3h', 'T6', 'CP3', 'M1', 'P2', 'AFp9', 'CCP2h', 'P5', 'F1h', 'TP7h', 'F5', 'P9h', 'P3h', 'AFp9h', 'AFF4h', 'TPP9h', 'POO2', 'P8h', 'FCC1', 'AFp5h', 'TPP8h', 'Fp2h', 'PO3', 'P4h', 'PO3h', 'TPP7', 'AFp4', 'FFCz', 'AFz', 'FFT7', 'AFF6h', 'AFF8h', 'FFT9h', 'PO2h', 'PPO7', 'TTP7h', 'C1', 'AF1h', 'FFT10h', 'T8h', 'PO1h', 'AFp1', 'A2', 'C4h', 'AF6h', 'CPP3h', 'AFF8', 'PPO6', 'FC3', 'AFF6', 'POO3h', 'CP1h', 'AF8', 'Iz', 'FFC4', 'P10h', 'P2h', 'AFp6', 'AFF1h', 'I2', 'TP8', 'TTP9h', 'FFC3', 'POO7', 'FTT9h', 'CCP3h', 'CPP5h', 'AFF2', 'OIz', 'AFp10h', 'AFp10', 'CPP1', 'AF9', 'O2h', 'OI1h', 'C1h', 'PO5h', 'F10', 'POO9h'}\n"
     ]
    },
    {
     "name": "stderr",
     "output_type": "stream",
     "text": [
      "<ipython-input-1-81fa588ad679>:54: RuntimeWarning: 1 channel names are too long, have been truncated to 15 characters:\n",
      "['BothStartLoadPhase']\n",
      "  info = create_info(ch_names,sfreq=500.0,ch_types=ch_type,montage = montage)\n",
      "/home/yaoxiaojian/anaconda3/lib/python3.7/site-packages/scipy/signal/_arraytools.py:45: FutureWarning: Using a non-tuple sequence for multidimensional indexing is deprecated; use `arr[tuple(seq)]` instead of `arr[seq]`. In the future this will be interpreted as an array index, `arr[np.array(seq)]`, which will result either in an error or a different result.\n",
      "  b = a[a_slice]\n",
      "/home/yaoxiaojian/anaconda3/lib/python3.7/site-packages/scipy/signal/_arraytools.py:45: FutureWarning: Using a non-tuple sequence for multidimensional indexing is deprecated; use `arr[tuple(seq)]` instead of `arr[seq]`. In the future this will be interpreted as an array index, `arr[np.array(seq)]`, which will result either in an error or a different result.\n",
      "  b = a[a_slice]\n",
      "/home/yaoxiaojian/anaconda3/lib/python3.7/site-packages/scipy/signal/_arraytools.py:45: FutureWarning: Using a non-tuple sequence for multidimensional indexing is deprecated; use `arr[tuple(seq)]` instead of `arr[seq]`. In the future this will be interpreted as an array index, `arr[np.array(seq)]`, which will result either in an error or a different result.\n",
      "  b = a[a_slice]\n",
      "/home/yaoxiaojian/anaconda3/lib/python3.7/site-packages/scipy/signal/_arraytools.py:45: FutureWarning: Using a non-tuple sequence for multidimensional indexing is deprecated; use `arr[tuple(seq)]` instead of `arr[seq]`. In the future this will be interpreted as an array index, `arr[np.array(seq)]`, which will result either in an error or a different result.\n",
      "  b = a[a_slice]\n",
      "/home/yaoxiaojian/anaconda3/lib/python3.7/site-packages/scipy/signal/_arraytools.py:45: FutureWarning: Using a non-tuple sequence for multidimensional indexing is deprecated; use `arr[tuple(seq)]` instead of `arr[seq]`. In the future this will be interpreted as an array index, `arr[np.array(seq)]`, which will result either in an error or a different result.\n",
      "  b = a[a_slice]\n",
      "/home/yaoxiaojian/anaconda3/lib/python3.7/site-packages/scipy/signal/_arraytools.py:45: FutureWarning: Using a non-tuple sequence for multidimensional indexing is deprecated; use `arr[tuple(seq)]` instead of `arr[seq]`. In the future this will be interpreted as an array index, `arr[np.array(seq)]`, which will result either in an error or a different result.\n",
      "  b = a[a_slice]\n",
      "/home/yaoxiaojian/anaconda3/lib/python3.7/site-packages/scipy/signal/_arraytools.py:45: FutureWarning: Using a non-tuple sequence for multidimensional indexing is deprecated; use `arr[tuple(seq)]` instead of `arr[seq]`. In the future this will be interpreted as an array index, `arr[np.array(seq)]`, which will result either in an error or a different result.\n",
      "  b = a[a_slice]\n",
      "/home/yaoxiaojian/anaconda3/lib/python3.7/site-packages/scipy/signal/_arraytools.py:45: FutureWarning: Using a non-tuple sequence for multidimensional indexing is deprecated; use `arr[tuple(seq)]` instead of `arr[seq]`. In the future this will be interpreted as an array index, `arr[np.array(seq)]`, which will result either in an error or a different result.\n",
      "  b = a[a_slice]\n"
     ]
    },
    {
     "name": "stdout",
     "output_type": "stream",
     "text": [
      "DigMontage is a superset of info. 311 in DigMontage will be ignored. The ignored channels are: {'PPO3h', 'FFC2h', 'PPOz', 'FCC5h', 'POO5h', 'OI2h', 'AFp7', 'AFF10', 'FCC4', 'POz', 'CCP1', 'PPO9', 'FTT8h', 'FFT8', 'FCC3h', 'PPO10h', 'AFF9', 'F9', 'O1h', 'FT10h', 'F3h', 'F6', 'FFC2', 'F2h', 'AFp6h', 'AFpz', 'PPO3', 'PO8', 'FC2h', 'PPO1', 'T4', 'AF9h', 'POO9', 'AFp1h', 'TPP8', 'CCP5h', 'PPO8', 'FCC6', 'AFp4h', 'P1', 'POO8h', 'FT9h', 'FTT7h', 'CPP6h', 'FC4h', 'PPO4', 'Fpz', 'C6h', 'F5h', 'FFT10', 'POO1h', 'FCC2h', 'AFp3h', 'PO8h', 'CPP3', 'PPO5', 'FC5h', 'AF6', 'P6', 'P1h', 'PO4h', 'TTP7', 'FFT9', 'POO4h', 'PO10h', 'AFF9h', 'POO10h', 'PO4', 'F2', 'AFp7h', 'FCz', 'FFC1', 'POO1', 'CPP2h', 'CP4', 'PO2', 'CCP1h', 'C5h', 'I1', 'FFC5h', 'FC6h', 'FT9', 'Fp1h', 'AFF2h', 'FFC3h', 'F7h', 'PPO2', 'FTT8', 'PO9h', 'AF4h', 'F6h', 'AFF4', 'FC1h', 'AFF3h', 'TP8h', 'CPP1h', 'F1', 'AF10h', 'CPPz', 'FCC3', 'TPP7h', 'CCP6h', 'C5', 'T9', 'FCC6h', 'C3h', 'I1h', 'CPP4', 'FT10', 'TPP10h', 'TTP10', 'CPP6', 'FT7h', 'FFC6', 'FCC2', 'AFFz', 'C2h', 'P6h', 'FCC5', 'POO8', 'M2', 'FCC1h', 'POO3', 'AF7', 'TP9h', 'AFF7', 'PPO2h', 'CP6h', 'T7h', 'F9h', 'CPP5', 'TTP9', 'AF3', 'PPO5h', 'PPO6h', 'FT8', 'AFp2', 'AF4', 'PPO10', 'PO5', 'AFp3', 'FCC4h', 'CCP4', 'AFp2h', 'FTT7', 'P9', 'AFF3', 'AF7h', 'CCP5', 'FFT8h', 'FC4', 'AFp8', 'PPO1h', 'AFF1', 'CP5h', 'AF2', 'PPO7h', 'AF5h', 'POO5', 'TPP9', 'CPz', 'FCCz', 'FTT9', 'POO10', 'C6', 'AF8h', 'POO6h', 'POO2h', 'PO7', 'FTT10h', 'TTP10h', 'A1', 'PO1', 'CPP4h', 'CCP3', 'T9h', 'TP7', 'AF1', 'TTP8h', 'CP4h', 'AFF7h', 'F8h', 'POO4', 'FT7', 'PPO4h', 'POOz', 'CP2h', 'AFp8h', 'CCP2', 'FTT10', 'POO6', 'FFC1h', 'T3', 'CCP6', 'TP10h', 'OI1', 'F10h', 'TPP10', 'FFC4h', 'AF5', 'AF10', 'TTP8', 'OI2', 'AF3h', 'AFp5', 'C2', 'I2h', 'FT8h', 'CCPz', 'CCP4h', 'P7h', 'PO7h', 'FFT7h', 'T10', 'PPO8h', 'POO7h', 'AFF5', 'PPO9h', 'T10h', 'F4h', 'FFC5', 'PO6h', 'AFF10h', 'AFF5h', 'T5', 'P5h', 'P10', 'PO6', 'FC3h', 'FFC6h', 'CPP2', 'AF2h', 'CP3h', 'T6', 'CP3', 'M1', 'P2', 'AFp9', 'CCP2h', 'P5', 'F1h', 'TP7h', 'F5', 'P9h', 'P3h', 'AFp9h', 'AFF4h', 'TPP9h', 'POO2', 'P8h', 'FCC1', 'AFp5h', 'TPP8h', 'Fp2h', 'PO3', 'P4h', 'PO3h', 'TPP7', 'AFp4', 'FFCz', 'AFz', 'FFT7', 'AFF6h', 'AFF8h', 'FFT9h', 'PO2h', 'PPO7', 'TTP7h', 'C1', 'AF1h', 'FFT10h', 'T8h', 'PO1h', 'AFp1', 'A2', 'C4h', 'AF6h', 'CPP3h', 'AFF8', 'PPO6', 'FC3', 'AFF6', 'POO3h', 'CP1h', 'AF8', 'Iz', 'FFC4', 'P10h', 'P2h', 'AFp6', 'AFF1h', 'I2', 'TP8', 'TTP9h', 'FFC3', 'POO7', 'FTT9h', 'CCP3h', 'CPP5h', 'AFF2', 'OIz', 'AFp10h', 'AFp10', 'CPP1', 'AF9', 'O2h', 'OI1h', 'C1h', 'PO5h', 'F10', 'POO9h'}\n"
     ]
    },
    {
     "name": "stderr",
     "output_type": "stream",
     "text": [
      "<ipython-input-1-81fa588ad679>:54: RuntimeWarning: 1 channel names are too long, have been truncated to 15 characters:\n",
      "['BothStartLoadPhase']\n",
      "  info = create_info(ch_names,sfreq=500.0,ch_types=ch_type,montage = montage)\n",
      "/home/yaoxiaojian/anaconda3/lib/python3.7/site-packages/scipy/signal/_arraytools.py:45: FutureWarning: Using a non-tuple sequence for multidimensional indexing is deprecated; use `arr[tuple(seq)]` instead of `arr[seq]`. In the future this will be interpreted as an array index, `arr[np.array(seq)]`, which will result either in an error or a different result.\n",
      "  b = a[a_slice]\n",
      "/home/yaoxiaojian/anaconda3/lib/python3.7/site-packages/scipy/signal/_arraytools.py:45: FutureWarning: Using a non-tuple sequence for multidimensional indexing is deprecated; use `arr[tuple(seq)]` instead of `arr[seq]`. In the future this will be interpreted as an array index, `arr[np.array(seq)]`, which will result either in an error or a different result.\n",
      "  b = a[a_slice]\n",
      "/home/yaoxiaojian/anaconda3/lib/python3.7/site-packages/scipy/signal/_arraytools.py:45: FutureWarning: Using a non-tuple sequence for multidimensional indexing is deprecated; use `arr[tuple(seq)]` instead of `arr[seq]`. In the future this will be interpreted as an array index, `arr[np.array(seq)]`, which will result either in an error or a different result.\n",
      "  b = a[a_slice]\n",
      "/home/yaoxiaojian/anaconda3/lib/python3.7/site-packages/scipy/signal/_arraytools.py:45: FutureWarning: Using a non-tuple sequence for multidimensional indexing is deprecated; use `arr[tuple(seq)]` instead of `arr[seq]`. In the future this will be interpreted as an array index, `arr[np.array(seq)]`, which will result either in an error or a different result.\n",
      "  b = a[a_slice]\n",
      "/home/yaoxiaojian/anaconda3/lib/python3.7/site-packages/scipy/signal/_arraytools.py:45: FutureWarning: Using a non-tuple sequence for multidimensional indexing is deprecated; use `arr[tuple(seq)]` instead of `arr[seq]`. In the future this will be interpreted as an array index, `arr[np.array(seq)]`, which will result either in an error or a different result.\n",
      "  b = a[a_slice]\n",
      "/home/yaoxiaojian/anaconda3/lib/python3.7/site-packages/scipy/signal/_arraytools.py:45: FutureWarning: Using a non-tuple sequence for multidimensional indexing is deprecated; use `arr[tuple(seq)]` instead of `arr[seq]`. In the future this will be interpreted as an array index, `arr[np.array(seq)]`, which will result either in an error or a different result.\n",
      "  b = a[a_slice]\n",
      "/home/yaoxiaojian/anaconda3/lib/python3.7/site-packages/scipy/signal/_arraytools.py:45: FutureWarning: Using a non-tuple sequence for multidimensional indexing is deprecated; use `arr[tuple(seq)]` instead of `arr[seq]`. In the future this will be interpreted as an array index, `arr[np.array(seq)]`, which will result either in an error or a different result.\n",
      "  b = a[a_slice]\n",
      "/home/yaoxiaojian/anaconda3/lib/python3.7/site-packages/scipy/signal/_arraytools.py:45: FutureWarning: Using a non-tuple sequence for multidimensional indexing is deprecated; use `arr[tuple(seq)]` instead of `arr[seq]`. In the future this will be interpreted as an array index, `arr[np.array(seq)]`, which will result either in an error or a different result.\n",
      "  b = a[a_slice]\n"
     ]
    },
    {
     "name": "stdout",
     "output_type": "stream",
     "text": [
      "DigMontage is a superset of info. 311 in DigMontage will be ignored. The ignored channels are: {'PPO3h', 'FFC2h', 'PPOz', 'FCC5h', 'POO5h', 'OI2h', 'AFp7', 'AFF10', 'FCC4', 'POz', 'CCP1', 'PPO9', 'FTT8h', 'FFT8', 'FCC3h', 'PPO10h', 'AFF9', 'F9', 'O1h', 'FT10h', 'F3h', 'F6', 'FFC2', 'F2h', 'AFp6h', 'AFpz', 'PPO3', 'PO8', 'FC2h', 'PPO1', 'T4', 'AF9h', 'POO9', 'AFp1h', 'TPP8', 'CCP5h', 'PPO8', 'FCC6', 'AFp4h', 'P1', 'POO8h', 'FT9h', 'FTT7h', 'CPP6h', 'FC4h', 'PPO4', 'Fpz', 'C6h', 'F5h', 'FFT10', 'POO1h', 'FCC2h', 'AFp3h', 'PO8h', 'CPP3', 'PPO5', 'FC5h', 'AF6', 'P6', 'P1h', 'PO4h', 'TTP7', 'FFT9', 'POO4h', 'PO10h', 'AFF9h', 'POO10h', 'PO4', 'F2', 'AFp7h', 'FCz', 'FFC1', 'POO1', 'CPP2h', 'CP4', 'PO2', 'CCP1h', 'C5h', 'I1', 'FFC5h', 'FC6h', 'FT9', 'Fp1h', 'AFF2h', 'FFC3h', 'F7h', 'PPO2', 'FTT8', 'PO9h', 'AF4h', 'F6h', 'AFF4', 'FC1h', 'AFF3h', 'TP8h', 'CPP1h', 'F1', 'AF10h', 'CPPz', 'FCC3', 'TPP7h', 'CCP6h', 'C5', 'T9', 'FCC6h', 'C3h', 'I1h', 'CPP4', 'FT10', 'TPP10h', 'TTP10', 'CPP6', 'FT7h', 'FFC6', 'FCC2', 'AFFz', 'C2h', 'P6h', 'FCC5', 'POO8', 'M2', 'FCC1h', 'POO3', 'AF7', 'TP9h', 'AFF7', 'PPO2h', 'CP6h', 'T7h', 'F9h', 'CPP5', 'TTP9', 'AF3', 'PPO5h', 'PPO6h', 'FT8', 'AFp2', 'AF4', 'PPO10', 'PO5', 'AFp3', 'FCC4h', 'CCP4', 'AFp2h', 'FTT7', 'P9', 'AFF3', 'AF7h', 'CCP5', 'FFT8h', 'FC4', 'AFp8', 'PPO1h', 'AFF1', 'CP5h', 'AF2', 'PPO7h', 'AF5h', 'POO5', 'TPP9', 'CPz', 'FCCz', 'FTT9', 'POO10', 'C6', 'AF8h', 'POO6h', 'POO2h', 'PO7', 'FTT10h', 'TTP10h', 'A1', 'PO1', 'CPP4h', 'CCP3', 'T9h', 'TP7', 'AF1', 'TTP8h', 'CP4h', 'AFF7h', 'F8h', 'POO4', 'FT7', 'PPO4h', 'POOz', 'CP2h', 'AFp8h', 'CCP2', 'FTT10', 'POO6', 'FFC1h', 'T3', 'CCP6', 'TP10h', 'OI1', 'F10h', 'TPP10', 'FFC4h', 'AF5', 'AF10', 'TTP8', 'OI2', 'AF3h', 'AFp5', 'C2', 'I2h', 'FT8h', 'CCPz', 'CCP4h', 'P7h', 'PO7h', 'FFT7h', 'T10', 'PPO8h', 'POO7h', 'AFF5', 'PPO9h', 'T10h', 'F4h', 'FFC5', 'PO6h', 'AFF10h', 'AFF5h', 'T5', 'P5h', 'P10', 'PO6', 'FC3h', 'FFC6h', 'CPP2', 'AF2h', 'CP3h', 'T6', 'CP3', 'M1', 'P2', 'AFp9', 'CCP2h', 'P5', 'F1h', 'TP7h', 'F5', 'P9h', 'P3h', 'AFp9h', 'AFF4h', 'TPP9h', 'POO2', 'P8h', 'FCC1', 'AFp5h', 'TPP8h', 'Fp2h', 'PO3', 'P4h', 'PO3h', 'TPP7', 'AFp4', 'FFCz', 'AFz', 'FFT7', 'AFF6h', 'AFF8h', 'FFT9h', 'PO2h', 'PPO7', 'TTP7h', 'C1', 'AF1h', 'FFT10h', 'T8h', 'PO1h', 'AFp1', 'A2', 'C4h', 'AF6h', 'CPP3h', 'AFF8', 'PPO6', 'FC3', 'AFF6', 'POO3h', 'CP1h', 'AF8', 'Iz', 'FFC4', 'P10h', 'P2h', 'AFp6', 'AFF1h', 'I2', 'TP8', 'TTP9h', 'FFC3', 'POO7', 'FTT9h', 'CCP3h', 'CPP5h', 'AFF2', 'OIz', 'AFp10h', 'AFp10', 'CPP1', 'AF9', 'O2h', 'OI1h', 'C1h', 'PO5h', 'F10', 'POO9h'}\n"
     ]
    },
    {
     "name": "stderr",
     "output_type": "stream",
     "text": [
      "<ipython-input-1-81fa588ad679>:54: RuntimeWarning: 1 channel names are too long, have been truncated to 15 characters:\n",
      "['BothStartLoadPhase']\n",
      "  info = create_info(ch_names,sfreq=500.0,ch_types=ch_type,montage = montage)\n",
      "/home/yaoxiaojian/anaconda3/lib/python3.7/site-packages/scipy/signal/_arraytools.py:45: FutureWarning: Using a non-tuple sequence for multidimensional indexing is deprecated; use `arr[tuple(seq)]` instead of `arr[seq]`. In the future this will be interpreted as an array index, `arr[np.array(seq)]`, which will result either in an error or a different result.\n",
      "  b = a[a_slice]\n",
      "/home/yaoxiaojian/anaconda3/lib/python3.7/site-packages/scipy/signal/_arraytools.py:45: FutureWarning: Using a non-tuple sequence for multidimensional indexing is deprecated; use `arr[tuple(seq)]` instead of `arr[seq]`. In the future this will be interpreted as an array index, `arr[np.array(seq)]`, which will result either in an error or a different result.\n",
      "  b = a[a_slice]\n",
      "/home/yaoxiaojian/anaconda3/lib/python3.7/site-packages/scipy/signal/_arraytools.py:45: FutureWarning: Using a non-tuple sequence for multidimensional indexing is deprecated; use `arr[tuple(seq)]` instead of `arr[seq]`. In the future this will be interpreted as an array index, `arr[np.array(seq)]`, which will result either in an error or a different result.\n",
      "  b = a[a_slice]\n",
      "/home/yaoxiaojian/anaconda3/lib/python3.7/site-packages/scipy/signal/_arraytools.py:45: FutureWarning: Using a non-tuple sequence for multidimensional indexing is deprecated; use `arr[tuple(seq)]` instead of `arr[seq]`. In the future this will be interpreted as an array index, `arr[np.array(seq)]`, which will result either in an error or a different result.\n",
      "  b = a[a_slice]\n",
      "/home/yaoxiaojian/anaconda3/lib/python3.7/site-packages/scipy/signal/_arraytools.py:45: FutureWarning: Using a non-tuple sequence for multidimensional indexing is deprecated; use `arr[tuple(seq)]` instead of `arr[seq]`. In the future this will be interpreted as an array index, `arr[np.array(seq)]`, which will result either in an error or a different result.\n",
      "  b = a[a_slice]\n",
      "/home/yaoxiaojian/anaconda3/lib/python3.7/site-packages/scipy/signal/_arraytools.py:45: FutureWarning: Using a non-tuple sequence for multidimensional indexing is deprecated; use `arr[tuple(seq)]` instead of `arr[seq]`. In the future this will be interpreted as an array index, `arr[np.array(seq)]`, which will result either in an error or a different result.\n",
      "  b = a[a_slice]\n",
      "/home/yaoxiaojian/anaconda3/lib/python3.7/site-packages/scipy/signal/_arraytools.py:45: FutureWarning: Using a non-tuple sequence for multidimensional indexing is deprecated; use `arr[tuple(seq)]` instead of `arr[seq]`. In the future this will be interpreted as an array index, `arr[np.array(seq)]`, which will result either in an error or a different result.\n",
      "  b = a[a_slice]\n",
      "/home/yaoxiaojian/anaconda3/lib/python3.7/site-packages/scipy/signal/_arraytools.py:45: FutureWarning: Using a non-tuple sequence for multidimensional indexing is deprecated; use `arr[tuple(seq)]` instead of `arr[seq]`. In the future this will be interpreted as an array index, `arr[np.array(seq)]`, which will result either in an error or a different result.\n",
      "  b = a[a_slice]\n"
     ]
    },
    {
     "name": "stdout",
     "output_type": "stream",
     "text": [
      "subject 4 (1560, 64, 751)\n",
      "data stack shape: (6240, 64, 751) (6240,)\n",
      "DigMontage is a superset of info. 311 in DigMontage will be ignored. The ignored channels are: {'PPO3h', 'FFC2h', 'PPOz', 'FCC5h', 'POO5h', 'OI2h', 'AFp7', 'AFF10', 'FCC4', 'POz', 'CCP1', 'PPO9', 'FTT8h', 'FFT8', 'FCC3h', 'PPO10h', 'AFF9', 'F9', 'O1h', 'FT10h', 'F3h', 'F6', 'FFC2', 'F2h', 'AFp6h', 'AFpz', 'PPO3', 'PO8', 'FC2h', 'PPO1', 'T4', 'AF9h', 'POO9', 'AFp1h', 'TPP8', 'CCP5h', 'PPO8', 'FCC6', 'AFp4h', 'P1', 'POO8h', 'FT9h', 'FTT7h', 'CPP6h', 'FC4h', 'PPO4', 'Fpz', 'C6h', 'F5h', 'FFT10', 'POO1h', 'FCC2h', 'AFp3h', 'PO8h', 'CPP3', 'PPO5', 'FC5h', 'AF6', 'P6', 'P1h', 'PO4h', 'TTP7', 'FFT9', 'POO4h', 'PO10h', 'AFF9h', 'POO10h', 'PO4', 'F2', 'AFp7h', 'FCz', 'FFC1', 'POO1', 'CPP2h', 'CP4', 'PO2', 'CCP1h', 'C5h', 'I1', 'FFC5h', 'FC6h', 'FT9', 'Fp1h', 'AFF2h', 'FFC3h', 'F7h', 'PPO2', 'FTT8', 'PO9h', 'AF4h', 'F6h', 'AFF4', 'FC1h', 'AFF3h', 'TP8h', 'CPP1h', 'F1', 'AF10h', 'CPPz', 'FCC3', 'TPP7h', 'CCP6h', 'C5', 'T9', 'FCC6h', 'C3h', 'I1h', 'CPP4', 'FT10', 'TPP10h', 'TTP10', 'CPP6', 'FT7h', 'FFC6', 'FCC2', 'AFFz', 'C2h', 'P6h', 'FCC5', 'POO8', 'M2', 'FCC1h', 'POO3', 'AF7', 'TP9h', 'AFF7', 'PPO2h', 'CP6h', 'T7h', 'F9h', 'CPP5', 'TTP9', 'AF3', 'PPO5h', 'PPO6h', 'FT8', 'AFp2', 'AF4', 'PPO10', 'PO5', 'AFp3', 'FCC4h', 'CCP4', 'AFp2h', 'FTT7', 'P9', 'AFF3', 'AF7h', 'CCP5', 'FFT8h', 'FC4', 'AFp8', 'PPO1h', 'AFF1', 'CP5h', 'AF2', 'PPO7h', 'AF5h', 'POO5', 'TPP9', 'CPz', 'FCCz', 'FTT9', 'POO10', 'C6', 'AF8h', 'POO6h', 'POO2h', 'PO7', 'FTT10h', 'TTP10h', 'A1', 'PO1', 'CPP4h', 'CCP3', 'T9h', 'TP7', 'AF1', 'TTP8h', 'CP4h', 'AFF7h', 'F8h', 'POO4', 'FT7', 'PPO4h', 'POOz', 'CP2h', 'AFp8h', 'CCP2', 'FTT10', 'POO6', 'FFC1h', 'T3', 'CCP6', 'TP10h', 'OI1', 'F10h', 'TPP10', 'FFC4h', 'AF5', 'AF10', 'TTP8', 'OI2', 'AF3h', 'AFp5', 'C2', 'I2h', 'FT8h', 'CCPz', 'CCP4h', 'P7h', 'PO7h', 'FFT7h', 'T10', 'PPO8h', 'POO7h', 'AFF5', 'PPO9h', 'T10h', 'F4h', 'FFC5', 'PO6h', 'AFF10h', 'AFF5h', 'T5', 'P5h', 'P10', 'PO6', 'FC3h', 'FFC6h', 'CPP2', 'AF2h', 'CP3h', 'T6', 'CP3', 'M1', 'P2', 'AFp9', 'CCP2h', 'P5', 'F1h', 'TP7h', 'F5', 'P9h', 'P3h', 'AFp9h', 'AFF4h', 'TPP9h', 'POO2', 'P8h', 'FCC1', 'AFp5h', 'TPP8h', 'Fp2h', 'PO3', 'P4h', 'PO3h', 'TPP7', 'AFp4', 'FFCz', 'AFz', 'FFT7', 'AFF6h', 'AFF8h', 'FFT9h', 'PO2h', 'PPO7', 'TTP7h', 'C1', 'AF1h', 'FFT10h', 'T8h', 'PO1h', 'AFp1', 'A2', 'C4h', 'AF6h', 'CPP3h', 'AFF8', 'PPO6', 'FC3', 'AFF6', 'POO3h', 'CP1h', 'AF8', 'Iz', 'FFC4', 'P10h', 'P2h', 'AFp6', 'AFF1h', 'I2', 'TP8', 'TTP9h', 'FFC3', 'POO7', 'FTT9h', 'CCP3h', 'CPP5h', 'AFF2', 'OIz', 'AFp10h', 'AFp10', 'CPP1', 'AF9', 'O2h', 'OI1h', 'C1h', 'PO5h', 'F10', 'POO9h'}\n"
     ]
    },
    {
     "name": "stderr",
     "output_type": "stream",
     "text": [
      "<ipython-input-1-81fa588ad679>:54: RuntimeWarning: 1 channel names are too long, have been truncated to 15 characters:\n",
      "['BothStartLoadPhase']\n",
      "  info = create_info(ch_names,sfreq=500.0,ch_types=ch_type,montage = montage)\n",
      "/home/yaoxiaojian/anaconda3/lib/python3.7/site-packages/scipy/signal/_arraytools.py:45: FutureWarning: Using a non-tuple sequence for multidimensional indexing is deprecated; use `arr[tuple(seq)]` instead of `arr[seq]`. In the future this will be interpreted as an array index, `arr[np.array(seq)]`, which will result either in an error or a different result.\n",
      "  b = a[a_slice]\n",
      "/home/yaoxiaojian/anaconda3/lib/python3.7/site-packages/scipy/signal/_arraytools.py:45: FutureWarning: Using a non-tuple sequence for multidimensional indexing is deprecated; use `arr[tuple(seq)]` instead of `arr[seq]`. In the future this will be interpreted as an array index, `arr[np.array(seq)]`, which will result either in an error or a different result.\n",
      "  b = a[a_slice]\n",
      "/home/yaoxiaojian/anaconda3/lib/python3.7/site-packages/scipy/signal/_arraytools.py:45: FutureWarning: Using a non-tuple sequence for multidimensional indexing is deprecated; use `arr[tuple(seq)]` instead of `arr[seq]`. In the future this will be interpreted as an array index, `arr[np.array(seq)]`, which will result either in an error or a different result.\n",
      "  b = a[a_slice]\n",
      "/home/yaoxiaojian/anaconda3/lib/python3.7/site-packages/scipy/signal/_arraytools.py:45: FutureWarning: Using a non-tuple sequence for multidimensional indexing is deprecated; use `arr[tuple(seq)]` instead of `arr[seq]`. In the future this will be interpreted as an array index, `arr[np.array(seq)]`, which will result either in an error or a different result.\n",
      "  b = a[a_slice]\n",
      "/home/yaoxiaojian/anaconda3/lib/python3.7/site-packages/scipy/signal/_arraytools.py:45: FutureWarning: Using a non-tuple sequence for multidimensional indexing is deprecated; use `arr[tuple(seq)]` instead of `arr[seq]`. In the future this will be interpreted as an array index, `arr[np.array(seq)]`, which will result either in an error or a different result.\n",
      "  b = a[a_slice]\n",
      "/home/yaoxiaojian/anaconda3/lib/python3.7/site-packages/scipy/signal/_arraytools.py:45: FutureWarning: Using a non-tuple sequence for multidimensional indexing is deprecated; use `arr[tuple(seq)]` instead of `arr[seq]`. In the future this will be interpreted as an array index, `arr[np.array(seq)]`, which will result either in an error or a different result.\n",
      "  b = a[a_slice]\n",
      "/home/yaoxiaojian/anaconda3/lib/python3.7/site-packages/scipy/signal/_arraytools.py:45: FutureWarning: Using a non-tuple sequence for multidimensional indexing is deprecated; use `arr[tuple(seq)]` instead of `arr[seq]`. In the future this will be interpreted as an array index, `arr[np.array(seq)]`, which will result either in an error or a different result.\n",
      "  b = a[a_slice]\n",
      "/home/yaoxiaojian/anaconda3/lib/python3.7/site-packages/scipy/signal/_arraytools.py:45: FutureWarning: Using a non-tuple sequence for multidimensional indexing is deprecated; use `arr[tuple(seq)]` instead of `arr[seq]`. In the future this will be interpreted as an array index, `arr[np.array(seq)]`, which will result either in an error or a different result.\n",
      "  b = a[a_slice]\n"
     ]
    },
    {
     "name": "stdout",
     "output_type": "stream",
     "text": [
      "DigMontage is a superset of info. 311 in DigMontage will be ignored. The ignored channels are: {'PPO3h', 'FFC2h', 'PPOz', 'FCC5h', 'POO5h', 'OI2h', 'AFp7', 'AFF10', 'FCC4', 'POz', 'CCP1', 'PPO9', 'FTT8h', 'FFT8', 'FCC3h', 'PPO10h', 'AFF9', 'F9', 'O1h', 'FT10h', 'F3h', 'F6', 'FFC2', 'F2h', 'AFp6h', 'AFpz', 'PPO3', 'PO8', 'FC2h', 'PPO1', 'T4', 'AF9h', 'POO9', 'AFp1h', 'TPP8', 'CCP5h', 'PPO8', 'FCC6', 'AFp4h', 'P1', 'POO8h', 'FT9h', 'FTT7h', 'CPP6h', 'FC4h', 'PPO4', 'Fpz', 'C6h', 'F5h', 'FFT10', 'POO1h', 'FCC2h', 'AFp3h', 'PO8h', 'CPP3', 'PPO5', 'FC5h', 'AF6', 'P6', 'P1h', 'PO4h', 'TTP7', 'FFT9', 'POO4h', 'PO10h', 'AFF9h', 'POO10h', 'PO4', 'F2', 'AFp7h', 'FCz', 'FFC1', 'POO1', 'CPP2h', 'CP4', 'PO2', 'CCP1h', 'C5h', 'I1', 'FFC5h', 'FC6h', 'FT9', 'Fp1h', 'AFF2h', 'FFC3h', 'F7h', 'PPO2', 'FTT8', 'PO9h', 'AF4h', 'F6h', 'AFF4', 'FC1h', 'AFF3h', 'TP8h', 'CPP1h', 'F1', 'AF10h', 'CPPz', 'FCC3', 'TPP7h', 'CCP6h', 'C5', 'T9', 'FCC6h', 'C3h', 'I1h', 'CPP4', 'FT10', 'TPP10h', 'TTP10', 'CPP6', 'FT7h', 'FFC6', 'FCC2', 'AFFz', 'C2h', 'P6h', 'FCC5', 'POO8', 'M2', 'FCC1h', 'POO3', 'AF7', 'TP9h', 'AFF7', 'PPO2h', 'CP6h', 'T7h', 'F9h', 'CPP5', 'TTP9', 'AF3', 'PPO5h', 'PPO6h', 'FT8', 'AFp2', 'AF4', 'PPO10', 'PO5', 'AFp3', 'FCC4h', 'CCP4', 'AFp2h', 'FTT7', 'P9', 'AFF3', 'AF7h', 'CCP5', 'FFT8h', 'FC4', 'AFp8', 'PPO1h', 'AFF1', 'CP5h', 'AF2', 'PPO7h', 'AF5h', 'POO5', 'TPP9', 'CPz', 'FCCz', 'FTT9', 'POO10', 'C6', 'AF8h', 'POO6h', 'POO2h', 'PO7', 'FTT10h', 'TTP10h', 'A1', 'PO1', 'CPP4h', 'CCP3', 'T9h', 'TP7', 'AF1', 'TTP8h', 'CP4h', 'AFF7h', 'F8h', 'POO4', 'FT7', 'PPO4h', 'POOz', 'CP2h', 'AFp8h', 'CCP2', 'FTT10', 'POO6', 'FFC1h', 'T3', 'CCP6', 'TP10h', 'OI1', 'F10h', 'TPP10', 'FFC4h', 'AF5', 'AF10', 'TTP8', 'OI2', 'AF3h', 'AFp5', 'C2', 'I2h', 'FT8h', 'CCPz', 'CCP4h', 'P7h', 'PO7h', 'FFT7h', 'T10', 'PPO8h', 'POO7h', 'AFF5', 'PPO9h', 'T10h', 'F4h', 'FFC5', 'PO6h', 'AFF10h', 'AFF5h', 'T5', 'P5h', 'P10', 'PO6', 'FC3h', 'FFC6h', 'CPP2', 'AF2h', 'CP3h', 'T6', 'CP3', 'M1', 'P2', 'AFp9', 'CCP2h', 'P5', 'F1h', 'TP7h', 'F5', 'P9h', 'P3h', 'AFp9h', 'AFF4h', 'TPP9h', 'POO2', 'P8h', 'FCC1', 'AFp5h', 'TPP8h', 'Fp2h', 'PO3', 'P4h', 'PO3h', 'TPP7', 'AFp4', 'FFCz', 'AFz', 'FFT7', 'AFF6h', 'AFF8h', 'FFT9h', 'PO2h', 'PPO7', 'TTP7h', 'C1', 'AF1h', 'FFT10h', 'T8h', 'PO1h', 'AFp1', 'A2', 'C4h', 'AF6h', 'CPP3h', 'AFF8', 'PPO6', 'FC3', 'AFF6', 'POO3h', 'CP1h', 'AF8', 'Iz', 'FFC4', 'P10h', 'P2h', 'AFp6', 'AFF1h', 'I2', 'TP8', 'TTP9h', 'FFC3', 'POO7', 'FTT9h', 'CCP3h', 'CPP5h', 'AFF2', 'OIz', 'AFp10h', 'AFp10', 'CPP1', 'AF9', 'O2h', 'OI1h', 'C1h', 'PO5h', 'F10', 'POO9h'}\n"
     ]
    },
    {
     "name": "stderr",
     "output_type": "stream",
     "text": [
      "<ipython-input-1-81fa588ad679>:54: RuntimeWarning: 1 channel names are too long, have been truncated to 15 characters:\n",
      "['BothStartLoadPhase']\n",
      "  info = create_info(ch_names,sfreq=500.0,ch_types=ch_type,montage = montage)\n",
      "/home/yaoxiaojian/anaconda3/lib/python3.7/site-packages/scipy/signal/_arraytools.py:45: FutureWarning: Using a non-tuple sequence for multidimensional indexing is deprecated; use `arr[tuple(seq)]` instead of `arr[seq]`. In the future this will be interpreted as an array index, `arr[np.array(seq)]`, which will result either in an error or a different result.\n",
      "  b = a[a_slice]\n",
      "/home/yaoxiaojian/anaconda3/lib/python3.7/site-packages/scipy/signal/_arraytools.py:45: FutureWarning: Using a non-tuple sequence for multidimensional indexing is deprecated; use `arr[tuple(seq)]` instead of `arr[seq]`. In the future this will be interpreted as an array index, `arr[np.array(seq)]`, which will result either in an error or a different result.\n",
      "  b = a[a_slice]\n",
      "/home/yaoxiaojian/anaconda3/lib/python3.7/site-packages/scipy/signal/_arraytools.py:45: FutureWarning: Using a non-tuple sequence for multidimensional indexing is deprecated; use `arr[tuple(seq)]` instead of `arr[seq]`. In the future this will be interpreted as an array index, `arr[np.array(seq)]`, which will result either in an error or a different result.\n",
      "  b = a[a_slice]\n",
      "/home/yaoxiaojian/anaconda3/lib/python3.7/site-packages/scipy/signal/_arraytools.py:45: FutureWarning: Using a non-tuple sequence for multidimensional indexing is deprecated; use `arr[tuple(seq)]` instead of `arr[seq]`. In the future this will be interpreted as an array index, `arr[np.array(seq)]`, which will result either in an error or a different result.\n",
      "  b = a[a_slice]\n",
      "/home/yaoxiaojian/anaconda3/lib/python3.7/site-packages/scipy/signal/_arraytools.py:45: FutureWarning: Using a non-tuple sequence for multidimensional indexing is deprecated; use `arr[tuple(seq)]` instead of `arr[seq]`. In the future this will be interpreted as an array index, `arr[np.array(seq)]`, which will result either in an error or a different result.\n",
      "  b = a[a_slice]\n",
      "/home/yaoxiaojian/anaconda3/lib/python3.7/site-packages/scipy/signal/_arraytools.py:45: FutureWarning: Using a non-tuple sequence for multidimensional indexing is deprecated; use `arr[tuple(seq)]` instead of `arr[seq]`. In the future this will be interpreted as an array index, `arr[np.array(seq)]`, which will result either in an error or a different result.\n",
      "  b = a[a_slice]\n",
      "/home/yaoxiaojian/anaconda3/lib/python3.7/site-packages/scipy/signal/_arraytools.py:45: FutureWarning: Using a non-tuple sequence for multidimensional indexing is deprecated; use `arr[tuple(seq)]` instead of `arr[seq]`. In the future this will be interpreted as an array index, `arr[np.array(seq)]`, which will result either in an error or a different result.\n",
      "  b = a[a_slice]\n",
      "/home/yaoxiaojian/anaconda3/lib/python3.7/site-packages/scipy/signal/_arraytools.py:45: FutureWarning: Using a non-tuple sequence for multidimensional indexing is deprecated; use `arr[tuple(seq)]` instead of `arr[seq]`. In the future this will be interpreted as an array index, `arr[np.array(seq)]`, which will result either in an error or a different result.\n",
      "  b = a[a_slice]\n"
     ]
    },
    {
     "name": "stdout",
     "output_type": "stream",
     "text": [
      "DigMontage is a superset of info. 311 in DigMontage will be ignored. The ignored channels are: {'PPO3h', 'FFC2h', 'PPOz', 'FCC5h', 'POO5h', 'OI2h', 'AFp7', 'AFF10', 'FCC4', 'POz', 'CCP1', 'PPO9', 'FTT8h', 'FFT8', 'FCC3h', 'PPO10h', 'AFF9', 'F9', 'O1h', 'FT10h', 'F3h', 'F6', 'FFC2', 'F2h', 'AFp6h', 'AFpz', 'PPO3', 'PO8', 'FC2h', 'PPO1', 'T4', 'AF9h', 'POO9', 'AFp1h', 'TPP8', 'CCP5h', 'PPO8', 'FCC6', 'AFp4h', 'P1', 'POO8h', 'FT9h', 'FTT7h', 'CPP6h', 'FC4h', 'PPO4', 'Fpz', 'C6h', 'F5h', 'FFT10', 'POO1h', 'FCC2h', 'AFp3h', 'PO8h', 'CPP3', 'PPO5', 'FC5h', 'AF6', 'P6', 'P1h', 'PO4h', 'TTP7', 'FFT9', 'POO4h', 'PO10h', 'AFF9h', 'POO10h', 'PO4', 'F2', 'AFp7h', 'FCz', 'FFC1', 'POO1', 'CPP2h', 'CP4', 'PO2', 'CCP1h', 'C5h', 'I1', 'FFC5h', 'FC6h', 'FT9', 'Fp1h', 'AFF2h', 'FFC3h', 'F7h', 'PPO2', 'FTT8', 'PO9h', 'AF4h', 'F6h', 'AFF4', 'FC1h', 'AFF3h', 'TP8h', 'CPP1h', 'F1', 'AF10h', 'CPPz', 'FCC3', 'TPP7h', 'CCP6h', 'C5', 'T9', 'FCC6h', 'C3h', 'I1h', 'CPP4', 'FT10', 'TPP10h', 'TTP10', 'CPP6', 'FT7h', 'FFC6', 'FCC2', 'AFFz', 'C2h', 'P6h', 'FCC5', 'POO8', 'M2', 'FCC1h', 'POO3', 'AF7', 'TP9h', 'AFF7', 'PPO2h', 'CP6h', 'T7h', 'F9h', 'CPP5', 'TTP9', 'AF3', 'PPO5h', 'PPO6h', 'FT8', 'AFp2', 'AF4', 'PPO10', 'PO5', 'AFp3', 'FCC4h', 'CCP4', 'AFp2h', 'FTT7', 'P9', 'AFF3', 'AF7h', 'CCP5', 'FFT8h', 'FC4', 'AFp8', 'PPO1h', 'AFF1', 'CP5h', 'AF2', 'PPO7h', 'AF5h', 'POO5', 'TPP9', 'CPz', 'FCCz', 'FTT9', 'POO10', 'C6', 'AF8h', 'POO6h', 'POO2h', 'PO7', 'FTT10h', 'TTP10h', 'A1', 'PO1', 'CPP4h', 'CCP3', 'T9h', 'TP7', 'AF1', 'TTP8h', 'CP4h', 'AFF7h', 'F8h', 'POO4', 'FT7', 'PPO4h', 'POOz', 'CP2h', 'AFp8h', 'CCP2', 'FTT10', 'POO6', 'FFC1h', 'T3', 'CCP6', 'TP10h', 'OI1', 'F10h', 'TPP10', 'FFC4h', 'AF5', 'AF10', 'TTP8', 'OI2', 'AF3h', 'AFp5', 'C2', 'I2h', 'FT8h', 'CCPz', 'CCP4h', 'P7h', 'PO7h', 'FFT7h', 'T10', 'PPO8h', 'POO7h', 'AFF5', 'PPO9h', 'T10h', 'F4h', 'FFC5', 'PO6h', 'AFF10h', 'AFF5h', 'T5', 'P5h', 'P10', 'PO6', 'FC3h', 'FFC6h', 'CPP2', 'AF2h', 'CP3h', 'T6', 'CP3', 'M1', 'P2', 'AFp9', 'CCP2h', 'P5', 'F1h', 'TP7h', 'F5', 'P9h', 'P3h', 'AFp9h', 'AFF4h', 'TPP9h', 'POO2', 'P8h', 'FCC1', 'AFp5h', 'TPP8h', 'Fp2h', 'PO3', 'P4h', 'PO3h', 'TPP7', 'AFp4', 'FFCz', 'AFz', 'FFT7', 'AFF6h', 'AFF8h', 'FFT9h', 'PO2h', 'PPO7', 'TTP7h', 'C1', 'AF1h', 'FFT10h', 'T8h', 'PO1h', 'AFp1', 'A2', 'C4h', 'AF6h', 'CPP3h', 'AFF8', 'PPO6', 'FC3', 'AFF6', 'POO3h', 'CP1h', 'AF8', 'Iz', 'FFC4', 'P10h', 'P2h', 'AFp6', 'AFF1h', 'I2', 'TP8', 'TTP9h', 'FFC3', 'POO7', 'FTT9h', 'CCP3h', 'CPP5h', 'AFF2', 'OIz', 'AFp10h', 'AFp10', 'CPP1', 'AF9', 'O2h', 'OI1h', 'C1h', 'PO5h', 'F10', 'POO9h'}\n"
     ]
    },
    {
     "name": "stderr",
     "output_type": "stream",
     "text": [
      "<ipython-input-1-81fa588ad679>:54: RuntimeWarning: 1 channel names are too long, have been truncated to 15 characters:\n",
      "['BothStartLoadPhase']\n",
      "  info = create_info(ch_names,sfreq=500.0,ch_types=ch_type,montage = montage)\n",
      "/home/yaoxiaojian/anaconda3/lib/python3.7/site-packages/scipy/signal/_arraytools.py:45: FutureWarning: Using a non-tuple sequence for multidimensional indexing is deprecated; use `arr[tuple(seq)]` instead of `arr[seq]`. In the future this will be interpreted as an array index, `arr[np.array(seq)]`, which will result either in an error or a different result.\n",
      "  b = a[a_slice]\n",
      "/home/yaoxiaojian/anaconda3/lib/python3.7/site-packages/scipy/signal/_arraytools.py:45: FutureWarning: Using a non-tuple sequence for multidimensional indexing is deprecated; use `arr[tuple(seq)]` instead of `arr[seq]`. In the future this will be interpreted as an array index, `arr[np.array(seq)]`, which will result either in an error or a different result.\n",
      "  b = a[a_slice]\n",
      "/home/yaoxiaojian/anaconda3/lib/python3.7/site-packages/scipy/signal/_arraytools.py:45: FutureWarning: Using a non-tuple sequence for multidimensional indexing is deprecated; use `arr[tuple(seq)]` instead of `arr[seq]`. In the future this will be interpreted as an array index, `arr[np.array(seq)]`, which will result either in an error or a different result.\n",
      "  b = a[a_slice]\n",
      "/home/yaoxiaojian/anaconda3/lib/python3.7/site-packages/scipy/signal/_arraytools.py:45: FutureWarning: Using a non-tuple sequence for multidimensional indexing is deprecated; use `arr[tuple(seq)]` instead of `arr[seq]`. In the future this will be interpreted as an array index, `arr[np.array(seq)]`, which will result either in an error or a different result.\n",
      "  b = a[a_slice]\n",
      "/home/yaoxiaojian/anaconda3/lib/python3.7/site-packages/scipy/signal/_arraytools.py:45: FutureWarning: Using a non-tuple sequence for multidimensional indexing is deprecated; use `arr[tuple(seq)]` instead of `arr[seq]`. In the future this will be interpreted as an array index, `arr[np.array(seq)]`, which will result either in an error or a different result.\n",
      "  b = a[a_slice]\n",
      "/home/yaoxiaojian/anaconda3/lib/python3.7/site-packages/scipy/signal/_arraytools.py:45: FutureWarning: Using a non-tuple sequence for multidimensional indexing is deprecated; use `arr[tuple(seq)]` instead of `arr[seq]`. In the future this will be interpreted as an array index, `arr[np.array(seq)]`, which will result either in an error or a different result.\n",
      "  b = a[a_slice]\n",
      "/home/yaoxiaojian/anaconda3/lib/python3.7/site-packages/scipy/signal/_arraytools.py:45: FutureWarning: Using a non-tuple sequence for multidimensional indexing is deprecated; use `arr[tuple(seq)]` instead of `arr[seq]`. In the future this will be interpreted as an array index, `arr[np.array(seq)]`, which will result either in an error or a different result.\n",
      "  b = a[a_slice]\n",
      "/home/yaoxiaojian/anaconda3/lib/python3.7/site-packages/scipy/signal/_arraytools.py:45: FutureWarning: Using a non-tuple sequence for multidimensional indexing is deprecated; use `arr[tuple(seq)]` instead of `arr[seq]`. In the future this will be interpreted as an array index, `arr[np.array(seq)]`, which will result either in an error or a different result.\n",
      "  b = a[a_slice]\n"
     ]
    },
    {
     "name": "stdout",
     "output_type": "stream",
     "text": [
      "DigMontage is a superset of info. 311 in DigMontage will be ignored. The ignored channels are: {'PPO3h', 'FFC2h', 'PPOz', 'FCC5h', 'POO5h', 'OI2h', 'AFp7', 'AFF10', 'FCC4', 'POz', 'CCP1', 'PPO9', 'FTT8h', 'FFT8', 'FCC3h', 'PPO10h', 'AFF9', 'F9', 'O1h', 'FT10h', 'F3h', 'F6', 'FFC2', 'F2h', 'AFp6h', 'AFpz', 'PPO3', 'PO8', 'FC2h', 'PPO1', 'T4', 'AF9h', 'POO9', 'AFp1h', 'TPP8', 'CCP5h', 'PPO8', 'FCC6', 'AFp4h', 'P1', 'POO8h', 'FT9h', 'FTT7h', 'CPP6h', 'FC4h', 'PPO4', 'Fpz', 'C6h', 'F5h', 'FFT10', 'POO1h', 'FCC2h', 'AFp3h', 'PO8h', 'CPP3', 'PPO5', 'FC5h', 'AF6', 'P6', 'P1h', 'PO4h', 'TTP7', 'FFT9', 'POO4h', 'PO10h', 'AFF9h', 'POO10h', 'PO4', 'F2', 'AFp7h', 'FCz', 'FFC1', 'POO1', 'CPP2h', 'CP4', 'PO2', 'CCP1h', 'C5h', 'I1', 'FFC5h', 'FC6h', 'FT9', 'Fp1h', 'AFF2h', 'FFC3h', 'F7h', 'PPO2', 'FTT8', 'PO9h', 'AF4h', 'F6h', 'AFF4', 'FC1h', 'AFF3h', 'TP8h', 'CPP1h', 'F1', 'AF10h', 'CPPz', 'FCC3', 'TPP7h', 'CCP6h', 'C5', 'T9', 'FCC6h', 'C3h', 'I1h', 'CPP4', 'FT10', 'TPP10h', 'TTP10', 'CPP6', 'FT7h', 'FFC6', 'FCC2', 'AFFz', 'C2h', 'P6h', 'FCC5', 'POO8', 'M2', 'FCC1h', 'POO3', 'AF7', 'TP9h', 'AFF7', 'PPO2h', 'CP6h', 'T7h', 'F9h', 'CPP5', 'TTP9', 'AF3', 'PPO5h', 'PPO6h', 'FT8', 'AFp2', 'AF4', 'PPO10', 'PO5', 'AFp3', 'FCC4h', 'CCP4', 'AFp2h', 'FTT7', 'P9', 'AFF3', 'AF7h', 'CCP5', 'FFT8h', 'FC4', 'AFp8', 'PPO1h', 'AFF1', 'CP5h', 'AF2', 'PPO7h', 'AF5h', 'POO5', 'TPP9', 'CPz', 'FCCz', 'FTT9', 'POO10', 'C6', 'AF8h', 'POO6h', 'POO2h', 'PO7', 'FTT10h', 'TTP10h', 'A1', 'PO1', 'CPP4h', 'CCP3', 'T9h', 'TP7', 'AF1', 'TTP8h', 'CP4h', 'AFF7h', 'F8h', 'POO4', 'FT7', 'PPO4h', 'POOz', 'CP2h', 'AFp8h', 'CCP2', 'FTT10', 'POO6', 'FFC1h', 'T3', 'CCP6', 'TP10h', 'OI1', 'F10h', 'TPP10', 'FFC4h', 'AF5', 'AF10', 'TTP8', 'OI2', 'AF3h', 'AFp5', 'C2', 'I2h', 'FT8h', 'CCPz', 'CCP4h', 'P7h', 'PO7h', 'FFT7h', 'T10', 'PPO8h', 'POO7h', 'AFF5', 'PPO9h', 'T10h', 'F4h', 'FFC5', 'PO6h', 'AFF10h', 'AFF5h', 'T5', 'P5h', 'P10', 'PO6', 'FC3h', 'FFC6h', 'CPP2', 'AF2h', 'CP3h', 'T6', 'CP3', 'M1', 'P2', 'AFp9', 'CCP2h', 'P5', 'F1h', 'TP7h', 'F5', 'P9h', 'P3h', 'AFp9h', 'AFF4h', 'TPP9h', 'POO2', 'P8h', 'FCC1', 'AFp5h', 'TPP8h', 'Fp2h', 'PO3', 'P4h', 'PO3h', 'TPP7', 'AFp4', 'FFCz', 'AFz', 'FFT7', 'AFF6h', 'AFF8h', 'FFT9h', 'PO2h', 'PPO7', 'TTP7h', 'C1', 'AF1h', 'FFT10h', 'T8h', 'PO1h', 'AFp1', 'A2', 'C4h', 'AF6h', 'CPP3h', 'AFF8', 'PPO6', 'FC3', 'AFF6', 'POO3h', 'CP1h', 'AF8', 'Iz', 'FFC4', 'P10h', 'P2h', 'AFp6', 'AFF1h', 'I2', 'TP8', 'TTP9h', 'FFC3', 'POO7', 'FTT9h', 'CCP3h', 'CPP5h', 'AFF2', 'OIz', 'AFp10h', 'AFp10', 'CPP1', 'AF9', 'O2h', 'OI1h', 'C1h', 'PO5h', 'F10', 'POO9h'}\n"
     ]
    },
    {
     "name": "stderr",
     "output_type": "stream",
     "text": [
      "<ipython-input-1-81fa588ad679>:54: RuntimeWarning: 1 channel names are too long, have been truncated to 15 characters:\n",
      "['BothStartLoadPhase']\n",
      "  info = create_info(ch_names,sfreq=500.0,ch_types=ch_type,montage = montage)\n",
      "/home/yaoxiaojian/anaconda3/lib/python3.7/site-packages/scipy/signal/_arraytools.py:45: FutureWarning: Using a non-tuple sequence for multidimensional indexing is deprecated; use `arr[tuple(seq)]` instead of `arr[seq]`. In the future this will be interpreted as an array index, `arr[np.array(seq)]`, which will result either in an error or a different result.\n",
      "  b = a[a_slice]\n",
      "/home/yaoxiaojian/anaconda3/lib/python3.7/site-packages/scipy/signal/_arraytools.py:45: FutureWarning: Using a non-tuple sequence for multidimensional indexing is deprecated; use `arr[tuple(seq)]` instead of `arr[seq]`. In the future this will be interpreted as an array index, `arr[np.array(seq)]`, which will result either in an error or a different result.\n",
      "  b = a[a_slice]\n",
      "/home/yaoxiaojian/anaconda3/lib/python3.7/site-packages/scipy/signal/_arraytools.py:45: FutureWarning: Using a non-tuple sequence for multidimensional indexing is deprecated; use `arr[tuple(seq)]` instead of `arr[seq]`. In the future this will be interpreted as an array index, `arr[np.array(seq)]`, which will result either in an error or a different result.\n",
      "  b = a[a_slice]\n",
      "/home/yaoxiaojian/anaconda3/lib/python3.7/site-packages/scipy/signal/_arraytools.py:45: FutureWarning: Using a non-tuple sequence for multidimensional indexing is deprecated; use `arr[tuple(seq)]` instead of `arr[seq]`. In the future this will be interpreted as an array index, `arr[np.array(seq)]`, which will result either in an error or a different result.\n",
      "  b = a[a_slice]\n",
      "/home/yaoxiaojian/anaconda3/lib/python3.7/site-packages/scipy/signal/_arraytools.py:45: FutureWarning: Using a non-tuple sequence for multidimensional indexing is deprecated; use `arr[tuple(seq)]` instead of `arr[seq]`. In the future this will be interpreted as an array index, `arr[np.array(seq)]`, which will result either in an error or a different result.\n",
      "  b = a[a_slice]\n",
      "/home/yaoxiaojian/anaconda3/lib/python3.7/site-packages/scipy/signal/_arraytools.py:45: FutureWarning: Using a non-tuple sequence for multidimensional indexing is deprecated; use `arr[tuple(seq)]` instead of `arr[seq]`. In the future this will be interpreted as an array index, `arr[np.array(seq)]`, which will result either in an error or a different result.\n",
      "  b = a[a_slice]\n",
      "/home/yaoxiaojian/anaconda3/lib/python3.7/site-packages/scipy/signal/_arraytools.py:45: FutureWarning: Using a non-tuple sequence for multidimensional indexing is deprecated; use `arr[tuple(seq)]` instead of `arr[seq]`. In the future this will be interpreted as an array index, `arr[np.array(seq)]`, which will result either in an error or a different result.\n",
      "  b = a[a_slice]\n",
      "/home/yaoxiaojian/anaconda3/lib/python3.7/site-packages/scipy/signal/_arraytools.py:45: FutureWarning: Using a non-tuple sequence for multidimensional indexing is deprecated; use `arr[tuple(seq)]` instead of `arr[seq]`. In the future this will be interpreted as an array index, `arr[np.array(seq)]`, which will result either in an error or a different result.\n",
      "  b = a[a_slice]\n"
     ]
    },
    {
     "name": "stdout",
     "output_type": "stream",
     "text": [
      "DigMontage is a superset of info. 311 in DigMontage will be ignored. The ignored channels are: {'PPO3h', 'FFC2h', 'PPOz', 'FCC5h', 'POO5h', 'OI2h', 'AFp7', 'AFF10', 'FCC4', 'POz', 'CCP1', 'PPO9', 'FTT8h', 'FFT8', 'FCC3h', 'PPO10h', 'AFF9', 'F9', 'O1h', 'FT10h', 'F3h', 'F6', 'FFC2', 'F2h', 'AFp6h', 'AFpz', 'PPO3', 'PO8', 'FC2h', 'PPO1', 'T4', 'AF9h', 'POO9', 'AFp1h', 'TPP8', 'CCP5h', 'PPO8', 'FCC6', 'AFp4h', 'P1', 'POO8h', 'FT9h', 'FTT7h', 'CPP6h', 'FC4h', 'PPO4', 'Fpz', 'C6h', 'F5h', 'FFT10', 'POO1h', 'FCC2h', 'AFp3h', 'PO8h', 'CPP3', 'PPO5', 'FC5h', 'AF6', 'P6', 'P1h', 'PO4h', 'TTP7', 'FFT9', 'POO4h', 'PO10h', 'AFF9h', 'POO10h', 'PO4', 'F2', 'AFp7h', 'FCz', 'FFC1', 'POO1', 'CPP2h', 'CP4', 'PO2', 'CCP1h', 'C5h', 'I1', 'FFC5h', 'FC6h', 'FT9', 'Fp1h', 'AFF2h', 'FFC3h', 'F7h', 'PPO2', 'FTT8', 'PO9h', 'AF4h', 'F6h', 'AFF4', 'FC1h', 'AFF3h', 'TP8h', 'CPP1h', 'F1', 'AF10h', 'CPPz', 'FCC3', 'TPP7h', 'CCP6h', 'C5', 'T9', 'FCC6h', 'C3h', 'I1h', 'CPP4', 'FT10', 'TPP10h', 'TTP10', 'CPP6', 'FT7h', 'FFC6', 'FCC2', 'AFFz', 'C2h', 'P6h', 'FCC5', 'POO8', 'M2', 'FCC1h', 'POO3', 'AF7', 'TP9h', 'AFF7', 'PPO2h', 'CP6h', 'T7h', 'F9h', 'CPP5', 'TTP9', 'AF3', 'PPO5h', 'PPO6h', 'FT8', 'AFp2', 'AF4', 'PPO10', 'PO5', 'AFp3', 'FCC4h', 'CCP4', 'AFp2h', 'FTT7', 'P9', 'AFF3', 'AF7h', 'CCP5', 'FFT8h', 'FC4', 'AFp8', 'PPO1h', 'AFF1', 'CP5h', 'AF2', 'PPO7h', 'AF5h', 'POO5', 'TPP9', 'CPz', 'FCCz', 'FTT9', 'POO10', 'C6', 'AF8h', 'POO6h', 'POO2h', 'PO7', 'FTT10h', 'TTP10h', 'A1', 'PO1', 'CPP4h', 'CCP3', 'T9h', 'TP7', 'AF1', 'TTP8h', 'CP4h', 'AFF7h', 'F8h', 'POO4', 'FT7', 'PPO4h', 'POOz', 'CP2h', 'AFp8h', 'CCP2', 'FTT10', 'POO6', 'FFC1h', 'T3', 'CCP6', 'TP10h', 'OI1', 'F10h', 'TPP10', 'FFC4h', 'AF5', 'AF10', 'TTP8', 'OI2', 'AF3h', 'AFp5', 'C2', 'I2h', 'FT8h', 'CCPz', 'CCP4h', 'P7h', 'PO7h', 'FFT7h', 'T10', 'PPO8h', 'POO7h', 'AFF5', 'PPO9h', 'T10h', 'F4h', 'FFC5', 'PO6h', 'AFF10h', 'AFF5h', 'T5', 'P5h', 'P10', 'PO6', 'FC3h', 'FFC6h', 'CPP2', 'AF2h', 'CP3h', 'T6', 'CP3', 'M1', 'P2', 'AFp9', 'CCP2h', 'P5', 'F1h', 'TP7h', 'F5', 'P9h', 'P3h', 'AFp9h', 'AFF4h', 'TPP9h', 'POO2', 'P8h', 'FCC1', 'AFp5h', 'TPP8h', 'Fp2h', 'PO3', 'P4h', 'PO3h', 'TPP7', 'AFp4', 'FFCz', 'AFz', 'FFT7', 'AFF6h', 'AFF8h', 'FFT9h', 'PO2h', 'PPO7', 'TTP7h', 'C1', 'AF1h', 'FFT10h', 'T8h', 'PO1h', 'AFp1', 'A2', 'C4h', 'AF6h', 'CPP3h', 'AFF8', 'PPO6', 'FC3', 'AFF6', 'POO3h', 'CP1h', 'AF8', 'Iz', 'FFC4', 'P10h', 'P2h', 'AFp6', 'AFF1h', 'I2', 'TP8', 'TTP9h', 'FFC3', 'POO7', 'FTT9h', 'CCP3h', 'CPP5h', 'AFF2', 'OIz', 'AFp10h', 'AFp10', 'CPP1', 'AF9', 'O2h', 'OI1h', 'C1h', 'PO5h', 'F10', 'POO9h'}\n"
     ]
    },
    {
     "name": "stderr",
     "output_type": "stream",
     "text": [
      "<ipython-input-1-81fa588ad679>:54: RuntimeWarning: 1 channel names are too long, have been truncated to 15 characters:\n",
      "['BothStartLoadPhase']\n",
      "  info = create_info(ch_names,sfreq=500.0,ch_types=ch_type,montage = montage)\n",
      "/home/yaoxiaojian/anaconda3/lib/python3.7/site-packages/scipy/signal/_arraytools.py:45: FutureWarning: Using a non-tuple sequence for multidimensional indexing is deprecated; use `arr[tuple(seq)]` instead of `arr[seq]`. In the future this will be interpreted as an array index, `arr[np.array(seq)]`, which will result either in an error or a different result.\n",
      "  b = a[a_slice]\n",
      "/home/yaoxiaojian/anaconda3/lib/python3.7/site-packages/scipy/signal/_arraytools.py:45: FutureWarning: Using a non-tuple sequence for multidimensional indexing is deprecated; use `arr[tuple(seq)]` instead of `arr[seq]`. In the future this will be interpreted as an array index, `arr[np.array(seq)]`, which will result either in an error or a different result.\n",
      "  b = a[a_slice]\n",
      "/home/yaoxiaojian/anaconda3/lib/python3.7/site-packages/scipy/signal/_arraytools.py:45: FutureWarning: Using a non-tuple sequence for multidimensional indexing is deprecated; use `arr[tuple(seq)]` instead of `arr[seq]`. In the future this will be interpreted as an array index, `arr[np.array(seq)]`, which will result either in an error or a different result.\n",
      "  b = a[a_slice]\n",
      "/home/yaoxiaojian/anaconda3/lib/python3.7/site-packages/scipy/signal/_arraytools.py:45: FutureWarning: Using a non-tuple sequence for multidimensional indexing is deprecated; use `arr[tuple(seq)]` instead of `arr[seq]`. In the future this will be interpreted as an array index, `arr[np.array(seq)]`, which will result either in an error or a different result.\n",
      "  b = a[a_slice]\n",
      "/home/yaoxiaojian/anaconda3/lib/python3.7/site-packages/scipy/signal/_arraytools.py:45: FutureWarning: Using a non-tuple sequence for multidimensional indexing is deprecated; use `arr[tuple(seq)]` instead of `arr[seq]`. In the future this will be interpreted as an array index, `arr[np.array(seq)]`, which will result either in an error or a different result.\n",
      "  b = a[a_slice]\n",
      "/home/yaoxiaojian/anaconda3/lib/python3.7/site-packages/scipy/signal/_arraytools.py:45: FutureWarning: Using a non-tuple sequence for multidimensional indexing is deprecated; use `arr[tuple(seq)]` instead of `arr[seq]`. In the future this will be interpreted as an array index, `arr[np.array(seq)]`, which will result either in an error or a different result.\n",
      "  b = a[a_slice]\n",
      "/home/yaoxiaojian/anaconda3/lib/python3.7/site-packages/scipy/signal/_arraytools.py:45: FutureWarning: Using a non-tuple sequence for multidimensional indexing is deprecated; use `arr[tuple(seq)]` instead of `arr[seq]`. In the future this will be interpreted as an array index, `arr[np.array(seq)]`, which will result either in an error or a different result.\n",
      "  b = a[a_slice]\n",
      "/home/yaoxiaojian/anaconda3/lib/python3.7/site-packages/scipy/signal/_arraytools.py:45: FutureWarning: Using a non-tuple sequence for multidimensional indexing is deprecated; use `arr[tuple(seq)]` instead of `arr[seq]`. In the future this will be interpreted as an array index, `arr[np.array(seq)]`, which will result either in an error or a different result.\n",
      "  b = a[a_slice]\n"
     ]
    },
    {
     "name": "stdout",
     "output_type": "stream",
     "text": [
      "DigMontage is a superset of info. 311 in DigMontage will be ignored. The ignored channels are: {'PPO3h', 'FFC2h', 'PPOz', 'FCC5h', 'POO5h', 'OI2h', 'AFp7', 'AFF10', 'FCC4', 'POz', 'CCP1', 'PPO9', 'FTT8h', 'FFT8', 'FCC3h', 'PPO10h', 'AFF9', 'F9', 'O1h', 'FT10h', 'F3h', 'F6', 'FFC2', 'F2h', 'AFp6h', 'AFpz', 'PPO3', 'PO8', 'FC2h', 'PPO1', 'T4', 'AF9h', 'POO9', 'AFp1h', 'TPP8', 'CCP5h', 'PPO8', 'FCC6', 'AFp4h', 'P1', 'POO8h', 'FT9h', 'FTT7h', 'CPP6h', 'FC4h', 'PPO4', 'Fpz', 'C6h', 'F5h', 'FFT10', 'POO1h', 'FCC2h', 'AFp3h', 'PO8h', 'CPP3', 'PPO5', 'FC5h', 'AF6', 'P6', 'P1h', 'PO4h', 'TTP7', 'FFT9', 'POO4h', 'PO10h', 'AFF9h', 'POO10h', 'PO4', 'F2', 'AFp7h', 'FCz', 'FFC1', 'POO1', 'CPP2h', 'CP4', 'PO2', 'CCP1h', 'C5h', 'I1', 'FFC5h', 'FC6h', 'FT9', 'Fp1h', 'AFF2h', 'FFC3h', 'F7h', 'PPO2', 'FTT8', 'PO9h', 'AF4h', 'F6h', 'AFF4', 'FC1h', 'AFF3h', 'TP8h', 'CPP1h', 'F1', 'AF10h', 'CPPz', 'FCC3', 'TPP7h', 'CCP6h', 'C5', 'T9', 'FCC6h', 'C3h', 'I1h', 'CPP4', 'FT10', 'TPP10h', 'TTP10', 'CPP6', 'FT7h', 'FFC6', 'FCC2', 'AFFz', 'C2h', 'P6h', 'FCC5', 'POO8', 'M2', 'FCC1h', 'POO3', 'AF7', 'TP9h', 'AFF7', 'PPO2h', 'CP6h', 'T7h', 'F9h', 'CPP5', 'TTP9', 'AF3', 'PPO5h', 'PPO6h', 'FT8', 'AFp2', 'AF4', 'PPO10', 'PO5', 'AFp3', 'FCC4h', 'CCP4', 'AFp2h', 'FTT7', 'P9', 'AFF3', 'AF7h', 'CCP5', 'FFT8h', 'FC4', 'AFp8', 'PPO1h', 'AFF1', 'CP5h', 'AF2', 'PPO7h', 'AF5h', 'POO5', 'TPP9', 'CPz', 'FCCz', 'FTT9', 'POO10', 'C6', 'AF8h', 'POO6h', 'POO2h', 'PO7', 'FTT10h', 'TTP10h', 'A1', 'PO1', 'CPP4h', 'CCP3', 'T9h', 'TP7', 'AF1', 'TTP8h', 'CP4h', 'AFF7h', 'F8h', 'POO4', 'FT7', 'PPO4h', 'POOz', 'CP2h', 'AFp8h', 'CCP2', 'FTT10', 'POO6', 'FFC1h', 'T3', 'CCP6', 'TP10h', 'OI1', 'F10h', 'TPP10', 'FFC4h', 'AF5', 'AF10', 'TTP8', 'OI2', 'AF3h', 'AFp5', 'C2', 'I2h', 'FT8h', 'CCPz', 'CCP4h', 'P7h', 'PO7h', 'FFT7h', 'T10', 'PPO8h', 'POO7h', 'AFF5', 'PPO9h', 'T10h', 'F4h', 'FFC5', 'PO6h', 'AFF10h', 'AFF5h', 'T5', 'P5h', 'P10', 'PO6', 'FC3h', 'FFC6h', 'CPP2', 'AF2h', 'CP3h', 'T6', 'CP3', 'M1', 'P2', 'AFp9', 'CCP2h', 'P5', 'F1h', 'TP7h', 'F5', 'P9h', 'P3h', 'AFp9h', 'AFF4h', 'TPP9h', 'POO2', 'P8h', 'FCC1', 'AFp5h', 'TPP8h', 'Fp2h', 'PO3', 'P4h', 'PO3h', 'TPP7', 'AFp4', 'FFCz', 'AFz', 'FFT7', 'AFF6h', 'AFF8h', 'FFT9h', 'PO2h', 'PPO7', 'TTP7h', 'C1', 'AF1h', 'FFT10h', 'T8h', 'PO1h', 'AFp1', 'A2', 'C4h', 'AF6h', 'CPP3h', 'AFF8', 'PPO6', 'FC3', 'AFF6', 'POO3h', 'CP1h', 'AF8', 'Iz', 'FFC4', 'P10h', 'P2h', 'AFp6', 'AFF1h', 'I2', 'TP8', 'TTP9h', 'FFC3', 'POO7', 'FTT9h', 'CCP3h', 'CPP5h', 'AFF2', 'OIz', 'AFp10h', 'AFp10', 'CPP1', 'AF9', 'O2h', 'OI1h', 'C1h', 'PO5h', 'F10', 'POO9h'}\n"
     ]
    },
    {
     "name": "stderr",
     "output_type": "stream",
     "text": [
      "<ipython-input-1-81fa588ad679>:54: RuntimeWarning: 1 channel names are too long, have been truncated to 15 characters:\n",
      "['BothStartLoadPhase']\n",
      "  info = create_info(ch_names,sfreq=500.0,ch_types=ch_type,montage = montage)\n",
      "/home/yaoxiaojian/anaconda3/lib/python3.7/site-packages/scipy/signal/_arraytools.py:45: FutureWarning: Using a non-tuple sequence for multidimensional indexing is deprecated; use `arr[tuple(seq)]` instead of `arr[seq]`. In the future this will be interpreted as an array index, `arr[np.array(seq)]`, which will result either in an error or a different result.\n",
      "  b = a[a_slice]\n",
      "/home/yaoxiaojian/anaconda3/lib/python3.7/site-packages/scipy/signal/_arraytools.py:45: FutureWarning: Using a non-tuple sequence for multidimensional indexing is deprecated; use `arr[tuple(seq)]` instead of `arr[seq]`. In the future this will be interpreted as an array index, `arr[np.array(seq)]`, which will result either in an error or a different result.\n",
      "  b = a[a_slice]\n",
      "/home/yaoxiaojian/anaconda3/lib/python3.7/site-packages/scipy/signal/_arraytools.py:45: FutureWarning: Using a non-tuple sequence for multidimensional indexing is deprecated; use `arr[tuple(seq)]` instead of `arr[seq]`. In the future this will be interpreted as an array index, `arr[np.array(seq)]`, which will result either in an error or a different result.\n",
      "  b = a[a_slice]\n",
      "/home/yaoxiaojian/anaconda3/lib/python3.7/site-packages/scipy/signal/_arraytools.py:45: FutureWarning: Using a non-tuple sequence for multidimensional indexing is deprecated; use `arr[tuple(seq)]` instead of `arr[seq]`. In the future this will be interpreted as an array index, `arr[np.array(seq)]`, which will result either in an error or a different result.\n",
      "  b = a[a_slice]\n",
      "/home/yaoxiaojian/anaconda3/lib/python3.7/site-packages/scipy/signal/_arraytools.py:45: FutureWarning: Using a non-tuple sequence for multidimensional indexing is deprecated; use `arr[tuple(seq)]` instead of `arr[seq]`. In the future this will be interpreted as an array index, `arr[np.array(seq)]`, which will result either in an error or a different result.\n",
      "  b = a[a_slice]\n",
      "/home/yaoxiaojian/anaconda3/lib/python3.7/site-packages/scipy/signal/_arraytools.py:45: FutureWarning: Using a non-tuple sequence for multidimensional indexing is deprecated; use `arr[tuple(seq)]` instead of `arr[seq]`. In the future this will be interpreted as an array index, `arr[np.array(seq)]`, which will result either in an error or a different result.\n",
      "  b = a[a_slice]\n",
      "/home/yaoxiaojian/anaconda3/lib/python3.7/site-packages/scipy/signal/_arraytools.py:45: FutureWarning: Using a non-tuple sequence for multidimensional indexing is deprecated; use `arr[tuple(seq)]` instead of `arr[seq]`. In the future this will be interpreted as an array index, `arr[np.array(seq)]`, which will result either in an error or a different result.\n",
      "  b = a[a_slice]\n",
      "/home/yaoxiaojian/anaconda3/lib/python3.7/site-packages/scipy/signal/_arraytools.py:45: FutureWarning: Using a non-tuple sequence for multidimensional indexing is deprecated; use `arr[tuple(seq)]` instead of `arr[seq]`. In the future this will be interpreted as an array index, `arr[np.array(seq)]`, which will result either in an error or a different result.\n",
      "  b = a[a_slice]\n"
     ]
    },
    {
     "name": "stdout",
     "output_type": "stream",
     "text": [
      "DigMontage is a superset of info. 311 in DigMontage will be ignored. The ignored channels are: {'PPO3h', 'FFC2h', 'PPOz', 'FCC5h', 'POO5h', 'OI2h', 'AFp7', 'AFF10', 'FCC4', 'POz', 'CCP1', 'PPO9', 'FTT8h', 'FFT8', 'FCC3h', 'PPO10h', 'AFF9', 'F9', 'O1h', 'FT10h', 'F3h', 'F6', 'FFC2', 'F2h', 'AFp6h', 'AFpz', 'PPO3', 'PO8', 'FC2h', 'PPO1', 'T4', 'AF9h', 'POO9', 'AFp1h', 'TPP8', 'CCP5h', 'PPO8', 'FCC6', 'AFp4h', 'P1', 'POO8h', 'FT9h', 'FTT7h', 'CPP6h', 'FC4h', 'PPO4', 'Fpz', 'C6h', 'F5h', 'FFT10', 'POO1h', 'FCC2h', 'AFp3h', 'PO8h', 'CPP3', 'PPO5', 'FC5h', 'AF6', 'P6', 'P1h', 'PO4h', 'TTP7', 'FFT9', 'POO4h', 'PO10h', 'AFF9h', 'POO10h', 'PO4', 'F2', 'AFp7h', 'FCz', 'FFC1', 'POO1', 'CPP2h', 'CP4', 'PO2', 'CCP1h', 'C5h', 'I1', 'FFC5h', 'FC6h', 'FT9', 'Fp1h', 'AFF2h', 'FFC3h', 'F7h', 'PPO2', 'FTT8', 'PO9h', 'AF4h', 'F6h', 'AFF4', 'FC1h', 'AFF3h', 'TP8h', 'CPP1h', 'F1', 'AF10h', 'CPPz', 'FCC3', 'TPP7h', 'CCP6h', 'C5', 'T9', 'FCC6h', 'C3h', 'I1h', 'CPP4', 'FT10', 'TPP10h', 'TTP10', 'CPP6', 'FT7h', 'FFC6', 'FCC2', 'AFFz', 'C2h', 'P6h', 'FCC5', 'POO8', 'M2', 'FCC1h', 'POO3', 'AF7', 'TP9h', 'AFF7', 'PPO2h', 'CP6h', 'T7h', 'F9h', 'CPP5', 'TTP9', 'AF3', 'PPO5h', 'PPO6h', 'FT8', 'AFp2', 'AF4', 'PPO10', 'PO5', 'AFp3', 'FCC4h', 'CCP4', 'AFp2h', 'FTT7', 'P9', 'AFF3', 'AF7h', 'CCP5', 'FFT8h', 'FC4', 'AFp8', 'PPO1h', 'AFF1', 'CP5h', 'AF2', 'PPO7h', 'AF5h', 'POO5', 'TPP9', 'CPz', 'FCCz', 'FTT9', 'POO10', 'C6', 'AF8h', 'POO6h', 'POO2h', 'PO7', 'FTT10h', 'TTP10h', 'A1', 'PO1', 'CPP4h', 'CCP3', 'T9h', 'TP7', 'AF1', 'TTP8h', 'CP4h', 'AFF7h', 'F8h', 'POO4', 'FT7', 'PPO4h', 'POOz', 'CP2h', 'AFp8h', 'CCP2', 'FTT10', 'POO6', 'FFC1h', 'T3', 'CCP6', 'TP10h', 'OI1', 'F10h', 'TPP10', 'FFC4h', 'AF5', 'AF10', 'TTP8', 'OI2', 'AF3h', 'AFp5', 'C2', 'I2h', 'FT8h', 'CCPz', 'CCP4h', 'P7h', 'PO7h', 'FFT7h', 'T10', 'PPO8h', 'POO7h', 'AFF5', 'PPO9h', 'T10h', 'F4h', 'FFC5', 'PO6h', 'AFF10h', 'AFF5h', 'T5', 'P5h', 'P10', 'PO6', 'FC3h', 'FFC6h', 'CPP2', 'AF2h', 'CP3h', 'T6', 'CP3', 'M1', 'P2', 'AFp9', 'CCP2h', 'P5', 'F1h', 'TP7h', 'F5', 'P9h', 'P3h', 'AFp9h', 'AFF4h', 'TPP9h', 'POO2', 'P8h', 'FCC1', 'AFp5h', 'TPP8h', 'Fp2h', 'PO3', 'P4h', 'PO3h', 'TPP7', 'AFp4', 'FFCz', 'AFz', 'FFT7', 'AFF6h', 'AFF8h', 'FFT9h', 'PO2h', 'PPO7', 'TTP7h', 'C1', 'AF1h', 'FFT10h', 'T8h', 'PO1h', 'AFp1', 'A2', 'C4h', 'AF6h', 'CPP3h', 'AFF8', 'PPO6', 'FC3', 'AFF6', 'POO3h', 'CP1h', 'AF8', 'Iz', 'FFC4', 'P10h', 'P2h', 'AFp6', 'AFF1h', 'I2', 'TP8', 'TTP9h', 'FFC3', 'POO7', 'FTT9h', 'CCP3h', 'CPP5h', 'AFF2', 'OIz', 'AFp10h', 'AFp10', 'CPP1', 'AF9', 'O2h', 'OI1h', 'C1h', 'PO5h', 'F10', 'POO9h'}\n"
     ]
    },
    {
     "name": "stderr",
     "output_type": "stream",
     "text": [
      "<ipython-input-1-81fa588ad679>:54: RuntimeWarning: 1 channel names are too long, have been truncated to 15 characters:\n",
      "['BothStartLoadPhase']\n",
      "  info = create_info(ch_names,sfreq=500.0,ch_types=ch_type,montage = montage)\n",
      "/home/yaoxiaojian/anaconda3/lib/python3.7/site-packages/scipy/signal/_arraytools.py:45: FutureWarning: Using a non-tuple sequence for multidimensional indexing is deprecated; use `arr[tuple(seq)]` instead of `arr[seq]`. In the future this will be interpreted as an array index, `arr[np.array(seq)]`, which will result either in an error or a different result.\n",
      "  b = a[a_slice]\n",
      "/home/yaoxiaojian/anaconda3/lib/python3.7/site-packages/scipy/signal/_arraytools.py:45: FutureWarning: Using a non-tuple sequence for multidimensional indexing is deprecated; use `arr[tuple(seq)]` instead of `arr[seq]`. In the future this will be interpreted as an array index, `arr[np.array(seq)]`, which will result either in an error or a different result.\n",
      "  b = a[a_slice]\n",
      "/home/yaoxiaojian/anaconda3/lib/python3.7/site-packages/scipy/signal/_arraytools.py:45: FutureWarning: Using a non-tuple sequence for multidimensional indexing is deprecated; use `arr[tuple(seq)]` instead of `arr[seq]`. In the future this will be interpreted as an array index, `arr[np.array(seq)]`, which will result either in an error or a different result.\n",
      "  b = a[a_slice]\n",
      "/home/yaoxiaojian/anaconda3/lib/python3.7/site-packages/scipy/signal/_arraytools.py:45: FutureWarning: Using a non-tuple sequence for multidimensional indexing is deprecated; use `arr[tuple(seq)]` instead of `arr[seq]`. In the future this will be interpreted as an array index, `arr[np.array(seq)]`, which will result either in an error or a different result.\n",
      "  b = a[a_slice]\n",
      "/home/yaoxiaojian/anaconda3/lib/python3.7/site-packages/scipy/signal/_arraytools.py:45: FutureWarning: Using a non-tuple sequence for multidimensional indexing is deprecated; use `arr[tuple(seq)]` instead of `arr[seq]`. In the future this will be interpreted as an array index, `arr[np.array(seq)]`, which will result either in an error or a different result.\n",
      "  b = a[a_slice]\n",
      "/home/yaoxiaojian/anaconda3/lib/python3.7/site-packages/scipy/signal/_arraytools.py:45: FutureWarning: Using a non-tuple sequence for multidimensional indexing is deprecated; use `arr[tuple(seq)]` instead of `arr[seq]`. In the future this will be interpreted as an array index, `arr[np.array(seq)]`, which will result either in an error or a different result.\n",
      "  b = a[a_slice]\n",
      "/home/yaoxiaojian/anaconda3/lib/python3.7/site-packages/scipy/signal/_arraytools.py:45: FutureWarning: Using a non-tuple sequence for multidimensional indexing is deprecated; use `arr[tuple(seq)]` instead of `arr[seq]`. In the future this will be interpreted as an array index, `arr[np.array(seq)]`, which will result either in an error or a different result.\n",
      "  b = a[a_slice]\n",
      "/home/yaoxiaojian/anaconda3/lib/python3.7/site-packages/scipy/signal/_arraytools.py:45: FutureWarning: Using a non-tuple sequence for multidimensional indexing is deprecated; use `arr[tuple(seq)]` instead of `arr[seq]`. In the future this will be interpreted as an array index, `arr[np.array(seq)]`, which will result either in an error or a different result.\n",
      "  b = a[a_slice]\n"
     ]
    },
    {
     "name": "stdout",
     "output_type": "stream",
     "text": [
      "DigMontage is a superset of info. 311 in DigMontage will be ignored. The ignored channels are: {'PPO3h', 'FFC2h', 'PPOz', 'FCC5h', 'POO5h', 'OI2h', 'AFp7', 'AFF10', 'FCC4', 'POz', 'CCP1', 'PPO9', 'FTT8h', 'FFT8', 'FCC3h', 'PPO10h', 'AFF9', 'F9', 'O1h', 'FT10h', 'F3h', 'F6', 'FFC2', 'F2h', 'AFp6h', 'AFpz', 'PPO3', 'PO8', 'FC2h', 'PPO1', 'T4', 'AF9h', 'POO9', 'AFp1h', 'TPP8', 'CCP5h', 'PPO8', 'FCC6', 'AFp4h', 'P1', 'POO8h', 'FT9h', 'FTT7h', 'CPP6h', 'FC4h', 'PPO4', 'Fpz', 'C6h', 'F5h', 'FFT10', 'POO1h', 'FCC2h', 'AFp3h', 'PO8h', 'CPP3', 'PPO5', 'FC5h', 'AF6', 'P6', 'P1h', 'PO4h', 'TTP7', 'FFT9', 'POO4h', 'PO10h', 'AFF9h', 'POO10h', 'PO4', 'F2', 'AFp7h', 'FCz', 'FFC1', 'POO1', 'CPP2h', 'CP4', 'PO2', 'CCP1h', 'C5h', 'I1', 'FFC5h', 'FC6h', 'FT9', 'Fp1h', 'AFF2h', 'FFC3h', 'F7h', 'PPO2', 'FTT8', 'PO9h', 'AF4h', 'F6h', 'AFF4', 'FC1h', 'AFF3h', 'TP8h', 'CPP1h', 'F1', 'AF10h', 'CPPz', 'FCC3', 'TPP7h', 'CCP6h', 'C5', 'T9', 'FCC6h', 'C3h', 'I1h', 'CPP4', 'FT10', 'TPP10h', 'TTP10', 'CPP6', 'FT7h', 'FFC6', 'FCC2', 'AFFz', 'C2h', 'P6h', 'FCC5', 'POO8', 'M2', 'FCC1h', 'POO3', 'AF7', 'TP9h', 'AFF7', 'PPO2h', 'CP6h', 'T7h', 'F9h', 'CPP5', 'TTP9', 'AF3', 'PPO5h', 'PPO6h', 'FT8', 'AFp2', 'AF4', 'PPO10', 'PO5', 'AFp3', 'FCC4h', 'CCP4', 'AFp2h', 'FTT7', 'P9', 'AFF3', 'AF7h', 'CCP5', 'FFT8h', 'FC4', 'AFp8', 'PPO1h', 'AFF1', 'CP5h', 'AF2', 'PPO7h', 'AF5h', 'POO5', 'TPP9', 'CPz', 'FCCz', 'FTT9', 'POO10', 'C6', 'AF8h', 'POO6h', 'POO2h', 'PO7', 'FTT10h', 'TTP10h', 'A1', 'PO1', 'CPP4h', 'CCP3', 'T9h', 'TP7', 'AF1', 'TTP8h', 'CP4h', 'AFF7h', 'F8h', 'POO4', 'FT7', 'PPO4h', 'POOz', 'CP2h', 'AFp8h', 'CCP2', 'FTT10', 'POO6', 'FFC1h', 'T3', 'CCP6', 'TP10h', 'OI1', 'F10h', 'TPP10', 'FFC4h', 'AF5', 'AF10', 'TTP8', 'OI2', 'AF3h', 'AFp5', 'C2', 'I2h', 'FT8h', 'CCPz', 'CCP4h', 'P7h', 'PO7h', 'FFT7h', 'T10', 'PPO8h', 'POO7h', 'AFF5', 'PPO9h', 'T10h', 'F4h', 'FFC5', 'PO6h', 'AFF10h', 'AFF5h', 'T5', 'P5h', 'P10', 'PO6', 'FC3h', 'FFC6h', 'CPP2', 'AF2h', 'CP3h', 'T6', 'CP3', 'M1', 'P2', 'AFp9', 'CCP2h', 'P5', 'F1h', 'TP7h', 'F5', 'P9h', 'P3h', 'AFp9h', 'AFF4h', 'TPP9h', 'POO2', 'P8h', 'FCC1', 'AFp5h', 'TPP8h', 'Fp2h', 'PO3', 'P4h', 'PO3h', 'TPP7', 'AFp4', 'FFCz', 'AFz', 'FFT7', 'AFF6h', 'AFF8h', 'FFT9h', 'PO2h', 'PPO7', 'TTP7h', 'C1', 'AF1h', 'FFT10h', 'T8h', 'PO1h', 'AFp1', 'A2', 'C4h', 'AF6h', 'CPP3h', 'AFF8', 'PPO6', 'FC3', 'AFF6', 'POO3h', 'CP1h', 'AF8', 'Iz', 'FFC4', 'P10h', 'P2h', 'AFp6', 'AFF1h', 'I2', 'TP8', 'TTP9h', 'FFC3', 'POO7', 'FTT9h', 'CCP3h', 'CPP5h', 'AFF2', 'OIz', 'AFp10h', 'AFp10', 'CPP1', 'AF9', 'O2h', 'OI1h', 'C1h', 'PO5h', 'F10', 'POO9h'}\n"
     ]
    },
    {
     "name": "stderr",
     "output_type": "stream",
     "text": [
      "<ipython-input-1-81fa588ad679>:54: RuntimeWarning: 1 channel names are too long, have been truncated to 15 characters:\n",
      "['BothStartLoadPhase']\n",
      "  info = create_info(ch_names,sfreq=500.0,ch_types=ch_type,montage = montage)\n",
      "/home/yaoxiaojian/anaconda3/lib/python3.7/site-packages/scipy/signal/_arraytools.py:45: FutureWarning: Using a non-tuple sequence for multidimensional indexing is deprecated; use `arr[tuple(seq)]` instead of `arr[seq]`. In the future this will be interpreted as an array index, `arr[np.array(seq)]`, which will result either in an error or a different result.\n",
      "  b = a[a_slice]\n",
      "/home/yaoxiaojian/anaconda3/lib/python3.7/site-packages/scipy/signal/_arraytools.py:45: FutureWarning: Using a non-tuple sequence for multidimensional indexing is deprecated; use `arr[tuple(seq)]` instead of `arr[seq]`. In the future this will be interpreted as an array index, `arr[np.array(seq)]`, which will result either in an error or a different result.\n",
      "  b = a[a_slice]\n",
      "/home/yaoxiaojian/anaconda3/lib/python3.7/site-packages/scipy/signal/_arraytools.py:45: FutureWarning: Using a non-tuple sequence for multidimensional indexing is deprecated; use `arr[tuple(seq)]` instead of `arr[seq]`. In the future this will be interpreted as an array index, `arr[np.array(seq)]`, which will result either in an error or a different result.\n",
      "  b = a[a_slice]\n",
      "/home/yaoxiaojian/anaconda3/lib/python3.7/site-packages/scipy/signal/_arraytools.py:45: FutureWarning: Using a non-tuple sequence for multidimensional indexing is deprecated; use `arr[tuple(seq)]` instead of `arr[seq]`. In the future this will be interpreted as an array index, `arr[np.array(seq)]`, which will result either in an error or a different result.\n",
      "  b = a[a_slice]\n",
      "/home/yaoxiaojian/anaconda3/lib/python3.7/site-packages/scipy/signal/_arraytools.py:45: FutureWarning: Using a non-tuple sequence for multidimensional indexing is deprecated; use `arr[tuple(seq)]` instead of `arr[seq]`. In the future this will be interpreted as an array index, `arr[np.array(seq)]`, which will result either in an error or a different result.\n",
      "  b = a[a_slice]\n",
      "/home/yaoxiaojian/anaconda3/lib/python3.7/site-packages/scipy/signal/_arraytools.py:45: FutureWarning: Using a non-tuple sequence for multidimensional indexing is deprecated; use `arr[tuple(seq)]` instead of `arr[seq]`. In the future this will be interpreted as an array index, `arr[np.array(seq)]`, which will result either in an error or a different result.\n",
      "  b = a[a_slice]\n",
      "/home/yaoxiaojian/anaconda3/lib/python3.7/site-packages/scipy/signal/_arraytools.py:45: FutureWarning: Using a non-tuple sequence for multidimensional indexing is deprecated; use `arr[tuple(seq)]` instead of `arr[seq]`. In the future this will be interpreted as an array index, `arr[np.array(seq)]`, which will result either in an error or a different result.\n",
      "  b = a[a_slice]\n",
      "/home/yaoxiaojian/anaconda3/lib/python3.7/site-packages/scipy/signal/_arraytools.py:45: FutureWarning: Using a non-tuple sequence for multidimensional indexing is deprecated; use `arr[tuple(seq)]` instead of `arr[seq]`. In the future this will be interpreted as an array index, `arr[np.array(seq)]`, which will result either in an error or a different result.\n",
      "  b = a[a_slice]\n"
     ]
    },
    {
     "name": "stdout",
     "output_type": "stream",
     "text": [
      "subject 5 (1560, 64, 751)\n",
      "data stack shape: (7800, 64, 751) (7800,)\n",
      "DigMontage is a superset of info. 311 in DigMontage will be ignored. The ignored channels are: {'PPO3h', 'FFC2h', 'PPOz', 'FCC5h', 'POO5h', 'OI2h', 'AFp7', 'AFF10', 'FCC4', 'POz', 'CCP1', 'PPO9', 'FTT8h', 'FFT8', 'FCC3h', 'PPO10h', 'AFF9', 'F9', 'O1h', 'FT10h', 'F3h', 'F6', 'FFC2', 'F2h', 'AFp6h', 'AFpz', 'PPO3', 'PO8', 'FC2h', 'PPO1', 'T4', 'AF9h', 'POO9', 'AFp1h', 'TPP8', 'CCP5h', 'PPO8', 'FCC6', 'AFp4h', 'P1', 'POO8h', 'FT9h', 'FTT7h', 'CPP6h', 'FC4h', 'PPO4', 'Fpz', 'C6h', 'F5h', 'FFT10', 'POO1h', 'FCC2h', 'AFp3h', 'PO8h', 'CPP3', 'PPO5', 'FC5h', 'AF6', 'P6', 'P1h', 'PO4h', 'TTP7', 'FFT9', 'POO4h', 'PO10h', 'AFF9h', 'POO10h', 'PO4', 'F2', 'AFp7h', 'FCz', 'FFC1', 'POO1', 'CPP2h', 'CP4', 'PO2', 'CCP1h', 'C5h', 'I1', 'FFC5h', 'FC6h', 'FT9', 'Fp1h', 'AFF2h', 'FFC3h', 'F7h', 'PPO2', 'FTT8', 'PO9h', 'AF4h', 'F6h', 'AFF4', 'FC1h', 'AFF3h', 'TP8h', 'CPP1h', 'F1', 'AF10h', 'CPPz', 'FCC3', 'TPP7h', 'CCP6h', 'C5', 'T9', 'FCC6h', 'C3h', 'I1h', 'CPP4', 'FT10', 'TPP10h', 'TTP10', 'CPP6', 'FT7h', 'FFC6', 'FCC2', 'AFFz', 'C2h', 'P6h', 'FCC5', 'POO8', 'M2', 'FCC1h', 'POO3', 'AF7', 'TP9h', 'AFF7', 'PPO2h', 'CP6h', 'T7h', 'F9h', 'CPP5', 'TTP9', 'AF3', 'PPO5h', 'PPO6h', 'FT8', 'AFp2', 'AF4', 'PPO10', 'PO5', 'AFp3', 'FCC4h', 'CCP4', 'AFp2h', 'FTT7', 'P9', 'AFF3', 'AF7h', 'CCP5', 'FFT8h', 'FC4', 'AFp8', 'PPO1h', 'AFF1', 'CP5h', 'AF2', 'PPO7h', 'AF5h', 'POO5', 'TPP9', 'CPz', 'FCCz', 'FTT9', 'POO10', 'C6', 'AF8h', 'POO6h', 'POO2h', 'PO7', 'FTT10h', 'TTP10h', 'A1', 'PO1', 'CPP4h', 'CCP3', 'T9h', 'TP7', 'AF1', 'TTP8h', 'CP4h', 'AFF7h', 'F8h', 'POO4', 'FT7', 'PPO4h', 'POOz', 'CP2h', 'AFp8h', 'CCP2', 'FTT10', 'POO6', 'FFC1h', 'T3', 'CCP6', 'TP10h', 'OI1', 'F10h', 'TPP10', 'FFC4h', 'AF5', 'AF10', 'TTP8', 'OI2', 'AF3h', 'AFp5', 'C2', 'I2h', 'FT8h', 'CCPz', 'CCP4h', 'P7h', 'PO7h', 'FFT7h', 'T10', 'PPO8h', 'POO7h', 'AFF5', 'PPO9h', 'T10h', 'F4h', 'FFC5', 'PO6h', 'AFF10h', 'AFF5h', 'T5', 'P5h', 'P10', 'PO6', 'FC3h', 'FFC6h', 'CPP2', 'AF2h', 'CP3h', 'T6', 'CP3', 'M1', 'P2', 'AFp9', 'CCP2h', 'P5', 'F1h', 'TP7h', 'F5', 'P9h', 'P3h', 'AFp9h', 'AFF4h', 'TPP9h', 'POO2', 'P8h', 'FCC1', 'AFp5h', 'TPP8h', 'Fp2h', 'PO3', 'P4h', 'PO3h', 'TPP7', 'AFp4', 'FFCz', 'AFz', 'FFT7', 'AFF6h', 'AFF8h', 'FFT9h', 'PO2h', 'PPO7', 'TTP7h', 'C1', 'AF1h', 'FFT10h', 'T8h', 'PO1h', 'AFp1', 'A2', 'C4h', 'AF6h', 'CPP3h', 'AFF8', 'PPO6', 'FC3', 'AFF6', 'POO3h', 'CP1h', 'AF8', 'Iz', 'FFC4', 'P10h', 'P2h', 'AFp6', 'AFF1h', 'I2', 'TP8', 'TTP9h', 'FFC3', 'POO7', 'FTT9h', 'CCP3h', 'CPP5h', 'AFF2', 'OIz', 'AFp10h', 'AFp10', 'CPP1', 'AF9', 'O2h', 'OI1h', 'C1h', 'PO5h', 'F10', 'POO9h'}\n"
     ]
    },
    {
     "name": "stderr",
     "output_type": "stream",
     "text": [
      "<ipython-input-1-81fa588ad679>:54: RuntimeWarning: 1 channel names are too long, have been truncated to 15 characters:\n",
      "['BothStartLoadPhase']\n",
      "  info = create_info(ch_names,sfreq=500.0,ch_types=ch_type,montage = montage)\n",
      "/home/yaoxiaojian/anaconda3/lib/python3.7/site-packages/scipy/signal/_arraytools.py:45: FutureWarning: Using a non-tuple sequence for multidimensional indexing is deprecated; use `arr[tuple(seq)]` instead of `arr[seq]`. In the future this will be interpreted as an array index, `arr[np.array(seq)]`, which will result either in an error or a different result.\n",
      "  b = a[a_slice]\n",
      "/home/yaoxiaojian/anaconda3/lib/python3.7/site-packages/scipy/signal/_arraytools.py:45: FutureWarning: Using a non-tuple sequence for multidimensional indexing is deprecated; use `arr[tuple(seq)]` instead of `arr[seq]`. In the future this will be interpreted as an array index, `arr[np.array(seq)]`, which will result either in an error or a different result.\n",
      "  b = a[a_slice]\n",
      "/home/yaoxiaojian/anaconda3/lib/python3.7/site-packages/scipy/signal/_arraytools.py:45: FutureWarning: Using a non-tuple sequence for multidimensional indexing is deprecated; use `arr[tuple(seq)]` instead of `arr[seq]`. In the future this will be interpreted as an array index, `arr[np.array(seq)]`, which will result either in an error or a different result.\n",
      "  b = a[a_slice]\n",
      "/home/yaoxiaojian/anaconda3/lib/python3.7/site-packages/scipy/signal/_arraytools.py:45: FutureWarning: Using a non-tuple sequence for multidimensional indexing is deprecated; use `arr[tuple(seq)]` instead of `arr[seq]`. In the future this will be interpreted as an array index, `arr[np.array(seq)]`, which will result either in an error or a different result.\n",
      "  b = a[a_slice]\n",
      "/home/yaoxiaojian/anaconda3/lib/python3.7/site-packages/scipy/signal/_arraytools.py:45: FutureWarning: Using a non-tuple sequence for multidimensional indexing is deprecated; use `arr[tuple(seq)]` instead of `arr[seq]`. In the future this will be interpreted as an array index, `arr[np.array(seq)]`, which will result either in an error or a different result.\n",
      "  b = a[a_slice]\n",
      "/home/yaoxiaojian/anaconda3/lib/python3.7/site-packages/scipy/signal/_arraytools.py:45: FutureWarning: Using a non-tuple sequence for multidimensional indexing is deprecated; use `arr[tuple(seq)]` instead of `arr[seq]`. In the future this will be interpreted as an array index, `arr[np.array(seq)]`, which will result either in an error or a different result.\n",
      "  b = a[a_slice]\n",
      "/home/yaoxiaojian/anaconda3/lib/python3.7/site-packages/scipy/signal/_arraytools.py:45: FutureWarning: Using a non-tuple sequence for multidimensional indexing is deprecated; use `arr[tuple(seq)]` instead of `arr[seq]`. In the future this will be interpreted as an array index, `arr[np.array(seq)]`, which will result either in an error or a different result.\n",
      "  b = a[a_slice]\n",
      "/home/yaoxiaojian/anaconda3/lib/python3.7/site-packages/scipy/signal/_arraytools.py:45: FutureWarning: Using a non-tuple sequence for multidimensional indexing is deprecated; use `arr[tuple(seq)]` instead of `arr[seq]`. In the future this will be interpreted as an array index, `arr[np.array(seq)]`, which will result either in an error or a different result.\n",
      "  b = a[a_slice]\n"
     ]
    },
    {
     "name": "stdout",
     "output_type": "stream",
     "text": [
      "DigMontage is a superset of info. 311 in DigMontage will be ignored. The ignored channels are: {'PPO3h', 'FFC2h', 'PPOz', 'FCC5h', 'POO5h', 'OI2h', 'AFp7', 'AFF10', 'FCC4', 'POz', 'CCP1', 'PPO9', 'FTT8h', 'FFT8', 'FCC3h', 'PPO10h', 'AFF9', 'F9', 'O1h', 'FT10h', 'F3h', 'F6', 'FFC2', 'F2h', 'AFp6h', 'AFpz', 'PPO3', 'PO8', 'FC2h', 'PPO1', 'T4', 'AF9h', 'POO9', 'AFp1h', 'TPP8', 'CCP5h', 'PPO8', 'FCC6', 'AFp4h', 'P1', 'POO8h', 'FT9h', 'FTT7h', 'CPP6h', 'FC4h', 'PPO4', 'Fpz', 'C6h', 'F5h', 'FFT10', 'POO1h', 'FCC2h', 'AFp3h', 'PO8h', 'CPP3', 'PPO5', 'FC5h', 'AF6', 'P6', 'P1h', 'PO4h', 'TTP7', 'FFT9', 'POO4h', 'PO10h', 'AFF9h', 'POO10h', 'PO4', 'F2', 'AFp7h', 'FCz', 'FFC1', 'POO1', 'CPP2h', 'CP4', 'PO2', 'CCP1h', 'C5h', 'I1', 'FFC5h', 'FC6h', 'FT9', 'Fp1h', 'AFF2h', 'FFC3h', 'F7h', 'PPO2', 'FTT8', 'PO9h', 'AF4h', 'F6h', 'AFF4', 'FC1h', 'AFF3h', 'TP8h', 'CPP1h', 'F1', 'AF10h', 'CPPz', 'FCC3', 'TPP7h', 'CCP6h', 'C5', 'T9', 'FCC6h', 'C3h', 'I1h', 'CPP4', 'FT10', 'TPP10h', 'TTP10', 'CPP6', 'FT7h', 'FFC6', 'FCC2', 'AFFz', 'C2h', 'P6h', 'FCC5', 'POO8', 'M2', 'FCC1h', 'POO3', 'AF7', 'TP9h', 'AFF7', 'PPO2h', 'CP6h', 'T7h', 'F9h', 'CPP5', 'TTP9', 'AF3', 'PPO5h', 'PPO6h', 'FT8', 'AFp2', 'AF4', 'PPO10', 'PO5', 'AFp3', 'FCC4h', 'CCP4', 'AFp2h', 'FTT7', 'P9', 'AFF3', 'AF7h', 'CCP5', 'FFT8h', 'FC4', 'AFp8', 'PPO1h', 'AFF1', 'CP5h', 'AF2', 'PPO7h', 'AF5h', 'POO5', 'TPP9', 'CPz', 'FCCz', 'FTT9', 'POO10', 'C6', 'AF8h', 'POO6h', 'POO2h', 'PO7', 'FTT10h', 'TTP10h', 'A1', 'PO1', 'CPP4h', 'CCP3', 'T9h', 'TP7', 'AF1', 'TTP8h', 'CP4h', 'AFF7h', 'F8h', 'POO4', 'FT7', 'PPO4h', 'POOz', 'CP2h', 'AFp8h', 'CCP2', 'FTT10', 'POO6', 'FFC1h', 'T3', 'CCP6', 'TP10h', 'OI1', 'F10h', 'TPP10', 'FFC4h', 'AF5', 'AF10', 'TTP8', 'OI2', 'AF3h', 'AFp5', 'C2', 'I2h', 'FT8h', 'CCPz', 'CCP4h', 'P7h', 'PO7h', 'FFT7h', 'T10', 'PPO8h', 'POO7h', 'AFF5', 'PPO9h', 'T10h', 'F4h', 'FFC5', 'PO6h', 'AFF10h', 'AFF5h', 'T5', 'P5h', 'P10', 'PO6', 'FC3h', 'FFC6h', 'CPP2', 'AF2h', 'CP3h', 'T6', 'CP3', 'M1', 'P2', 'AFp9', 'CCP2h', 'P5', 'F1h', 'TP7h', 'F5', 'P9h', 'P3h', 'AFp9h', 'AFF4h', 'TPP9h', 'POO2', 'P8h', 'FCC1', 'AFp5h', 'TPP8h', 'Fp2h', 'PO3', 'P4h', 'PO3h', 'TPP7', 'AFp4', 'FFCz', 'AFz', 'FFT7', 'AFF6h', 'AFF8h', 'FFT9h', 'PO2h', 'PPO7', 'TTP7h', 'C1', 'AF1h', 'FFT10h', 'T8h', 'PO1h', 'AFp1', 'A2', 'C4h', 'AF6h', 'CPP3h', 'AFF8', 'PPO6', 'FC3', 'AFF6', 'POO3h', 'CP1h', 'AF8', 'Iz', 'FFC4', 'P10h', 'P2h', 'AFp6', 'AFF1h', 'I2', 'TP8', 'TTP9h', 'FFC3', 'POO7', 'FTT9h', 'CCP3h', 'CPP5h', 'AFF2', 'OIz', 'AFp10h', 'AFp10', 'CPP1', 'AF9', 'O2h', 'OI1h', 'C1h', 'PO5h', 'F10', 'POO9h'}\n"
     ]
    },
    {
     "name": "stderr",
     "output_type": "stream",
     "text": [
      "<ipython-input-1-81fa588ad679>:54: RuntimeWarning: 1 channel names are too long, have been truncated to 15 characters:\n",
      "['BothStartLoadPhase']\n",
      "  info = create_info(ch_names,sfreq=500.0,ch_types=ch_type,montage = montage)\n",
      "/home/yaoxiaojian/anaconda3/lib/python3.7/site-packages/scipy/signal/_arraytools.py:45: FutureWarning: Using a non-tuple sequence for multidimensional indexing is deprecated; use `arr[tuple(seq)]` instead of `arr[seq]`. In the future this will be interpreted as an array index, `arr[np.array(seq)]`, which will result either in an error or a different result.\n",
      "  b = a[a_slice]\n",
      "/home/yaoxiaojian/anaconda3/lib/python3.7/site-packages/scipy/signal/_arraytools.py:45: FutureWarning: Using a non-tuple sequence for multidimensional indexing is deprecated; use `arr[tuple(seq)]` instead of `arr[seq]`. In the future this will be interpreted as an array index, `arr[np.array(seq)]`, which will result either in an error or a different result.\n",
      "  b = a[a_slice]\n",
      "/home/yaoxiaojian/anaconda3/lib/python3.7/site-packages/scipy/signal/_arraytools.py:45: FutureWarning: Using a non-tuple sequence for multidimensional indexing is deprecated; use `arr[tuple(seq)]` instead of `arr[seq]`. In the future this will be interpreted as an array index, `arr[np.array(seq)]`, which will result either in an error or a different result.\n",
      "  b = a[a_slice]\n",
      "/home/yaoxiaojian/anaconda3/lib/python3.7/site-packages/scipy/signal/_arraytools.py:45: FutureWarning: Using a non-tuple sequence for multidimensional indexing is deprecated; use `arr[tuple(seq)]` instead of `arr[seq]`. In the future this will be interpreted as an array index, `arr[np.array(seq)]`, which will result either in an error or a different result.\n",
      "  b = a[a_slice]\n",
      "/home/yaoxiaojian/anaconda3/lib/python3.7/site-packages/scipy/signal/_arraytools.py:45: FutureWarning: Using a non-tuple sequence for multidimensional indexing is deprecated; use `arr[tuple(seq)]` instead of `arr[seq]`. In the future this will be interpreted as an array index, `arr[np.array(seq)]`, which will result either in an error or a different result.\n",
      "  b = a[a_slice]\n",
      "/home/yaoxiaojian/anaconda3/lib/python3.7/site-packages/scipy/signal/_arraytools.py:45: FutureWarning: Using a non-tuple sequence for multidimensional indexing is deprecated; use `arr[tuple(seq)]` instead of `arr[seq]`. In the future this will be interpreted as an array index, `arr[np.array(seq)]`, which will result either in an error or a different result.\n",
      "  b = a[a_slice]\n",
      "/home/yaoxiaojian/anaconda3/lib/python3.7/site-packages/scipy/signal/_arraytools.py:45: FutureWarning: Using a non-tuple sequence for multidimensional indexing is deprecated; use `arr[tuple(seq)]` instead of `arr[seq]`. In the future this will be interpreted as an array index, `arr[np.array(seq)]`, which will result either in an error or a different result.\n",
      "  b = a[a_slice]\n",
      "/home/yaoxiaojian/anaconda3/lib/python3.7/site-packages/scipy/signal/_arraytools.py:45: FutureWarning: Using a non-tuple sequence for multidimensional indexing is deprecated; use `arr[tuple(seq)]` instead of `arr[seq]`. In the future this will be interpreted as an array index, `arr[np.array(seq)]`, which will result either in an error or a different result.\n",
      "  b = a[a_slice]\n"
     ]
    },
    {
     "name": "stdout",
     "output_type": "stream",
     "text": [
      "DigMontage is a superset of info. 311 in DigMontage will be ignored. The ignored channels are: {'PPO3h', 'FFC2h', 'PPOz', 'FCC5h', 'POO5h', 'OI2h', 'AFp7', 'AFF10', 'FCC4', 'POz', 'CCP1', 'PPO9', 'FTT8h', 'FFT8', 'FCC3h', 'PPO10h', 'AFF9', 'F9', 'O1h', 'FT10h', 'F3h', 'F6', 'FFC2', 'F2h', 'AFp6h', 'AFpz', 'PPO3', 'PO8', 'FC2h', 'PPO1', 'T4', 'AF9h', 'POO9', 'AFp1h', 'TPP8', 'CCP5h', 'PPO8', 'FCC6', 'AFp4h', 'P1', 'POO8h', 'FT9h', 'FTT7h', 'CPP6h', 'FC4h', 'PPO4', 'Fpz', 'C6h', 'F5h', 'FFT10', 'POO1h', 'FCC2h', 'AFp3h', 'PO8h', 'CPP3', 'PPO5', 'FC5h', 'AF6', 'P6', 'P1h', 'PO4h', 'TTP7', 'FFT9', 'POO4h', 'PO10h', 'AFF9h', 'POO10h', 'PO4', 'F2', 'AFp7h', 'FCz', 'FFC1', 'POO1', 'CPP2h', 'CP4', 'PO2', 'CCP1h', 'C5h', 'I1', 'FFC5h', 'FC6h', 'FT9', 'Fp1h', 'AFF2h', 'FFC3h', 'F7h', 'PPO2', 'FTT8', 'PO9h', 'AF4h', 'F6h', 'AFF4', 'FC1h', 'AFF3h', 'TP8h', 'CPP1h', 'F1', 'AF10h', 'CPPz', 'FCC3', 'TPP7h', 'CCP6h', 'C5', 'T9', 'FCC6h', 'C3h', 'I1h', 'CPP4', 'FT10', 'TPP10h', 'TTP10', 'CPP6', 'FT7h', 'FFC6', 'FCC2', 'AFFz', 'C2h', 'P6h', 'FCC5', 'POO8', 'M2', 'FCC1h', 'POO3', 'AF7', 'TP9h', 'AFF7', 'PPO2h', 'CP6h', 'T7h', 'F9h', 'CPP5', 'TTP9', 'AF3', 'PPO5h', 'PPO6h', 'FT8', 'AFp2', 'AF4', 'PPO10', 'PO5', 'AFp3', 'FCC4h', 'CCP4', 'AFp2h', 'FTT7', 'P9', 'AFF3', 'AF7h', 'CCP5', 'FFT8h', 'FC4', 'AFp8', 'PPO1h', 'AFF1', 'CP5h', 'AF2', 'PPO7h', 'AF5h', 'POO5', 'TPP9', 'CPz', 'FCCz', 'FTT9', 'POO10', 'C6', 'AF8h', 'POO6h', 'POO2h', 'PO7', 'FTT10h', 'TTP10h', 'A1', 'PO1', 'CPP4h', 'CCP3', 'T9h', 'TP7', 'AF1', 'TTP8h', 'CP4h', 'AFF7h', 'F8h', 'POO4', 'FT7', 'PPO4h', 'POOz', 'CP2h', 'AFp8h', 'CCP2', 'FTT10', 'POO6', 'FFC1h', 'T3', 'CCP6', 'TP10h', 'OI1', 'F10h', 'TPP10', 'FFC4h', 'AF5', 'AF10', 'TTP8', 'OI2', 'AF3h', 'AFp5', 'C2', 'I2h', 'FT8h', 'CCPz', 'CCP4h', 'P7h', 'PO7h', 'FFT7h', 'T10', 'PPO8h', 'POO7h', 'AFF5', 'PPO9h', 'T10h', 'F4h', 'FFC5', 'PO6h', 'AFF10h', 'AFF5h', 'T5', 'P5h', 'P10', 'PO6', 'FC3h', 'FFC6h', 'CPP2', 'AF2h', 'CP3h', 'T6', 'CP3', 'M1', 'P2', 'AFp9', 'CCP2h', 'P5', 'F1h', 'TP7h', 'F5', 'P9h', 'P3h', 'AFp9h', 'AFF4h', 'TPP9h', 'POO2', 'P8h', 'FCC1', 'AFp5h', 'TPP8h', 'Fp2h', 'PO3', 'P4h', 'PO3h', 'TPP7', 'AFp4', 'FFCz', 'AFz', 'FFT7', 'AFF6h', 'AFF8h', 'FFT9h', 'PO2h', 'PPO7', 'TTP7h', 'C1', 'AF1h', 'FFT10h', 'T8h', 'PO1h', 'AFp1', 'A2', 'C4h', 'AF6h', 'CPP3h', 'AFF8', 'PPO6', 'FC3', 'AFF6', 'POO3h', 'CP1h', 'AF8', 'Iz', 'FFC4', 'P10h', 'P2h', 'AFp6', 'AFF1h', 'I2', 'TP8', 'TTP9h', 'FFC3', 'POO7', 'FTT9h', 'CCP3h', 'CPP5h', 'AFF2', 'OIz', 'AFp10h', 'AFp10', 'CPP1', 'AF9', 'O2h', 'OI1h', 'C1h', 'PO5h', 'F10', 'POO9h'}\n"
     ]
    },
    {
     "name": "stderr",
     "output_type": "stream",
     "text": [
      "<ipython-input-1-81fa588ad679>:54: RuntimeWarning: 1 channel names are too long, have been truncated to 15 characters:\n",
      "['BothStartLoadPhase']\n",
      "  info = create_info(ch_names,sfreq=500.0,ch_types=ch_type,montage = montage)\n",
      "/home/yaoxiaojian/anaconda3/lib/python3.7/site-packages/scipy/signal/_arraytools.py:45: FutureWarning: Using a non-tuple sequence for multidimensional indexing is deprecated; use `arr[tuple(seq)]` instead of `arr[seq]`. In the future this will be interpreted as an array index, `arr[np.array(seq)]`, which will result either in an error or a different result.\n",
      "  b = a[a_slice]\n",
      "/home/yaoxiaojian/anaconda3/lib/python3.7/site-packages/scipy/signal/_arraytools.py:45: FutureWarning: Using a non-tuple sequence for multidimensional indexing is deprecated; use `arr[tuple(seq)]` instead of `arr[seq]`. In the future this will be interpreted as an array index, `arr[np.array(seq)]`, which will result either in an error or a different result.\n",
      "  b = a[a_slice]\n",
      "/home/yaoxiaojian/anaconda3/lib/python3.7/site-packages/scipy/signal/_arraytools.py:45: FutureWarning: Using a non-tuple sequence for multidimensional indexing is deprecated; use `arr[tuple(seq)]` instead of `arr[seq]`. In the future this will be interpreted as an array index, `arr[np.array(seq)]`, which will result either in an error or a different result.\n",
      "  b = a[a_slice]\n",
      "/home/yaoxiaojian/anaconda3/lib/python3.7/site-packages/scipy/signal/_arraytools.py:45: FutureWarning: Using a non-tuple sequence for multidimensional indexing is deprecated; use `arr[tuple(seq)]` instead of `arr[seq]`. In the future this will be interpreted as an array index, `arr[np.array(seq)]`, which will result either in an error or a different result.\n",
      "  b = a[a_slice]\n",
      "/home/yaoxiaojian/anaconda3/lib/python3.7/site-packages/scipy/signal/_arraytools.py:45: FutureWarning: Using a non-tuple sequence for multidimensional indexing is deprecated; use `arr[tuple(seq)]` instead of `arr[seq]`. In the future this will be interpreted as an array index, `arr[np.array(seq)]`, which will result either in an error or a different result.\n",
      "  b = a[a_slice]\n",
      "/home/yaoxiaojian/anaconda3/lib/python3.7/site-packages/scipy/signal/_arraytools.py:45: FutureWarning: Using a non-tuple sequence for multidimensional indexing is deprecated; use `arr[tuple(seq)]` instead of `arr[seq]`. In the future this will be interpreted as an array index, `arr[np.array(seq)]`, which will result either in an error or a different result.\n",
      "  b = a[a_slice]\n",
      "/home/yaoxiaojian/anaconda3/lib/python3.7/site-packages/scipy/signal/_arraytools.py:45: FutureWarning: Using a non-tuple sequence for multidimensional indexing is deprecated; use `arr[tuple(seq)]` instead of `arr[seq]`. In the future this will be interpreted as an array index, `arr[np.array(seq)]`, which will result either in an error or a different result.\n",
      "  b = a[a_slice]\n",
      "/home/yaoxiaojian/anaconda3/lib/python3.7/site-packages/scipy/signal/_arraytools.py:45: FutureWarning: Using a non-tuple sequence for multidimensional indexing is deprecated; use `arr[tuple(seq)]` instead of `arr[seq]`. In the future this will be interpreted as an array index, `arr[np.array(seq)]`, which will result either in an error or a different result.\n",
      "  b = a[a_slice]\n"
     ]
    },
    {
     "name": "stdout",
     "output_type": "stream",
     "text": [
      "DigMontage is a superset of info. 311 in DigMontage will be ignored. The ignored channels are: {'PPO3h', 'FFC2h', 'PPOz', 'FCC5h', 'POO5h', 'OI2h', 'AFp7', 'AFF10', 'FCC4', 'POz', 'CCP1', 'PPO9', 'FTT8h', 'FFT8', 'FCC3h', 'PPO10h', 'AFF9', 'F9', 'O1h', 'FT10h', 'F3h', 'F6', 'FFC2', 'F2h', 'AFp6h', 'AFpz', 'PPO3', 'PO8', 'FC2h', 'PPO1', 'T4', 'AF9h', 'POO9', 'AFp1h', 'TPP8', 'CCP5h', 'PPO8', 'FCC6', 'AFp4h', 'P1', 'POO8h', 'FT9h', 'FTT7h', 'CPP6h', 'FC4h', 'PPO4', 'Fpz', 'C6h', 'F5h', 'FFT10', 'POO1h', 'FCC2h', 'AFp3h', 'PO8h', 'CPP3', 'PPO5', 'FC5h', 'AF6', 'P6', 'P1h', 'PO4h', 'TTP7', 'FFT9', 'POO4h', 'PO10h', 'AFF9h', 'POO10h', 'PO4', 'F2', 'AFp7h', 'FCz', 'FFC1', 'POO1', 'CPP2h', 'CP4', 'PO2', 'CCP1h', 'C5h', 'I1', 'FFC5h', 'FC6h', 'FT9', 'Fp1h', 'AFF2h', 'FFC3h', 'F7h', 'PPO2', 'FTT8', 'PO9h', 'AF4h', 'F6h', 'AFF4', 'FC1h', 'AFF3h', 'TP8h', 'CPP1h', 'F1', 'AF10h', 'CPPz', 'FCC3', 'TPP7h', 'CCP6h', 'C5', 'T9', 'FCC6h', 'C3h', 'I1h', 'CPP4', 'FT10', 'TPP10h', 'TTP10', 'CPP6', 'FT7h', 'FFC6', 'FCC2', 'AFFz', 'C2h', 'P6h', 'FCC5', 'POO8', 'M2', 'FCC1h', 'POO3', 'AF7', 'TP9h', 'AFF7', 'PPO2h', 'CP6h', 'T7h', 'F9h', 'CPP5', 'TTP9', 'AF3', 'PPO5h', 'PPO6h', 'FT8', 'AFp2', 'AF4', 'PPO10', 'PO5', 'AFp3', 'FCC4h', 'CCP4', 'AFp2h', 'FTT7', 'P9', 'AFF3', 'AF7h', 'CCP5', 'FFT8h', 'FC4', 'AFp8', 'PPO1h', 'AFF1', 'CP5h', 'AF2', 'PPO7h', 'AF5h', 'POO5', 'TPP9', 'CPz', 'FCCz', 'FTT9', 'POO10', 'C6', 'AF8h', 'POO6h', 'POO2h', 'PO7', 'FTT10h', 'TTP10h', 'A1', 'PO1', 'CPP4h', 'CCP3', 'T9h', 'TP7', 'AF1', 'TTP8h', 'CP4h', 'AFF7h', 'F8h', 'POO4', 'FT7', 'PPO4h', 'POOz', 'CP2h', 'AFp8h', 'CCP2', 'FTT10', 'POO6', 'FFC1h', 'T3', 'CCP6', 'TP10h', 'OI1', 'F10h', 'TPP10', 'FFC4h', 'AF5', 'AF10', 'TTP8', 'OI2', 'AF3h', 'AFp5', 'C2', 'I2h', 'FT8h', 'CCPz', 'CCP4h', 'P7h', 'PO7h', 'FFT7h', 'T10', 'PPO8h', 'POO7h', 'AFF5', 'PPO9h', 'T10h', 'F4h', 'FFC5', 'PO6h', 'AFF10h', 'AFF5h', 'T5', 'P5h', 'P10', 'PO6', 'FC3h', 'FFC6h', 'CPP2', 'AF2h', 'CP3h', 'T6', 'CP3', 'M1', 'P2', 'AFp9', 'CCP2h', 'P5', 'F1h', 'TP7h', 'F5', 'P9h', 'P3h', 'AFp9h', 'AFF4h', 'TPP9h', 'POO2', 'P8h', 'FCC1', 'AFp5h', 'TPP8h', 'Fp2h', 'PO3', 'P4h', 'PO3h', 'TPP7', 'AFp4', 'FFCz', 'AFz', 'FFT7', 'AFF6h', 'AFF8h', 'FFT9h', 'PO2h', 'PPO7', 'TTP7h', 'C1', 'AF1h', 'FFT10h', 'T8h', 'PO1h', 'AFp1', 'A2', 'C4h', 'AF6h', 'CPP3h', 'AFF8', 'PPO6', 'FC3', 'AFF6', 'POO3h', 'CP1h', 'AF8', 'Iz', 'FFC4', 'P10h', 'P2h', 'AFp6', 'AFF1h', 'I2', 'TP8', 'TTP9h', 'FFC3', 'POO7', 'FTT9h', 'CCP3h', 'CPP5h', 'AFF2', 'OIz', 'AFp10h', 'AFp10', 'CPP1', 'AF9', 'O2h', 'OI1h', 'C1h', 'PO5h', 'F10', 'POO9h'}\n"
     ]
    },
    {
     "name": "stderr",
     "output_type": "stream",
     "text": [
      "<ipython-input-1-81fa588ad679>:54: RuntimeWarning: 1 channel names are too long, have been truncated to 15 characters:\n",
      "['BothStartLoadPhase']\n",
      "  info = create_info(ch_names,sfreq=500.0,ch_types=ch_type,montage = montage)\n",
      "/home/yaoxiaojian/anaconda3/lib/python3.7/site-packages/scipy/signal/_arraytools.py:45: FutureWarning: Using a non-tuple sequence for multidimensional indexing is deprecated; use `arr[tuple(seq)]` instead of `arr[seq]`. In the future this will be interpreted as an array index, `arr[np.array(seq)]`, which will result either in an error or a different result.\n",
      "  b = a[a_slice]\n",
      "/home/yaoxiaojian/anaconda3/lib/python3.7/site-packages/scipy/signal/_arraytools.py:45: FutureWarning: Using a non-tuple sequence for multidimensional indexing is deprecated; use `arr[tuple(seq)]` instead of `arr[seq]`. In the future this will be interpreted as an array index, `arr[np.array(seq)]`, which will result either in an error or a different result.\n",
      "  b = a[a_slice]\n",
      "/home/yaoxiaojian/anaconda3/lib/python3.7/site-packages/scipy/signal/_arraytools.py:45: FutureWarning: Using a non-tuple sequence for multidimensional indexing is deprecated; use `arr[tuple(seq)]` instead of `arr[seq]`. In the future this will be interpreted as an array index, `arr[np.array(seq)]`, which will result either in an error or a different result.\n",
      "  b = a[a_slice]\n",
      "/home/yaoxiaojian/anaconda3/lib/python3.7/site-packages/scipy/signal/_arraytools.py:45: FutureWarning: Using a non-tuple sequence for multidimensional indexing is deprecated; use `arr[tuple(seq)]` instead of `arr[seq]`. In the future this will be interpreted as an array index, `arr[np.array(seq)]`, which will result either in an error or a different result.\n",
      "  b = a[a_slice]\n",
      "/home/yaoxiaojian/anaconda3/lib/python3.7/site-packages/scipy/signal/_arraytools.py:45: FutureWarning: Using a non-tuple sequence for multidimensional indexing is deprecated; use `arr[tuple(seq)]` instead of `arr[seq]`. In the future this will be interpreted as an array index, `arr[np.array(seq)]`, which will result either in an error or a different result.\n",
      "  b = a[a_slice]\n",
      "/home/yaoxiaojian/anaconda3/lib/python3.7/site-packages/scipy/signal/_arraytools.py:45: FutureWarning: Using a non-tuple sequence for multidimensional indexing is deprecated; use `arr[tuple(seq)]` instead of `arr[seq]`. In the future this will be interpreted as an array index, `arr[np.array(seq)]`, which will result either in an error or a different result.\n",
      "  b = a[a_slice]\n",
      "/home/yaoxiaojian/anaconda3/lib/python3.7/site-packages/scipy/signal/_arraytools.py:45: FutureWarning: Using a non-tuple sequence for multidimensional indexing is deprecated; use `arr[tuple(seq)]` instead of `arr[seq]`. In the future this will be interpreted as an array index, `arr[np.array(seq)]`, which will result either in an error or a different result.\n",
      "  b = a[a_slice]\n",
      "/home/yaoxiaojian/anaconda3/lib/python3.7/site-packages/scipy/signal/_arraytools.py:45: FutureWarning: Using a non-tuple sequence for multidimensional indexing is deprecated; use `arr[tuple(seq)]` instead of `arr[seq]`. In the future this will be interpreted as an array index, `arr[np.array(seq)]`, which will result either in an error or a different result.\n",
      "  b = a[a_slice]\n"
     ]
    },
    {
     "name": "stdout",
     "output_type": "stream",
     "text": [
      "DigMontage is a superset of info. 311 in DigMontage will be ignored. The ignored channels are: {'PPO3h', 'FFC2h', 'PPOz', 'FCC5h', 'POO5h', 'OI2h', 'AFp7', 'AFF10', 'FCC4', 'POz', 'CCP1', 'PPO9', 'FTT8h', 'FFT8', 'FCC3h', 'PPO10h', 'AFF9', 'F9', 'O1h', 'FT10h', 'F3h', 'F6', 'FFC2', 'F2h', 'AFp6h', 'AFpz', 'PPO3', 'PO8', 'FC2h', 'PPO1', 'T4', 'AF9h', 'POO9', 'AFp1h', 'TPP8', 'CCP5h', 'PPO8', 'FCC6', 'AFp4h', 'P1', 'POO8h', 'FT9h', 'FTT7h', 'CPP6h', 'FC4h', 'PPO4', 'Fpz', 'C6h', 'F5h', 'FFT10', 'POO1h', 'FCC2h', 'AFp3h', 'PO8h', 'CPP3', 'PPO5', 'FC5h', 'AF6', 'P6', 'P1h', 'PO4h', 'TTP7', 'FFT9', 'POO4h', 'PO10h', 'AFF9h', 'POO10h', 'PO4', 'F2', 'AFp7h', 'FCz', 'FFC1', 'POO1', 'CPP2h', 'CP4', 'PO2', 'CCP1h', 'C5h', 'I1', 'FFC5h', 'FC6h', 'FT9', 'Fp1h', 'AFF2h', 'FFC3h', 'F7h', 'PPO2', 'FTT8', 'PO9h', 'AF4h', 'F6h', 'AFF4', 'FC1h', 'AFF3h', 'TP8h', 'CPP1h', 'F1', 'AF10h', 'CPPz', 'FCC3', 'TPP7h', 'CCP6h', 'C5', 'T9', 'FCC6h', 'C3h', 'I1h', 'CPP4', 'FT10', 'TPP10h', 'TTP10', 'CPP6', 'FT7h', 'FFC6', 'FCC2', 'AFFz', 'C2h', 'P6h', 'FCC5', 'POO8', 'M2', 'FCC1h', 'POO3', 'AF7', 'TP9h', 'AFF7', 'PPO2h', 'CP6h', 'T7h', 'F9h', 'CPP5', 'TTP9', 'AF3', 'PPO5h', 'PPO6h', 'FT8', 'AFp2', 'AF4', 'PPO10', 'PO5', 'AFp3', 'FCC4h', 'CCP4', 'AFp2h', 'FTT7', 'P9', 'AFF3', 'AF7h', 'CCP5', 'FFT8h', 'FC4', 'AFp8', 'PPO1h', 'AFF1', 'CP5h', 'AF2', 'PPO7h', 'AF5h', 'POO5', 'TPP9', 'CPz', 'FCCz', 'FTT9', 'POO10', 'C6', 'AF8h', 'POO6h', 'POO2h', 'PO7', 'FTT10h', 'TTP10h', 'A1', 'PO1', 'CPP4h', 'CCP3', 'T9h', 'TP7', 'AF1', 'TTP8h', 'CP4h', 'AFF7h', 'F8h', 'POO4', 'FT7', 'PPO4h', 'POOz', 'CP2h', 'AFp8h', 'CCP2', 'FTT10', 'POO6', 'FFC1h', 'T3', 'CCP6', 'TP10h', 'OI1', 'F10h', 'TPP10', 'FFC4h', 'AF5', 'AF10', 'TTP8', 'OI2', 'AF3h', 'AFp5', 'C2', 'I2h', 'FT8h', 'CCPz', 'CCP4h', 'P7h', 'PO7h', 'FFT7h', 'T10', 'PPO8h', 'POO7h', 'AFF5', 'PPO9h', 'T10h', 'F4h', 'FFC5', 'PO6h', 'AFF10h', 'AFF5h', 'T5', 'P5h', 'P10', 'PO6', 'FC3h', 'FFC6h', 'CPP2', 'AF2h', 'CP3h', 'T6', 'CP3', 'M1', 'P2', 'AFp9', 'CCP2h', 'P5', 'F1h', 'TP7h', 'F5', 'P9h', 'P3h', 'AFp9h', 'AFF4h', 'TPP9h', 'POO2', 'P8h', 'FCC1', 'AFp5h', 'TPP8h', 'Fp2h', 'PO3', 'P4h', 'PO3h', 'TPP7', 'AFp4', 'FFCz', 'AFz', 'FFT7', 'AFF6h', 'AFF8h', 'FFT9h', 'PO2h', 'PPO7', 'TTP7h', 'C1', 'AF1h', 'FFT10h', 'T8h', 'PO1h', 'AFp1', 'A2', 'C4h', 'AF6h', 'CPP3h', 'AFF8', 'PPO6', 'FC3', 'AFF6', 'POO3h', 'CP1h', 'AF8', 'Iz', 'FFC4', 'P10h', 'P2h', 'AFp6', 'AFF1h', 'I2', 'TP8', 'TTP9h', 'FFC3', 'POO7', 'FTT9h', 'CCP3h', 'CPP5h', 'AFF2', 'OIz', 'AFp10h', 'AFp10', 'CPP1', 'AF9', 'O2h', 'OI1h', 'C1h', 'PO5h', 'F10', 'POO9h'}\n"
     ]
    },
    {
     "name": "stderr",
     "output_type": "stream",
     "text": [
      "<ipython-input-1-81fa588ad679>:54: RuntimeWarning: 1 channel names are too long, have been truncated to 15 characters:\n",
      "['BothStartLoadPhase']\n",
      "  info = create_info(ch_names,sfreq=500.0,ch_types=ch_type,montage = montage)\n",
      "/home/yaoxiaojian/anaconda3/lib/python3.7/site-packages/scipy/signal/_arraytools.py:45: FutureWarning: Using a non-tuple sequence for multidimensional indexing is deprecated; use `arr[tuple(seq)]` instead of `arr[seq]`. In the future this will be interpreted as an array index, `arr[np.array(seq)]`, which will result either in an error or a different result.\n",
      "  b = a[a_slice]\n",
      "/home/yaoxiaojian/anaconda3/lib/python3.7/site-packages/scipy/signal/_arraytools.py:45: FutureWarning: Using a non-tuple sequence for multidimensional indexing is deprecated; use `arr[tuple(seq)]` instead of `arr[seq]`. In the future this will be interpreted as an array index, `arr[np.array(seq)]`, which will result either in an error or a different result.\n",
      "  b = a[a_slice]\n",
      "/home/yaoxiaojian/anaconda3/lib/python3.7/site-packages/scipy/signal/_arraytools.py:45: FutureWarning: Using a non-tuple sequence for multidimensional indexing is deprecated; use `arr[tuple(seq)]` instead of `arr[seq]`. In the future this will be interpreted as an array index, `arr[np.array(seq)]`, which will result either in an error or a different result.\n",
      "  b = a[a_slice]\n",
      "/home/yaoxiaojian/anaconda3/lib/python3.7/site-packages/scipy/signal/_arraytools.py:45: FutureWarning: Using a non-tuple sequence for multidimensional indexing is deprecated; use `arr[tuple(seq)]` instead of `arr[seq]`. In the future this will be interpreted as an array index, `arr[np.array(seq)]`, which will result either in an error or a different result.\n",
      "  b = a[a_slice]\n",
      "/home/yaoxiaojian/anaconda3/lib/python3.7/site-packages/scipy/signal/_arraytools.py:45: FutureWarning: Using a non-tuple sequence for multidimensional indexing is deprecated; use `arr[tuple(seq)]` instead of `arr[seq]`. In the future this will be interpreted as an array index, `arr[np.array(seq)]`, which will result either in an error or a different result.\n",
      "  b = a[a_slice]\n",
      "/home/yaoxiaojian/anaconda3/lib/python3.7/site-packages/scipy/signal/_arraytools.py:45: FutureWarning: Using a non-tuple sequence for multidimensional indexing is deprecated; use `arr[tuple(seq)]` instead of `arr[seq]`. In the future this will be interpreted as an array index, `arr[np.array(seq)]`, which will result either in an error or a different result.\n",
      "  b = a[a_slice]\n",
      "/home/yaoxiaojian/anaconda3/lib/python3.7/site-packages/scipy/signal/_arraytools.py:45: FutureWarning: Using a non-tuple sequence for multidimensional indexing is deprecated; use `arr[tuple(seq)]` instead of `arr[seq]`. In the future this will be interpreted as an array index, `arr[np.array(seq)]`, which will result either in an error or a different result.\n",
      "  b = a[a_slice]\n",
      "/home/yaoxiaojian/anaconda3/lib/python3.7/site-packages/scipy/signal/_arraytools.py:45: FutureWarning: Using a non-tuple sequence for multidimensional indexing is deprecated; use `arr[tuple(seq)]` instead of `arr[seq]`. In the future this will be interpreted as an array index, `arr[np.array(seq)]`, which will result either in an error or a different result.\n",
      "  b = a[a_slice]\n"
     ]
    },
    {
     "name": "stdout",
     "output_type": "stream",
     "text": [
      "DigMontage is a superset of info. 311 in DigMontage will be ignored. The ignored channels are: {'PPO3h', 'FFC2h', 'PPOz', 'FCC5h', 'POO5h', 'OI2h', 'AFp7', 'AFF10', 'FCC4', 'POz', 'CCP1', 'PPO9', 'FTT8h', 'FFT8', 'FCC3h', 'PPO10h', 'AFF9', 'F9', 'O1h', 'FT10h', 'F3h', 'F6', 'FFC2', 'F2h', 'AFp6h', 'AFpz', 'PPO3', 'PO8', 'FC2h', 'PPO1', 'T4', 'AF9h', 'POO9', 'AFp1h', 'TPP8', 'CCP5h', 'PPO8', 'FCC6', 'AFp4h', 'P1', 'POO8h', 'FT9h', 'FTT7h', 'CPP6h', 'FC4h', 'PPO4', 'Fpz', 'C6h', 'F5h', 'FFT10', 'POO1h', 'FCC2h', 'AFp3h', 'PO8h', 'CPP3', 'PPO5', 'FC5h', 'AF6', 'P6', 'P1h', 'PO4h', 'TTP7', 'FFT9', 'POO4h', 'PO10h', 'AFF9h', 'POO10h', 'PO4', 'F2', 'AFp7h', 'FCz', 'FFC1', 'POO1', 'CPP2h', 'CP4', 'PO2', 'CCP1h', 'C5h', 'I1', 'FFC5h', 'FC6h', 'FT9', 'Fp1h', 'AFF2h', 'FFC3h', 'F7h', 'PPO2', 'FTT8', 'PO9h', 'AF4h', 'F6h', 'AFF4', 'FC1h', 'AFF3h', 'TP8h', 'CPP1h', 'F1', 'AF10h', 'CPPz', 'FCC3', 'TPP7h', 'CCP6h', 'C5', 'T9', 'FCC6h', 'C3h', 'I1h', 'CPP4', 'FT10', 'TPP10h', 'TTP10', 'CPP6', 'FT7h', 'FFC6', 'FCC2', 'AFFz', 'C2h', 'P6h', 'FCC5', 'POO8', 'M2', 'FCC1h', 'POO3', 'AF7', 'TP9h', 'AFF7', 'PPO2h', 'CP6h', 'T7h', 'F9h', 'CPP5', 'TTP9', 'AF3', 'PPO5h', 'PPO6h', 'FT8', 'AFp2', 'AF4', 'PPO10', 'PO5', 'AFp3', 'FCC4h', 'CCP4', 'AFp2h', 'FTT7', 'P9', 'AFF3', 'AF7h', 'CCP5', 'FFT8h', 'FC4', 'AFp8', 'PPO1h', 'AFF1', 'CP5h', 'AF2', 'PPO7h', 'AF5h', 'POO5', 'TPP9', 'CPz', 'FCCz', 'FTT9', 'POO10', 'C6', 'AF8h', 'POO6h', 'POO2h', 'PO7', 'FTT10h', 'TTP10h', 'A1', 'PO1', 'CPP4h', 'CCP3', 'T9h', 'TP7', 'AF1', 'TTP8h', 'CP4h', 'AFF7h', 'F8h', 'POO4', 'FT7', 'PPO4h', 'POOz', 'CP2h', 'AFp8h', 'CCP2', 'FTT10', 'POO6', 'FFC1h', 'T3', 'CCP6', 'TP10h', 'OI1', 'F10h', 'TPP10', 'FFC4h', 'AF5', 'AF10', 'TTP8', 'OI2', 'AF3h', 'AFp5', 'C2', 'I2h', 'FT8h', 'CCPz', 'CCP4h', 'P7h', 'PO7h', 'FFT7h', 'T10', 'PPO8h', 'POO7h', 'AFF5', 'PPO9h', 'T10h', 'F4h', 'FFC5', 'PO6h', 'AFF10h', 'AFF5h', 'T5', 'P5h', 'P10', 'PO6', 'FC3h', 'FFC6h', 'CPP2', 'AF2h', 'CP3h', 'T6', 'CP3', 'M1', 'P2', 'AFp9', 'CCP2h', 'P5', 'F1h', 'TP7h', 'F5', 'P9h', 'P3h', 'AFp9h', 'AFF4h', 'TPP9h', 'POO2', 'P8h', 'FCC1', 'AFp5h', 'TPP8h', 'Fp2h', 'PO3', 'P4h', 'PO3h', 'TPP7', 'AFp4', 'FFCz', 'AFz', 'FFT7', 'AFF6h', 'AFF8h', 'FFT9h', 'PO2h', 'PPO7', 'TTP7h', 'C1', 'AF1h', 'FFT10h', 'T8h', 'PO1h', 'AFp1', 'A2', 'C4h', 'AF6h', 'CPP3h', 'AFF8', 'PPO6', 'FC3', 'AFF6', 'POO3h', 'CP1h', 'AF8', 'Iz', 'FFC4', 'P10h', 'P2h', 'AFp6', 'AFF1h', 'I2', 'TP8', 'TTP9h', 'FFC3', 'POO7', 'FTT9h', 'CCP3h', 'CPP5h', 'AFF2', 'OIz', 'AFp10h', 'AFp10', 'CPP1', 'AF9', 'O2h', 'OI1h', 'C1h', 'PO5h', 'F10', 'POO9h'}\n"
     ]
    },
    {
     "name": "stderr",
     "output_type": "stream",
     "text": [
      "<ipython-input-1-81fa588ad679>:54: RuntimeWarning: 1 channel names are too long, have been truncated to 15 characters:\n",
      "['BothStartLoadPhase']\n",
      "  info = create_info(ch_names,sfreq=500.0,ch_types=ch_type,montage = montage)\n",
      "/home/yaoxiaojian/anaconda3/lib/python3.7/site-packages/scipy/signal/_arraytools.py:45: FutureWarning: Using a non-tuple sequence for multidimensional indexing is deprecated; use `arr[tuple(seq)]` instead of `arr[seq]`. In the future this will be interpreted as an array index, `arr[np.array(seq)]`, which will result either in an error or a different result.\n",
      "  b = a[a_slice]\n",
      "/home/yaoxiaojian/anaconda3/lib/python3.7/site-packages/scipy/signal/_arraytools.py:45: FutureWarning: Using a non-tuple sequence for multidimensional indexing is deprecated; use `arr[tuple(seq)]` instead of `arr[seq]`. In the future this will be interpreted as an array index, `arr[np.array(seq)]`, which will result either in an error or a different result.\n",
      "  b = a[a_slice]\n",
      "/home/yaoxiaojian/anaconda3/lib/python3.7/site-packages/scipy/signal/_arraytools.py:45: FutureWarning: Using a non-tuple sequence for multidimensional indexing is deprecated; use `arr[tuple(seq)]` instead of `arr[seq]`. In the future this will be interpreted as an array index, `arr[np.array(seq)]`, which will result either in an error or a different result.\n",
      "  b = a[a_slice]\n",
      "/home/yaoxiaojian/anaconda3/lib/python3.7/site-packages/scipy/signal/_arraytools.py:45: FutureWarning: Using a non-tuple sequence for multidimensional indexing is deprecated; use `arr[tuple(seq)]` instead of `arr[seq]`. In the future this will be interpreted as an array index, `arr[np.array(seq)]`, which will result either in an error or a different result.\n",
      "  b = a[a_slice]\n",
      "/home/yaoxiaojian/anaconda3/lib/python3.7/site-packages/scipy/signal/_arraytools.py:45: FutureWarning: Using a non-tuple sequence for multidimensional indexing is deprecated; use `arr[tuple(seq)]` instead of `arr[seq]`. In the future this will be interpreted as an array index, `arr[np.array(seq)]`, which will result either in an error or a different result.\n",
      "  b = a[a_slice]\n",
      "/home/yaoxiaojian/anaconda3/lib/python3.7/site-packages/scipy/signal/_arraytools.py:45: FutureWarning: Using a non-tuple sequence for multidimensional indexing is deprecated; use `arr[tuple(seq)]` instead of `arr[seq]`. In the future this will be interpreted as an array index, `arr[np.array(seq)]`, which will result either in an error or a different result.\n",
      "  b = a[a_slice]\n",
      "/home/yaoxiaojian/anaconda3/lib/python3.7/site-packages/scipy/signal/_arraytools.py:45: FutureWarning: Using a non-tuple sequence for multidimensional indexing is deprecated; use `arr[tuple(seq)]` instead of `arr[seq]`. In the future this will be interpreted as an array index, `arr[np.array(seq)]`, which will result either in an error or a different result.\n",
      "  b = a[a_slice]\n",
      "/home/yaoxiaojian/anaconda3/lib/python3.7/site-packages/scipy/signal/_arraytools.py:45: FutureWarning: Using a non-tuple sequence for multidimensional indexing is deprecated; use `arr[tuple(seq)]` instead of `arr[seq]`. In the future this will be interpreted as an array index, `arr[np.array(seq)]`, which will result either in an error or a different result.\n",
      "  b = a[a_slice]\n"
     ]
    },
    {
     "name": "stdout",
     "output_type": "stream",
     "text": [
      "DigMontage is a superset of info. 311 in DigMontage will be ignored. The ignored channels are: {'PPO3h', 'FFC2h', 'PPOz', 'FCC5h', 'POO5h', 'OI2h', 'AFp7', 'AFF10', 'FCC4', 'POz', 'CCP1', 'PPO9', 'FTT8h', 'FFT8', 'FCC3h', 'PPO10h', 'AFF9', 'F9', 'O1h', 'FT10h', 'F3h', 'F6', 'FFC2', 'F2h', 'AFp6h', 'AFpz', 'PPO3', 'PO8', 'FC2h', 'PPO1', 'T4', 'AF9h', 'POO9', 'AFp1h', 'TPP8', 'CCP5h', 'PPO8', 'FCC6', 'AFp4h', 'P1', 'POO8h', 'FT9h', 'FTT7h', 'CPP6h', 'FC4h', 'PPO4', 'Fpz', 'C6h', 'F5h', 'FFT10', 'POO1h', 'FCC2h', 'AFp3h', 'PO8h', 'CPP3', 'PPO5', 'FC5h', 'AF6', 'P6', 'P1h', 'PO4h', 'TTP7', 'FFT9', 'POO4h', 'PO10h', 'AFF9h', 'POO10h', 'PO4', 'F2', 'AFp7h', 'FCz', 'FFC1', 'POO1', 'CPP2h', 'CP4', 'PO2', 'CCP1h', 'C5h', 'I1', 'FFC5h', 'FC6h', 'FT9', 'Fp1h', 'AFF2h', 'FFC3h', 'F7h', 'PPO2', 'FTT8', 'PO9h', 'AF4h', 'F6h', 'AFF4', 'FC1h', 'AFF3h', 'TP8h', 'CPP1h', 'F1', 'AF10h', 'CPPz', 'FCC3', 'TPP7h', 'CCP6h', 'C5', 'T9', 'FCC6h', 'C3h', 'I1h', 'CPP4', 'FT10', 'TPP10h', 'TTP10', 'CPP6', 'FT7h', 'FFC6', 'FCC2', 'AFFz', 'C2h', 'P6h', 'FCC5', 'POO8', 'M2', 'FCC1h', 'POO3', 'AF7', 'TP9h', 'AFF7', 'PPO2h', 'CP6h', 'T7h', 'F9h', 'CPP5', 'TTP9', 'AF3', 'PPO5h', 'PPO6h', 'FT8', 'AFp2', 'AF4', 'PPO10', 'PO5', 'AFp3', 'FCC4h', 'CCP4', 'AFp2h', 'FTT7', 'P9', 'AFF3', 'AF7h', 'CCP5', 'FFT8h', 'FC4', 'AFp8', 'PPO1h', 'AFF1', 'CP5h', 'AF2', 'PPO7h', 'AF5h', 'POO5', 'TPP9', 'CPz', 'FCCz', 'FTT9', 'POO10', 'C6', 'AF8h', 'POO6h', 'POO2h', 'PO7', 'FTT10h', 'TTP10h', 'A1', 'PO1', 'CPP4h', 'CCP3', 'T9h', 'TP7', 'AF1', 'TTP8h', 'CP4h', 'AFF7h', 'F8h', 'POO4', 'FT7', 'PPO4h', 'POOz', 'CP2h', 'AFp8h', 'CCP2', 'FTT10', 'POO6', 'FFC1h', 'T3', 'CCP6', 'TP10h', 'OI1', 'F10h', 'TPP10', 'FFC4h', 'AF5', 'AF10', 'TTP8', 'OI2', 'AF3h', 'AFp5', 'C2', 'I2h', 'FT8h', 'CCPz', 'CCP4h', 'P7h', 'PO7h', 'FFT7h', 'T10', 'PPO8h', 'POO7h', 'AFF5', 'PPO9h', 'T10h', 'F4h', 'FFC5', 'PO6h', 'AFF10h', 'AFF5h', 'T5', 'P5h', 'P10', 'PO6', 'FC3h', 'FFC6h', 'CPP2', 'AF2h', 'CP3h', 'T6', 'CP3', 'M1', 'P2', 'AFp9', 'CCP2h', 'P5', 'F1h', 'TP7h', 'F5', 'P9h', 'P3h', 'AFp9h', 'AFF4h', 'TPP9h', 'POO2', 'P8h', 'FCC1', 'AFp5h', 'TPP8h', 'Fp2h', 'PO3', 'P4h', 'PO3h', 'TPP7', 'AFp4', 'FFCz', 'AFz', 'FFT7', 'AFF6h', 'AFF8h', 'FFT9h', 'PO2h', 'PPO7', 'TTP7h', 'C1', 'AF1h', 'FFT10h', 'T8h', 'PO1h', 'AFp1', 'A2', 'C4h', 'AF6h', 'CPP3h', 'AFF8', 'PPO6', 'FC3', 'AFF6', 'POO3h', 'CP1h', 'AF8', 'Iz', 'FFC4', 'P10h', 'P2h', 'AFp6', 'AFF1h', 'I2', 'TP8', 'TTP9h', 'FFC3', 'POO7', 'FTT9h', 'CCP3h', 'CPP5h', 'AFF2', 'OIz', 'AFp10h', 'AFp10', 'CPP1', 'AF9', 'O2h', 'OI1h', 'C1h', 'PO5h', 'F10', 'POO9h'}\n"
     ]
    },
    {
     "name": "stderr",
     "output_type": "stream",
     "text": [
      "<ipython-input-1-81fa588ad679>:54: RuntimeWarning: 1 channel names are too long, have been truncated to 15 characters:\n",
      "['BothStartLoadPhase']\n",
      "  info = create_info(ch_names,sfreq=500.0,ch_types=ch_type,montage = montage)\n",
      "/home/yaoxiaojian/anaconda3/lib/python3.7/site-packages/scipy/signal/_arraytools.py:45: FutureWarning: Using a non-tuple sequence for multidimensional indexing is deprecated; use `arr[tuple(seq)]` instead of `arr[seq]`. In the future this will be interpreted as an array index, `arr[np.array(seq)]`, which will result either in an error or a different result.\n",
      "  b = a[a_slice]\n",
      "/home/yaoxiaojian/anaconda3/lib/python3.7/site-packages/scipy/signal/_arraytools.py:45: FutureWarning: Using a non-tuple sequence for multidimensional indexing is deprecated; use `arr[tuple(seq)]` instead of `arr[seq]`. In the future this will be interpreted as an array index, `arr[np.array(seq)]`, which will result either in an error or a different result.\n",
      "  b = a[a_slice]\n",
      "/home/yaoxiaojian/anaconda3/lib/python3.7/site-packages/scipy/signal/_arraytools.py:45: FutureWarning: Using a non-tuple sequence for multidimensional indexing is deprecated; use `arr[tuple(seq)]` instead of `arr[seq]`. In the future this will be interpreted as an array index, `arr[np.array(seq)]`, which will result either in an error or a different result.\n",
      "  b = a[a_slice]\n",
      "/home/yaoxiaojian/anaconda3/lib/python3.7/site-packages/scipy/signal/_arraytools.py:45: FutureWarning: Using a non-tuple sequence for multidimensional indexing is deprecated; use `arr[tuple(seq)]` instead of `arr[seq]`. In the future this will be interpreted as an array index, `arr[np.array(seq)]`, which will result either in an error or a different result.\n",
      "  b = a[a_slice]\n",
      "/home/yaoxiaojian/anaconda3/lib/python3.7/site-packages/scipy/signal/_arraytools.py:45: FutureWarning: Using a non-tuple sequence for multidimensional indexing is deprecated; use `arr[tuple(seq)]` instead of `arr[seq]`. In the future this will be interpreted as an array index, `arr[np.array(seq)]`, which will result either in an error or a different result.\n",
      "  b = a[a_slice]\n",
      "/home/yaoxiaojian/anaconda3/lib/python3.7/site-packages/scipy/signal/_arraytools.py:45: FutureWarning: Using a non-tuple sequence for multidimensional indexing is deprecated; use `arr[tuple(seq)]` instead of `arr[seq]`. In the future this will be interpreted as an array index, `arr[np.array(seq)]`, which will result either in an error or a different result.\n",
      "  b = a[a_slice]\n",
      "/home/yaoxiaojian/anaconda3/lib/python3.7/site-packages/scipy/signal/_arraytools.py:45: FutureWarning: Using a non-tuple sequence for multidimensional indexing is deprecated; use `arr[tuple(seq)]` instead of `arr[seq]`. In the future this will be interpreted as an array index, `arr[np.array(seq)]`, which will result either in an error or a different result.\n",
      "  b = a[a_slice]\n",
      "/home/yaoxiaojian/anaconda3/lib/python3.7/site-packages/scipy/signal/_arraytools.py:45: FutureWarning: Using a non-tuple sequence for multidimensional indexing is deprecated; use `arr[tuple(seq)]` instead of `arr[seq]`. In the future this will be interpreted as an array index, `arr[np.array(seq)]`, which will result either in an error or a different result.\n",
      "  b = a[a_slice]\n"
     ]
    },
    {
     "name": "stdout",
     "output_type": "stream",
     "text": [
      "DigMontage is a superset of info. 311 in DigMontage will be ignored. The ignored channels are: {'PPO3h', 'FFC2h', 'PPOz', 'FCC5h', 'POO5h', 'OI2h', 'AFp7', 'AFF10', 'FCC4', 'POz', 'CCP1', 'PPO9', 'FTT8h', 'FFT8', 'FCC3h', 'PPO10h', 'AFF9', 'F9', 'O1h', 'FT10h', 'F3h', 'F6', 'FFC2', 'F2h', 'AFp6h', 'AFpz', 'PPO3', 'PO8', 'FC2h', 'PPO1', 'T4', 'AF9h', 'POO9', 'AFp1h', 'TPP8', 'CCP5h', 'PPO8', 'FCC6', 'AFp4h', 'P1', 'POO8h', 'FT9h', 'FTT7h', 'CPP6h', 'FC4h', 'PPO4', 'Fpz', 'C6h', 'F5h', 'FFT10', 'POO1h', 'FCC2h', 'AFp3h', 'PO8h', 'CPP3', 'PPO5', 'FC5h', 'AF6', 'P6', 'P1h', 'PO4h', 'TTP7', 'FFT9', 'POO4h', 'PO10h', 'AFF9h', 'POO10h', 'PO4', 'F2', 'AFp7h', 'FCz', 'FFC1', 'POO1', 'CPP2h', 'CP4', 'PO2', 'CCP1h', 'C5h', 'I1', 'FFC5h', 'FC6h', 'FT9', 'Fp1h', 'AFF2h', 'FFC3h', 'F7h', 'PPO2', 'FTT8', 'PO9h', 'AF4h', 'F6h', 'AFF4', 'FC1h', 'AFF3h', 'TP8h', 'CPP1h', 'F1', 'AF10h', 'CPPz', 'FCC3', 'TPP7h', 'CCP6h', 'C5', 'T9', 'FCC6h', 'C3h', 'I1h', 'CPP4', 'FT10', 'TPP10h', 'TTP10', 'CPP6', 'FT7h', 'FFC6', 'FCC2', 'AFFz', 'C2h', 'P6h', 'FCC5', 'POO8', 'M2', 'FCC1h', 'POO3', 'AF7', 'TP9h', 'AFF7', 'PPO2h', 'CP6h', 'T7h', 'F9h', 'CPP5', 'TTP9', 'AF3', 'PPO5h', 'PPO6h', 'FT8', 'AFp2', 'AF4', 'PPO10', 'PO5', 'AFp3', 'FCC4h', 'CCP4', 'AFp2h', 'FTT7', 'P9', 'AFF3', 'AF7h', 'CCP5', 'FFT8h', 'FC4', 'AFp8', 'PPO1h', 'AFF1', 'CP5h', 'AF2', 'PPO7h', 'AF5h', 'POO5', 'TPP9', 'CPz', 'FCCz', 'FTT9', 'POO10', 'C6', 'AF8h', 'POO6h', 'POO2h', 'PO7', 'FTT10h', 'TTP10h', 'A1', 'PO1', 'CPP4h', 'CCP3', 'T9h', 'TP7', 'AF1', 'TTP8h', 'CP4h', 'AFF7h', 'F8h', 'POO4', 'FT7', 'PPO4h', 'POOz', 'CP2h', 'AFp8h', 'CCP2', 'FTT10', 'POO6', 'FFC1h', 'T3', 'CCP6', 'TP10h', 'OI1', 'F10h', 'TPP10', 'FFC4h', 'AF5', 'AF10', 'TTP8', 'OI2', 'AF3h', 'AFp5', 'C2', 'I2h', 'FT8h', 'CCPz', 'CCP4h', 'P7h', 'PO7h', 'FFT7h', 'T10', 'PPO8h', 'POO7h', 'AFF5', 'PPO9h', 'T10h', 'F4h', 'FFC5', 'PO6h', 'AFF10h', 'AFF5h', 'T5', 'P5h', 'P10', 'PO6', 'FC3h', 'FFC6h', 'CPP2', 'AF2h', 'CP3h', 'T6', 'CP3', 'M1', 'P2', 'AFp9', 'CCP2h', 'P5', 'F1h', 'TP7h', 'F5', 'P9h', 'P3h', 'AFp9h', 'AFF4h', 'TPP9h', 'POO2', 'P8h', 'FCC1', 'AFp5h', 'TPP8h', 'Fp2h', 'PO3', 'P4h', 'PO3h', 'TPP7', 'AFp4', 'FFCz', 'AFz', 'FFT7', 'AFF6h', 'AFF8h', 'FFT9h', 'PO2h', 'PPO7', 'TTP7h', 'C1', 'AF1h', 'FFT10h', 'T8h', 'PO1h', 'AFp1', 'A2', 'C4h', 'AF6h', 'CPP3h', 'AFF8', 'PPO6', 'FC3', 'AFF6', 'POO3h', 'CP1h', 'AF8', 'Iz', 'FFC4', 'P10h', 'P2h', 'AFp6', 'AFF1h', 'I2', 'TP8', 'TTP9h', 'FFC3', 'POO7', 'FTT9h', 'CCP3h', 'CPP5h', 'AFF2', 'OIz', 'AFp10h', 'AFp10', 'CPP1', 'AF9', 'O2h', 'OI1h', 'C1h', 'PO5h', 'F10', 'POO9h'}\n"
     ]
    },
    {
     "name": "stderr",
     "output_type": "stream",
     "text": [
      "<ipython-input-1-81fa588ad679>:54: RuntimeWarning: 1 channel names are too long, have been truncated to 15 characters:\n",
      "['BothStartLoadPhase']\n",
      "  info = create_info(ch_names,sfreq=500.0,ch_types=ch_type,montage = montage)\n",
      "/home/yaoxiaojian/anaconda3/lib/python3.7/site-packages/scipy/signal/_arraytools.py:45: FutureWarning: Using a non-tuple sequence for multidimensional indexing is deprecated; use `arr[tuple(seq)]` instead of `arr[seq]`. In the future this will be interpreted as an array index, `arr[np.array(seq)]`, which will result either in an error or a different result.\n",
      "  b = a[a_slice]\n",
      "/home/yaoxiaojian/anaconda3/lib/python3.7/site-packages/scipy/signal/_arraytools.py:45: FutureWarning: Using a non-tuple sequence for multidimensional indexing is deprecated; use `arr[tuple(seq)]` instead of `arr[seq]`. In the future this will be interpreted as an array index, `arr[np.array(seq)]`, which will result either in an error or a different result.\n",
      "  b = a[a_slice]\n",
      "/home/yaoxiaojian/anaconda3/lib/python3.7/site-packages/scipy/signal/_arraytools.py:45: FutureWarning: Using a non-tuple sequence for multidimensional indexing is deprecated; use `arr[tuple(seq)]` instead of `arr[seq]`. In the future this will be interpreted as an array index, `arr[np.array(seq)]`, which will result either in an error or a different result.\n",
      "  b = a[a_slice]\n",
      "/home/yaoxiaojian/anaconda3/lib/python3.7/site-packages/scipy/signal/_arraytools.py:45: FutureWarning: Using a non-tuple sequence for multidimensional indexing is deprecated; use `arr[tuple(seq)]` instead of `arr[seq]`. In the future this will be interpreted as an array index, `arr[np.array(seq)]`, which will result either in an error or a different result.\n",
      "  b = a[a_slice]\n",
      "/home/yaoxiaojian/anaconda3/lib/python3.7/site-packages/scipy/signal/_arraytools.py:45: FutureWarning: Using a non-tuple sequence for multidimensional indexing is deprecated; use `arr[tuple(seq)]` instead of `arr[seq]`. In the future this will be interpreted as an array index, `arr[np.array(seq)]`, which will result either in an error or a different result.\n",
      "  b = a[a_slice]\n",
      "/home/yaoxiaojian/anaconda3/lib/python3.7/site-packages/scipy/signal/_arraytools.py:45: FutureWarning: Using a non-tuple sequence for multidimensional indexing is deprecated; use `arr[tuple(seq)]` instead of `arr[seq]`. In the future this will be interpreted as an array index, `arr[np.array(seq)]`, which will result either in an error or a different result.\n",
      "  b = a[a_slice]\n",
      "/home/yaoxiaojian/anaconda3/lib/python3.7/site-packages/scipy/signal/_arraytools.py:45: FutureWarning: Using a non-tuple sequence for multidimensional indexing is deprecated; use `arr[tuple(seq)]` instead of `arr[seq]`. In the future this will be interpreted as an array index, `arr[np.array(seq)]`, which will result either in an error or a different result.\n",
      "  b = a[a_slice]\n",
      "/home/yaoxiaojian/anaconda3/lib/python3.7/site-packages/scipy/signal/_arraytools.py:45: FutureWarning: Using a non-tuple sequence for multidimensional indexing is deprecated; use `arr[tuple(seq)]` instead of `arr[seq]`. In the future this will be interpreted as an array index, `arr[np.array(seq)]`, which will result either in an error or a different result.\n",
      "  b = a[a_slice]\n"
     ]
    },
    {
     "name": "stdout",
     "output_type": "stream",
     "text": [
      "subject 6 (1560, 64, 751)\n",
      "data stack shape: (9360, 64, 751) (9360,)\n",
      "DigMontage is a superset of info. 311 in DigMontage will be ignored. The ignored channels are: {'PPO3h', 'FFC2h', 'PPOz', 'FCC5h', 'POO5h', 'OI2h', 'AFp7', 'AFF10', 'FCC4', 'POz', 'CCP1', 'PPO9', 'FTT8h', 'FFT8', 'FCC3h', 'PPO10h', 'AFF9', 'F9', 'O1h', 'FT10h', 'F3h', 'F6', 'FFC2', 'F2h', 'AFp6h', 'AFpz', 'PPO3', 'PO8', 'FC2h', 'PPO1', 'T4', 'AF9h', 'POO9', 'AFp1h', 'TPP8', 'CCP5h', 'PPO8', 'FCC6', 'AFp4h', 'P1', 'POO8h', 'FT9h', 'FTT7h', 'CPP6h', 'FC4h', 'PPO4', 'Fpz', 'C6h', 'F5h', 'FFT10', 'POO1h', 'FCC2h', 'AFp3h', 'PO8h', 'CPP3', 'PPO5', 'FC5h', 'AF6', 'P6', 'P1h', 'PO4h', 'TTP7', 'FFT9', 'POO4h', 'PO10h', 'AFF9h', 'POO10h', 'PO4', 'F2', 'AFp7h', 'FCz', 'FFC1', 'POO1', 'CPP2h', 'CP4', 'PO2', 'CCP1h', 'C5h', 'I1', 'FFC5h', 'FC6h', 'FT9', 'Fp1h', 'AFF2h', 'FFC3h', 'F7h', 'PPO2', 'FTT8', 'PO9h', 'AF4h', 'F6h', 'AFF4', 'FC1h', 'AFF3h', 'TP8h', 'CPP1h', 'F1', 'AF10h', 'CPPz', 'FCC3', 'TPP7h', 'CCP6h', 'C5', 'T9', 'FCC6h', 'C3h', 'I1h', 'CPP4', 'FT10', 'TPP10h', 'TTP10', 'CPP6', 'FT7h', 'FFC6', 'FCC2', 'AFFz', 'C2h', 'P6h', 'FCC5', 'POO8', 'M2', 'FCC1h', 'POO3', 'AF7', 'TP9h', 'AFF7', 'PPO2h', 'CP6h', 'T7h', 'F9h', 'CPP5', 'TTP9', 'AF3', 'PPO5h', 'PPO6h', 'FT8', 'AFp2', 'AF4', 'PPO10', 'PO5', 'AFp3', 'FCC4h', 'CCP4', 'AFp2h', 'FTT7', 'P9', 'AFF3', 'AF7h', 'CCP5', 'FFT8h', 'FC4', 'AFp8', 'PPO1h', 'AFF1', 'CP5h', 'AF2', 'PPO7h', 'AF5h', 'POO5', 'TPP9', 'CPz', 'FCCz', 'FTT9', 'POO10', 'C6', 'AF8h', 'POO6h', 'POO2h', 'PO7', 'FTT10h', 'TTP10h', 'A1', 'PO1', 'CPP4h', 'CCP3', 'T9h', 'TP7', 'AF1', 'TTP8h', 'CP4h', 'AFF7h', 'F8h', 'POO4', 'FT7', 'PPO4h', 'POOz', 'CP2h', 'AFp8h', 'CCP2', 'FTT10', 'POO6', 'FFC1h', 'T3', 'CCP6', 'TP10h', 'OI1', 'F10h', 'TPP10', 'FFC4h', 'AF5', 'AF10', 'TTP8', 'OI2', 'AF3h', 'AFp5', 'C2', 'I2h', 'FT8h', 'CCPz', 'CCP4h', 'P7h', 'PO7h', 'FFT7h', 'T10', 'PPO8h', 'POO7h', 'AFF5', 'PPO9h', 'T10h', 'F4h', 'FFC5', 'PO6h', 'AFF10h', 'AFF5h', 'T5', 'P5h', 'P10', 'PO6', 'FC3h', 'FFC6h', 'CPP2', 'AF2h', 'CP3h', 'T6', 'CP3', 'M1', 'P2', 'AFp9', 'CCP2h', 'P5', 'F1h', 'TP7h', 'F5', 'P9h', 'P3h', 'AFp9h', 'AFF4h', 'TPP9h', 'POO2', 'P8h', 'FCC1', 'AFp5h', 'TPP8h', 'Fp2h', 'PO3', 'P4h', 'PO3h', 'TPP7', 'AFp4', 'FFCz', 'AFz', 'FFT7', 'AFF6h', 'AFF8h', 'FFT9h', 'PO2h', 'PPO7', 'TTP7h', 'C1', 'AF1h', 'FFT10h', 'T8h', 'PO1h', 'AFp1', 'A2', 'C4h', 'AF6h', 'CPP3h', 'AFF8', 'PPO6', 'FC3', 'AFF6', 'POO3h', 'CP1h', 'AF8', 'Iz', 'FFC4', 'P10h', 'P2h', 'AFp6', 'AFF1h', 'I2', 'TP8', 'TTP9h', 'FFC3', 'POO7', 'FTT9h', 'CCP3h', 'CPP5h', 'AFF2', 'OIz', 'AFp10h', 'AFp10', 'CPP1', 'AF9', 'O2h', 'OI1h', 'C1h', 'PO5h', 'F10', 'POO9h'}\n"
     ]
    },
    {
     "name": "stderr",
     "output_type": "stream",
     "text": [
      "<ipython-input-1-81fa588ad679>:54: RuntimeWarning: 1 channel names are too long, have been truncated to 15 characters:\n",
      "['BothStartLoadPhase']\n",
      "  info = create_info(ch_names,sfreq=500.0,ch_types=ch_type,montage = montage)\n",
      "/home/yaoxiaojian/anaconda3/lib/python3.7/site-packages/scipy/signal/_arraytools.py:45: FutureWarning: Using a non-tuple sequence for multidimensional indexing is deprecated; use `arr[tuple(seq)]` instead of `arr[seq]`. In the future this will be interpreted as an array index, `arr[np.array(seq)]`, which will result either in an error or a different result.\n",
      "  b = a[a_slice]\n",
      "/home/yaoxiaojian/anaconda3/lib/python3.7/site-packages/scipy/signal/_arraytools.py:45: FutureWarning: Using a non-tuple sequence for multidimensional indexing is deprecated; use `arr[tuple(seq)]` instead of `arr[seq]`. In the future this will be interpreted as an array index, `arr[np.array(seq)]`, which will result either in an error or a different result.\n",
      "  b = a[a_slice]\n",
      "/home/yaoxiaojian/anaconda3/lib/python3.7/site-packages/scipy/signal/_arraytools.py:45: FutureWarning: Using a non-tuple sequence for multidimensional indexing is deprecated; use `arr[tuple(seq)]` instead of `arr[seq]`. In the future this will be interpreted as an array index, `arr[np.array(seq)]`, which will result either in an error or a different result.\n",
      "  b = a[a_slice]\n",
      "/home/yaoxiaojian/anaconda3/lib/python3.7/site-packages/scipy/signal/_arraytools.py:45: FutureWarning: Using a non-tuple sequence for multidimensional indexing is deprecated; use `arr[tuple(seq)]` instead of `arr[seq]`. In the future this will be interpreted as an array index, `arr[np.array(seq)]`, which will result either in an error or a different result.\n",
      "  b = a[a_slice]\n",
      "/home/yaoxiaojian/anaconda3/lib/python3.7/site-packages/scipy/signal/_arraytools.py:45: FutureWarning: Using a non-tuple sequence for multidimensional indexing is deprecated; use `arr[tuple(seq)]` instead of `arr[seq]`. In the future this will be interpreted as an array index, `arr[np.array(seq)]`, which will result either in an error or a different result.\n",
      "  b = a[a_slice]\n",
      "/home/yaoxiaojian/anaconda3/lib/python3.7/site-packages/scipy/signal/_arraytools.py:45: FutureWarning: Using a non-tuple sequence for multidimensional indexing is deprecated; use `arr[tuple(seq)]` instead of `arr[seq]`. In the future this will be interpreted as an array index, `arr[np.array(seq)]`, which will result either in an error or a different result.\n",
      "  b = a[a_slice]\n",
      "/home/yaoxiaojian/anaconda3/lib/python3.7/site-packages/scipy/signal/_arraytools.py:45: FutureWarning: Using a non-tuple sequence for multidimensional indexing is deprecated; use `arr[tuple(seq)]` instead of `arr[seq]`. In the future this will be interpreted as an array index, `arr[np.array(seq)]`, which will result either in an error or a different result.\n",
      "  b = a[a_slice]\n",
      "/home/yaoxiaojian/anaconda3/lib/python3.7/site-packages/scipy/signal/_arraytools.py:45: FutureWarning: Using a non-tuple sequence for multidimensional indexing is deprecated; use `arr[tuple(seq)]` instead of `arr[seq]`. In the future this will be interpreted as an array index, `arr[np.array(seq)]`, which will result either in an error or a different result.\n",
      "  b = a[a_slice]\n"
     ]
    },
    {
     "name": "stdout",
     "output_type": "stream",
     "text": [
      "DigMontage is a superset of info. 311 in DigMontage will be ignored. The ignored channels are: {'PPO3h', 'FFC2h', 'PPOz', 'FCC5h', 'POO5h', 'OI2h', 'AFp7', 'AFF10', 'FCC4', 'POz', 'CCP1', 'PPO9', 'FTT8h', 'FFT8', 'FCC3h', 'PPO10h', 'AFF9', 'F9', 'O1h', 'FT10h', 'F3h', 'F6', 'FFC2', 'F2h', 'AFp6h', 'AFpz', 'PPO3', 'PO8', 'FC2h', 'PPO1', 'T4', 'AF9h', 'POO9', 'AFp1h', 'TPP8', 'CCP5h', 'PPO8', 'FCC6', 'AFp4h', 'P1', 'POO8h', 'FT9h', 'FTT7h', 'CPP6h', 'FC4h', 'PPO4', 'Fpz', 'C6h', 'F5h', 'FFT10', 'POO1h', 'FCC2h', 'AFp3h', 'PO8h', 'CPP3', 'PPO5', 'FC5h', 'AF6', 'P6', 'P1h', 'PO4h', 'TTP7', 'FFT9', 'POO4h', 'PO10h', 'AFF9h', 'POO10h', 'PO4', 'F2', 'AFp7h', 'FCz', 'FFC1', 'POO1', 'CPP2h', 'CP4', 'PO2', 'CCP1h', 'C5h', 'I1', 'FFC5h', 'FC6h', 'FT9', 'Fp1h', 'AFF2h', 'FFC3h', 'F7h', 'PPO2', 'FTT8', 'PO9h', 'AF4h', 'F6h', 'AFF4', 'FC1h', 'AFF3h', 'TP8h', 'CPP1h', 'F1', 'AF10h', 'CPPz', 'FCC3', 'TPP7h', 'CCP6h', 'C5', 'T9', 'FCC6h', 'C3h', 'I1h', 'CPP4', 'FT10', 'TPP10h', 'TTP10', 'CPP6', 'FT7h', 'FFC6', 'FCC2', 'AFFz', 'C2h', 'P6h', 'FCC5', 'POO8', 'M2', 'FCC1h', 'POO3', 'AF7', 'TP9h', 'AFF7', 'PPO2h', 'CP6h', 'T7h', 'F9h', 'CPP5', 'TTP9', 'AF3', 'PPO5h', 'PPO6h', 'FT8', 'AFp2', 'AF4', 'PPO10', 'PO5', 'AFp3', 'FCC4h', 'CCP4', 'AFp2h', 'FTT7', 'P9', 'AFF3', 'AF7h', 'CCP5', 'FFT8h', 'FC4', 'AFp8', 'PPO1h', 'AFF1', 'CP5h', 'AF2', 'PPO7h', 'AF5h', 'POO5', 'TPP9', 'CPz', 'FCCz', 'FTT9', 'POO10', 'C6', 'AF8h', 'POO6h', 'POO2h', 'PO7', 'FTT10h', 'TTP10h', 'A1', 'PO1', 'CPP4h', 'CCP3', 'T9h', 'TP7', 'AF1', 'TTP8h', 'CP4h', 'AFF7h', 'F8h', 'POO4', 'FT7', 'PPO4h', 'POOz', 'CP2h', 'AFp8h', 'CCP2', 'FTT10', 'POO6', 'FFC1h', 'T3', 'CCP6', 'TP10h', 'OI1', 'F10h', 'TPP10', 'FFC4h', 'AF5', 'AF10', 'TTP8', 'OI2', 'AF3h', 'AFp5', 'C2', 'I2h', 'FT8h', 'CCPz', 'CCP4h', 'P7h', 'PO7h', 'FFT7h', 'T10', 'PPO8h', 'POO7h', 'AFF5', 'PPO9h', 'T10h', 'F4h', 'FFC5', 'PO6h', 'AFF10h', 'AFF5h', 'T5', 'P5h', 'P10', 'PO6', 'FC3h', 'FFC6h', 'CPP2', 'AF2h', 'CP3h', 'T6', 'CP3', 'M1', 'P2', 'AFp9', 'CCP2h', 'P5', 'F1h', 'TP7h', 'F5', 'P9h', 'P3h', 'AFp9h', 'AFF4h', 'TPP9h', 'POO2', 'P8h', 'FCC1', 'AFp5h', 'TPP8h', 'Fp2h', 'PO3', 'P4h', 'PO3h', 'TPP7', 'AFp4', 'FFCz', 'AFz', 'FFT7', 'AFF6h', 'AFF8h', 'FFT9h', 'PO2h', 'PPO7', 'TTP7h', 'C1', 'AF1h', 'FFT10h', 'T8h', 'PO1h', 'AFp1', 'A2', 'C4h', 'AF6h', 'CPP3h', 'AFF8', 'PPO6', 'FC3', 'AFF6', 'POO3h', 'CP1h', 'AF8', 'Iz', 'FFC4', 'P10h', 'P2h', 'AFp6', 'AFF1h', 'I2', 'TP8', 'TTP9h', 'FFC3', 'POO7', 'FTT9h', 'CCP3h', 'CPP5h', 'AFF2', 'OIz', 'AFp10h', 'AFp10', 'CPP1', 'AF9', 'O2h', 'OI1h', 'C1h', 'PO5h', 'F10', 'POO9h'}\n"
     ]
    },
    {
     "name": "stderr",
     "output_type": "stream",
     "text": [
      "<ipython-input-1-81fa588ad679>:54: RuntimeWarning: 1 channel names are too long, have been truncated to 15 characters:\n",
      "['BothStartLoadPhase']\n",
      "  info = create_info(ch_names,sfreq=500.0,ch_types=ch_type,montage = montage)\n",
      "/home/yaoxiaojian/anaconda3/lib/python3.7/site-packages/scipy/signal/_arraytools.py:45: FutureWarning: Using a non-tuple sequence for multidimensional indexing is deprecated; use `arr[tuple(seq)]` instead of `arr[seq]`. In the future this will be interpreted as an array index, `arr[np.array(seq)]`, which will result either in an error or a different result.\n",
      "  b = a[a_slice]\n",
      "/home/yaoxiaojian/anaconda3/lib/python3.7/site-packages/scipy/signal/_arraytools.py:45: FutureWarning: Using a non-tuple sequence for multidimensional indexing is deprecated; use `arr[tuple(seq)]` instead of `arr[seq]`. In the future this will be interpreted as an array index, `arr[np.array(seq)]`, which will result either in an error or a different result.\n",
      "  b = a[a_slice]\n",
      "/home/yaoxiaojian/anaconda3/lib/python3.7/site-packages/scipy/signal/_arraytools.py:45: FutureWarning: Using a non-tuple sequence for multidimensional indexing is deprecated; use `arr[tuple(seq)]` instead of `arr[seq]`. In the future this will be interpreted as an array index, `arr[np.array(seq)]`, which will result either in an error or a different result.\n",
      "  b = a[a_slice]\n",
      "/home/yaoxiaojian/anaconda3/lib/python3.7/site-packages/scipy/signal/_arraytools.py:45: FutureWarning: Using a non-tuple sequence for multidimensional indexing is deprecated; use `arr[tuple(seq)]` instead of `arr[seq]`. In the future this will be interpreted as an array index, `arr[np.array(seq)]`, which will result either in an error or a different result.\n",
      "  b = a[a_slice]\n",
      "/home/yaoxiaojian/anaconda3/lib/python3.7/site-packages/scipy/signal/_arraytools.py:45: FutureWarning: Using a non-tuple sequence for multidimensional indexing is deprecated; use `arr[tuple(seq)]` instead of `arr[seq]`. In the future this will be interpreted as an array index, `arr[np.array(seq)]`, which will result either in an error or a different result.\n",
      "  b = a[a_slice]\n",
      "/home/yaoxiaojian/anaconda3/lib/python3.7/site-packages/scipy/signal/_arraytools.py:45: FutureWarning: Using a non-tuple sequence for multidimensional indexing is deprecated; use `arr[tuple(seq)]` instead of `arr[seq]`. In the future this will be interpreted as an array index, `arr[np.array(seq)]`, which will result either in an error or a different result.\n",
      "  b = a[a_slice]\n",
      "/home/yaoxiaojian/anaconda3/lib/python3.7/site-packages/scipy/signal/_arraytools.py:45: FutureWarning: Using a non-tuple sequence for multidimensional indexing is deprecated; use `arr[tuple(seq)]` instead of `arr[seq]`. In the future this will be interpreted as an array index, `arr[np.array(seq)]`, which will result either in an error or a different result.\n",
      "  b = a[a_slice]\n",
      "/home/yaoxiaojian/anaconda3/lib/python3.7/site-packages/scipy/signal/_arraytools.py:45: FutureWarning: Using a non-tuple sequence for multidimensional indexing is deprecated; use `arr[tuple(seq)]` instead of `arr[seq]`. In the future this will be interpreted as an array index, `arr[np.array(seq)]`, which will result either in an error or a different result.\n",
      "  b = a[a_slice]\n"
     ]
    },
    {
     "name": "stdout",
     "output_type": "stream",
     "text": [
      "DigMontage is a superset of info. 311 in DigMontage will be ignored. The ignored channels are: {'PPO3h', 'FFC2h', 'PPOz', 'FCC5h', 'POO5h', 'OI2h', 'AFp7', 'AFF10', 'FCC4', 'POz', 'CCP1', 'PPO9', 'FTT8h', 'FFT8', 'FCC3h', 'PPO10h', 'AFF9', 'F9', 'O1h', 'FT10h', 'F3h', 'F6', 'FFC2', 'F2h', 'AFp6h', 'AFpz', 'PPO3', 'PO8', 'FC2h', 'PPO1', 'T4', 'AF9h', 'POO9', 'AFp1h', 'TPP8', 'CCP5h', 'PPO8', 'FCC6', 'AFp4h', 'P1', 'POO8h', 'FT9h', 'FTT7h', 'CPP6h', 'FC4h', 'PPO4', 'Fpz', 'C6h', 'F5h', 'FFT10', 'POO1h', 'FCC2h', 'AFp3h', 'PO8h', 'CPP3', 'PPO5', 'FC5h', 'AF6', 'P6', 'P1h', 'PO4h', 'TTP7', 'FFT9', 'POO4h', 'PO10h', 'AFF9h', 'POO10h', 'PO4', 'F2', 'AFp7h', 'FCz', 'FFC1', 'POO1', 'CPP2h', 'CP4', 'PO2', 'CCP1h', 'C5h', 'I1', 'FFC5h', 'FC6h', 'FT9', 'Fp1h', 'AFF2h', 'FFC3h', 'F7h', 'PPO2', 'FTT8', 'PO9h', 'AF4h', 'F6h', 'AFF4', 'FC1h', 'AFF3h', 'TP8h', 'CPP1h', 'F1', 'AF10h', 'CPPz', 'FCC3', 'TPP7h', 'CCP6h', 'C5', 'T9', 'FCC6h', 'C3h', 'I1h', 'CPP4', 'FT10', 'TPP10h', 'TTP10', 'CPP6', 'FT7h', 'FFC6', 'FCC2', 'AFFz', 'C2h', 'P6h', 'FCC5', 'POO8', 'M2', 'FCC1h', 'POO3', 'AF7', 'TP9h', 'AFF7', 'PPO2h', 'CP6h', 'T7h', 'F9h', 'CPP5', 'TTP9', 'AF3', 'PPO5h', 'PPO6h', 'FT8', 'AFp2', 'AF4', 'PPO10', 'PO5', 'AFp3', 'FCC4h', 'CCP4', 'AFp2h', 'FTT7', 'P9', 'AFF3', 'AF7h', 'CCP5', 'FFT8h', 'FC4', 'AFp8', 'PPO1h', 'AFF1', 'CP5h', 'AF2', 'PPO7h', 'AF5h', 'POO5', 'TPP9', 'CPz', 'FCCz', 'FTT9', 'POO10', 'C6', 'AF8h', 'POO6h', 'POO2h', 'PO7', 'FTT10h', 'TTP10h', 'A1', 'PO1', 'CPP4h', 'CCP3', 'T9h', 'TP7', 'AF1', 'TTP8h', 'CP4h', 'AFF7h', 'F8h', 'POO4', 'FT7', 'PPO4h', 'POOz', 'CP2h', 'AFp8h', 'CCP2', 'FTT10', 'POO6', 'FFC1h', 'T3', 'CCP6', 'TP10h', 'OI1', 'F10h', 'TPP10', 'FFC4h', 'AF5', 'AF10', 'TTP8', 'OI2', 'AF3h', 'AFp5', 'C2', 'I2h', 'FT8h', 'CCPz', 'CCP4h', 'P7h', 'PO7h', 'FFT7h', 'T10', 'PPO8h', 'POO7h', 'AFF5', 'PPO9h', 'T10h', 'F4h', 'FFC5', 'PO6h', 'AFF10h', 'AFF5h', 'T5', 'P5h', 'P10', 'PO6', 'FC3h', 'FFC6h', 'CPP2', 'AF2h', 'CP3h', 'T6', 'CP3', 'M1', 'P2', 'AFp9', 'CCP2h', 'P5', 'F1h', 'TP7h', 'F5', 'P9h', 'P3h', 'AFp9h', 'AFF4h', 'TPP9h', 'POO2', 'P8h', 'FCC1', 'AFp5h', 'TPP8h', 'Fp2h', 'PO3', 'P4h', 'PO3h', 'TPP7', 'AFp4', 'FFCz', 'AFz', 'FFT7', 'AFF6h', 'AFF8h', 'FFT9h', 'PO2h', 'PPO7', 'TTP7h', 'C1', 'AF1h', 'FFT10h', 'T8h', 'PO1h', 'AFp1', 'A2', 'C4h', 'AF6h', 'CPP3h', 'AFF8', 'PPO6', 'FC3', 'AFF6', 'POO3h', 'CP1h', 'AF8', 'Iz', 'FFC4', 'P10h', 'P2h', 'AFp6', 'AFF1h', 'I2', 'TP8', 'TTP9h', 'FFC3', 'POO7', 'FTT9h', 'CCP3h', 'CPP5h', 'AFF2', 'OIz', 'AFp10h', 'AFp10', 'CPP1', 'AF9', 'O2h', 'OI1h', 'C1h', 'PO5h', 'F10', 'POO9h'}\n"
     ]
    },
    {
     "name": "stderr",
     "output_type": "stream",
     "text": [
      "<ipython-input-1-81fa588ad679>:54: RuntimeWarning: 1 channel names are too long, have been truncated to 15 characters:\n",
      "['BothStartLoadPhase']\n",
      "  info = create_info(ch_names,sfreq=500.0,ch_types=ch_type,montage = montage)\n",
      "/home/yaoxiaojian/anaconda3/lib/python3.7/site-packages/scipy/signal/_arraytools.py:45: FutureWarning: Using a non-tuple sequence for multidimensional indexing is deprecated; use `arr[tuple(seq)]` instead of `arr[seq]`. In the future this will be interpreted as an array index, `arr[np.array(seq)]`, which will result either in an error or a different result.\n",
      "  b = a[a_slice]\n",
      "/home/yaoxiaojian/anaconda3/lib/python3.7/site-packages/scipy/signal/_arraytools.py:45: FutureWarning: Using a non-tuple sequence for multidimensional indexing is deprecated; use `arr[tuple(seq)]` instead of `arr[seq]`. In the future this will be interpreted as an array index, `arr[np.array(seq)]`, which will result either in an error or a different result.\n",
      "  b = a[a_slice]\n",
      "/home/yaoxiaojian/anaconda3/lib/python3.7/site-packages/scipy/signal/_arraytools.py:45: FutureWarning: Using a non-tuple sequence for multidimensional indexing is deprecated; use `arr[tuple(seq)]` instead of `arr[seq]`. In the future this will be interpreted as an array index, `arr[np.array(seq)]`, which will result either in an error or a different result.\n",
      "  b = a[a_slice]\n",
      "/home/yaoxiaojian/anaconda3/lib/python3.7/site-packages/scipy/signal/_arraytools.py:45: FutureWarning: Using a non-tuple sequence for multidimensional indexing is deprecated; use `arr[tuple(seq)]` instead of `arr[seq]`. In the future this will be interpreted as an array index, `arr[np.array(seq)]`, which will result either in an error or a different result.\n",
      "  b = a[a_slice]\n",
      "/home/yaoxiaojian/anaconda3/lib/python3.7/site-packages/scipy/signal/_arraytools.py:45: FutureWarning: Using a non-tuple sequence for multidimensional indexing is deprecated; use `arr[tuple(seq)]` instead of `arr[seq]`. In the future this will be interpreted as an array index, `arr[np.array(seq)]`, which will result either in an error or a different result.\n",
      "  b = a[a_slice]\n",
      "/home/yaoxiaojian/anaconda3/lib/python3.7/site-packages/scipy/signal/_arraytools.py:45: FutureWarning: Using a non-tuple sequence for multidimensional indexing is deprecated; use `arr[tuple(seq)]` instead of `arr[seq]`. In the future this will be interpreted as an array index, `arr[np.array(seq)]`, which will result either in an error or a different result.\n",
      "  b = a[a_slice]\n",
      "/home/yaoxiaojian/anaconda3/lib/python3.7/site-packages/scipy/signal/_arraytools.py:45: FutureWarning: Using a non-tuple sequence for multidimensional indexing is deprecated; use `arr[tuple(seq)]` instead of `arr[seq]`. In the future this will be interpreted as an array index, `arr[np.array(seq)]`, which will result either in an error or a different result.\n",
      "  b = a[a_slice]\n",
      "/home/yaoxiaojian/anaconda3/lib/python3.7/site-packages/scipy/signal/_arraytools.py:45: FutureWarning: Using a non-tuple sequence for multidimensional indexing is deprecated; use `arr[tuple(seq)]` instead of `arr[seq]`. In the future this will be interpreted as an array index, `arr[np.array(seq)]`, which will result either in an error or a different result.\n",
      "  b = a[a_slice]\n"
     ]
    },
    {
     "name": "stdout",
     "output_type": "stream",
     "text": [
      "DigMontage is a superset of info. 311 in DigMontage will be ignored. The ignored channels are: {'PPO3h', 'FFC2h', 'PPOz', 'FCC5h', 'POO5h', 'OI2h', 'AFp7', 'AFF10', 'FCC4', 'POz', 'CCP1', 'PPO9', 'FTT8h', 'FFT8', 'FCC3h', 'PPO10h', 'AFF9', 'F9', 'O1h', 'FT10h', 'F3h', 'F6', 'FFC2', 'F2h', 'AFp6h', 'AFpz', 'PPO3', 'PO8', 'FC2h', 'PPO1', 'T4', 'AF9h', 'POO9', 'AFp1h', 'TPP8', 'CCP5h', 'PPO8', 'FCC6', 'AFp4h', 'P1', 'POO8h', 'FT9h', 'FTT7h', 'CPP6h', 'FC4h', 'PPO4', 'Fpz', 'C6h', 'F5h', 'FFT10', 'POO1h', 'FCC2h', 'AFp3h', 'PO8h', 'CPP3', 'PPO5', 'FC5h', 'AF6', 'P6', 'P1h', 'PO4h', 'TTP7', 'FFT9', 'POO4h', 'PO10h', 'AFF9h', 'POO10h', 'PO4', 'F2', 'AFp7h', 'FCz', 'FFC1', 'POO1', 'CPP2h', 'CP4', 'PO2', 'CCP1h', 'C5h', 'I1', 'FFC5h', 'FC6h', 'FT9', 'Fp1h', 'AFF2h', 'FFC3h', 'F7h', 'PPO2', 'FTT8', 'PO9h', 'AF4h', 'F6h', 'AFF4', 'FC1h', 'AFF3h', 'TP8h', 'CPP1h', 'F1', 'AF10h', 'CPPz', 'FCC3', 'TPP7h', 'CCP6h', 'C5', 'T9', 'FCC6h', 'C3h', 'I1h', 'CPP4', 'FT10', 'TPP10h', 'TTP10', 'CPP6', 'FT7h', 'FFC6', 'FCC2', 'AFFz', 'C2h', 'P6h', 'FCC5', 'POO8', 'M2', 'FCC1h', 'POO3', 'AF7', 'TP9h', 'AFF7', 'PPO2h', 'CP6h', 'T7h', 'F9h', 'CPP5', 'TTP9', 'AF3', 'PPO5h', 'PPO6h', 'FT8', 'AFp2', 'AF4', 'PPO10', 'PO5', 'AFp3', 'FCC4h', 'CCP4', 'AFp2h', 'FTT7', 'P9', 'AFF3', 'AF7h', 'CCP5', 'FFT8h', 'FC4', 'AFp8', 'PPO1h', 'AFF1', 'CP5h', 'AF2', 'PPO7h', 'AF5h', 'POO5', 'TPP9', 'CPz', 'FCCz', 'FTT9', 'POO10', 'C6', 'AF8h', 'POO6h', 'POO2h', 'PO7', 'FTT10h', 'TTP10h', 'A1', 'PO1', 'CPP4h', 'CCP3', 'T9h', 'TP7', 'AF1', 'TTP8h', 'CP4h', 'AFF7h', 'F8h', 'POO4', 'FT7', 'PPO4h', 'POOz', 'CP2h', 'AFp8h', 'CCP2', 'FTT10', 'POO6', 'FFC1h', 'T3', 'CCP6', 'TP10h', 'OI1', 'F10h', 'TPP10', 'FFC4h', 'AF5', 'AF10', 'TTP8', 'OI2', 'AF3h', 'AFp5', 'C2', 'I2h', 'FT8h', 'CCPz', 'CCP4h', 'P7h', 'PO7h', 'FFT7h', 'T10', 'PPO8h', 'POO7h', 'AFF5', 'PPO9h', 'T10h', 'F4h', 'FFC5', 'PO6h', 'AFF10h', 'AFF5h', 'T5', 'P5h', 'P10', 'PO6', 'FC3h', 'FFC6h', 'CPP2', 'AF2h', 'CP3h', 'T6', 'CP3', 'M1', 'P2', 'AFp9', 'CCP2h', 'P5', 'F1h', 'TP7h', 'F5', 'P9h', 'P3h', 'AFp9h', 'AFF4h', 'TPP9h', 'POO2', 'P8h', 'FCC1', 'AFp5h', 'TPP8h', 'Fp2h', 'PO3', 'P4h', 'PO3h', 'TPP7', 'AFp4', 'FFCz', 'AFz', 'FFT7', 'AFF6h', 'AFF8h', 'FFT9h', 'PO2h', 'PPO7', 'TTP7h', 'C1', 'AF1h', 'FFT10h', 'T8h', 'PO1h', 'AFp1', 'A2', 'C4h', 'AF6h', 'CPP3h', 'AFF8', 'PPO6', 'FC3', 'AFF6', 'POO3h', 'CP1h', 'AF8', 'Iz', 'FFC4', 'P10h', 'P2h', 'AFp6', 'AFF1h', 'I2', 'TP8', 'TTP9h', 'FFC3', 'POO7', 'FTT9h', 'CCP3h', 'CPP5h', 'AFF2', 'OIz', 'AFp10h', 'AFp10', 'CPP1', 'AF9', 'O2h', 'OI1h', 'C1h', 'PO5h', 'F10', 'POO9h'}\n"
     ]
    },
    {
     "name": "stderr",
     "output_type": "stream",
     "text": [
      "<ipython-input-1-81fa588ad679>:54: RuntimeWarning: 1 channel names are too long, have been truncated to 15 characters:\n",
      "['BothStartLoadPhase']\n",
      "  info = create_info(ch_names,sfreq=500.0,ch_types=ch_type,montage = montage)\n",
      "/home/yaoxiaojian/anaconda3/lib/python3.7/site-packages/scipy/signal/_arraytools.py:45: FutureWarning: Using a non-tuple sequence for multidimensional indexing is deprecated; use `arr[tuple(seq)]` instead of `arr[seq]`. In the future this will be interpreted as an array index, `arr[np.array(seq)]`, which will result either in an error or a different result.\n",
      "  b = a[a_slice]\n",
      "/home/yaoxiaojian/anaconda3/lib/python3.7/site-packages/scipy/signal/_arraytools.py:45: FutureWarning: Using a non-tuple sequence for multidimensional indexing is deprecated; use `arr[tuple(seq)]` instead of `arr[seq]`. In the future this will be interpreted as an array index, `arr[np.array(seq)]`, which will result either in an error or a different result.\n",
      "  b = a[a_slice]\n",
      "/home/yaoxiaojian/anaconda3/lib/python3.7/site-packages/scipy/signal/_arraytools.py:45: FutureWarning: Using a non-tuple sequence for multidimensional indexing is deprecated; use `arr[tuple(seq)]` instead of `arr[seq]`. In the future this will be interpreted as an array index, `arr[np.array(seq)]`, which will result either in an error or a different result.\n",
      "  b = a[a_slice]\n",
      "/home/yaoxiaojian/anaconda3/lib/python3.7/site-packages/scipy/signal/_arraytools.py:45: FutureWarning: Using a non-tuple sequence for multidimensional indexing is deprecated; use `arr[tuple(seq)]` instead of `arr[seq]`. In the future this will be interpreted as an array index, `arr[np.array(seq)]`, which will result either in an error or a different result.\n",
      "  b = a[a_slice]\n",
      "/home/yaoxiaojian/anaconda3/lib/python3.7/site-packages/scipy/signal/_arraytools.py:45: FutureWarning: Using a non-tuple sequence for multidimensional indexing is deprecated; use `arr[tuple(seq)]` instead of `arr[seq]`. In the future this will be interpreted as an array index, `arr[np.array(seq)]`, which will result either in an error or a different result.\n",
      "  b = a[a_slice]\n",
      "/home/yaoxiaojian/anaconda3/lib/python3.7/site-packages/scipy/signal/_arraytools.py:45: FutureWarning: Using a non-tuple sequence for multidimensional indexing is deprecated; use `arr[tuple(seq)]` instead of `arr[seq]`. In the future this will be interpreted as an array index, `arr[np.array(seq)]`, which will result either in an error or a different result.\n",
      "  b = a[a_slice]\n",
      "/home/yaoxiaojian/anaconda3/lib/python3.7/site-packages/scipy/signal/_arraytools.py:45: FutureWarning: Using a non-tuple sequence for multidimensional indexing is deprecated; use `arr[tuple(seq)]` instead of `arr[seq]`. In the future this will be interpreted as an array index, `arr[np.array(seq)]`, which will result either in an error or a different result.\n",
      "  b = a[a_slice]\n",
      "/home/yaoxiaojian/anaconda3/lib/python3.7/site-packages/scipy/signal/_arraytools.py:45: FutureWarning: Using a non-tuple sequence for multidimensional indexing is deprecated; use `arr[tuple(seq)]` instead of `arr[seq]`. In the future this will be interpreted as an array index, `arr[np.array(seq)]`, which will result either in an error or a different result.\n",
      "  b = a[a_slice]\n"
     ]
    },
    {
     "name": "stdout",
     "output_type": "stream",
     "text": [
      "DigMontage is a superset of info. 311 in DigMontage will be ignored. The ignored channels are: {'PPO3h', 'FFC2h', 'PPOz', 'FCC5h', 'POO5h', 'OI2h', 'AFp7', 'AFF10', 'FCC4', 'POz', 'CCP1', 'PPO9', 'FTT8h', 'FFT8', 'FCC3h', 'PPO10h', 'AFF9', 'F9', 'O1h', 'FT10h', 'F3h', 'F6', 'FFC2', 'F2h', 'AFp6h', 'AFpz', 'PPO3', 'PO8', 'FC2h', 'PPO1', 'T4', 'AF9h', 'POO9', 'AFp1h', 'TPP8', 'CCP5h', 'PPO8', 'FCC6', 'AFp4h', 'P1', 'POO8h', 'FT9h', 'FTT7h', 'CPP6h', 'FC4h', 'PPO4', 'Fpz', 'C6h', 'F5h', 'FFT10', 'POO1h', 'FCC2h', 'AFp3h', 'PO8h', 'CPP3', 'PPO5', 'FC5h', 'AF6', 'P6', 'P1h', 'PO4h', 'TTP7', 'FFT9', 'POO4h', 'PO10h', 'AFF9h', 'POO10h', 'PO4', 'F2', 'AFp7h', 'FCz', 'FFC1', 'POO1', 'CPP2h', 'CP4', 'PO2', 'CCP1h', 'C5h', 'I1', 'FFC5h', 'FC6h', 'FT9', 'Fp1h', 'AFF2h', 'FFC3h', 'F7h', 'PPO2', 'FTT8', 'PO9h', 'AF4h', 'F6h', 'AFF4', 'FC1h', 'AFF3h', 'TP8h', 'CPP1h', 'F1', 'AF10h', 'CPPz', 'FCC3', 'TPP7h', 'CCP6h', 'C5', 'T9', 'FCC6h', 'C3h', 'I1h', 'CPP4', 'FT10', 'TPP10h', 'TTP10', 'CPP6', 'FT7h', 'FFC6', 'FCC2', 'AFFz', 'C2h', 'P6h', 'FCC5', 'POO8', 'M2', 'FCC1h', 'POO3', 'AF7', 'TP9h', 'AFF7', 'PPO2h', 'CP6h', 'T7h', 'F9h', 'CPP5', 'TTP9', 'AF3', 'PPO5h', 'PPO6h', 'FT8', 'AFp2', 'AF4', 'PPO10', 'PO5', 'AFp3', 'FCC4h', 'CCP4', 'AFp2h', 'FTT7', 'P9', 'AFF3', 'AF7h', 'CCP5', 'FFT8h', 'FC4', 'AFp8', 'PPO1h', 'AFF1', 'CP5h', 'AF2', 'PPO7h', 'AF5h', 'POO5', 'TPP9', 'CPz', 'FCCz', 'FTT9', 'POO10', 'C6', 'AF8h', 'POO6h', 'POO2h', 'PO7', 'FTT10h', 'TTP10h', 'A1', 'PO1', 'CPP4h', 'CCP3', 'T9h', 'TP7', 'AF1', 'TTP8h', 'CP4h', 'AFF7h', 'F8h', 'POO4', 'FT7', 'PPO4h', 'POOz', 'CP2h', 'AFp8h', 'CCP2', 'FTT10', 'POO6', 'FFC1h', 'T3', 'CCP6', 'TP10h', 'OI1', 'F10h', 'TPP10', 'FFC4h', 'AF5', 'AF10', 'TTP8', 'OI2', 'AF3h', 'AFp5', 'C2', 'I2h', 'FT8h', 'CCPz', 'CCP4h', 'P7h', 'PO7h', 'FFT7h', 'T10', 'PPO8h', 'POO7h', 'AFF5', 'PPO9h', 'T10h', 'F4h', 'FFC5', 'PO6h', 'AFF10h', 'AFF5h', 'T5', 'P5h', 'P10', 'PO6', 'FC3h', 'FFC6h', 'CPP2', 'AF2h', 'CP3h', 'T6', 'CP3', 'M1', 'P2', 'AFp9', 'CCP2h', 'P5', 'F1h', 'TP7h', 'F5', 'P9h', 'P3h', 'AFp9h', 'AFF4h', 'TPP9h', 'POO2', 'P8h', 'FCC1', 'AFp5h', 'TPP8h', 'Fp2h', 'PO3', 'P4h', 'PO3h', 'TPP7', 'AFp4', 'FFCz', 'AFz', 'FFT7', 'AFF6h', 'AFF8h', 'FFT9h', 'PO2h', 'PPO7', 'TTP7h', 'C1', 'AF1h', 'FFT10h', 'T8h', 'PO1h', 'AFp1', 'A2', 'C4h', 'AF6h', 'CPP3h', 'AFF8', 'PPO6', 'FC3', 'AFF6', 'POO3h', 'CP1h', 'AF8', 'Iz', 'FFC4', 'P10h', 'P2h', 'AFp6', 'AFF1h', 'I2', 'TP8', 'TTP9h', 'FFC3', 'POO7', 'FTT9h', 'CCP3h', 'CPP5h', 'AFF2', 'OIz', 'AFp10h', 'AFp10', 'CPP1', 'AF9', 'O2h', 'OI1h', 'C1h', 'PO5h', 'F10', 'POO9h'}\n"
     ]
    },
    {
     "name": "stderr",
     "output_type": "stream",
     "text": [
      "<ipython-input-1-81fa588ad679>:54: RuntimeWarning: 1 channel names are too long, have been truncated to 15 characters:\n",
      "['BothStartLoadPhase']\n",
      "  info = create_info(ch_names,sfreq=500.0,ch_types=ch_type,montage = montage)\n",
      "/home/yaoxiaojian/anaconda3/lib/python3.7/site-packages/scipy/signal/_arraytools.py:45: FutureWarning: Using a non-tuple sequence for multidimensional indexing is deprecated; use `arr[tuple(seq)]` instead of `arr[seq]`. In the future this will be interpreted as an array index, `arr[np.array(seq)]`, which will result either in an error or a different result.\n",
      "  b = a[a_slice]\n",
      "/home/yaoxiaojian/anaconda3/lib/python3.7/site-packages/scipy/signal/_arraytools.py:45: FutureWarning: Using a non-tuple sequence for multidimensional indexing is deprecated; use `arr[tuple(seq)]` instead of `arr[seq]`. In the future this will be interpreted as an array index, `arr[np.array(seq)]`, which will result either in an error or a different result.\n",
      "  b = a[a_slice]\n",
      "/home/yaoxiaojian/anaconda3/lib/python3.7/site-packages/scipy/signal/_arraytools.py:45: FutureWarning: Using a non-tuple sequence for multidimensional indexing is deprecated; use `arr[tuple(seq)]` instead of `arr[seq]`. In the future this will be interpreted as an array index, `arr[np.array(seq)]`, which will result either in an error or a different result.\n",
      "  b = a[a_slice]\n",
      "/home/yaoxiaojian/anaconda3/lib/python3.7/site-packages/scipy/signal/_arraytools.py:45: FutureWarning: Using a non-tuple sequence for multidimensional indexing is deprecated; use `arr[tuple(seq)]` instead of `arr[seq]`. In the future this will be interpreted as an array index, `arr[np.array(seq)]`, which will result either in an error or a different result.\n",
      "  b = a[a_slice]\n",
      "/home/yaoxiaojian/anaconda3/lib/python3.7/site-packages/scipy/signal/_arraytools.py:45: FutureWarning: Using a non-tuple sequence for multidimensional indexing is deprecated; use `arr[tuple(seq)]` instead of `arr[seq]`. In the future this will be interpreted as an array index, `arr[np.array(seq)]`, which will result either in an error or a different result.\n",
      "  b = a[a_slice]\n",
      "/home/yaoxiaojian/anaconda3/lib/python3.7/site-packages/scipy/signal/_arraytools.py:45: FutureWarning: Using a non-tuple sequence for multidimensional indexing is deprecated; use `arr[tuple(seq)]` instead of `arr[seq]`. In the future this will be interpreted as an array index, `arr[np.array(seq)]`, which will result either in an error or a different result.\n",
      "  b = a[a_slice]\n",
      "/home/yaoxiaojian/anaconda3/lib/python3.7/site-packages/scipy/signal/_arraytools.py:45: FutureWarning: Using a non-tuple sequence for multidimensional indexing is deprecated; use `arr[tuple(seq)]` instead of `arr[seq]`. In the future this will be interpreted as an array index, `arr[np.array(seq)]`, which will result either in an error or a different result.\n",
      "  b = a[a_slice]\n",
      "/home/yaoxiaojian/anaconda3/lib/python3.7/site-packages/scipy/signal/_arraytools.py:45: FutureWarning: Using a non-tuple sequence for multidimensional indexing is deprecated; use `arr[tuple(seq)]` instead of `arr[seq]`. In the future this will be interpreted as an array index, `arr[np.array(seq)]`, which will result either in an error or a different result.\n",
      "  b = a[a_slice]\n"
     ]
    },
    {
     "name": "stdout",
     "output_type": "stream",
     "text": [
      "DigMontage is a superset of info. 311 in DigMontage will be ignored. The ignored channels are: {'PPO3h', 'FFC2h', 'PPOz', 'FCC5h', 'POO5h', 'OI2h', 'AFp7', 'AFF10', 'FCC4', 'POz', 'CCP1', 'PPO9', 'FTT8h', 'FFT8', 'FCC3h', 'PPO10h', 'AFF9', 'F9', 'O1h', 'FT10h', 'F3h', 'F6', 'FFC2', 'F2h', 'AFp6h', 'AFpz', 'PPO3', 'PO8', 'FC2h', 'PPO1', 'T4', 'AF9h', 'POO9', 'AFp1h', 'TPP8', 'CCP5h', 'PPO8', 'FCC6', 'AFp4h', 'P1', 'POO8h', 'FT9h', 'FTT7h', 'CPP6h', 'FC4h', 'PPO4', 'Fpz', 'C6h', 'F5h', 'FFT10', 'POO1h', 'FCC2h', 'AFp3h', 'PO8h', 'CPP3', 'PPO5', 'FC5h', 'AF6', 'P6', 'P1h', 'PO4h', 'TTP7', 'FFT9', 'POO4h', 'PO10h', 'AFF9h', 'POO10h', 'PO4', 'F2', 'AFp7h', 'FCz', 'FFC1', 'POO1', 'CPP2h', 'CP4', 'PO2', 'CCP1h', 'C5h', 'I1', 'FFC5h', 'FC6h', 'FT9', 'Fp1h', 'AFF2h', 'FFC3h', 'F7h', 'PPO2', 'FTT8', 'PO9h', 'AF4h', 'F6h', 'AFF4', 'FC1h', 'AFF3h', 'TP8h', 'CPP1h', 'F1', 'AF10h', 'CPPz', 'FCC3', 'TPP7h', 'CCP6h', 'C5', 'T9', 'FCC6h', 'C3h', 'I1h', 'CPP4', 'FT10', 'TPP10h', 'TTP10', 'CPP6', 'FT7h', 'FFC6', 'FCC2', 'AFFz', 'C2h', 'P6h', 'FCC5', 'POO8', 'M2', 'FCC1h', 'POO3', 'AF7', 'TP9h', 'AFF7', 'PPO2h', 'CP6h', 'T7h', 'F9h', 'CPP5', 'TTP9', 'AF3', 'PPO5h', 'PPO6h', 'FT8', 'AFp2', 'AF4', 'PPO10', 'PO5', 'AFp3', 'FCC4h', 'CCP4', 'AFp2h', 'FTT7', 'P9', 'AFF3', 'AF7h', 'CCP5', 'FFT8h', 'FC4', 'AFp8', 'PPO1h', 'AFF1', 'CP5h', 'AF2', 'PPO7h', 'AF5h', 'POO5', 'TPP9', 'CPz', 'FCCz', 'FTT9', 'POO10', 'C6', 'AF8h', 'POO6h', 'POO2h', 'PO7', 'FTT10h', 'TTP10h', 'A1', 'PO1', 'CPP4h', 'CCP3', 'T9h', 'TP7', 'AF1', 'TTP8h', 'CP4h', 'AFF7h', 'F8h', 'POO4', 'FT7', 'PPO4h', 'POOz', 'CP2h', 'AFp8h', 'CCP2', 'FTT10', 'POO6', 'FFC1h', 'T3', 'CCP6', 'TP10h', 'OI1', 'F10h', 'TPP10', 'FFC4h', 'AF5', 'AF10', 'TTP8', 'OI2', 'AF3h', 'AFp5', 'C2', 'I2h', 'FT8h', 'CCPz', 'CCP4h', 'P7h', 'PO7h', 'FFT7h', 'T10', 'PPO8h', 'POO7h', 'AFF5', 'PPO9h', 'T10h', 'F4h', 'FFC5', 'PO6h', 'AFF10h', 'AFF5h', 'T5', 'P5h', 'P10', 'PO6', 'FC3h', 'FFC6h', 'CPP2', 'AF2h', 'CP3h', 'T6', 'CP3', 'M1', 'P2', 'AFp9', 'CCP2h', 'P5', 'F1h', 'TP7h', 'F5', 'P9h', 'P3h', 'AFp9h', 'AFF4h', 'TPP9h', 'POO2', 'P8h', 'FCC1', 'AFp5h', 'TPP8h', 'Fp2h', 'PO3', 'P4h', 'PO3h', 'TPP7', 'AFp4', 'FFCz', 'AFz', 'FFT7', 'AFF6h', 'AFF8h', 'FFT9h', 'PO2h', 'PPO7', 'TTP7h', 'C1', 'AF1h', 'FFT10h', 'T8h', 'PO1h', 'AFp1', 'A2', 'C4h', 'AF6h', 'CPP3h', 'AFF8', 'PPO6', 'FC3', 'AFF6', 'POO3h', 'CP1h', 'AF8', 'Iz', 'FFC4', 'P10h', 'P2h', 'AFp6', 'AFF1h', 'I2', 'TP8', 'TTP9h', 'FFC3', 'POO7', 'FTT9h', 'CCP3h', 'CPP5h', 'AFF2', 'OIz', 'AFp10h', 'AFp10', 'CPP1', 'AF9', 'O2h', 'OI1h', 'C1h', 'PO5h', 'F10', 'POO9h'}\n"
     ]
    },
    {
     "name": "stderr",
     "output_type": "stream",
     "text": [
      "<ipython-input-1-81fa588ad679>:54: RuntimeWarning: 1 channel names are too long, have been truncated to 15 characters:\n",
      "['BothStartLoadPhase']\n",
      "  info = create_info(ch_names,sfreq=500.0,ch_types=ch_type,montage = montage)\n",
      "/home/yaoxiaojian/anaconda3/lib/python3.7/site-packages/scipy/signal/_arraytools.py:45: FutureWarning: Using a non-tuple sequence for multidimensional indexing is deprecated; use `arr[tuple(seq)]` instead of `arr[seq]`. In the future this will be interpreted as an array index, `arr[np.array(seq)]`, which will result either in an error or a different result.\n",
      "  b = a[a_slice]\n",
      "/home/yaoxiaojian/anaconda3/lib/python3.7/site-packages/scipy/signal/_arraytools.py:45: FutureWarning: Using a non-tuple sequence for multidimensional indexing is deprecated; use `arr[tuple(seq)]` instead of `arr[seq]`. In the future this will be interpreted as an array index, `arr[np.array(seq)]`, which will result either in an error or a different result.\n",
      "  b = a[a_slice]\n",
      "/home/yaoxiaojian/anaconda3/lib/python3.7/site-packages/scipy/signal/_arraytools.py:45: FutureWarning: Using a non-tuple sequence for multidimensional indexing is deprecated; use `arr[tuple(seq)]` instead of `arr[seq]`. In the future this will be interpreted as an array index, `arr[np.array(seq)]`, which will result either in an error or a different result.\n",
      "  b = a[a_slice]\n",
      "/home/yaoxiaojian/anaconda3/lib/python3.7/site-packages/scipy/signal/_arraytools.py:45: FutureWarning: Using a non-tuple sequence for multidimensional indexing is deprecated; use `arr[tuple(seq)]` instead of `arr[seq]`. In the future this will be interpreted as an array index, `arr[np.array(seq)]`, which will result either in an error or a different result.\n",
      "  b = a[a_slice]\n",
      "/home/yaoxiaojian/anaconda3/lib/python3.7/site-packages/scipy/signal/_arraytools.py:45: FutureWarning: Using a non-tuple sequence for multidimensional indexing is deprecated; use `arr[tuple(seq)]` instead of `arr[seq]`. In the future this will be interpreted as an array index, `arr[np.array(seq)]`, which will result either in an error or a different result.\n",
      "  b = a[a_slice]\n",
      "/home/yaoxiaojian/anaconda3/lib/python3.7/site-packages/scipy/signal/_arraytools.py:45: FutureWarning: Using a non-tuple sequence for multidimensional indexing is deprecated; use `arr[tuple(seq)]` instead of `arr[seq]`. In the future this will be interpreted as an array index, `arr[np.array(seq)]`, which will result either in an error or a different result.\n",
      "  b = a[a_slice]\n",
      "/home/yaoxiaojian/anaconda3/lib/python3.7/site-packages/scipy/signal/_arraytools.py:45: FutureWarning: Using a non-tuple sequence for multidimensional indexing is deprecated; use `arr[tuple(seq)]` instead of `arr[seq]`. In the future this will be interpreted as an array index, `arr[np.array(seq)]`, which will result either in an error or a different result.\n",
      "  b = a[a_slice]\n",
      "/home/yaoxiaojian/anaconda3/lib/python3.7/site-packages/scipy/signal/_arraytools.py:45: FutureWarning: Using a non-tuple sequence for multidimensional indexing is deprecated; use `arr[tuple(seq)]` instead of `arr[seq]`. In the future this will be interpreted as an array index, `arr[np.array(seq)]`, which will result either in an error or a different result.\n",
      "  b = a[a_slice]\n"
     ]
    },
    {
     "name": "stdout",
     "output_type": "stream",
     "text": [
      "DigMontage is a superset of info. 311 in DigMontage will be ignored. The ignored channels are: {'PPO3h', 'FFC2h', 'PPOz', 'FCC5h', 'POO5h', 'OI2h', 'AFp7', 'AFF10', 'FCC4', 'POz', 'CCP1', 'PPO9', 'FTT8h', 'FFT8', 'FCC3h', 'PPO10h', 'AFF9', 'F9', 'O1h', 'FT10h', 'F3h', 'F6', 'FFC2', 'F2h', 'AFp6h', 'AFpz', 'PPO3', 'PO8', 'FC2h', 'PPO1', 'T4', 'AF9h', 'POO9', 'AFp1h', 'TPP8', 'CCP5h', 'PPO8', 'FCC6', 'AFp4h', 'P1', 'POO8h', 'FT9h', 'FTT7h', 'CPP6h', 'FC4h', 'PPO4', 'Fpz', 'C6h', 'F5h', 'FFT10', 'POO1h', 'FCC2h', 'AFp3h', 'PO8h', 'CPP3', 'PPO5', 'FC5h', 'AF6', 'P6', 'P1h', 'PO4h', 'TTP7', 'FFT9', 'POO4h', 'PO10h', 'AFF9h', 'POO10h', 'PO4', 'F2', 'AFp7h', 'FCz', 'FFC1', 'POO1', 'CPP2h', 'CP4', 'PO2', 'CCP1h', 'C5h', 'I1', 'FFC5h', 'FC6h', 'FT9', 'Fp1h', 'AFF2h', 'FFC3h', 'F7h', 'PPO2', 'FTT8', 'PO9h', 'AF4h', 'F6h', 'AFF4', 'FC1h', 'AFF3h', 'TP8h', 'CPP1h', 'F1', 'AF10h', 'CPPz', 'FCC3', 'TPP7h', 'CCP6h', 'C5', 'T9', 'FCC6h', 'C3h', 'I1h', 'CPP4', 'FT10', 'TPP10h', 'TTP10', 'CPP6', 'FT7h', 'FFC6', 'FCC2', 'AFFz', 'C2h', 'P6h', 'FCC5', 'POO8', 'M2', 'FCC1h', 'POO3', 'AF7', 'TP9h', 'AFF7', 'PPO2h', 'CP6h', 'T7h', 'F9h', 'CPP5', 'TTP9', 'AF3', 'PPO5h', 'PPO6h', 'FT8', 'AFp2', 'AF4', 'PPO10', 'PO5', 'AFp3', 'FCC4h', 'CCP4', 'AFp2h', 'FTT7', 'P9', 'AFF3', 'AF7h', 'CCP5', 'FFT8h', 'FC4', 'AFp8', 'PPO1h', 'AFF1', 'CP5h', 'AF2', 'PPO7h', 'AF5h', 'POO5', 'TPP9', 'CPz', 'FCCz', 'FTT9', 'POO10', 'C6', 'AF8h', 'POO6h', 'POO2h', 'PO7', 'FTT10h', 'TTP10h', 'A1', 'PO1', 'CPP4h', 'CCP3', 'T9h', 'TP7', 'AF1', 'TTP8h', 'CP4h', 'AFF7h', 'F8h', 'POO4', 'FT7', 'PPO4h', 'POOz', 'CP2h', 'AFp8h', 'CCP2', 'FTT10', 'POO6', 'FFC1h', 'T3', 'CCP6', 'TP10h', 'OI1', 'F10h', 'TPP10', 'FFC4h', 'AF5', 'AF10', 'TTP8', 'OI2', 'AF3h', 'AFp5', 'C2', 'I2h', 'FT8h', 'CCPz', 'CCP4h', 'P7h', 'PO7h', 'FFT7h', 'T10', 'PPO8h', 'POO7h', 'AFF5', 'PPO9h', 'T10h', 'F4h', 'FFC5', 'PO6h', 'AFF10h', 'AFF5h', 'T5', 'P5h', 'P10', 'PO6', 'FC3h', 'FFC6h', 'CPP2', 'AF2h', 'CP3h', 'T6', 'CP3', 'M1', 'P2', 'AFp9', 'CCP2h', 'P5', 'F1h', 'TP7h', 'F5', 'P9h', 'P3h', 'AFp9h', 'AFF4h', 'TPP9h', 'POO2', 'P8h', 'FCC1', 'AFp5h', 'TPP8h', 'Fp2h', 'PO3', 'P4h', 'PO3h', 'TPP7', 'AFp4', 'FFCz', 'AFz', 'FFT7', 'AFF6h', 'AFF8h', 'FFT9h', 'PO2h', 'PPO7', 'TTP7h', 'C1', 'AF1h', 'FFT10h', 'T8h', 'PO1h', 'AFp1', 'A2', 'C4h', 'AF6h', 'CPP3h', 'AFF8', 'PPO6', 'FC3', 'AFF6', 'POO3h', 'CP1h', 'AF8', 'Iz', 'FFC4', 'P10h', 'P2h', 'AFp6', 'AFF1h', 'I2', 'TP8', 'TTP9h', 'FFC3', 'POO7', 'FTT9h', 'CCP3h', 'CPP5h', 'AFF2', 'OIz', 'AFp10h', 'AFp10', 'CPP1', 'AF9', 'O2h', 'OI1h', 'C1h', 'PO5h', 'F10', 'POO9h'}\n"
     ]
    },
    {
     "name": "stderr",
     "output_type": "stream",
     "text": [
      "<ipython-input-1-81fa588ad679>:54: RuntimeWarning: 1 channel names are too long, have been truncated to 15 characters:\n",
      "['BothStartLoadPhase']\n",
      "  info = create_info(ch_names,sfreq=500.0,ch_types=ch_type,montage = montage)\n",
      "/home/yaoxiaojian/anaconda3/lib/python3.7/site-packages/scipy/signal/_arraytools.py:45: FutureWarning: Using a non-tuple sequence for multidimensional indexing is deprecated; use `arr[tuple(seq)]` instead of `arr[seq]`. In the future this will be interpreted as an array index, `arr[np.array(seq)]`, which will result either in an error or a different result.\n",
      "  b = a[a_slice]\n",
      "/home/yaoxiaojian/anaconda3/lib/python3.7/site-packages/scipy/signal/_arraytools.py:45: FutureWarning: Using a non-tuple sequence for multidimensional indexing is deprecated; use `arr[tuple(seq)]` instead of `arr[seq]`. In the future this will be interpreted as an array index, `arr[np.array(seq)]`, which will result either in an error or a different result.\n",
      "  b = a[a_slice]\n",
      "/home/yaoxiaojian/anaconda3/lib/python3.7/site-packages/scipy/signal/_arraytools.py:45: FutureWarning: Using a non-tuple sequence for multidimensional indexing is deprecated; use `arr[tuple(seq)]` instead of `arr[seq]`. In the future this will be interpreted as an array index, `arr[np.array(seq)]`, which will result either in an error or a different result.\n",
      "  b = a[a_slice]\n",
      "/home/yaoxiaojian/anaconda3/lib/python3.7/site-packages/scipy/signal/_arraytools.py:45: FutureWarning: Using a non-tuple sequence for multidimensional indexing is deprecated; use `arr[tuple(seq)]` instead of `arr[seq]`. In the future this will be interpreted as an array index, `arr[np.array(seq)]`, which will result either in an error or a different result.\n",
      "  b = a[a_slice]\n",
      "/home/yaoxiaojian/anaconda3/lib/python3.7/site-packages/scipy/signal/_arraytools.py:45: FutureWarning: Using a non-tuple sequence for multidimensional indexing is deprecated; use `arr[tuple(seq)]` instead of `arr[seq]`. In the future this will be interpreted as an array index, `arr[np.array(seq)]`, which will result either in an error or a different result.\n",
      "  b = a[a_slice]\n",
      "/home/yaoxiaojian/anaconda3/lib/python3.7/site-packages/scipy/signal/_arraytools.py:45: FutureWarning: Using a non-tuple sequence for multidimensional indexing is deprecated; use `arr[tuple(seq)]` instead of `arr[seq]`. In the future this will be interpreted as an array index, `arr[np.array(seq)]`, which will result either in an error or a different result.\n",
      "  b = a[a_slice]\n",
      "/home/yaoxiaojian/anaconda3/lib/python3.7/site-packages/scipy/signal/_arraytools.py:45: FutureWarning: Using a non-tuple sequence for multidimensional indexing is deprecated; use `arr[tuple(seq)]` instead of `arr[seq]`. In the future this will be interpreted as an array index, `arr[np.array(seq)]`, which will result either in an error or a different result.\n",
      "  b = a[a_slice]\n",
      "/home/yaoxiaojian/anaconda3/lib/python3.7/site-packages/scipy/signal/_arraytools.py:45: FutureWarning: Using a non-tuple sequence for multidimensional indexing is deprecated; use `arr[tuple(seq)]` instead of `arr[seq]`. In the future this will be interpreted as an array index, `arr[np.array(seq)]`, which will result either in an error or a different result.\n",
      "  b = a[a_slice]\n"
     ]
    },
    {
     "name": "stdout",
     "output_type": "stream",
     "text": [
      "DigMontage is a superset of info. 311 in DigMontage will be ignored. The ignored channels are: {'PPO3h', 'FFC2h', 'PPOz', 'FCC5h', 'POO5h', 'OI2h', 'AFp7', 'AFF10', 'FCC4', 'POz', 'CCP1', 'PPO9', 'FTT8h', 'FFT8', 'FCC3h', 'PPO10h', 'AFF9', 'F9', 'O1h', 'FT10h', 'F3h', 'F6', 'FFC2', 'F2h', 'AFp6h', 'AFpz', 'PPO3', 'PO8', 'FC2h', 'PPO1', 'T4', 'AF9h', 'POO9', 'AFp1h', 'TPP8', 'CCP5h', 'PPO8', 'FCC6', 'AFp4h', 'P1', 'POO8h', 'FT9h', 'FTT7h', 'CPP6h', 'FC4h', 'PPO4', 'Fpz', 'C6h', 'F5h', 'FFT10', 'POO1h', 'FCC2h', 'AFp3h', 'PO8h', 'CPP3', 'PPO5', 'FC5h', 'AF6', 'P6', 'P1h', 'PO4h', 'TTP7', 'FFT9', 'POO4h', 'PO10h', 'AFF9h', 'POO10h', 'PO4', 'F2', 'AFp7h', 'FCz', 'FFC1', 'POO1', 'CPP2h', 'CP4', 'PO2', 'CCP1h', 'C5h', 'I1', 'FFC5h', 'FC6h', 'FT9', 'Fp1h', 'AFF2h', 'FFC3h', 'F7h', 'PPO2', 'FTT8', 'PO9h', 'AF4h', 'F6h', 'AFF4', 'FC1h', 'AFF3h', 'TP8h', 'CPP1h', 'F1', 'AF10h', 'CPPz', 'FCC3', 'TPP7h', 'CCP6h', 'C5', 'T9', 'FCC6h', 'C3h', 'I1h', 'CPP4', 'FT10', 'TPP10h', 'TTP10', 'CPP6', 'FT7h', 'FFC6', 'FCC2', 'AFFz', 'C2h', 'P6h', 'FCC5', 'POO8', 'M2', 'FCC1h', 'POO3', 'AF7', 'TP9h', 'AFF7', 'PPO2h', 'CP6h', 'T7h', 'F9h', 'CPP5', 'TTP9', 'AF3', 'PPO5h', 'PPO6h', 'FT8', 'AFp2', 'AF4', 'PPO10', 'PO5', 'AFp3', 'FCC4h', 'CCP4', 'AFp2h', 'FTT7', 'P9', 'AFF3', 'AF7h', 'CCP5', 'FFT8h', 'FC4', 'AFp8', 'PPO1h', 'AFF1', 'CP5h', 'AF2', 'PPO7h', 'AF5h', 'POO5', 'TPP9', 'CPz', 'FCCz', 'FTT9', 'POO10', 'C6', 'AF8h', 'POO6h', 'POO2h', 'PO7', 'FTT10h', 'TTP10h', 'A1', 'PO1', 'CPP4h', 'CCP3', 'T9h', 'TP7', 'AF1', 'TTP8h', 'CP4h', 'AFF7h', 'F8h', 'POO4', 'FT7', 'PPO4h', 'POOz', 'CP2h', 'AFp8h', 'CCP2', 'FTT10', 'POO6', 'FFC1h', 'T3', 'CCP6', 'TP10h', 'OI1', 'F10h', 'TPP10', 'FFC4h', 'AF5', 'AF10', 'TTP8', 'OI2', 'AF3h', 'AFp5', 'C2', 'I2h', 'FT8h', 'CCPz', 'CCP4h', 'P7h', 'PO7h', 'FFT7h', 'T10', 'PPO8h', 'POO7h', 'AFF5', 'PPO9h', 'T10h', 'F4h', 'FFC5', 'PO6h', 'AFF10h', 'AFF5h', 'T5', 'P5h', 'P10', 'PO6', 'FC3h', 'FFC6h', 'CPP2', 'AF2h', 'CP3h', 'T6', 'CP3', 'M1', 'P2', 'AFp9', 'CCP2h', 'P5', 'F1h', 'TP7h', 'F5', 'P9h', 'P3h', 'AFp9h', 'AFF4h', 'TPP9h', 'POO2', 'P8h', 'FCC1', 'AFp5h', 'TPP8h', 'Fp2h', 'PO3', 'P4h', 'PO3h', 'TPP7', 'AFp4', 'FFCz', 'AFz', 'FFT7', 'AFF6h', 'AFF8h', 'FFT9h', 'PO2h', 'PPO7', 'TTP7h', 'C1', 'AF1h', 'FFT10h', 'T8h', 'PO1h', 'AFp1', 'A2', 'C4h', 'AF6h', 'CPP3h', 'AFF8', 'PPO6', 'FC3', 'AFF6', 'POO3h', 'CP1h', 'AF8', 'Iz', 'FFC4', 'P10h', 'P2h', 'AFp6', 'AFF1h', 'I2', 'TP8', 'TTP9h', 'FFC3', 'POO7', 'FTT9h', 'CCP3h', 'CPP5h', 'AFF2', 'OIz', 'AFp10h', 'AFp10', 'CPP1', 'AF9', 'O2h', 'OI1h', 'C1h', 'PO5h', 'F10', 'POO9h'}\n"
     ]
    },
    {
     "name": "stderr",
     "output_type": "stream",
     "text": [
      "<ipython-input-1-81fa588ad679>:54: RuntimeWarning: 1 channel names are too long, have been truncated to 15 characters:\n",
      "['BothStartLoadPhase']\n",
      "  info = create_info(ch_names,sfreq=500.0,ch_types=ch_type,montage = montage)\n",
      "/home/yaoxiaojian/anaconda3/lib/python3.7/site-packages/scipy/signal/_arraytools.py:45: FutureWarning: Using a non-tuple sequence for multidimensional indexing is deprecated; use `arr[tuple(seq)]` instead of `arr[seq]`. In the future this will be interpreted as an array index, `arr[np.array(seq)]`, which will result either in an error or a different result.\n",
      "  b = a[a_slice]\n",
      "/home/yaoxiaojian/anaconda3/lib/python3.7/site-packages/scipy/signal/_arraytools.py:45: FutureWarning: Using a non-tuple sequence for multidimensional indexing is deprecated; use `arr[tuple(seq)]` instead of `arr[seq]`. In the future this will be interpreted as an array index, `arr[np.array(seq)]`, which will result either in an error or a different result.\n",
      "  b = a[a_slice]\n",
      "/home/yaoxiaojian/anaconda3/lib/python3.7/site-packages/scipy/signal/_arraytools.py:45: FutureWarning: Using a non-tuple sequence for multidimensional indexing is deprecated; use `arr[tuple(seq)]` instead of `arr[seq]`. In the future this will be interpreted as an array index, `arr[np.array(seq)]`, which will result either in an error or a different result.\n",
      "  b = a[a_slice]\n",
      "/home/yaoxiaojian/anaconda3/lib/python3.7/site-packages/scipy/signal/_arraytools.py:45: FutureWarning: Using a non-tuple sequence for multidimensional indexing is deprecated; use `arr[tuple(seq)]` instead of `arr[seq]`. In the future this will be interpreted as an array index, `arr[np.array(seq)]`, which will result either in an error or a different result.\n",
      "  b = a[a_slice]\n",
      "/home/yaoxiaojian/anaconda3/lib/python3.7/site-packages/scipy/signal/_arraytools.py:45: FutureWarning: Using a non-tuple sequence for multidimensional indexing is deprecated; use `arr[tuple(seq)]` instead of `arr[seq]`. In the future this will be interpreted as an array index, `arr[np.array(seq)]`, which will result either in an error or a different result.\n",
      "  b = a[a_slice]\n",
      "/home/yaoxiaojian/anaconda3/lib/python3.7/site-packages/scipy/signal/_arraytools.py:45: FutureWarning: Using a non-tuple sequence for multidimensional indexing is deprecated; use `arr[tuple(seq)]` instead of `arr[seq]`. In the future this will be interpreted as an array index, `arr[np.array(seq)]`, which will result either in an error or a different result.\n",
      "  b = a[a_slice]\n",
      "/home/yaoxiaojian/anaconda3/lib/python3.7/site-packages/scipy/signal/_arraytools.py:45: FutureWarning: Using a non-tuple sequence for multidimensional indexing is deprecated; use `arr[tuple(seq)]` instead of `arr[seq]`. In the future this will be interpreted as an array index, `arr[np.array(seq)]`, which will result either in an error or a different result.\n",
      "  b = a[a_slice]\n",
      "/home/yaoxiaojian/anaconda3/lib/python3.7/site-packages/scipy/signal/_arraytools.py:45: FutureWarning: Using a non-tuple sequence for multidimensional indexing is deprecated; use `arr[tuple(seq)]` instead of `arr[seq]`. In the future this will be interpreted as an array index, `arr[np.array(seq)]`, which will result either in an error or a different result.\n",
      "  b = a[a_slice]\n"
     ]
    },
    {
     "name": "stdout",
     "output_type": "stream",
     "text": [
      "subject 7 (1555, 64, 751)\n",
      "data stack shape: (10915, 64, 751) (10915,)\n",
      "DigMontage is a superset of info. 311 in DigMontage will be ignored. The ignored channels are: {'PPO3h', 'FFC2h', 'PPOz', 'FCC5h', 'POO5h', 'OI2h', 'AFp7', 'AFF10', 'FCC4', 'POz', 'CCP1', 'PPO9', 'FTT8h', 'FFT8', 'FCC3h', 'PPO10h', 'AFF9', 'F9', 'O1h', 'FT10h', 'F3h', 'F6', 'FFC2', 'F2h', 'AFp6h', 'AFpz', 'PPO3', 'PO8', 'FC2h', 'PPO1', 'T4', 'AF9h', 'POO9', 'AFp1h', 'TPP8', 'CCP5h', 'PPO8', 'FCC6', 'AFp4h', 'P1', 'POO8h', 'FT9h', 'FTT7h', 'CPP6h', 'FC4h', 'PPO4', 'Fpz', 'C6h', 'F5h', 'FFT10', 'POO1h', 'FCC2h', 'AFp3h', 'PO8h', 'CPP3', 'PPO5', 'FC5h', 'AF6', 'P6', 'P1h', 'PO4h', 'TTP7', 'FFT9', 'POO4h', 'PO10h', 'AFF9h', 'POO10h', 'PO4', 'F2', 'AFp7h', 'FCz', 'FFC1', 'POO1', 'CPP2h', 'CP4', 'PO2', 'CCP1h', 'C5h', 'I1', 'FFC5h', 'FC6h', 'FT9', 'Fp1h', 'AFF2h', 'FFC3h', 'F7h', 'PPO2', 'FTT8', 'PO9h', 'AF4h', 'F6h', 'AFF4', 'FC1h', 'AFF3h', 'TP8h', 'CPP1h', 'F1', 'AF10h', 'CPPz', 'FCC3', 'TPP7h', 'CCP6h', 'C5', 'T9', 'FCC6h', 'C3h', 'I1h', 'CPP4', 'FT10', 'TPP10h', 'TTP10', 'CPP6', 'FT7h', 'FFC6', 'FCC2', 'AFFz', 'C2h', 'P6h', 'FCC5', 'POO8', 'M2', 'FCC1h', 'POO3', 'AF7', 'TP9h', 'AFF7', 'PPO2h', 'CP6h', 'T7h', 'F9h', 'CPP5', 'TTP9', 'AF3', 'PPO5h', 'PPO6h', 'FT8', 'AFp2', 'AF4', 'PPO10', 'PO5', 'AFp3', 'FCC4h', 'CCP4', 'AFp2h', 'FTT7', 'P9', 'AFF3', 'AF7h', 'CCP5', 'FFT8h', 'FC4', 'AFp8', 'PPO1h', 'AFF1', 'CP5h', 'AF2', 'PPO7h', 'AF5h', 'POO5', 'TPP9', 'CPz', 'FCCz', 'FTT9', 'POO10', 'C6', 'AF8h', 'POO6h', 'POO2h', 'PO7', 'FTT10h', 'TTP10h', 'A1', 'PO1', 'CPP4h', 'CCP3', 'T9h', 'TP7', 'AF1', 'TTP8h', 'CP4h', 'AFF7h', 'F8h', 'POO4', 'FT7', 'PPO4h', 'POOz', 'CP2h', 'AFp8h', 'CCP2', 'FTT10', 'POO6', 'FFC1h', 'T3', 'CCP6', 'TP10h', 'OI1', 'F10h', 'TPP10', 'FFC4h', 'AF5', 'AF10', 'TTP8', 'OI2', 'AF3h', 'AFp5', 'C2', 'I2h', 'FT8h', 'CCPz', 'CCP4h', 'P7h', 'PO7h', 'FFT7h', 'T10', 'PPO8h', 'POO7h', 'AFF5', 'PPO9h', 'T10h', 'F4h', 'FFC5', 'PO6h', 'AFF10h', 'AFF5h', 'T5', 'P5h', 'P10', 'PO6', 'FC3h', 'FFC6h', 'CPP2', 'AF2h', 'CP3h', 'T6', 'CP3', 'M1', 'P2', 'AFp9', 'CCP2h', 'P5', 'F1h', 'TP7h', 'F5', 'P9h', 'P3h', 'AFp9h', 'AFF4h', 'TPP9h', 'POO2', 'P8h', 'FCC1', 'AFp5h', 'TPP8h', 'Fp2h', 'PO3', 'P4h', 'PO3h', 'TPP7', 'AFp4', 'FFCz', 'AFz', 'FFT7', 'AFF6h', 'AFF8h', 'FFT9h', 'PO2h', 'PPO7', 'TTP7h', 'C1', 'AF1h', 'FFT10h', 'T8h', 'PO1h', 'AFp1', 'A2', 'C4h', 'AF6h', 'CPP3h', 'AFF8', 'PPO6', 'FC3', 'AFF6', 'POO3h', 'CP1h', 'AF8', 'Iz', 'FFC4', 'P10h', 'P2h', 'AFp6', 'AFF1h', 'I2', 'TP8', 'TTP9h', 'FFC3', 'POO7', 'FTT9h', 'CCP3h', 'CPP5h', 'AFF2', 'OIz', 'AFp10h', 'AFp10', 'CPP1', 'AF9', 'O2h', 'OI1h', 'C1h', 'PO5h', 'F10', 'POO9h'}\n"
     ]
    },
    {
     "name": "stderr",
     "output_type": "stream",
     "text": [
      "<ipython-input-1-81fa588ad679>:54: RuntimeWarning: 1 channel names are too long, have been truncated to 15 characters:\n",
      "['BothStartLoadPhase']\n",
      "  info = create_info(ch_names,sfreq=500.0,ch_types=ch_type,montage = montage)\n",
      "/home/yaoxiaojian/anaconda3/lib/python3.7/site-packages/scipy/signal/_arraytools.py:45: FutureWarning: Using a non-tuple sequence for multidimensional indexing is deprecated; use `arr[tuple(seq)]` instead of `arr[seq]`. In the future this will be interpreted as an array index, `arr[np.array(seq)]`, which will result either in an error or a different result.\n",
      "  b = a[a_slice]\n",
      "/home/yaoxiaojian/anaconda3/lib/python3.7/site-packages/scipy/signal/_arraytools.py:45: FutureWarning: Using a non-tuple sequence for multidimensional indexing is deprecated; use `arr[tuple(seq)]` instead of `arr[seq]`. In the future this will be interpreted as an array index, `arr[np.array(seq)]`, which will result either in an error or a different result.\n",
      "  b = a[a_slice]\n",
      "/home/yaoxiaojian/anaconda3/lib/python3.7/site-packages/scipy/signal/_arraytools.py:45: FutureWarning: Using a non-tuple sequence for multidimensional indexing is deprecated; use `arr[tuple(seq)]` instead of `arr[seq]`. In the future this will be interpreted as an array index, `arr[np.array(seq)]`, which will result either in an error or a different result.\n",
      "  b = a[a_slice]\n",
      "/home/yaoxiaojian/anaconda3/lib/python3.7/site-packages/scipy/signal/_arraytools.py:45: FutureWarning: Using a non-tuple sequence for multidimensional indexing is deprecated; use `arr[tuple(seq)]` instead of `arr[seq]`. In the future this will be interpreted as an array index, `arr[np.array(seq)]`, which will result either in an error or a different result.\n",
      "  b = a[a_slice]\n",
      "/home/yaoxiaojian/anaconda3/lib/python3.7/site-packages/scipy/signal/_arraytools.py:45: FutureWarning: Using a non-tuple sequence for multidimensional indexing is deprecated; use `arr[tuple(seq)]` instead of `arr[seq]`. In the future this will be interpreted as an array index, `arr[np.array(seq)]`, which will result either in an error or a different result.\n",
      "  b = a[a_slice]\n",
      "/home/yaoxiaojian/anaconda3/lib/python3.7/site-packages/scipy/signal/_arraytools.py:45: FutureWarning: Using a non-tuple sequence for multidimensional indexing is deprecated; use `arr[tuple(seq)]` instead of `arr[seq]`. In the future this will be interpreted as an array index, `arr[np.array(seq)]`, which will result either in an error or a different result.\n",
      "  b = a[a_slice]\n",
      "/home/yaoxiaojian/anaconda3/lib/python3.7/site-packages/scipy/signal/_arraytools.py:45: FutureWarning: Using a non-tuple sequence for multidimensional indexing is deprecated; use `arr[tuple(seq)]` instead of `arr[seq]`. In the future this will be interpreted as an array index, `arr[np.array(seq)]`, which will result either in an error or a different result.\n",
      "  b = a[a_slice]\n",
      "/home/yaoxiaojian/anaconda3/lib/python3.7/site-packages/scipy/signal/_arraytools.py:45: FutureWarning: Using a non-tuple sequence for multidimensional indexing is deprecated; use `arr[tuple(seq)]` instead of `arr[seq]`. In the future this will be interpreted as an array index, `arr[np.array(seq)]`, which will result either in an error or a different result.\n",
      "  b = a[a_slice]\n"
     ]
    },
    {
     "name": "stdout",
     "output_type": "stream",
     "text": [
      "DigMontage is a superset of info. 311 in DigMontage will be ignored. The ignored channels are: {'PPO3h', 'FFC2h', 'PPOz', 'FCC5h', 'POO5h', 'OI2h', 'AFp7', 'AFF10', 'FCC4', 'POz', 'CCP1', 'PPO9', 'FTT8h', 'FFT8', 'FCC3h', 'PPO10h', 'AFF9', 'F9', 'O1h', 'FT10h', 'F3h', 'F6', 'FFC2', 'F2h', 'AFp6h', 'AFpz', 'PPO3', 'PO8', 'FC2h', 'PPO1', 'T4', 'AF9h', 'POO9', 'AFp1h', 'TPP8', 'CCP5h', 'PPO8', 'FCC6', 'AFp4h', 'P1', 'POO8h', 'FT9h', 'FTT7h', 'CPP6h', 'FC4h', 'PPO4', 'Fpz', 'C6h', 'F5h', 'FFT10', 'POO1h', 'FCC2h', 'AFp3h', 'PO8h', 'CPP3', 'PPO5', 'FC5h', 'AF6', 'P6', 'P1h', 'PO4h', 'TTP7', 'FFT9', 'POO4h', 'PO10h', 'AFF9h', 'POO10h', 'PO4', 'F2', 'AFp7h', 'FCz', 'FFC1', 'POO1', 'CPP2h', 'CP4', 'PO2', 'CCP1h', 'C5h', 'I1', 'FFC5h', 'FC6h', 'FT9', 'Fp1h', 'AFF2h', 'FFC3h', 'F7h', 'PPO2', 'FTT8', 'PO9h', 'AF4h', 'F6h', 'AFF4', 'FC1h', 'AFF3h', 'TP8h', 'CPP1h', 'F1', 'AF10h', 'CPPz', 'FCC3', 'TPP7h', 'CCP6h', 'C5', 'T9', 'FCC6h', 'C3h', 'I1h', 'CPP4', 'FT10', 'TPP10h', 'TTP10', 'CPP6', 'FT7h', 'FFC6', 'FCC2', 'AFFz', 'C2h', 'P6h', 'FCC5', 'POO8', 'M2', 'FCC1h', 'POO3', 'AF7', 'TP9h', 'AFF7', 'PPO2h', 'CP6h', 'T7h', 'F9h', 'CPP5', 'TTP9', 'AF3', 'PPO5h', 'PPO6h', 'FT8', 'AFp2', 'AF4', 'PPO10', 'PO5', 'AFp3', 'FCC4h', 'CCP4', 'AFp2h', 'FTT7', 'P9', 'AFF3', 'AF7h', 'CCP5', 'FFT8h', 'FC4', 'AFp8', 'PPO1h', 'AFF1', 'CP5h', 'AF2', 'PPO7h', 'AF5h', 'POO5', 'TPP9', 'CPz', 'FCCz', 'FTT9', 'POO10', 'C6', 'AF8h', 'POO6h', 'POO2h', 'PO7', 'FTT10h', 'TTP10h', 'A1', 'PO1', 'CPP4h', 'CCP3', 'T9h', 'TP7', 'AF1', 'TTP8h', 'CP4h', 'AFF7h', 'F8h', 'POO4', 'FT7', 'PPO4h', 'POOz', 'CP2h', 'AFp8h', 'CCP2', 'FTT10', 'POO6', 'FFC1h', 'T3', 'CCP6', 'TP10h', 'OI1', 'F10h', 'TPP10', 'FFC4h', 'AF5', 'AF10', 'TTP8', 'OI2', 'AF3h', 'AFp5', 'C2', 'I2h', 'FT8h', 'CCPz', 'CCP4h', 'P7h', 'PO7h', 'FFT7h', 'T10', 'PPO8h', 'POO7h', 'AFF5', 'PPO9h', 'T10h', 'F4h', 'FFC5', 'PO6h', 'AFF10h', 'AFF5h', 'T5', 'P5h', 'P10', 'PO6', 'FC3h', 'FFC6h', 'CPP2', 'AF2h', 'CP3h', 'T6', 'CP3', 'M1', 'P2', 'AFp9', 'CCP2h', 'P5', 'F1h', 'TP7h', 'F5', 'P9h', 'P3h', 'AFp9h', 'AFF4h', 'TPP9h', 'POO2', 'P8h', 'FCC1', 'AFp5h', 'TPP8h', 'Fp2h', 'PO3', 'P4h', 'PO3h', 'TPP7', 'AFp4', 'FFCz', 'AFz', 'FFT7', 'AFF6h', 'AFF8h', 'FFT9h', 'PO2h', 'PPO7', 'TTP7h', 'C1', 'AF1h', 'FFT10h', 'T8h', 'PO1h', 'AFp1', 'A2', 'C4h', 'AF6h', 'CPP3h', 'AFF8', 'PPO6', 'FC3', 'AFF6', 'POO3h', 'CP1h', 'AF8', 'Iz', 'FFC4', 'P10h', 'P2h', 'AFp6', 'AFF1h', 'I2', 'TP8', 'TTP9h', 'FFC3', 'POO7', 'FTT9h', 'CCP3h', 'CPP5h', 'AFF2', 'OIz', 'AFp10h', 'AFp10', 'CPP1', 'AF9', 'O2h', 'OI1h', 'C1h', 'PO5h', 'F10', 'POO9h'}\n"
     ]
    },
    {
     "name": "stderr",
     "output_type": "stream",
     "text": [
      "<ipython-input-1-81fa588ad679>:54: RuntimeWarning: 1 channel names are too long, have been truncated to 15 characters:\n",
      "['BothStartLoadPhase']\n",
      "  info = create_info(ch_names,sfreq=500.0,ch_types=ch_type,montage = montage)\n",
      "/home/yaoxiaojian/anaconda3/lib/python3.7/site-packages/scipy/signal/_arraytools.py:45: FutureWarning: Using a non-tuple sequence for multidimensional indexing is deprecated; use `arr[tuple(seq)]` instead of `arr[seq]`. In the future this will be interpreted as an array index, `arr[np.array(seq)]`, which will result either in an error or a different result.\n",
      "  b = a[a_slice]\n",
      "/home/yaoxiaojian/anaconda3/lib/python3.7/site-packages/scipy/signal/_arraytools.py:45: FutureWarning: Using a non-tuple sequence for multidimensional indexing is deprecated; use `arr[tuple(seq)]` instead of `arr[seq]`. In the future this will be interpreted as an array index, `arr[np.array(seq)]`, which will result either in an error or a different result.\n",
      "  b = a[a_slice]\n",
      "/home/yaoxiaojian/anaconda3/lib/python3.7/site-packages/scipy/signal/_arraytools.py:45: FutureWarning: Using a non-tuple sequence for multidimensional indexing is deprecated; use `arr[tuple(seq)]` instead of `arr[seq]`. In the future this will be interpreted as an array index, `arr[np.array(seq)]`, which will result either in an error or a different result.\n",
      "  b = a[a_slice]\n",
      "/home/yaoxiaojian/anaconda3/lib/python3.7/site-packages/scipy/signal/_arraytools.py:45: FutureWarning: Using a non-tuple sequence for multidimensional indexing is deprecated; use `arr[tuple(seq)]` instead of `arr[seq]`. In the future this will be interpreted as an array index, `arr[np.array(seq)]`, which will result either in an error or a different result.\n",
      "  b = a[a_slice]\n",
      "/home/yaoxiaojian/anaconda3/lib/python3.7/site-packages/scipy/signal/_arraytools.py:45: FutureWarning: Using a non-tuple sequence for multidimensional indexing is deprecated; use `arr[tuple(seq)]` instead of `arr[seq]`. In the future this will be interpreted as an array index, `arr[np.array(seq)]`, which will result either in an error or a different result.\n",
      "  b = a[a_slice]\n",
      "/home/yaoxiaojian/anaconda3/lib/python3.7/site-packages/scipy/signal/_arraytools.py:45: FutureWarning: Using a non-tuple sequence for multidimensional indexing is deprecated; use `arr[tuple(seq)]` instead of `arr[seq]`. In the future this will be interpreted as an array index, `arr[np.array(seq)]`, which will result either in an error or a different result.\n",
      "  b = a[a_slice]\n",
      "/home/yaoxiaojian/anaconda3/lib/python3.7/site-packages/scipy/signal/_arraytools.py:45: FutureWarning: Using a non-tuple sequence for multidimensional indexing is deprecated; use `arr[tuple(seq)]` instead of `arr[seq]`. In the future this will be interpreted as an array index, `arr[np.array(seq)]`, which will result either in an error or a different result.\n",
      "  b = a[a_slice]\n",
      "/home/yaoxiaojian/anaconda3/lib/python3.7/site-packages/scipy/signal/_arraytools.py:45: FutureWarning: Using a non-tuple sequence for multidimensional indexing is deprecated; use `arr[tuple(seq)]` instead of `arr[seq]`. In the future this will be interpreted as an array index, `arr[np.array(seq)]`, which will result either in an error or a different result.\n",
      "  b = a[a_slice]\n"
     ]
    },
    {
     "name": "stdout",
     "output_type": "stream",
     "text": [
      "DigMontage is a superset of info. 311 in DigMontage will be ignored. The ignored channels are: {'PPO3h', 'FFC2h', 'PPOz', 'FCC5h', 'POO5h', 'OI2h', 'AFp7', 'AFF10', 'FCC4', 'POz', 'CCP1', 'PPO9', 'FTT8h', 'FFT8', 'FCC3h', 'PPO10h', 'AFF9', 'F9', 'O1h', 'FT10h', 'F3h', 'F6', 'FFC2', 'F2h', 'AFp6h', 'AFpz', 'PPO3', 'PO8', 'FC2h', 'PPO1', 'T4', 'AF9h', 'POO9', 'AFp1h', 'TPP8', 'CCP5h', 'PPO8', 'FCC6', 'AFp4h', 'P1', 'POO8h', 'FT9h', 'FTT7h', 'CPP6h', 'FC4h', 'PPO4', 'Fpz', 'C6h', 'F5h', 'FFT10', 'POO1h', 'FCC2h', 'AFp3h', 'PO8h', 'CPP3', 'PPO5', 'FC5h', 'AF6', 'P6', 'P1h', 'PO4h', 'TTP7', 'FFT9', 'POO4h', 'PO10h', 'AFF9h', 'POO10h', 'PO4', 'F2', 'AFp7h', 'FCz', 'FFC1', 'POO1', 'CPP2h', 'CP4', 'PO2', 'CCP1h', 'C5h', 'I1', 'FFC5h', 'FC6h', 'FT9', 'Fp1h', 'AFF2h', 'FFC3h', 'F7h', 'PPO2', 'FTT8', 'PO9h', 'AF4h', 'F6h', 'AFF4', 'FC1h', 'AFF3h', 'TP8h', 'CPP1h', 'F1', 'AF10h', 'CPPz', 'FCC3', 'TPP7h', 'CCP6h', 'C5', 'T9', 'FCC6h', 'C3h', 'I1h', 'CPP4', 'FT10', 'TPP10h', 'TTP10', 'CPP6', 'FT7h', 'FFC6', 'FCC2', 'AFFz', 'C2h', 'P6h', 'FCC5', 'POO8', 'M2', 'FCC1h', 'POO3', 'AF7', 'TP9h', 'AFF7', 'PPO2h', 'CP6h', 'T7h', 'F9h', 'CPP5', 'TTP9', 'AF3', 'PPO5h', 'PPO6h', 'FT8', 'AFp2', 'AF4', 'PPO10', 'PO5', 'AFp3', 'FCC4h', 'CCP4', 'AFp2h', 'FTT7', 'P9', 'AFF3', 'AF7h', 'CCP5', 'FFT8h', 'FC4', 'AFp8', 'PPO1h', 'AFF1', 'CP5h', 'AF2', 'PPO7h', 'AF5h', 'POO5', 'TPP9', 'CPz', 'FCCz', 'FTT9', 'POO10', 'C6', 'AF8h', 'POO6h', 'POO2h', 'PO7', 'FTT10h', 'TTP10h', 'A1', 'PO1', 'CPP4h', 'CCP3', 'T9h', 'TP7', 'AF1', 'TTP8h', 'CP4h', 'AFF7h', 'F8h', 'POO4', 'FT7', 'PPO4h', 'POOz', 'CP2h', 'AFp8h', 'CCP2', 'FTT10', 'POO6', 'FFC1h', 'T3', 'CCP6', 'TP10h', 'OI1', 'F10h', 'TPP10', 'FFC4h', 'AF5', 'AF10', 'TTP8', 'OI2', 'AF3h', 'AFp5', 'C2', 'I2h', 'FT8h', 'CCPz', 'CCP4h', 'P7h', 'PO7h', 'FFT7h', 'T10', 'PPO8h', 'POO7h', 'AFF5', 'PPO9h', 'T10h', 'F4h', 'FFC5', 'PO6h', 'AFF10h', 'AFF5h', 'T5', 'P5h', 'P10', 'PO6', 'FC3h', 'FFC6h', 'CPP2', 'AF2h', 'CP3h', 'T6', 'CP3', 'M1', 'P2', 'AFp9', 'CCP2h', 'P5', 'F1h', 'TP7h', 'F5', 'P9h', 'P3h', 'AFp9h', 'AFF4h', 'TPP9h', 'POO2', 'P8h', 'FCC1', 'AFp5h', 'TPP8h', 'Fp2h', 'PO3', 'P4h', 'PO3h', 'TPP7', 'AFp4', 'FFCz', 'AFz', 'FFT7', 'AFF6h', 'AFF8h', 'FFT9h', 'PO2h', 'PPO7', 'TTP7h', 'C1', 'AF1h', 'FFT10h', 'T8h', 'PO1h', 'AFp1', 'A2', 'C4h', 'AF6h', 'CPP3h', 'AFF8', 'PPO6', 'FC3', 'AFF6', 'POO3h', 'CP1h', 'AF8', 'Iz', 'FFC4', 'P10h', 'P2h', 'AFp6', 'AFF1h', 'I2', 'TP8', 'TTP9h', 'FFC3', 'POO7', 'FTT9h', 'CCP3h', 'CPP5h', 'AFF2', 'OIz', 'AFp10h', 'AFp10', 'CPP1', 'AF9', 'O2h', 'OI1h', 'C1h', 'PO5h', 'F10', 'POO9h'}\n"
     ]
    },
    {
     "name": "stderr",
     "output_type": "stream",
     "text": [
      "<ipython-input-1-81fa588ad679>:54: RuntimeWarning: 1 channel names are too long, have been truncated to 15 characters:\n",
      "['BothStartLoadPhase']\n",
      "  info = create_info(ch_names,sfreq=500.0,ch_types=ch_type,montage = montage)\n",
      "/home/yaoxiaojian/anaconda3/lib/python3.7/site-packages/scipy/signal/_arraytools.py:45: FutureWarning: Using a non-tuple sequence for multidimensional indexing is deprecated; use `arr[tuple(seq)]` instead of `arr[seq]`. In the future this will be interpreted as an array index, `arr[np.array(seq)]`, which will result either in an error or a different result.\n",
      "  b = a[a_slice]\n",
      "/home/yaoxiaojian/anaconda3/lib/python3.7/site-packages/scipy/signal/_arraytools.py:45: FutureWarning: Using a non-tuple sequence for multidimensional indexing is deprecated; use `arr[tuple(seq)]` instead of `arr[seq]`. In the future this will be interpreted as an array index, `arr[np.array(seq)]`, which will result either in an error or a different result.\n",
      "  b = a[a_slice]\n",
      "/home/yaoxiaojian/anaconda3/lib/python3.7/site-packages/scipy/signal/_arraytools.py:45: FutureWarning: Using a non-tuple sequence for multidimensional indexing is deprecated; use `arr[tuple(seq)]` instead of `arr[seq]`. In the future this will be interpreted as an array index, `arr[np.array(seq)]`, which will result either in an error or a different result.\n",
      "  b = a[a_slice]\n",
      "/home/yaoxiaojian/anaconda3/lib/python3.7/site-packages/scipy/signal/_arraytools.py:45: FutureWarning: Using a non-tuple sequence for multidimensional indexing is deprecated; use `arr[tuple(seq)]` instead of `arr[seq]`. In the future this will be interpreted as an array index, `arr[np.array(seq)]`, which will result either in an error or a different result.\n",
      "  b = a[a_slice]\n",
      "/home/yaoxiaojian/anaconda3/lib/python3.7/site-packages/scipy/signal/_arraytools.py:45: FutureWarning: Using a non-tuple sequence for multidimensional indexing is deprecated; use `arr[tuple(seq)]` instead of `arr[seq]`. In the future this will be interpreted as an array index, `arr[np.array(seq)]`, which will result either in an error or a different result.\n",
      "  b = a[a_slice]\n",
      "/home/yaoxiaojian/anaconda3/lib/python3.7/site-packages/scipy/signal/_arraytools.py:45: FutureWarning: Using a non-tuple sequence for multidimensional indexing is deprecated; use `arr[tuple(seq)]` instead of `arr[seq]`. In the future this will be interpreted as an array index, `arr[np.array(seq)]`, which will result either in an error or a different result.\n",
      "  b = a[a_slice]\n",
      "/home/yaoxiaojian/anaconda3/lib/python3.7/site-packages/scipy/signal/_arraytools.py:45: FutureWarning: Using a non-tuple sequence for multidimensional indexing is deprecated; use `arr[tuple(seq)]` instead of `arr[seq]`. In the future this will be interpreted as an array index, `arr[np.array(seq)]`, which will result either in an error or a different result.\n",
      "  b = a[a_slice]\n",
      "/home/yaoxiaojian/anaconda3/lib/python3.7/site-packages/scipy/signal/_arraytools.py:45: FutureWarning: Using a non-tuple sequence for multidimensional indexing is deprecated; use `arr[tuple(seq)]` instead of `arr[seq]`. In the future this will be interpreted as an array index, `arr[np.array(seq)]`, which will result either in an error or a different result.\n",
      "  b = a[a_slice]\n"
     ]
    },
    {
     "name": "stdout",
     "output_type": "stream",
     "text": [
      "DigMontage is a superset of info. 311 in DigMontage will be ignored. The ignored channels are: {'PPO3h', 'FFC2h', 'PPOz', 'FCC5h', 'POO5h', 'OI2h', 'AFp7', 'AFF10', 'FCC4', 'POz', 'CCP1', 'PPO9', 'FTT8h', 'FFT8', 'FCC3h', 'PPO10h', 'AFF9', 'F9', 'O1h', 'FT10h', 'F3h', 'F6', 'FFC2', 'F2h', 'AFp6h', 'AFpz', 'PPO3', 'PO8', 'FC2h', 'PPO1', 'T4', 'AF9h', 'POO9', 'AFp1h', 'TPP8', 'CCP5h', 'PPO8', 'FCC6', 'AFp4h', 'P1', 'POO8h', 'FT9h', 'FTT7h', 'CPP6h', 'FC4h', 'PPO4', 'Fpz', 'C6h', 'F5h', 'FFT10', 'POO1h', 'FCC2h', 'AFp3h', 'PO8h', 'CPP3', 'PPO5', 'FC5h', 'AF6', 'P6', 'P1h', 'PO4h', 'TTP7', 'FFT9', 'POO4h', 'PO10h', 'AFF9h', 'POO10h', 'PO4', 'F2', 'AFp7h', 'FCz', 'FFC1', 'POO1', 'CPP2h', 'CP4', 'PO2', 'CCP1h', 'C5h', 'I1', 'FFC5h', 'FC6h', 'FT9', 'Fp1h', 'AFF2h', 'FFC3h', 'F7h', 'PPO2', 'FTT8', 'PO9h', 'AF4h', 'F6h', 'AFF4', 'FC1h', 'AFF3h', 'TP8h', 'CPP1h', 'F1', 'AF10h', 'CPPz', 'FCC3', 'TPP7h', 'CCP6h', 'C5', 'T9', 'FCC6h', 'C3h', 'I1h', 'CPP4', 'FT10', 'TPP10h', 'TTP10', 'CPP6', 'FT7h', 'FFC6', 'FCC2', 'AFFz', 'C2h', 'P6h', 'FCC5', 'POO8', 'M2', 'FCC1h', 'POO3', 'AF7', 'TP9h', 'AFF7', 'PPO2h', 'CP6h', 'T7h', 'F9h', 'CPP5', 'TTP9', 'AF3', 'PPO5h', 'PPO6h', 'FT8', 'AFp2', 'AF4', 'PPO10', 'PO5', 'AFp3', 'FCC4h', 'CCP4', 'AFp2h', 'FTT7', 'P9', 'AFF3', 'AF7h', 'CCP5', 'FFT8h', 'FC4', 'AFp8', 'PPO1h', 'AFF1', 'CP5h', 'AF2', 'PPO7h', 'AF5h', 'POO5', 'TPP9', 'CPz', 'FCCz', 'FTT9', 'POO10', 'C6', 'AF8h', 'POO6h', 'POO2h', 'PO7', 'FTT10h', 'TTP10h', 'A1', 'PO1', 'CPP4h', 'CCP3', 'T9h', 'TP7', 'AF1', 'TTP8h', 'CP4h', 'AFF7h', 'F8h', 'POO4', 'FT7', 'PPO4h', 'POOz', 'CP2h', 'AFp8h', 'CCP2', 'FTT10', 'POO6', 'FFC1h', 'T3', 'CCP6', 'TP10h', 'OI1', 'F10h', 'TPP10', 'FFC4h', 'AF5', 'AF10', 'TTP8', 'OI2', 'AF3h', 'AFp5', 'C2', 'I2h', 'FT8h', 'CCPz', 'CCP4h', 'P7h', 'PO7h', 'FFT7h', 'T10', 'PPO8h', 'POO7h', 'AFF5', 'PPO9h', 'T10h', 'F4h', 'FFC5', 'PO6h', 'AFF10h', 'AFF5h', 'T5', 'P5h', 'P10', 'PO6', 'FC3h', 'FFC6h', 'CPP2', 'AF2h', 'CP3h', 'T6', 'CP3', 'M1', 'P2', 'AFp9', 'CCP2h', 'P5', 'F1h', 'TP7h', 'F5', 'P9h', 'P3h', 'AFp9h', 'AFF4h', 'TPP9h', 'POO2', 'P8h', 'FCC1', 'AFp5h', 'TPP8h', 'Fp2h', 'PO3', 'P4h', 'PO3h', 'TPP7', 'AFp4', 'FFCz', 'AFz', 'FFT7', 'AFF6h', 'AFF8h', 'FFT9h', 'PO2h', 'PPO7', 'TTP7h', 'C1', 'AF1h', 'FFT10h', 'T8h', 'PO1h', 'AFp1', 'A2', 'C4h', 'AF6h', 'CPP3h', 'AFF8', 'PPO6', 'FC3', 'AFF6', 'POO3h', 'CP1h', 'AF8', 'Iz', 'FFC4', 'P10h', 'P2h', 'AFp6', 'AFF1h', 'I2', 'TP8', 'TTP9h', 'FFC3', 'POO7', 'FTT9h', 'CCP3h', 'CPP5h', 'AFF2', 'OIz', 'AFp10h', 'AFp10', 'CPP1', 'AF9', 'O2h', 'OI1h', 'C1h', 'PO5h', 'F10', 'POO9h'}\n"
     ]
    },
    {
     "name": "stderr",
     "output_type": "stream",
     "text": [
      "<ipython-input-1-81fa588ad679>:54: RuntimeWarning: 1 channel names are too long, have been truncated to 15 characters:\n",
      "['BothStartLoadPhase']\n",
      "  info = create_info(ch_names,sfreq=500.0,ch_types=ch_type,montage = montage)\n",
      "/home/yaoxiaojian/anaconda3/lib/python3.7/site-packages/scipy/signal/_arraytools.py:45: FutureWarning: Using a non-tuple sequence for multidimensional indexing is deprecated; use `arr[tuple(seq)]` instead of `arr[seq]`. In the future this will be interpreted as an array index, `arr[np.array(seq)]`, which will result either in an error or a different result.\n",
      "  b = a[a_slice]\n",
      "/home/yaoxiaojian/anaconda3/lib/python3.7/site-packages/scipy/signal/_arraytools.py:45: FutureWarning: Using a non-tuple sequence for multidimensional indexing is deprecated; use `arr[tuple(seq)]` instead of `arr[seq]`. In the future this will be interpreted as an array index, `arr[np.array(seq)]`, which will result either in an error or a different result.\n",
      "  b = a[a_slice]\n",
      "/home/yaoxiaojian/anaconda3/lib/python3.7/site-packages/scipy/signal/_arraytools.py:45: FutureWarning: Using a non-tuple sequence for multidimensional indexing is deprecated; use `arr[tuple(seq)]` instead of `arr[seq]`. In the future this will be interpreted as an array index, `arr[np.array(seq)]`, which will result either in an error or a different result.\n",
      "  b = a[a_slice]\n",
      "/home/yaoxiaojian/anaconda3/lib/python3.7/site-packages/scipy/signal/_arraytools.py:45: FutureWarning: Using a non-tuple sequence for multidimensional indexing is deprecated; use `arr[tuple(seq)]` instead of `arr[seq]`. In the future this will be interpreted as an array index, `arr[np.array(seq)]`, which will result either in an error or a different result.\n",
      "  b = a[a_slice]\n",
      "/home/yaoxiaojian/anaconda3/lib/python3.7/site-packages/scipy/signal/_arraytools.py:45: FutureWarning: Using a non-tuple sequence for multidimensional indexing is deprecated; use `arr[tuple(seq)]` instead of `arr[seq]`. In the future this will be interpreted as an array index, `arr[np.array(seq)]`, which will result either in an error or a different result.\n",
      "  b = a[a_slice]\n",
      "/home/yaoxiaojian/anaconda3/lib/python3.7/site-packages/scipy/signal/_arraytools.py:45: FutureWarning: Using a non-tuple sequence for multidimensional indexing is deprecated; use `arr[tuple(seq)]` instead of `arr[seq]`. In the future this will be interpreted as an array index, `arr[np.array(seq)]`, which will result either in an error or a different result.\n",
      "  b = a[a_slice]\n",
      "/home/yaoxiaojian/anaconda3/lib/python3.7/site-packages/scipy/signal/_arraytools.py:45: FutureWarning: Using a non-tuple sequence for multidimensional indexing is deprecated; use `arr[tuple(seq)]` instead of `arr[seq]`. In the future this will be interpreted as an array index, `arr[np.array(seq)]`, which will result either in an error or a different result.\n",
      "  b = a[a_slice]\n",
      "/home/yaoxiaojian/anaconda3/lib/python3.7/site-packages/scipy/signal/_arraytools.py:45: FutureWarning: Using a non-tuple sequence for multidimensional indexing is deprecated; use `arr[tuple(seq)]` instead of `arr[seq]`. In the future this will be interpreted as an array index, `arr[np.array(seq)]`, which will result either in an error or a different result.\n",
      "  b = a[a_slice]\n"
     ]
    },
    {
     "name": "stdout",
     "output_type": "stream",
     "text": [
      "DigMontage is a superset of info. 311 in DigMontage will be ignored. The ignored channels are: {'PPO3h', 'FFC2h', 'PPOz', 'FCC5h', 'POO5h', 'OI2h', 'AFp7', 'AFF10', 'FCC4', 'POz', 'CCP1', 'PPO9', 'FTT8h', 'FFT8', 'FCC3h', 'PPO10h', 'AFF9', 'F9', 'O1h', 'FT10h', 'F3h', 'F6', 'FFC2', 'F2h', 'AFp6h', 'AFpz', 'PPO3', 'PO8', 'FC2h', 'PPO1', 'T4', 'AF9h', 'POO9', 'AFp1h', 'TPP8', 'CCP5h', 'PPO8', 'FCC6', 'AFp4h', 'P1', 'POO8h', 'FT9h', 'FTT7h', 'CPP6h', 'FC4h', 'PPO4', 'Fpz', 'C6h', 'F5h', 'FFT10', 'POO1h', 'FCC2h', 'AFp3h', 'PO8h', 'CPP3', 'PPO5', 'FC5h', 'AF6', 'P6', 'P1h', 'PO4h', 'TTP7', 'FFT9', 'POO4h', 'PO10h', 'AFF9h', 'POO10h', 'PO4', 'F2', 'AFp7h', 'FCz', 'FFC1', 'POO1', 'CPP2h', 'CP4', 'PO2', 'CCP1h', 'C5h', 'I1', 'FFC5h', 'FC6h', 'FT9', 'Fp1h', 'AFF2h', 'FFC3h', 'F7h', 'PPO2', 'FTT8', 'PO9h', 'AF4h', 'F6h', 'AFF4', 'FC1h', 'AFF3h', 'TP8h', 'CPP1h', 'F1', 'AF10h', 'CPPz', 'FCC3', 'TPP7h', 'CCP6h', 'C5', 'T9', 'FCC6h', 'C3h', 'I1h', 'CPP4', 'FT10', 'TPP10h', 'TTP10', 'CPP6', 'FT7h', 'FFC6', 'FCC2', 'AFFz', 'C2h', 'P6h', 'FCC5', 'POO8', 'M2', 'FCC1h', 'POO3', 'AF7', 'TP9h', 'AFF7', 'PPO2h', 'CP6h', 'T7h', 'F9h', 'CPP5', 'TTP9', 'AF3', 'PPO5h', 'PPO6h', 'FT8', 'AFp2', 'AF4', 'PPO10', 'PO5', 'AFp3', 'FCC4h', 'CCP4', 'AFp2h', 'FTT7', 'P9', 'AFF3', 'AF7h', 'CCP5', 'FFT8h', 'FC4', 'AFp8', 'PPO1h', 'AFF1', 'CP5h', 'AF2', 'PPO7h', 'AF5h', 'POO5', 'TPP9', 'CPz', 'FCCz', 'FTT9', 'POO10', 'C6', 'AF8h', 'POO6h', 'POO2h', 'PO7', 'FTT10h', 'TTP10h', 'A1', 'PO1', 'CPP4h', 'CCP3', 'T9h', 'TP7', 'AF1', 'TTP8h', 'CP4h', 'AFF7h', 'F8h', 'POO4', 'FT7', 'PPO4h', 'POOz', 'CP2h', 'AFp8h', 'CCP2', 'FTT10', 'POO6', 'FFC1h', 'T3', 'CCP6', 'TP10h', 'OI1', 'F10h', 'TPP10', 'FFC4h', 'AF5', 'AF10', 'TTP8', 'OI2', 'AF3h', 'AFp5', 'C2', 'I2h', 'FT8h', 'CCPz', 'CCP4h', 'P7h', 'PO7h', 'FFT7h', 'T10', 'PPO8h', 'POO7h', 'AFF5', 'PPO9h', 'T10h', 'F4h', 'FFC5', 'PO6h', 'AFF10h', 'AFF5h', 'T5', 'P5h', 'P10', 'PO6', 'FC3h', 'FFC6h', 'CPP2', 'AF2h', 'CP3h', 'T6', 'CP3', 'M1', 'P2', 'AFp9', 'CCP2h', 'P5', 'F1h', 'TP7h', 'F5', 'P9h', 'P3h', 'AFp9h', 'AFF4h', 'TPP9h', 'POO2', 'P8h', 'FCC1', 'AFp5h', 'TPP8h', 'Fp2h', 'PO3', 'P4h', 'PO3h', 'TPP7', 'AFp4', 'FFCz', 'AFz', 'FFT7', 'AFF6h', 'AFF8h', 'FFT9h', 'PO2h', 'PPO7', 'TTP7h', 'C1', 'AF1h', 'FFT10h', 'T8h', 'PO1h', 'AFp1', 'A2', 'C4h', 'AF6h', 'CPP3h', 'AFF8', 'PPO6', 'FC3', 'AFF6', 'POO3h', 'CP1h', 'AF8', 'Iz', 'FFC4', 'P10h', 'P2h', 'AFp6', 'AFF1h', 'I2', 'TP8', 'TTP9h', 'FFC3', 'POO7', 'FTT9h', 'CCP3h', 'CPP5h', 'AFF2', 'OIz', 'AFp10h', 'AFp10', 'CPP1', 'AF9', 'O2h', 'OI1h', 'C1h', 'PO5h', 'F10', 'POO9h'}\n"
     ]
    },
    {
     "name": "stderr",
     "output_type": "stream",
     "text": [
      "<ipython-input-1-81fa588ad679>:54: RuntimeWarning: 1 channel names are too long, have been truncated to 15 characters:\n",
      "['BothStartLoadPhase']\n",
      "  info = create_info(ch_names,sfreq=500.0,ch_types=ch_type,montage = montage)\n",
      "/home/yaoxiaojian/anaconda3/lib/python3.7/site-packages/scipy/signal/_arraytools.py:45: FutureWarning: Using a non-tuple sequence for multidimensional indexing is deprecated; use `arr[tuple(seq)]` instead of `arr[seq]`. In the future this will be interpreted as an array index, `arr[np.array(seq)]`, which will result either in an error or a different result.\n",
      "  b = a[a_slice]\n",
      "/home/yaoxiaojian/anaconda3/lib/python3.7/site-packages/scipy/signal/_arraytools.py:45: FutureWarning: Using a non-tuple sequence for multidimensional indexing is deprecated; use `arr[tuple(seq)]` instead of `arr[seq]`. In the future this will be interpreted as an array index, `arr[np.array(seq)]`, which will result either in an error or a different result.\n",
      "  b = a[a_slice]\n",
      "/home/yaoxiaojian/anaconda3/lib/python3.7/site-packages/scipy/signal/_arraytools.py:45: FutureWarning: Using a non-tuple sequence for multidimensional indexing is deprecated; use `arr[tuple(seq)]` instead of `arr[seq]`. In the future this will be interpreted as an array index, `arr[np.array(seq)]`, which will result either in an error or a different result.\n",
      "  b = a[a_slice]\n",
      "/home/yaoxiaojian/anaconda3/lib/python3.7/site-packages/scipy/signal/_arraytools.py:45: FutureWarning: Using a non-tuple sequence for multidimensional indexing is deprecated; use `arr[tuple(seq)]` instead of `arr[seq]`. In the future this will be interpreted as an array index, `arr[np.array(seq)]`, which will result either in an error or a different result.\n",
      "  b = a[a_slice]\n",
      "/home/yaoxiaojian/anaconda3/lib/python3.7/site-packages/scipy/signal/_arraytools.py:45: FutureWarning: Using a non-tuple sequence for multidimensional indexing is deprecated; use `arr[tuple(seq)]` instead of `arr[seq]`. In the future this will be interpreted as an array index, `arr[np.array(seq)]`, which will result either in an error or a different result.\n",
      "  b = a[a_slice]\n",
      "/home/yaoxiaojian/anaconda3/lib/python3.7/site-packages/scipy/signal/_arraytools.py:45: FutureWarning: Using a non-tuple sequence for multidimensional indexing is deprecated; use `arr[tuple(seq)]` instead of `arr[seq]`. In the future this will be interpreted as an array index, `arr[np.array(seq)]`, which will result either in an error or a different result.\n",
      "  b = a[a_slice]\n",
      "/home/yaoxiaojian/anaconda3/lib/python3.7/site-packages/scipy/signal/_arraytools.py:45: FutureWarning: Using a non-tuple sequence for multidimensional indexing is deprecated; use `arr[tuple(seq)]` instead of `arr[seq]`. In the future this will be interpreted as an array index, `arr[np.array(seq)]`, which will result either in an error or a different result.\n",
      "  b = a[a_slice]\n",
      "/home/yaoxiaojian/anaconda3/lib/python3.7/site-packages/scipy/signal/_arraytools.py:45: FutureWarning: Using a non-tuple sequence for multidimensional indexing is deprecated; use `arr[tuple(seq)]` instead of `arr[seq]`. In the future this will be interpreted as an array index, `arr[np.array(seq)]`, which will result either in an error or a different result.\n",
      "  b = a[a_slice]\n"
     ]
    },
    {
     "name": "stdout",
     "output_type": "stream",
     "text": [
      "DigMontage is a superset of info. 311 in DigMontage will be ignored. The ignored channels are: {'PPO3h', 'FFC2h', 'PPOz', 'FCC5h', 'POO5h', 'OI2h', 'AFp7', 'AFF10', 'FCC4', 'POz', 'CCP1', 'PPO9', 'FTT8h', 'FFT8', 'FCC3h', 'PPO10h', 'AFF9', 'F9', 'O1h', 'FT10h', 'F3h', 'F6', 'FFC2', 'F2h', 'AFp6h', 'AFpz', 'PPO3', 'PO8', 'FC2h', 'PPO1', 'T4', 'AF9h', 'POO9', 'AFp1h', 'TPP8', 'CCP5h', 'PPO8', 'FCC6', 'AFp4h', 'P1', 'POO8h', 'FT9h', 'FTT7h', 'CPP6h', 'FC4h', 'PPO4', 'Fpz', 'C6h', 'F5h', 'FFT10', 'POO1h', 'FCC2h', 'AFp3h', 'PO8h', 'CPP3', 'PPO5', 'FC5h', 'AF6', 'P6', 'P1h', 'PO4h', 'TTP7', 'FFT9', 'POO4h', 'PO10h', 'AFF9h', 'POO10h', 'PO4', 'F2', 'AFp7h', 'FCz', 'FFC1', 'POO1', 'CPP2h', 'CP4', 'PO2', 'CCP1h', 'C5h', 'I1', 'FFC5h', 'FC6h', 'FT9', 'Fp1h', 'AFF2h', 'FFC3h', 'F7h', 'PPO2', 'FTT8', 'PO9h', 'AF4h', 'F6h', 'AFF4', 'FC1h', 'AFF3h', 'TP8h', 'CPP1h', 'F1', 'AF10h', 'CPPz', 'FCC3', 'TPP7h', 'CCP6h', 'C5', 'T9', 'FCC6h', 'C3h', 'I1h', 'CPP4', 'FT10', 'TPP10h', 'TTP10', 'CPP6', 'FT7h', 'FFC6', 'FCC2', 'AFFz', 'C2h', 'P6h', 'FCC5', 'POO8', 'M2', 'FCC1h', 'POO3', 'AF7', 'TP9h', 'AFF7', 'PPO2h', 'CP6h', 'T7h', 'F9h', 'CPP5', 'TTP9', 'AF3', 'PPO5h', 'PPO6h', 'FT8', 'AFp2', 'AF4', 'PPO10', 'PO5', 'AFp3', 'FCC4h', 'CCP4', 'AFp2h', 'FTT7', 'P9', 'AFF3', 'AF7h', 'CCP5', 'FFT8h', 'FC4', 'AFp8', 'PPO1h', 'AFF1', 'CP5h', 'AF2', 'PPO7h', 'AF5h', 'POO5', 'TPP9', 'CPz', 'FCCz', 'FTT9', 'POO10', 'C6', 'AF8h', 'POO6h', 'POO2h', 'PO7', 'FTT10h', 'TTP10h', 'A1', 'PO1', 'CPP4h', 'CCP3', 'T9h', 'TP7', 'AF1', 'TTP8h', 'CP4h', 'AFF7h', 'F8h', 'POO4', 'FT7', 'PPO4h', 'POOz', 'CP2h', 'AFp8h', 'CCP2', 'FTT10', 'POO6', 'FFC1h', 'T3', 'CCP6', 'TP10h', 'OI1', 'F10h', 'TPP10', 'FFC4h', 'AF5', 'AF10', 'TTP8', 'OI2', 'AF3h', 'AFp5', 'C2', 'I2h', 'FT8h', 'CCPz', 'CCP4h', 'P7h', 'PO7h', 'FFT7h', 'T10', 'PPO8h', 'POO7h', 'AFF5', 'PPO9h', 'T10h', 'F4h', 'FFC5', 'PO6h', 'AFF10h', 'AFF5h', 'T5', 'P5h', 'P10', 'PO6', 'FC3h', 'FFC6h', 'CPP2', 'AF2h', 'CP3h', 'T6', 'CP3', 'M1', 'P2', 'AFp9', 'CCP2h', 'P5', 'F1h', 'TP7h', 'F5', 'P9h', 'P3h', 'AFp9h', 'AFF4h', 'TPP9h', 'POO2', 'P8h', 'FCC1', 'AFp5h', 'TPP8h', 'Fp2h', 'PO3', 'P4h', 'PO3h', 'TPP7', 'AFp4', 'FFCz', 'AFz', 'FFT7', 'AFF6h', 'AFF8h', 'FFT9h', 'PO2h', 'PPO7', 'TTP7h', 'C1', 'AF1h', 'FFT10h', 'T8h', 'PO1h', 'AFp1', 'A2', 'C4h', 'AF6h', 'CPP3h', 'AFF8', 'PPO6', 'FC3', 'AFF6', 'POO3h', 'CP1h', 'AF8', 'Iz', 'FFC4', 'P10h', 'P2h', 'AFp6', 'AFF1h', 'I2', 'TP8', 'TTP9h', 'FFC3', 'POO7', 'FTT9h', 'CCP3h', 'CPP5h', 'AFF2', 'OIz', 'AFp10h', 'AFp10', 'CPP1', 'AF9', 'O2h', 'OI1h', 'C1h', 'PO5h', 'F10', 'POO9h'}\n"
     ]
    },
    {
     "name": "stderr",
     "output_type": "stream",
     "text": [
      "<ipython-input-1-81fa588ad679>:54: RuntimeWarning: 1 channel names are too long, have been truncated to 15 characters:\n",
      "['BothStartLoadPhase']\n",
      "  info = create_info(ch_names,sfreq=500.0,ch_types=ch_type,montage = montage)\n",
      "/home/yaoxiaojian/anaconda3/lib/python3.7/site-packages/scipy/signal/_arraytools.py:45: FutureWarning: Using a non-tuple sequence for multidimensional indexing is deprecated; use `arr[tuple(seq)]` instead of `arr[seq]`. In the future this will be interpreted as an array index, `arr[np.array(seq)]`, which will result either in an error or a different result.\n",
      "  b = a[a_slice]\n",
      "/home/yaoxiaojian/anaconda3/lib/python3.7/site-packages/scipy/signal/_arraytools.py:45: FutureWarning: Using a non-tuple sequence for multidimensional indexing is deprecated; use `arr[tuple(seq)]` instead of `arr[seq]`. In the future this will be interpreted as an array index, `arr[np.array(seq)]`, which will result either in an error or a different result.\n",
      "  b = a[a_slice]\n",
      "/home/yaoxiaojian/anaconda3/lib/python3.7/site-packages/scipy/signal/_arraytools.py:45: FutureWarning: Using a non-tuple sequence for multidimensional indexing is deprecated; use `arr[tuple(seq)]` instead of `arr[seq]`. In the future this will be interpreted as an array index, `arr[np.array(seq)]`, which will result either in an error or a different result.\n",
      "  b = a[a_slice]\n",
      "/home/yaoxiaojian/anaconda3/lib/python3.7/site-packages/scipy/signal/_arraytools.py:45: FutureWarning: Using a non-tuple sequence for multidimensional indexing is deprecated; use `arr[tuple(seq)]` instead of `arr[seq]`. In the future this will be interpreted as an array index, `arr[np.array(seq)]`, which will result either in an error or a different result.\n",
      "  b = a[a_slice]\n",
      "/home/yaoxiaojian/anaconda3/lib/python3.7/site-packages/scipy/signal/_arraytools.py:45: FutureWarning: Using a non-tuple sequence for multidimensional indexing is deprecated; use `arr[tuple(seq)]` instead of `arr[seq]`. In the future this will be interpreted as an array index, `arr[np.array(seq)]`, which will result either in an error or a different result.\n",
      "  b = a[a_slice]\n",
      "/home/yaoxiaojian/anaconda3/lib/python3.7/site-packages/scipy/signal/_arraytools.py:45: FutureWarning: Using a non-tuple sequence for multidimensional indexing is deprecated; use `arr[tuple(seq)]` instead of `arr[seq]`. In the future this will be interpreted as an array index, `arr[np.array(seq)]`, which will result either in an error or a different result.\n",
      "  b = a[a_slice]\n",
      "/home/yaoxiaojian/anaconda3/lib/python3.7/site-packages/scipy/signal/_arraytools.py:45: FutureWarning: Using a non-tuple sequence for multidimensional indexing is deprecated; use `arr[tuple(seq)]` instead of `arr[seq]`. In the future this will be interpreted as an array index, `arr[np.array(seq)]`, which will result either in an error or a different result.\n",
      "  b = a[a_slice]\n",
      "/home/yaoxiaojian/anaconda3/lib/python3.7/site-packages/scipy/signal/_arraytools.py:45: FutureWarning: Using a non-tuple sequence for multidimensional indexing is deprecated; use `arr[tuple(seq)]` instead of `arr[seq]`. In the future this will be interpreted as an array index, `arr[np.array(seq)]`, which will result either in an error or a different result.\n",
      "  b = a[a_slice]\n"
     ]
    },
    {
     "name": "stdout",
     "output_type": "stream",
     "text": [
      "DigMontage is a superset of info. 311 in DigMontage will be ignored. The ignored channels are: {'PPO3h', 'FFC2h', 'PPOz', 'FCC5h', 'POO5h', 'OI2h', 'AFp7', 'AFF10', 'FCC4', 'POz', 'CCP1', 'PPO9', 'FTT8h', 'FFT8', 'FCC3h', 'PPO10h', 'AFF9', 'F9', 'O1h', 'FT10h', 'F3h', 'F6', 'FFC2', 'F2h', 'AFp6h', 'AFpz', 'PPO3', 'PO8', 'FC2h', 'PPO1', 'T4', 'AF9h', 'POO9', 'AFp1h', 'TPP8', 'CCP5h', 'PPO8', 'FCC6', 'AFp4h', 'P1', 'POO8h', 'FT9h', 'FTT7h', 'CPP6h', 'FC4h', 'PPO4', 'Fpz', 'C6h', 'F5h', 'FFT10', 'POO1h', 'FCC2h', 'AFp3h', 'PO8h', 'CPP3', 'PPO5', 'FC5h', 'AF6', 'P6', 'P1h', 'PO4h', 'TTP7', 'FFT9', 'POO4h', 'PO10h', 'AFF9h', 'POO10h', 'PO4', 'F2', 'AFp7h', 'FCz', 'FFC1', 'POO1', 'CPP2h', 'CP4', 'PO2', 'CCP1h', 'C5h', 'I1', 'FFC5h', 'FC6h', 'FT9', 'Fp1h', 'AFF2h', 'FFC3h', 'F7h', 'PPO2', 'FTT8', 'PO9h', 'AF4h', 'F6h', 'AFF4', 'FC1h', 'AFF3h', 'TP8h', 'CPP1h', 'F1', 'AF10h', 'CPPz', 'FCC3', 'TPP7h', 'CCP6h', 'C5', 'T9', 'FCC6h', 'C3h', 'I1h', 'CPP4', 'FT10', 'TPP10h', 'TTP10', 'CPP6', 'FT7h', 'FFC6', 'FCC2', 'AFFz', 'C2h', 'P6h', 'FCC5', 'POO8', 'M2', 'FCC1h', 'POO3', 'AF7', 'TP9h', 'AFF7', 'PPO2h', 'CP6h', 'T7h', 'F9h', 'CPP5', 'TTP9', 'AF3', 'PPO5h', 'PPO6h', 'FT8', 'AFp2', 'AF4', 'PPO10', 'PO5', 'AFp3', 'FCC4h', 'CCP4', 'AFp2h', 'FTT7', 'P9', 'AFF3', 'AF7h', 'CCP5', 'FFT8h', 'FC4', 'AFp8', 'PPO1h', 'AFF1', 'CP5h', 'AF2', 'PPO7h', 'AF5h', 'POO5', 'TPP9', 'CPz', 'FCCz', 'FTT9', 'POO10', 'C6', 'AF8h', 'POO6h', 'POO2h', 'PO7', 'FTT10h', 'TTP10h', 'A1', 'PO1', 'CPP4h', 'CCP3', 'T9h', 'TP7', 'AF1', 'TTP8h', 'CP4h', 'AFF7h', 'F8h', 'POO4', 'FT7', 'PPO4h', 'POOz', 'CP2h', 'AFp8h', 'CCP2', 'FTT10', 'POO6', 'FFC1h', 'T3', 'CCP6', 'TP10h', 'OI1', 'F10h', 'TPP10', 'FFC4h', 'AF5', 'AF10', 'TTP8', 'OI2', 'AF3h', 'AFp5', 'C2', 'I2h', 'FT8h', 'CCPz', 'CCP4h', 'P7h', 'PO7h', 'FFT7h', 'T10', 'PPO8h', 'POO7h', 'AFF5', 'PPO9h', 'T10h', 'F4h', 'FFC5', 'PO6h', 'AFF10h', 'AFF5h', 'T5', 'P5h', 'P10', 'PO6', 'FC3h', 'FFC6h', 'CPP2', 'AF2h', 'CP3h', 'T6', 'CP3', 'M1', 'P2', 'AFp9', 'CCP2h', 'P5', 'F1h', 'TP7h', 'F5', 'P9h', 'P3h', 'AFp9h', 'AFF4h', 'TPP9h', 'POO2', 'P8h', 'FCC1', 'AFp5h', 'TPP8h', 'Fp2h', 'PO3', 'P4h', 'PO3h', 'TPP7', 'AFp4', 'FFCz', 'AFz', 'FFT7', 'AFF6h', 'AFF8h', 'FFT9h', 'PO2h', 'PPO7', 'TTP7h', 'C1', 'AF1h', 'FFT10h', 'T8h', 'PO1h', 'AFp1', 'A2', 'C4h', 'AF6h', 'CPP3h', 'AFF8', 'PPO6', 'FC3', 'AFF6', 'POO3h', 'CP1h', 'AF8', 'Iz', 'FFC4', 'P10h', 'P2h', 'AFp6', 'AFF1h', 'I2', 'TP8', 'TTP9h', 'FFC3', 'POO7', 'FTT9h', 'CCP3h', 'CPP5h', 'AFF2', 'OIz', 'AFp10h', 'AFp10', 'CPP1', 'AF9', 'O2h', 'OI1h', 'C1h', 'PO5h', 'F10', 'POO9h'}\n"
     ]
    },
    {
     "name": "stderr",
     "output_type": "stream",
     "text": [
      "<ipython-input-1-81fa588ad679>:54: RuntimeWarning: 1 channel names are too long, have been truncated to 15 characters:\n",
      "['BothStartLoadPhase']\n",
      "  info = create_info(ch_names,sfreq=500.0,ch_types=ch_type,montage = montage)\n",
      "/home/yaoxiaojian/anaconda3/lib/python3.7/site-packages/scipy/signal/_arraytools.py:45: FutureWarning: Using a non-tuple sequence for multidimensional indexing is deprecated; use `arr[tuple(seq)]` instead of `arr[seq]`. In the future this will be interpreted as an array index, `arr[np.array(seq)]`, which will result either in an error or a different result.\n",
      "  b = a[a_slice]\n",
      "/home/yaoxiaojian/anaconda3/lib/python3.7/site-packages/scipy/signal/_arraytools.py:45: FutureWarning: Using a non-tuple sequence for multidimensional indexing is deprecated; use `arr[tuple(seq)]` instead of `arr[seq]`. In the future this will be interpreted as an array index, `arr[np.array(seq)]`, which will result either in an error or a different result.\n",
      "  b = a[a_slice]\n",
      "/home/yaoxiaojian/anaconda3/lib/python3.7/site-packages/scipy/signal/_arraytools.py:45: FutureWarning: Using a non-tuple sequence for multidimensional indexing is deprecated; use `arr[tuple(seq)]` instead of `arr[seq]`. In the future this will be interpreted as an array index, `arr[np.array(seq)]`, which will result either in an error or a different result.\n",
      "  b = a[a_slice]\n",
      "/home/yaoxiaojian/anaconda3/lib/python3.7/site-packages/scipy/signal/_arraytools.py:45: FutureWarning: Using a non-tuple sequence for multidimensional indexing is deprecated; use `arr[tuple(seq)]` instead of `arr[seq]`. In the future this will be interpreted as an array index, `arr[np.array(seq)]`, which will result either in an error or a different result.\n",
      "  b = a[a_slice]\n",
      "/home/yaoxiaojian/anaconda3/lib/python3.7/site-packages/scipy/signal/_arraytools.py:45: FutureWarning: Using a non-tuple sequence for multidimensional indexing is deprecated; use `arr[tuple(seq)]` instead of `arr[seq]`. In the future this will be interpreted as an array index, `arr[np.array(seq)]`, which will result either in an error or a different result.\n",
      "  b = a[a_slice]\n",
      "/home/yaoxiaojian/anaconda3/lib/python3.7/site-packages/scipy/signal/_arraytools.py:45: FutureWarning: Using a non-tuple sequence for multidimensional indexing is deprecated; use `arr[tuple(seq)]` instead of `arr[seq]`. In the future this will be interpreted as an array index, `arr[np.array(seq)]`, which will result either in an error or a different result.\n",
      "  b = a[a_slice]\n",
      "/home/yaoxiaojian/anaconda3/lib/python3.7/site-packages/scipy/signal/_arraytools.py:45: FutureWarning: Using a non-tuple sequence for multidimensional indexing is deprecated; use `arr[tuple(seq)]` instead of `arr[seq]`. In the future this will be interpreted as an array index, `arr[np.array(seq)]`, which will result either in an error or a different result.\n",
      "  b = a[a_slice]\n",
      "/home/yaoxiaojian/anaconda3/lib/python3.7/site-packages/scipy/signal/_arraytools.py:45: FutureWarning: Using a non-tuple sequence for multidimensional indexing is deprecated; use `arr[tuple(seq)]` instead of `arr[seq]`. In the future this will be interpreted as an array index, `arr[np.array(seq)]`, which will result either in an error or a different result.\n",
      "  b = a[a_slice]\n"
     ]
    },
    {
     "name": "stdout",
     "output_type": "stream",
     "text": [
      "DigMontage is a superset of info. 311 in DigMontage will be ignored. The ignored channels are: {'PPO3h', 'FFC2h', 'PPOz', 'FCC5h', 'POO5h', 'OI2h', 'AFp7', 'AFF10', 'FCC4', 'POz', 'CCP1', 'PPO9', 'FTT8h', 'FFT8', 'FCC3h', 'PPO10h', 'AFF9', 'F9', 'O1h', 'FT10h', 'F3h', 'F6', 'FFC2', 'F2h', 'AFp6h', 'AFpz', 'PPO3', 'PO8', 'FC2h', 'PPO1', 'T4', 'AF9h', 'POO9', 'AFp1h', 'TPP8', 'CCP5h', 'PPO8', 'FCC6', 'AFp4h', 'P1', 'POO8h', 'FT9h', 'FTT7h', 'CPP6h', 'FC4h', 'PPO4', 'Fpz', 'C6h', 'F5h', 'FFT10', 'POO1h', 'FCC2h', 'AFp3h', 'PO8h', 'CPP3', 'PPO5', 'FC5h', 'AF6', 'P6', 'P1h', 'PO4h', 'TTP7', 'FFT9', 'POO4h', 'PO10h', 'AFF9h', 'POO10h', 'PO4', 'F2', 'AFp7h', 'FCz', 'FFC1', 'POO1', 'CPP2h', 'CP4', 'PO2', 'CCP1h', 'C5h', 'I1', 'FFC5h', 'FC6h', 'FT9', 'Fp1h', 'AFF2h', 'FFC3h', 'F7h', 'PPO2', 'FTT8', 'PO9h', 'AF4h', 'F6h', 'AFF4', 'FC1h', 'AFF3h', 'TP8h', 'CPP1h', 'F1', 'AF10h', 'CPPz', 'FCC3', 'TPP7h', 'CCP6h', 'C5', 'T9', 'FCC6h', 'C3h', 'I1h', 'CPP4', 'FT10', 'TPP10h', 'TTP10', 'CPP6', 'FT7h', 'FFC6', 'FCC2', 'AFFz', 'C2h', 'P6h', 'FCC5', 'POO8', 'M2', 'FCC1h', 'POO3', 'AF7', 'TP9h', 'AFF7', 'PPO2h', 'CP6h', 'T7h', 'F9h', 'CPP5', 'TTP9', 'AF3', 'PPO5h', 'PPO6h', 'FT8', 'AFp2', 'AF4', 'PPO10', 'PO5', 'AFp3', 'FCC4h', 'CCP4', 'AFp2h', 'FTT7', 'P9', 'AFF3', 'AF7h', 'CCP5', 'FFT8h', 'FC4', 'AFp8', 'PPO1h', 'AFF1', 'CP5h', 'AF2', 'PPO7h', 'AF5h', 'POO5', 'TPP9', 'CPz', 'FCCz', 'FTT9', 'POO10', 'C6', 'AF8h', 'POO6h', 'POO2h', 'PO7', 'FTT10h', 'TTP10h', 'A1', 'PO1', 'CPP4h', 'CCP3', 'T9h', 'TP7', 'AF1', 'TTP8h', 'CP4h', 'AFF7h', 'F8h', 'POO4', 'FT7', 'PPO4h', 'POOz', 'CP2h', 'AFp8h', 'CCP2', 'FTT10', 'POO6', 'FFC1h', 'T3', 'CCP6', 'TP10h', 'OI1', 'F10h', 'TPP10', 'FFC4h', 'AF5', 'AF10', 'TTP8', 'OI2', 'AF3h', 'AFp5', 'C2', 'I2h', 'FT8h', 'CCPz', 'CCP4h', 'P7h', 'PO7h', 'FFT7h', 'T10', 'PPO8h', 'POO7h', 'AFF5', 'PPO9h', 'T10h', 'F4h', 'FFC5', 'PO6h', 'AFF10h', 'AFF5h', 'T5', 'P5h', 'P10', 'PO6', 'FC3h', 'FFC6h', 'CPP2', 'AF2h', 'CP3h', 'T6', 'CP3', 'M1', 'P2', 'AFp9', 'CCP2h', 'P5', 'F1h', 'TP7h', 'F5', 'P9h', 'P3h', 'AFp9h', 'AFF4h', 'TPP9h', 'POO2', 'P8h', 'FCC1', 'AFp5h', 'TPP8h', 'Fp2h', 'PO3', 'P4h', 'PO3h', 'TPP7', 'AFp4', 'FFCz', 'AFz', 'FFT7', 'AFF6h', 'AFF8h', 'FFT9h', 'PO2h', 'PPO7', 'TTP7h', 'C1', 'AF1h', 'FFT10h', 'T8h', 'PO1h', 'AFp1', 'A2', 'C4h', 'AF6h', 'CPP3h', 'AFF8', 'PPO6', 'FC3', 'AFF6', 'POO3h', 'CP1h', 'AF8', 'Iz', 'FFC4', 'P10h', 'P2h', 'AFp6', 'AFF1h', 'I2', 'TP8', 'TTP9h', 'FFC3', 'POO7', 'FTT9h', 'CCP3h', 'CPP5h', 'AFF2', 'OIz', 'AFp10h', 'AFp10', 'CPP1', 'AF9', 'O2h', 'OI1h', 'C1h', 'PO5h', 'F10', 'POO9h'}\n"
     ]
    },
    {
     "name": "stderr",
     "output_type": "stream",
     "text": [
      "<ipython-input-1-81fa588ad679>:54: RuntimeWarning: 1 channel names are too long, have been truncated to 15 characters:\n",
      "['BothStartLoadPhase']\n",
      "  info = create_info(ch_names,sfreq=500.0,ch_types=ch_type,montage = montage)\n",
      "/home/yaoxiaojian/anaconda3/lib/python3.7/site-packages/scipy/signal/_arraytools.py:45: FutureWarning: Using a non-tuple sequence for multidimensional indexing is deprecated; use `arr[tuple(seq)]` instead of `arr[seq]`. In the future this will be interpreted as an array index, `arr[np.array(seq)]`, which will result either in an error or a different result.\n",
      "  b = a[a_slice]\n",
      "/home/yaoxiaojian/anaconda3/lib/python3.7/site-packages/scipy/signal/_arraytools.py:45: FutureWarning: Using a non-tuple sequence for multidimensional indexing is deprecated; use `arr[tuple(seq)]` instead of `arr[seq]`. In the future this will be interpreted as an array index, `arr[np.array(seq)]`, which will result either in an error or a different result.\n",
      "  b = a[a_slice]\n",
      "/home/yaoxiaojian/anaconda3/lib/python3.7/site-packages/scipy/signal/_arraytools.py:45: FutureWarning: Using a non-tuple sequence for multidimensional indexing is deprecated; use `arr[tuple(seq)]` instead of `arr[seq]`. In the future this will be interpreted as an array index, `arr[np.array(seq)]`, which will result either in an error or a different result.\n",
      "  b = a[a_slice]\n",
      "/home/yaoxiaojian/anaconda3/lib/python3.7/site-packages/scipy/signal/_arraytools.py:45: FutureWarning: Using a non-tuple sequence for multidimensional indexing is deprecated; use `arr[tuple(seq)]` instead of `arr[seq]`. In the future this will be interpreted as an array index, `arr[np.array(seq)]`, which will result either in an error or a different result.\n",
      "  b = a[a_slice]\n",
      "/home/yaoxiaojian/anaconda3/lib/python3.7/site-packages/scipy/signal/_arraytools.py:45: FutureWarning: Using a non-tuple sequence for multidimensional indexing is deprecated; use `arr[tuple(seq)]` instead of `arr[seq]`. In the future this will be interpreted as an array index, `arr[np.array(seq)]`, which will result either in an error or a different result.\n",
      "  b = a[a_slice]\n",
      "/home/yaoxiaojian/anaconda3/lib/python3.7/site-packages/scipy/signal/_arraytools.py:45: FutureWarning: Using a non-tuple sequence for multidimensional indexing is deprecated; use `arr[tuple(seq)]` instead of `arr[seq]`. In the future this will be interpreted as an array index, `arr[np.array(seq)]`, which will result either in an error or a different result.\n",
      "  b = a[a_slice]\n",
      "/home/yaoxiaojian/anaconda3/lib/python3.7/site-packages/scipy/signal/_arraytools.py:45: FutureWarning: Using a non-tuple sequence for multidimensional indexing is deprecated; use `arr[tuple(seq)]` instead of `arr[seq]`. In the future this will be interpreted as an array index, `arr[np.array(seq)]`, which will result either in an error or a different result.\n",
      "  b = a[a_slice]\n",
      "/home/yaoxiaojian/anaconda3/lib/python3.7/site-packages/scipy/signal/_arraytools.py:45: FutureWarning: Using a non-tuple sequence for multidimensional indexing is deprecated; use `arr[tuple(seq)]` instead of `arr[seq]`. In the future this will be interpreted as an array index, `arr[np.array(seq)]`, which will result either in an error or a different result.\n",
      "  b = a[a_slice]\n"
     ]
    },
    {
     "name": "stdout",
     "output_type": "stream",
     "text": [
      "subject 8 (1560, 64, 751)\n",
      "data stack shape: (12475, 64, 751) (12475,)\n",
      "DigMontage is a superset of info. 311 in DigMontage will be ignored. The ignored channels are: {'PPO3h', 'FFC2h', 'PPOz', 'FCC5h', 'POO5h', 'OI2h', 'AFp7', 'AFF10', 'FCC4', 'POz', 'CCP1', 'PPO9', 'FTT8h', 'FFT8', 'FCC3h', 'PPO10h', 'AFF9', 'F9', 'O1h', 'FT10h', 'F3h', 'F6', 'FFC2', 'F2h', 'AFp6h', 'AFpz', 'PPO3', 'PO8', 'FC2h', 'PPO1', 'T4', 'AF9h', 'POO9', 'AFp1h', 'TPP8', 'CCP5h', 'PPO8', 'FCC6', 'AFp4h', 'P1', 'POO8h', 'FT9h', 'FTT7h', 'CPP6h', 'FC4h', 'PPO4', 'Fpz', 'C6h', 'F5h', 'FFT10', 'POO1h', 'FCC2h', 'AFp3h', 'PO8h', 'CPP3', 'PPO5', 'FC5h', 'AF6', 'P6', 'P1h', 'PO4h', 'TTP7', 'FFT9', 'POO4h', 'PO10h', 'AFF9h', 'POO10h', 'PO4', 'F2', 'AFp7h', 'FCz', 'FFC1', 'POO1', 'CPP2h', 'CP4', 'PO2', 'CCP1h', 'C5h', 'I1', 'FFC5h', 'FC6h', 'FT9', 'Fp1h', 'AFF2h', 'FFC3h', 'F7h', 'PPO2', 'FTT8', 'PO9h', 'AF4h', 'F6h', 'AFF4', 'FC1h', 'AFF3h', 'TP8h', 'CPP1h', 'F1', 'AF10h', 'CPPz', 'FCC3', 'TPP7h', 'CCP6h', 'C5', 'T9', 'FCC6h', 'C3h', 'I1h', 'CPP4', 'FT10', 'TPP10h', 'TTP10', 'CPP6', 'FT7h', 'FFC6', 'FCC2', 'AFFz', 'C2h', 'P6h', 'FCC5', 'POO8', 'M2', 'FCC1h', 'POO3', 'AF7', 'TP9h', 'AFF7', 'PPO2h', 'CP6h', 'T7h', 'F9h', 'CPP5', 'TTP9', 'AF3', 'PPO5h', 'PPO6h', 'FT8', 'AFp2', 'AF4', 'PPO10', 'PO5', 'AFp3', 'FCC4h', 'CCP4', 'AFp2h', 'FTT7', 'P9', 'AFF3', 'AF7h', 'CCP5', 'FFT8h', 'FC4', 'AFp8', 'PPO1h', 'AFF1', 'CP5h', 'AF2', 'PPO7h', 'AF5h', 'POO5', 'TPP9', 'CPz', 'FCCz', 'FTT9', 'POO10', 'C6', 'AF8h', 'POO6h', 'POO2h', 'PO7', 'FTT10h', 'TTP10h', 'A1', 'PO1', 'CPP4h', 'CCP3', 'T9h', 'TP7', 'AF1', 'TTP8h', 'CP4h', 'AFF7h', 'F8h', 'POO4', 'FT7', 'PPO4h', 'POOz', 'CP2h', 'AFp8h', 'CCP2', 'FTT10', 'POO6', 'FFC1h', 'T3', 'CCP6', 'TP10h', 'OI1', 'F10h', 'TPP10', 'FFC4h', 'AF5', 'AF10', 'TTP8', 'OI2', 'AF3h', 'AFp5', 'C2', 'I2h', 'FT8h', 'CCPz', 'CCP4h', 'P7h', 'PO7h', 'FFT7h', 'T10', 'PPO8h', 'POO7h', 'AFF5', 'PPO9h', 'T10h', 'F4h', 'FFC5', 'PO6h', 'AFF10h', 'AFF5h', 'T5', 'P5h', 'P10', 'PO6', 'FC3h', 'FFC6h', 'CPP2', 'AF2h', 'CP3h', 'T6', 'CP3', 'M1', 'P2', 'AFp9', 'CCP2h', 'P5', 'F1h', 'TP7h', 'F5', 'P9h', 'P3h', 'AFp9h', 'AFF4h', 'TPP9h', 'POO2', 'P8h', 'FCC1', 'AFp5h', 'TPP8h', 'Fp2h', 'PO3', 'P4h', 'PO3h', 'TPP7', 'AFp4', 'FFCz', 'AFz', 'FFT7', 'AFF6h', 'AFF8h', 'FFT9h', 'PO2h', 'PPO7', 'TTP7h', 'C1', 'AF1h', 'FFT10h', 'T8h', 'PO1h', 'AFp1', 'A2', 'C4h', 'AF6h', 'CPP3h', 'AFF8', 'PPO6', 'FC3', 'AFF6', 'POO3h', 'CP1h', 'AF8', 'Iz', 'FFC4', 'P10h', 'P2h', 'AFp6', 'AFF1h', 'I2', 'TP8', 'TTP9h', 'FFC3', 'POO7', 'FTT9h', 'CCP3h', 'CPP5h', 'AFF2', 'OIz', 'AFp10h', 'AFp10', 'CPP1', 'AF9', 'O2h', 'OI1h', 'C1h', 'PO5h', 'F10', 'POO9h'}\n"
     ]
    },
    {
     "name": "stderr",
     "output_type": "stream",
     "text": [
      "<ipython-input-1-81fa588ad679>:54: RuntimeWarning: 1 channel names are too long, have been truncated to 15 characters:\n",
      "['BothStartLoadPhase']\n",
      "  info = create_info(ch_names,sfreq=500.0,ch_types=ch_type,montage = montage)\n",
      "/home/yaoxiaojian/anaconda3/lib/python3.7/site-packages/scipy/signal/_arraytools.py:45: FutureWarning: Using a non-tuple sequence for multidimensional indexing is deprecated; use `arr[tuple(seq)]` instead of `arr[seq]`. In the future this will be interpreted as an array index, `arr[np.array(seq)]`, which will result either in an error or a different result.\n",
      "  b = a[a_slice]\n",
      "/home/yaoxiaojian/anaconda3/lib/python3.7/site-packages/scipy/signal/_arraytools.py:45: FutureWarning: Using a non-tuple sequence for multidimensional indexing is deprecated; use `arr[tuple(seq)]` instead of `arr[seq]`. In the future this will be interpreted as an array index, `arr[np.array(seq)]`, which will result either in an error or a different result.\n",
      "  b = a[a_slice]\n",
      "/home/yaoxiaojian/anaconda3/lib/python3.7/site-packages/scipy/signal/_arraytools.py:45: FutureWarning: Using a non-tuple sequence for multidimensional indexing is deprecated; use `arr[tuple(seq)]` instead of `arr[seq]`. In the future this will be interpreted as an array index, `arr[np.array(seq)]`, which will result either in an error or a different result.\n",
      "  b = a[a_slice]\n",
      "/home/yaoxiaojian/anaconda3/lib/python3.7/site-packages/scipy/signal/_arraytools.py:45: FutureWarning: Using a non-tuple sequence for multidimensional indexing is deprecated; use `arr[tuple(seq)]` instead of `arr[seq]`. In the future this will be interpreted as an array index, `arr[np.array(seq)]`, which will result either in an error or a different result.\n",
      "  b = a[a_slice]\n",
      "/home/yaoxiaojian/anaconda3/lib/python3.7/site-packages/scipy/signal/_arraytools.py:45: FutureWarning: Using a non-tuple sequence for multidimensional indexing is deprecated; use `arr[tuple(seq)]` instead of `arr[seq]`. In the future this will be interpreted as an array index, `arr[np.array(seq)]`, which will result either in an error or a different result.\n",
      "  b = a[a_slice]\n",
      "/home/yaoxiaojian/anaconda3/lib/python3.7/site-packages/scipy/signal/_arraytools.py:45: FutureWarning: Using a non-tuple sequence for multidimensional indexing is deprecated; use `arr[tuple(seq)]` instead of `arr[seq]`. In the future this will be interpreted as an array index, `arr[np.array(seq)]`, which will result either in an error or a different result.\n",
      "  b = a[a_slice]\n",
      "/home/yaoxiaojian/anaconda3/lib/python3.7/site-packages/scipy/signal/_arraytools.py:45: FutureWarning: Using a non-tuple sequence for multidimensional indexing is deprecated; use `arr[tuple(seq)]` instead of `arr[seq]`. In the future this will be interpreted as an array index, `arr[np.array(seq)]`, which will result either in an error or a different result.\n",
      "  b = a[a_slice]\n",
      "/home/yaoxiaojian/anaconda3/lib/python3.7/site-packages/scipy/signal/_arraytools.py:45: FutureWarning: Using a non-tuple sequence for multidimensional indexing is deprecated; use `arr[tuple(seq)]` instead of `arr[seq]`. In the future this will be interpreted as an array index, `arr[np.array(seq)]`, which will result either in an error or a different result.\n",
      "  b = a[a_slice]\n"
     ]
    },
    {
     "name": "stdout",
     "output_type": "stream",
     "text": [
      "DigMontage is a superset of info. 311 in DigMontage will be ignored. The ignored channels are: {'PPO3h', 'FFC2h', 'PPOz', 'FCC5h', 'POO5h', 'OI2h', 'AFp7', 'AFF10', 'FCC4', 'POz', 'CCP1', 'PPO9', 'FTT8h', 'FFT8', 'FCC3h', 'PPO10h', 'AFF9', 'F9', 'O1h', 'FT10h', 'F3h', 'F6', 'FFC2', 'F2h', 'AFp6h', 'AFpz', 'PPO3', 'PO8', 'FC2h', 'PPO1', 'T4', 'AF9h', 'POO9', 'AFp1h', 'TPP8', 'CCP5h', 'PPO8', 'FCC6', 'AFp4h', 'P1', 'POO8h', 'FT9h', 'FTT7h', 'CPP6h', 'FC4h', 'PPO4', 'Fpz', 'C6h', 'F5h', 'FFT10', 'POO1h', 'FCC2h', 'AFp3h', 'PO8h', 'CPP3', 'PPO5', 'FC5h', 'AF6', 'P6', 'P1h', 'PO4h', 'TTP7', 'FFT9', 'POO4h', 'PO10h', 'AFF9h', 'POO10h', 'PO4', 'F2', 'AFp7h', 'FCz', 'FFC1', 'POO1', 'CPP2h', 'CP4', 'PO2', 'CCP1h', 'C5h', 'I1', 'FFC5h', 'FC6h', 'FT9', 'Fp1h', 'AFF2h', 'FFC3h', 'F7h', 'PPO2', 'FTT8', 'PO9h', 'AF4h', 'F6h', 'AFF4', 'FC1h', 'AFF3h', 'TP8h', 'CPP1h', 'F1', 'AF10h', 'CPPz', 'FCC3', 'TPP7h', 'CCP6h', 'C5', 'T9', 'FCC6h', 'C3h', 'I1h', 'CPP4', 'FT10', 'TPP10h', 'TTP10', 'CPP6', 'FT7h', 'FFC6', 'FCC2', 'AFFz', 'C2h', 'P6h', 'FCC5', 'POO8', 'M2', 'FCC1h', 'POO3', 'AF7', 'TP9h', 'AFF7', 'PPO2h', 'CP6h', 'T7h', 'F9h', 'CPP5', 'TTP9', 'AF3', 'PPO5h', 'PPO6h', 'FT8', 'AFp2', 'AF4', 'PPO10', 'PO5', 'AFp3', 'FCC4h', 'CCP4', 'AFp2h', 'FTT7', 'P9', 'AFF3', 'AF7h', 'CCP5', 'FFT8h', 'FC4', 'AFp8', 'PPO1h', 'AFF1', 'CP5h', 'AF2', 'PPO7h', 'AF5h', 'POO5', 'TPP9', 'CPz', 'FCCz', 'FTT9', 'POO10', 'C6', 'AF8h', 'POO6h', 'POO2h', 'PO7', 'FTT10h', 'TTP10h', 'A1', 'PO1', 'CPP4h', 'CCP3', 'T9h', 'TP7', 'AF1', 'TTP8h', 'CP4h', 'AFF7h', 'F8h', 'POO4', 'FT7', 'PPO4h', 'POOz', 'CP2h', 'AFp8h', 'CCP2', 'FTT10', 'POO6', 'FFC1h', 'T3', 'CCP6', 'TP10h', 'OI1', 'F10h', 'TPP10', 'FFC4h', 'AF5', 'AF10', 'TTP8', 'OI2', 'AF3h', 'AFp5', 'C2', 'I2h', 'FT8h', 'CCPz', 'CCP4h', 'P7h', 'PO7h', 'FFT7h', 'T10', 'PPO8h', 'POO7h', 'AFF5', 'PPO9h', 'T10h', 'F4h', 'FFC5', 'PO6h', 'AFF10h', 'AFF5h', 'T5', 'P5h', 'P10', 'PO6', 'FC3h', 'FFC6h', 'CPP2', 'AF2h', 'CP3h', 'T6', 'CP3', 'M1', 'P2', 'AFp9', 'CCP2h', 'P5', 'F1h', 'TP7h', 'F5', 'P9h', 'P3h', 'AFp9h', 'AFF4h', 'TPP9h', 'POO2', 'P8h', 'FCC1', 'AFp5h', 'TPP8h', 'Fp2h', 'PO3', 'P4h', 'PO3h', 'TPP7', 'AFp4', 'FFCz', 'AFz', 'FFT7', 'AFF6h', 'AFF8h', 'FFT9h', 'PO2h', 'PPO7', 'TTP7h', 'C1', 'AF1h', 'FFT10h', 'T8h', 'PO1h', 'AFp1', 'A2', 'C4h', 'AF6h', 'CPP3h', 'AFF8', 'PPO6', 'FC3', 'AFF6', 'POO3h', 'CP1h', 'AF8', 'Iz', 'FFC4', 'P10h', 'P2h', 'AFp6', 'AFF1h', 'I2', 'TP8', 'TTP9h', 'FFC3', 'POO7', 'FTT9h', 'CCP3h', 'CPP5h', 'AFF2', 'OIz', 'AFp10h', 'AFp10', 'CPP1', 'AF9', 'O2h', 'OI1h', 'C1h', 'PO5h', 'F10', 'POO9h'}\n"
     ]
    },
    {
     "name": "stderr",
     "output_type": "stream",
     "text": [
      "<ipython-input-1-81fa588ad679>:54: RuntimeWarning: 1 channel names are too long, have been truncated to 15 characters:\n",
      "['BothStartLoadPhase']\n",
      "  info = create_info(ch_names,sfreq=500.0,ch_types=ch_type,montage = montage)\n",
      "/home/yaoxiaojian/anaconda3/lib/python3.7/site-packages/scipy/signal/_arraytools.py:45: FutureWarning: Using a non-tuple sequence for multidimensional indexing is deprecated; use `arr[tuple(seq)]` instead of `arr[seq]`. In the future this will be interpreted as an array index, `arr[np.array(seq)]`, which will result either in an error or a different result.\n",
      "  b = a[a_slice]\n",
      "/home/yaoxiaojian/anaconda3/lib/python3.7/site-packages/scipy/signal/_arraytools.py:45: FutureWarning: Using a non-tuple sequence for multidimensional indexing is deprecated; use `arr[tuple(seq)]` instead of `arr[seq]`. In the future this will be interpreted as an array index, `arr[np.array(seq)]`, which will result either in an error or a different result.\n",
      "  b = a[a_slice]\n",
      "/home/yaoxiaojian/anaconda3/lib/python3.7/site-packages/scipy/signal/_arraytools.py:45: FutureWarning: Using a non-tuple sequence for multidimensional indexing is deprecated; use `arr[tuple(seq)]` instead of `arr[seq]`. In the future this will be interpreted as an array index, `arr[np.array(seq)]`, which will result either in an error or a different result.\n",
      "  b = a[a_slice]\n",
      "/home/yaoxiaojian/anaconda3/lib/python3.7/site-packages/scipy/signal/_arraytools.py:45: FutureWarning: Using a non-tuple sequence for multidimensional indexing is deprecated; use `arr[tuple(seq)]` instead of `arr[seq]`. In the future this will be interpreted as an array index, `arr[np.array(seq)]`, which will result either in an error or a different result.\n",
      "  b = a[a_slice]\n",
      "/home/yaoxiaojian/anaconda3/lib/python3.7/site-packages/scipy/signal/_arraytools.py:45: FutureWarning: Using a non-tuple sequence for multidimensional indexing is deprecated; use `arr[tuple(seq)]` instead of `arr[seq]`. In the future this will be interpreted as an array index, `arr[np.array(seq)]`, which will result either in an error or a different result.\n",
      "  b = a[a_slice]\n",
      "/home/yaoxiaojian/anaconda3/lib/python3.7/site-packages/scipy/signal/_arraytools.py:45: FutureWarning: Using a non-tuple sequence for multidimensional indexing is deprecated; use `arr[tuple(seq)]` instead of `arr[seq]`. In the future this will be interpreted as an array index, `arr[np.array(seq)]`, which will result either in an error or a different result.\n",
      "  b = a[a_slice]\n",
      "/home/yaoxiaojian/anaconda3/lib/python3.7/site-packages/scipy/signal/_arraytools.py:45: FutureWarning: Using a non-tuple sequence for multidimensional indexing is deprecated; use `arr[tuple(seq)]` instead of `arr[seq]`. In the future this will be interpreted as an array index, `arr[np.array(seq)]`, which will result either in an error or a different result.\n",
      "  b = a[a_slice]\n",
      "/home/yaoxiaojian/anaconda3/lib/python3.7/site-packages/scipy/signal/_arraytools.py:45: FutureWarning: Using a non-tuple sequence for multidimensional indexing is deprecated; use `arr[tuple(seq)]` instead of `arr[seq]`. In the future this will be interpreted as an array index, `arr[np.array(seq)]`, which will result either in an error or a different result.\n",
      "  b = a[a_slice]\n"
     ]
    },
    {
     "name": "stdout",
     "output_type": "stream",
     "text": [
      "DigMontage is a superset of info. 311 in DigMontage will be ignored. The ignored channels are: {'PPO3h', 'FFC2h', 'PPOz', 'FCC5h', 'POO5h', 'OI2h', 'AFp7', 'AFF10', 'FCC4', 'POz', 'CCP1', 'PPO9', 'FTT8h', 'FFT8', 'FCC3h', 'PPO10h', 'AFF9', 'F9', 'O1h', 'FT10h', 'F3h', 'F6', 'FFC2', 'F2h', 'AFp6h', 'AFpz', 'PPO3', 'PO8', 'FC2h', 'PPO1', 'T4', 'AF9h', 'POO9', 'AFp1h', 'TPP8', 'CCP5h', 'PPO8', 'FCC6', 'AFp4h', 'P1', 'POO8h', 'FT9h', 'FTT7h', 'CPP6h', 'FC4h', 'PPO4', 'Fpz', 'C6h', 'F5h', 'FFT10', 'POO1h', 'FCC2h', 'AFp3h', 'PO8h', 'CPP3', 'PPO5', 'FC5h', 'AF6', 'P6', 'P1h', 'PO4h', 'TTP7', 'FFT9', 'POO4h', 'PO10h', 'AFF9h', 'POO10h', 'PO4', 'F2', 'AFp7h', 'FCz', 'FFC1', 'POO1', 'CPP2h', 'CP4', 'PO2', 'CCP1h', 'C5h', 'I1', 'FFC5h', 'FC6h', 'FT9', 'Fp1h', 'AFF2h', 'FFC3h', 'F7h', 'PPO2', 'FTT8', 'PO9h', 'AF4h', 'F6h', 'AFF4', 'FC1h', 'AFF3h', 'TP8h', 'CPP1h', 'F1', 'AF10h', 'CPPz', 'FCC3', 'TPP7h', 'CCP6h', 'C5', 'T9', 'FCC6h', 'C3h', 'I1h', 'CPP4', 'FT10', 'TPP10h', 'TTP10', 'CPP6', 'FT7h', 'FFC6', 'FCC2', 'AFFz', 'C2h', 'P6h', 'FCC5', 'POO8', 'M2', 'FCC1h', 'POO3', 'AF7', 'TP9h', 'AFF7', 'PPO2h', 'CP6h', 'T7h', 'F9h', 'CPP5', 'TTP9', 'AF3', 'PPO5h', 'PPO6h', 'FT8', 'AFp2', 'AF4', 'PPO10', 'PO5', 'AFp3', 'FCC4h', 'CCP4', 'AFp2h', 'FTT7', 'P9', 'AFF3', 'AF7h', 'CCP5', 'FFT8h', 'FC4', 'AFp8', 'PPO1h', 'AFF1', 'CP5h', 'AF2', 'PPO7h', 'AF5h', 'POO5', 'TPP9', 'CPz', 'FCCz', 'FTT9', 'POO10', 'C6', 'AF8h', 'POO6h', 'POO2h', 'PO7', 'FTT10h', 'TTP10h', 'A1', 'PO1', 'CPP4h', 'CCP3', 'T9h', 'TP7', 'AF1', 'TTP8h', 'CP4h', 'AFF7h', 'F8h', 'POO4', 'FT7', 'PPO4h', 'POOz', 'CP2h', 'AFp8h', 'CCP2', 'FTT10', 'POO6', 'FFC1h', 'T3', 'CCP6', 'TP10h', 'OI1', 'F10h', 'TPP10', 'FFC4h', 'AF5', 'AF10', 'TTP8', 'OI2', 'AF3h', 'AFp5', 'C2', 'I2h', 'FT8h', 'CCPz', 'CCP4h', 'P7h', 'PO7h', 'FFT7h', 'T10', 'PPO8h', 'POO7h', 'AFF5', 'PPO9h', 'T10h', 'F4h', 'FFC5', 'PO6h', 'AFF10h', 'AFF5h', 'T5', 'P5h', 'P10', 'PO6', 'FC3h', 'FFC6h', 'CPP2', 'AF2h', 'CP3h', 'T6', 'CP3', 'M1', 'P2', 'AFp9', 'CCP2h', 'P5', 'F1h', 'TP7h', 'F5', 'P9h', 'P3h', 'AFp9h', 'AFF4h', 'TPP9h', 'POO2', 'P8h', 'FCC1', 'AFp5h', 'TPP8h', 'Fp2h', 'PO3', 'P4h', 'PO3h', 'TPP7', 'AFp4', 'FFCz', 'AFz', 'FFT7', 'AFF6h', 'AFF8h', 'FFT9h', 'PO2h', 'PPO7', 'TTP7h', 'C1', 'AF1h', 'FFT10h', 'T8h', 'PO1h', 'AFp1', 'A2', 'C4h', 'AF6h', 'CPP3h', 'AFF8', 'PPO6', 'FC3', 'AFF6', 'POO3h', 'CP1h', 'AF8', 'Iz', 'FFC4', 'P10h', 'P2h', 'AFp6', 'AFF1h', 'I2', 'TP8', 'TTP9h', 'FFC3', 'POO7', 'FTT9h', 'CCP3h', 'CPP5h', 'AFF2', 'OIz', 'AFp10h', 'AFp10', 'CPP1', 'AF9', 'O2h', 'OI1h', 'C1h', 'PO5h', 'F10', 'POO9h'}\n"
     ]
    },
    {
     "name": "stderr",
     "output_type": "stream",
     "text": [
      "<ipython-input-1-81fa588ad679>:54: RuntimeWarning: 1 channel names are too long, have been truncated to 15 characters:\n",
      "['BothStartLoadPhase']\n",
      "  info = create_info(ch_names,sfreq=500.0,ch_types=ch_type,montage = montage)\n",
      "/home/yaoxiaojian/anaconda3/lib/python3.7/site-packages/scipy/signal/_arraytools.py:45: FutureWarning: Using a non-tuple sequence for multidimensional indexing is deprecated; use `arr[tuple(seq)]` instead of `arr[seq]`. In the future this will be interpreted as an array index, `arr[np.array(seq)]`, which will result either in an error or a different result.\n",
      "  b = a[a_slice]\n",
      "/home/yaoxiaojian/anaconda3/lib/python3.7/site-packages/scipy/signal/_arraytools.py:45: FutureWarning: Using a non-tuple sequence for multidimensional indexing is deprecated; use `arr[tuple(seq)]` instead of `arr[seq]`. In the future this will be interpreted as an array index, `arr[np.array(seq)]`, which will result either in an error or a different result.\n",
      "  b = a[a_slice]\n",
      "/home/yaoxiaojian/anaconda3/lib/python3.7/site-packages/scipy/signal/_arraytools.py:45: FutureWarning: Using a non-tuple sequence for multidimensional indexing is deprecated; use `arr[tuple(seq)]` instead of `arr[seq]`. In the future this will be interpreted as an array index, `arr[np.array(seq)]`, which will result either in an error or a different result.\n",
      "  b = a[a_slice]\n",
      "/home/yaoxiaojian/anaconda3/lib/python3.7/site-packages/scipy/signal/_arraytools.py:45: FutureWarning: Using a non-tuple sequence for multidimensional indexing is deprecated; use `arr[tuple(seq)]` instead of `arr[seq]`. In the future this will be interpreted as an array index, `arr[np.array(seq)]`, which will result either in an error or a different result.\n",
      "  b = a[a_slice]\n",
      "/home/yaoxiaojian/anaconda3/lib/python3.7/site-packages/scipy/signal/_arraytools.py:45: FutureWarning: Using a non-tuple sequence for multidimensional indexing is deprecated; use `arr[tuple(seq)]` instead of `arr[seq]`. In the future this will be interpreted as an array index, `arr[np.array(seq)]`, which will result either in an error or a different result.\n",
      "  b = a[a_slice]\n",
      "/home/yaoxiaojian/anaconda3/lib/python3.7/site-packages/scipy/signal/_arraytools.py:45: FutureWarning: Using a non-tuple sequence for multidimensional indexing is deprecated; use `arr[tuple(seq)]` instead of `arr[seq]`. In the future this will be interpreted as an array index, `arr[np.array(seq)]`, which will result either in an error or a different result.\n",
      "  b = a[a_slice]\n",
      "/home/yaoxiaojian/anaconda3/lib/python3.7/site-packages/scipy/signal/_arraytools.py:45: FutureWarning: Using a non-tuple sequence for multidimensional indexing is deprecated; use `arr[tuple(seq)]` instead of `arr[seq]`. In the future this will be interpreted as an array index, `arr[np.array(seq)]`, which will result either in an error or a different result.\n",
      "  b = a[a_slice]\n",
      "/home/yaoxiaojian/anaconda3/lib/python3.7/site-packages/scipy/signal/_arraytools.py:45: FutureWarning: Using a non-tuple sequence for multidimensional indexing is deprecated; use `arr[tuple(seq)]` instead of `arr[seq]`. In the future this will be interpreted as an array index, `arr[np.array(seq)]`, which will result either in an error or a different result.\n",
      "  b = a[a_slice]\n"
     ]
    },
    {
     "name": "stdout",
     "output_type": "stream",
     "text": [
      "DigMontage is a superset of info. 311 in DigMontage will be ignored. The ignored channels are: {'PPO3h', 'FFC2h', 'PPOz', 'FCC5h', 'POO5h', 'OI2h', 'AFp7', 'AFF10', 'FCC4', 'POz', 'CCP1', 'PPO9', 'FTT8h', 'FFT8', 'FCC3h', 'PPO10h', 'AFF9', 'F9', 'O1h', 'FT10h', 'F3h', 'F6', 'FFC2', 'F2h', 'AFp6h', 'AFpz', 'PPO3', 'PO8', 'FC2h', 'PPO1', 'T4', 'AF9h', 'POO9', 'AFp1h', 'TPP8', 'CCP5h', 'PPO8', 'FCC6', 'AFp4h', 'P1', 'POO8h', 'FT9h', 'FTT7h', 'CPP6h', 'FC4h', 'PPO4', 'Fpz', 'C6h', 'F5h', 'FFT10', 'POO1h', 'FCC2h', 'AFp3h', 'PO8h', 'CPP3', 'PPO5', 'FC5h', 'AF6', 'P6', 'P1h', 'PO4h', 'TTP7', 'FFT9', 'POO4h', 'PO10h', 'AFF9h', 'POO10h', 'PO4', 'F2', 'AFp7h', 'FCz', 'FFC1', 'POO1', 'CPP2h', 'CP4', 'PO2', 'CCP1h', 'C5h', 'I1', 'FFC5h', 'FC6h', 'FT9', 'Fp1h', 'AFF2h', 'FFC3h', 'F7h', 'PPO2', 'FTT8', 'PO9h', 'AF4h', 'F6h', 'AFF4', 'FC1h', 'AFF3h', 'TP8h', 'CPP1h', 'F1', 'AF10h', 'CPPz', 'FCC3', 'TPP7h', 'CCP6h', 'C5', 'T9', 'FCC6h', 'C3h', 'I1h', 'CPP4', 'FT10', 'TPP10h', 'TTP10', 'CPP6', 'FT7h', 'FFC6', 'FCC2', 'AFFz', 'C2h', 'P6h', 'FCC5', 'POO8', 'M2', 'FCC1h', 'POO3', 'AF7', 'TP9h', 'AFF7', 'PPO2h', 'CP6h', 'T7h', 'F9h', 'CPP5', 'TTP9', 'AF3', 'PPO5h', 'PPO6h', 'FT8', 'AFp2', 'AF4', 'PPO10', 'PO5', 'AFp3', 'FCC4h', 'CCP4', 'AFp2h', 'FTT7', 'P9', 'AFF3', 'AF7h', 'CCP5', 'FFT8h', 'FC4', 'AFp8', 'PPO1h', 'AFF1', 'CP5h', 'AF2', 'PPO7h', 'AF5h', 'POO5', 'TPP9', 'CPz', 'FCCz', 'FTT9', 'POO10', 'C6', 'AF8h', 'POO6h', 'POO2h', 'PO7', 'FTT10h', 'TTP10h', 'A1', 'PO1', 'CPP4h', 'CCP3', 'T9h', 'TP7', 'AF1', 'TTP8h', 'CP4h', 'AFF7h', 'F8h', 'POO4', 'FT7', 'PPO4h', 'POOz', 'CP2h', 'AFp8h', 'CCP2', 'FTT10', 'POO6', 'FFC1h', 'T3', 'CCP6', 'TP10h', 'OI1', 'F10h', 'TPP10', 'FFC4h', 'AF5', 'AF10', 'TTP8', 'OI2', 'AF3h', 'AFp5', 'C2', 'I2h', 'FT8h', 'CCPz', 'CCP4h', 'P7h', 'PO7h', 'FFT7h', 'T10', 'PPO8h', 'POO7h', 'AFF5', 'PPO9h', 'T10h', 'F4h', 'FFC5', 'PO6h', 'AFF10h', 'AFF5h', 'T5', 'P5h', 'P10', 'PO6', 'FC3h', 'FFC6h', 'CPP2', 'AF2h', 'CP3h', 'T6', 'CP3', 'M1', 'P2', 'AFp9', 'CCP2h', 'P5', 'F1h', 'TP7h', 'F5', 'P9h', 'P3h', 'AFp9h', 'AFF4h', 'TPP9h', 'POO2', 'P8h', 'FCC1', 'AFp5h', 'TPP8h', 'Fp2h', 'PO3', 'P4h', 'PO3h', 'TPP7', 'AFp4', 'FFCz', 'AFz', 'FFT7', 'AFF6h', 'AFF8h', 'FFT9h', 'PO2h', 'PPO7', 'TTP7h', 'C1', 'AF1h', 'FFT10h', 'T8h', 'PO1h', 'AFp1', 'A2', 'C4h', 'AF6h', 'CPP3h', 'AFF8', 'PPO6', 'FC3', 'AFF6', 'POO3h', 'CP1h', 'AF8', 'Iz', 'FFC4', 'P10h', 'P2h', 'AFp6', 'AFF1h', 'I2', 'TP8', 'TTP9h', 'FFC3', 'POO7', 'FTT9h', 'CCP3h', 'CPP5h', 'AFF2', 'OIz', 'AFp10h', 'AFp10', 'CPP1', 'AF9', 'O2h', 'OI1h', 'C1h', 'PO5h', 'F10', 'POO9h'}\n"
     ]
    },
    {
     "name": "stderr",
     "output_type": "stream",
     "text": [
      "<ipython-input-1-81fa588ad679>:54: RuntimeWarning: 1 channel names are too long, have been truncated to 15 characters:\n",
      "['BothStartLoadPhase']\n",
      "  info = create_info(ch_names,sfreq=500.0,ch_types=ch_type,montage = montage)\n",
      "/home/yaoxiaojian/anaconda3/lib/python3.7/site-packages/scipy/signal/_arraytools.py:45: FutureWarning: Using a non-tuple sequence for multidimensional indexing is deprecated; use `arr[tuple(seq)]` instead of `arr[seq]`. In the future this will be interpreted as an array index, `arr[np.array(seq)]`, which will result either in an error or a different result.\n",
      "  b = a[a_slice]\n",
      "/home/yaoxiaojian/anaconda3/lib/python3.7/site-packages/scipy/signal/_arraytools.py:45: FutureWarning: Using a non-tuple sequence for multidimensional indexing is deprecated; use `arr[tuple(seq)]` instead of `arr[seq]`. In the future this will be interpreted as an array index, `arr[np.array(seq)]`, which will result either in an error or a different result.\n",
      "  b = a[a_slice]\n",
      "/home/yaoxiaojian/anaconda3/lib/python3.7/site-packages/scipy/signal/_arraytools.py:45: FutureWarning: Using a non-tuple sequence for multidimensional indexing is deprecated; use `arr[tuple(seq)]` instead of `arr[seq]`. In the future this will be interpreted as an array index, `arr[np.array(seq)]`, which will result either in an error or a different result.\n",
      "  b = a[a_slice]\n",
      "/home/yaoxiaojian/anaconda3/lib/python3.7/site-packages/scipy/signal/_arraytools.py:45: FutureWarning: Using a non-tuple sequence for multidimensional indexing is deprecated; use `arr[tuple(seq)]` instead of `arr[seq]`. In the future this will be interpreted as an array index, `arr[np.array(seq)]`, which will result either in an error or a different result.\n",
      "  b = a[a_slice]\n",
      "/home/yaoxiaojian/anaconda3/lib/python3.7/site-packages/scipy/signal/_arraytools.py:45: FutureWarning: Using a non-tuple sequence for multidimensional indexing is deprecated; use `arr[tuple(seq)]` instead of `arr[seq]`. In the future this will be interpreted as an array index, `arr[np.array(seq)]`, which will result either in an error or a different result.\n",
      "  b = a[a_slice]\n",
      "/home/yaoxiaojian/anaconda3/lib/python3.7/site-packages/scipy/signal/_arraytools.py:45: FutureWarning: Using a non-tuple sequence for multidimensional indexing is deprecated; use `arr[tuple(seq)]` instead of `arr[seq]`. In the future this will be interpreted as an array index, `arr[np.array(seq)]`, which will result either in an error or a different result.\n",
      "  b = a[a_slice]\n",
      "/home/yaoxiaojian/anaconda3/lib/python3.7/site-packages/scipy/signal/_arraytools.py:45: FutureWarning: Using a non-tuple sequence for multidimensional indexing is deprecated; use `arr[tuple(seq)]` instead of `arr[seq]`. In the future this will be interpreted as an array index, `arr[np.array(seq)]`, which will result either in an error or a different result.\n",
      "  b = a[a_slice]\n",
      "/home/yaoxiaojian/anaconda3/lib/python3.7/site-packages/scipy/signal/_arraytools.py:45: FutureWarning: Using a non-tuple sequence for multidimensional indexing is deprecated; use `arr[tuple(seq)]` instead of `arr[seq]`. In the future this will be interpreted as an array index, `arr[np.array(seq)]`, which will result either in an error or a different result.\n",
      "  b = a[a_slice]\n"
     ]
    },
    {
     "name": "stdout",
     "output_type": "stream",
     "text": [
      "DigMontage is a superset of info. 311 in DigMontage will be ignored. The ignored channels are: {'PPO3h', 'FFC2h', 'PPOz', 'FCC5h', 'POO5h', 'OI2h', 'AFp7', 'AFF10', 'FCC4', 'POz', 'CCP1', 'PPO9', 'FTT8h', 'FFT8', 'FCC3h', 'PPO10h', 'AFF9', 'F9', 'O1h', 'FT10h', 'F3h', 'F6', 'FFC2', 'F2h', 'AFp6h', 'AFpz', 'PPO3', 'PO8', 'FC2h', 'PPO1', 'T4', 'AF9h', 'POO9', 'AFp1h', 'TPP8', 'CCP5h', 'PPO8', 'FCC6', 'AFp4h', 'P1', 'POO8h', 'FT9h', 'FTT7h', 'CPP6h', 'FC4h', 'PPO4', 'Fpz', 'C6h', 'F5h', 'FFT10', 'POO1h', 'FCC2h', 'AFp3h', 'PO8h', 'CPP3', 'PPO5', 'FC5h', 'AF6', 'P6', 'P1h', 'PO4h', 'TTP7', 'FFT9', 'POO4h', 'PO10h', 'AFF9h', 'POO10h', 'PO4', 'F2', 'AFp7h', 'FCz', 'FFC1', 'POO1', 'CPP2h', 'CP4', 'PO2', 'CCP1h', 'C5h', 'I1', 'FFC5h', 'FC6h', 'FT9', 'Fp1h', 'AFF2h', 'FFC3h', 'F7h', 'PPO2', 'FTT8', 'PO9h', 'AF4h', 'F6h', 'AFF4', 'FC1h', 'AFF3h', 'TP8h', 'CPP1h', 'F1', 'AF10h', 'CPPz', 'FCC3', 'TPP7h', 'CCP6h', 'C5', 'T9', 'FCC6h', 'C3h', 'I1h', 'CPP4', 'FT10', 'TPP10h', 'TTP10', 'CPP6', 'FT7h', 'FFC6', 'FCC2', 'AFFz', 'C2h', 'P6h', 'FCC5', 'POO8', 'M2', 'FCC1h', 'POO3', 'AF7', 'TP9h', 'AFF7', 'PPO2h', 'CP6h', 'T7h', 'F9h', 'CPP5', 'TTP9', 'AF3', 'PPO5h', 'PPO6h', 'FT8', 'AFp2', 'AF4', 'PPO10', 'PO5', 'AFp3', 'FCC4h', 'CCP4', 'AFp2h', 'FTT7', 'P9', 'AFF3', 'AF7h', 'CCP5', 'FFT8h', 'FC4', 'AFp8', 'PPO1h', 'AFF1', 'CP5h', 'AF2', 'PPO7h', 'AF5h', 'POO5', 'TPP9', 'CPz', 'FCCz', 'FTT9', 'POO10', 'C6', 'AF8h', 'POO6h', 'POO2h', 'PO7', 'FTT10h', 'TTP10h', 'A1', 'PO1', 'CPP4h', 'CCP3', 'T9h', 'TP7', 'AF1', 'TTP8h', 'CP4h', 'AFF7h', 'F8h', 'POO4', 'FT7', 'PPO4h', 'POOz', 'CP2h', 'AFp8h', 'CCP2', 'FTT10', 'POO6', 'FFC1h', 'T3', 'CCP6', 'TP10h', 'OI1', 'F10h', 'TPP10', 'FFC4h', 'AF5', 'AF10', 'TTP8', 'OI2', 'AF3h', 'AFp5', 'C2', 'I2h', 'FT8h', 'CCPz', 'CCP4h', 'P7h', 'PO7h', 'FFT7h', 'T10', 'PPO8h', 'POO7h', 'AFF5', 'PPO9h', 'T10h', 'F4h', 'FFC5', 'PO6h', 'AFF10h', 'AFF5h', 'T5', 'P5h', 'P10', 'PO6', 'FC3h', 'FFC6h', 'CPP2', 'AF2h', 'CP3h', 'T6', 'CP3', 'M1', 'P2', 'AFp9', 'CCP2h', 'P5', 'F1h', 'TP7h', 'F5', 'P9h', 'P3h', 'AFp9h', 'AFF4h', 'TPP9h', 'POO2', 'P8h', 'FCC1', 'AFp5h', 'TPP8h', 'Fp2h', 'PO3', 'P4h', 'PO3h', 'TPP7', 'AFp4', 'FFCz', 'AFz', 'FFT7', 'AFF6h', 'AFF8h', 'FFT9h', 'PO2h', 'PPO7', 'TTP7h', 'C1', 'AF1h', 'FFT10h', 'T8h', 'PO1h', 'AFp1', 'A2', 'C4h', 'AF6h', 'CPP3h', 'AFF8', 'PPO6', 'FC3', 'AFF6', 'POO3h', 'CP1h', 'AF8', 'Iz', 'FFC4', 'P10h', 'P2h', 'AFp6', 'AFF1h', 'I2', 'TP8', 'TTP9h', 'FFC3', 'POO7', 'FTT9h', 'CCP3h', 'CPP5h', 'AFF2', 'OIz', 'AFp10h', 'AFp10', 'CPP1', 'AF9', 'O2h', 'OI1h', 'C1h', 'PO5h', 'F10', 'POO9h'}\n"
     ]
    },
    {
     "name": "stderr",
     "output_type": "stream",
     "text": [
      "<ipython-input-1-81fa588ad679>:54: RuntimeWarning: 1 channel names are too long, have been truncated to 15 characters:\n",
      "['BothStartLoadPhase']\n",
      "  info = create_info(ch_names,sfreq=500.0,ch_types=ch_type,montage = montage)\n",
      "/home/yaoxiaojian/anaconda3/lib/python3.7/site-packages/scipy/signal/_arraytools.py:45: FutureWarning: Using a non-tuple sequence for multidimensional indexing is deprecated; use `arr[tuple(seq)]` instead of `arr[seq]`. In the future this will be interpreted as an array index, `arr[np.array(seq)]`, which will result either in an error or a different result.\n",
      "  b = a[a_slice]\n",
      "/home/yaoxiaojian/anaconda3/lib/python3.7/site-packages/scipy/signal/_arraytools.py:45: FutureWarning: Using a non-tuple sequence for multidimensional indexing is deprecated; use `arr[tuple(seq)]` instead of `arr[seq]`. In the future this will be interpreted as an array index, `arr[np.array(seq)]`, which will result either in an error or a different result.\n",
      "  b = a[a_slice]\n",
      "/home/yaoxiaojian/anaconda3/lib/python3.7/site-packages/scipy/signal/_arraytools.py:45: FutureWarning: Using a non-tuple sequence for multidimensional indexing is deprecated; use `arr[tuple(seq)]` instead of `arr[seq]`. In the future this will be interpreted as an array index, `arr[np.array(seq)]`, which will result either in an error or a different result.\n",
      "  b = a[a_slice]\n",
      "/home/yaoxiaojian/anaconda3/lib/python3.7/site-packages/scipy/signal/_arraytools.py:45: FutureWarning: Using a non-tuple sequence for multidimensional indexing is deprecated; use `arr[tuple(seq)]` instead of `arr[seq]`. In the future this will be interpreted as an array index, `arr[np.array(seq)]`, which will result either in an error or a different result.\n",
      "  b = a[a_slice]\n",
      "/home/yaoxiaojian/anaconda3/lib/python3.7/site-packages/scipy/signal/_arraytools.py:45: FutureWarning: Using a non-tuple sequence for multidimensional indexing is deprecated; use `arr[tuple(seq)]` instead of `arr[seq]`. In the future this will be interpreted as an array index, `arr[np.array(seq)]`, which will result either in an error or a different result.\n",
      "  b = a[a_slice]\n",
      "/home/yaoxiaojian/anaconda3/lib/python3.7/site-packages/scipy/signal/_arraytools.py:45: FutureWarning: Using a non-tuple sequence for multidimensional indexing is deprecated; use `arr[tuple(seq)]` instead of `arr[seq]`. In the future this will be interpreted as an array index, `arr[np.array(seq)]`, which will result either in an error or a different result.\n",
      "  b = a[a_slice]\n",
      "/home/yaoxiaojian/anaconda3/lib/python3.7/site-packages/scipy/signal/_arraytools.py:45: FutureWarning: Using a non-tuple sequence for multidimensional indexing is deprecated; use `arr[tuple(seq)]` instead of `arr[seq]`. In the future this will be interpreted as an array index, `arr[np.array(seq)]`, which will result either in an error or a different result.\n",
      "  b = a[a_slice]\n",
      "/home/yaoxiaojian/anaconda3/lib/python3.7/site-packages/scipy/signal/_arraytools.py:45: FutureWarning: Using a non-tuple sequence for multidimensional indexing is deprecated; use `arr[tuple(seq)]` instead of `arr[seq]`. In the future this will be interpreted as an array index, `arr[np.array(seq)]`, which will result either in an error or a different result.\n",
      "  b = a[a_slice]\n"
     ]
    },
    {
     "name": "stdout",
     "output_type": "stream",
     "text": [
      "DigMontage is a superset of info. 311 in DigMontage will be ignored. The ignored channels are: {'PPO3h', 'FFC2h', 'PPOz', 'FCC5h', 'POO5h', 'OI2h', 'AFp7', 'AFF10', 'FCC4', 'POz', 'CCP1', 'PPO9', 'FTT8h', 'FFT8', 'FCC3h', 'PPO10h', 'AFF9', 'F9', 'O1h', 'FT10h', 'F3h', 'F6', 'FFC2', 'F2h', 'AFp6h', 'AFpz', 'PPO3', 'PO8', 'FC2h', 'PPO1', 'T4', 'AF9h', 'POO9', 'AFp1h', 'TPP8', 'CCP5h', 'PPO8', 'FCC6', 'AFp4h', 'P1', 'POO8h', 'FT9h', 'FTT7h', 'CPP6h', 'FC4h', 'PPO4', 'Fpz', 'C6h', 'F5h', 'FFT10', 'POO1h', 'FCC2h', 'AFp3h', 'PO8h', 'CPP3', 'PPO5', 'FC5h', 'AF6', 'P6', 'P1h', 'PO4h', 'TTP7', 'FFT9', 'POO4h', 'PO10h', 'AFF9h', 'POO10h', 'PO4', 'F2', 'AFp7h', 'FCz', 'FFC1', 'POO1', 'CPP2h', 'CP4', 'PO2', 'CCP1h', 'C5h', 'I1', 'FFC5h', 'FC6h', 'FT9', 'Fp1h', 'AFF2h', 'FFC3h', 'F7h', 'PPO2', 'FTT8', 'PO9h', 'AF4h', 'F6h', 'AFF4', 'FC1h', 'AFF3h', 'TP8h', 'CPP1h', 'F1', 'AF10h', 'CPPz', 'FCC3', 'TPP7h', 'CCP6h', 'C5', 'T9', 'FCC6h', 'C3h', 'I1h', 'CPP4', 'FT10', 'TPP10h', 'TTP10', 'CPP6', 'FT7h', 'FFC6', 'FCC2', 'AFFz', 'C2h', 'P6h', 'FCC5', 'POO8', 'M2', 'FCC1h', 'POO3', 'AF7', 'TP9h', 'AFF7', 'PPO2h', 'CP6h', 'T7h', 'F9h', 'CPP5', 'TTP9', 'AF3', 'PPO5h', 'PPO6h', 'FT8', 'AFp2', 'AF4', 'PPO10', 'PO5', 'AFp3', 'FCC4h', 'CCP4', 'AFp2h', 'FTT7', 'P9', 'AFF3', 'AF7h', 'CCP5', 'FFT8h', 'FC4', 'AFp8', 'PPO1h', 'AFF1', 'CP5h', 'AF2', 'PPO7h', 'AF5h', 'POO5', 'TPP9', 'CPz', 'FCCz', 'FTT9', 'POO10', 'C6', 'AF8h', 'POO6h', 'POO2h', 'PO7', 'FTT10h', 'TTP10h', 'A1', 'PO1', 'CPP4h', 'CCP3', 'T9h', 'TP7', 'AF1', 'TTP8h', 'CP4h', 'AFF7h', 'F8h', 'POO4', 'FT7', 'PPO4h', 'POOz', 'CP2h', 'AFp8h', 'CCP2', 'FTT10', 'POO6', 'FFC1h', 'T3', 'CCP6', 'TP10h', 'OI1', 'F10h', 'TPP10', 'FFC4h', 'AF5', 'AF10', 'TTP8', 'OI2', 'AF3h', 'AFp5', 'C2', 'I2h', 'FT8h', 'CCPz', 'CCP4h', 'P7h', 'PO7h', 'FFT7h', 'T10', 'PPO8h', 'POO7h', 'AFF5', 'PPO9h', 'T10h', 'F4h', 'FFC5', 'PO6h', 'AFF10h', 'AFF5h', 'T5', 'P5h', 'P10', 'PO6', 'FC3h', 'FFC6h', 'CPP2', 'AF2h', 'CP3h', 'T6', 'CP3', 'M1', 'P2', 'AFp9', 'CCP2h', 'P5', 'F1h', 'TP7h', 'F5', 'P9h', 'P3h', 'AFp9h', 'AFF4h', 'TPP9h', 'POO2', 'P8h', 'FCC1', 'AFp5h', 'TPP8h', 'Fp2h', 'PO3', 'P4h', 'PO3h', 'TPP7', 'AFp4', 'FFCz', 'AFz', 'FFT7', 'AFF6h', 'AFF8h', 'FFT9h', 'PO2h', 'PPO7', 'TTP7h', 'C1', 'AF1h', 'FFT10h', 'T8h', 'PO1h', 'AFp1', 'A2', 'C4h', 'AF6h', 'CPP3h', 'AFF8', 'PPO6', 'FC3', 'AFF6', 'POO3h', 'CP1h', 'AF8', 'Iz', 'FFC4', 'P10h', 'P2h', 'AFp6', 'AFF1h', 'I2', 'TP8', 'TTP9h', 'FFC3', 'POO7', 'FTT9h', 'CCP3h', 'CPP5h', 'AFF2', 'OIz', 'AFp10h', 'AFp10', 'CPP1', 'AF9', 'O2h', 'OI1h', 'C1h', 'PO5h', 'F10', 'POO9h'}\n"
     ]
    },
    {
     "name": "stderr",
     "output_type": "stream",
     "text": [
      "<ipython-input-1-81fa588ad679>:54: RuntimeWarning: 1 channel names are too long, have been truncated to 15 characters:\n",
      "['BothStartLoadPhase']\n",
      "  info = create_info(ch_names,sfreq=500.0,ch_types=ch_type,montage = montage)\n",
      "/home/yaoxiaojian/anaconda3/lib/python3.7/site-packages/scipy/signal/_arraytools.py:45: FutureWarning: Using a non-tuple sequence for multidimensional indexing is deprecated; use `arr[tuple(seq)]` instead of `arr[seq]`. In the future this will be interpreted as an array index, `arr[np.array(seq)]`, which will result either in an error or a different result.\n",
      "  b = a[a_slice]\n",
      "/home/yaoxiaojian/anaconda3/lib/python3.7/site-packages/scipy/signal/_arraytools.py:45: FutureWarning: Using a non-tuple sequence for multidimensional indexing is deprecated; use `arr[tuple(seq)]` instead of `arr[seq]`. In the future this will be interpreted as an array index, `arr[np.array(seq)]`, which will result either in an error or a different result.\n",
      "  b = a[a_slice]\n",
      "/home/yaoxiaojian/anaconda3/lib/python3.7/site-packages/scipy/signal/_arraytools.py:45: FutureWarning: Using a non-tuple sequence for multidimensional indexing is deprecated; use `arr[tuple(seq)]` instead of `arr[seq]`. In the future this will be interpreted as an array index, `arr[np.array(seq)]`, which will result either in an error or a different result.\n",
      "  b = a[a_slice]\n",
      "/home/yaoxiaojian/anaconda3/lib/python3.7/site-packages/scipy/signal/_arraytools.py:45: FutureWarning: Using a non-tuple sequence for multidimensional indexing is deprecated; use `arr[tuple(seq)]` instead of `arr[seq]`. In the future this will be interpreted as an array index, `arr[np.array(seq)]`, which will result either in an error or a different result.\n",
      "  b = a[a_slice]\n",
      "/home/yaoxiaojian/anaconda3/lib/python3.7/site-packages/scipy/signal/_arraytools.py:45: FutureWarning: Using a non-tuple sequence for multidimensional indexing is deprecated; use `arr[tuple(seq)]` instead of `arr[seq]`. In the future this will be interpreted as an array index, `arr[np.array(seq)]`, which will result either in an error or a different result.\n",
      "  b = a[a_slice]\n",
      "/home/yaoxiaojian/anaconda3/lib/python3.7/site-packages/scipy/signal/_arraytools.py:45: FutureWarning: Using a non-tuple sequence for multidimensional indexing is deprecated; use `arr[tuple(seq)]` instead of `arr[seq]`. In the future this will be interpreted as an array index, `arr[np.array(seq)]`, which will result either in an error or a different result.\n",
      "  b = a[a_slice]\n",
      "/home/yaoxiaojian/anaconda3/lib/python3.7/site-packages/scipy/signal/_arraytools.py:45: FutureWarning: Using a non-tuple sequence for multidimensional indexing is deprecated; use `arr[tuple(seq)]` instead of `arr[seq]`. In the future this will be interpreted as an array index, `arr[np.array(seq)]`, which will result either in an error or a different result.\n",
      "  b = a[a_slice]\n",
      "/home/yaoxiaojian/anaconda3/lib/python3.7/site-packages/scipy/signal/_arraytools.py:45: FutureWarning: Using a non-tuple sequence for multidimensional indexing is deprecated; use `arr[tuple(seq)]` instead of `arr[seq]`. In the future this will be interpreted as an array index, `arr[np.array(seq)]`, which will result either in an error or a different result.\n",
      "  b = a[a_slice]\n"
     ]
    },
    {
     "name": "stdout",
     "output_type": "stream",
     "text": [
      "DigMontage is a superset of info. 311 in DigMontage will be ignored. The ignored channels are: {'PPO3h', 'FFC2h', 'PPOz', 'FCC5h', 'POO5h', 'OI2h', 'AFp7', 'AFF10', 'FCC4', 'POz', 'CCP1', 'PPO9', 'FTT8h', 'FFT8', 'FCC3h', 'PPO10h', 'AFF9', 'F9', 'O1h', 'FT10h', 'F3h', 'F6', 'FFC2', 'F2h', 'AFp6h', 'AFpz', 'PPO3', 'PO8', 'FC2h', 'PPO1', 'T4', 'AF9h', 'POO9', 'AFp1h', 'TPP8', 'CCP5h', 'PPO8', 'FCC6', 'AFp4h', 'P1', 'POO8h', 'FT9h', 'FTT7h', 'CPP6h', 'FC4h', 'PPO4', 'Fpz', 'C6h', 'F5h', 'FFT10', 'POO1h', 'FCC2h', 'AFp3h', 'PO8h', 'CPP3', 'PPO5', 'FC5h', 'AF6', 'P6', 'P1h', 'PO4h', 'TTP7', 'FFT9', 'POO4h', 'PO10h', 'AFF9h', 'POO10h', 'PO4', 'F2', 'AFp7h', 'FCz', 'FFC1', 'POO1', 'CPP2h', 'CP4', 'PO2', 'CCP1h', 'C5h', 'I1', 'FFC5h', 'FC6h', 'FT9', 'Fp1h', 'AFF2h', 'FFC3h', 'F7h', 'PPO2', 'FTT8', 'PO9h', 'AF4h', 'F6h', 'AFF4', 'FC1h', 'AFF3h', 'TP8h', 'CPP1h', 'F1', 'AF10h', 'CPPz', 'FCC3', 'TPP7h', 'CCP6h', 'C5', 'T9', 'FCC6h', 'C3h', 'I1h', 'CPP4', 'FT10', 'TPP10h', 'TTP10', 'CPP6', 'FT7h', 'FFC6', 'FCC2', 'AFFz', 'C2h', 'P6h', 'FCC5', 'POO8', 'M2', 'FCC1h', 'POO3', 'AF7', 'TP9h', 'AFF7', 'PPO2h', 'CP6h', 'T7h', 'F9h', 'CPP5', 'TTP9', 'AF3', 'PPO5h', 'PPO6h', 'FT8', 'AFp2', 'AF4', 'PPO10', 'PO5', 'AFp3', 'FCC4h', 'CCP4', 'AFp2h', 'FTT7', 'P9', 'AFF3', 'AF7h', 'CCP5', 'FFT8h', 'FC4', 'AFp8', 'PPO1h', 'AFF1', 'CP5h', 'AF2', 'PPO7h', 'AF5h', 'POO5', 'TPP9', 'CPz', 'FCCz', 'FTT9', 'POO10', 'C6', 'AF8h', 'POO6h', 'POO2h', 'PO7', 'FTT10h', 'TTP10h', 'A1', 'PO1', 'CPP4h', 'CCP3', 'T9h', 'TP7', 'AF1', 'TTP8h', 'CP4h', 'AFF7h', 'F8h', 'POO4', 'FT7', 'PPO4h', 'POOz', 'CP2h', 'AFp8h', 'CCP2', 'FTT10', 'POO6', 'FFC1h', 'T3', 'CCP6', 'TP10h', 'OI1', 'F10h', 'TPP10', 'FFC4h', 'AF5', 'AF10', 'TTP8', 'OI2', 'AF3h', 'AFp5', 'C2', 'I2h', 'FT8h', 'CCPz', 'CCP4h', 'P7h', 'PO7h', 'FFT7h', 'T10', 'PPO8h', 'POO7h', 'AFF5', 'PPO9h', 'T10h', 'F4h', 'FFC5', 'PO6h', 'AFF10h', 'AFF5h', 'T5', 'P5h', 'P10', 'PO6', 'FC3h', 'FFC6h', 'CPP2', 'AF2h', 'CP3h', 'T6', 'CP3', 'M1', 'P2', 'AFp9', 'CCP2h', 'P5', 'F1h', 'TP7h', 'F5', 'P9h', 'P3h', 'AFp9h', 'AFF4h', 'TPP9h', 'POO2', 'P8h', 'FCC1', 'AFp5h', 'TPP8h', 'Fp2h', 'PO3', 'P4h', 'PO3h', 'TPP7', 'AFp4', 'FFCz', 'AFz', 'FFT7', 'AFF6h', 'AFF8h', 'FFT9h', 'PO2h', 'PPO7', 'TTP7h', 'C1', 'AF1h', 'FFT10h', 'T8h', 'PO1h', 'AFp1', 'A2', 'C4h', 'AF6h', 'CPP3h', 'AFF8', 'PPO6', 'FC3', 'AFF6', 'POO3h', 'CP1h', 'AF8', 'Iz', 'FFC4', 'P10h', 'P2h', 'AFp6', 'AFF1h', 'I2', 'TP8', 'TTP9h', 'FFC3', 'POO7', 'FTT9h', 'CCP3h', 'CPP5h', 'AFF2', 'OIz', 'AFp10h', 'AFp10', 'CPP1', 'AF9', 'O2h', 'OI1h', 'C1h', 'PO5h', 'F10', 'POO9h'}\n"
     ]
    },
    {
     "name": "stderr",
     "output_type": "stream",
     "text": [
      "<ipython-input-1-81fa588ad679>:54: RuntimeWarning: 1 channel names are too long, have been truncated to 15 characters:\n",
      "['BothStartLoadPhase']\n",
      "  info = create_info(ch_names,sfreq=500.0,ch_types=ch_type,montage = montage)\n",
      "/home/yaoxiaojian/anaconda3/lib/python3.7/site-packages/scipy/signal/_arraytools.py:45: FutureWarning: Using a non-tuple sequence for multidimensional indexing is deprecated; use `arr[tuple(seq)]` instead of `arr[seq]`. In the future this will be interpreted as an array index, `arr[np.array(seq)]`, which will result either in an error or a different result.\n",
      "  b = a[a_slice]\n",
      "/home/yaoxiaojian/anaconda3/lib/python3.7/site-packages/scipy/signal/_arraytools.py:45: FutureWarning: Using a non-tuple sequence for multidimensional indexing is deprecated; use `arr[tuple(seq)]` instead of `arr[seq]`. In the future this will be interpreted as an array index, `arr[np.array(seq)]`, which will result either in an error or a different result.\n",
      "  b = a[a_slice]\n",
      "/home/yaoxiaojian/anaconda3/lib/python3.7/site-packages/scipy/signal/_arraytools.py:45: FutureWarning: Using a non-tuple sequence for multidimensional indexing is deprecated; use `arr[tuple(seq)]` instead of `arr[seq]`. In the future this will be interpreted as an array index, `arr[np.array(seq)]`, which will result either in an error or a different result.\n",
      "  b = a[a_slice]\n",
      "/home/yaoxiaojian/anaconda3/lib/python3.7/site-packages/scipy/signal/_arraytools.py:45: FutureWarning: Using a non-tuple sequence for multidimensional indexing is deprecated; use `arr[tuple(seq)]` instead of `arr[seq]`. In the future this will be interpreted as an array index, `arr[np.array(seq)]`, which will result either in an error or a different result.\n",
      "  b = a[a_slice]\n",
      "/home/yaoxiaojian/anaconda3/lib/python3.7/site-packages/scipy/signal/_arraytools.py:45: FutureWarning: Using a non-tuple sequence for multidimensional indexing is deprecated; use `arr[tuple(seq)]` instead of `arr[seq]`. In the future this will be interpreted as an array index, `arr[np.array(seq)]`, which will result either in an error or a different result.\n",
      "  b = a[a_slice]\n",
      "/home/yaoxiaojian/anaconda3/lib/python3.7/site-packages/scipy/signal/_arraytools.py:45: FutureWarning: Using a non-tuple sequence for multidimensional indexing is deprecated; use `arr[tuple(seq)]` instead of `arr[seq]`. In the future this will be interpreted as an array index, `arr[np.array(seq)]`, which will result either in an error or a different result.\n",
      "  b = a[a_slice]\n",
      "/home/yaoxiaojian/anaconda3/lib/python3.7/site-packages/scipy/signal/_arraytools.py:45: FutureWarning: Using a non-tuple sequence for multidimensional indexing is deprecated; use `arr[tuple(seq)]` instead of `arr[seq]`. In the future this will be interpreted as an array index, `arr[np.array(seq)]`, which will result either in an error or a different result.\n",
      "  b = a[a_slice]\n",
      "/home/yaoxiaojian/anaconda3/lib/python3.7/site-packages/scipy/signal/_arraytools.py:45: FutureWarning: Using a non-tuple sequence for multidimensional indexing is deprecated; use `arr[tuple(seq)]` instead of `arr[seq]`. In the future this will be interpreted as an array index, `arr[np.array(seq)]`, which will result either in an error or a different result.\n",
      "  b = a[a_slice]\n"
     ]
    },
    {
     "name": "stdout",
     "output_type": "stream",
     "text": [
      "DigMontage is a superset of info. 311 in DigMontage will be ignored. The ignored channels are: {'PPO3h', 'FFC2h', 'PPOz', 'FCC5h', 'POO5h', 'OI2h', 'AFp7', 'AFF10', 'FCC4', 'POz', 'CCP1', 'PPO9', 'FTT8h', 'FFT8', 'FCC3h', 'PPO10h', 'AFF9', 'F9', 'O1h', 'FT10h', 'F3h', 'F6', 'FFC2', 'F2h', 'AFp6h', 'AFpz', 'PPO3', 'PO8', 'FC2h', 'PPO1', 'T4', 'AF9h', 'POO9', 'AFp1h', 'TPP8', 'CCP5h', 'PPO8', 'FCC6', 'AFp4h', 'P1', 'POO8h', 'FT9h', 'FTT7h', 'CPP6h', 'FC4h', 'PPO4', 'Fpz', 'C6h', 'F5h', 'FFT10', 'POO1h', 'FCC2h', 'AFp3h', 'PO8h', 'CPP3', 'PPO5', 'FC5h', 'AF6', 'P6', 'P1h', 'PO4h', 'TTP7', 'FFT9', 'POO4h', 'PO10h', 'AFF9h', 'POO10h', 'PO4', 'F2', 'AFp7h', 'FCz', 'FFC1', 'POO1', 'CPP2h', 'CP4', 'PO2', 'CCP1h', 'C5h', 'I1', 'FFC5h', 'FC6h', 'FT9', 'Fp1h', 'AFF2h', 'FFC3h', 'F7h', 'PPO2', 'FTT8', 'PO9h', 'AF4h', 'F6h', 'AFF4', 'FC1h', 'AFF3h', 'TP8h', 'CPP1h', 'F1', 'AF10h', 'CPPz', 'FCC3', 'TPP7h', 'CCP6h', 'C5', 'T9', 'FCC6h', 'C3h', 'I1h', 'CPP4', 'FT10', 'TPP10h', 'TTP10', 'CPP6', 'FT7h', 'FFC6', 'FCC2', 'AFFz', 'C2h', 'P6h', 'FCC5', 'POO8', 'M2', 'FCC1h', 'POO3', 'AF7', 'TP9h', 'AFF7', 'PPO2h', 'CP6h', 'T7h', 'F9h', 'CPP5', 'TTP9', 'AF3', 'PPO5h', 'PPO6h', 'FT8', 'AFp2', 'AF4', 'PPO10', 'PO5', 'AFp3', 'FCC4h', 'CCP4', 'AFp2h', 'FTT7', 'P9', 'AFF3', 'AF7h', 'CCP5', 'FFT8h', 'FC4', 'AFp8', 'PPO1h', 'AFF1', 'CP5h', 'AF2', 'PPO7h', 'AF5h', 'POO5', 'TPP9', 'CPz', 'FCCz', 'FTT9', 'POO10', 'C6', 'AF8h', 'POO6h', 'POO2h', 'PO7', 'FTT10h', 'TTP10h', 'A1', 'PO1', 'CPP4h', 'CCP3', 'T9h', 'TP7', 'AF1', 'TTP8h', 'CP4h', 'AFF7h', 'F8h', 'POO4', 'FT7', 'PPO4h', 'POOz', 'CP2h', 'AFp8h', 'CCP2', 'FTT10', 'POO6', 'FFC1h', 'T3', 'CCP6', 'TP10h', 'OI1', 'F10h', 'TPP10', 'FFC4h', 'AF5', 'AF10', 'TTP8', 'OI2', 'AF3h', 'AFp5', 'C2', 'I2h', 'FT8h', 'CCPz', 'CCP4h', 'P7h', 'PO7h', 'FFT7h', 'T10', 'PPO8h', 'POO7h', 'AFF5', 'PPO9h', 'T10h', 'F4h', 'FFC5', 'PO6h', 'AFF10h', 'AFF5h', 'T5', 'P5h', 'P10', 'PO6', 'FC3h', 'FFC6h', 'CPP2', 'AF2h', 'CP3h', 'T6', 'CP3', 'M1', 'P2', 'AFp9', 'CCP2h', 'P5', 'F1h', 'TP7h', 'F5', 'P9h', 'P3h', 'AFp9h', 'AFF4h', 'TPP9h', 'POO2', 'P8h', 'FCC1', 'AFp5h', 'TPP8h', 'Fp2h', 'PO3', 'P4h', 'PO3h', 'TPP7', 'AFp4', 'FFCz', 'AFz', 'FFT7', 'AFF6h', 'AFF8h', 'FFT9h', 'PO2h', 'PPO7', 'TTP7h', 'C1', 'AF1h', 'FFT10h', 'T8h', 'PO1h', 'AFp1', 'A2', 'C4h', 'AF6h', 'CPP3h', 'AFF8', 'PPO6', 'FC3', 'AFF6', 'POO3h', 'CP1h', 'AF8', 'Iz', 'FFC4', 'P10h', 'P2h', 'AFp6', 'AFF1h', 'I2', 'TP8', 'TTP9h', 'FFC3', 'POO7', 'FTT9h', 'CCP3h', 'CPP5h', 'AFF2', 'OIz', 'AFp10h', 'AFp10', 'CPP1', 'AF9', 'O2h', 'OI1h', 'C1h', 'PO5h', 'F10', 'POO9h'}\n"
     ]
    },
    {
     "name": "stderr",
     "output_type": "stream",
     "text": [
      "<ipython-input-1-81fa588ad679>:54: RuntimeWarning: 1 channel names are too long, have been truncated to 15 characters:\n",
      "['BothStartLoadPhase']\n",
      "  info = create_info(ch_names,sfreq=500.0,ch_types=ch_type,montage = montage)\n",
      "/home/yaoxiaojian/anaconda3/lib/python3.7/site-packages/scipy/signal/_arraytools.py:45: FutureWarning: Using a non-tuple sequence for multidimensional indexing is deprecated; use `arr[tuple(seq)]` instead of `arr[seq]`. In the future this will be interpreted as an array index, `arr[np.array(seq)]`, which will result either in an error or a different result.\n",
      "  b = a[a_slice]\n",
      "/home/yaoxiaojian/anaconda3/lib/python3.7/site-packages/scipy/signal/_arraytools.py:45: FutureWarning: Using a non-tuple sequence for multidimensional indexing is deprecated; use `arr[tuple(seq)]` instead of `arr[seq]`. In the future this will be interpreted as an array index, `arr[np.array(seq)]`, which will result either in an error or a different result.\n",
      "  b = a[a_slice]\n",
      "/home/yaoxiaojian/anaconda3/lib/python3.7/site-packages/scipy/signal/_arraytools.py:45: FutureWarning: Using a non-tuple sequence for multidimensional indexing is deprecated; use `arr[tuple(seq)]` instead of `arr[seq]`. In the future this will be interpreted as an array index, `arr[np.array(seq)]`, which will result either in an error or a different result.\n",
      "  b = a[a_slice]\n",
      "/home/yaoxiaojian/anaconda3/lib/python3.7/site-packages/scipy/signal/_arraytools.py:45: FutureWarning: Using a non-tuple sequence for multidimensional indexing is deprecated; use `arr[tuple(seq)]` instead of `arr[seq]`. In the future this will be interpreted as an array index, `arr[np.array(seq)]`, which will result either in an error or a different result.\n",
      "  b = a[a_slice]\n",
      "/home/yaoxiaojian/anaconda3/lib/python3.7/site-packages/scipy/signal/_arraytools.py:45: FutureWarning: Using a non-tuple sequence for multidimensional indexing is deprecated; use `arr[tuple(seq)]` instead of `arr[seq]`. In the future this will be interpreted as an array index, `arr[np.array(seq)]`, which will result either in an error or a different result.\n",
      "  b = a[a_slice]\n",
      "/home/yaoxiaojian/anaconda3/lib/python3.7/site-packages/scipy/signal/_arraytools.py:45: FutureWarning: Using a non-tuple sequence for multidimensional indexing is deprecated; use `arr[tuple(seq)]` instead of `arr[seq]`. In the future this will be interpreted as an array index, `arr[np.array(seq)]`, which will result either in an error or a different result.\n",
      "  b = a[a_slice]\n",
      "/home/yaoxiaojian/anaconda3/lib/python3.7/site-packages/scipy/signal/_arraytools.py:45: FutureWarning: Using a non-tuple sequence for multidimensional indexing is deprecated; use `arr[tuple(seq)]` instead of `arr[seq]`. In the future this will be interpreted as an array index, `arr[np.array(seq)]`, which will result either in an error or a different result.\n",
      "  b = a[a_slice]\n",
      "/home/yaoxiaojian/anaconda3/lib/python3.7/site-packages/scipy/signal/_arraytools.py:45: FutureWarning: Using a non-tuple sequence for multidimensional indexing is deprecated; use `arr[tuple(seq)]` instead of `arr[seq]`. In the future this will be interpreted as an array index, `arr[np.array(seq)]`, which will result either in an error or a different result.\n",
      "  b = a[a_slice]\n"
     ]
    },
    {
     "name": "stdout",
     "output_type": "stream",
     "text": [
      "subject 9 (1560, 64, 751)\n",
      "data stack shape: (14035, 64, 751) (14035,)\n",
      "DigMontage is a superset of info. 311 in DigMontage will be ignored. The ignored channels are: {'PPO3h', 'FFC2h', 'PPOz', 'FCC5h', 'POO5h', 'OI2h', 'AFp7', 'AFF10', 'FCC4', 'POz', 'CCP1', 'PPO9', 'FTT8h', 'FFT8', 'FCC3h', 'PPO10h', 'AFF9', 'F9', 'O1h', 'FT10h', 'F3h', 'F6', 'FFC2', 'F2h', 'AFp6h', 'AFpz', 'PPO3', 'PO8', 'FC2h', 'PPO1', 'T4', 'AF9h', 'POO9', 'AFp1h', 'TPP8', 'CCP5h', 'PPO8', 'FCC6', 'AFp4h', 'P1', 'POO8h', 'FT9h', 'FTT7h', 'CPP6h', 'FC4h', 'PPO4', 'Fpz', 'C6h', 'F5h', 'FFT10', 'POO1h', 'FCC2h', 'AFp3h', 'PO8h', 'CPP3', 'PPO5', 'FC5h', 'AF6', 'P6', 'P1h', 'PO4h', 'TTP7', 'FFT9', 'POO4h', 'PO10h', 'AFF9h', 'POO10h', 'PO4', 'F2', 'AFp7h', 'FCz', 'FFC1', 'POO1', 'CPP2h', 'CP4', 'PO2', 'CCP1h', 'C5h', 'I1', 'FFC5h', 'FC6h', 'FT9', 'Fp1h', 'AFF2h', 'FFC3h', 'F7h', 'PPO2', 'FTT8', 'PO9h', 'AF4h', 'F6h', 'AFF4', 'FC1h', 'AFF3h', 'TP8h', 'CPP1h', 'F1', 'AF10h', 'CPPz', 'FCC3', 'TPP7h', 'CCP6h', 'C5', 'T9', 'FCC6h', 'C3h', 'I1h', 'CPP4', 'FT10', 'TPP10h', 'TTP10', 'CPP6', 'FT7h', 'FFC6', 'FCC2', 'AFFz', 'C2h', 'P6h', 'FCC5', 'POO8', 'M2', 'FCC1h', 'POO3', 'AF7', 'TP9h', 'AFF7', 'PPO2h', 'CP6h', 'T7h', 'F9h', 'CPP5', 'TTP9', 'AF3', 'PPO5h', 'PPO6h', 'FT8', 'AFp2', 'AF4', 'PPO10', 'PO5', 'AFp3', 'FCC4h', 'CCP4', 'AFp2h', 'FTT7', 'P9', 'AFF3', 'AF7h', 'CCP5', 'FFT8h', 'FC4', 'AFp8', 'PPO1h', 'AFF1', 'CP5h', 'AF2', 'PPO7h', 'AF5h', 'POO5', 'TPP9', 'CPz', 'FCCz', 'FTT9', 'POO10', 'C6', 'AF8h', 'POO6h', 'POO2h', 'PO7', 'FTT10h', 'TTP10h', 'A1', 'PO1', 'CPP4h', 'CCP3', 'T9h', 'TP7', 'AF1', 'TTP8h', 'CP4h', 'AFF7h', 'F8h', 'POO4', 'FT7', 'PPO4h', 'POOz', 'CP2h', 'AFp8h', 'CCP2', 'FTT10', 'POO6', 'FFC1h', 'T3', 'CCP6', 'TP10h', 'OI1', 'F10h', 'TPP10', 'FFC4h', 'AF5', 'AF10', 'TTP8', 'OI2', 'AF3h', 'AFp5', 'C2', 'I2h', 'FT8h', 'CCPz', 'CCP4h', 'P7h', 'PO7h', 'FFT7h', 'T10', 'PPO8h', 'POO7h', 'AFF5', 'PPO9h', 'T10h', 'F4h', 'FFC5', 'PO6h', 'AFF10h', 'AFF5h', 'T5', 'P5h', 'P10', 'PO6', 'FC3h', 'FFC6h', 'CPP2', 'AF2h', 'CP3h', 'T6', 'CP3', 'M1', 'P2', 'AFp9', 'CCP2h', 'P5', 'F1h', 'TP7h', 'F5', 'P9h', 'P3h', 'AFp9h', 'AFF4h', 'TPP9h', 'POO2', 'P8h', 'FCC1', 'AFp5h', 'TPP8h', 'Fp2h', 'PO3', 'P4h', 'PO3h', 'TPP7', 'AFp4', 'FFCz', 'AFz', 'FFT7', 'AFF6h', 'AFF8h', 'FFT9h', 'PO2h', 'PPO7', 'TTP7h', 'C1', 'AF1h', 'FFT10h', 'T8h', 'PO1h', 'AFp1', 'A2', 'C4h', 'AF6h', 'CPP3h', 'AFF8', 'PPO6', 'FC3', 'AFF6', 'POO3h', 'CP1h', 'AF8', 'Iz', 'FFC4', 'P10h', 'P2h', 'AFp6', 'AFF1h', 'I2', 'TP8', 'TTP9h', 'FFC3', 'POO7', 'FTT9h', 'CCP3h', 'CPP5h', 'AFF2', 'OIz', 'AFp10h', 'AFp10', 'CPP1', 'AF9', 'O2h', 'OI1h', 'C1h', 'PO5h', 'F10', 'POO9h'}\n"
     ]
    },
    {
     "name": "stderr",
     "output_type": "stream",
     "text": [
      "<ipython-input-1-81fa588ad679>:54: RuntimeWarning: 1 channel names are too long, have been truncated to 15 characters:\n",
      "['BothStartLoadPhase']\n",
      "  info = create_info(ch_names,sfreq=500.0,ch_types=ch_type,montage = montage)\n",
      "/home/yaoxiaojian/anaconda3/lib/python3.7/site-packages/scipy/signal/_arraytools.py:45: FutureWarning: Using a non-tuple sequence for multidimensional indexing is deprecated; use `arr[tuple(seq)]` instead of `arr[seq]`. In the future this will be interpreted as an array index, `arr[np.array(seq)]`, which will result either in an error or a different result.\n",
      "  b = a[a_slice]\n",
      "/home/yaoxiaojian/anaconda3/lib/python3.7/site-packages/scipy/signal/_arraytools.py:45: FutureWarning: Using a non-tuple sequence for multidimensional indexing is deprecated; use `arr[tuple(seq)]` instead of `arr[seq]`. In the future this will be interpreted as an array index, `arr[np.array(seq)]`, which will result either in an error or a different result.\n",
      "  b = a[a_slice]\n",
      "/home/yaoxiaojian/anaconda3/lib/python3.7/site-packages/scipy/signal/_arraytools.py:45: FutureWarning: Using a non-tuple sequence for multidimensional indexing is deprecated; use `arr[tuple(seq)]` instead of `arr[seq]`. In the future this will be interpreted as an array index, `arr[np.array(seq)]`, which will result either in an error or a different result.\n",
      "  b = a[a_slice]\n",
      "/home/yaoxiaojian/anaconda3/lib/python3.7/site-packages/scipy/signal/_arraytools.py:45: FutureWarning: Using a non-tuple sequence for multidimensional indexing is deprecated; use `arr[tuple(seq)]` instead of `arr[seq]`. In the future this will be interpreted as an array index, `arr[np.array(seq)]`, which will result either in an error or a different result.\n",
      "  b = a[a_slice]\n",
      "/home/yaoxiaojian/anaconda3/lib/python3.7/site-packages/scipy/signal/_arraytools.py:45: FutureWarning: Using a non-tuple sequence for multidimensional indexing is deprecated; use `arr[tuple(seq)]` instead of `arr[seq]`. In the future this will be interpreted as an array index, `arr[np.array(seq)]`, which will result either in an error or a different result.\n",
      "  b = a[a_slice]\n",
      "/home/yaoxiaojian/anaconda3/lib/python3.7/site-packages/scipy/signal/_arraytools.py:45: FutureWarning: Using a non-tuple sequence for multidimensional indexing is deprecated; use `arr[tuple(seq)]` instead of `arr[seq]`. In the future this will be interpreted as an array index, `arr[np.array(seq)]`, which will result either in an error or a different result.\n",
      "  b = a[a_slice]\n",
      "/home/yaoxiaojian/anaconda3/lib/python3.7/site-packages/scipy/signal/_arraytools.py:45: FutureWarning: Using a non-tuple sequence for multidimensional indexing is deprecated; use `arr[tuple(seq)]` instead of `arr[seq]`. In the future this will be interpreted as an array index, `arr[np.array(seq)]`, which will result either in an error or a different result.\n",
      "  b = a[a_slice]\n",
      "/home/yaoxiaojian/anaconda3/lib/python3.7/site-packages/scipy/signal/_arraytools.py:45: FutureWarning: Using a non-tuple sequence for multidimensional indexing is deprecated; use `arr[tuple(seq)]` instead of `arr[seq]`. In the future this will be interpreted as an array index, `arr[np.array(seq)]`, which will result either in an error or a different result.\n",
      "  b = a[a_slice]\n"
     ]
    },
    {
     "name": "stdout",
     "output_type": "stream",
     "text": [
      "DigMontage is a superset of info. 311 in DigMontage will be ignored. The ignored channels are: {'PPO3h', 'FFC2h', 'PPOz', 'FCC5h', 'POO5h', 'OI2h', 'AFp7', 'AFF10', 'FCC4', 'POz', 'CCP1', 'PPO9', 'FTT8h', 'FFT8', 'FCC3h', 'PPO10h', 'AFF9', 'F9', 'O1h', 'FT10h', 'F3h', 'F6', 'FFC2', 'F2h', 'AFp6h', 'AFpz', 'PPO3', 'PO8', 'FC2h', 'PPO1', 'T4', 'AF9h', 'POO9', 'AFp1h', 'TPP8', 'CCP5h', 'PPO8', 'FCC6', 'AFp4h', 'P1', 'POO8h', 'FT9h', 'FTT7h', 'CPP6h', 'FC4h', 'PPO4', 'Fpz', 'C6h', 'F5h', 'FFT10', 'POO1h', 'FCC2h', 'AFp3h', 'PO8h', 'CPP3', 'PPO5', 'FC5h', 'AF6', 'P6', 'P1h', 'PO4h', 'TTP7', 'FFT9', 'POO4h', 'PO10h', 'AFF9h', 'POO10h', 'PO4', 'F2', 'AFp7h', 'FCz', 'FFC1', 'POO1', 'CPP2h', 'CP4', 'PO2', 'CCP1h', 'C5h', 'I1', 'FFC5h', 'FC6h', 'FT9', 'Fp1h', 'AFF2h', 'FFC3h', 'F7h', 'PPO2', 'FTT8', 'PO9h', 'AF4h', 'F6h', 'AFF4', 'FC1h', 'AFF3h', 'TP8h', 'CPP1h', 'F1', 'AF10h', 'CPPz', 'FCC3', 'TPP7h', 'CCP6h', 'C5', 'T9', 'FCC6h', 'C3h', 'I1h', 'CPP4', 'FT10', 'TPP10h', 'TTP10', 'CPP6', 'FT7h', 'FFC6', 'FCC2', 'AFFz', 'C2h', 'P6h', 'FCC5', 'POO8', 'M2', 'FCC1h', 'POO3', 'AF7', 'TP9h', 'AFF7', 'PPO2h', 'CP6h', 'T7h', 'F9h', 'CPP5', 'TTP9', 'AF3', 'PPO5h', 'PPO6h', 'FT8', 'AFp2', 'AF4', 'PPO10', 'PO5', 'AFp3', 'FCC4h', 'CCP4', 'AFp2h', 'FTT7', 'P9', 'AFF3', 'AF7h', 'CCP5', 'FFT8h', 'FC4', 'AFp8', 'PPO1h', 'AFF1', 'CP5h', 'AF2', 'PPO7h', 'AF5h', 'POO5', 'TPP9', 'CPz', 'FCCz', 'FTT9', 'POO10', 'C6', 'AF8h', 'POO6h', 'POO2h', 'PO7', 'FTT10h', 'TTP10h', 'A1', 'PO1', 'CPP4h', 'CCP3', 'T9h', 'TP7', 'AF1', 'TTP8h', 'CP4h', 'AFF7h', 'F8h', 'POO4', 'FT7', 'PPO4h', 'POOz', 'CP2h', 'AFp8h', 'CCP2', 'FTT10', 'POO6', 'FFC1h', 'T3', 'CCP6', 'TP10h', 'OI1', 'F10h', 'TPP10', 'FFC4h', 'AF5', 'AF10', 'TTP8', 'OI2', 'AF3h', 'AFp5', 'C2', 'I2h', 'FT8h', 'CCPz', 'CCP4h', 'P7h', 'PO7h', 'FFT7h', 'T10', 'PPO8h', 'POO7h', 'AFF5', 'PPO9h', 'T10h', 'F4h', 'FFC5', 'PO6h', 'AFF10h', 'AFF5h', 'T5', 'P5h', 'P10', 'PO6', 'FC3h', 'FFC6h', 'CPP2', 'AF2h', 'CP3h', 'T6', 'CP3', 'M1', 'P2', 'AFp9', 'CCP2h', 'P5', 'F1h', 'TP7h', 'F5', 'P9h', 'P3h', 'AFp9h', 'AFF4h', 'TPP9h', 'POO2', 'P8h', 'FCC1', 'AFp5h', 'TPP8h', 'Fp2h', 'PO3', 'P4h', 'PO3h', 'TPP7', 'AFp4', 'FFCz', 'AFz', 'FFT7', 'AFF6h', 'AFF8h', 'FFT9h', 'PO2h', 'PPO7', 'TTP7h', 'C1', 'AF1h', 'FFT10h', 'T8h', 'PO1h', 'AFp1', 'A2', 'C4h', 'AF6h', 'CPP3h', 'AFF8', 'PPO6', 'FC3', 'AFF6', 'POO3h', 'CP1h', 'AF8', 'Iz', 'FFC4', 'P10h', 'P2h', 'AFp6', 'AFF1h', 'I2', 'TP8', 'TTP9h', 'FFC3', 'POO7', 'FTT9h', 'CCP3h', 'CPP5h', 'AFF2', 'OIz', 'AFp10h', 'AFp10', 'CPP1', 'AF9', 'O2h', 'OI1h', 'C1h', 'PO5h', 'F10', 'POO9h'}\n"
     ]
    },
    {
     "name": "stderr",
     "output_type": "stream",
     "text": [
      "<ipython-input-1-81fa588ad679>:54: RuntimeWarning: 1 channel names are too long, have been truncated to 15 characters:\n",
      "['BothStartLoadPhase']\n",
      "  info = create_info(ch_names,sfreq=500.0,ch_types=ch_type,montage = montage)\n",
      "/home/yaoxiaojian/anaconda3/lib/python3.7/site-packages/scipy/signal/_arraytools.py:45: FutureWarning: Using a non-tuple sequence for multidimensional indexing is deprecated; use `arr[tuple(seq)]` instead of `arr[seq]`. In the future this will be interpreted as an array index, `arr[np.array(seq)]`, which will result either in an error or a different result.\n",
      "  b = a[a_slice]\n",
      "/home/yaoxiaojian/anaconda3/lib/python3.7/site-packages/scipy/signal/_arraytools.py:45: FutureWarning: Using a non-tuple sequence for multidimensional indexing is deprecated; use `arr[tuple(seq)]` instead of `arr[seq]`. In the future this will be interpreted as an array index, `arr[np.array(seq)]`, which will result either in an error or a different result.\n",
      "  b = a[a_slice]\n",
      "/home/yaoxiaojian/anaconda3/lib/python3.7/site-packages/scipy/signal/_arraytools.py:45: FutureWarning: Using a non-tuple sequence for multidimensional indexing is deprecated; use `arr[tuple(seq)]` instead of `arr[seq]`. In the future this will be interpreted as an array index, `arr[np.array(seq)]`, which will result either in an error or a different result.\n",
      "  b = a[a_slice]\n",
      "/home/yaoxiaojian/anaconda3/lib/python3.7/site-packages/scipy/signal/_arraytools.py:45: FutureWarning: Using a non-tuple sequence for multidimensional indexing is deprecated; use `arr[tuple(seq)]` instead of `arr[seq]`. In the future this will be interpreted as an array index, `arr[np.array(seq)]`, which will result either in an error or a different result.\n",
      "  b = a[a_slice]\n",
      "/home/yaoxiaojian/anaconda3/lib/python3.7/site-packages/scipy/signal/_arraytools.py:45: FutureWarning: Using a non-tuple sequence for multidimensional indexing is deprecated; use `arr[tuple(seq)]` instead of `arr[seq]`. In the future this will be interpreted as an array index, `arr[np.array(seq)]`, which will result either in an error or a different result.\n",
      "  b = a[a_slice]\n",
      "/home/yaoxiaojian/anaconda3/lib/python3.7/site-packages/scipy/signal/_arraytools.py:45: FutureWarning: Using a non-tuple sequence for multidimensional indexing is deprecated; use `arr[tuple(seq)]` instead of `arr[seq]`. In the future this will be interpreted as an array index, `arr[np.array(seq)]`, which will result either in an error or a different result.\n",
      "  b = a[a_slice]\n",
      "/home/yaoxiaojian/anaconda3/lib/python3.7/site-packages/scipy/signal/_arraytools.py:45: FutureWarning: Using a non-tuple sequence for multidimensional indexing is deprecated; use `arr[tuple(seq)]` instead of `arr[seq]`. In the future this will be interpreted as an array index, `arr[np.array(seq)]`, which will result either in an error or a different result.\n",
      "  b = a[a_slice]\n",
      "/home/yaoxiaojian/anaconda3/lib/python3.7/site-packages/scipy/signal/_arraytools.py:45: FutureWarning: Using a non-tuple sequence for multidimensional indexing is deprecated; use `arr[tuple(seq)]` instead of `arr[seq]`. In the future this will be interpreted as an array index, `arr[np.array(seq)]`, which will result either in an error or a different result.\n",
      "  b = a[a_slice]\n"
     ]
    },
    {
     "name": "stdout",
     "output_type": "stream",
     "text": [
      "DigMontage is a superset of info. 311 in DigMontage will be ignored. The ignored channels are: {'PPO3h', 'FFC2h', 'PPOz', 'FCC5h', 'POO5h', 'OI2h', 'AFp7', 'AFF10', 'FCC4', 'POz', 'CCP1', 'PPO9', 'FTT8h', 'FFT8', 'FCC3h', 'PPO10h', 'AFF9', 'F9', 'O1h', 'FT10h', 'F3h', 'F6', 'FFC2', 'F2h', 'AFp6h', 'AFpz', 'PPO3', 'PO8', 'FC2h', 'PPO1', 'T4', 'AF9h', 'POO9', 'AFp1h', 'TPP8', 'CCP5h', 'PPO8', 'FCC6', 'AFp4h', 'P1', 'POO8h', 'FT9h', 'FTT7h', 'CPP6h', 'FC4h', 'PPO4', 'Fpz', 'C6h', 'F5h', 'FFT10', 'POO1h', 'FCC2h', 'AFp3h', 'PO8h', 'CPP3', 'PPO5', 'FC5h', 'AF6', 'P6', 'P1h', 'PO4h', 'TTP7', 'FFT9', 'POO4h', 'PO10h', 'AFF9h', 'POO10h', 'PO4', 'F2', 'AFp7h', 'FCz', 'FFC1', 'POO1', 'CPP2h', 'CP4', 'PO2', 'CCP1h', 'C5h', 'I1', 'FFC5h', 'FC6h', 'FT9', 'Fp1h', 'AFF2h', 'FFC3h', 'F7h', 'PPO2', 'FTT8', 'PO9h', 'AF4h', 'F6h', 'AFF4', 'FC1h', 'AFF3h', 'TP8h', 'CPP1h', 'F1', 'AF10h', 'CPPz', 'FCC3', 'TPP7h', 'CCP6h', 'C5', 'T9', 'FCC6h', 'C3h', 'I1h', 'CPP4', 'FT10', 'TPP10h', 'TTP10', 'CPP6', 'FT7h', 'FFC6', 'FCC2', 'AFFz', 'C2h', 'P6h', 'FCC5', 'POO8', 'M2', 'FCC1h', 'POO3', 'AF7', 'TP9h', 'AFF7', 'PPO2h', 'CP6h', 'T7h', 'F9h', 'CPP5', 'TTP9', 'AF3', 'PPO5h', 'PPO6h', 'FT8', 'AFp2', 'AF4', 'PPO10', 'PO5', 'AFp3', 'FCC4h', 'CCP4', 'AFp2h', 'FTT7', 'P9', 'AFF3', 'AF7h', 'CCP5', 'FFT8h', 'FC4', 'AFp8', 'PPO1h', 'AFF1', 'CP5h', 'AF2', 'PPO7h', 'AF5h', 'POO5', 'TPP9', 'CPz', 'FCCz', 'FTT9', 'POO10', 'C6', 'AF8h', 'POO6h', 'POO2h', 'PO7', 'FTT10h', 'TTP10h', 'A1', 'PO1', 'CPP4h', 'CCP3', 'T9h', 'TP7', 'AF1', 'TTP8h', 'CP4h', 'AFF7h', 'F8h', 'POO4', 'FT7', 'PPO4h', 'POOz', 'CP2h', 'AFp8h', 'CCP2', 'FTT10', 'POO6', 'FFC1h', 'T3', 'CCP6', 'TP10h', 'OI1', 'F10h', 'TPP10', 'FFC4h', 'AF5', 'AF10', 'TTP8', 'OI2', 'AF3h', 'AFp5', 'C2', 'I2h', 'FT8h', 'CCPz', 'CCP4h', 'P7h', 'PO7h', 'FFT7h', 'T10', 'PPO8h', 'POO7h', 'AFF5', 'PPO9h', 'T10h', 'F4h', 'FFC5', 'PO6h', 'AFF10h', 'AFF5h', 'T5', 'P5h', 'P10', 'PO6', 'FC3h', 'FFC6h', 'CPP2', 'AF2h', 'CP3h', 'T6', 'CP3', 'M1', 'P2', 'AFp9', 'CCP2h', 'P5', 'F1h', 'TP7h', 'F5', 'P9h', 'P3h', 'AFp9h', 'AFF4h', 'TPP9h', 'POO2', 'P8h', 'FCC1', 'AFp5h', 'TPP8h', 'Fp2h', 'PO3', 'P4h', 'PO3h', 'TPP7', 'AFp4', 'FFCz', 'AFz', 'FFT7', 'AFF6h', 'AFF8h', 'FFT9h', 'PO2h', 'PPO7', 'TTP7h', 'C1', 'AF1h', 'FFT10h', 'T8h', 'PO1h', 'AFp1', 'A2', 'C4h', 'AF6h', 'CPP3h', 'AFF8', 'PPO6', 'FC3', 'AFF6', 'POO3h', 'CP1h', 'AF8', 'Iz', 'FFC4', 'P10h', 'P2h', 'AFp6', 'AFF1h', 'I2', 'TP8', 'TTP9h', 'FFC3', 'POO7', 'FTT9h', 'CCP3h', 'CPP5h', 'AFF2', 'OIz', 'AFp10h', 'AFp10', 'CPP1', 'AF9', 'O2h', 'OI1h', 'C1h', 'PO5h', 'F10', 'POO9h'}\n"
     ]
    },
    {
     "name": "stderr",
     "output_type": "stream",
     "text": [
      "<ipython-input-1-81fa588ad679>:54: RuntimeWarning: 1 channel names are too long, have been truncated to 15 characters:\n",
      "['BothStartLoadPhase']\n",
      "  info = create_info(ch_names,sfreq=500.0,ch_types=ch_type,montage = montage)\n",
      "/home/yaoxiaojian/anaconda3/lib/python3.7/site-packages/scipy/signal/_arraytools.py:45: FutureWarning: Using a non-tuple sequence for multidimensional indexing is deprecated; use `arr[tuple(seq)]` instead of `arr[seq]`. In the future this will be interpreted as an array index, `arr[np.array(seq)]`, which will result either in an error or a different result.\n",
      "  b = a[a_slice]\n",
      "/home/yaoxiaojian/anaconda3/lib/python3.7/site-packages/scipy/signal/_arraytools.py:45: FutureWarning: Using a non-tuple sequence for multidimensional indexing is deprecated; use `arr[tuple(seq)]` instead of `arr[seq]`. In the future this will be interpreted as an array index, `arr[np.array(seq)]`, which will result either in an error or a different result.\n",
      "  b = a[a_slice]\n",
      "/home/yaoxiaojian/anaconda3/lib/python3.7/site-packages/scipy/signal/_arraytools.py:45: FutureWarning: Using a non-tuple sequence for multidimensional indexing is deprecated; use `arr[tuple(seq)]` instead of `arr[seq]`. In the future this will be interpreted as an array index, `arr[np.array(seq)]`, which will result either in an error or a different result.\n",
      "  b = a[a_slice]\n",
      "/home/yaoxiaojian/anaconda3/lib/python3.7/site-packages/scipy/signal/_arraytools.py:45: FutureWarning: Using a non-tuple sequence for multidimensional indexing is deprecated; use `arr[tuple(seq)]` instead of `arr[seq]`. In the future this will be interpreted as an array index, `arr[np.array(seq)]`, which will result either in an error or a different result.\n",
      "  b = a[a_slice]\n",
      "/home/yaoxiaojian/anaconda3/lib/python3.7/site-packages/scipy/signal/_arraytools.py:45: FutureWarning: Using a non-tuple sequence for multidimensional indexing is deprecated; use `arr[tuple(seq)]` instead of `arr[seq]`. In the future this will be interpreted as an array index, `arr[np.array(seq)]`, which will result either in an error or a different result.\n",
      "  b = a[a_slice]\n",
      "/home/yaoxiaojian/anaconda3/lib/python3.7/site-packages/scipy/signal/_arraytools.py:45: FutureWarning: Using a non-tuple sequence for multidimensional indexing is deprecated; use `arr[tuple(seq)]` instead of `arr[seq]`. In the future this will be interpreted as an array index, `arr[np.array(seq)]`, which will result either in an error or a different result.\n",
      "  b = a[a_slice]\n",
      "/home/yaoxiaojian/anaconda3/lib/python3.7/site-packages/scipy/signal/_arraytools.py:45: FutureWarning: Using a non-tuple sequence for multidimensional indexing is deprecated; use `arr[tuple(seq)]` instead of `arr[seq]`. In the future this will be interpreted as an array index, `arr[np.array(seq)]`, which will result either in an error or a different result.\n",
      "  b = a[a_slice]\n",
      "/home/yaoxiaojian/anaconda3/lib/python3.7/site-packages/scipy/signal/_arraytools.py:45: FutureWarning: Using a non-tuple sequence for multidimensional indexing is deprecated; use `arr[tuple(seq)]` instead of `arr[seq]`. In the future this will be interpreted as an array index, `arr[np.array(seq)]`, which will result either in an error or a different result.\n",
      "  b = a[a_slice]\n"
     ]
    },
    {
     "name": "stdout",
     "output_type": "stream",
     "text": [
      "DigMontage is a superset of info. 311 in DigMontage will be ignored. The ignored channels are: {'PPO3h', 'FFC2h', 'PPOz', 'FCC5h', 'POO5h', 'OI2h', 'AFp7', 'AFF10', 'FCC4', 'POz', 'CCP1', 'PPO9', 'FTT8h', 'FFT8', 'FCC3h', 'PPO10h', 'AFF9', 'F9', 'O1h', 'FT10h', 'F3h', 'F6', 'FFC2', 'F2h', 'AFp6h', 'AFpz', 'PPO3', 'PO8', 'FC2h', 'PPO1', 'T4', 'AF9h', 'POO9', 'AFp1h', 'TPP8', 'CCP5h', 'PPO8', 'FCC6', 'AFp4h', 'P1', 'POO8h', 'FT9h', 'FTT7h', 'CPP6h', 'FC4h', 'PPO4', 'Fpz', 'C6h', 'F5h', 'FFT10', 'POO1h', 'FCC2h', 'AFp3h', 'PO8h', 'CPP3', 'PPO5', 'FC5h', 'AF6', 'P6', 'P1h', 'PO4h', 'TTP7', 'FFT9', 'POO4h', 'PO10h', 'AFF9h', 'POO10h', 'PO4', 'F2', 'AFp7h', 'FCz', 'FFC1', 'POO1', 'CPP2h', 'CP4', 'PO2', 'CCP1h', 'C5h', 'I1', 'FFC5h', 'FC6h', 'FT9', 'Fp1h', 'AFF2h', 'FFC3h', 'F7h', 'PPO2', 'FTT8', 'PO9h', 'AF4h', 'F6h', 'AFF4', 'FC1h', 'AFF3h', 'TP8h', 'CPP1h', 'F1', 'AF10h', 'CPPz', 'FCC3', 'TPP7h', 'CCP6h', 'C5', 'T9', 'FCC6h', 'C3h', 'I1h', 'CPP4', 'FT10', 'TPP10h', 'TTP10', 'CPP6', 'FT7h', 'FFC6', 'FCC2', 'AFFz', 'C2h', 'P6h', 'FCC5', 'POO8', 'M2', 'FCC1h', 'POO3', 'AF7', 'TP9h', 'AFF7', 'PPO2h', 'CP6h', 'T7h', 'F9h', 'CPP5', 'TTP9', 'AF3', 'PPO5h', 'PPO6h', 'FT8', 'AFp2', 'AF4', 'PPO10', 'PO5', 'AFp3', 'FCC4h', 'CCP4', 'AFp2h', 'FTT7', 'P9', 'AFF3', 'AF7h', 'CCP5', 'FFT8h', 'FC4', 'AFp8', 'PPO1h', 'AFF1', 'CP5h', 'AF2', 'PPO7h', 'AF5h', 'POO5', 'TPP9', 'CPz', 'FCCz', 'FTT9', 'POO10', 'C6', 'AF8h', 'POO6h', 'POO2h', 'PO7', 'FTT10h', 'TTP10h', 'A1', 'PO1', 'CPP4h', 'CCP3', 'T9h', 'TP7', 'AF1', 'TTP8h', 'CP4h', 'AFF7h', 'F8h', 'POO4', 'FT7', 'PPO4h', 'POOz', 'CP2h', 'AFp8h', 'CCP2', 'FTT10', 'POO6', 'FFC1h', 'T3', 'CCP6', 'TP10h', 'OI1', 'F10h', 'TPP10', 'FFC4h', 'AF5', 'AF10', 'TTP8', 'OI2', 'AF3h', 'AFp5', 'C2', 'I2h', 'FT8h', 'CCPz', 'CCP4h', 'P7h', 'PO7h', 'FFT7h', 'T10', 'PPO8h', 'POO7h', 'AFF5', 'PPO9h', 'T10h', 'F4h', 'FFC5', 'PO6h', 'AFF10h', 'AFF5h', 'T5', 'P5h', 'P10', 'PO6', 'FC3h', 'FFC6h', 'CPP2', 'AF2h', 'CP3h', 'T6', 'CP3', 'M1', 'P2', 'AFp9', 'CCP2h', 'P5', 'F1h', 'TP7h', 'F5', 'P9h', 'P3h', 'AFp9h', 'AFF4h', 'TPP9h', 'POO2', 'P8h', 'FCC1', 'AFp5h', 'TPP8h', 'Fp2h', 'PO3', 'P4h', 'PO3h', 'TPP7', 'AFp4', 'FFCz', 'AFz', 'FFT7', 'AFF6h', 'AFF8h', 'FFT9h', 'PO2h', 'PPO7', 'TTP7h', 'C1', 'AF1h', 'FFT10h', 'T8h', 'PO1h', 'AFp1', 'A2', 'C4h', 'AF6h', 'CPP3h', 'AFF8', 'PPO6', 'FC3', 'AFF6', 'POO3h', 'CP1h', 'AF8', 'Iz', 'FFC4', 'P10h', 'P2h', 'AFp6', 'AFF1h', 'I2', 'TP8', 'TTP9h', 'FFC3', 'POO7', 'FTT9h', 'CCP3h', 'CPP5h', 'AFF2', 'OIz', 'AFp10h', 'AFp10', 'CPP1', 'AF9', 'O2h', 'OI1h', 'C1h', 'PO5h', 'F10', 'POO9h'}\n"
     ]
    },
    {
     "name": "stderr",
     "output_type": "stream",
     "text": [
      "<ipython-input-1-81fa588ad679>:54: RuntimeWarning: 1 channel names are too long, have been truncated to 15 characters:\n",
      "['BothStartLoadPhase']\n",
      "  info = create_info(ch_names,sfreq=500.0,ch_types=ch_type,montage = montage)\n",
      "/home/yaoxiaojian/anaconda3/lib/python3.7/site-packages/scipy/signal/_arraytools.py:45: FutureWarning: Using a non-tuple sequence for multidimensional indexing is deprecated; use `arr[tuple(seq)]` instead of `arr[seq]`. In the future this will be interpreted as an array index, `arr[np.array(seq)]`, which will result either in an error or a different result.\n",
      "  b = a[a_slice]\n",
      "/home/yaoxiaojian/anaconda3/lib/python3.7/site-packages/scipy/signal/_arraytools.py:45: FutureWarning: Using a non-tuple sequence for multidimensional indexing is deprecated; use `arr[tuple(seq)]` instead of `arr[seq]`. In the future this will be interpreted as an array index, `arr[np.array(seq)]`, which will result either in an error or a different result.\n",
      "  b = a[a_slice]\n",
      "/home/yaoxiaojian/anaconda3/lib/python3.7/site-packages/scipy/signal/_arraytools.py:45: FutureWarning: Using a non-tuple sequence for multidimensional indexing is deprecated; use `arr[tuple(seq)]` instead of `arr[seq]`. In the future this will be interpreted as an array index, `arr[np.array(seq)]`, which will result either in an error or a different result.\n",
      "  b = a[a_slice]\n",
      "/home/yaoxiaojian/anaconda3/lib/python3.7/site-packages/scipy/signal/_arraytools.py:45: FutureWarning: Using a non-tuple sequence for multidimensional indexing is deprecated; use `arr[tuple(seq)]` instead of `arr[seq]`. In the future this will be interpreted as an array index, `arr[np.array(seq)]`, which will result either in an error or a different result.\n",
      "  b = a[a_slice]\n",
      "/home/yaoxiaojian/anaconda3/lib/python3.7/site-packages/scipy/signal/_arraytools.py:45: FutureWarning: Using a non-tuple sequence for multidimensional indexing is deprecated; use `arr[tuple(seq)]` instead of `arr[seq]`. In the future this will be interpreted as an array index, `arr[np.array(seq)]`, which will result either in an error or a different result.\n",
      "  b = a[a_slice]\n",
      "/home/yaoxiaojian/anaconda3/lib/python3.7/site-packages/scipy/signal/_arraytools.py:45: FutureWarning: Using a non-tuple sequence for multidimensional indexing is deprecated; use `arr[tuple(seq)]` instead of `arr[seq]`. In the future this will be interpreted as an array index, `arr[np.array(seq)]`, which will result either in an error or a different result.\n",
      "  b = a[a_slice]\n",
      "/home/yaoxiaojian/anaconda3/lib/python3.7/site-packages/scipy/signal/_arraytools.py:45: FutureWarning: Using a non-tuple sequence for multidimensional indexing is deprecated; use `arr[tuple(seq)]` instead of `arr[seq]`. In the future this will be interpreted as an array index, `arr[np.array(seq)]`, which will result either in an error or a different result.\n",
      "  b = a[a_slice]\n",
      "/home/yaoxiaojian/anaconda3/lib/python3.7/site-packages/scipy/signal/_arraytools.py:45: FutureWarning: Using a non-tuple sequence for multidimensional indexing is deprecated; use `arr[tuple(seq)]` instead of `arr[seq]`. In the future this will be interpreted as an array index, `arr[np.array(seq)]`, which will result either in an error or a different result.\n",
      "  b = a[a_slice]\n"
     ]
    },
    {
     "name": "stdout",
     "output_type": "stream",
     "text": [
      "DigMontage is a superset of info. 311 in DigMontage will be ignored. The ignored channels are: {'PPO3h', 'FFC2h', 'PPOz', 'FCC5h', 'POO5h', 'OI2h', 'AFp7', 'AFF10', 'FCC4', 'POz', 'CCP1', 'PPO9', 'FTT8h', 'FFT8', 'FCC3h', 'PPO10h', 'AFF9', 'F9', 'O1h', 'FT10h', 'F3h', 'F6', 'FFC2', 'F2h', 'AFp6h', 'AFpz', 'PPO3', 'PO8', 'FC2h', 'PPO1', 'T4', 'AF9h', 'POO9', 'AFp1h', 'TPP8', 'CCP5h', 'PPO8', 'FCC6', 'AFp4h', 'P1', 'POO8h', 'FT9h', 'FTT7h', 'CPP6h', 'FC4h', 'PPO4', 'Fpz', 'C6h', 'F5h', 'FFT10', 'POO1h', 'FCC2h', 'AFp3h', 'PO8h', 'CPP3', 'PPO5', 'FC5h', 'AF6', 'P6', 'P1h', 'PO4h', 'TTP7', 'FFT9', 'POO4h', 'PO10h', 'AFF9h', 'POO10h', 'PO4', 'F2', 'AFp7h', 'FCz', 'FFC1', 'POO1', 'CPP2h', 'CP4', 'PO2', 'CCP1h', 'C5h', 'I1', 'FFC5h', 'FC6h', 'FT9', 'Fp1h', 'AFF2h', 'FFC3h', 'F7h', 'PPO2', 'FTT8', 'PO9h', 'AF4h', 'F6h', 'AFF4', 'FC1h', 'AFF3h', 'TP8h', 'CPP1h', 'F1', 'AF10h', 'CPPz', 'FCC3', 'TPP7h', 'CCP6h', 'C5', 'T9', 'FCC6h', 'C3h', 'I1h', 'CPP4', 'FT10', 'TPP10h', 'TTP10', 'CPP6', 'FT7h', 'FFC6', 'FCC2', 'AFFz', 'C2h', 'P6h', 'FCC5', 'POO8', 'M2', 'FCC1h', 'POO3', 'AF7', 'TP9h', 'AFF7', 'PPO2h', 'CP6h', 'T7h', 'F9h', 'CPP5', 'TTP9', 'AF3', 'PPO5h', 'PPO6h', 'FT8', 'AFp2', 'AF4', 'PPO10', 'PO5', 'AFp3', 'FCC4h', 'CCP4', 'AFp2h', 'FTT7', 'P9', 'AFF3', 'AF7h', 'CCP5', 'FFT8h', 'FC4', 'AFp8', 'PPO1h', 'AFF1', 'CP5h', 'AF2', 'PPO7h', 'AF5h', 'POO5', 'TPP9', 'CPz', 'FCCz', 'FTT9', 'POO10', 'C6', 'AF8h', 'POO6h', 'POO2h', 'PO7', 'FTT10h', 'TTP10h', 'A1', 'PO1', 'CPP4h', 'CCP3', 'T9h', 'TP7', 'AF1', 'TTP8h', 'CP4h', 'AFF7h', 'F8h', 'POO4', 'FT7', 'PPO4h', 'POOz', 'CP2h', 'AFp8h', 'CCP2', 'FTT10', 'POO6', 'FFC1h', 'T3', 'CCP6', 'TP10h', 'OI1', 'F10h', 'TPP10', 'FFC4h', 'AF5', 'AF10', 'TTP8', 'OI2', 'AF3h', 'AFp5', 'C2', 'I2h', 'FT8h', 'CCPz', 'CCP4h', 'P7h', 'PO7h', 'FFT7h', 'T10', 'PPO8h', 'POO7h', 'AFF5', 'PPO9h', 'T10h', 'F4h', 'FFC5', 'PO6h', 'AFF10h', 'AFF5h', 'T5', 'P5h', 'P10', 'PO6', 'FC3h', 'FFC6h', 'CPP2', 'AF2h', 'CP3h', 'T6', 'CP3', 'M1', 'P2', 'AFp9', 'CCP2h', 'P5', 'F1h', 'TP7h', 'F5', 'P9h', 'P3h', 'AFp9h', 'AFF4h', 'TPP9h', 'POO2', 'P8h', 'FCC1', 'AFp5h', 'TPP8h', 'Fp2h', 'PO3', 'P4h', 'PO3h', 'TPP7', 'AFp4', 'FFCz', 'AFz', 'FFT7', 'AFF6h', 'AFF8h', 'FFT9h', 'PO2h', 'PPO7', 'TTP7h', 'C1', 'AF1h', 'FFT10h', 'T8h', 'PO1h', 'AFp1', 'A2', 'C4h', 'AF6h', 'CPP3h', 'AFF8', 'PPO6', 'FC3', 'AFF6', 'POO3h', 'CP1h', 'AF8', 'Iz', 'FFC4', 'P10h', 'P2h', 'AFp6', 'AFF1h', 'I2', 'TP8', 'TTP9h', 'FFC3', 'POO7', 'FTT9h', 'CCP3h', 'CPP5h', 'AFF2', 'OIz', 'AFp10h', 'AFp10', 'CPP1', 'AF9', 'O2h', 'OI1h', 'C1h', 'PO5h', 'F10', 'POO9h'}\n"
     ]
    },
    {
     "name": "stderr",
     "output_type": "stream",
     "text": [
      "<ipython-input-1-81fa588ad679>:54: RuntimeWarning: 1 channel names are too long, have been truncated to 15 characters:\n",
      "['BothStartLoadPhase']\n",
      "  info = create_info(ch_names,sfreq=500.0,ch_types=ch_type,montage = montage)\n",
      "/home/yaoxiaojian/anaconda3/lib/python3.7/site-packages/scipy/signal/_arraytools.py:45: FutureWarning: Using a non-tuple sequence for multidimensional indexing is deprecated; use `arr[tuple(seq)]` instead of `arr[seq]`. In the future this will be interpreted as an array index, `arr[np.array(seq)]`, which will result either in an error or a different result.\n",
      "  b = a[a_slice]\n",
      "/home/yaoxiaojian/anaconda3/lib/python3.7/site-packages/scipy/signal/_arraytools.py:45: FutureWarning: Using a non-tuple sequence for multidimensional indexing is deprecated; use `arr[tuple(seq)]` instead of `arr[seq]`. In the future this will be interpreted as an array index, `arr[np.array(seq)]`, which will result either in an error or a different result.\n",
      "  b = a[a_slice]\n",
      "/home/yaoxiaojian/anaconda3/lib/python3.7/site-packages/scipy/signal/_arraytools.py:45: FutureWarning: Using a non-tuple sequence for multidimensional indexing is deprecated; use `arr[tuple(seq)]` instead of `arr[seq]`. In the future this will be interpreted as an array index, `arr[np.array(seq)]`, which will result either in an error or a different result.\n",
      "  b = a[a_slice]\n",
      "/home/yaoxiaojian/anaconda3/lib/python3.7/site-packages/scipy/signal/_arraytools.py:45: FutureWarning: Using a non-tuple sequence for multidimensional indexing is deprecated; use `arr[tuple(seq)]` instead of `arr[seq]`. In the future this will be interpreted as an array index, `arr[np.array(seq)]`, which will result either in an error or a different result.\n",
      "  b = a[a_slice]\n",
      "/home/yaoxiaojian/anaconda3/lib/python3.7/site-packages/scipy/signal/_arraytools.py:45: FutureWarning: Using a non-tuple sequence for multidimensional indexing is deprecated; use `arr[tuple(seq)]` instead of `arr[seq]`. In the future this will be interpreted as an array index, `arr[np.array(seq)]`, which will result either in an error or a different result.\n",
      "  b = a[a_slice]\n",
      "/home/yaoxiaojian/anaconda3/lib/python3.7/site-packages/scipy/signal/_arraytools.py:45: FutureWarning: Using a non-tuple sequence for multidimensional indexing is deprecated; use `arr[tuple(seq)]` instead of `arr[seq]`. In the future this will be interpreted as an array index, `arr[np.array(seq)]`, which will result either in an error or a different result.\n",
      "  b = a[a_slice]\n",
      "/home/yaoxiaojian/anaconda3/lib/python3.7/site-packages/scipy/signal/_arraytools.py:45: FutureWarning: Using a non-tuple sequence for multidimensional indexing is deprecated; use `arr[tuple(seq)]` instead of `arr[seq]`. In the future this will be interpreted as an array index, `arr[np.array(seq)]`, which will result either in an error or a different result.\n",
      "  b = a[a_slice]\n",
      "/home/yaoxiaojian/anaconda3/lib/python3.7/site-packages/scipy/signal/_arraytools.py:45: FutureWarning: Using a non-tuple sequence for multidimensional indexing is deprecated; use `arr[tuple(seq)]` instead of `arr[seq]`. In the future this will be interpreted as an array index, `arr[np.array(seq)]`, which will result either in an error or a different result.\n",
      "  b = a[a_slice]\n"
     ]
    },
    {
     "name": "stdout",
     "output_type": "stream",
     "text": [
      "DigMontage is a superset of info. 311 in DigMontage will be ignored. The ignored channels are: {'PPO3h', 'FFC2h', 'PPOz', 'FCC5h', 'POO5h', 'OI2h', 'AFp7', 'AFF10', 'FCC4', 'POz', 'CCP1', 'PPO9', 'FTT8h', 'FFT8', 'FCC3h', 'PPO10h', 'AFF9', 'F9', 'O1h', 'FT10h', 'F3h', 'F6', 'FFC2', 'F2h', 'AFp6h', 'AFpz', 'PPO3', 'PO8', 'FC2h', 'PPO1', 'T4', 'AF9h', 'POO9', 'AFp1h', 'TPP8', 'CCP5h', 'PPO8', 'FCC6', 'AFp4h', 'P1', 'POO8h', 'FT9h', 'FTT7h', 'CPP6h', 'FC4h', 'PPO4', 'Fpz', 'C6h', 'F5h', 'FFT10', 'POO1h', 'FCC2h', 'AFp3h', 'PO8h', 'CPP3', 'PPO5', 'FC5h', 'AF6', 'P6', 'P1h', 'PO4h', 'TTP7', 'FFT9', 'POO4h', 'PO10h', 'AFF9h', 'POO10h', 'PO4', 'F2', 'AFp7h', 'FCz', 'FFC1', 'POO1', 'CPP2h', 'CP4', 'PO2', 'CCP1h', 'C5h', 'I1', 'FFC5h', 'FC6h', 'FT9', 'Fp1h', 'AFF2h', 'FFC3h', 'F7h', 'PPO2', 'FTT8', 'PO9h', 'AF4h', 'F6h', 'AFF4', 'FC1h', 'AFF3h', 'TP8h', 'CPP1h', 'F1', 'AF10h', 'CPPz', 'FCC3', 'TPP7h', 'CCP6h', 'C5', 'T9', 'FCC6h', 'C3h', 'I1h', 'CPP4', 'FT10', 'TPP10h', 'TTP10', 'CPP6', 'FT7h', 'FFC6', 'FCC2', 'AFFz', 'C2h', 'P6h', 'FCC5', 'POO8', 'M2', 'FCC1h', 'POO3', 'AF7', 'TP9h', 'AFF7', 'PPO2h', 'CP6h', 'T7h', 'F9h', 'CPP5', 'TTP9', 'AF3', 'PPO5h', 'PPO6h', 'FT8', 'AFp2', 'AF4', 'PPO10', 'PO5', 'AFp3', 'FCC4h', 'CCP4', 'AFp2h', 'FTT7', 'P9', 'AFF3', 'AF7h', 'CCP5', 'FFT8h', 'FC4', 'AFp8', 'PPO1h', 'AFF1', 'CP5h', 'AF2', 'PPO7h', 'AF5h', 'POO5', 'TPP9', 'CPz', 'FCCz', 'FTT9', 'POO10', 'C6', 'AF8h', 'POO6h', 'POO2h', 'PO7', 'FTT10h', 'TTP10h', 'A1', 'PO1', 'CPP4h', 'CCP3', 'T9h', 'TP7', 'AF1', 'TTP8h', 'CP4h', 'AFF7h', 'F8h', 'POO4', 'FT7', 'PPO4h', 'POOz', 'CP2h', 'AFp8h', 'CCP2', 'FTT10', 'POO6', 'FFC1h', 'T3', 'CCP6', 'TP10h', 'OI1', 'F10h', 'TPP10', 'FFC4h', 'AF5', 'AF10', 'TTP8', 'OI2', 'AF3h', 'AFp5', 'C2', 'I2h', 'FT8h', 'CCPz', 'CCP4h', 'P7h', 'PO7h', 'FFT7h', 'T10', 'PPO8h', 'POO7h', 'AFF5', 'PPO9h', 'T10h', 'F4h', 'FFC5', 'PO6h', 'AFF10h', 'AFF5h', 'T5', 'P5h', 'P10', 'PO6', 'FC3h', 'FFC6h', 'CPP2', 'AF2h', 'CP3h', 'T6', 'CP3', 'M1', 'P2', 'AFp9', 'CCP2h', 'P5', 'F1h', 'TP7h', 'F5', 'P9h', 'P3h', 'AFp9h', 'AFF4h', 'TPP9h', 'POO2', 'P8h', 'FCC1', 'AFp5h', 'TPP8h', 'Fp2h', 'PO3', 'P4h', 'PO3h', 'TPP7', 'AFp4', 'FFCz', 'AFz', 'FFT7', 'AFF6h', 'AFF8h', 'FFT9h', 'PO2h', 'PPO7', 'TTP7h', 'C1', 'AF1h', 'FFT10h', 'T8h', 'PO1h', 'AFp1', 'A2', 'C4h', 'AF6h', 'CPP3h', 'AFF8', 'PPO6', 'FC3', 'AFF6', 'POO3h', 'CP1h', 'AF8', 'Iz', 'FFC4', 'P10h', 'P2h', 'AFp6', 'AFF1h', 'I2', 'TP8', 'TTP9h', 'FFC3', 'POO7', 'FTT9h', 'CCP3h', 'CPP5h', 'AFF2', 'OIz', 'AFp10h', 'AFp10', 'CPP1', 'AF9', 'O2h', 'OI1h', 'C1h', 'PO5h', 'F10', 'POO9h'}\n"
     ]
    },
    {
     "name": "stderr",
     "output_type": "stream",
     "text": [
      "<ipython-input-1-81fa588ad679>:54: RuntimeWarning: 1 channel names are too long, have been truncated to 15 characters:\n",
      "['BothStartLoadPhase']\n",
      "  info = create_info(ch_names,sfreq=500.0,ch_types=ch_type,montage = montage)\n",
      "/home/yaoxiaojian/anaconda3/lib/python3.7/site-packages/scipy/signal/_arraytools.py:45: FutureWarning: Using a non-tuple sequence for multidimensional indexing is deprecated; use `arr[tuple(seq)]` instead of `arr[seq]`. In the future this will be interpreted as an array index, `arr[np.array(seq)]`, which will result either in an error or a different result.\n",
      "  b = a[a_slice]\n",
      "/home/yaoxiaojian/anaconda3/lib/python3.7/site-packages/scipy/signal/_arraytools.py:45: FutureWarning: Using a non-tuple sequence for multidimensional indexing is deprecated; use `arr[tuple(seq)]` instead of `arr[seq]`. In the future this will be interpreted as an array index, `arr[np.array(seq)]`, which will result either in an error or a different result.\n",
      "  b = a[a_slice]\n",
      "/home/yaoxiaojian/anaconda3/lib/python3.7/site-packages/scipy/signal/_arraytools.py:45: FutureWarning: Using a non-tuple sequence for multidimensional indexing is deprecated; use `arr[tuple(seq)]` instead of `arr[seq]`. In the future this will be interpreted as an array index, `arr[np.array(seq)]`, which will result either in an error or a different result.\n",
      "  b = a[a_slice]\n",
      "/home/yaoxiaojian/anaconda3/lib/python3.7/site-packages/scipy/signal/_arraytools.py:45: FutureWarning: Using a non-tuple sequence for multidimensional indexing is deprecated; use `arr[tuple(seq)]` instead of `arr[seq]`. In the future this will be interpreted as an array index, `arr[np.array(seq)]`, which will result either in an error or a different result.\n",
      "  b = a[a_slice]\n",
      "/home/yaoxiaojian/anaconda3/lib/python3.7/site-packages/scipy/signal/_arraytools.py:45: FutureWarning: Using a non-tuple sequence for multidimensional indexing is deprecated; use `arr[tuple(seq)]` instead of `arr[seq]`. In the future this will be interpreted as an array index, `arr[np.array(seq)]`, which will result either in an error or a different result.\n",
      "  b = a[a_slice]\n",
      "/home/yaoxiaojian/anaconda3/lib/python3.7/site-packages/scipy/signal/_arraytools.py:45: FutureWarning: Using a non-tuple sequence for multidimensional indexing is deprecated; use `arr[tuple(seq)]` instead of `arr[seq]`. In the future this will be interpreted as an array index, `arr[np.array(seq)]`, which will result either in an error or a different result.\n",
      "  b = a[a_slice]\n",
      "/home/yaoxiaojian/anaconda3/lib/python3.7/site-packages/scipy/signal/_arraytools.py:45: FutureWarning: Using a non-tuple sequence for multidimensional indexing is deprecated; use `arr[tuple(seq)]` instead of `arr[seq]`. In the future this will be interpreted as an array index, `arr[np.array(seq)]`, which will result either in an error or a different result.\n",
      "  b = a[a_slice]\n",
      "/home/yaoxiaojian/anaconda3/lib/python3.7/site-packages/scipy/signal/_arraytools.py:45: FutureWarning: Using a non-tuple sequence for multidimensional indexing is deprecated; use `arr[tuple(seq)]` instead of `arr[seq]`. In the future this will be interpreted as an array index, `arr[np.array(seq)]`, which will result either in an error or a different result.\n",
      "  b = a[a_slice]\n"
     ]
    },
    {
     "name": "stdout",
     "output_type": "stream",
     "text": [
      "DigMontage is a superset of info. 311 in DigMontage will be ignored. The ignored channels are: {'PPO3h', 'FFC2h', 'PPOz', 'FCC5h', 'POO5h', 'OI2h', 'AFp7', 'AFF10', 'FCC4', 'POz', 'CCP1', 'PPO9', 'FTT8h', 'FFT8', 'FCC3h', 'PPO10h', 'AFF9', 'F9', 'O1h', 'FT10h', 'F3h', 'F6', 'FFC2', 'F2h', 'AFp6h', 'AFpz', 'PPO3', 'PO8', 'FC2h', 'PPO1', 'T4', 'AF9h', 'POO9', 'AFp1h', 'TPP8', 'CCP5h', 'PPO8', 'FCC6', 'AFp4h', 'P1', 'POO8h', 'FT9h', 'FTT7h', 'CPP6h', 'FC4h', 'PPO4', 'Fpz', 'C6h', 'F5h', 'FFT10', 'POO1h', 'FCC2h', 'AFp3h', 'PO8h', 'CPP3', 'PPO5', 'FC5h', 'AF6', 'P6', 'P1h', 'PO4h', 'TTP7', 'FFT9', 'POO4h', 'PO10h', 'AFF9h', 'POO10h', 'PO4', 'F2', 'AFp7h', 'FCz', 'FFC1', 'POO1', 'CPP2h', 'CP4', 'PO2', 'CCP1h', 'C5h', 'I1', 'FFC5h', 'FC6h', 'FT9', 'Fp1h', 'AFF2h', 'FFC3h', 'F7h', 'PPO2', 'FTT8', 'PO9h', 'AF4h', 'F6h', 'AFF4', 'FC1h', 'AFF3h', 'TP8h', 'CPP1h', 'F1', 'AF10h', 'CPPz', 'FCC3', 'TPP7h', 'CCP6h', 'C5', 'T9', 'FCC6h', 'C3h', 'I1h', 'CPP4', 'FT10', 'TPP10h', 'TTP10', 'CPP6', 'FT7h', 'FFC6', 'FCC2', 'AFFz', 'C2h', 'P6h', 'FCC5', 'POO8', 'M2', 'FCC1h', 'POO3', 'AF7', 'TP9h', 'AFF7', 'PPO2h', 'CP6h', 'T7h', 'F9h', 'CPP5', 'TTP9', 'AF3', 'PPO5h', 'PPO6h', 'FT8', 'AFp2', 'AF4', 'PPO10', 'PO5', 'AFp3', 'FCC4h', 'CCP4', 'AFp2h', 'FTT7', 'P9', 'AFF3', 'AF7h', 'CCP5', 'FFT8h', 'FC4', 'AFp8', 'PPO1h', 'AFF1', 'CP5h', 'AF2', 'PPO7h', 'AF5h', 'POO5', 'TPP9', 'CPz', 'FCCz', 'FTT9', 'POO10', 'C6', 'AF8h', 'POO6h', 'POO2h', 'PO7', 'FTT10h', 'TTP10h', 'A1', 'PO1', 'CPP4h', 'CCP3', 'T9h', 'TP7', 'AF1', 'TTP8h', 'CP4h', 'AFF7h', 'F8h', 'POO4', 'FT7', 'PPO4h', 'POOz', 'CP2h', 'AFp8h', 'CCP2', 'FTT10', 'POO6', 'FFC1h', 'T3', 'CCP6', 'TP10h', 'OI1', 'F10h', 'TPP10', 'FFC4h', 'AF5', 'AF10', 'TTP8', 'OI2', 'AF3h', 'AFp5', 'C2', 'I2h', 'FT8h', 'CCPz', 'CCP4h', 'P7h', 'PO7h', 'FFT7h', 'T10', 'PPO8h', 'POO7h', 'AFF5', 'PPO9h', 'T10h', 'F4h', 'FFC5', 'PO6h', 'AFF10h', 'AFF5h', 'T5', 'P5h', 'P10', 'PO6', 'FC3h', 'FFC6h', 'CPP2', 'AF2h', 'CP3h', 'T6', 'CP3', 'M1', 'P2', 'AFp9', 'CCP2h', 'P5', 'F1h', 'TP7h', 'F5', 'P9h', 'P3h', 'AFp9h', 'AFF4h', 'TPP9h', 'POO2', 'P8h', 'FCC1', 'AFp5h', 'TPP8h', 'Fp2h', 'PO3', 'P4h', 'PO3h', 'TPP7', 'AFp4', 'FFCz', 'AFz', 'FFT7', 'AFF6h', 'AFF8h', 'FFT9h', 'PO2h', 'PPO7', 'TTP7h', 'C1', 'AF1h', 'FFT10h', 'T8h', 'PO1h', 'AFp1', 'A2', 'C4h', 'AF6h', 'CPP3h', 'AFF8', 'PPO6', 'FC3', 'AFF6', 'POO3h', 'CP1h', 'AF8', 'Iz', 'FFC4', 'P10h', 'P2h', 'AFp6', 'AFF1h', 'I2', 'TP8', 'TTP9h', 'FFC3', 'POO7', 'FTT9h', 'CCP3h', 'CPP5h', 'AFF2', 'OIz', 'AFp10h', 'AFp10', 'CPP1', 'AF9', 'O2h', 'OI1h', 'C1h', 'PO5h', 'F10', 'POO9h'}\n"
     ]
    },
    {
     "name": "stderr",
     "output_type": "stream",
     "text": [
      "<ipython-input-1-81fa588ad679>:54: RuntimeWarning: 1 channel names are too long, have been truncated to 15 characters:\n",
      "['BothStartLoadPhase']\n",
      "  info = create_info(ch_names,sfreq=500.0,ch_types=ch_type,montage = montage)\n",
      "/home/yaoxiaojian/anaconda3/lib/python3.7/site-packages/scipy/signal/_arraytools.py:45: FutureWarning: Using a non-tuple sequence for multidimensional indexing is deprecated; use `arr[tuple(seq)]` instead of `arr[seq]`. In the future this will be interpreted as an array index, `arr[np.array(seq)]`, which will result either in an error or a different result.\n",
      "  b = a[a_slice]\n",
      "/home/yaoxiaojian/anaconda3/lib/python3.7/site-packages/scipy/signal/_arraytools.py:45: FutureWarning: Using a non-tuple sequence for multidimensional indexing is deprecated; use `arr[tuple(seq)]` instead of `arr[seq]`. In the future this will be interpreted as an array index, `arr[np.array(seq)]`, which will result either in an error or a different result.\n",
      "  b = a[a_slice]\n",
      "/home/yaoxiaojian/anaconda3/lib/python3.7/site-packages/scipy/signal/_arraytools.py:45: FutureWarning: Using a non-tuple sequence for multidimensional indexing is deprecated; use `arr[tuple(seq)]` instead of `arr[seq]`. In the future this will be interpreted as an array index, `arr[np.array(seq)]`, which will result either in an error or a different result.\n",
      "  b = a[a_slice]\n",
      "/home/yaoxiaojian/anaconda3/lib/python3.7/site-packages/scipy/signal/_arraytools.py:45: FutureWarning: Using a non-tuple sequence for multidimensional indexing is deprecated; use `arr[tuple(seq)]` instead of `arr[seq]`. In the future this will be interpreted as an array index, `arr[np.array(seq)]`, which will result either in an error or a different result.\n",
      "  b = a[a_slice]\n",
      "/home/yaoxiaojian/anaconda3/lib/python3.7/site-packages/scipy/signal/_arraytools.py:45: FutureWarning: Using a non-tuple sequence for multidimensional indexing is deprecated; use `arr[tuple(seq)]` instead of `arr[seq]`. In the future this will be interpreted as an array index, `arr[np.array(seq)]`, which will result either in an error or a different result.\n",
      "  b = a[a_slice]\n",
      "/home/yaoxiaojian/anaconda3/lib/python3.7/site-packages/scipy/signal/_arraytools.py:45: FutureWarning: Using a non-tuple sequence for multidimensional indexing is deprecated; use `arr[tuple(seq)]` instead of `arr[seq]`. In the future this will be interpreted as an array index, `arr[np.array(seq)]`, which will result either in an error or a different result.\n",
      "  b = a[a_slice]\n",
      "/home/yaoxiaojian/anaconda3/lib/python3.7/site-packages/scipy/signal/_arraytools.py:45: FutureWarning: Using a non-tuple sequence for multidimensional indexing is deprecated; use `arr[tuple(seq)]` instead of `arr[seq]`. In the future this will be interpreted as an array index, `arr[np.array(seq)]`, which will result either in an error or a different result.\n",
      "  b = a[a_slice]\n",
      "/home/yaoxiaojian/anaconda3/lib/python3.7/site-packages/scipy/signal/_arraytools.py:45: FutureWarning: Using a non-tuple sequence for multidimensional indexing is deprecated; use `arr[tuple(seq)]` instead of `arr[seq]`. In the future this will be interpreted as an array index, `arr[np.array(seq)]`, which will result either in an error or a different result.\n",
      "  b = a[a_slice]\n"
     ]
    },
    {
     "name": "stdout",
     "output_type": "stream",
     "text": [
      "DigMontage is a superset of info. 311 in DigMontage will be ignored. The ignored channels are: {'PPO3h', 'FFC2h', 'PPOz', 'FCC5h', 'POO5h', 'OI2h', 'AFp7', 'AFF10', 'FCC4', 'POz', 'CCP1', 'PPO9', 'FTT8h', 'FFT8', 'FCC3h', 'PPO10h', 'AFF9', 'F9', 'O1h', 'FT10h', 'F3h', 'F6', 'FFC2', 'F2h', 'AFp6h', 'AFpz', 'PPO3', 'PO8', 'FC2h', 'PPO1', 'T4', 'AF9h', 'POO9', 'AFp1h', 'TPP8', 'CCP5h', 'PPO8', 'FCC6', 'AFp4h', 'P1', 'POO8h', 'FT9h', 'FTT7h', 'CPP6h', 'FC4h', 'PPO4', 'Fpz', 'C6h', 'F5h', 'FFT10', 'POO1h', 'FCC2h', 'AFp3h', 'PO8h', 'CPP3', 'PPO5', 'FC5h', 'AF6', 'P6', 'P1h', 'PO4h', 'TTP7', 'FFT9', 'POO4h', 'PO10h', 'AFF9h', 'POO10h', 'PO4', 'F2', 'AFp7h', 'FCz', 'FFC1', 'POO1', 'CPP2h', 'CP4', 'PO2', 'CCP1h', 'C5h', 'I1', 'FFC5h', 'FC6h', 'FT9', 'Fp1h', 'AFF2h', 'FFC3h', 'F7h', 'PPO2', 'FTT8', 'PO9h', 'AF4h', 'F6h', 'AFF4', 'FC1h', 'AFF3h', 'TP8h', 'CPP1h', 'F1', 'AF10h', 'CPPz', 'FCC3', 'TPP7h', 'CCP6h', 'C5', 'T9', 'FCC6h', 'C3h', 'I1h', 'CPP4', 'FT10', 'TPP10h', 'TTP10', 'CPP6', 'FT7h', 'FFC6', 'FCC2', 'AFFz', 'C2h', 'P6h', 'FCC5', 'POO8', 'M2', 'FCC1h', 'POO3', 'AF7', 'TP9h', 'AFF7', 'PPO2h', 'CP6h', 'T7h', 'F9h', 'CPP5', 'TTP9', 'AF3', 'PPO5h', 'PPO6h', 'FT8', 'AFp2', 'AF4', 'PPO10', 'PO5', 'AFp3', 'FCC4h', 'CCP4', 'AFp2h', 'FTT7', 'P9', 'AFF3', 'AF7h', 'CCP5', 'FFT8h', 'FC4', 'AFp8', 'PPO1h', 'AFF1', 'CP5h', 'AF2', 'PPO7h', 'AF5h', 'POO5', 'TPP9', 'CPz', 'FCCz', 'FTT9', 'POO10', 'C6', 'AF8h', 'POO6h', 'POO2h', 'PO7', 'FTT10h', 'TTP10h', 'A1', 'PO1', 'CPP4h', 'CCP3', 'T9h', 'TP7', 'AF1', 'TTP8h', 'CP4h', 'AFF7h', 'F8h', 'POO4', 'FT7', 'PPO4h', 'POOz', 'CP2h', 'AFp8h', 'CCP2', 'FTT10', 'POO6', 'FFC1h', 'T3', 'CCP6', 'TP10h', 'OI1', 'F10h', 'TPP10', 'FFC4h', 'AF5', 'AF10', 'TTP8', 'OI2', 'AF3h', 'AFp5', 'C2', 'I2h', 'FT8h', 'CCPz', 'CCP4h', 'P7h', 'PO7h', 'FFT7h', 'T10', 'PPO8h', 'POO7h', 'AFF5', 'PPO9h', 'T10h', 'F4h', 'FFC5', 'PO6h', 'AFF10h', 'AFF5h', 'T5', 'P5h', 'P10', 'PO6', 'FC3h', 'FFC6h', 'CPP2', 'AF2h', 'CP3h', 'T6', 'CP3', 'M1', 'P2', 'AFp9', 'CCP2h', 'P5', 'F1h', 'TP7h', 'F5', 'P9h', 'P3h', 'AFp9h', 'AFF4h', 'TPP9h', 'POO2', 'P8h', 'FCC1', 'AFp5h', 'TPP8h', 'Fp2h', 'PO3', 'P4h', 'PO3h', 'TPP7', 'AFp4', 'FFCz', 'AFz', 'FFT7', 'AFF6h', 'AFF8h', 'FFT9h', 'PO2h', 'PPO7', 'TTP7h', 'C1', 'AF1h', 'FFT10h', 'T8h', 'PO1h', 'AFp1', 'A2', 'C4h', 'AF6h', 'CPP3h', 'AFF8', 'PPO6', 'FC3', 'AFF6', 'POO3h', 'CP1h', 'AF8', 'Iz', 'FFC4', 'P10h', 'P2h', 'AFp6', 'AFF1h', 'I2', 'TP8', 'TTP9h', 'FFC3', 'POO7', 'FTT9h', 'CCP3h', 'CPP5h', 'AFF2', 'OIz', 'AFp10h', 'AFp10', 'CPP1', 'AF9', 'O2h', 'OI1h', 'C1h', 'PO5h', 'F10', 'POO9h'}\n"
     ]
    },
    {
     "name": "stderr",
     "output_type": "stream",
     "text": [
      "<ipython-input-1-81fa588ad679>:54: RuntimeWarning: 1 channel names are too long, have been truncated to 15 characters:\n",
      "['BothStartLoadPhase']\n",
      "  info = create_info(ch_names,sfreq=500.0,ch_types=ch_type,montage = montage)\n",
      "/home/yaoxiaojian/anaconda3/lib/python3.7/site-packages/scipy/signal/_arraytools.py:45: FutureWarning: Using a non-tuple sequence for multidimensional indexing is deprecated; use `arr[tuple(seq)]` instead of `arr[seq]`. In the future this will be interpreted as an array index, `arr[np.array(seq)]`, which will result either in an error or a different result.\n",
      "  b = a[a_slice]\n",
      "/home/yaoxiaojian/anaconda3/lib/python3.7/site-packages/scipy/signal/_arraytools.py:45: FutureWarning: Using a non-tuple sequence for multidimensional indexing is deprecated; use `arr[tuple(seq)]` instead of `arr[seq]`. In the future this will be interpreted as an array index, `arr[np.array(seq)]`, which will result either in an error or a different result.\n",
      "  b = a[a_slice]\n",
      "/home/yaoxiaojian/anaconda3/lib/python3.7/site-packages/scipy/signal/_arraytools.py:45: FutureWarning: Using a non-tuple sequence for multidimensional indexing is deprecated; use `arr[tuple(seq)]` instead of `arr[seq]`. In the future this will be interpreted as an array index, `arr[np.array(seq)]`, which will result either in an error or a different result.\n",
      "  b = a[a_slice]\n",
      "/home/yaoxiaojian/anaconda3/lib/python3.7/site-packages/scipy/signal/_arraytools.py:45: FutureWarning: Using a non-tuple sequence for multidimensional indexing is deprecated; use `arr[tuple(seq)]` instead of `arr[seq]`. In the future this will be interpreted as an array index, `arr[np.array(seq)]`, which will result either in an error or a different result.\n",
      "  b = a[a_slice]\n",
      "/home/yaoxiaojian/anaconda3/lib/python3.7/site-packages/scipy/signal/_arraytools.py:45: FutureWarning: Using a non-tuple sequence for multidimensional indexing is deprecated; use `arr[tuple(seq)]` instead of `arr[seq]`. In the future this will be interpreted as an array index, `arr[np.array(seq)]`, which will result either in an error or a different result.\n",
      "  b = a[a_slice]\n",
      "/home/yaoxiaojian/anaconda3/lib/python3.7/site-packages/scipy/signal/_arraytools.py:45: FutureWarning: Using a non-tuple sequence for multidimensional indexing is deprecated; use `arr[tuple(seq)]` instead of `arr[seq]`. In the future this will be interpreted as an array index, `arr[np.array(seq)]`, which will result either in an error or a different result.\n",
      "  b = a[a_slice]\n",
      "/home/yaoxiaojian/anaconda3/lib/python3.7/site-packages/scipy/signal/_arraytools.py:45: FutureWarning: Using a non-tuple sequence for multidimensional indexing is deprecated; use `arr[tuple(seq)]` instead of `arr[seq]`. In the future this will be interpreted as an array index, `arr[np.array(seq)]`, which will result either in an error or a different result.\n",
      "  b = a[a_slice]\n",
      "/home/yaoxiaojian/anaconda3/lib/python3.7/site-packages/scipy/signal/_arraytools.py:45: FutureWarning: Using a non-tuple sequence for multidimensional indexing is deprecated; use `arr[tuple(seq)]` instead of `arr[seq]`. In the future this will be interpreted as an array index, `arr[np.array(seq)]`, which will result either in an error or a different result.\n",
      "  b = a[a_slice]\n"
     ]
    },
    {
     "name": "stdout",
     "output_type": "stream",
     "text": [
      "subject 11 (1560, 64, 751)\n",
      "data stack shape: (15595, 64, 751) (15595,)\n",
      "DigMontage is a superset of info. 311 in DigMontage will be ignored. The ignored channels are: {'PPO3h', 'FFC2h', 'PPOz', 'FCC5h', 'POO5h', 'OI2h', 'AFp7', 'AFF10', 'FCC4', 'POz', 'CCP1', 'PPO9', 'FTT8h', 'FFT8', 'FCC3h', 'PPO10h', 'AFF9', 'F9', 'O1h', 'FT10h', 'F3h', 'F6', 'FFC2', 'F2h', 'AFp6h', 'AFpz', 'PPO3', 'PO8', 'FC2h', 'PPO1', 'T4', 'AF9h', 'POO9', 'AFp1h', 'TPP8', 'CCP5h', 'PPO8', 'FCC6', 'AFp4h', 'P1', 'POO8h', 'FT9h', 'FTT7h', 'CPP6h', 'FC4h', 'PPO4', 'Fpz', 'C6h', 'F5h', 'FFT10', 'POO1h', 'FCC2h', 'AFp3h', 'PO8h', 'CPP3', 'PPO5', 'FC5h', 'AF6', 'P6', 'P1h', 'PO4h', 'TTP7', 'FFT9', 'POO4h', 'PO10h', 'AFF9h', 'POO10h', 'PO4', 'F2', 'AFp7h', 'FCz', 'FFC1', 'POO1', 'CPP2h', 'CP4', 'PO2', 'CCP1h', 'C5h', 'I1', 'FFC5h', 'FC6h', 'FT9', 'Fp1h', 'AFF2h', 'FFC3h', 'F7h', 'PPO2', 'FTT8', 'PO9h', 'AF4h', 'F6h', 'AFF4', 'FC1h', 'AFF3h', 'TP8h', 'CPP1h', 'F1', 'AF10h', 'CPPz', 'FCC3', 'TPP7h', 'CCP6h', 'C5', 'T9', 'FCC6h', 'C3h', 'I1h', 'CPP4', 'FT10', 'TPP10h', 'TTP10', 'CPP6', 'FT7h', 'FFC6', 'FCC2', 'AFFz', 'C2h', 'P6h', 'FCC5', 'POO8', 'M2', 'FCC1h', 'POO3', 'AF7', 'TP9h', 'AFF7', 'PPO2h', 'CP6h', 'T7h', 'F9h', 'CPP5', 'TTP9', 'AF3', 'PPO5h', 'PPO6h', 'FT8', 'AFp2', 'AF4', 'PPO10', 'PO5', 'AFp3', 'FCC4h', 'CCP4', 'AFp2h', 'FTT7', 'P9', 'AFF3', 'AF7h', 'CCP5', 'FFT8h', 'FC4', 'AFp8', 'PPO1h', 'AFF1', 'CP5h', 'AF2', 'PPO7h', 'AF5h', 'POO5', 'TPP9', 'CPz', 'FCCz', 'FTT9', 'POO10', 'C6', 'AF8h', 'POO6h', 'POO2h', 'PO7', 'FTT10h', 'TTP10h', 'A1', 'PO1', 'CPP4h', 'CCP3', 'T9h', 'TP7', 'AF1', 'TTP8h', 'CP4h', 'AFF7h', 'F8h', 'POO4', 'FT7', 'PPO4h', 'POOz', 'CP2h', 'AFp8h', 'CCP2', 'FTT10', 'POO6', 'FFC1h', 'T3', 'CCP6', 'TP10h', 'OI1', 'F10h', 'TPP10', 'FFC4h', 'AF5', 'AF10', 'TTP8', 'OI2', 'AF3h', 'AFp5', 'C2', 'I2h', 'FT8h', 'CCPz', 'CCP4h', 'P7h', 'PO7h', 'FFT7h', 'T10', 'PPO8h', 'POO7h', 'AFF5', 'PPO9h', 'T10h', 'F4h', 'FFC5', 'PO6h', 'AFF10h', 'AFF5h', 'T5', 'P5h', 'P10', 'PO6', 'FC3h', 'FFC6h', 'CPP2', 'AF2h', 'CP3h', 'T6', 'CP3', 'M1', 'P2', 'AFp9', 'CCP2h', 'P5', 'F1h', 'TP7h', 'F5', 'P9h', 'P3h', 'AFp9h', 'AFF4h', 'TPP9h', 'POO2', 'P8h', 'FCC1', 'AFp5h', 'TPP8h', 'Fp2h', 'PO3', 'P4h', 'PO3h', 'TPP7', 'AFp4', 'FFCz', 'AFz', 'FFT7', 'AFF6h', 'AFF8h', 'FFT9h', 'PO2h', 'PPO7', 'TTP7h', 'C1', 'AF1h', 'FFT10h', 'T8h', 'PO1h', 'AFp1', 'A2', 'C4h', 'AF6h', 'CPP3h', 'AFF8', 'PPO6', 'FC3', 'AFF6', 'POO3h', 'CP1h', 'AF8', 'Iz', 'FFC4', 'P10h', 'P2h', 'AFp6', 'AFF1h', 'I2', 'TP8', 'TTP9h', 'FFC3', 'POO7', 'FTT9h', 'CCP3h', 'CPP5h', 'AFF2', 'OIz', 'AFp10h', 'AFp10', 'CPP1', 'AF9', 'O2h', 'OI1h', 'C1h', 'PO5h', 'F10', 'POO9h'}\n"
     ]
    },
    {
     "name": "stderr",
     "output_type": "stream",
     "text": [
      "<ipython-input-1-81fa588ad679>:54: RuntimeWarning: 1 channel names are too long, have been truncated to 15 characters:\n",
      "['BothStartLoadPhase']\n",
      "  info = create_info(ch_names,sfreq=500.0,ch_types=ch_type,montage = montage)\n",
      "/home/yaoxiaojian/anaconda3/lib/python3.7/site-packages/scipy/signal/_arraytools.py:45: FutureWarning: Using a non-tuple sequence for multidimensional indexing is deprecated; use `arr[tuple(seq)]` instead of `arr[seq]`. In the future this will be interpreted as an array index, `arr[np.array(seq)]`, which will result either in an error or a different result.\n",
      "  b = a[a_slice]\n",
      "/home/yaoxiaojian/anaconda3/lib/python3.7/site-packages/scipy/signal/_arraytools.py:45: FutureWarning: Using a non-tuple sequence for multidimensional indexing is deprecated; use `arr[tuple(seq)]` instead of `arr[seq]`. In the future this will be interpreted as an array index, `arr[np.array(seq)]`, which will result either in an error or a different result.\n",
      "  b = a[a_slice]\n",
      "/home/yaoxiaojian/anaconda3/lib/python3.7/site-packages/scipy/signal/_arraytools.py:45: FutureWarning: Using a non-tuple sequence for multidimensional indexing is deprecated; use `arr[tuple(seq)]` instead of `arr[seq]`. In the future this will be interpreted as an array index, `arr[np.array(seq)]`, which will result either in an error or a different result.\n",
      "  b = a[a_slice]\n",
      "/home/yaoxiaojian/anaconda3/lib/python3.7/site-packages/scipy/signal/_arraytools.py:45: FutureWarning: Using a non-tuple sequence for multidimensional indexing is deprecated; use `arr[tuple(seq)]` instead of `arr[seq]`. In the future this will be interpreted as an array index, `arr[np.array(seq)]`, which will result either in an error or a different result.\n",
      "  b = a[a_slice]\n",
      "/home/yaoxiaojian/anaconda3/lib/python3.7/site-packages/scipy/signal/_arraytools.py:45: FutureWarning: Using a non-tuple sequence for multidimensional indexing is deprecated; use `arr[tuple(seq)]` instead of `arr[seq]`. In the future this will be interpreted as an array index, `arr[np.array(seq)]`, which will result either in an error or a different result.\n",
      "  b = a[a_slice]\n",
      "/home/yaoxiaojian/anaconda3/lib/python3.7/site-packages/scipy/signal/_arraytools.py:45: FutureWarning: Using a non-tuple sequence for multidimensional indexing is deprecated; use `arr[tuple(seq)]` instead of `arr[seq]`. In the future this will be interpreted as an array index, `arr[np.array(seq)]`, which will result either in an error or a different result.\n",
      "  b = a[a_slice]\n",
      "/home/yaoxiaojian/anaconda3/lib/python3.7/site-packages/scipy/signal/_arraytools.py:45: FutureWarning: Using a non-tuple sequence for multidimensional indexing is deprecated; use `arr[tuple(seq)]` instead of `arr[seq]`. In the future this will be interpreted as an array index, `arr[np.array(seq)]`, which will result either in an error or a different result.\n",
      "  b = a[a_slice]\n",
      "/home/yaoxiaojian/anaconda3/lib/python3.7/site-packages/scipy/signal/_arraytools.py:45: FutureWarning: Using a non-tuple sequence for multidimensional indexing is deprecated; use `arr[tuple(seq)]` instead of `arr[seq]`. In the future this will be interpreted as an array index, `arr[np.array(seq)]`, which will result either in an error or a different result.\n",
      "  b = a[a_slice]\n"
     ]
    },
    {
     "name": "stdout",
     "output_type": "stream",
     "text": [
      "DigMontage is a superset of info. 311 in DigMontage will be ignored. The ignored channels are: {'PPO3h', 'FFC2h', 'PPOz', 'FCC5h', 'POO5h', 'OI2h', 'AFp7', 'AFF10', 'FCC4', 'POz', 'CCP1', 'PPO9', 'FTT8h', 'FFT8', 'FCC3h', 'PPO10h', 'AFF9', 'F9', 'O1h', 'FT10h', 'F3h', 'F6', 'FFC2', 'F2h', 'AFp6h', 'AFpz', 'PPO3', 'PO8', 'FC2h', 'PPO1', 'T4', 'AF9h', 'POO9', 'AFp1h', 'TPP8', 'CCP5h', 'PPO8', 'FCC6', 'AFp4h', 'P1', 'POO8h', 'FT9h', 'FTT7h', 'CPP6h', 'FC4h', 'PPO4', 'Fpz', 'C6h', 'F5h', 'FFT10', 'POO1h', 'FCC2h', 'AFp3h', 'PO8h', 'CPP3', 'PPO5', 'FC5h', 'AF6', 'P6', 'P1h', 'PO4h', 'TTP7', 'FFT9', 'POO4h', 'PO10h', 'AFF9h', 'POO10h', 'PO4', 'F2', 'AFp7h', 'FCz', 'FFC1', 'POO1', 'CPP2h', 'CP4', 'PO2', 'CCP1h', 'C5h', 'I1', 'FFC5h', 'FC6h', 'FT9', 'Fp1h', 'AFF2h', 'FFC3h', 'F7h', 'PPO2', 'FTT8', 'PO9h', 'AF4h', 'F6h', 'AFF4', 'FC1h', 'AFF3h', 'TP8h', 'CPP1h', 'F1', 'AF10h', 'CPPz', 'FCC3', 'TPP7h', 'CCP6h', 'C5', 'T9', 'FCC6h', 'C3h', 'I1h', 'CPP4', 'FT10', 'TPP10h', 'TTP10', 'CPP6', 'FT7h', 'FFC6', 'FCC2', 'AFFz', 'C2h', 'P6h', 'FCC5', 'POO8', 'M2', 'FCC1h', 'POO3', 'AF7', 'TP9h', 'AFF7', 'PPO2h', 'CP6h', 'T7h', 'F9h', 'CPP5', 'TTP9', 'AF3', 'PPO5h', 'PPO6h', 'FT8', 'AFp2', 'AF4', 'PPO10', 'PO5', 'AFp3', 'FCC4h', 'CCP4', 'AFp2h', 'FTT7', 'P9', 'AFF3', 'AF7h', 'CCP5', 'FFT8h', 'FC4', 'AFp8', 'PPO1h', 'AFF1', 'CP5h', 'AF2', 'PPO7h', 'AF5h', 'POO5', 'TPP9', 'CPz', 'FCCz', 'FTT9', 'POO10', 'C6', 'AF8h', 'POO6h', 'POO2h', 'PO7', 'FTT10h', 'TTP10h', 'A1', 'PO1', 'CPP4h', 'CCP3', 'T9h', 'TP7', 'AF1', 'TTP8h', 'CP4h', 'AFF7h', 'F8h', 'POO4', 'FT7', 'PPO4h', 'POOz', 'CP2h', 'AFp8h', 'CCP2', 'FTT10', 'POO6', 'FFC1h', 'T3', 'CCP6', 'TP10h', 'OI1', 'F10h', 'TPP10', 'FFC4h', 'AF5', 'AF10', 'TTP8', 'OI2', 'AF3h', 'AFp5', 'C2', 'I2h', 'FT8h', 'CCPz', 'CCP4h', 'P7h', 'PO7h', 'FFT7h', 'T10', 'PPO8h', 'POO7h', 'AFF5', 'PPO9h', 'T10h', 'F4h', 'FFC5', 'PO6h', 'AFF10h', 'AFF5h', 'T5', 'P5h', 'P10', 'PO6', 'FC3h', 'FFC6h', 'CPP2', 'AF2h', 'CP3h', 'T6', 'CP3', 'M1', 'P2', 'AFp9', 'CCP2h', 'P5', 'F1h', 'TP7h', 'F5', 'P9h', 'P3h', 'AFp9h', 'AFF4h', 'TPP9h', 'POO2', 'P8h', 'FCC1', 'AFp5h', 'TPP8h', 'Fp2h', 'PO3', 'P4h', 'PO3h', 'TPP7', 'AFp4', 'FFCz', 'AFz', 'FFT7', 'AFF6h', 'AFF8h', 'FFT9h', 'PO2h', 'PPO7', 'TTP7h', 'C1', 'AF1h', 'FFT10h', 'T8h', 'PO1h', 'AFp1', 'A2', 'C4h', 'AF6h', 'CPP3h', 'AFF8', 'PPO6', 'FC3', 'AFF6', 'POO3h', 'CP1h', 'AF8', 'Iz', 'FFC4', 'P10h', 'P2h', 'AFp6', 'AFF1h', 'I2', 'TP8', 'TTP9h', 'FFC3', 'POO7', 'FTT9h', 'CCP3h', 'CPP5h', 'AFF2', 'OIz', 'AFp10h', 'AFp10', 'CPP1', 'AF9', 'O2h', 'OI1h', 'C1h', 'PO5h', 'F10', 'POO9h'}\n"
     ]
    },
    {
     "name": "stderr",
     "output_type": "stream",
     "text": [
      "<ipython-input-1-81fa588ad679>:54: RuntimeWarning: 1 channel names are too long, have been truncated to 15 characters:\n",
      "['BothStartLoadPhase']\n",
      "  info = create_info(ch_names,sfreq=500.0,ch_types=ch_type,montage = montage)\n",
      "/home/yaoxiaojian/anaconda3/lib/python3.7/site-packages/scipy/signal/_arraytools.py:45: FutureWarning: Using a non-tuple sequence for multidimensional indexing is deprecated; use `arr[tuple(seq)]` instead of `arr[seq]`. In the future this will be interpreted as an array index, `arr[np.array(seq)]`, which will result either in an error or a different result.\n",
      "  b = a[a_slice]\n",
      "/home/yaoxiaojian/anaconda3/lib/python3.7/site-packages/scipy/signal/_arraytools.py:45: FutureWarning: Using a non-tuple sequence for multidimensional indexing is deprecated; use `arr[tuple(seq)]` instead of `arr[seq]`. In the future this will be interpreted as an array index, `arr[np.array(seq)]`, which will result either in an error or a different result.\n",
      "  b = a[a_slice]\n",
      "/home/yaoxiaojian/anaconda3/lib/python3.7/site-packages/scipy/signal/_arraytools.py:45: FutureWarning: Using a non-tuple sequence for multidimensional indexing is deprecated; use `arr[tuple(seq)]` instead of `arr[seq]`. In the future this will be interpreted as an array index, `arr[np.array(seq)]`, which will result either in an error or a different result.\n",
      "  b = a[a_slice]\n",
      "/home/yaoxiaojian/anaconda3/lib/python3.7/site-packages/scipy/signal/_arraytools.py:45: FutureWarning: Using a non-tuple sequence for multidimensional indexing is deprecated; use `arr[tuple(seq)]` instead of `arr[seq]`. In the future this will be interpreted as an array index, `arr[np.array(seq)]`, which will result either in an error or a different result.\n",
      "  b = a[a_slice]\n",
      "/home/yaoxiaojian/anaconda3/lib/python3.7/site-packages/scipy/signal/_arraytools.py:45: FutureWarning: Using a non-tuple sequence for multidimensional indexing is deprecated; use `arr[tuple(seq)]` instead of `arr[seq]`. In the future this will be interpreted as an array index, `arr[np.array(seq)]`, which will result either in an error or a different result.\n",
      "  b = a[a_slice]\n",
      "/home/yaoxiaojian/anaconda3/lib/python3.7/site-packages/scipy/signal/_arraytools.py:45: FutureWarning: Using a non-tuple sequence for multidimensional indexing is deprecated; use `arr[tuple(seq)]` instead of `arr[seq]`. In the future this will be interpreted as an array index, `arr[np.array(seq)]`, which will result either in an error or a different result.\n",
      "  b = a[a_slice]\n",
      "/home/yaoxiaojian/anaconda3/lib/python3.7/site-packages/scipy/signal/_arraytools.py:45: FutureWarning: Using a non-tuple sequence for multidimensional indexing is deprecated; use `arr[tuple(seq)]` instead of `arr[seq]`. In the future this will be interpreted as an array index, `arr[np.array(seq)]`, which will result either in an error or a different result.\n",
      "  b = a[a_slice]\n",
      "/home/yaoxiaojian/anaconda3/lib/python3.7/site-packages/scipy/signal/_arraytools.py:45: FutureWarning: Using a non-tuple sequence for multidimensional indexing is deprecated; use `arr[tuple(seq)]` instead of `arr[seq]`. In the future this will be interpreted as an array index, `arr[np.array(seq)]`, which will result either in an error or a different result.\n",
      "  b = a[a_slice]\n"
     ]
    },
    {
     "name": "stdout",
     "output_type": "stream",
     "text": [
      "DigMontage is a superset of info. 311 in DigMontage will be ignored. The ignored channels are: {'PPO3h', 'FFC2h', 'PPOz', 'FCC5h', 'POO5h', 'OI2h', 'AFp7', 'AFF10', 'FCC4', 'POz', 'CCP1', 'PPO9', 'FTT8h', 'FFT8', 'FCC3h', 'PPO10h', 'AFF9', 'F9', 'O1h', 'FT10h', 'F3h', 'F6', 'FFC2', 'F2h', 'AFp6h', 'AFpz', 'PPO3', 'PO8', 'FC2h', 'PPO1', 'T4', 'AF9h', 'POO9', 'AFp1h', 'TPP8', 'CCP5h', 'PPO8', 'FCC6', 'AFp4h', 'P1', 'POO8h', 'FT9h', 'FTT7h', 'CPP6h', 'FC4h', 'PPO4', 'Fpz', 'C6h', 'F5h', 'FFT10', 'POO1h', 'FCC2h', 'AFp3h', 'PO8h', 'CPP3', 'PPO5', 'FC5h', 'AF6', 'P6', 'P1h', 'PO4h', 'TTP7', 'FFT9', 'POO4h', 'PO10h', 'AFF9h', 'POO10h', 'PO4', 'F2', 'AFp7h', 'FCz', 'FFC1', 'POO1', 'CPP2h', 'CP4', 'PO2', 'CCP1h', 'C5h', 'I1', 'FFC5h', 'FC6h', 'FT9', 'Fp1h', 'AFF2h', 'FFC3h', 'F7h', 'PPO2', 'FTT8', 'PO9h', 'AF4h', 'F6h', 'AFF4', 'FC1h', 'AFF3h', 'TP8h', 'CPP1h', 'F1', 'AF10h', 'CPPz', 'FCC3', 'TPP7h', 'CCP6h', 'C5', 'T9', 'FCC6h', 'C3h', 'I1h', 'CPP4', 'FT10', 'TPP10h', 'TTP10', 'CPP6', 'FT7h', 'FFC6', 'FCC2', 'AFFz', 'C2h', 'P6h', 'FCC5', 'POO8', 'M2', 'FCC1h', 'POO3', 'AF7', 'TP9h', 'AFF7', 'PPO2h', 'CP6h', 'T7h', 'F9h', 'CPP5', 'TTP9', 'AF3', 'PPO5h', 'PPO6h', 'FT8', 'AFp2', 'AF4', 'PPO10', 'PO5', 'AFp3', 'FCC4h', 'CCP4', 'AFp2h', 'FTT7', 'P9', 'AFF3', 'AF7h', 'CCP5', 'FFT8h', 'FC4', 'AFp8', 'PPO1h', 'AFF1', 'CP5h', 'AF2', 'PPO7h', 'AF5h', 'POO5', 'TPP9', 'CPz', 'FCCz', 'FTT9', 'POO10', 'C6', 'AF8h', 'POO6h', 'POO2h', 'PO7', 'FTT10h', 'TTP10h', 'A1', 'PO1', 'CPP4h', 'CCP3', 'T9h', 'TP7', 'AF1', 'TTP8h', 'CP4h', 'AFF7h', 'F8h', 'POO4', 'FT7', 'PPO4h', 'POOz', 'CP2h', 'AFp8h', 'CCP2', 'FTT10', 'POO6', 'FFC1h', 'T3', 'CCP6', 'TP10h', 'OI1', 'F10h', 'TPP10', 'FFC4h', 'AF5', 'AF10', 'TTP8', 'OI2', 'AF3h', 'AFp5', 'C2', 'I2h', 'FT8h', 'CCPz', 'CCP4h', 'P7h', 'PO7h', 'FFT7h', 'T10', 'PPO8h', 'POO7h', 'AFF5', 'PPO9h', 'T10h', 'F4h', 'FFC5', 'PO6h', 'AFF10h', 'AFF5h', 'T5', 'P5h', 'P10', 'PO6', 'FC3h', 'FFC6h', 'CPP2', 'AF2h', 'CP3h', 'T6', 'CP3', 'M1', 'P2', 'AFp9', 'CCP2h', 'P5', 'F1h', 'TP7h', 'F5', 'P9h', 'P3h', 'AFp9h', 'AFF4h', 'TPP9h', 'POO2', 'P8h', 'FCC1', 'AFp5h', 'TPP8h', 'Fp2h', 'PO3', 'P4h', 'PO3h', 'TPP7', 'AFp4', 'FFCz', 'AFz', 'FFT7', 'AFF6h', 'AFF8h', 'FFT9h', 'PO2h', 'PPO7', 'TTP7h', 'C1', 'AF1h', 'FFT10h', 'T8h', 'PO1h', 'AFp1', 'A2', 'C4h', 'AF6h', 'CPP3h', 'AFF8', 'PPO6', 'FC3', 'AFF6', 'POO3h', 'CP1h', 'AF8', 'Iz', 'FFC4', 'P10h', 'P2h', 'AFp6', 'AFF1h', 'I2', 'TP8', 'TTP9h', 'FFC3', 'POO7', 'FTT9h', 'CCP3h', 'CPP5h', 'AFF2', 'OIz', 'AFp10h', 'AFp10', 'CPP1', 'AF9', 'O2h', 'OI1h', 'C1h', 'PO5h', 'F10', 'POO9h'}\n"
     ]
    },
    {
     "name": "stderr",
     "output_type": "stream",
     "text": [
      "<ipython-input-1-81fa588ad679>:54: RuntimeWarning: 1 channel names are too long, have been truncated to 15 characters:\n",
      "['BothStartLoadPhase']\n",
      "  info = create_info(ch_names,sfreq=500.0,ch_types=ch_type,montage = montage)\n",
      "/home/yaoxiaojian/anaconda3/lib/python3.7/site-packages/scipy/signal/_arraytools.py:45: FutureWarning: Using a non-tuple sequence for multidimensional indexing is deprecated; use `arr[tuple(seq)]` instead of `arr[seq]`. In the future this will be interpreted as an array index, `arr[np.array(seq)]`, which will result either in an error or a different result.\n",
      "  b = a[a_slice]\n",
      "/home/yaoxiaojian/anaconda3/lib/python3.7/site-packages/scipy/signal/_arraytools.py:45: FutureWarning: Using a non-tuple sequence for multidimensional indexing is deprecated; use `arr[tuple(seq)]` instead of `arr[seq]`. In the future this will be interpreted as an array index, `arr[np.array(seq)]`, which will result either in an error or a different result.\n",
      "  b = a[a_slice]\n",
      "/home/yaoxiaojian/anaconda3/lib/python3.7/site-packages/scipy/signal/_arraytools.py:45: FutureWarning: Using a non-tuple sequence for multidimensional indexing is deprecated; use `arr[tuple(seq)]` instead of `arr[seq]`. In the future this will be interpreted as an array index, `arr[np.array(seq)]`, which will result either in an error or a different result.\n",
      "  b = a[a_slice]\n",
      "/home/yaoxiaojian/anaconda3/lib/python3.7/site-packages/scipy/signal/_arraytools.py:45: FutureWarning: Using a non-tuple sequence for multidimensional indexing is deprecated; use `arr[tuple(seq)]` instead of `arr[seq]`. In the future this will be interpreted as an array index, `arr[np.array(seq)]`, which will result either in an error or a different result.\n",
      "  b = a[a_slice]\n",
      "/home/yaoxiaojian/anaconda3/lib/python3.7/site-packages/scipy/signal/_arraytools.py:45: FutureWarning: Using a non-tuple sequence for multidimensional indexing is deprecated; use `arr[tuple(seq)]` instead of `arr[seq]`. In the future this will be interpreted as an array index, `arr[np.array(seq)]`, which will result either in an error or a different result.\n",
      "  b = a[a_slice]\n",
      "/home/yaoxiaojian/anaconda3/lib/python3.7/site-packages/scipy/signal/_arraytools.py:45: FutureWarning: Using a non-tuple sequence for multidimensional indexing is deprecated; use `arr[tuple(seq)]` instead of `arr[seq]`. In the future this will be interpreted as an array index, `arr[np.array(seq)]`, which will result either in an error or a different result.\n",
      "  b = a[a_slice]\n",
      "/home/yaoxiaojian/anaconda3/lib/python3.7/site-packages/scipy/signal/_arraytools.py:45: FutureWarning: Using a non-tuple sequence for multidimensional indexing is deprecated; use `arr[tuple(seq)]` instead of `arr[seq]`. In the future this will be interpreted as an array index, `arr[np.array(seq)]`, which will result either in an error or a different result.\n",
      "  b = a[a_slice]\n",
      "/home/yaoxiaojian/anaconda3/lib/python3.7/site-packages/scipy/signal/_arraytools.py:45: FutureWarning: Using a non-tuple sequence for multidimensional indexing is deprecated; use `arr[tuple(seq)]` instead of `arr[seq]`. In the future this will be interpreted as an array index, `arr[np.array(seq)]`, which will result either in an error or a different result.\n",
      "  b = a[a_slice]\n"
     ]
    },
    {
     "name": "stdout",
     "output_type": "stream",
     "text": [
      "DigMontage is a superset of info. 311 in DigMontage will be ignored. The ignored channels are: {'PPO3h', 'FFC2h', 'PPOz', 'FCC5h', 'POO5h', 'OI2h', 'AFp7', 'AFF10', 'FCC4', 'POz', 'CCP1', 'PPO9', 'FTT8h', 'FFT8', 'FCC3h', 'PPO10h', 'AFF9', 'F9', 'O1h', 'FT10h', 'F3h', 'F6', 'FFC2', 'F2h', 'AFp6h', 'AFpz', 'PPO3', 'PO8', 'FC2h', 'PPO1', 'T4', 'AF9h', 'POO9', 'AFp1h', 'TPP8', 'CCP5h', 'PPO8', 'FCC6', 'AFp4h', 'P1', 'POO8h', 'FT9h', 'FTT7h', 'CPP6h', 'FC4h', 'PPO4', 'Fpz', 'C6h', 'F5h', 'FFT10', 'POO1h', 'FCC2h', 'AFp3h', 'PO8h', 'CPP3', 'PPO5', 'FC5h', 'AF6', 'P6', 'P1h', 'PO4h', 'TTP7', 'FFT9', 'POO4h', 'PO10h', 'AFF9h', 'POO10h', 'PO4', 'F2', 'AFp7h', 'FCz', 'FFC1', 'POO1', 'CPP2h', 'CP4', 'PO2', 'CCP1h', 'C5h', 'I1', 'FFC5h', 'FC6h', 'FT9', 'Fp1h', 'AFF2h', 'FFC3h', 'F7h', 'PPO2', 'FTT8', 'PO9h', 'AF4h', 'F6h', 'AFF4', 'FC1h', 'AFF3h', 'TP8h', 'CPP1h', 'F1', 'AF10h', 'CPPz', 'FCC3', 'TPP7h', 'CCP6h', 'C5', 'T9', 'FCC6h', 'C3h', 'I1h', 'CPP4', 'FT10', 'TPP10h', 'TTP10', 'CPP6', 'FT7h', 'FFC6', 'FCC2', 'AFFz', 'C2h', 'P6h', 'FCC5', 'POO8', 'M2', 'FCC1h', 'POO3', 'AF7', 'TP9h', 'AFF7', 'PPO2h', 'CP6h', 'T7h', 'F9h', 'CPP5', 'TTP9', 'AF3', 'PPO5h', 'PPO6h', 'FT8', 'AFp2', 'AF4', 'PPO10', 'PO5', 'AFp3', 'FCC4h', 'CCP4', 'AFp2h', 'FTT7', 'P9', 'AFF3', 'AF7h', 'CCP5', 'FFT8h', 'FC4', 'AFp8', 'PPO1h', 'AFF1', 'CP5h', 'AF2', 'PPO7h', 'AF5h', 'POO5', 'TPP9', 'CPz', 'FCCz', 'FTT9', 'POO10', 'C6', 'AF8h', 'POO6h', 'POO2h', 'PO7', 'FTT10h', 'TTP10h', 'A1', 'PO1', 'CPP4h', 'CCP3', 'T9h', 'TP7', 'AF1', 'TTP8h', 'CP4h', 'AFF7h', 'F8h', 'POO4', 'FT7', 'PPO4h', 'POOz', 'CP2h', 'AFp8h', 'CCP2', 'FTT10', 'POO6', 'FFC1h', 'T3', 'CCP6', 'TP10h', 'OI1', 'F10h', 'TPP10', 'FFC4h', 'AF5', 'AF10', 'TTP8', 'OI2', 'AF3h', 'AFp5', 'C2', 'I2h', 'FT8h', 'CCPz', 'CCP4h', 'P7h', 'PO7h', 'FFT7h', 'T10', 'PPO8h', 'POO7h', 'AFF5', 'PPO9h', 'T10h', 'F4h', 'FFC5', 'PO6h', 'AFF10h', 'AFF5h', 'T5', 'P5h', 'P10', 'PO6', 'FC3h', 'FFC6h', 'CPP2', 'AF2h', 'CP3h', 'T6', 'CP3', 'M1', 'P2', 'AFp9', 'CCP2h', 'P5', 'F1h', 'TP7h', 'F5', 'P9h', 'P3h', 'AFp9h', 'AFF4h', 'TPP9h', 'POO2', 'P8h', 'FCC1', 'AFp5h', 'TPP8h', 'Fp2h', 'PO3', 'P4h', 'PO3h', 'TPP7', 'AFp4', 'FFCz', 'AFz', 'FFT7', 'AFF6h', 'AFF8h', 'FFT9h', 'PO2h', 'PPO7', 'TTP7h', 'C1', 'AF1h', 'FFT10h', 'T8h', 'PO1h', 'AFp1', 'A2', 'C4h', 'AF6h', 'CPP3h', 'AFF8', 'PPO6', 'FC3', 'AFF6', 'POO3h', 'CP1h', 'AF8', 'Iz', 'FFC4', 'P10h', 'P2h', 'AFp6', 'AFF1h', 'I2', 'TP8', 'TTP9h', 'FFC3', 'POO7', 'FTT9h', 'CCP3h', 'CPP5h', 'AFF2', 'OIz', 'AFp10h', 'AFp10', 'CPP1', 'AF9', 'O2h', 'OI1h', 'C1h', 'PO5h', 'F10', 'POO9h'}\n"
     ]
    },
    {
     "name": "stderr",
     "output_type": "stream",
     "text": [
      "<ipython-input-1-81fa588ad679>:54: RuntimeWarning: 1 channel names are too long, have been truncated to 15 characters:\n",
      "['BothStartLoadPhase']\n",
      "  info = create_info(ch_names,sfreq=500.0,ch_types=ch_type,montage = montage)\n",
      "/home/yaoxiaojian/anaconda3/lib/python3.7/site-packages/scipy/signal/_arraytools.py:45: FutureWarning: Using a non-tuple sequence for multidimensional indexing is deprecated; use `arr[tuple(seq)]` instead of `arr[seq]`. In the future this will be interpreted as an array index, `arr[np.array(seq)]`, which will result either in an error or a different result.\n",
      "  b = a[a_slice]\n",
      "/home/yaoxiaojian/anaconda3/lib/python3.7/site-packages/scipy/signal/_arraytools.py:45: FutureWarning: Using a non-tuple sequence for multidimensional indexing is deprecated; use `arr[tuple(seq)]` instead of `arr[seq]`. In the future this will be interpreted as an array index, `arr[np.array(seq)]`, which will result either in an error or a different result.\n",
      "  b = a[a_slice]\n",
      "/home/yaoxiaojian/anaconda3/lib/python3.7/site-packages/scipy/signal/_arraytools.py:45: FutureWarning: Using a non-tuple sequence for multidimensional indexing is deprecated; use `arr[tuple(seq)]` instead of `arr[seq]`. In the future this will be interpreted as an array index, `arr[np.array(seq)]`, which will result either in an error or a different result.\n",
      "  b = a[a_slice]\n",
      "/home/yaoxiaojian/anaconda3/lib/python3.7/site-packages/scipy/signal/_arraytools.py:45: FutureWarning: Using a non-tuple sequence for multidimensional indexing is deprecated; use `arr[tuple(seq)]` instead of `arr[seq]`. In the future this will be interpreted as an array index, `arr[np.array(seq)]`, which will result either in an error or a different result.\n",
      "  b = a[a_slice]\n",
      "/home/yaoxiaojian/anaconda3/lib/python3.7/site-packages/scipy/signal/_arraytools.py:45: FutureWarning: Using a non-tuple sequence for multidimensional indexing is deprecated; use `arr[tuple(seq)]` instead of `arr[seq]`. In the future this will be interpreted as an array index, `arr[np.array(seq)]`, which will result either in an error or a different result.\n",
      "  b = a[a_slice]\n",
      "/home/yaoxiaojian/anaconda3/lib/python3.7/site-packages/scipy/signal/_arraytools.py:45: FutureWarning: Using a non-tuple sequence for multidimensional indexing is deprecated; use `arr[tuple(seq)]` instead of `arr[seq]`. In the future this will be interpreted as an array index, `arr[np.array(seq)]`, which will result either in an error or a different result.\n",
      "  b = a[a_slice]\n",
      "/home/yaoxiaojian/anaconda3/lib/python3.7/site-packages/scipy/signal/_arraytools.py:45: FutureWarning: Using a non-tuple sequence for multidimensional indexing is deprecated; use `arr[tuple(seq)]` instead of `arr[seq]`. In the future this will be interpreted as an array index, `arr[np.array(seq)]`, which will result either in an error or a different result.\n",
      "  b = a[a_slice]\n",
      "/home/yaoxiaojian/anaconda3/lib/python3.7/site-packages/scipy/signal/_arraytools.py:45: FutureWarning: Using a non-tuple sequence for multidimensional indexing is deprecated; use `arr[tuple(seq)]` instead of `arr[seq]`. In the future this will be interpreted as an array index, `arr[np.array(seq)]`, which will result either in an error or a different result.\n",
      "  b = a[a_slice]\n"
     ]
    },
    {
     "name": "stdout",
     "output_type": "stream",
     "text": [
      "DigMontage is a superset of info. 311 in DigMontage will be ignored. The ignored channels are: {'PPO3h', 'FFC2h', 'PPOz', 'FCC5h', 'POO5h', 'OI2h', 'AFp7', 'AFF10', 'FCC4', 'POz', 'CCP1', 'PPO9', 'FTT8h', 'FFT8', 'FCC3h', 'PPO10h', 'AFF9', 'F9', 'O1h', 'FT10h', 'F3h', 'F6', 'FFC2', 'F2h', 'AFp6h', 'AFpz', 'PPO3', 'PO8', 'FC2h', 'PPO1', 'T4', 'AF9h', 'POO9', 'AFp1h', 'TPP8', 'CCP5h', 'PPO8', 'FCC6', 'AFp4h', 'P1', 'POO8h', 'FT9h', 'FTT7h', 'CPP6h', 'FC4h', 'PPO4', 'Fpz', 'C6h', 'F5h', 'FFT10', 'POO1h', 'FCC2h', 'AFp3h', 'PO8h', 'CPP3', 'PPO5', 'FC5h', 'AF6', 'P6', 'P1h', 'PO4h', 'TTP7', 'FFT9', 'POO4h', 'PO10h', 'AFF9h', 'POO10h', 'PO4', 'F2', 'AFp7h', 'FCz', 'FFC1', 'POO1', 'CPP2h', 'CP4', 'PO2', 'CCP1h', 'C5h', 'I1', 'FFC5h', 'FC6h', 'FT9', 'Fp1h', 'AFF2h', 'FFC3h', 'F7h', 'PPO2', 'FTT8', 'PO9h', 'AF4h', 'F6h', 'AFF4', 'FC1h', 'AFF3h', 'TP8h', 'CPP1h', 'F1', 'AF10h', 'CPPz', 'FCC3', 'TPP7h', 'CCP6h', 'C5', 'T9', 'FCC6h', 'C3h', 'I1h', 'CPP4', 'FT10', 'TPP10h', 'TTP10', 'CPP6', 'FT7h', 'FFC6', 'FCC2', 'AFFz', 'C2h', 'P6h', 'FCC5', 'POO8', 'M2', 'FCC1h', 'POO3', 'AF7', 'TP9h', 'AFF7', 'PPO2h', 'CP6h', 'T7h', 'F9h', 'CPP5', 'TTP9', 'AF3', 'PPO5h', 'PPO6h', 'FT8', 'AFp2', 'AF4', 'PPO10', 'PO5', 'AFp3', 'FCC4h', 'CCP4', 'AFp2h', 'FTT7', 'P9', 'AFF3', 'AF7h', 'CCP5', 'FFT8h', 'FC4', 'AFp8', 'PPO1h', 'AFF1', 'CP5h', 'AF2', 'PPO7h', 'AF5h', 'POO5', 'TPP9', 'CPz', 'FCCz', 'FTT9', 'POO10', 'C6', 'AF8h', 'POO6h', 'POO2h', 'PO7', 'FTT10h', 'TTP10h', 'A1', 'PO1', 'CPP4h', 'CCP3', 'T9h', 'TP7', 'AF1', 'TTP8h', 'CP4h', 'AFF7h', 'F8h', 'POO4', 'FT7', 'PPO4h', 'POOz', 'CP2h', 'AFp8h', 'CCP2', 'FTT10', 'POO6', 'FFC1h', 'T3', 'CCP6', 'TP10h', 'OI1', 'F10h', 'TPP10', 'FFC4h', 'AF5', 'AF10', 'TTP8', 'OI2', 'AF3h', 'AFp5', 'C2', 'I2h', 'FT8h', 'CCPz', 'CCP4h', 'P7h', 'PO7h', 'FFT7h', 'T10', 'PPO8h', 'POO7h', 'AFF5', 'PPO9h', 'T10h', 'F4h', 'FFC5', 'PO6h', 'AFF10h', 'AFF5h', 'T5', 'P5h', 'P10', 'PO6', 'FC3h', 'FFC6h', 'CPP2', 'AF2h', 'CP3h', 'T6', 'CP3', 'M1', 'P2', 'AFp9', 'CCP2h', 'P5', 'F1h', 'TP7h', 'F5', 'P9h', 'P3h', 'AFp9h', 'AFF4h', 'TPP9h', 'POO2', 'P8h', 'FCC1', 'AFp5h', 'TPP8h', 'Fp2h', 'PO3', 'P4h', 'PO3h', 'TPP7', 'AFp4', 'FFCz', 'AFz', 'FFT7', 'AFF6h', 'AFF8h', 'FFT9h', 'PO2h', 'PPO7', 'TTP7h', 'C1', 'AF1h', 'FFT10h', 'T8h', 'PO1h', 'AFp1', 'A2', 'C4h', 'AF6h', 'CPP3h', 'AFF8', 'PPO6', 'FC3', 'AFF6', 'POO3h', 'CP1h', 'AF8', 'Iz', 'FFC4', 'P10h', 'P2h', 'AFp6', 'AFF1h', 'I2', 'TP8', 'TTP9h', 'FFC3', 'POO7', 'FTT9h', 'CCP3h', 'CPP5h', 'AFF2', 'OIz', 'AFp10h', 'AFp10', 'CPP1', 'AF9', 'O2h', 'OI1h', 'C1h', 'PO5h', 'F10', 'POO9h'}\n"
     ]
    },
    {
     "name": "stderr",
     "output_type": "stream",
     "text": [
      "<ipython-input-1-81fa588ad679>:54: RuntimeWarning: 1 channel names are too long, have been truncated to 15 characters:\n",
      "['BothStartLoadPhase']\n",
      "  info = create_info(ch_names,sfreq=500.0,ch_types=ch_type,montage = montage)\n",
      "/home/yaoxiaojian/anaconda3/lib/python3.7/site-packages/scipy/signal/_arraytools.py:45: FutureWarning: Using a non-tuple sequence for multidimensional indexing is deprecated; use `arr[tuple(seq)]` instead of `arr[seq]`. In the future this will be interpreted as an array index, `arr[np.array(seq)]`, which will result either in an error or a different result.\n",
      "  b = a[a_slice]\n",
      "/home/yaoxiaojian/anaconda3/lib/python3.7/site-packages/scipy/signal/_arraytools.py:45: FutureWarning: Using a non-tuple sequence for multidimensional indexing is deprecated; use `arr[tuple(seq)]` instead of `arr[seq]`. In the future this will be interpreted as an array index, `arr[np.array(seq)]`, which will result either in an error or a different result.\n",
      "  b = a[a_slice]\n",
      "/home/yaoxiaojian/anaconda3/lib/python3.7/site-packages/scipy/signal/_arraytools.py:45: FutureWarning: Using a non-tuple sequence for multidimensional indexing is deprecated; use `arr[tuple(seq)]` instead of `arr[seq]`. In the future this will be interpreted as an array index, `arr[np.array(seq)]`, which will result either in an error or a different result.\n",
      "  b = a[a_slice]\n",
      "/home/yaoxiaojian/anaconda3/lib/python3.7/site-packages/scipy/signal/_arraytools.py:45: FutureWarning: Using a non-tuple sequence for multidimensional indexing is deprecated; use `arr[tuple(seq)]` instead of `arr[seq]`. In the future this will be interpreted as an array index, `arr[np.array(seq)]`, which will result either in an error or a different result.\n",
      "  b = a[a_slice]\n",
      "/home/yaoxiaojian/anaconda3/lib/python3.7/site-packages/scipy/signal/_arraytools.py:45: FutureWarning: Using a non-tuple sequence for multidimensional indexing is deprecated; use `arr[tuple(seq)]` instead of `arr[seq]`. In the future this will be interpreted as an array index, `arr[np.array(seq)]`, which will result either in an error or a different result.\n",
      "  b = a[a_slice]\n",
      "/home/yaoxiaojian/anaconda3/lib/python3.7/site-packages/scipy/signal/_arraytools.py:45: FutureWarning: Using a non-tuple sequence for multidimensional indexing is deprecated; use `arr[tuple(seq)]` instead of `arr[seq]`. In the future this will be interpreted as an array index, `arr[np.array(seq)]`, which will result either in an error or a different result.\n",
      "  b = a[a_slice]\n",
      "/home/yaoxiaojian/anaconda3/lib/python3.7/site-packages/scipy/signal/_arraytools.py:45: FutureWarning: Using a non-tuple sequence for multidimensional indexing is deprecated; use `arr[tuple(seq)]` instead of `arr[seq]`. In the future this will be interpreted as an array index, `arr[np.array(seq)]`, which will result either in an error or a different result.\n",
      "  b = a[a_slice]\n",
      "/home/yaoxiaojian/anaconda3/lib/python3.7/site-packages/scipy/signal/_arraytools.py:45: FutureWarning: Using a non-tuple sequence for multidimensional indexing is deprecated; use `arr[tuple(seq)]` instead of `arr[seq]`. In the future this will be interpreted as an array index, `arr[np.array(seq)]`, which will result either in an error or a different result.\n",
      "  b = a[a_slice]\n"
     ]
    },
    {
     "name": "stdout",
     "output_type": "stream",
     "text": [
      "DigMontage is a superset of info. 311 in DigMontage will be ignored. The ignored channels are: {'PPO3h', 'FFC2h', 'PPOz', 'FCC5h', 'POO5h', 'OI2h', 'AFp7', 'AFF10', 'FCC4', 'POz', 'CCP1', 'PPO9', 'FTT8h', 'FFT8', 'FCC3h', 'PPO10h', 'AFF9', 'F9', 'O1h', 'FT10h', 'F3h', 'F6', 'FFC2', 'F2h', 'AFp6h', 'AFpz', 'PPO3', 'PO8', 'FC2h', 'PPO1', 'T4', 'AF9h', 'POO9', 'AFp1h', 'TPP8', 'CCP5h', 'PPO8', 'FCC6', 'AFp4h', 'P1', 'POO8h', 'FT9h', 'FTT7h', 'CPP6h', 'FC4h', 'PPO4', 'Fpz', 'C6h', 'F5h', 'FFT10', 'POO1h', 'FCC2h', 'AFp3h', 'PO8h', 'CPP3', 'PPO5', 'FC5h', 'AF6', 'P6', 'P1h', 'PO4h', 'TTP7', 'FFT9', 'POO4h', 'PO10h', 'AFF9h', 'POO10h', 'PO4', 'F2', 'AFp7h', 'FCz', 'FFC1', 'POO1', 'CPP2h', 'CP4', 'PO2', 'CCP1h', 'C5h', 'I1', 'FFC5h', 'FC6h', 'FT9', 'Fp1h', 'AFF2h', 'FFC3h', 'F7h', 'PPO2', 'FTT8', 'PO9h', 'AF4h', 'F6h', 'AFF4', 'FC1h', 'AFF3h', 'TP8h', 'CPP1h', 'F1', 'AF10h', 'CPPz', 'FCC3', 'TPP7h', 'CCP6h', 'C5', 'T9', 'FCC6h', 'C3h', 'I1h', 'CPP4', 'FT10', 'TPP10h', 'TTP10', 'CPP6', 'FT7h', 'FFC6', 'FCC2', 'AFFz', 'C2h', 'P6h', 'FCC5', 'POO8', 'M2', 'FCC1h', 'POO3', 'AF7', 'TP9h', 'AFF7', 'PPO2h', 'CP6h', 'T7h', 'F9h', 'CPP5', 'TTP9', 'AF3', 'PPO5h', 'PPO6h', 'FT8', 'AFp2', 'AF4', 'PPO10', 'PO5', 'AFp3', 'FCC4h', 'CCP4', 'AFp2h', 'FTT7', 'P9', 'AFF3', 'AF7h', 'CCP5', 'FFT8h', 'FC4', 'AFp8', 'PPO1h', 'AFF1', 'CP5h', 'AF2', 'PPO7h', 'AF5h', 'POO5', 'TPP9', 'CPz', 'FCCz', 'FTT9', 'POO10', 'C6', 'AF8h', 'POO6h', 'POO2h', 'PO7', 'FTT10h', 'TTP10h', 'A1', 'PO1', 'CPP4h', 'CCP3', 'T9h', 'TP7', 'AF1', 'TTP8h', 'CP4h', 'AFF7h', 'F8h', 'POO4', 'FT7', 'PPO4h', 'POOz', 'CP2h', 'AFp8h', 'CCP2', 'FTT10', 'POO6', 'FFC1h', 'T3', 'CCP6', 'TP10h', 'OI1', 'F10h', 'TPP10', 'FFC4h', 'AF5', 'AF10', 'TTP8', 'OI2', 'AF3h', 'AFp5', 'C2', 'I2h', 'FT8h', 'CCPz', 'CCP4h', 'P7h', 'PO7h', 'FFT7h', 'T10', 'PPO8h', 'POO7h', 'AFF5', 'PPO9h', 'T10h', 'F4h', 'FFC5', 'PO6h', 'AFF10h', 'AFF5h', 'T5', 'P5h', 'P10', 'PO6', 'FC3h', 'FFC6h', 'CPP2', 'AF2h', 'CP3h', 'T6', 'CP3', 'M1', 'P2', 'AFp9', 'CCP2h', 'P5', 'F1h', 'TP7h', 'F5', 'P9h', 'P3h', 'AFp9h', 'AFF4h', 'TPP9h', 'POO2', 'P8h', 'FCC1', 'AFp5h', 'TPP8h', 'Fp2h', 'PO3', 'P4h', 'PO3h', 'TPP7', 'AFp4', 'FFCz', 'AFz', 'FFT7', 'AFF6h', 'AFF8h', 'FFT9h', 'PO2h', 'PPO7', 'TTP7h', 'C1', 'AF1h', 'FFT10h', 'T8h', 'PO1h', 'AFp1', 'A2', 'C4h', 'AF6h', 'CPP3h', 'AFF8', 'PPO6', 'FC3', 'AFF6', 'POO3h', 'CP1h', 'AF8', 'Iz', 'FFC4', 'P10h', 'P2h', 'AFp6', 'AFF1h', 'I2', 'TP8', 'TTP9h', 'FFC3', 'POO7', 'FTT9h', 'CCP3h', 'CPP5h', 'AFF2', 'OIz', 'AFp10h', 'AFp10', 'CPP1', 'AF9', 'O2h', 'OI1h', 'C1h', 'PO5h', 'F10', 'POO9h'}\n"
     ]
    },
    {
     "name": "stderr",
     "output_type": "stream",
     "text": [
      "<ipython-input-1-81fa588ad679>:54: RuntimeWarning: 1 channel names are too long, have been truncated to 15 characters:\n",
      "['BothStartLoadPhase']\n",
      "  info = create_info(ch_names,sfreq=500.0,ch_types=ch_type,montage = montage)\n",
      "/home/yaoxiaojian/anaconda3/lib/python3.7/site-packages/scipy/signal/_arraytools.py:45: FutureWarning: Using a non-tuple sequence for multidimensional indexing is deprecated; use `arr[tuple(seq)]` instead of `arr[seq]`. In the future this will be interpreted as an array index, `arr[np.array(seq)]`, which will result either in an error or a different result.\n",
      "  b = a[a_slice]\n",
      "/home/yaoxiaojian/anaconda3/lib/python3.7/site-packages/scipy/signal/_arraytools.py:45: FutureWarning: Using a non-tuple sequence for multidimensional indexing is deprecated; use `arr[tuple(seq)]` instead of `arr[seq]`. In the future this will be interpreted as an array index, `arr[np.array(seq)]`, which will result either in an error or a different result.\n",
      "  b = a[a_slice]\n",
      "/home/yaoxiaojian/anaconda3/lib/python3.7/site-packages/scipy/signal/_arraytools.py:45: FutureWarning: Using a non-tuple sequence for multidimensional indexing is deprecated; use `arr[tuple(seq)]` instead of `arr[seq]`. In the future this will be interpreted as an array index, `arr[np.array(seq)]`, which will result either in an error or a different result.\n",
      "  b = a[a_slice]\n",
      "/home/yaoxiaojian/anaconda3/lib/python3.7/site-packages/scipy/signal/_arraytools.py:45: FutureWarning: Using a non-tuple sequence for multidimensional indexing is deprecated; use `arr[tuple(seq)]` instead of `arr[seq]`. In the future this will be interpreted as an array index, `arr[np.array(seq)]`, which will result either in an error or a different result.\n",
      "  b = a[a_slice]\n",
      "/home/yaoxiaojian/anaconda3/lib/python3.7/site-packages/scipy/signal/_arraytools.py:45: FutureWarning: Using a non-tuple sequence for multidimensional indexing is deprecated; use `arr[tuple(seq)]` instead of `arr[seq]`. In the future this will be interpreted as an array index, `arr[np.array(seq)]`, which will result either in an error or a different result.\n",
      "  b = a[a_slice]\n",
      "/home/yaoxiaojian/anaconda3/lib/python3.7/site-packages/scipy/signal/_arraytools.py:45: FutureWarning: Using a non-tuple sequence for multidimensional indexing is deprecated; use `arr[tuple(seq)]` instead of `arr[seq]`. In the future this will be interpreted as an array index, `arr[np.array(seq)]`, which will result either in an error or a different result.\n",
      "  b = a[a_slice]\n",
      "/home/yaoxiaojian/anaconda3/lib/python3.7/site-packages/scipy/signal/_arraytools.py:45: FutureWarning: Using a non-tuple sequence for multidimensional indexing is deprecated; use `arr[tuple(seq)]` instead of `arr[seq]`. In the future this will be interpreted as an array index, `arr[np.array(seq)]`, which will result either in an error or a different result.\n",
      "  b = a[a_slice]\n",
      "/home/yaoxiaojian/anaconda3/lib/python3.7/site-packages/scipy/signal/_arraytools.py:45: FutureWarning: Using a non-tuple sequence for multidimensional indexing is deprecated; use `arr[tuple(seq)]` instead of `arr[seq]`. In the future this will be interpreted as an array index, `arr[np.array(seq)]`, which will result either in an error or a different result.\n",
      "  b = a[a_slice]\n"
     ]
    },
    {
     "name": "stdout",
     "output_type": "stream",
     "text": [
      "DigMontage is a superset of info. 311 in DigMontage will be ignored. The ignored channels are: {'PPO3h', 'FFC2h', 'PPOz', 'FCC5h', 'POO5h', 'OI2h', 'AFp7', 'AFF10', 'FCC4', 'POz', 'CCP1', 'PPO9', 'FTT8h', 'FFT8', 'FCC3h', 'PPO10h', 'AFF9', 'F9', 'O1h', 'FT10h', 'F3h', 'F6', 'FFC2', 'F2h', 'AFp6h', 'AFpz', 'PPO3', 'PO8', 'FC2h', 'PPO1', 'T4', 'AF9h', 'POO9', 'AFp1h', 'TPP8', 'CCP5h', 'PPO8', 'FCC6', 'AFp4h', 'P1', 'POO8h', 'FT9h', 'FTT7h', 'CPP6h', 'FC4h', 'PPO4', 'Fpz', 'C6h', 'F5h', 'FFT10', 'POO1h', 'FCC2h', 'AFp3h', 'PO8h', 'CPP3', 'PPO5', 'FC5h', 'AF6', 'P6', 'P1h', 'PO4h', 'TTP7', 'FFT9', 'POO4h', 'PO10h', 'AFF9h', 'POO10h', 'PO4', 'F2', 'AFp7h', 'FCz', 'FFC1', 'POO1', 'CPP2h', 'CP4', 'PO2', 'CCP1h', 'C5h', 'I1', 'FFC5h', 'FC6h', 'FT9', 'Fp1h', 'AFF2h', 'FFC3h', 'F7h', 'PPO2', 'FTT8', 'PO9h', 'AF4h', 'F6h', 'AFF4', 'FC1h', 'AFF3h', 'TP8h', 'CPP1h', 'F1', 'AF10h', 'CPPz', 'FCC3', 'TPP7h', 'CCP6h', 'C5', 'T9', 'FCC6h', 'C3h', 'I1h', 'CPP4', 'FT10', 'TPP10h', 'TTP10', 'CPP6', 'FT7h', 'FFC6', 'FCC2', 'AFFz', 'C2h', 'P6h', 'FCC5', 'POO8', 'M2', 'FCC1h', 'POO3', 'AF7', 'TP9h', 'AFF7', 'PPO2h', 'CP6h', 'T7h', 'F9h', 'CPP5', 'TTP9', 'AF3', 'PPO5h', 'PPO6h', 'FT8', 'AFp2', 'AF4', 'PPO10', 'PO5', 'AFp3', 'FCC4h', 'CCP4', 'AFp2h', 'FTT7', 'P9', 'AFF3', 'AF7h', 'CCP5', 'FFT8h', 'FC4', 'AFp8', 'PPO1h', 'AFF1', 'CP5h', 'AF2', 'PPO7h', 'AF5h', 'POO5', 'TPP9', 'CPz', 'FCCz', 'FTT9', 'POO10', 'C6', 'AF8h', 'POO6h', 'POO2h', 'PO7', 'FTT10h', 'TTP10h', 'A1', 'PO1', 'CPP4h', 'CCP3', 'T9h', 'TP7', 'AF1', 'TTP8h', 'CP4h', 'AFF7h', 'F8h', 'POO4', 'FT7', 'PPO4h', 'POOz', 'CP2h', 'AFp8h', 'CCP2', 'FTT10', 'POO6', 'FFC1h', 'T3', 'CCP6', 'TP10h', 'OI1', 'F10h', 'TPP10', 'FFC4h', 'AF5', 'AF10', 'TTP8', 'OI2', 'AF3h', 'AFp5', 'C2', 'I2h', 'FT8h', 'CCPz', 'CCP4h', 'P7h', 'PO7h', 'FFT7h', 'T10', 'PPO8h', 'POO7h', 'AFF5', 'PPO9h', 'T10h', 'F4h', 'FFC5', 'PO6h', 'AFF10h', 'AFF5h', 'T5', 'P5h', 'P10', 'PO6', 'FC3h', 'FFC6h', 'CPP2', 'AF2h', 'CP3h', 'T6', 'CP3', 'M1', 'P2', 'AFp9', 'CCP2h', 'P5', 'F1h', 'TP7h', 'F5', 'P9h', 'P3h', 'AFp9h', 'AFF4h', 'TPP9h', 'POO2', 'P8h', 'FCC1', 'AFp5h', 'TPP8h', 'Fp2h', 'PO3', 'P4h', 'PO3h', 'TPP7', 'AFp4', 'FFCz', 'AFz', 'FFT7', 'AFF6h', 'AFF8h', 'FFT9h', 'PO2h', 'PPO7', 'TTP7h', 'C1', 'AF1h', 'FFT10h', 'T8h', 'PO1h', 'AFp1', 'A2', 'C4h', 'AF6h', 'CPP3h', 'AFF8', 'PPO6', 'FC3', 'AFF6', 'POO3h', 'CP1h', 'AF8', 'Iz', 'FFC4', 'P10h', 'P2h', 'AFp6', 'AFF1h', 'I2', 'TP8', 'TTP9h', 'FFC3', 'POO7', 'FTT9h', 'CCP3h', 'CPP5h', 'AFF2', 'OIz', 'AFp10h', 'AFp10', 'CPP1', 'AF9', 'O2h', 'OI1h', 'C1h', 'PO5h', 'F10', 'POO9h'}\n"
     ]
    },
    {
     "name": "stderr",
     "output_type": "stream",
     "text": [
      "<ipython-input-1-81fa588ad679>:54: RuntimeWarning: 1 channel names are too long, have been truncated to 15 characters:\n",
      "['BothStartLoadPhase']\n",
      "  info = create_info(ch_names,sfreq=500.0,ch_types=ch_type,montage = montage)\n",
      "/home/yaoxiaojian/anaconda3/lib/python3.7/site-packages/scipy/signal/_arraytools.py:45: FutureWarning: Using a non-tuple sequence for multidimensional indexing is deprecated; use `arr[tuple(seq)]` instead of `arr[seq]`. In the future this will be interpreted as an array index, `arr[np.array(seq)]`, which will result either in an error or a different result.\n",
      "  b = a[a_slice]\n",
      "/home/yaoxiaojian/anaconda3/lib/python3.7/site-packages/scipy/signal/_arraytools.py:45: FutureWarning: Using a non-tuple sequence for multidimensional indexing is deprecated; use `arr[tuple(seq)]` instead of `arr[seq]`. In the future this will be interpreted as an array index, `arr[np.array(seq)]`, which will result either in an error or a different result.\n",
      "  b = a[a_slice]\n",
      "/home/yaoxiaojian/anaconda3/lib/python3.7/site-packages/scipy/signal/_arraytools.py:45: FutureWarning: Using a non-tuple sequence for multidimensional indexing is deprecated; use `arr[tuple(seq)]` instead of `arr[seq]`. In the future this will be interpreted as an array index, `arr[np.array(seq)]`, which will result either in an error or a different result.\n",
      "  b = a[a_slice]\n",
      "/home/yaoxiaojian/anaconda3/lib/python3.7/site-packages/scipy/signal/_arraytools.py:45: FutureWarning: Using a non-tuple sequence for multidimensional indexing is deprecated; use `arr[tuple(seq)]` instead of `arr[seq]`. In the future this will be interpreted as an array index, `arr[np.array(seq)]`, which will result either in an error or a different result.\n",
      "  b = a[a_slice]\n",
      "/home/yaoxiaojian/anaconda3/lib/python3.7/site-packages/scipy/signal/_arraytools.py:45: FutureWarning: Using a non-tuple sequence for multidimensional indexing is deprecated; use `arr[tuple(seq)]` instead of `arr[seq]`. In the future this will be interpreted as an array index, `arr[np.array(seq)]`, which will result either in an error or a different result.\n",
      "  b = a[a_slice]\n",
      "/home/yaoxiaojian/anaconda3/lib/python3.7/site-packages/scipy/signal/_arraytools.py:45: FutureWarning: Using a non-tuple sequence for multidimensional indexing is deprecated; use `arr[tuple(seq)]` instead of `arr[seq]`. In the future this will be interpreted as an array index, `arr[np.array(seq)]`, which will result either in an error or a different result.\n",
      "  b = a[a_slice]\n",
      "/home/yaoxiaojian/anaconda3/lib/python3.7/site-packages/scipy/signal/_arraytools.py:45: FutureWarning: Using a non-tuple sequence for multidimensional indexing is deprecated; use `arr[tuple(seq)]` instead of `arr[seq]`. In the future this will be interpreted as an array index, `arr[np.array(seq)]`, which will result either in an error or a different result.\n",
      "  b = a[a_slice]\n",
      "/home/yaoxiaojian/anaconda3/lib/python3.7/site-packages/scipy/signal/_arraytools.py:45: FutureWarning: Using a non-tuple sequence for multidimensional indexing is deprecated; use `arr[tuple(seq)]` instead of `arr[seq]`. In the future this will be interpreted as an array index, `arr[np.array(seq)]`, which will result either in an error or a different result.\n",
      "  b = a[a_slice]\n"
     ]
    },
    {
     "name": "stdout",
     "output_type": "stream",
     "text": [
      "DigMontage is a superset of info. 311 in DigMontage will be ignored. The ignored channels are: {'PPO3h', 'FFC2h', 'PPOz', 'FCC5h', 'POO5h', 'OI2h', 'AFp7', 'AFF10', 'FCC4', 'POz', 'CCP1', 'PPO9', 'FTT8h', 'FFT8', 'FCC3h', 'PPO10h', 'AFF9', 'F9', 'O1h', 'FT10h', 'F3h', 'F6', 'FFC2', 'F2h', 'AFp6h', 'AFpz', 'PPO3', 'PO8', 'FC2h', 'PPO1', 'T4', 'AF9h', 'POO9', 'AFp1h', 'TPP8', 'CCP5h', 'PPO8', 'FCC6', 'AFp4h', 'P1', 'POO8h', 'FT9h', 'FTT7h', 'CPP6h', 'FC4h', 'PPO4', 'Fpz', 'C6h', 'F5h', 'FFT10', 'POO1h', 'FCC2h', 'AFp3h', 'PO8h', 'CPP3', 'PPO5', 'FC5h', 'AF6', 'P6', 'P1h', 'PO4h', 'TTP7', 'FFT9', 'POO4h', 'PO10h', 'AFF9h', 'POO10h', 'PO4', 'F2', 'AFp7h', 'FCz', 'FFC1', 'POO1', 'CPP2h', 'CP4', 'PO2', 'CCP1h', 'C5h', 'I1', 'FFC5h', 'FC6h', 'FT9', 'Fp1h', 'AFF2h', 'FFC3h', 'F7h', 'PPO2', 'FTT8', 'PO9h', 'AF4h', 'F6h', 'AFF4', 'FC1h', 'AFF3h', 'TP8h', 'CPP1h', 'F1', 'AF10h', 'CPPz', 'FCC3', 'TPP7h', 'CCP6h', 'C5', 'T9', 'FCC6h', 'C3h', 'I1h', 'CPP4', 'FT10', 'TPP10h', 'TTP10', 'CPP6', 'FT7h', 'FFC6', 'FCC2', 'AFFz', 'C2h', 'P6h', 'FCC5', 'POO8', 'M2', 'FCC1h', 'POO3', 'AF7', 'TP9h', 'AFF7', 'PPO2h', 'CP6h', 'T7h', 'F9h', 'CPP5', 'TTP9', 'AF3', 'PPO5h', 'PPO6h', 'FT8', 'AFp2', 'AF4', 'PPO10', 'PO5', 'AFp3', 'FCC4h', 'CCP4', 'AFp2h', 'FTT7', 'P9', 'AFF3', 'AF7h', 'CCP5', 'FFT8h', 'FC4', 'AFp8', 'PPO1h', 'AFF1', 'CP5h', 'AF2', 'PPO7h', 'AF5h', 'POO5', 'TPP9', 'CPz', 'FCCz', 'FTT9', 'POO10', 'C6', 'AF8h', 'POO6h', 'POO2h', 'PO7', 'FTT10h', 'TTP10h', 'A1', 'PO1', 'CPP4h', 'CCP3', 'T9h', 'TP7', 'AF1', 'TTP8h', 'CP4h', 'AFF7h', 'F8h', 'POO4', 'FT7', 'PPO4h', 'POOz', 'CP2h', 'AFp8h', 'CCP2', 'FTT10', 'POO6', 'FFC1h', 'T3', 'CCP6', 'TP10h', 'OI1', 'F10h', 'TPP10', 'FFC4h', 'AF5', 'AF10', 'TTP8', 'OI2', 'AF3h', 'AFp5', 'C2', 'I2h', 'FT8h', 'CCPz', 'CCP4h', 'P7h', 'PO7h', 'FFT7h', 'T10', 'PPO8h', 'POO7h', 'AFF5', 'PPO9h', 'T10h', 'F4h', 'FFC5', 'PO6h', 'AFF10h', 'AFF5h', 'T5', 'P5h', 'P10', 'PO6', 'FC3h', 'FFC6h', 'CPP2', 'AF2h', 'CP3h', 'T6', 'CP3', 'M1', 'P2', 'AFp9', 'CCP2h', 'P5', 'F1h', 'TP7h', 'F5', 'P9h', 'P3h', 'AFp9h', 'AFF4h', 'TPP9h', 'POO2', 'P8h', 'FCC1', 'AFp5h', 'TPP8h', 'Fp2h', 'PO3', 'P4h', 'PO3h', 'TPP7', 'AFp4', 'FFCz', 'AFz', 'FFT7', 'AFF6h', 'AFF8h', 'FFT9h', 'PO2h', 'PPO7', 'TTP7h', 'C1', 'AF1h', 'FFT10h', 'T8h', 'PO1h', 'AFp1', 'A2', 'C4h', 'AF6h', 'CPP3h', 'AFF8', 'PPO6', 'FC3', 'AFF6', 'POO3h', 'CP1h', 'AF8', 'Iz', 'FFC4', 'P10h', 'P2h', 'AFp6', 'AFF1h', 'I2', 'TP8', 'TTP9h', 'FFC3', 'POO7', 'FTT9h', 'CCP3h', 'CPP5h', 'AFF2', 'OIz', 'AFp10h', 'AFp10', 'CPP1', 'AF9', 'O2h', 'OI1h', 'C1h', 'PO5h', 'F10', 'POO9h'}\n"
     ]
    },
    {
     "name": "stderr",
     "output_type": "stream",
     "text": [
      "<ipython-input-1-81fa588ad679>:54: RuntimeWarning: 1 channel names are too long, have been truncated to 15 characters:\n",
      "['BothStartLoadPhase']\n",
      "  info = create_info(ch_names,sfreq=500.0,ch_types=ch_type,montage = montage)\n",
      "/home/yaoxiaojian/anaconda3/lib/python3.7/site-packages/scipy/signal/_arraytools.py:45: FutureWarning: Using a non-tuple sequence for multidimensional indexing is deprecated; use `arr[tuple(seq)]` instead of `arr[seq]`. In the future this will be interpreted as an array index, `arr[np.array(seq)]`, which will result either in an error or a different result.\n",
      "  b = a[a_slice]\n",
      "/home/yaoxiaojian/anaconda3/lib/python3.7/site-packages/scipy/signal/_arraytools.py:45: FutureWarning: Using a non-tuple sequence for multidimensional indexing is deprecated; use `arr[tuple(seq)]` instead of `arr[seq]`. In the future this will be interpreted as an array index, `arr[np.array(seq)]`, which will result either in an error or a different result.\n",
      "  b = a[a_slice]\n",
      "/home/yaoxiaojian/anaconda3/lib/python3.7/site-packages/scipy/signal/_arraytools.py:45: FutureWarning: Using a non-tuple sequence for multidimensional indexing is deprecated; use `arr[tuple(seq)]` instead of `arr[seq]`. In the future this will be interpreted as an array index, `arr[np.array(seq)]`, which will result either in an error or a different result.\n",
      "  b = a[a_slice]\n",
      "/home/yaoxiaojian/anaconda3/lib/python3.7/site-packages/scipy/signal/_arraytools.py:45: FutureWarning: Using a non-tuple sequence for multidimensional indexing is deprecated; use `arr[tuple(seq)]` instead of `arr[seq]`. In the future this will be interpreted as an array index, `arr[np.array(seq)]`, which will result either in an error or a different result.\n",
      "  b = a[a_slice]\n",
      "/home/yaoxiaojian/anaconda3/lib/python3.7/site-packages/scipy/signal/_arraytools.py:45: FutureWarning: Using a non-tuple sequence for multidimensional indexing is deprecated; use `arr[tuple(seq)]` instead of `arr[seq]`. In the future this will be interpreted as an array index, `arr[np.array(seq)]`, which will result either in an error or a different result.\n",
      "  b = a[a_slice]\n",
      "/home/yaoxiaojian/anaconda3/lib/python3.7/site-packages/scipy/signal/_arraytools.py:45: FutureWarning: Using a non-tuple sequence for multidimensional indexing is deprecated; use `arr[tuple(seq)]` instead of `arr[seq]`. In the future this will be interpreted as an array index, `arr[np.array(seq)]`, which will result either in an error or a different result.\n",
      "  b = a[a_slice]\n",
      "/home/yaoxiaojian/anaconda3/lib/python3.7/site-packages/scipy/signal/_arraytools.py:45: FutureWarning: Using a non-tuple sequence for multidimensional indexing is deprecated; use `arr[tuple(seq)]` instead of `arr[seq]`. In the future this will be interpreted as an array index, `arr[np.array(seq)]`, which will result either in an error or a different result.\n",
      "  b = a[a_slice]\n",
      "/home/yaoxiaojian/anaconda3/lib/python3.7/site-packages/scipy/signal/_arraytools.py:45: FutureWarning: Using a non-tuple sequence for multidimensional indexing is deprecated; use `arr[tuple(seq)]` instead of `arr[seq]`. In the future this will be interpreted as an array index, `arr[np.array(seq)]`, which will result either in an error or a different result.\n",
      "  b = a[a_slice]\n"
     ]
    },
    {
     "name": "stdout",
     "output_type": "stream",
     "text": [
      "subject 12 (1560, 64, 751)\n",
      "data stack shape: (17155, 64, 751) (17155,)\n",
      "return data shape:  (17155, 64, 751) (17155,)\n",
      "DigMontage is a superset of info. 311 in DigMontage will be ignored. The ignored channels are: {'PPO3h', 'FFC2h', 'PPOz', 'FCC5h', 'POO5h', 'OI2h', 'AFp7', 'AFF10', 'FCC4', 'POz', 'CCP1', 'PPO9', 'FTT8h', 'FFT8', 'FCC3h', 'PPO10h', 'AFF9', 'F9', 'O1h', 'FT10h', 'F3h', 'F6', 'FFC2', 'F2h', 'AFp6h', 'AFpz', 'PPO3', 'PO8', 'FC2h', 'PPO1', 'T4', 'AF9h', 'POO9', 'AFp1h', 'TPP8', 'CCP5h', 'PPO8', 'FCC6', 'AFp4h', 'P1', 'POO8h', 'FT9h', 'FTT7h', 'CPP6h', 'FC4h', 'PPO4', 'Fpz', 'C6h', 'F5h', 'FFT10', 'POO1h', 'FCC2h', 'AFp3h', 'PO8h', 'CPP3', 'PPO5', 'FC5h', 'AF6', 'P6', 'P1h', 'PO4h', 'TTP7', 'FFT9', 'POO4h', 'PO10h', 'AFF9h', 'POO10h', 'PO4', 'F2', 'AFp7h', 'FCz', 'FFC1', 'POO1', 'CPP2h', 'CP4', 'PO2', 'CCP1h', 'C5h', 'I1', 'FFC5h', 'FC6h', 'FT9', 'Fp1h', 'AFF2h', 'FFC3h', 'F7h', 'PPO2', 'FTT8', 'PO9h', 'AF4h', 'F6h', 'AFF4', 'FC1h', 'AFF3h', 'TP8h', 'CPP1h', 'F1', 'AF10h', 'CPPz', 'FCC3', 'TPP7h', 'CCP6h', 'C5', 'T9', 'FCC6h', 'C3h', 'I1h', 'CPP4', 'FT10', 'TPP10h', 'TTP10', 'CPP6', 'FT7h', 'FFC6', 'FCC2', 'AFFz', 'C2h', 'P6h', 'FCC5', 'POO8', 'M2', 'FCC1h', 'POO3', 'AF7', 'TP9h', 'AFF7', 'PPO2h', 'CP6h', 'T7h', 'F9h', 'CPP5', 'TTP9', 'AF3', 'PPO5h', 'PPO6h', 'FT8', 'AFp2', 'AF4', 'PPO10', 'PO5', 'AFp3', 'FCC4h', 'CCP4', 'AFp2h', 'FTT7', 'P9', 'AFF3', 'AF7h', 'CCP5', 'FFT8h', 'FC4', 'AFp8', 'PPO1h', 'AFF1', 'CP5h', 'AF2', 'PPO7h', 'AF5h', 'POO5', 'TPP9', 'CPz', 'FCCz', 'FTT9', 'POO10', 'C6', 'AF8h', 'POO6h', 'POO2h', 'PO7', 'FTT10h', 'TTP10h', 'A1', 'PO1', 'CPP4h', 'CCP3', 'T9h', 'TP7', 'AF1', 'TTP8h', 'CP4h', 'AFF7h', 'F8h', 'POO4', 'FT7', 'PPO4h', 'POOz', 'CP2h', 'AFp8h', 'CCP2', 'FTT10', 'POO6', 'FFC1h', 'T3', 'CCP6', 'TP10h', 'OI1', 'F10h', 'TPP10', 'FFC4h', 'AF5', 'AF10', 'TTP8', 'OI2', 'AF3h', 'AFp5', 'C2', 'I2h', 'FT8h', 'CCPz', 'CCP4h', 'P7h', 'PO7h', 'FFT7h', 'T10', 'PPO8h', 'POO7h', 'AFF5', 'PPO9h', 'T10h', 'F4h', 'FFC5', 'PO6h', 'AFF10h', 'AFF5h', 'T5', 'P5h', 'P10', 'PO6', 'FC3h', 'FFC6h', 'CPP2', 'AF2h', 'CP3h', 'T6', 'CP3', 'M1', 'P2', 'AFp9', 'CCP2h', 'P5', 'F1h', 'TP7h', 'F5', 'P9h', 'P3h', 'AFp9h', 'AFF4h', 'TPP9h', 'POO2', 'P8h', 'FCC1', 'AFp5h', 'TPP8h', 'Fp2h', 'PO3', 'P4h', 'PO3h', 'TPP7', 'AFp4', 'FFCz', 'AFz', 'FFT7', 'AFF6h', 'AFF8h', 'FFT9h', 'PO2h', 'PPO7', 'TTP7h', 'C1', 'AF1h', 'FFT10h', 'T8h', 'PO1h', 'AFp1', 'A2', 'C4h', 'AF6h', 'CPP3h', 'AFF8', 'PPO6', 'FC3', 'AFF6', 'POO3h', 'CP1h', 'AF8', 'Iz', 'FFC4', 'P10h', 'P2h', 'AFp6', 'AFF1h', 'I2', 'TP8', 'TTP9h', 'FFC3', 'POO7', 'FTT9h', 'CCP3h', 'CPP5h', 'AFF2', 'OIz', 'AFp10h', 'AFp10', 'CPP1', 'AF9', 'O2h', 'OI1h', 'C1h', 'PO5h', 'F10', 'POO9h'}\n"
     ]
    },
    {
     "name": "stderr",
     "output_type": "stream",
     "text": [
      "<ipython-input-1-81fa588ad679>:54: RuntimeWarning: 1 channel names are too long, have been truncated to 15 characters:\n",
      "['BothStartLoadPhase']\n",
      "  info = create_info(ch_names,sfreq=500.0,ch_types=ch_type,montage = montage)\n",
      "/home/yaoxiaojian/anaconda3/lib/python3.7/site-packages/scipy/signal/_arraytools.py:45: FutureWarning: Using a non-tuple sequence for multidimensional indexing is deprecated; use `arr[tuple(seq)]` instead of `arr[seq]`. In the future this will be interpreted as an array index, `arr[np.array(seq)]`, which will result either in an error or a different result.\n",
      "  b = a[a_slice]\n",
      "/home/yaoxiaojian/anaconda3/lib/python3.7/site-packages/scipy/signal/_arraytools.py:45: FutureWarning: Using a non-tuple sequence for multidimensional indexing is deprecated; use `arr[tuple(seq)]` instead of `arr[seq]`. In the future this will be interpreted as an array index, `arr[np.array(seq)]`, which will result either in an error or a different result.\n",
      "  b = a[a_slice]\n",
      "/home/yaoxiaojian/anaconda3/lib/python3.7/site-packages/scipy/signal/_arraytools.py:45: FutureWarning: Using a non-tuple sequence for multidimensional indexing is deprecated; use `arr[tuple(seq)]` instead of `arr[seq]`. In the future this will be interpreted as an array index, `arr[np.array(seq)]`, which will result either in an error or a different result.\n",
      "  b = a[a_slice]\n",
      "/home/yaoxiaojian/anaconda3/lib/python3.7/site-packages/scipy/signal/_arraytools.py:45: FutureWarning: Using a non-tuple sequence for multidimensional indexing is deprecated; use `arr[tuple(seq)]` instead of `arr[seq]`. In the future this will be interpreted as an array index, `arr[np.array(seq)]`, which will result either in an error or a different result.\n",
      "  b = a[a_slice]\n",
      "/home/yaoxiaojian/anaconda3/lib/python3.7/site-packages/scipy/signal/_arraytools.py:45: FutureWarning: Using a non-tuple sequence for multidimensional indexing is deprecated; use `arr[tuple(seq)]` instead of `arr[seq]`. In the future this will be interpreted as an array index, `arr[np.array(seq)]`, which will result either in an error or a different result.\n",
      "  b = a[a_slice]\n",
      "/home/yaoxiaojian/anaconda3/lib/python3.7/site-packages/scipy/signal/_arraytools.py:45: FutureWarning: Using a non-tuple sequence for multidimensional indexing is deprecated; use `arr[tuple(seq)]` instead of `arr[seq]`. In the future this will be interpreted as an array index, `arr[np.array(seq)]`, which will result either in an error or a different result.\n",
      "  b = a[a_slice]\n",
      "/home/yaoxiaojian/anaconda3/lib/python3.7/site-packages/scipy/signal/_arraytools.py:45: FutureWarning: Using a non-tuple sequence for multidimensional indexing is deprecated; use `arr[tuple(seq)]` instead of `arr[seq]`. In the future this will be interpreted as an array index, `arr[np.array(seq)]`, which will result either in an error or a different result.\n",
      "  b = a[a_slice]\n",
      "/home/yaoxiaojian/anaconda3/lib/python3.7/site-packages/scipy/signal/_arraytools.py:45: FutureWarning: Using a non-tuple sequence for multidimensional indexing is deprecated; use `arr[tuple(seq)]` instead of `arr[seq]`. In the future this will be interpreted as an array index, `arr[np.array(seq)]`, which will result either in an error or a different result.\n",
      "  b = a[a_slice]\n"
     ]
    },
    {
     "name": "stdout",
     "output_type": "stream",
     "text": [
      "DigMontage is a superset of info. 311 in DigMontage will be ignored. The ignored channels are: {'PPO3h', 'FFC2h', 'PPOz', 'FCC5h', 'POO5h', 'OI2h', 'AFp7', 'AFF10', 'FCC4', 'POz', 'CCP1', 'PPO9', 'FTT8h', 'FFT8', 'FCC3h', 'PPO10h', 'AFF9', 'F9', 'O1h', 'FT10h', 'F3h', 'F6', 'FFC2', 'F2h', 'AFp6h', 'AFpz', 'PPO3', 'PO8', 'FC2h', 'PPO1', 'T4', 'AF9h', 'POO9', 'AFp1h', 'TPP8', 'CCP5h', 'PPO8', 'FCC6', 'AFp4h', 'P1', 'POO8h', 'FT9h', 'FTT7h', 'CPP6h', 'FC4h', 'PPO4', 'Fpz', 'C6h', 'F5h', 'FFT10', 'POO1h', 'FCC2h', 'AFp3h', 'PO8h', 'CPP3', 'PPO5', 'FC5h', 'AF6', 'P6', 'P1h', 'PO4h', 'TTP7', 'FFT9', 'POO4h', 'PO10h', 'AFF9h', 'POO10h', 'PO4', 'F2', 'AFp7h', 'FCz', 'FFC1', 'POO1', 'CPP2h', 'CP4', 'PO2', 'CCP1h', 'C5h', 'I1', 'FFC5h', 'FC6h', 'FT9', 'Fp1h', 'AFF2h', 'FFC3h', 'F7h', 'PPO2', 'FTT8', 'PO9h', 'AF4h', 'F6h', 'AFF4', 'FC1h', 'AFF3h', 'TP8h', 'CPP1h', 'F1', 'AF10h', 'CPPz', 'FCC3', 'TPP7h', 'CCP6h', 'C5', 'T9', 'FCC6h', 'C3h', 'I1h', 'CPP4', 'FT10', 'TPP10h', 'TTP10', 'CPP6', 'FT7h', 'FFC6', 'FCC2', 'AFFz', 'C2h', 'P6h', 'FCC5', 'POO8', 'M2', 'FCC1h', 'POO3', 'AF7', 'TP9h', 'AFF7', 'PPO2h', 'CP6h', 'T7h', 'F9h', 'CPP5', 'TTP9', 'AF3', 'PPO5h', 'PPO6h', 'FT8', 'AFp2', 'AF4', 'PPO10', 'PO5', 'AFp3', 'FCC4h', 'CCP4', 'AFp2h', 'FTT7', 'P9', 'AFF3', 'AF7h', 'CCP5', 'FFT8h', 'FC4', 'AFp8', 'PPO1h', 'AFF1', 'CP5h', 'AF2', 'PPO7h', 'AF5h', 'POO5', 'TPP9', 'CPz', 'FCCz', 'FTT9', 'POO10', 'C6', 'AF8h', 'POO6h', 'POO2h', 'PO7', 'FTT10h', 'TTP10h', 'A1', 'PO1', 'CPP4h', 'CCP3', 'T9h', 'TP7', 'AF1', 'TTP8h', 'CP4h', 'AFF7h', 'F8h', 'POO4', 'FT7', 'PPO4h', 'POOz', 'CP2h', 'AFp8h', 'CCP2', 'FTT10', 'POO6', 'FFC1h', 'T3', 'CCP6', 'TP10h', 'OI1', 'F10h', 'TPP10', 'FFC4h', 'AF5', 'AF10', 'TTP8', 'OI2', 'AF3h', 'AFp5', 'C2', 'I2h', 'FT8h', 'CCPz', 'CCP4h', 'P7h', 'PO7h', 'FFT7h', 'T10', 'PPO8h', 'POO7h', 'AFF5', 'PPO9h', 'T10h', 'F4h', 'FFC5', 'PO6h', 'AFF10h', 'AFF5h', 'T5', 'P5h', 'P10', 'PO6', 'FC3h', 'FFC6h', 'CPP2', 'AF2h', 'CP3h', 'T6', 'CP3', 'M1', 'P2', 'AFp9', 'CCP2h', 'P5', 'F1h', 'TP7h', 'F5', 'P9h', 'P3h', 'AFp9h', 'AFF4h', 'TPP9h', 'POO2', 'P8h', 'FCC1', 'AFp5h', 'TPP8h', 'Fp2h', 'PO3', 'P4h', 'PO3h', 'TPP7', 'AFp4', 'FFCz', 'AFz', 'FFT7', 'AFF6h', 'AFF8h', 'FFT9h', 'PO2h', 'PPO7', 'TTP7h', 'C1', 'AF1h', 'FFT10h', 'T8h', 'PO1h', 'AFp1', 'A2', 'C4h', 'AF6h', 'CPP3h', 'AFF8', 'PPO6', 'FC3', 'AFF6', 'POO3h', 'CP1h', 'AF8', 'Iz', 'FFC4', 'P10h', 'P2h', 'AFp6', 'AFF1h', 'I2', 'TP8', 'TTP9h', 'FFC3', 'POO7', 'FTT9h', 'CCP3h', 'CPP5h', 'AFF2', 'OIz', 'AFp10h', 'AFp10', 'CPP1', 'AF9', 'O2h', 'OI1h', 'C1h', 'PO5h', 'F10', 'POO9h'}\n"
     ]
    },
    {
     "name": "stderr",
     "output_type": "stream",
     "text": [
      "<ipython-input-1-81fa588ad679>:54: RuntimeWarning: 1 channel names are too long, have been truncated to 15 characters:\n",
      "['BothStartLoadPhase']\n",
      "  info = create_info(ch_names,sfreq=500.0,ch_types=ch_type,montage = montage)\n",
      "/home/yaoxiaojian/anaconda3/lib/python3.7/site-packages/scipy/signal/_arraytools.py:45: FutureWarning: Using a non-tuple sequence for multidimensional indexing is deprecated; use `arr[tuple(seq)]` instead of `arr[seq]`. In the future this will be interpreted as an array index, `arr[np.array(seq)]`, which will result either in an error or a different result.\n",
      "  b = a[a_slice]\n",
      "/home/yaoxiaojian/anaconda3/lib/python3.7/site-packages/scipy/signal/_arraytools.py:45: FutureWarning: Using a non-tuple sequence for multidimensional indexing is deprecated; use `arr[tuple(seq)]` instead of `arr[seq]`. In the future this will be interpreted as an array index, `arr[np.array(seq)]`, which will result either in an error or a different result.\n",
      "  b = a[a_slice]\n",
      "/home/yaoxiaojian/anaconda3/lib/python3.7/site-packages/scipy/signal/_arraytools.py:45: FutureWarning: Using a non-tuple sequence for multidimensional indexing is deprecated; use `arr[tuple(seq)]` instead of `arr[seq]`. In the future this will be interpreted as an array index, `arr[np.array(seq)]`, which will result either in an error or a different result.\n",
      "  b = a[a_slice]\n",
      "/home/yaoxiaojian/anaconda3/lib/python3.7/site-packages/scipy/signal/_arraytools.py:45: FutureWarning: Using a non-tuple sequence for multidimensional indexing is deprecated; use `arr[tuple(seq)]` instead of `arr[seq]`. In the future this will be interpreted as an array index, `arr[np.array(seq)]`, which will result either in an error or a different result.\n",
      "  b = a[a_slice]\n",
      "/home/yaoxiaojian/anaconda3/lib/python3.7/site-packages/scipy/signal/_arraytools.py:45: FutureWarning: Using a non-tuple sequence for multidimensional indexing is deprecated; use `arr[tuple(seq)]` instead of `arr[seq]`. In the future this will be interpreted as an array index, `arr[np.array(seq)]`, which will result either in an error or a different result.\n",
      "  b = a[a_slice]\n",
      "/home/yaoxiaojian/anaconda3/lib/python3.7/site-packages/scipy/signal/_arraytools.py:45: FutureWarning: Using a non-tuple sequence for multidimensional indexing is deprecated; use `arr[tuple(seq)]` instead of `arr[seq]`. In the future this will be interpreted as an array index, `arr[np.array(seq)]`, which will result either in an error or a different result.\n",
      "  b = a[a_slice]\n",
      "/home/yaoxiaojian/anaconda3/lib/python3.7/site-packages/scipy/signal/_arraytools.py:45: FutureWarning: Using a non-tuple sequence for multidimensional indexing is deprecated; use `arr[tuple(seq)]` instead of `arr[seq]`. In the future this will be interpreted as an array index, `arr[np.array(seq)]`, which will result either in an error or a different result.\n",
      "  b = a[a_slice]\n",
      "/home/yaoxiaojian/anaconda3/lib/python3.7/site-packages/scipy/signal/_arraytools.py:45: FutureWarning: Using a non-tuple sequence for multidimensional indexing is deprecated; use `arr[tuple(seq)]` instead of `arr[seq]`. In the future this will be interpreted as an array index, `arr[np.array(seq)]`, which will result either in an error or a different result.\n",
      "  b = a[a_slice]\n"
     ]
    },
    {
     "name": "stdout",
     "output_type": "stream",
     "text": [
      "DigMontage is a superset of info. 311 in DigMontage will be ignored. The ignored channels are: {'PPO3h', 'FFC2h', 'PPOz', 'FCC5h', 'POO5h', 'OI2h', 'AFp7', 'AFF10', 'FCC4', 'POz', 'CCP1', 'PPO9', 'FTT8h', 'FFT8', 'FCC3h', 'PPO10h', 'AFF9', 'F9', 'O1h', 'FT10h', 'F3h', 'F6', 'FFC2', 'F2h', 'AFp6h', 'AFpz', 'PPO3', 'PO8', 'FC2h', 'PPO1', 'T4', 'AF9h', 'POO9', 'AFp1h', 'TPP8', 'CCP5h', 'PPO8', 'FCC6', 'AFp4h', 'P1', 'POO8h', 'FT9h', 'FTT7h', 'CPP6h', 'FC4h', 'PPO4', 'Fpz', 'C6h', 'F5h', 'FFT10', 'POO1h', 'FCC2h', 'AFp3h', 'PO8h', 'CPP3', 'PPO5', 'FC5h', 'AF6', 'P6', 'P1h', 'PO4h', 'TTP7', 'FFT9', 'POO4h', 'PO10h', 'AFF9h', 'POO10h', 'PO4', 'F2', 'AFp7h', 'FCz', 'FFC1', 'POO1', 'CPP2h', 'CP4', 'PO2', 'CCP1h', 'C5h', 'I1', 'FFC5h', 'FC6h', 'FT9', 'Fp1h', 'AFF2h', 'FFC3h', 'F7h', 'PPO2', 'FTT8', 'PO9h', 'AF4h', 'F6h', 'AFF4', 'FC1h', 'AFF3h', 'TP8h', 'CPP1h', 'F1', 'AF10h', 'CPPz', 'FCC3', 'TPP7h', 'CCP6h', 'C5', 'T9', 'FCC6h', 'C3h', 'I1h', 'CPP4', 'FT10', 'TPP10h', 'TTP10', 'CPP6', 'FT7h', 'FFC6', 'FCC2', 'AFFz', 'C2h', 'P6h', 'FCC5', 'POO8', 'M2', 'FCC1h', 'POO3', 'AF7', 'TP9h', 'AFF7', 'PPO2h', 'CP6h', 'T7h', 'F9h', 'CPP5', 'TTP9', 'AF3', 'PPO5h', 'PPO6h', 'FT8', 'AFp2', 'AF4', 'PPO10', 'PO5', 'AFp3', 'FCC4h', 'CCP4', 'AFp2h', 'FTT7', 'P9', 'AFF3', 'AF7h', 'CCP5', 'FFT8h', 'FC4', 'AFp8', 'PPO1h', 'AFF1', 'CP5h', 'AF2', 'PPO7h', 'AF5h', 'POO5', 'TPP9', 'CPz', 'FCCz', 'FTT9', 'POO10', 'C6', 'AF8h', 'POO6h', 'POO2h', 'PO7', 'FTT10h', 'TTP10h', 'A1', 'PO1', 'CPP4h', 'CCP3', 'T9h', 'TP7', 'AF1', 'TTP8h', 'CP4h', 'AFF7h', 'F8h', 'POO4', 'FT7', 'PPO4h', 'POOz', 'CP2h', 'AFp8h', 'CCP2', 'FTT10', 'POO6', 'FFC1h', 'T3', 'CCP6', 'TP10h', 'OI1', 'F10h', 'TPP10', 'FFC4h', 'AF5', 'AF10', 'TTP8', 'OI2', 'AF3h', 'AFp5', 'C2', 'I2h', 'FT8h', 'CCPz', 'CCP4h', 'P7h', 'PO7h', 'FFT7h', 'T10', 'PPO8h', 'POO7h', 'AFF5', 'PPO9h', 'T10h', 'F4h', 'FFC5', 'PO6h', 'AFF10h', 'AFF5h', 'T5', 'P5h', 'P10', 'PO6', 'FC3h', 'FFC6h', 'CPP2', 'AF2h', 'CP3h', 'T6', 'CP3', 'M1', 'P2', 'AFp9', 'CCP2h', 'P5', 'F1h', 'TP7h', 'F5', 'P9h', 'P3h', 'AFp9h', 'AFF4h', 'TPP9h', 'POO2', 'P8h', 'FCC1', 'AFp5h', 'TPP8h', 'Fp2h', 'PO3', 'P4h', 'PO3h', 'TPP7', 'AFp4', 'FFCz', 'AFz', 'FFT7', 'AFF6h', 'AFF8h', 'FFT9h', 'PO2h', 'PPO7', 'TTP7h', 'C1', 'AF1h', 'FFT10h', 'T8h', 'PO1h', 'AFp1', 'A2', 'C4h', 'AF6h', 'CPP3h', 'AFF8', 'PPO6', 'FC3', 'AFF6', 'POO3h', 'CP1h', 'AF8', 'Iz', 'FFC4', 'P10h', 'P2h', 'AFp6', 'AFF1h', 'I2', 'TP8', 'TTP9h', 'FFC3', 'POO7', 'FTT9h', 'CCP3h', 'CPP5h', 'AFF2', 'OIz', 'AFp10h', 'AFp10', 'CPP1', 'AF9', 'O2h', 'OI1h', 'C1h', 'PO5h', 'F10', 'POO9h'}\n"
     ]
    },
    {
     "name": "stderr",
     "output_type": "stream",
     "text": [
      "<ipython-input-1-81fa588ad679>:54: RuntimeWarning: 1 channel names are too long, have been truncated to 15 characters:\n",
      "['BothStartLoadPhase']\n",
      "  info = create_info(ch_names,sfreq=500.0,ch_types=ch_type,montage = montage)\n",
      "/home/yaoxiaojian/anaconda3/lib/python3.7/site-packages/scipy/signal/_arraytools.py:45: FutureWarning: Using a non-tuple sequence for multidimensional indexing is deprecated; use `arr[tuple(seq)]` instead of `arr[seq]`. In the future this will be interpreted as an array index, `arr[np.array(seq)]`, which will result either in an error or a different result.\n",
      "  b = a[a_slice]\n",
      "/home/yaoxiaojian/anaconda3/lib/python3.7/site-packages/scipy/signal/_arraytools.py:45: FutureWarning: Using a non-tuple sequence for multidimensional indexing is deprecated; use `arr[tuple(seq)]` instead of `arr[seq]`. In the future this will be interpreted as an array index, `arr[np.array(seq)]`, which will result either in an error or a different result.\n",
      "  b = a[a_slice]\n",
      "/home/yaoxiaojian/anaconda3/lib/python3.7/site-packages/scipy/signal/_arraytools.py:45: FutureWarning: Using a non-tuple sequence for multidimensional indexing is deprecated; use `arr[tuple(seq)]` instead of `arr[seq]`. In the future this will be interpreted as an array index, `arr[np.array(seq)]`, which will result either in an error or a different result.\n",
      "  b = a[a_slice]\n",
      "/home/yaoxiaojian/anaconda3/lib/python3.7/site-packages/scipy/signal/_arraytools.py:45: FutureWarning: Using a non-tuple sequence for multidimensional indexing is deprecated; use `arr[tuple(seq)]` instead of `arr[seq]`. In the future this will be interpreted as an array index, `arr[np.array(seq)]`, which will result either in an error or a different result.\n",
      "  b = a[a_slice]\n",
      "/home/yaoxiaojian/anaconda3/lib/python3.7/site-packages/scipy/signal/_arraytools.py:45: FutureWarning: Using a non-tuple sequence for multidimensional indexing is deprecated; use `arr[tuple(seq)]` instead of `arr[seq]`. In the future this will be interpreted as an array index, `arr[np.array(seq)]`, which will result either in an error or a different result.\n",
      "  b = a[a_slice]\n",
      "/home/yaoxiaojian/anaconda3/lib/python3.7/site-packages/scipy/signal/_arraytools.py:45: FutureWarning: Using a non-tuple sequence for multidimensional indexing is deprecated; use `arr[tuple(seq)]` instead of `arr[seq]`. In the future this will be interpreted as an array index, `arr[np.array(seq)]`, which will result either in an error or a different result.\n",
      "  b = a[a_slice]\n",
      "/home/yaoxiaojian/anaconda3/lib/python3.7/site-packages/scipy/signal/_arraytools.py:45: FutureWarning: Using a non-tuple sequence for multidimensional indexing is deprecated; use `arr[tuple(seq)]` instead of `arr[seq]`. In the future this will be interpreted as an array index, `arr[np.array(seq)]`, which will result either in an error or a different result.\n",
      "  b = a[a_slice]\n",
      "/home/yaoxiaojian/anaconda3/lib/python3.7/site-packages/scipy/signal/_arraytools.py:45: FutureWarning: Using a non-tuple sequence for multidimensional indexing is deprecated; use `arr[tuple(seq)]` instead of `arr[seq]`. In the future this will be interpreted as an array index, `arr[np.array(seq)]`, which will result either in an error or a different result.\n",
      "  b = a[a_slice]\n"
     ]
    },
    {
     "name": "stdout",
     "output_type": "stream",
     "text": [
      "DigMontage is a superset of info. 311 in DigMontage will be ignored. The ignored channels are: {'PPO3h', 'FFC2h', 'PPOz', 'FCC5h', 'POO5h', 'OI2h', 'AFp7', 'AFF10', 'FCC4', 'POz', 'CCP1', 'PPO9', 'FTT8h', 'FFT8', 'FCC3h', 'PPO10h', 'AFF9', 'F9', 'O1h', 'FT10h', 'F3h', 'F6', 'FFC2', 'F2h', 'AFp6h', 'AFpz', 'PPO3', 'PO8', 'FC2h', 'PPO1', 'T4', 'AF9h', 'POO9', 'AFp1h', 'TPP8', 'CCP5h', 'PPO8', 'FCC6', 'AFp4h', 'P1', 'POO8h', 'FT9h', 'FTT7h', 'CPP6h', 'FC4h', 'PPO4', 'Fpz', 'C6h', 'F5h', 'FFT10', 'POO1h', 'FCC2h', 'AFp3h', 'PO8h', 'CPP3', 'PPO5', 'FC5h', 'AF6', 'P6', 'P1h', 'PO4h', 'TTP7', 'FFT9', 'POO4h', 'PO10h', 'AFF9h', 'POO10h', 'PO4', 'F2', 'AFp7h', 'FCz', 'FFC1', 'POO1', 'CPP2h', 'CP4', 'PO2', 'CCP1h', 'C5h', 'I1', 'FFC5h', 'FC6h', 'FT9', 'Fp1h', 'AFF2h', 'FFC3h', 'F7h', 'PPO2', 'FTT8', 'PO9h', 'AF4h', 'F6h', 'AFF4', 'FC1h', 'AFF3h', 'TP8h', 'CPP1h', 'F1', 'AF10h', 'CPPz', 'FCC3', 'TPP7h', 'CCP6h', 'C5', 'T9', 'FCC6h', 'C3h', 'I1h', 'CPP4', 'FT10', 'TPP10h', 'TTP10', 'CPP6', 'FT7h', 'FFC6', 'FCC2', 'AFFz', 'C2h', 'P6h', 'FCC5', 'POO8', 'M2', 'FCC1h', 'POO3', 'AF7', 'TP9h', 'AFF7', 'PPO2h', 'CP6h', 'T7h', 'F9h', 'CPP5', 'TTP9', 'AF3', 'PPO5h', 'PPO6h', 'FT8', 'AFp2', 'AF4', 'PPO10', 'PO5', 'AFp3', 'FCC4h', 'CCP4', 'AFp2h', 'FTT7', 'P9', 'AFF3', 'AF7h', 'CCP5', 'FFT8h', 'FC4', 'AFp8', 'PPO1h', 'AFF1', 'CP5h', 'AF2', 'PPO7h', 'AF5h', 'POO5', 'TPP9', 'CPz', 'FCCz', 'FTT9', 'POO10', 'C6', 'AF8h', 'POO6h', 'POO2h', 'PO7', 'FTT10h', 'TTP10h', 'A1', 'PO1', 'CPP4h', 'CCP3', 'T9h', 'TP7', 'AF1', 'TTP8h', 'CP4h', 'AFF7h', 'F8h', 'POO4', 'FT7', 'PPO4h', 'POOz', 'CP2h', 'AFp8h', 'CCP2', 'FTT10', 'POO6', 'FFC1h', 'T3', 'CCP6', 'TP10h', 'OI1', 'F10h', 'TPP10', 'FFC4h', 'AF5', 'AF10', 'TTP8', 'OI2', 'AF3h', 'AFp5', 'C2', 'I2h', 'FT8h', 'CCPz', 'CCP4h', 'P7h', 'PO7h', 'FFT7h', 'T10', 'PPO8h', 'POO7h', 'AFF5', 'PPO9h', 'T10h', 'F4h', 'FFC5', 'PO6h', 'AFF10h', 'AFF5h', 'T5', 'P5h', 'P10', 'PO6', 'FC3h', 'FFC6h', 'CPP2', 'AF2h', 'CP3h', 'T6', 'CP3', 'M1', 'P2', 'AFp9', 'CCP2h', 'P5', 'F1h', 'TP7h', 'F5', 'P9h', 'P3h', 'AFp9h', 'AFF4h', 'TPP9h', 'POO2', 'P8h', 'FCC1', 'AFp5h', 'TPP8h', 'Fp2h', 'PO3', 'P4h', 'PO3h', 'TPP7', 'AFp4', 'FFCz', 'AFz', 'FFT7', 'AFF6h', 'AFF8h', 'FFT9h', 'PO2h', 'PPO7', 'TTP7h', 'C1', 'AF1h', 'FFT10h', 'T8h', 'PO1h', 'AFp1', 'A2', 'C4h', 'AF6h', 'CPP3h', 'AFF8', 'PPO6', 'FC3', 'AFF6', 'POO3h', 'CP1h', 'AF8', 'Iz', 'FFC4', 'P10h', 'P2h', 'AFp6', 'AFF1h', 'I2', 'TP8', 'TTP9h', 'FFC3', 'POO7', 'FTT9h', 'CCP3h', 'CPP5h', 'AFF2', 'OIz', 'AFp10h', 'AFp10', 'CPP1', 'AF9', 'O2h', 'OI1h', 'C1h', 'PO5h', 'F10', 'POO9h'}\n"
     ]
    },
    {
     "name": "stderr",
     "output_type": "stream",
     "text": [
      "<ipython-input-1-81fa588ad679>:54: RuntimeWarning: 1 channel names are too long, have been truncated to 15 characters:\n",
      "['BothStartLoadPhase']\n",
      "  info = create_info(ch_names,sfreq=500.0,ch_types=ch_type,montage = montage)\n",
      "/home/yaoxiaojian/anaconda3/lib/python3.7/site-packages/scipy/signal/_arraytools.py:45: FutureWarning: Using a non-tuple sequence for multidimensional indexing is deprecated; use `arr[tuple(seq)]` instead of `arr[seq]`. In the future this will be interpreted as an array index, `arr[np.array(seq)]`, which will result either in an error or a different result.\n",
      "  b = a[a_slice]\n",
      "/home/yaoxiaojian/anaconda3/lib/python3.7/site-packages/scipy/signal/_arraytools.py:45: FutureWarning: Using a non-tuple sequence for multidimensional indexing is deprecated; use `arr[tuple(seq)]` instead of `arr[seq]`. In the future this will be interpreted as an array index, `arr[np.array(seq)]`, which will result either in an error or a different result.\n",
      "  b = a[a_slice]\n",
      "/home/yaoxiaojian/anaconda3/lib/python3.7/site-packages/scipy/signal/_arraytools.py:45: FutureWarning: Using a non-tuple sequence for multidimensional indexing is deprecated; use `arr[tuple(seq)]` instead of `arr[seq]`. In the future this will be interpreted as an array index, `arr[np.array(seq)]`, which will result either in an error or a different result.\n",
      "  b = a[a_slice]\n",
      "/home/yaoxiaojian/anaconda3/lib/python3.7/site-packages/scipy/signal/_arraytools.py:45: FutureWarning: Using a non-tuple sequence for multidimensional indexing is deprecated; use `arr[tuple(seq)]` instead of `arr[seq]`. In the future this will be interpreted as an array index, `arr[np.array(seq)]`, which will result either in an error or a different result.\n",
      "  b = a[a_slice]\n",
      "/home/yaoxiaojian/anaconda3/lib/python3.7/site-packages/scipy/signal/_arraytools.py:45: FutureWarning: Using a non-tuple sequence for multidimensional indexing is deprecated; use `arr[tuple(seq)]` instead of `arr[seq]`. In the future this will be interpreted as an array index, `arr[np.array(seq)]`, which will result either in an error or a different result.\n",
      "  b = a[a_slice]\n",
      "/home/yaoxiaojian/anaconda3/lib/python3.7/site-packages/scipy/signal/_arraytools.py:45: FutureWarning: Using a non-tuple sequence for multidimensional indexing is deprecated; use `arr[tuple(seq)]` instead of `arr[seq]`. In the future this will be interpreted as an array index, `arr[np.array(seq)]`, which will result either in an error or a different result.\n",
      "  b = a[a_slice]\n",
      "/home/yaoxiaojian/anaconda3/lib/python3.7/site-packages/scipy/signal/_arraytools.py:45: FutureWarning: Using a non-tuple sequence for multidimensional indexing is deprecated; use `arr[tuple(seq)]` instead of `arr[seq]`. In the future this will be interpreted as an array index, `arr[np.array(seq)]`, which will result either in an error or a different result.\n",
      "  b = a[a_slice]\n",
      "/home/yaoxiaojian/anaconda3/lib/python3.7/site-packages/scipy/signal/_arraytools.py:45: FutureWarning: Using a non-tuple sequence for multidimensional indexing is deprecated; use `arr[tuple(seq)]` instead of `arr[seq]`. In the future this will be interpreted as an array index, `arr[np.array(seq)]`, which will result either in an error or a different result.\n",
      "  b = a[a_slice]\n"
     ]
    },
    {
     "name": "stdout",
     "output_type": "stream",
     "text": [
      "DigMontage is a superset of info. 311 in DigMontage will be ignored. The ignored channels are: {'PPO3h', 'FFC2h', 'PPOz', 'FCC5h', 'POO5h', 'OI2h', 'AFp7', 'AFF10', 'FCC4', 'POz', 'CCP1', 'PPO9', 'FTT8h', 'FFT8', 'FCC3h', 'PPO10h', 'AFF9', 'F9', 'O1h', 'FT10h', 'F3h', 'F6', 'FFC2', 'F2h', 'AFp6h', 'AFpz', 'PPO3', 'PO8', 'FC2h', 'PPO1', 'T4', 'AF9h', 'POO9', 'AFp1h', 'TPP8', 'CCP5h', 'PPO8', 'FCC6', 'AFp4h', 'P1', 'POO8h', 'FT9h', 'FTT7h', 'CPP6h', 'FC4h', 'PPO4', 'Fpz', 'C6h', 'F5h', 'FFT10', 'POO1h', 'FCC2h', 'AFp3h', 'PO8h', 'CPP3', 'PPO5', 'FC5h', 'AF6', 'P6', 'P1h', 'PO4h', 'TTP7', 'FFT9', 'POO4h', 'PO10h', 'AFF9h', 'POO10h', 'PO4', 'F2', 'AFp7h', 'FCz', 'FFC1', 'POO1', 'CPP2h', 'CP4', 'PO2', 'CCP1h', 'C5h', 'I1', 'FFC5h', 'FC6h', 'FT9', 'Fp1h', 'AFF2h', 'FFC3h', 'F7h', 'PPO2', 'FTT8', 'PO9h', 'AF4h', 'F6h', 'AFF4', 'FC1h', 'AFF3h', 'TP8h', 'CPP1h', 'F1', 'AF10h', 'CPPz', 'FCC3', 'TPP7h', 'CCP6h', 'C5', 'T9', 'FCC6h', 'C3h', 'I1h', 'CPP4', 'FT10', 'TPP10h', 'TTP10', 'CPP6', 'FT7h', 'FFC6', 'FCC2', 'AFFz', 'C2h', 'P6h', 'FCC5', 'POO8', 'M2', 'FCC1h', 'POO3', 'AF7', 'TP9h', 'AFF7', 'PPO2h', 'CP6h', 'T7h', 'F9h', 'CPP5', 'TTP9', 'AF3', 'PPO5h', 'PPO6h', 'FT8', 'AFp2', 'AF4', 'PPO10', 'PO5', 'AFp3', 'FCC4h', 'CCP4', 'AFp2h', 'FTT7', 'P9', 'AFF3', 'AF7h', 'CCP5', 'FFT8h', 'FC4', 'AFp8', 'PPO1h', 'AFF1', 'CP5h', 'AF2', 'PPO7h', 'AF5h', 'POO5', 'TPP9', 'CPz', 'FCCz', 'FTT9', 'POO10', 'C6', 'AF8h', 'POO6h', 'POO2h', 'PO7', 'FTT10h', 'TTP10h', 'A1', 'PO1', 'CPP4h', 'CCP3', 'T9h', 'TP7', 'AF1', 'TTP8h', 'CP4h', 'AFF7h', 'F8h', 'POO4', 'FT7', 'PPO4h', 'POOz', 'CP2h', 'AFp8h', 'CCP2', 'FTT10', 'POO6', 'FFC1h', 'T3', 'CCP6', 'TP10h', 'OI1', 'F10h', 'TPP10', 'FFC4h', 'AF5', 'AF10', 'TTP8', 'OI2', 'AF3h', 'AFp5', 'C2', 'I2h', 'FT8h', 'CCPz', 'CCP4h', 'P7h', 'PO7h', 'FFT7h', 'T10', 'PPO8h', 'POO7h', 'AFF5', 'PPO9h', 'T10h', 'F4h', 'FFC5', 'PO6h', 'AFF10h', 'AFF5h', 'T5', 'P5h', 'P10', 'PO6', 'FC3h', 'FFC6h', 'CPP2', 'AF2h', 'CP3h', 'T6', 'CP3', 'M1', 'P2', 'AFp9', 'CCP2h', 'P5', 'F1h', 'TP7h', 'F5', 'P9h', 'P3h', 'AFp9h', 'AFF4h', 'TPP9h', 'POO2', 'P8h', 'FCC1', 'AFp5h', 'TPP8h', 'Fp2h', 'PO3', 'P4h', 'PO3h', 'TPP7', 'AFp4', 'FFCz', 'AFz', 'FFT7', 'AFF6h', 'AFF8h', 'FFT9h', 'PO2h', 'PPO7', 'TTP7h', 'C1', 'AF1h', 'FFT10h', 'T8h', 'PO1h', 'AFp1', 'A2', 'C4h', 'AF6h', 'CPP3h', 'AFF8', 'PPO6', 'FC3', 'AFF6', 'POO3h', 'CP1h', 'AF8', 'Iz', 'FFC4', 'P10h', 'P2h', 'AFp6', 'AFF1h', 'I2', 'TP8', 'TTP9h', 'FFC3', 'POO7', 'FTT9h', 'CCP3h', 'CPP5h', 'AFF2', 'OIz', 'AFp10h', 'AFp10', 'CPP1', 'AF9', 'O2h', 'OI1h', 'C1h', 'PO5h', 'F10', 'POO9h'}\n"
     ]
    },
    {
     "name": "stderr",
     "output_type": "stream",
     "text": [
      "<ipython-input-1-81fa588ad679>:54: RuntimeWarning: 1 channel names are too long, have been truncated to 15 characters:\n",
      "['BothStartLoadPhase']\n",
      "  info = create_info(ch_names,sfreq=500.0,ch_types=ch_type,montage = montage)\n",
      "/home/yaoxiaojian/anaconda3/lib/python3.7/site-packages/scipy/signal/_arraytools.py:45: FutureWarning: Using a non-tuple sequence for multidimensional indexing is deprecated; use `arr[tuple(seq)]` instead of `arr[seq]`. In the future this will be interpreted as an array index, `arr[np.array(seq)]`, which will result either in an error or a different result.\n",
      "  b = a[a_slice]\n",
      "/home/yaoxiaojian/anaconda3/lib/python3.7/site-packages/scipy/signal/_arraytools.py:45: FutureWarning: Using a non-tuple sequence for multidimensional indexing is deprecated; use `arr[tuple(seq)]` instead of `arr[seq]`. In the future this will be interpreted as an array index, `arr[np.array(seq)]`, which will result either in an error or a different result.\n",
      "  b = a[a_slice]\n",
      "/home/yaoxiaojian/anaconda3/lib/python3.7/site-packages/scipy/signal/_arraytools.py:45: FutureWarning: Using a non-tuple sequence for multidimensional indexing is deprecated; use `arr[tuple(seq)]` instead of `arr[seq]`. In the future this will be interpreted as an array index, `arr[np.array(seq)]`, which will result either in an error or a different result.\n",
      "  b = a[a_slice]\n",
      "/home/yaoxiaojian/anaconda3/lib/python3.7/site-packages/scipy/signal/_arraytools.py:45: FutureWarning: Using a non-tuple sequence for multidimensional indexing is deprecated; use `arr[tuple(seq)]` instead of `arr[seq]`. In the future this will be interpreted as an array index, `arr[np.array(seq)]`, which will result either in an error or a different result.\n",
      "  b = a[a_slice]\n",
      "/home/yaoxiaojian/anaconda3/lib/python3.7/site-packages/scipy/signal/_arraytools.py:45: FutureWarning: Using a non-tuple sequence for multidimensional indexing is deprecated; use `arr[tuple(seq)]` instead of `arr[seq]`. In the future this will be interpreted as an array index, `arr[np.array(seq)]`, which will result either in an error or a different result.\n",
      "  b = a[a_slice]\n",
      "/home/yaoxiaojian/anaconda3/lib/python3.7/site-packages/scipy/signal/_arraytools.py:45: FutureWarning: Using a non-tuple sequence for multidimensional indexing is deprecated; use `arr[tuple(seq)]` instead of `arr[seq]`. In the future this will be interpreted as an array index, `arr[np.array(seq)]`, which will result either in an error or a different result.\n",
      "  b = a[a_slice]\n",
      "/home/yaoxiaojian/anaconda3/lib/python3.7/site-packages/scipy/signal/_arraytools.py:45: FutureWarning: Using a non-tuple sequence for multidimensional indexing is deprecated; use `arr[tuple(seq)]` instead of `arr[seq]`. In the future this will be interpreted as an array index, `arr[np.array(seq)]`, which will result either in an error or a different result.\n",
      "  b = a[a_slice]\n",
      "/home/yaoxiaojian/anaconda3/lib/python3.7/site-packages/scipy/signal/_arraytools.py:45: FutureWarning: Using a non-tuple sequence for multidimensional indexing is deprecated; use `arr[tuple(seq)]` instead of `arr[seq]`. In the future this will be interpreted as an array index, `arr[np.array(seq)]`, which will result either in an error or a different result.\n",
      "  b = a[a_slice]\n"
     ]
    },
    {
     "name": "stdout",
     "output_type": "stream",
     "text": [
      "DigMontage is a superset of info. 311 in DigMontage will be ignored. The ignored channels are: {'PPO3h', 'FFC2h', 'PPOz', 'FCC5h', 'POO5h', 'OI2h', 'AFp7', 'AFF10', 'FCC4', 'POz', 'CCP1', 'PPO9', 'FTT8h', 'FFT8', 'FCC3h', 'PPO10h', 'AFF9', 'F9', 'O1h', 'FT10h', 'F3h', 'F6', 'FFC2', 'F2h', 'AFp6h', 'AFpz', 'PPO3', 'PO8', 'FC2h', 'PPO1', 'T4', 'AF9h', 'POO9', 'AFp1h', 'TPP8', 'CCP5h', 'PPO8', 'FCC6', 'AFp4h', 'P1', 'POO8h', 'FT9h', 'FTT7h', 'CPP6h', 'FC4h', 'PPO4', 'Fpz', 'C6h', 'F5h', 'FFT10', 'POO1h', 'FCC2h', 'AFp3h', 'PO8h', 'CPP3', 'PPO5', 'FC5h', 'AF6', 'P6', 'P1h', 'PO4h', 'TTP7', 'FFT9', 'POO4h', 'PO10h', 'AFF9h', 'POO10h', 'PO4', 'F2', 'AFp7h', 'FCz', 'FFC1', 'POO1', 'CPP2h', 'CP4', 'PO2', 'CCP1h', 'C5h', 'I1', 'FFC5h', 'FC6h', 'FT9', 'Fp1h', 'AFF2h', 'FFC3h', 'F7h', 'PPO2', 'FTT8', 'PO9h', 'AF4h', 'F6h', 'AFF4', 'FC1h', 'AFF3h', 'TP8h', 'CPP1h', 'F1', 'AF10h', 'CPPz', 'FCC3', 'TPP7h', 'CCP6h', 'C5', 'T9', 'FCC6h', 'C3h', 'I1h', 'CPP4', 'FT10', 'TPP10h', 'TTP10', 'CPP6', 'FT7h', 'FFC6', 'FCC2', 'AFFz', 'C2h', 'P6h', 'FCC5', 'POO8', 'M2', 'FCC1h', 'POO3', 'AF7', 'TP9h', 'AFF7', 'PPO2h', 'CP6h', 'T7h', 'F9h', 'CPP5', 'TTP9', 'AF3', 'PPO5h', 'PPO6h', 'FT8', 'AFp2', 'AF4', 'PPO10', 'PO5', 'AFp3', 'FCC4h', 'CCP4', 'AFp2h', 'FTT7', 'P9', 'AFF3', 'AF7h', 'CCP5', 'FFT8h', 'FC4', 'AFp8', 'PPO1h', 'AFF1', 'CP5h', 'AF2', 'PPO7h', 'AF5h', 'POO5', 'TPP9', 'CPz', 'FCCz', 'FTT9', 'POO10', 'C6', 'AF8h', 'POO6h', 'POO2h', 'PO7', 'FTT10h', 'TTP10h', 'A1', 'PO1', 'CPP4h', 'CCP3', 'T9h', 'TP7', 'AF1', 'TTP8h', 'CP4h', 'AFF7h', 'F8h', 'POO4', 'FT7', 'PPO4h', 'POOz', 'CP2h', 'AFp8h', 'CCP2', 'FTT10', 'POO6', 'FFC1h', 'T3', 'CCP6', 'TP10h', 'OI1', 'F10h', 'TPP10', 'FFC4h', 'AF5', 'AF10', 'TTP8', 'OI2', 'AF3h', 'AFp5', 'C2', 'I2h', 'FT8h', 'CCPz', 'CCP4h', 'P7h', 'PO7h', 'FFT7h', 'T10', 'PPO8h', 'POO7h', 'AFF5', 'PPO9h', 'T10h', 'F4h', 'FFC5', 'PO6h', 'AFF10h', 'AFF5h', 'T5', 'P5h', 'P10', 'PO6', 'FC3h', 'FFC6h', 'CPP2', 'AF2h', 'CP3h', 'T6', 'CP3', 'M1', 'P2', 'AFp9', 'CCP2h', 'P5', 'F1h', 'TP7h', 'F5', 'P9h', 'P3h', 'AFp9h', 'AFF4h', 'TPP9h', 'POO2', 'P8h', 'FCC1', 'AFp5h', 'TPP8h', 'Fp2h', 'PO3', 'P4h', 'PO3h', 'TPP7', 'AFp4', 'FFCz', 'AFz', 'FFT7', 'AFF6h', 'AFF8h', 'FFT9h', 'PO2h', 'PPO7', 'TTP7h', 'C1', 'AF1h', 'FFT10h', 'T8h', 'PO1h', 'AFp1', 'A2', 'C4h', 'AF6h', 'CPP3h', 'AFF8', 'PPO6', 'FC3', 'AFF6', 'POO3h', 'CP1h', 'AF8', 'Iz', 'FFC4', 'P10h', 'P2h', 'AFp6', 'AFF1h', 'I2', 'TP8', 'TTP9h', 'FFC3', 'POO7', 'FTT9h', 'CCP3h', 'CPP5h', 'AFF2', 'OIz', 'AFp10h', 'AFp10', 'CPP1', 'AF9', 'O2h', 'OI1h', 'C1h', 'PO5h', 'F10', 'POO9h'}\n"
     ]
    },
    {
     "name": "stderr",
     "output_type": "stream",
     "text": [
      "<ipython-input-1-81fa588ad679>:54: RuntimeWarning: 1 channel names are too long, have been truncated to 15 characters:\n",
      "['BothStartLoadPhase']\n",
      "  info = create_info(ch_names,sfreq=500.0,ch_types=ch_type,montage = montage)\n",
      "/home/yaoxiaojian/anaconda3/lib/python3.7/site-packages/scipy/signal/_arraytools.py:45: FutureWarning: Using a non-tuple sequence for multidimensional indexing is deprecated; use `arr[tuple(seq)]` instead of `arr[seq]`. In the future this will be interpreted as an array index, `arr[np.array(seq)]`, which will result either in an error or a different result.\n",
      "  b = a[a_slice]\n",
      "/home/yaoxiaojian/anaconda3/lib/python3.7/site-packages/scipy/signal/_arraytools.py:45: FutureWarning: Using a non-tuple sequence for multidimensional indexing is deprecated; use `arr[tuple(seq)]` instead of `arr[seq]`. In the future this will be interpreted as an array index, `arr[np.array(seq)]`, which will result either in an error or a different result.\n",
      "  b = a[a_slice]\n",
      "/home/yaoxiaojian/anaconda3/lib/python3.7/site-packages/scipy/signal/_arraytools.py:45: FutureWarning: Using a non-tuple sequence for multidimensional indexing is deprecated; use `arr[tuple(seq)]` instead of `arr[seq]`. In the future this will be interpreted as an array index, `arr[np.array(seq)]`, which will result either in an error or a different result.\n",
      "  b = a[a_slice]\n",
      "/home/yaoxiaojian/anaconda3/lib/python3.7/site-packages/scipy/signal/_arraytools.py:45: FutureWarning: Using a non-tuple sequence for multidimensional indexing is deprecated; use `arr[tuple(seq)]` instead of `arr[seq]`. In the future this will be interpreted as an array index, `arr[np.array(seq)]`, which will result either in an error or a different result.\n",
      "  b = a[a_slice]\n",
      "/home/yaoxiaojian/anaconda3/lib/python3.7/site-packages/scipy/signal/_arraytools.py:45: FutureWarning: Using a non-tuple sequence for multidimensional indexing is deprecated; use `arr[tuple(seq)]` instead of `arr[seq]`. In the future this will be interpreted as an array index, `arr[np.array(seq)]`, which will result either in an error or a different result.\n",
      "  b = a[a_slice]\n",
      "/home/yaoxiaojian/anaconda3/lib/python3.7/site-packages/scipy/signal/_arraytools.py:45: FutureWarning: Using a non-tuple sequence for multidimensional indexing is deprecated; use `arr[tuple(seq)]` instead of `arr[seq]`. In the future this will be interpreted as an array index, `arr[np.array(seq)]`, which will result either in an error or a different result.\n",
      "  b = a[a_slice]\n",
      "/home/yaoxiaojian/anaconda3/lib/python3.7/site-packages/scipy/signal/_arraytools.py:45: FutureWarning: Using a non-tuple sequence for multidimensional indexing is deprecated; use `arr[tuple(seq)]` instead of `arr[seq]`. In the future this will be interpreted as an array index, `arr[np.array(seq)]`, which will result either in an error or a different result.\n",
      "  b = a[a_slice]\n",
      "/home/yaoxiaojian/anaconda3/lib/python3.7/site-packages/scipy/signal/_arraytools.py:45: FutureWarning: Using a non-tuple sequence for multidimensional indexing is deprecated; use `arr[tuple(seq)]` instead of `arr[seq]`. In the future this will be interpreted as an array index, `arr[np.array(seq)]`, which will result either in an error or a different result.\n",
      "  b = a[a_slice]\n"
     ]
    },
    {
     "name": "stdout",
     "output_type": "stream",
     "text": [
      "DigMontage is a superset of info. 311 in DigMontage will be ignored. The ignored channels are: {'PPO3h', 'FFC2h', 'PPOz', 'FCC5h', 'POO5h', 'OI2h', 'AFp7', 'AFF10', 'FCC4', 'POz', 'CCP1', 'PPO9', 'FTT8h', 'FFT8', 'FCC3h', 'PPO10h', 'AFF9', 'F9', 'O1h', 'FT10h', 'F3h', 'F6', 'FFC2', 'F2h', 'AFp6h', 'AFpz', 'PPO3', 'PO8', 'FC2h', 'PPO1', 'T4', 'AF9h', 'POO9', 'AFp1h', 'TPP8', 'CCP5h', 'PPO8', 'FCC6', 'AFp4h', 'P1', 'POO8h', 'FT9h', 'FTT7h', 'CPP6h', 'FC4h', 'PPO4', 'Fpz', 'C6h', 'F5h', 'FFT10', 'POO1h', 'FCC2h', 'AFp3h', 'PO8h', 'CPP3', 'PPO5', 'FC5h', 'AF6', 'P6', 'P1h', 'PO4h', 'TTP7', 'FFT9', 'POO4h', 'PO10h', 'AFF9h', 'POO10h', 'PO4', 'F2', 'AFp7h', 'FCz', 'FFC1', 'POO1', 'CPP2h', 'CP4', 'PO2', 'CCP1h', 'C5h', 'I1', 'FFC5h', 'FC6h', 'FT9', 'Fp1h', 'AFF2h', 'FFC3h', 'F7h', 'PPO2', 'FTT8', 'PO9h', 'AF4h', 'F6h', 'AFF4', 'FC1h', 'AFF3h', 'TP8h', 'CPP1h', 'F1', 'AF10h', 'CPPz', 'FCC3', 'TPP7h', 'CCP6h', 'C5', 'T9', 'FCC6h', 'C3h', 'I1h', 'CPP4', 'FT10', 'TPP10h', 'TTP10', 'CPP6', 'FT7h', 'FFC6', 'FCC2', 'AFFz', 'C2h', 'P6h', 'FCC5', 'POO8', 'M2', 'FCC1h', 'POO3', 'AF7', 'TP9h', 'AFF7', 'PPO2h', 'CP6h', 'T7h', 'F9h', 'CPP5', 'TTP9', 'AF3', 'PPO5h', 'PPO6h', 'FT8', 'AFp2', 'AF4', 'PPO10', 'PO5', 'AFp3', 'FCC4h', 'CCP4', 'AFp2h', 'FTT7', 'P9', 'AFF3', 'AF7h', 'CCP5', 'FFT8h', 'FC4', 'AFp8', 'PPO1h', 'AFF1', 'CP5h', 'AF2', 'PPO7h', 'AF5h', 'POO5', 'TPP9', 'CPz', 'FCCz', 'FTT9', 'POO10', 'C6', 'AF8h', 'POO6h', 'POO2h', 'PO7', 'FTT10h', 'TTP10h', 'A1', 'PO1', 'CPP4h', 'CCP3', 'T9h', 'TP7', 'AF1', 'TTP8h', 'CP4h', 'AFF7h', 'F8h', 'POO4', 'FT7', 'PPO4h', 'POOz', 'CP2h', 'AFp8h', 'CCP2', 'FTT10', 'POO6', 'FFC1h', 'T3', 'CCP6', 'TP10h', 'OI1', 'F10h', 'TPP10', 'FFC4h', 'AF5', 'AF10', 'TTP8', 'OI2', 'AF3h', 'AFp5', 'C2', 'I2h', 'FT8h', 'CCPz', 'CCP4h', 'P7h', 'PO7h', 'FFT7h', 'T10', 'PPO8h', 'POO7h', 'AFF5', 'PPO9h', 'T10h', 'F4h', 'FFC5', 'PO6h', 'AFF10h', 'AFF5h', 'T5', 'P5h', 'P10', 'PO6', 'FC3h', 'FFC6h', 'CPP2', 'AF2h', 'CP3h', 'T6', 'CP3', 'M1', 'P2', 'AFp9', 'CCP2h', 'P5', 'F1h', 'TP7h', 'F5', 'P9h', 'P3h', 'AFp9h', 'AFF4h', 'TPP9h', 'POO2', 'P8h', 'FCC1', 'AFp5h', 'TPP8h', 'Fp2h', 'PO3', 'P4h', 'PO3h', 'TPP7', 'AFp4', 'FFCz', 'AFz', 'FFT7', 'AFF6h', 'AFF8h', 'FFT9h', 'PO2h', 'PPO7', 'TTP7h', 'C1', 'AF1h', 'FFT10h', 'T8h', 'PO1h', 'AFp1', 'A2', 'C4h', 'AF6h', 'CPP3h', 'AFF8', 'PPO6', 'FC3', 'AFF6', 'POO3h', 'CP1h', 'AF8', 'Iz', 'FFC4', 'P10h', 'P2h', 'AFp6', 'AFF1h', 'I2', 'TP8', 'TTP9h', 'FFC3', 'POO7', 'FTT9h', 'CCP3h', 'CPP5h', 'AFF2', 'OIz', 'AFp10h', 'AFp10', 'CPP1', 'AF9', 'O2h', 'OI1h', 'C1h', 'PO5h', 'F10', 'POO9h'}\n"
     ]
    },
    {
     "name": "stderr",
     "output_type": "stream",
     "text": [
      "<ipython-input-1-81fa588ad679>:54: RuntimeWarning: 1 channel names are too long, have been truncated to 15 characters:\n",
      "['BothStartLoadPhase']\n",
      "  info = create_info(ch_names,sfreq=500.0,ch_types=ch_type,montage = montage)\n",
      "/home/yaoxiaojian/anaconda3/lib/python3.7/site-packages/scipy/signal/_arraytools.py:45: FutureWarning: Using a non-tuple sequence for multidimensional indexing is deprecated; use `arr[tuple(seq)]` instead of `arr[seq]`. In the future this will be interpreted as an array index, `arr[np.array(seq)]`, which will result either in an error or a different result.\n",
      "  b = a[a_slice]\n",
      "/home/yaoxiaojian/anaconda3/lib/python3.7/site-packages/scipy/signal/_arraytools.py:45: FutureWarning: Using a non-tuple sequence for multidimensional indexing is deprecated; use `arr[tuple(seq)]` instead of `arr[seq]`. In the future this will be interpreted as an array index, `arr[np.array(seq)]`, which will result either in an error or a different result.\n",
      "  b = a[a_slice]\n",
      "/home/yaoxiaojian/anaconda3/lib/python3.7/site-packages/scipy/signal/_arraytools.py:45: FutureWarning: Using a non-tuple sequence for multidimensional indexing is deprecated; use `arr[tuple(seq)]` instead of `arr[seq]`. In the future this will be interpreted as an array index, `arr[np.array(seq)]`, which will result either in an error or a different result.\n",
      "  b = a[a_slice]\n",
      "/home/yaoxiaojian/anaconda3/lib/python3.7/site-packages/scipy/signal/_arraytools.py:45: FutureWarning: Using a non-tuple sequence for multidimensional indexing is deprecated; use `arr[tuple(seq)]` instead of `arr[seq]`. In the future this will be interpreted as an array index, `arr[np.array(seq)]`, which will result either in an error or a different result.\n",
      "  b = a[a_slice]\n",
      "/home/yaoxiaojian/anaconda3/lib/python3.7/site-packages/scipy/signal/_arraytools.py:45: FutureWarning: Using a non-tuple sequence for multidimensional indexing is deprecated; use `arr[tuple(seq)]` instead of `arr[seq]`. In the future this will be interpreted as an array index, `arr[np.array(seq)]`, which will result either in an error or a different result.\n",
      "  b = a[a_slice]\n",
      "/home/yaoxiaojian/anaconda3/lib/python3.7/site-packages/scipy/signal/_arraytools.py:45: FutureWarning: Using a non-tuple sequence for multidimensional indexing is deprecated; use `arr[tuple(seq)]` instead of `arr[seq]`. In the future this will be interpreted as an array index, `arr[np.array(seq)]`, which will result either in an error or a different result.\n",
      "  b = a[a_slice]\n",
      "/home/yaoxiaojian/anaconda3/lib/python3.7/site-packages/scipy/signal/_arraytools.py:45: FutureWarning: Using a non-tuple sequence for multidimensional indexing is deprecated; use `arr[tuple(seq)]` instead of `arr[seq]`. In the future this will be interpreted as an array index, `arr[np.array(seq)]`, which will result either in an error or a different result.\n",
      "  b = a[a_slice]\n",
      "/home/yaoxiaojian/anaconda3/lib/python3.7/site-packages/scipy/signal/_arraytools.py:45: FutureWarning: Using a non-tuple sequence for multidimensional indexing is deprecated; use `arr[tuple(seq)]` instead of `arr[seq]`. In the future this will be interpreted as an array index, `arr[np.array(seq)]`, which will result either in an error or a different result.\n",
      "  b = a[a_slice]\n"
     ]
    },
    {
     "name": "stdout",
     "output_type": "stream",
     "text": [
      "DigMontage is a superset of info. 311 in DigMontage will be ignored. The ignored channels are: {'PPO3h', 'FFC2h', 'PPOz', 'FCC5h', 'POO5h', 'OI2h', 'AFp7', 'AFF10', 'FCC4', 'POz', 'CCP1', 'PPO9', 'FTT8h', 'FFT8', 'FCC3h', 'PPO10h', 'AFF9', 'F9', 'O1h', 'FT10h', 'F3h', 'F6', 'FFC2', 'F2h', 'AFp6h', 'AFpz', 'PPO3', 'PO8', 'FC2h', 'PPO1', 'T4', 'AF9h', 'POO9', 'AFp1h', 'TPP8', 'CCP5h', 'PPO8', 'FCC6', 'AFp4h', 'P1', 'POO8h', 'FT9h', 'FTT7h', 'CPP6h', 'FC4h', 'PPO4', 'Fpz', 'C6h', 'F5h', 'FFT10', 'POO1h', 'FCC2h', 'AFp3h', 'PO8h', 'CPP3', 'PPO5', 'FC5h', 'AF6', 'P6', 'P1h', 'PO4h', 'TTP7', 'FFT9', 'POO4h', 'PO10h', 'AFF9h', 'POO10h', 'PO4', 'F2', 'AFp7h', 'FCz', 'FFC1', 'POO1', 'CPP2h', 'CP4', 'PO2', 'CCP1h', 'C5h', 'I1', 'FFC5h', 'FC6h', 'FT9', 'Fp1h', 'AFF2h', 'FFC3h', 'F7h', 'PPO2', 'FTT8', 'PO9h', 'AF4h', 'F6h', 'AFF4', 'FC1h', 'AFF3h', 'TP8h', 'CPP1h', 'F1', 'AF10h', 'CPPz', 'FCC3', 'TPP7h', 'CCP6h', 'C5', 'T9', 'FCC6h', 'C3h', 'I1h', 'CPP4', 'FT10', 'TPP10h', 'TTP10', 'CPP6', 'FT7h', 'FFC6', 'FCC2', 'AFFz', 'C2h', 'P6h', 'FCC5', 'POO8', 'M2', 'FCC1h', 'POO3', 'AF7', 'TP9h', 'AFF7', 'PPO2h', 'CP6h', 'T7h', 'F9h', 'CPP5', 'TTP9', 'AF3', 'PPO5h', 'PPO6h', 'FT8', 'AFp2', 'AF4', 'PPO10', 'PO5', 'AFp3', 'FCC4h', 'CCP4', 'AFp2h', 'FTT7', 'P9', 'AFF3', 'AF7h', 'CCP5', 'FFT8h', 'FC4', 'AFp8', 'PPO1h', 'AFF1', 'CP5h', 'AF2', 'PPO7h', 'AF5h', 'POO5', 'TPP9', 'CPz', 'FCCz', 'FTT9', 'POO10', 'C6', 'AF8h', 'POO6h', 'POO2h', 'PO7', 'FTT10h', 'TTP10h', 'A1', 'PO1', 'CPP4h', 'CCP3', 'T9h', 'TP7', 'AF1', 'TTP8h', 'CP4h', 'AFF7h', 'F8h', 'POO4', 'FT7', 'PPO4h', 'POOz', 'CP2h', 'AFp8h', 'CCP2', 'FTT10', 'POO6', 'FFC1h', 'T3', 'CCP6', 'TP10h', 'OI1', 'F10h', 'TPP10', 'FFC4h', 'AF5', 'AF10', 'TTP8', 'OI2', 'AF3h', 'AFp5', 'C2', 'I2h', 'FT8h', 'CCPz', 'CCP4h', 'P7h', 'PO7h', 'FFT7h', 'T10', 'PPO8h', 'POO7h', 'AFF5', 'PPO9h', 'T10h', 'F4h', 'FFC5', 'PO6h', 'AFF10h', 'AFF5h', 'T5', 'P5h', 'P10', 'PO6', 'FC3h', 'FFC6h', 'CPP2', 'AF2h', 'CP3h', 'T6', 'CP3', 'M1', 'P2', 'AFp9', 'CCP2h', 'P5', 'F1h', 'TP7h', 'F5', 'P9h', 'P3h', 'AFp9h', 'AFF4h', 'TPP9h', 'POO2', 'P8h', 'FCC1', 'AFp5h', 'TPP8h', 'Fp2h', 'PO3', 'P4h', 'PO3h', 'TPP7', 'AFp4', 'FFCz', 'AFz', 'FFT7', 'AFF6h', 'AFF8h', 'FFT9h', 'PO2h', 'PPO7', 'TTP7h', 'C1', 'AF1h', 'FFT10h', 'T8h', 'PO1h', 'AFp1', 'A2', 'C4h', 'AF6h', 'CPP3h', 'AFF8', 'PPO6', 'FC3', 'AFF6', 'POO3h', 'CP1h', 'AF8', 'Iz', 'FFC4', 'P10h', 'P2h', 'AFp6', 'AFF1h', 'I2', 'TP8', 'TTP9h', 'FFC3', 'POO7', 'FTT9h', 'CCP3h', 'CPP5h', 'AFF2', 'OIz', 'AFp10h', 'AFp10', 'CPP1', 'AF9', 'O2h', 'OI1h', 'C1h', 'PO5h', 'F10', 'POO9h'}\n"
     ]
    },
    {
     "name": "stderr",
     "output_type": "stream",
     "text": [
      "<ipython-input-1-81fa588ad679>:54: RuntimeWarning: 1 channel names are too long, have been truncated to 15 characters:\n",
      "['BothStartLoadPhase']\n",
      "  info = create_info(ch_names,sfreq=500.0,ch_types=ch_type,montage = montage)\n",
      "/home/yaoxiaojian/anaconda3/lib/python3.7/site-packages/scipy/signal/_arraytools.py:45: FutureWarning: Using a non-tuple sequence for multidimensional indexing is deprecated; use `arr[tuple(seq)]` instead of `arr[seq]`. In the future this will be interpreted as an array index, `arr[np.array(seq)]`, which will result either in an error or a different result.\n",
      "  b = a[a_slice]\n",
      "/home/yaoxiaojian/anaconda3/lib/python3.7/site-packages/scipy/signal/_arraytools.py:45: FutureWarning: Using a non-tuple sequence for multidimensional indexing is deprecated; use `arr[tuple(seq)]` instead of `arr[seq]`. In the future this will be interpreted as an array index, `arr[np.array(seq)]`, which will result either in an error or a different result.\n",
      "  b = a[a_slice]\n",
      "/home/yaoxiaojian/anaconda3/lib/python3.7/site-packages/scipy/signal/_arraytools.py:45: FutureWarning: Using a non-tuple sequence for multidimensional indexing is deprecated; use `arr[tuple(seq)]` instead of `arr[seq]`. In the future this will be interpreted as an array index, `arr[np.array(seq)]`, which will result either in an error or a different result.\n",
      "  b = a[a_slice]\n",
      "/home/yaoxiaojian/anaconda3/lib/python3.7/site-packages/scipy/signal/_arraytools.py:45: FutureWarning: Using a non-tuple sequence for multidimensional indexing is deprecated; use `arr[tuple(seq)]` instead of `arr[seq]`. In the future this will be interpreted as an array index, `arr[np.array(seq)]`, which will result either in an error or a different result.\n",
      "  b = a[a_slice]\n",
      "/home/yaoxiaojian/anaconda3/lib/python3.7/site-packages/scipy/signal/_arraytools.py:45: FutureWarning: Using a non-tuple sequence for multidimensional indexing is deprecated; use `arr[tuple(seq)]` instead of `arr[seq]`. In the future this will be interpreted as an array index, `arr[np.array(seq)]`, which will result either in an error or a different result.\n",
      "  b = a[a_slice]\n",
      "/home/yaoxiaojian/anaconda3/lib/python3.7/site-packages/scipy/signal/_arraytools.py:45: FutureWarning: Using a non-tuple sequence for multidimensional indexing is deprecated; use `arr[tuple(seq)]` instead of `arr[seq]`. In the future this will be interpreted as an array index, `arr[np.array(seq)]`, which will result either in an error or a different result.\n",
      "  b = a[a_slice]\n",
      "/home/yaoxiaojian/anaconda3/lib/python3.7/site-packages/scipy/signal/_arraytools.py:45: FutureWarning: Using a non-tuple sequence for multidimensional indexing is deprecated; use `arr[tuple(seq)]` instead of `arr[seq]`. In the future this will be interpreted as an array index, `arr[np.array(seq)]`, which will result either in an error or a different result.\n",
      "  b = a[a_slice]\n",
      "/home/yaoxiaojian/anaconda3/lib/python3.7/site-packages/scipy/signal/_arraytools.py:45: FutureWarning: Using a non-tuple sequence for multidimensional indexing is deprecated; use `arr[tuple(seq)]` instead of `arr[seq]`. In the future this will be interpreted as an array index, `arr[np.array(seq)]`, which will result either in an error or a different result.\n",
      "  b = a[a_slice]\n"
     ]
    },
    {
     "name": "stdout",
     "output_type": "stream",
     "text": [
      "subject 10 (1560, 64, 751)\n",
      "data stack shape: (1560, 64, 751) (1560,)\n",
      "return data shape:  (1560, 64, 751) (1560,)\n",
      "X_inputs (12883405, 64)\n",
      "X_inputs1 (1171560, 64)\n",
      "WARNING:tensorflow:From /home/yaoxiaojian/anaconda3/lib/python3.7/site-packages/tensorflow/python/framework/op_def_library.py:263: colocate_with (from tensorflow.python.framework.ops) is deprecated and will be removed in a future version.\n",
      "Instructions for updating:\n",
      "Colocations handled automatically by placer.\n"
     ]
    },
    {
     "name": "stdout",
     "output_type": "stream",
     "text": [
      "..............................................................................................................................................................................................................................................................................................................................................................................................................................................................................................................................................................................................................................................................................................................................................................................................................................................................................................................................................................................................................................................................................................................................................................................................................................................................................................................................................................................................................................................................................................................................................................................................................................................................................................................................................................................................................................................................................................................................................................................................................................................................................................................................................................................................................................................................................................................................................................................................................................................................................................................................................................................................................................................................................................................................................................................................................................................................................................................................................................................................................................................................................................................................................................................................................................................................................................................................................................................................................................................................................................................................................................................................................................................................................................................................................................................................................................................................................................................................................................................................................................................................................................................................................................................................................................................................................................................................................................................................................................................................................................................................................................................................................................................................................................................................................................................................................................................................................................................................................................................................................................................................................................................................................................................................................................................................................................................................................................................................................................................................................................................................................................................................................................................................................................................................................................................................................................................................................................................................................................................................................................................................................................................................................................................................................................................................................................................................................................................................................................................................................................................................................................................................................................................................................................................................................................................................................................................................................................................................................................................................................................................................................................................................................................................................................................................................................................................................................................................................................................................................................................................................................................................................................................................................................................................................................................................................................................................................................................................................................................................................................................................................................................................................................................................................................................................................................................................................................................................................................................................................................................................................................................."
     ]
    },
    {
     "name": "stdout",
     "output_type": "stream",
     "text": [
      ".........................................................................................................................................................................................................................................................................................................................................................................................................................................................................................................................................................................................................................................................................................................................................................................................................................................................................................................................................................................................................................................................................................................................................................................................................................................................................................................................................................................................................................................................................................................................................................................................................................................................................................................................................................................................................................................................................................................................................................................................................................................................................................................................................................................................................................................................................................................................................................................................................................................................................................................................................................................................................................................................................................................................................................................................................................................................................................................................................................................................................................................................................................................................................................................................................................................................................................................................................................................................................................................................................................................................................................................................................................................................................................................................................................................................................................................................................................................................................................................................................................................................................................................................................................................................................................................................................................................................................................................................................................................................................................................................................................................................................................................................................................................................................................................................................................................................................................................................................................................................................................................................................................................................................................................................................................................................................................................................................................................................................................................................................................................................................................................................................................................................................................................................................................................................................................................................................................................................................................................................................................................................................................................................................................................................................................................................................................................................................................................................................................................................................................................................................................................................................................................................................................................................................................................................................................................................................................................................................................................................................................................................................................................................................................................................................................................................................................................................................................................................................................................................................................................................................................................................................................................................................................................................................................................................................................................................................................................................................................................................................................................................................................................................................................................................................................................................................................................................................................................................................................................................................................................................................."
     ]
    },
    {
     "name": "stdout",
     "output_type": "stream",
     "text": [
      "..........................................................................................................................................................................................................................................................................................................................................................................................................................................................................................................................................................................................................................................................................................................................................................\n",
      "Epoch: 0001 cost= 12.561324120\n"
     ]
    },
    {
     "name": "stdout",
     "output_type": "stream",
     "text": [
      "..................................................................................................................................................................................................................................................................................................................................................................................................................................................................................................................................................................................................................................................................................................................................................................................................................................................................................................................................................................................................................................................................................................................................................................................................................................................................................................................................................................................................................................................................................................................................................................................................................................................................................................................................................................................................................................................................................................................................................................................................................................................................................................................................................................................................................................................................................................................................................................................................................................................................................................................................................................................................................................................................................................................................................................................................................................................................................................................................................................................................................................................................................................................................................................................................................................................................................................................................................................................................................................................................................................................................................................................................................................................................................................................................................................................................................................................................................................................................................................................................................................................................................................................................................................................................................................................................................................................................................................................................................................................................................................................................................................................................................................................................................................................................................................................................................................................................................................................................................................................................................................................................................................................................................................................................................................................................................................................................................................................................................................................................................................................................................................................................................................................................................................................................................................................................................................................................................................................................................................................................................................................................................................................................................................................................................................................................................................................................................................................................................................................................................................................................................................................................................................................................................................................................................................................................................................................................................................................................................................................................................................................................................................................................................................................................................................................................................................................................................................................................................................................................................................................................................................................................................................................................................................................................................................................................................................................................................................................................................................................................................................................................................................................................................................................................................................................................................................................................................................................................................................................................................................................................................................."
     ]
    },
    {
     "name": "stdout",
     "output_type": "stream",
     "text": [
      "......................................................................................................................................................................................................................................................................................................................................................................................................................................................................................................................................................................................................................................................................................................................................................................................................................................................................................................................................................................................................................................................................................................................................................................................................................................................................................................................................................................................................................................................................................................................................................................................................................................................................................................................................................................................................................................................................................................................................................................................................................................................................................................................................................................................................................................................................................................................................................................................................................................................................................................................................................................................................................................................................................................................................................................................................................................................................................................................................................................................................................................................................................................................................................................................................................................................................................................................................................................................................................................................................................................................................................................................................................................................................................................................................................................................................................................................................................................................................................................................................................................................................................................................................................................................................................................................................................................................................................................................................................................................................................................................................................................................................................................................................................................................................................................................................................................................................................................................................................................................................................................................................................................................................................................................................................................................................................................................................................................................................................................................................................................................................................................................................................................................................................................................................................................................................................................................................................................................................................................................................................................................................................................................................................................................................................................................................................................................................................................................................................................................................................................................................................................................................................................................................................................................................................................................................................................................................................................................................................................................................................................................................................................................................................................................................................................................................................................................................................................................................................................................................................................................................................................................................................................................................................................................................................................................................................................................................................................................................................................................................................................................................................................................................................................................................................................................................................................................................................................................................................................................................................................................................."
     ]
    },
    {
     "name": "stdout",
     "output_type": "stream",
     "text": [
      ".........................................................................................................................................................................................................................................................................................................................................................................................................................................................................................................................................................................................................................................................................................................................................................\n",
      "Epoch: 0002 cost= 12.558549881\n"
     ]
    },
    {
     "name": "stdout",
     "output_type": "stream",
     "text": [
      "..........................................................................................................................................................................................................................................................................................................................................................................................................................................................................................................................................................................................................................................................................................................................................................................................................................................................................................................................................................................................................................................................................................................................................................................................................................................................................................................................................................................................................................................................................................................................................................................................................................................................................................................................................................................................................................................................................................................................................................................................................................................................................................................................................................................................................................................................................................................................................................................................................................................................................................................................................................................................................................................................................................................................................................................................................................................................................................................................................................................................................................................................................................................................................................................................................................................................................................................................................................................................................................................................................................................................................................................................................................................................................................................................................................................................................................................................................................................................................................................................................................................................................................................................................................................................................................................................................................................................................................................................................................................................................................................................................................................................................................................................................................................................................................................................................................................................................................................................................................................................................................................................................................................................................................................................................................................................................................................................................................................................................................................................................................................................................................................................................................................................................................................................................................................................................................................................................................................................................................................................................................................................................................................................................................................................................................................................................................................................................................................................................................................................................................................................................................................................................................................................................................................................................................................................................................................................................................................................................................................................................................................................................................................................................................................................................................................................................................................................................................................................................................................................................................................................................................................................................................................................................................................................................................................................................................................................................................................................................................................................................................................................................................................................................................................................................................................................................................................................................................................................................................................................................................................................................................."
     ]
    },
    {
     "name": "stdout",
     "output_type": "stream",
     "text": [
      "............................................................................................................................................................................................................................................................................................................................................................................................................................................................................................................................................................................................................................................................................................................................................................................................................................................................................................................................................................................................................................................................................................................................................................................................................................................................................................................................................................................................................................................................................................................................................................................................................................................................................................................................................................................................................................................................................................................................................................................................................................................................................................................................................................................................................................................................................................................................................................................................................................................................................................................................................................................................................................................................................................................................................................................................................................................................................................................................................................................................................................................................................................................................................................................................................................................................................................................................................................................................................................................................................................................................................................................................................................................................................................................................................................................................................................................................................................................................................................................................................................................................................................................................................................................................................................................................................................................................................................................................................................................................................................................................................................................................................................................................................................................................................................................................................................................................................................................................................................................................................................................................................................................................................................................................................................................................................................................................................................................................................................................................................................................................................................................................................................................................................................................................................................................................................................................................................................................................................................................................................................................................................................................................................................................................................................................................................................................................................................................................................................................................................................................................................................................................................................................................................................................................................................................................................................................................................................................................................................................................................................................................................................................................................................................................................................................................................................................................................................................................................................................................................................................................................................................................................................................................................................................................................................................................................................................................................................................................................................................................................................................................................................................................................................................................................................................................................................................................................................................................................................................................................................................................................................"
     ]
    },
    {
     "name": "stdout",
     "output_type": "stream",
     "text": [
      "............................................................................................................................................................................................................................................................................................................................................................................................................................................................................................................................................................................................................................................................................................................................................\n",
      "Epoch: 0003 cost= 12.553997993\n"
     ]
    },
    {
     "name": "stdout",
     "output_type": "stream",
     "text": [
      "..................................................................................................................................................................................................................................................................................................................................................................................................................................................................................................................................................................................................................................................................................................................................................................................................................................................................................................................................................................................................................................................................................................................................................................................................................................................................................................................................................................................................................................................................................................................................................................................................................................................................................................................................................................................................................................................................................................................................................................................................................................................................................................................................................................................................................................................................................................................................................................................................................................................................................................................................................................................................................................................................................................................................................................................................................................................................................................................................................................................................................................................................................................................................................................................................................................................................................................................................................................................................................................................................................................................................................................................................................................................................................................................................................................................................................................................................................................................................................................................................................................................................................................................................................................................................................................................................................................................................................................................................................................................................................................................................................................................................................................................................................................................................................................................................................................................................................................................................................................................................................................................................................................................................................................................................................................................................................................................................................................................................................................................................................................................................................................................................................................................................................................................................................................................................................................................................................................................................................................................................................................................................................................................................................................................................................................................................................................................................................................................................................................................................................................................................................................................................................................................................................................................................................................................................................................................................................................................................................................................................................................................................................................................................................................................................................................................................................................................................................................................................................................................................................................................................................................................................................................................................................................................................................................................................................................................................................................................................................................................................................................................................................................................................................................................................................................................................................................................................................................................................................................................................................................................................."
     ]
    },
    {
     "name": "stdout",
     "output_type": "stream",
     "text": [
      "..................................................................................................................................................................................................................................................................................................................................................................................................................................................................................................................................................................................................................................................................................................................................................................................................................................................................................................................................................................................................................................................................................................................................................................................................................................................................................................................................................................................................................................................................................................................................................................................................................................................................................................................................................................................................................................................................................................................................................................................................................................................................................................................................................................................................................................................................................................................................................................................................................................................................................................................................................................................................................................................................................................................................................................................................................................................................................................................................................................................................................................................................................................................................................................................................................................................................................................................................................................................................................................................................................................................................................................................................................................................................................................................................................................................................................................................................................................................................................................................................................................................................................................................................................................................................................................................................................................................................................................................................................................................................................................................................................................................................................................................................................................................................................................................................................................................................................................................................................................................................................................................................................................................................................................................................................................................................................................................................................................................................................................................................................................................................................................................................................................................................................................................................................................................................................................................................................................................................................................................................................................................................................................................................................................................................................................................................................................................................................................................................................................................................................................................................................................................................................................................................................................................................................................................................................................................................................................................................................................................................................................................................................................................................................................................................................................................................................................................................................................................................................................................................................................................................................................................................................................................................................................................................................................................................................................................................................................................................................................................................................................................................................................................................................................................................................................................................................................................................................................................................................................................................................................................................."
     ]
    },
    {
     "name": "stdout",
     "output_type": "stream",
     "text": [
      ".............................................................................................................................................................................................................................................................................................................................................................................................................................................................................................................................................................................................................................................................................................................................................................................................\n",
      "Epoch: 0004 cost= 12.550288200\n"
     ]
    },
    {
     "name": "stdout",
     "output_type": "stream",
     "text": [
      "................................................................................................................................................................................................................................................................................................................................................................................................................................................................................................................................................................................................................................................................................................................................................................................................................................................................................................................................................................................................................................................................................................................................................................................................................................................................................................................................................................................................................................................................................................................................................................................................................................................................................................................................................................................................................................................................................................................................................................................................................................................................................................................................................................................................................................................................................................................................................................................................................................................................................................................................................................................................................................................................................................................................................................................................................................................................................................................................................................................................................................................................................................................................................................................................................................................................................................................................................................................................................................................................................................................................................................................................................................................................................................................................................................................................................................................................................................................................................................................................................................................................................................................................................................................................................................................................................................................................................................................................................................................................................................................................................................................................................................................................................................................................................................................................................................................................................................................................................................................................................................................................................................................................................................................................................................................................................................................................................................................................................................................................................................................................................................................................................................................................................................................................................................................................................................................................................................................................................................................................................................................................................................................................................................................................................................................................................................................................................................................................................................................................................................................................................................................................................................................................................................................................................................................................................................................................................................................................................................................................................................................................................................................................................................................................................................................................................................................................................................................................................................................................................................................................................................................................................................................................................................................................................................................................................................................................................................................................................................................................................................................................................................................................................................................................................................................................................................................................................................................................................................................................................................................................................................"
     ]
    },
    {
     "name": "stdout",
     "output_type": "stream",
     "text": [
      "..............................................................................................................................................................................................................................................................................................................................................................................................................................................................................................................................................................................................................................................................................................................................................................................................................................................................................................................................................................................................................................................................................................................................................................................................................................................................................................................................................................................................................................................................................................................................................................................................................................................................................................................................................................................................................................................................................................................................................................................................................................................................................................................................................................................................................................................................................................................................................................................................................................................................................................................................................................................................................................................................................................................................................................................................................................................................................................................................................................................................................................................................................................................................................................................................................................................................................................................................................................................................................................................................................................................................................................................................................................................................................................................................................................................................................................................................................................................................................................................................................................................................................................................................................................................................................................................................................................................................................................................................................................................................................................................................................................................................................................................................................................................................................................................................................................................................................................................................................................................................................................................................................................................................................................................................................................................................................................................................................................................................................................................................................................................................................................................................................................................................................................................................................................................................................................................................................................................................................................................................................................................................................................................................................................................................................................................................................................................................................................................................................................................................................................................................................................................................................................................................................................................................................................................................................................................................................................................................................................................................................................................................................................................................................................................................................................................................................................................................................................................................................................................................................................................................................................................................................................................................................................................................................................................................................................................................................................................................................................................................................................................................................................................................................................................................................................................................................................................................................................................................................................................................................................................................................."
     ]
    },
    {
     "name": "stdout",
     "output_type": "stream",
     "text": [
      "....................................................................................................................................................................................................................................................................................................................................................................................................................................................................................................................................................................................................................................................................................................................................................\n",
      "Epoch: 0005 cost= 12.553545952\n",
      "Optimization Finished!\n",
      "(17155, 22, 751) (1560, 22, 751) (17155,) (1560,)\n"
     ]
    },
    {
     "data": {
      "text/plain": [
       "array([[[ 1.0990014 ,  1.1593001 ,  1.1842749 , ...,  1.1808374 ,\n",
       "          1.2727177 ,  1.9722248 ],\n",
       "        [-0.10834339, -0.04866406,  0.24335992, ...,  1.0468969 ,\n",
       "          2.1997957 ,  2.678969  ],\n",
       "        [-0.17908274,  1.085789  ,  1.4755846 , ...,  2.1869323 ,\n",
       "          1.6568418 ,  1.2659278 ],\n",
       "        ...,\n",
       "        [-2.2411227 , -1.2820715 , -0.8189917 , ...,  0.91025054,\n",
       "          0.05733442, -0.211635  ],\n",
       "        [-3.26806   , -3.0882277 , -3.1411586 , ...,  1.0138388 ,\n",
       "          0.87977767,  0.93783534],\n",
       "        [-0.5065404 , -0.4034387 , -0.2940737 , ...,  0.8117882 ,\n",
       "          0.8854362 ,  0.24137938]],\n",
       "\n",
       "       [[ 1.9841928 ,  1.2922359 ,  0.94638324, ..., -0.73517346,\n",
       "         -0.9077567 , -0.5074451 ],\n",
       "        [ 0.4044593 ,  1.8346581 ,  1.6811755 , ...,  0.5980596 ,\n",
       "          0.602608  , -0.27723068],\n",
       "        [ 1.3068863 ,  0.63606596,  1.1784325 , ..., -2.1324341 ,\n",
       "         -2.2782357 , -1.1929959 ],\n",
       "        ...,\n",
       "        [ 0.1789779 , -0.03526211, -0.0090996 , ...,  0.9117944 ,\n",
       "          1.1137357 ,  0.4242823 ],\n",
       "        [-0.46368694, -0.3921945 , -0.46374595, ..., -0.11431383,\n",
       "          0.06298508, -0.63824517],\n",
       "        [-0.12974203,  0.30002463, -0.17485178, ..., -1.5258619 ,\n",
       "         -1.4307848 , -1.9632207 ]],\n",
       "\n",
       "       [[-0.9152552 , -0.36499375,  0.07254827, ...,  1.5579208 ,\n",
       "          1.9741485 ,  1.5772266 ],\n",
       "        [ 3.1679828 ,  2.7271738 ,  3.1779912 , ..., -0.23562306,\n",
       "         -0.23006588, -1.0800784 ],\n",
       "        [-1.9779781 , -1.798944  , -2.091361  , ..., -2.1249046 ,\n",
       "         -1.0008246 , -0.42178988],\n",
       "        ...,\n",
       "        [-0.99466467,  0.9152312 ,  1.3623894 , ..., -0.8585876 ,\n",
       "         -0.877389  ,  0.70909524],\n",
       "        [ 2.9214993 ,  1.6575443 ,  0.3731177 , ...,  1.7927276 ,\n",
       "          1.705631  ,  1.6443521 ],\n",
       "        [-0.08739722, -0.8737751 , -0.7487267 , ..., -0.98450506,\n",
       "         -0.90701854, -1.2373408 ]],\n",
       "\n",
       "       ...,\n",
       "\n",
       "       [[ 0.7844522 ,  1.4907494 ,  1.668137  , ..., -1.9914142 ,\n",
       "         -2.2818856 , -1.814385  ],\n",
       "        [ 1.0749466 ,  1.6355543 ,  2.1938581 , ...,  0.2023043 ,\n",
       "          1.1184268 ,  0.42962867],\n",
       "        [-2.3762333 , -1.7374855 , -1.1224707 , ..., -1.7347634 ,\n",
       "         -1.2491255 , -1.2792187 ],\n",
       "        ...,\n",
       "        [ 2.0663624 ,  2.0910354 ,  2.2784328 , ...,  1.1116539 ,\n",
       "          1.0060644 ,  0.8622931 ],\n",
       "        [-0.06812005, -0.06079568, -0.69851923, ...,  1.5700775 ,\n",
       "         -0.77001905, -1.4625368 ],\n",
       "        [ 0.7710018 , -0.37360466, -0.4674827 , ...,  1.0531514 ,\n",
       "          0.7732725 ,  0.10685563]],\n",
       "\n",
       "       [[-0.7777015 , -1.741162  , -0.43020606, ...,  1.2560816 ,\n",
       "          1.1157463 ,  2.3958719 ],\n",
       "        [-0.15601784, -1.1254582 , -0.7910566 , ..., -0.3130154 ,\n",
       "          0.16241151,  0.1253776 ],\n",
       "        [-3.5892448 , -2.1724305 , -1.6478323 , ...,  1.4058617 ,\n",
       "         -0.12677003, -0.19084096],\n",
       "        ...,\n",
       "        [-0.9621346 ,  1.1839029 ,  1.7843367 , ...,  1.6488343 ,\n",
       "         -0.69974387, -0.207075  ],\n",
       "        [-0.2015184 ,  1.3096156 ,  1.7481668 , ..., -1.9864085 ,\n",
       "         -2.35641   , -1.7953365 ],\n",
       "        [ 0.9797511 ,  2.3507729 ,  1.612555  , ..., -2.4430728 ,\n",
       "          0.3071401 ,  0.55533135]],\n",
       "\n",
       "       [[-0.5112672 , -1.1980343 ,  0.16929308, ..., -1.0061561 ,\n",
       "         -0.5650923 ,  0.502264  ],\n",
       "        [-0.6250883 , -0.6553854 ,  0.12287873, ...,  2.1780155 ,\n",
       "          1.6136577 ,  0.92912143],\n",
       "        [-0.8544488 , -0.95461917, -0.9371477 , ...,  3.037353  ,\n",
       "          3.2386105 ,  2.9753494 ],\n",
       "        ...,\n",
       "        [-3.125875  , -3.184091  , -3.0488858 , ...,  1.0400198 ,\n",
       "          0.36861944,  0.25955707],\n",
       "        [ 1.5949249 ,  1.1361393 ,  0.7515378 , ...,  0.13213678,\n",
       "         -0.65654755, -0.94403315],\n",
       "        [ 0.5241394 ,  1.2977912 ,  1.7797604 , ..., -0.23873007,\n",
       "         -1.2690257 , -1.0427605 ]]], dtype=float32)"
      ]
     },
     "metadata": {},
     "output_type": "display_data"
    },
    {
     "data": {
      "text/plain": [
       "array([5, 5, 5, ..., 6, 6, 6])"
      ]
     },
     "metadata": {},
     "output_type": "display_data"
    },
    {
     "name": "stdout",
     "output_type": "stream",
     "text": [
      "train_win_x shape:  (17155, 14, 100, 22)\n",
      "test_win_x shape:  (1560, 14, 100, 22)\n",
      "train_win_x shape:  (17155, 14, 22, 100)\n",
      "test_win_x shape:  (1560, 14, 22, 100)\n",
      "WARNING:tensorflow:From /home/yaoxiaojian/Desktop/kaggle/EEG/cnn_class.py:71: batch_normalization (from tensorflow.python.layers.normalization) is deprecated and will be removed in a future version.\n",
      "Instructions for updating:\n",
      "Use keras.layers.batch_normalization instead.\n",
      "conv 1 shape:  [None, 1, 56, 40]\n",
      "pool 1 shape:  [None, 1, 1, 40]\n",
      "WARNING:tensorflow:From <ipython-input-3-9257d6e41e2a>:257: calling dropout (from tensorflow.python.ops.nn_ops) with keep_prob is deprecated and will be removed in a future version.\n",
      "Instructions for updating:\n",
      "Please use `rate` instead of `keep_prob`. Rate should be set to `rate = 1 - keep_prob`.\n",
      "WARNING:tensorflow:From <ipython-input-3-9257d6e41e2a>:268: BasicLSTMCell.__init__ (from tensorflow.python.ops.rnn_cell_impl) is deprecated and will be removed in a future version.\n",
      "Instructions for updating:\n",
      "This class is equivalent as tf.keras.layers.LSTMCell, and will be replaced by that in Tensorflow 2.0.\n",
      "WARNING:tensorflow:From <ipython-input-3-9257d6e41e2a>:271: MultiRNNCell.__init__ (from tensorflow.python.ops.rnn_cell_impl) is deprecated and will be removed in a future version.\n",
      "Instructions for updating:\n",
      "This class is equivalent as tf.keras.layers.StackedRNNCells, and will be replaced by that in Tensorflow 2.0.\n",
      "WARNING:tensorflow:From <ipython-input-3-9257d6e41e2a>:276: dynamic_rnn (from tensorflow.python.ops.rnn) is deprecated and will be removed in a future version.\n",
      "Instructions for updating:\n",
      "Please use `keras.layers.RNN(cell)`, which is equivalent to this API\n",
      "WARNING:tensorflow:From <ipython-input-3-9257d6e41e2a>:295: softmax_cross_entropy_with_logits (from tensorflow.python.ops.nn_ops) is deprecated and will be removed in a future version.\n",
      "Instructions for updating:\n",
      "\n",
      "Future major versions of TensorFlow will allow gradients to flow\n",
      "into the labels input on backprop by default.\n",
      "\n",
      "See `tf.nn.softmax_cross_entropy_with_logits_v2`.\n",
      "\n",
      "WARNING:tensorflow:From /home/yaoxiaojian/anaconda3/lib/python3.7/site-packages/tensorflow/python/ops/math_ops.py:3066: to_int32 (from tensorflow.python.ops.math_ops) is deprecated and will be removed in a future version.\n",
      "Instructions for updating:\n",
      "Use tf.cast instead.\n",
      "(Thu Dec  3 23:41:41 2020) Epoch:  1  Training Cost:  1.7911310072195425 Training Accuracy:  0.17830904173955278\n"
     ]
    },
    {
     "name": "stderr",
     "output_type": "stream",
     "text": [
      "/home/yaoxiaojian/anaconda3/lib/python3.7/site-packages/sklearn/metrics/classification.py:1135: UndefinedMetricWarning: F-score is ill-defined and being set to 0.0 in labels with no predicted samples.\n",
      "  'precision', 'predicted', average, warn_for)\n"
     ]
    },
    {
     "name": "stdout",
     "output_type": "stream",
     "text": [
      "(Thu Dec  3 23:41:52 2020) Epoch:  1 Test Cost:  1.7912423680197045 Test Accuracy:  0.18623906837086635 Test f1:  0.0923446576806906 Test AUC:  0.5377708712920239 \n",
      "\n",
      "(Thu Dec  3 23:43:30 2020) Epoch:  2  Training Cost:  1.7899779884877776 Training Accuracy:  0.19918367773207563\n",
      "(Thu Dec  3 23:43:41 2020) Epoch:  2 Test Cost:  1.790635849435545 Test Accuracy:  0.1868804691744963 Test f1:  0.12587909377778397 Test AUC:  0.5564690249493287 \n",
      "\n",
      "(Thu Dec  3 23:45:25 2020) Epoch:  3  Training Cost:  1.762226174593667 Training Accuracy:  0.2342274104845072\n",
      "(Thu Dec  3 23:45:36 2020) Epoch:  3 Test Cost:  1.7708758022625315 Test Accuracy:  0.21137026577927281 Test f1:  0.1666130675074558 Test AUC:  0.6122345028504447 \n",
      "\n",
      "(Thu Dec  3 23:47:14 2020) Epoch:  4  Training Cost:  1.704872859045646 Training Accuracy:  0.24880466988152736\n",
      "(Thu Dec  3 23:47:25 2020) Epoch:  4 Test Cost:  1.734586893990853 Test Accuracy:  0.23253644423738512 Test f1:  0.1586782757699468 Test AUC:  0.6398085220364915 \n",
      "\n",
      "(Thu Dec  3 23:49:04 2020) Epoch:  5  Training Cost:  1.6703861176793846 Training Accuracy:  0.2565014629600347\n",
      "(Thu Dec  3 23:49:14 2020) Epoch:  5 Test Cost:  1.7054029161658997 Test Accuracy:  0.24274052647390448 Test f1:  0.18348544220014382 Test AUC:  0.6585776712051385 \n",
      "\n",
      "(Thu Dec  3 23:50:57 2020) Epoch:  6  Training Cost:  1.6567491440314246 Training Accuracy:  0.26425656516419904\n",
      "(Thu Dec  3 23:51:08 2020) Epoch:  6 Test Cost:  1.7087359282435204 Test Accuracy:  0.2422740567182313 Test f1:  0.20671300072653576 Test AUC:  0.664844192238248 \n",
      "\n",
      "(Thu Dec  3 23:52:48 2020) Epoch:  7  Training Cost:  1.6417388055484428 Training Accuracy:  0.2661807635782759\n",
      "(Thu Dec  3 23:52:58 2020) Epoch:  7 Test Cost:  1.6894542860915291 Test Accuracy:  0.24664723453038637 Test f1:  0.1966710086369422 Test AUC:  0.6669107224616989 \n",
      "\n",
      "(Thu Dec  3 23:54:38 2020) Epoch:  8  Training Cost:  1.626983451704242 Training Accuracy:  0.27055394148166256\n",
      "(Thu Dec  3 23:54:48 2020) Epoch:  8 Test Cost:  1.6848088876151484 Test Accuracy:  0.24069971146805988 Test f1:  0.18876068293767947 Test AUC:  0.6776612885388804 \n",
      "\n",
      "(Thu Dec  3 23:56:32 2020) Epoch:  9  Training Cost:  1.6196117897422946 Training Accuracy:  0.2738775567871141\n",
      "(Thu Dec  3 23:56:43 2020) Epoch:  9 Test Cost:  1.6975204155674481 Test Accuracy:  0.24145772790769793 Test f1:  0.18444186479135846 Test AUC:  0.6752286155760394 \n",
      "\n",
      "(Thu Dec  3 23:58:21 2020) Epoch:  10  Training Cost:  1.6079191852936592 Training Accuracy:  0.27679300854313826\n",
      "(Thu Dec  3 23:58:32 2020) Epoch:  10 Test Cost:  1.6819449012550598 Test Accuracy:  0.2479300297818448 Test f1:  0.17829658455446107 Test AUC:  0.67971565048153 \n",
      "\n",
      "(Fri Dec  4 00:00:11 2020) Epoch:  11  Training Cost:  1.5930196740536926 Training Accuracy:  0.27766764411599576\n",
      "(Fri Dec  4 00:00:22 2020) Epoch:  11 Test Cost:  1.6613030461458702 Test Accuracy:  0.2578425658035904 Test f1:  0.17891834918245708 Test AUC:  0.6816811450259623 \n",
      "\n",
      "(Fri Dec  4 00:02:04 2020) Epoch:  12  Training Cost:  1.5947190400115254 Training Accuracy:  0.2797084605511354\n",
      "(Fri Dec  4 00:02:15 2020) Epoch:  12 Test Cost:  1.6865145339910212 Test Accuracy:  0.2507288639816529 Test f1:  0.17782136374398796 Test AUC:  0.6808373217490666 \n",
      "\n",
      "(Fri Dec  4 00:04:46 2020) Epoch:  13  Training Cost:  1.580036404529049 Training Accuracy:  0.2857726004441695\n",
      "(Fri Dec  4 00:05:06 2020) Epoch:  13 Test Cost:  1.6679633167672783 Test Accuracy:  0.2533527710825292 Test f1:  0.18695814307645375 Test AUC:  0.6829256691131639 \n",
      "\n",
      "(Fri Dec  4 00:08:44 2020) Epoch:  14  Training Cost:  1.572312918904919 Training Accuracy:  0.2886880525607757\n",
      "(Fri Dec  4 00:09:04 2020) Epoch:  14 Test Cost:  1.6589644000412076 Test Accuracy:  0.26116618532307295 Test f1:  0.2400099190115518 Test AUC:  0.6870068866860508 \n",
      "\n",
      "(Fri Dec  4 00:12:40 2020) Epoch:  15  Training Cost:  1.561962180512987 Training Accuracy:  0.2976676445139393\n",
      "(Fri Dec  4 00:13:00 2020) Epoch:  15 Test Cost:  1.6544950845290203 Test Accuracy:  0.26874635989394896 Test f1:  0.23905503693067578 Test AUC:  0.68825753870063 \n",
      "\n",
      "(Fri Dec  4 00:16:37 2020) Epoch:  16  Training Cost:  1.5554794590952792 Training Accuracy:  0.2978425715868049\n",
      "(Fri Dec  4 00:16:57 2020) Epoch:  16 Test Cost:  1.6430508634439362 Test Accuracy:  0.2746355708503862 Test f1:  0.2225302638795746 Test AUC:  0.6895005833597128 \n",
      "\n",
      "(Fri Dec  4 00:20:35 2020) Epoch:  17  Training Cost:  1.548545629915621 Training Accuracy:  0.2986005889908913\n",
      "(Fri Dec  4 00:20:55 2020) Epoch:  17 Test Cost:  1.6602471021452034 Test Accuracy:  0.2689795934945432 Test f1:  0.2214721765875952 Test AUC:  0.6931721533480828 \n",
      "\n",
      "(Fri Dec  4 00:22:46 2020) Epoch:  18  Training Cost:  1.5825526479381862 Training Accuracy:  0.28320700298592927\n",
      "(Fri Dec  4 00:22:56 2020) Epoch:  18 Test Cost:  1.7188513431187622 Test Accuracy:  0.23679300478874074 Test f1:  0.17682622494984354 Test AUC:  0.6919803953005199 \n",
      "\n",
      "(Fri Dec  4 00:24:37 2020) Epoch:  19  Training Cost:  1.5264053553255932 Training Accuracy:  0.31160350492327277\n",
      "(Fri Dec  4 00:24:48 2020) Epoch:  19 Test Cost:  1.6128091484047582 Test Accuracy:  0.28064140235630486 Test f1:  0.23651006033265556 Test AUC:  0.6953416574608611 \n",
      "\n",
      "(Fri Dec  4 00:26:28 2020) Epoch:  20  Training Cost:  1.5376425713213817 Training Accuracy:  0.30390671167967964\n",
      "(Fri Dec  4 00:26:39 2020) Epoch:  20 Test Cost:  1.671458382717722 Test Accuracy:  0.2586005851626396 Test f1:  0.201350242458085 Test AUC:  0.6951962683276895 \n",
      "\n",
      "(Fri Dec  4 00:28:26 2020) Epoch:  21  Training Cost:  1.5146163451080767 Training Accuracy:  0.3132361578784948\n",
      "(Fri Dec  4 00:28:37 2020) Epoch:  21 Test Cost:  1.6351456495485222 Test Accuracy:  0.26991253961366396 Test f1:  0.25309723924107735 Test AUC:  0.7020044707136861 \n",
      "\n",
      "(Fri Dec  4 00:32:02 2020) Epoch:  22  Training Cost:  1.5069664376122611 Training Accuracy:  0.32448980226548\n",
      "(Fri Dec  4 00:32:22 2020) Epoch:  22 Test Cost:  1.642022980267383 Test Accuracy:  0.2801749309932178 Test f1:  0.2655306776638003 Test AUC:  0.7033199140957703 \n",
      "\n",
      "(Fri Dec  4 00:35:58 2020) Epoch:  23  Training Cost:  1.4999293173714907 Training Accuracy:  0.3324198312123385\n",
      "(Fri Dec  4 00:36:18 2020) Epoch:  23 Test Cost:  1.6115813205958107 Test Accuracy:  0.3006414049003632 Test f1:  0.2737511067389111 Test AUC:  0.7049181564165952 \n",
      "\n",
      "(Fri Dec  4 00:39:57 2020) Epoch:  24  Training Cost:  1.4931984122918576 Training Accuracy:  0.32874636216952574\n",
      "(Fri Dec  4 00:40:18 2020) Epoch:  24 Test Cost:  1.6221689541207807 Test Accuracy:  0.2803498573796742 Test f1:  0.24258924233128612 Test AUC:  0.7013664466145906 \n",
      "\n",
      "(Fri Dec  4 00:43:45 2020) Epoch:  25  Training Cost:  1.4992666648358715 Training Accuracy:  0.33416910250576176\n",
      "(Fri Dec  4 00:44:05 2020) Epoch:  25 Test Cost:  1.6293977127130803 Test Accuracy:  0.2931778473643798 Test f1:  0.2608044699381274 Test AUC:  0.7075794262043205 \n",
      "\n",
      "(Fri Dec  4 00:47:42 2020) Epoch:  26  Training Cost:  1.477353865551184 Training Accuracy:  0.33644315511770223\n",
      "(Fri Dec  4 00:48:02 2020) Epoch:  26 Test Cost:  1.6074481021558578 Test Accuracy:  0.28857143312345096 Test f1:  0.25873072277215897 Test AUC:  0.7031095887524558 \n",
      "\n",
      "(Fri Dec  4 00:51:37 2020) Epoch:  27  Training Cost:  1.4655638826136685 Training Accuracy:  0.3386005892393888\n",
      "(Fri Dec  4 00:51:57 2020) Epoch:  27 Test Cost:  1.6136184606190673 Test Accuracy:  0.28985423194163046 Test f1:  0.25859717120716447 Test AUC:  0.7071357642899551 \n",
      "\n",
      "(Fri Dec  4 00:55:36 2020) Epoch:  28  Training Cost:  1.492111611366272 Training Accuracy:  0.3370262451057184\n",
      "(Fri Dec  4 00:55:56 2020) Epoch:  28 Test Cost:  1.5967486045798478 Test Accuracy:  0.31072886784726605 Test f1:  0.28508403744344696 Test AUC:  0.7095904953756835 \n",
      "\n",
      "(Fri Dec  4 00:59:34 2020) Epoch:  29  Training Cost:  1.5662224753605034 Training Accuracy:  0.302682222021912\n",
      "(Fri Dec  4 00:59:54 2020) Epoch:  29 Test Cost:  1.652277685845211 Test Accuracy:  0.2751020455412545 Test f1:  0.24555267149905016 Test AUC:  0.6963395652650082 \n",
      "\n",
      "(Fri Dec  4 01:03:00 2020) Epoch:  30  Training Cost:  1.4574125570736542 Training Accuracy:  0.3500874700638365\n",
      "(Fri Dec  4 01:03:20 2020) Epoch:  30 Test Cost:  1.6217459611225407 Test Accuracy:  0.2892128333275589 Test f1:  0.27784125715250235 Test AUC:  0.7029215884605027 \n",
      "\n"
     ]
    },
    {
     "name": "stdout",
     "output_type": "stream",
     "text": [
      "(Fri Dec  4 01:06:57 2020) Epoch:  31  Training Cost:  1.4606684255182918 Training Accuracy:  0.3546355750487775\n",
      "(Fri Dec  4 01:07:17 2020) Epoch:  31 Test Cost:  1.6227380698345841 Test Accuracy:  0.29102041255193967 Test f1:  0.2648404572485102 Test AUC:  0.7051967210308723 \n",
      "\n",
      "(Fri Dec  4 01:10:54 2020) Epoch:  32  Training Cost:  1.4573691824782347 Training Accuracy:  0.35603499193580784\n",
      "(Fri Dec  4 01:11:14 2020) Epoch:  32 Test Cost:  1.6025988623282652 Test Accuracy:  0.3105539414999089 Test f1:  0.283618136430417 Test AUC:  0.7051486290988391 \n",
      "\n",
      "(Fri Dec  4 01:14:51 2020) Epoch:  33  Training Cost:  1.490520566545492 Training Accuracy:  0.3281049627169923\n",
      "(Fri Dec  4 01:15:11 2020) Epoch:  33 Test Cost:  1.627625454306255 Test Accuracy:  0.2812828031338686 Test f1:  0.25015301512820765 Test AUC:  0.6990943467966262 \n",
      "\n",
      "(Fri Dec  4 01:18:48 2020) Epoch:  34  Training Cost:  1.427433993100425 Training Accuracy:  0.3622740589538399\n",
      "(Fri Dec  4 01:19:04 2020) Epoch:  34 Test Cost:  1.6208773122932056 Test Accuracy:  0.290903793992176 Test f1:  0.2582623397046339 Test AUC:  0.705041028536858 \n",
      "\n",
      "(Fri Dec  4 01:20:44 2020) Epoch:  35  Training Cost:  1.4773996168253374 Training Accuracy:  0.34104956922395585\n",
      "(Fri Dec  4 01:20:55 2020) Epoch:  35 Test Cost:  1.6255993629683558 Test Accuracy:  0.2903207036783327 Test f1:  0.2543328730155158 Test AUC:  0.697902454201085 \n",
      "\n",
      "(Fri Dec  4 01:22:36 2020) Epoch:  36  Training Cost:  1.4425432087728651 Training Accuracy:  0.3535860120164062\n",
      "(Fri Dec  4 01:22:47 2020) Epoch:  36 Test Cost:  1.6066832871895838 Test Accuracy:  0.2935277009323109 Test f1:  0.25872863388837053 Test AUC:  0.7002297040318857 \n",
      "\n",
      "(Fri Dec  4 01:24:26 2020) Epoch:  37  Training Cost:  1.4775950377606095 Training Accuracy:  0.3238484029432775\n",
      "(Fri Dec  4 01:24:37 2020) Epoch:  37 Test Cost:  1.6461976007539398 Test Accuracy:  0.272711374004624 Test f1:  0.22917446955373363 Test AUC:  0.6937856045182325 \n",
      "\n",
      "(Fri Dec  4 01:26:20 2020) Epoch:  38  Training Cost:  1.5707505983096866 Training Accuracy:  0.2734693934505604\n",
      "(Fri Dec  4 01:26:30 2020) Epoch:  38 Test Cost:  1.7432851119917265 Test Accuracy:  0.23510204271220606 Test f1:  0.1767013835010236 Test AUC:  0.6797480699212373 \n",
      "\n",
      "(Fri Dec  4 01:28:06 2020) Epoch:  39  Training Cost:  1.4963222898477715 Training Accuracy:  0.31988338805930605\n",
      "(Fri Dec  4 01:28:17 2020) Epoch:  39 Test Cost:  1.6751416260577499 Test Accuracy:  0.2677551049315547 Test f1:  0.23147281553361213 Test AUC:  0.6842451594570975 \n",
      "\n",
      "(Fri Dec  4 01:29:58 2020) Epoch:  40  Training Cost:  1.4484809503610905 Training Accuracy:  0.346472309681834\n",
      "(Fri Dec  4 01:30:09 2020) Epoch:  40 Test Cost:  1.6423817242547305 Test Accuracy:  0.2886880512965664 Test f1:  0.2579654600185543 Test AUC:  0.6857258827932657 \n",
      "\n",
      "(Fri Dec  4 01:31:50 2020) Epoch:  41  Training Cost:  1.530079732031586 Training Accuracy:  0.3063556912167774\n",
      "(Fri Dec  4 01:32:00 2020) Epoch:  41 Test Cost:  1.7528218739581873 Test Accuracy:  0.25918367612379284 Test f1:  0.21930150444806076 Test AUC:  0.6735937022739713 \n",
      "\n",
      "(Fri Dec  4 01:33:42 2020) Epoch:  42  Training Cost:  1.7607173290614135 Training Accuracy:  0.22874636062727724\n",
      "(Fri Dec  4 01:33:52 2020) Epoch:  42 Test Cost:  1.940007559690114 Test Accuracy:  0.21906705758053777 Test f1:  0.15477659110469885 Test AUC:  0.6714779820944132 \n",
      "\n",
      "(Fri Dec  4 01:35:31 2020) Epoch:  43  Training Cost:  1.65232883764773 Training Accuracy:  0.2535277022564724\n",
      "(Fri Dec  4 01:35:42 2020) Epoch:  43 Test Cost:  1.8524163762612524 Test Accuracy:  0.23119533682356075 Test f1:  0.1718048546989115 Test AUC:  0.6768558397841106 \n",
      "\n",
      "(Fri Dec  4 01:37:20 2020) Epoch:  44  Training Cost:  1.7463057492981846 Training Accuracy:  0.23475219147719725\n",
      "(Fri Dec  4 01:37:31 2020) Epoch:  44 Test Cost:  1.9541992284813705 Test Accuracy:  0.2228571453091007 Test f1:  0.1626646918049836 Test AUC:  0.6766432225695365 \n",
      "\n",
      "(Fri Dec  4 01:39:09 2020) Epoch:  45  Training Cost:  1.8864250216817717 Training Accuracy:  0.22379009224496152\n",
      "(Fri Dec  4 01:39:19 2020) Epoch:  45 Test Cost:  2.146686184441035 Test Accuracy:  0.20612245032199966 Test f1:  0.14255710262218793 Test AUC:  0.6695377166769254 \n",
      "\n",
      "(Fri Dec  4 01:41:00 2020) Epoch:  46  Training Cost:  1.7028247773125984 Training Accuracy:  0.25055394122708297\n",
      "(Fri Dec  4 01:41:10 2020) Epoch:  46 Test Cost:  1.9962818220127427 Test Accuracy:  0.2162682242800126 Test f1:  0.16167445551541046 Test AUC:  0.668298768114491 \n",
      "\n",
      "(Fri Dec  4 01:42:53 2020) Epoch:  47  Training Cost:  1.8779593619938841 Training Accuracy:  0.2123032116377319\n",
      "(Fri Dec  4 01:43:04 2020) Epoch:  47 Test Cost:  2.1252422355006804 Test Accuracy:  0.20402332369249 Test f1:  0.12807217544577848 Test AUC:  0.6650845892849463 \n",
      "\n",
      "(Fri Dec  4 01:44:45 2020) Epoch:  48  Training Cost:  1.7447140467410185 Training Accuracy:  0.2432653112765999\n",
      "(Fri Dec  4 01:44:55 2020) Epoch:  48 Test Cost:  1.9872767050481746 Test Accuracy:  0.22274052522881038 Test f1:  0.15666989292040376 Test AUC:  0.6612812874095552 \n",
      "\n",
      "(Fri Dec  4 01:46:39 2020) Epoch:  49  Training Cost:  1.622643659622259 Training Accuracy:  0.27259475789073606\n",
      "(Fri Dec  4 01:46:49 2020) Epoch:  49 Test Cost:  1.8853906486541814 Test Accuracy:  0.22326530917132215 Test f1:  0.16713766164687785 Test AUC:  0.6677616178409365 \n",
      "\n",
      "(Fri Dec  4 01:48:32 2020) Epoch:  50  Training Cost:  1.800544906218615 Training Accuracy:  0.22956268713095446\n",
      "(Fri Dec  4 01:48:42 2020) Epoch:  50 Test Cost:  2.084848974327999 Test Accuracy:  0.21125364556865164 Test f1:  0.1334132710441792 Test AUC:  0.66187273625632 \n",
      "\n",
      "(Fri Dec  4 01:50:23 2020) Epoch:  51  Training Cost:  1.9960271616023761 Training Accuracy:  0.1974927155903755\n",
      "(Fri Dec  4 01:50:33 2020) Epoch:  51 Test Cost:  2.317115826057623 Test Accuracy:  0.19201166209691467 Test f1:  0.09405125810580904 Test AUC:  0.6591199081263681 \n",
      "\n",
      "(Fri Dec  4 01:52:17 2020) Epoch:  52  Training Cost:  1.9506555742147018 Training Accuracy:  0.21370262847262986\n",
      "(Fri Dec  4 01:52:28 2020) Epoch:  52 Test Cost:  2.238197934558023 Test Accuracy:  0.19743440338022158 Test f1:  0.12417580634218878 Test AUC:  0.64596873451038 \n",
      "\n",
      "(Fri Dec  4 01:54:07 2020) Epoch:  53  Training Cost:  1.6961351215318063 Training Accuracy:  0.24384840164257557\n",
      "(Fri Dec  4 01:54:18 2020) Epoch:  53 Test Cost:  2.0218295749005355 Test Accuracy:  0.2102040827795646 Test f1:  0.12734222718473703 Test AUC:  0.6549444986874817 \n",
      "\n",
      "(Fri Dec  4 01:55:56 2020) Epoch:  54  Training Cost:  1.7232486489562877 Training Accuracy:  0.24839650677522487\n",
      "(Fri Dec  4 01:56:06 2020) Epoch:  54 Test Cost:  2.0179108878961456 Test Accuracy:  0.2198250759838274 Test f1:  0.15976390132863028 Test AUC:  0.660237970564491 \n",
      "\n",
      "(Fri Dec  4 01:57:46 2020) Epoch:  55  Training Cost:  1.748638965298066 Training Accuracy:  0.23142857634117583\n",
      "(Fri Dec  4 01:57:56 2020) Epoch:  55 Test Cost:  2.0880625343183734 Test Accuracy:  0.2057142864728113 Test f1:  0.11819868937852544 Test AUC:  0.6483646011561164 \n",
      "\n",
      "(Fri Dec  4 01:59:35 2020) Epoch:  56  Training Cost:  1.9056297075991728 Training Accuracy:  0.21865889681150197\n",
      "(Fri Dec  4 01:59:46 2020) Epoch:  56 Test Cost:  2.2748927192507264 Test Accuracy:  0.19580175006007314 Test f1:  0.11491910075295318 Test AUC:  0.6565088439830091 \n",
      "\n",
      "(Fri Dec  4 02:01:25 2020) Epoch:  57  Training Cost:  1.9652974210397147 Training Accuracy:  0.21346939232189524\n",
      "(Fri Dec  4 02:01:36 2020) Epoch:  57 Test Cost:  2.3226585103541004 Test Accuracy:  0.1982507303748117 Test f1:  0.11644991268067899 Test AUC:  0.6625035812492346 \n",
      "\n",
      "(Fri Dec  4 02:03:19 2020) Epoch:  58  Training Cost:  1.9137471432936086 Training Accuracy:  0.2104956313837374\n",
      "(Fri Dec  4 02:03:29 2020) Epoch:  58 Test Cost:  2.29077494870817 Test Accuracy:  0.19341107907517657 Test f1:  0.09631188714273382 Test AUC:  0.6507710066035816 \n",
      "\n",
      "(Fri Dec  4 02:05:10 2020) Epoch:  59  Training Cost:  2.1266862304843204 Training Accuracy:  0.18997084958907814\n",
      "(Fri Dec  4 02:05:21 2020) Epoch:  59 Test Cost:  2.556205853915423 Test Accuracy:  0.18244898016876798 Test f1:  0.07863328367533416 Test AUC:  0.6492274494182864 \n",
      "\n",
      "(Fri Dec  4 02:06:58 2020) Epoch:  60  Training Cost:  1.649270010620095 Training Accuracy:  0.2565597721161022\n"
     ]
    },
    {
     "name": "stdout",
     "output_type": "stream",
     "text": [
      "(Fri Dec  4 02:07:08 2020) Epoch:  60 Test Cost:  2.061411458931581 Test Accuracy:  0.21486880480808698 Test f1:  0.13105037860266158 Test AUC:  0.6548752777032912 \n",
      "\n",
      "(Fri Dec  4 02:08:51 2020) Epoch:  61  Training Cost:  1.837464841044679 Training Accuracy:  0.2326530662726383\n",
      "(Fri Dec  4 02:09:02 2020) Epoch:  61 Test Cost:  2.2438153669715972 Test Accuracy:  0.19953352907569347 Test f1:  0.1246315951658839 Test AUC:  0.6485963460920197 \n",
      "\n",
      "(Fri Dec  4 02:10:43 2020) Epoch:  62  Training Cost:  1.8256269599188868 Training Accuracy:  0.22338192897357328\n",
      "(Fri Dec  4 02:10:53 2020) Epoch:  62 Test Cost:  2.192325948070159 Test Accuracy:  0.19790087524725467 Test f1:  0.1064385192820096 Test AUC:  0.6497942523378332 \n",
      "\n",
      "(Fri Dec  4 02:12:36 2020) Epoch:  63  Training Cost:  1.788724702266493 Training Accuracy:  0.23253644817772134\n",
      "(Fri Dec  4 02:12:46 2020) Epoch:  63 Test Cost:  2.2159597085099176 Test Accuracy:  0.2044897962024886 Test f1:  0.11208696586525396 Test AUC:  0.6534340408964884 \n",
      "\n",
      "(Fri Dec  4 02:14:29 2020) Epoch:  64  Training Cost:  2.686850006865343 Training Accuracy:  0.17311953723691295\n",
      "(Fri Dec  4 02:14:40 2020) Epoch:  64 Test Cost:  3.1961969353714768 Test Accuracy:  0.16938775581886054 Test f1:  0.05224988904425673 Test AUC:  0.6306824213055043 \n",
      "\n",
      "(Fri Dec  4 02:16:22 2020) Epoch:  65  Training Cost:  1.944035615448354 Training Accuracy:  0.2051895087079821\n",
      "(Fri Dec  4 02:16:33 2020) Epoch:  65 Test Cost:  2.4153302517646256 Test Accuracy:  0.18956268217751304 Test f1:  0.08984966000391696 Test AUC:  0.6342579925643008 \n",
      "\n",
      "(Fri Dec  4 02:18:13 2020) Epoch:  66  Training Cost:  1.6606202267696837 Training Accuracy:  0.25801749816788877\n",
      "(Fri Dec  4 02:18:23 2020) Epoch:  66 Test Cost:  2.1086211702914 Test Accuracy:  0.206997086025188 Test f1:  0.13557665739805505 Test AUC:  0.6468513189691003 \n",
      "\n",
      "(Fri Dec  4 02:20:03 2020) Epoch:  67  Training Cost:  2.526456790206731 Training Accuracy:  0.17434402702935584\n",
      "(Fri Dec  4 02:20:13 2020) Epoch:  67 Test Cost:  2.9397340273718098 Test Accuracy:  0.1732944613686456 Test f1:  0.06271009868253889 Test AUC:  0.6311093040246181 \n",
      "\n",
      "(Fri Dec  4 02:21:52 2020) Epoch:  68  Training Cost:  2.4612970685124744 Training Accuracy:  0.1834402371643236\n",
      "(Fri Dec  4 02:22:03 2020) Epoch:  68 Test Cost:  2.94057571717671 Test Accuracy:  0.17504373226673192 Test f1:  0.074898105898186 Test AUC:  0.6334656247504851 \n",
      "\n",
      "(Fri Dec  4 02:23:42 2020) Epoch:  69  Training Cost:  1.506566686254896 Training Accuracy:  0.29924198835219307\n",
      "(Fri Dec  4 02:23:52 2020) Epoch:  69 Test Cost:  1.9819072704968577 Test Accuracy:  0.23434402359209672 Test f1:  0.16118986207586594 Test AUC:  0.6496779701566966 \n",
      "\n",
      "(Fri Dec  4 02:25:36 2020) Epoch:  70  Training Cost:  2.1102018629496717 Training Accuracy:  0.19912536877584874\n",
      "(Fri Dec  4 02:25:47 2020) Epoch:  70 Test Cost:  2.6473362787471917 Test Accuracy:  0.18314868748274907 Test f1:  0.08937167385621425 Test AUC:  0.6332786289047674 \n",
      "\n",
      "(Fri Dec  4 02:27:27 2020) Epoch:  71  Training Cost:  1.682886483683183 Training Accuracy:  0.2433819292976627\n",
      "(Fri Dec  4 02:27:38 2020) Epoch:  71 Test Cost:  2.16967403353477 Test Accuracy:  0.20588921335018062 Test f1:  0.11603345082337772 Test AUC:  0.6408052242095511 \n",
      "\n",
      "(Fri Dec  4 02:29:21 2020) Epoch:  72  Training Cost:  1.5803345148834473 Training Accuracy:  0.2722449036537732\n",
      "(Fri Dec  4 02:29:32 2020) Epoch:  72 Test Cost:  2.0653258738642877 Test Accuracy:  0.21982507355098474 Test f1:  0.1387789017121144 Test AUC:  0.6441611530557667 \n",
      "\n",
      "(Fri Dec  4 02:31:14 2020) Epoch:  73  Training Cost:  2.1987922049472353 Training Accuracy:  0.19335277379427984\n",
      "(Fri Dec  4 02:31:25 2020) Epoch:  73 Test Cost:  2.745359666354455 Test Accuracy:  0.18373177897825882 Test f1:  0.083453784998667 Test AUC:  0.6288477167266378 \n",
      "\n",
      "(Fri Dec  4 02:33:07 2020) Epoch:  74  Training Cost:  2.4878174035264173 Training Accuracy:  0.18093294851460193\n",
      "(Fri Dec  4 02:33:18 2020) Epoch:  74 Test Cost:  3.076155733089058 Test Accuracy:  0.17399416979043894 Test f1:  0.06111440964714208 Test AUC:  0.6182442796153331 \n",
      "\n",
      "(Fri Dec  4 02:35:03 2020) Epoch:  75  Training Cost:  1.440054093574991 Training Accuracy:  0.33218659523103394\n",
      "(Fri Dec  4 02:35:14 2020) Epoch:  75 Test Cost:  1.9405880512371008 Test Accuracy:  0.23586006012498115 Test f1:  0.17202994410169517 Test AUC:  0.6477615343467339 \n",
      "\n",
      "(Fri Dec  4 02:36:54 2020) Epoch:  76  Training Cost:  1.53719683833442 Training Accuracy:  0.2938192478943149\n",
      "(Fri Dec  4 02:37:04 2020) Epoch:  76 Test Cost:  2.0724803104692575 Test Accuracy:  0.22174927193465108 Test f1:  0.1471471001229461 Test AUC:  0.6394581365598393 \n",
      "\n",
      "(Fri Dec  4 02:38:48 2020) Epoch:  77  Training Cost:  1.690014516507919 Training Accuracy:  0.2528279936218053\n",
      "(Fri Dec  4 02:38:59 2020) Epoch:  77 Test Cost:  2.2830474104895186 Test Accuracy:  0.21288629842829773 Test f1:  0.12795917997046632 Test AUC:  0.6483338868182991 \n",
      "\n",
      "(Fri Dec  4 02:40:39 2020) Epoch:  78  Training Cost:  2.244642523287337 Training Accuracy:  0.1845481089443924\n",
      "(Fri Dec  4 02:40:49 2020) Epoch:  78 Test Cost:  2.862331201418496 Test Accuracy:  0.17661807615277372 Test f1:  0.07019316576505517 Test AUC:  0.6259935763613824 \n",
      "\n",
      "(Fri Dec  4 02:42:35 2020) Epoch:  79  Training Cost:  2.047436003573782 Training Accuracy:  0.20711370706558227\n",
      "(Fri Dec  4 02:42:45 2020) Epoch:  79 Test Cost:  2.6989346871918216 Test Accuracy:  0.19142857183085935 Test f1:  0.10121221257447051 Test AUC:  0.6364553560837115 \n",
      "\n",
      "(Fri Dec  4 02:44:22 2020) Epoch:  80  Training Cost:  2.171652828395888 Training Accuracy:  0.19469388174246074\n",
      "(Fri Dec  4 02:44:33 2020) Epoch:  80 Test Cost:  2.8693032008218347 Test Accuracy:  0.18256559845483686 Test f1:  0.07684790691888609 Test AUC:  0.6290518992181116 \n",
      "\n",
      "(Fri Dec  4 02:46:10 2020) Epoch:  81  Training Cost:  1.827758940524332 Training Accuracy:  0.2284548154117067\n",
      "(Fri Dec  4 02:46:20 2020) Epoch:  81 Test Cost:  2.4703062524253356 Test Accuracy:  0.1941690959970388 Test f1:  0.10250991383017899 Test AUC:  0.6345486785808883 \n",
      "\n",
      "(Fri Dec  4 02:48:02 2020) Epoch:  82  Training Cost:  2.6452140335091348 Training Accuracy:  0.1794169135065885\n",
      "(Fri Dec  4 02:48:12 2020) Epoch:  82 Test Cost:  3.359945337244095 Test Accuracy:  0.17271137108955717 Test f1:  0.05753007339573255 Test AUC:  0.613489148442721 \n",
      "\n",
      "(Fri Dec  4 02:49:52 2020) Epoch:  83  Training Cost:  2.955401894789048 Training Accuracy:  0.1697959219879381\n",
      "(Fri Dec  4 02:50:03 2020) Epoch:  83 Test Cost:  3.5566349733675184 Test Accuracy:  0.1694460650140273 Test f1:  0.049967745858939545 Test AUC:  0.6185699166234471 \n",
      "\n",
      "(Fri Dec  4 02:51:39 2020) Epoch:  84  Training Cost:  2.2992197751303802 Training Accuracy:  0.18886297774818828\n",
      "(Fri Dec  4 02:51:50 2020) Epoch:  84 Test Cost:  2.9873939292771476 Test Accuracy:  0.18174927194247092 Test f1:  0.07983560387029838 Test AUC:  0.6318890061001358 \n",
      "\n",
      "(Fri Dec  4 02:53:29 2020) Epoch:  85  Training Cost:  2.1962343067538983 Training Accuracy:  0.19521866304794483\n",
      "(Fri Dec  4 02:53:40 2020) Epoch:  85 Test Cost:  2.9258248102560684 Test Accuracy:  0.17848396529348529 Test f1:  0.07323285747489681 Test AUC:  0.6278080975793616 \n",
      "\n",
      "(Fri Dec  4 02:55:20 2020) Epoch:  86  Training Cost:  3.1981042797294372 Training Accuracy:  0.17119533894447822\n",
      "(Fri Dec  4 02:55:31 2020) Epoch:  86 Test Cost:  3.8688639716921327 Test Accuracy:  0.17072886381917377 Test f1:  0.05233082284957235 Test AUC:  0.6083179757936682 \n",
      "\n",
      "(Fri Dec  4 02:57:12 2020) Epoch:  87  Training Cost:  2.813239208949898 Training Accuracy:  0.17300291918109525\n",
      "(Fri Dec  4 02:57:23 2020) Epoch:  87 Test Cost:  3.467877515481443 Test Accuracy:  0.17072886386696173 Test f1:  0.052398219954599624 Test AUC:  0.6118006984594198 \n",
      "\n",
      "(Fri Dec  4 02:59:02 2020) Epoch:  88  Training Cost:  2.2398057178922715 Training Accuracy:  0.19906705972404592\n",
      "(Fri Dec  4 02:59:13 2020) Epoch:  88 Test Cost:  2.994905075178897 Test Accuracy:  0.1798833825237202 Test f1:  0.07353928601359211 Test AUC:  0.621513998141964 \n",
      "\n",
      "(Fri Dec  4 03:00:52 2020) Epoch:  89  Training Cost:  2.5482144130562205 Training Accuracy:  0.1818658930871299\n",
      "(Fri Dec  4 03:01:02 2020) Epoch:  89 Test Cost:  3.312452960778951 Test Accuracy:  0.1753352777864078 Test f1:  0.06223579347647962 Test AUC:  0.6175642399957861 \n",
      "\n"
     ]
    },
    {
     "name": "stdout",
     "output_type": "stream",
     "text": [
      "(Fri Dec  4 03:02:41 2020) Epoch:  90  Training Cost:  3.5155317945313524 Training Accuracy:  0.16857143214770726\n",
      "(Fri Dec  4 03:02:52 2020) Epoch:  90 Test Cost:  4.173258365799318 Test Accuracy:  0.16874635654879033 Test f1:  0.04828886552869133 Test AUC:  0.5982307663255528 \n",
      "\n",
      "(Fri Dec  4 03:04:32 2020) Epoch:  91  Training Cost:  2.4240522070111754 Training Accuracy:  0.1841399455122628\n",
      "(Fri Dec  4 03:04:43 2020) Epoch:  91 Test Cost:  3.2070827541476437 Test Accuracy:  0.17725947590941243 Test f1:  0.06736979299056002 Test AUC:  0.6275448237397139 \n",
      "\n",
      "(Fri Dec  4 03:06:25 2020) Epoch:  92  Training Cost:  2.2313146706920324 Training Accuracy:  0.19801749690020398\n",
      "(Fri Dec  4 03:06:35 2020) Epoch:  92 Test Cost:  3.0517626869435213 Test Accuracy:  0.1805830910410895 Test f1:  0.07468185030204928 Test AUC:  0.6261471503472217 \n",
      "\n",
      "(Fri Dec  4 03:08:19 2020) Epoch:  93  Training Cost:  1.4315899690108118 Training Accuracy:  0.3369096275321249\n",
      "(Fri Dec  4 03:08:30 2020) Epoch:  93 Test Cost:  2.088595245565687 Test Accuracy:  0.2274052483130127 Test f1:  0.1555938123230918 Test AUC:  0.6344449858022944 \n",
      "\n",
      "(Fri Dec  4 03:10:08 2020) Epoch:  94  Training Cost:  2.346154383945743 Training Accuracy:  0.20314869255957033\n",
      "(Fri Dec  4 03:10:19 2020) Epoch:  94 Test Cost:  3.2313977839995403 Test Accuracy:  0.18040816406379984 Test f1:  0.0733451600743771 Test AUC:  0.6247859644479532 \n",
      "\n",
      "(Fri Dec  4 03:11:57 2020) Epoch:  95  Training Cost:  1.7731453430548354 Training Accuracy:  0.2576093347965802\n",
      "(Fri Dec  4 03:12:08 2020) Epoch:  95 Test Cost:  2.5424431857492764 Test Accuracy:  0.20256559738004173 Test f1:  0.11162862602110786 Test AUC:  0.6202132870475902 \n",
      "\n",
      "(Fri Dec  4 03:13:50 2020) Epoch:  96  Training Cost:  3.215210831130559 Training Accuracy:  0.17236151971118444\n",
      "(Fri Dec  4 03:14:01 2020) Epoch:  96 Test Cost:  4.0197601519937765 Test Accuracy:  0.1707288639147497 Test f1:  0.052261295934235674 Test AUC:  0.5986809635374998 \n",
      "\n",
      "(Fri Dec  4 03:15:39 2020) Epoch:  97  Training Cost:  1.791463140148463 Training Accuracy:  0.2315451943752717\n",
      "(Fri Dec  4 03:15:50 2020) Epoch:  97 Test Cost:  2.527786308891919 Test Accuracy:  0.19393586001138993 Test f1:  0.10309239804015048 Test AUC:  0.6283385561789686 \n",
      "\n",
      "(Fri Dec  4 03:17:27 2020) Epoch:  98  Training Cost:  3.038460457429246 Training Accuracy:  0.17516035357647666\n",
      "(Fri Dec  4 03:17:38 2020) Epoch:  98 Test Cost:  3.8934333600733786 Test Accuracy:  0.1700874644882825 Test f1:  0.05119214304052542 Test AUC:  0.6043409524223362 \n",
      "\n",
      "(Fri Dec  4 03:19:20 2020) Epoch:  99  Training Cost:  2.096133412668378 Training Accuracy:  0.21457726412368586\n",
      "(Fri Dec  4 03:19:30 2020) Epoch:  99 Test Cost:  2.9284682072286357 Test Accuracy:  0.1850728863442952 Test f1:  0.08385308314477503 Test AUC:  0.6218665002323608 \n",
      "\n",
      "(Fri Dec  4 03:21:10 2020) Epoch:  100  Training Cost:  2.8328327051752162 Training Accuracy:  0.1769679338130937\n",
      "(Fri Dec  4 03:21:21 2020) Epoch:  100 Test Cost:  3.7264132306805156 Test Accuracy:  0.1707288639147497 Test f1:  0.052452760533137945 Test AUC:  0.6017439723494807 \n",
      "\n",
      "(Fri Dec  4 03:22:58 2020) Epoch:  101  Training Cost:  2.8116377478438284 Training Accuracy:  0.17690962475694652\n",
      "(Fri Dec  4 03:23:09 2020) Epoch:  101 Test Cost:  3.6153228421252948 Test Accuracy:  0.1700874644882825 Test f1:  0.05121043043272078 Test AUC:  0.6021001011905471 \n",
      "\n",
      "(Fri Dec  4 03:24:48 2020) Epoch:  102  Training Cost:  3.0735031128277237 Training Accuracy:  0.1767930066924401\n",
      "(Fri Dec  4 03:24:59 2020) Epoch:  102 Test Cost:  3.9186011025231364 Test Accuracy:  0.17137026329342894 Test f1:  0.05373436820755539 Test AUC:  0.5976998789582442 \n",
      "\n",
      "(Fri Dec  4 03:26:38 2020) Epoch:  103  Training Cost:  1.9181804016449708 Training Accuracy:  0.23282799332812645\n",
      "(Fri Dec  4 03:26:48 2020) Epoch:  103 Test Cost:  2.746095758137828 Test Accuracy:  0.1998833818877056 Test f1:  0.10987391067328793 Test AUC:  0.6249333695304637 \n",
      "\n",
      "(Fri Dec  4 03:28:29 2020) Epoch:  104  Training Cost:  2.5136003583930324 Training Accuracy:  0.18338192807776588\n",
      "(Fri Dec  4 03:28:40 2020) Epoch:  104 Test Cost:  3.3840789051167124 Test Accuracy:  0.1720116624331683 Test f1:  0.05726881951661769 Test AUC:  0.6155595888867829 \n",
      "\n",
      "(Fri Dec  4 03:30:22 2020) Epoch:  105  Training Cost:  2.7462871928256734 Training Accuracy:  0.18396501850021824\n",
      "(Fri Dec  4 03:30:32 2020) Epoch:  105 Test Cost:  3.7292899156798427 Test Accuracy:  0.17137026300670108 Test f1:  0.056027034632459304 Test AUC:  0.604782658796083 \n",
      "\n",
      "(Fri Dec  4 03:32:14 2020) Epoch:  106  Training Cost:  2.892410543048347 Training Accuracy:  0.17935860443306387\n",
      "(Fri Dec  4 03:32:25 2020) Epoch:  106 Test Cost:  3.870597843317527 Test Accuracy:  0.17329446142946667 Test f1:  0.0585379710378483 Test AUC:  0.600975091596446 \n",
      "\n",
      "(Fri Dec  4 03:34:09 2020) Epoch:  107  Training Cost:  2.8190789096904565 Training Accuracy:  0.17702624287358526\n",
      "(Fri Dec  4 03:34:20 2020) Epoch:  107 Test Cost:  3.770562871864864 Test Accuracy:  0.17206997175866592 Test f1:  0.05496562170315559 Test AUC:  0.6011656481801658 \n",
      "\n",
      "(Fri Dec  4 03:36:05 2020) Epoch:  108  Training Cost:  2.2952828377745935 Training Accuracy:  0.2032653105024346\n",
      "(Fri Dec  4 03:36:16 2020) Epoch:  108 Test Cost:  3.319640323545773 Test Accuracy:  0.17912536478077357 Test f1:  0.07199735962225491 Test AUC:  0.610218810283609 \n",
      "\n",
      "(Fri Dec  4 03:37:56 2020) Epoch:  109  Training Cost:  3.3506009820598903 Training Accuracy:  0.1696793039017099\n",
      "(Fri Dec  4 03:38:06 2020) Epoch:  109 Test Cost:  4.120835721040954 Test Accuracy:  0.1694460650140273 Test f1:  0.04964479773208116 Test AUC:  0.593469525855755 \n",
      "\n",
      "(Fri Dec  4 03:39:47 2020) Epoch:  110  Training Cost:  3.278669301691973 Training Accuracy:  0.17236151970249572\n",
      "(Fri Dec  4 03:39:58 2020) Epoch:  110 Test Cost:  4.249006285924605 Test Accuracy:  0.1694460650140273 Test f1:  0.04985003513008724 Test AUC:  0.5947442180911476 \n",
      "\n",
      "(Fri Dec  4 03:41:40 2020) Epoch:  111  Training Cost:  3.628388864722961 Training Accuracy:  0.1686297411647552\n",
      "(Fri Dec  4 03:41:51 2020) Epoch:  111 Test Cost:  4.442814108651164 Test Accuracy:  0.16880466544419614 Test f1:  0.04957447157068728 Test AUC:  0.592579609773874 \n",
      "\n",
      "(Fri Dec  4 03:43:31 2020) Epoch:  112  Training Cost:  3.2116612150092165 Training Accuracy:  0.1743440270684551\n",
      "(Fri Dec  4 03:43:42 2020) Epoch:  112 Test Cost:  4.164378527788657 Test Accuracy:  0.17137026329342894 Test f1:  0.0535840629059125 Test AUC:  0.5924555767711192 \n",
      "\n",
      "(Fri Dec  4 03:45:22 2020) Epoch:  113  Training Cost:  3.413066149522542 Training Accuracy:  0.17026239428071865\n",
      "(Fri Dec  4 03:45:32 2020) Epoch:  113 Test Cost:  4.319265015723059 Test Accuracy:  0.1694460650140273 Test f1:  0.04961822291114782 Test AUC:  0.5910391211372423 \n",
      "\n",
      "(Fri Dec  4 03:47:15 2020) Epoch:  114  Training Cost:  1.8254948148922043 Training Accuracy:  0.2363265357889865\n",
      "(Fri Dec  4 03:47:26 2020) Epoch:  114 Test Cost:  2.7980810395135127 Test Accuracy:  0.1895626819472619 Test f1:  0.09301305578762283 Test AUC:  0.6138744432185267 \n",
      "\n",
      "(Fri Dec  4 03:49:06 2020) Epoch:  115  Training Cost:  1.9790293388046953 Training Accuracy:  0.2338775560607368\n",
      "(Fri Dec  4 03:49:16 2020) Epoch:  115 Test Cost:  2.944815348327681 Test Accuracy:  0.18303207017416162 Test f1:  0.08388111052656595 Test AUC:  0.6206149779497286 \n",
      "\n",
      "(Fri Dec  4 03:50:59 2020) Epoch:  116  Training Cost:  3.3067537603850963 Training Accuracy:  0.17160350218545592\n",
      "(Fri Dec  4 03:51:10 2020) Epoch:  116 Test Cost:  4.280622565711552 Test Accuracy:  0.1700874644882825 Test f1:  0.05095928193031424 Test AUC:  0.5988329055259969 \n",
      "\n",
      "(Fri Dec  4 03:52:55 2020) Epoch:  117  Training Cost:  3.9851046617802655 Training Accuracy:  0.1685714321433629\n",
      "(Fri Dec  4 03:53:05 2020) Epoch:  117 Test Cost:  4.8835525552315895 Test Accuracy:  0.16874635654879033 Test f1:  0.04812745293687221 Test AUC:  0.5801769084464733 \n",
      "\n",
      "(Fri Dec  4 03:54:44 2020) Epoch:  118  Training Cost:  3.0108442637732704 Training Accuracy:  0.1771428609207142\n",
      "(Fri Dec  4 03:54:55 2020) Epoch:  118 Test Cost:  4.076823529800937 Test Accuracy:  0.17201166276768415 Test f1:  0.054864809175208584 Test AUC:  0.5943148922370672 \n",
      "\n",
      "(Fri Dec  4 03:56:36 2020) Epoch:  119  Training Cost:  2.889863030173688 Training Accuracy:  0.18594752589658814\n"
     ]
    },
    {
     "name": "stdout",
     "output_type": "stream",
     "text": [
      "(Fri Dec  4 03:56:47 2020) Epoch:  119 Test Cost:  4.04416046354583 Test Accuracy:  0.1739358609992978 Test f1:  0.05875693072324576 Test AUC:  0.5960598004687876 \n",
      "\n",
      "(Fri Dec  4 03:58:25 2020) Epoch:  120  Training Cost:  2.6922798770162175 Training Accuracy:  0.18985423146809502\n",
      "(Fri Dec  4 03:58:36 2020) Epoch:  120 Test Cost:  3.7507944116787035 Test Accuracy:  0.17206997161530196 Test f1:  0.05628859804122476 Test AUC:  0.6028372093057538 \n",
      "\n"
     ]
    }
   ],
   "source": [
    "for j in range(10,13):\n",
    "    train_subject = [k for k in range(1,13) if k != j]\n",
    "    test_subject = [j]\n",
    "    train_X,train_y = data_gen(train_subject)\n",
    "    test_X,test_y = data_gen(test_subject)\n",
    "    \n",
    "    idx = list(range(len(train_y)))\n",
    "    np.random.shuffle(idx)\n",
    "    train_X = train_X[idx]\n",
    "    train_y = train_y[idx]    \n",
    "    # sio.savemat('/home/yaoxiaojian/Desktop/kaggle/EEG/TACR_indenpendent_6-class/T-set_sub'+str(j)+'.mat', {\"train_x\": train_X, \"train_y\": train_y, \"test_x\": test_X, \"test_y\": test_y})\n",
    "\n",
    "    import tensorflow as tf\n",
    "    from cnn_class import cnn\n",
    "    import sklearn.cross_validation as cross_validation\n",
    "    from sklearn.cross_validation import cross_val_score\n",
    "    import time\n",
    "    from sklearn.metrics import classification_report, roc_auc_score, auc, roc_curve, f1_score\n",
    "    from RnnAttention.attention import attention\n",
    "    from scipy import interp\n",
    "    import tensorflow as tf\n",
    "\n",
    "    # train_X preprocess\n",
    "    X_inputs = np.transpose(train_X, [1, 0, 2])\n",
    "    X_inputs=X_inputs.reshape((X_inputs.shape[0],(X_inputs.shape[1]*X_inputs.shape[2])))\n",
    "    X_inputs = np.transpose(X_inputs, [1, 0])\n",
    "    X_inputs = X_inputs*100000\n",
    "    print ('X_inputs',X_inputs.shape)\n",
    "    # test_X preprocess\n",
    "    X_inputs1 = np.transpose(test_X, [1, 0, 2])\n",
    "    X_inputs1 = X_inputs1.reshape((X_inputs1.shape[0],(X_inputs1.shape[1]*X_inputs1.shape[2])))\n",
    "    X_inputs1 = np.transpose(X_inputs1, [1, 0])\n",
    "    X_inputs1 = X_inputs1*100000\n",
    "    print ('X_inputs1',X_inputs1.shape)\n",
    "\n",
    "    # X_inputs and Y_targets are np.array, while X,Y are tf.tensor class\n",
    "\n",
    "    learning_rate = 0.01\n",
    "    training_epochs = 5\n",
    "    batch_size = 751\n",
    "    display_step = 1\n",
    "    n_input = 64\n",
    "    X = tf.placeholder(\"float\", [None, n_input])\n",
    "\n",
    "    n_hidden_1 = 88\n",
    "    n_hidden_2 = 44\n",
    "    n_hidden_3 = 22\n",
    "\n",
    "    weights = {\n",
    "        'encoder_h1': tf.Variable(tf.truncated_normal([n_input, n_hidden_1], )),\n",
    "        'encoder_h2': tf.Variable(tf.truncated_normal([n_hidden_1, n_hidden_2], )),\n",
    "        'encoder_h3': tf.Variable(tf.truncated_normal([n_hidden_2, n_hidden_3], )),\n",
    "        'decoder_h1': tf.Variable(tf.truncated_normal([n_hidden_3, n_hidden_2], )),\n",
    "        'decoder_h2': tf.Variable(tf.truncated_normal([n_hidden_2, n_hidden_1], )),\n",
    "        'decoder_h3': tf.Variable(tf.truncated_normal([n_hidden_1, n_input], )),\n",
    "    }\n",
    "    biases = {\n",
    "        'encoder_b1': tf.Variable(tf.random_normal([n_hidden_1])),\n",
    "        'encoder_b2': tf.Variable(tf.random_normal([n_hidden_2])),\n",
    "        'encoder_b3': tf.Variable(tf.random_normal([n_hidden_3])),\n",
    "        'decoder_b1': tf.Variable(tf.random_normal([n_hidden_2])),\n",
    "        'decoder_b2': tf.Variable(tf.random_normal([n_hidden_1])),\n",
    "        'decoder_b3': tf.Variable(tf.random_normal([n_input])),\n",
    "    }\n",
    "\n",
    "\n",
    "    def encoder(x):\n",
    "        layer_1 = tf.nn.sigmoid(tf.add(tf.matmul(x, weights['encoder_h1']),\n",
    "                                       biases['encoder_b1']))\n",
    "        layer_2 = tf.nn.sigmoid(tf.add(tf.matmul(layer_1, weights['encoder_h2']),\n",
    "                                       biases['encoder_b2']))\n",
    "        layer_3 = tf.add(tf.matmul(layer_2, weights['encoder_h3']),\n",
    "                         biases['encoder_b3'])\n",
    "\n",
    "        return layer_3\n",
    "\n",
    "\n",
    "    def decoder(x):\n",
    "        layer_1 = tf.nn.sigmoid(tf.add(tf.matmul(x, weights['decoder_h1']),\n",
    "                                       biases['decoder_b1']))\n",
    "        layer_2 = tf.nn.sigmoid(tf.add(tf.matmul(layer_1, weights['decoder_h2']),\n",
    "                                       biases['decoder_b2']))\n",
    "        layer_3 = tf.nn.sigmoid(tf.add(tf.matmul(layer_2, weights['decoder_h3']),\n",
    "                                       biases['decoder_b3']))\n",
    "        return layer_3\n",
    "\n",
    "    # iteration\n",
    "    encoder_op = encoder(X)\n",
    "    decoder_op = decoder(encoder_op)\n",
    "\n",
    "    y_pred = decoder_op\n",
    "    y_true = X\n",
    "\n",
    "    cost = tf.reduce_mean(tf.pow(y_true - y_pred, 2)) # cost func. MSE\n",
    "    optimizer = tf.train.AdamOptimizer(learning_rate).minimize(cost)\n",
    "    encoder_result = []\n",
    "    with tf.Session() as sess:\n",
    "        init = tf.global_variables_initializer()\n",
    "        sess.run(init)\n",
    "        total_batch = int(X_inputs.shape[0] / batch_size)\n",
    "        for epoch in range(training_epochs):\n",
    "            for i in range(total_batch):\n",
    "                offset = (i * batch_size) \n",
    "                batch_xs = X_inputs[offset:(offset + batch_size), :] \n",
    "                #batch_ys = Y_targets[offset:(offset + batch_size), :]\n",
    "                print ('.',end = '')\n",
    "                _, c = sess.run([optimizer, cost], feed_dict={X: batch_xs})\n",
    "            if epoch % display_step == 0:\n",
    "                print()\n",
    "                print(\"Epoch:\", '%04d' % (epoch + 1), \"cost=\", \"{:.9f}\".format(c))\n",
    "        print(\"Optimization Finished!\")\n",
    "\n",
    "        # build encoder_result array as feature vector\n",
    "        train_X=sess.run(encoder_op, feed_dict={X: X_inputs})      \n",
    "        train_X=train_X.reshape(int(train_X.shape[0]/751),751,22)\n",
    "        train_X=np.transpose(train_X,[0,2,1])\n",
    "\n",
    "        test_X=sess.run(encoder_op, feed_dict={X: X_inputs1})      \n",
    "        test_X=test_X.reshape(int(test_X.shape[0]/751),751,22)\n",
    "        test_X=np.transpose(test_X,[0,2,1])\n",
    "\n",
    "        print (train_X.shape, test_X.shape, train_y.shape,test_y.shape)\n",
    "        display (test_X)\n",
    "\n",
    "    sess.close()\n",
    "\n",
    "    test_y\t= test_y.ravel()\n",
    "    train_y = train_y.ravel()\n",
    "    display (test_y)\n",
    "\n",
    "    train_y = np.asarray(pd.get_dummies(train_y), dtype = np.int8)\n",
    "    test_y = np.asarray(pd.get_dummies(test_y), dtype = np.int8)\n",
    "\n",
    "    #############\n",
    "    # Set window\n",
    "    #############\n",
    "\n",
    "    window_size = 100\n",
    "    step = 50\n",
    "    n_channel = 22\n",
    "\n",
    "    def windows(data, size, step):\n",
    "        start = 0\n",
    "        while ((start+size) < data.shape[0]):\n",
    "            yield int(start), int(start + size)\n",
    "            start += step\n",
    "\n",
    "    def segment_signal_without_transition(data, window_size, step):\n",
    "        segments = []\n",
    "        for (start, end) in windows(data, window_size, step):\n",
    "            if(len(data[start:end]) == window_size):\n",
    "                segments = segments + [data[start:end]]\n",
    "        return np.array(segments)\n",
    "\n",
    "    def segment_dataset(X, window_size, step):\n",
    "        win_x = []\n",
    "        for i in range(X.shape[0]):\n",
    "            win_x = win_x + [segment_signal_without_transition(X[i], window_size, step)]\n",
    "        win_x = np.array(win_x)\n",
    "        return win_x\n",
    "\n",
    "    train_raw_x = np.transpose(train_X, [0, 2, 1])\n",
    "    test_raw_x = np.transpose(test_X, [0, 2, 1])\n",
    "\n",
    "\n",
    "    train_win_x = segment_dataset(train_raw_x, window_size, step)\n",
    "    print(\"train_win_x shape: \", train_win_x.shape)\n",
    "    test_win_x = segment_dataset(test_raw_x, window_size, step)\n",
    "    print(\"test_win_x shape: \", test_win_x.shape)\n",
    "\n",
    "    # [trial, window, channel, time_length]\n",
    "    train_win_x = np.transpose(train_win_x, [0, 1, 3, 2])\n",
    "    print(\"train_win_x shape: \", train_win_x.shape)\n",
    "\n",
    "    test_win_x = np.transpose(test_win_x, [0, 1, 3, 2])\n",
    "    print(\"test_win_x shape: \", test_win_x.shape)\n",
    "\n",
    "\n",
    "    # [trial, window, channel, time_length, 1]\n",
    "    train_x = np.expand_dims(train_win_x, axis = 4)\n",
    "    test_x = np.expand_dims(test_win_x, axis = 4)\n",
    "\n",
    "    num_timestep = train_x.shape[1]\n",
    "    ###########################################################################\n",
    "    # set model parameters\n",
    "    ###########################################################################\n",
    "    # kernel parameter\n",
    "    kernel_height_1st\t= 22\n",
    "    kernel_width_1st \t= 45\n",
    "\n",
    "    kernel_stride\t\t= 1\n",
    "\n",
    "    conv_channel_num\t= 40\n",
    "\n",
    "    # pooling parameter\n",
    "    pooling_height_1st \t= 1\n",
    "    pooling_width_1st \t= 56\n",
    "\n",
    "    pooling_stride_1st = 10\n",
    "\n",
    "    # full connected parameter\n",
    "    attention_size = 512\n",
    "    n_hidden_state = 64\n",
    "\n",
    "    ###########################################################################\n",
    "    # set dataset parameters\n",
    "    ###########################################################################\n",
    "    # input channel\n",
    "    input_channel_num = 1\n",
    "\n",
    "    # input height \n",
    "    input_height = train_x.shape[2]\n",
    "\n",
    "    # input width\n",
    "    input_width = train_x.shape[3]\n",
    "\n",
    "    # prediction class\n",
    "    num_labels = 6\n",
    "    ###########################################################################\n",
    "    # set training parameters\n",
    "    ###########################################################################\n",
    "    # set learning rate\n",
    "    learning_rate = 1e-4\n",
    "\n",
    "    # set maximum traing epochs\n",
    "    training_epochs = 120\n",
    "\n",
    "    # set batch size\n",
    "    batch_size = 10\n",
    "\n",
    "    # set dropout probability\n",
    "    dropout_prob = 0.5\n",
    "\n",
    "    # set train batch number per epoch\n",
    "    batch_num_per_epoch = train_x.shape[0]//batch_size\n",
    "\n",
    "    # instance cnn class\n",
    "    padding = 'VALID'\n",
    "\n",
    "    cnn_2d = cnn(padding=padding)\n",
    "\n",
    "    # input placeholder\n",
    "    X = tf.placeholder(tf.float32, shape=[None, input_height, input_width, input_channel_num], name = 'X')\n",
    "    Y = tf.placeholder(tf.float32, shape=[None, num_labels], name = 'Y')\n",
    "    train_phase = tf.placeholder(tf.bool, name = 'train_phase')\n",
    "    keep_prob = tf.placeholder(tf.float32, name='keep_prob')\n",
    "\n",
    "    # first CNN layer\n",
    "    conv_1 = cnn_2d.apply_conv2d(X, kernel_height_1st, kernel_width_1st, input_channel_num, conv_channel_num, kernel_stride, train_phase)\n",
    "    print(\"conv 1 shape: \", conv_1.get_shape().as_list())\n",
    "    pool_1 = cnn_2d.apply_max_pooling(conv_1, pooling_height_1st, pooling_width_1st, pooling_stride_1st)\n",
    "    print(\"pool 1 shape: \", pool_1.get_shape().as_list())\n",
    "\n",
    "    pool1_shape = pool_1.get_shape().as_list()\n",
    "    pool1_flat = tf.reshape(pool_1, [-1, pool1_shape[1]*pool1_shape[2]*pool1_shape[3]])\n",
    "\n",
    "    fc_drop = tf.nn.dropout(pool1_flat, keep_prob)\t\n",
    "\n",
    "    lstm_in = tf.reshape(fc_drop, [-1, num_timestep, pool1_shape[1]*pool1_shape[2]*pool1_shape[3]])\n",
    "\n",
    "    ################\n",
    "    # pipline design\n",
    "    #################\n",
    "\n",
    "    ########################## RNN ########################\n",
    "    cells = []\n",
    "    for _ in range(2):\n",
    "        cell = tf.contrib.rnn.BasicLSTMCell(n_hidden_state, forget_bias=1.0, state_is_tuple=True)\n",
    "        cell = tf.contrib.rnn.DropoutWrapper(cell, output_keep_prob=keep_prob)\n",
    "        cells.append(cell)\n",
    "    lstm_cell = tf.contrib.rnn.MultiRNNCell(cells)\n",
    "\n",
    "    init_state = lstm_cell.zero_state(batch_size, dtype=tf.float32)\n",
    "\n",
    "    # output ==> [batch, step, n_hidden_state]\n",
    "    rnn_op, states = tf.nn.dynamic_rnn(lstm_cell, lstm_in, initial_state=init_state, time_major=False)\n",
    "\n",
    "    ########################## attention ########################\n",
    "    with tf.name_scope('Attention_layer'):\n",
    "        attention_op, alphas = attention(rnn_op, attention_size, time_major = False, return_alphas=True)\n",
    "\n",
    "    attention_drop = tf.nn.dropout(attention_op, keep_prob)\t\n",
    "\n",
    "    ########################## readout ########################\n",
    "    y_ = cnn_2d.apply_readout(attention_drop, rnn_op.shape[2].value, num_labels)\n",
    "\n",
    "    # probability prediction \n",
    "    y_prob = tf.nn.softmax(y_, name = \"y_prob\")\n",
    "\n",
    "    # class prediction \n",
    "    y_pred = tf.argmax(y_prob, 1, name = \"y_pred\")\n",
    "\n",
    "    ########################## loss and optimizer ########################\n",
    "    # cross entropy cost function\n",
    "    cost = tf.reduce_mean(tf.nn.softmax_cross_entropy_with_logits(logits=y_, labels=Y), name = 'loss')\n",
    "\n",
    "\n",
    "    update_ops = tf.get_collection(tf.GraphKeys.UPDATE_OPS)\n",
    "    with tf.control_dependencies(update_ops):\n",
    "    # set training SGD optimizer\n",
    "        optimizer = tf.train.AdamOptimizer(learning_rate).minimize(cost)\n",
    "\n",
    "    # get correctly predicted object\n",
    "    correct_prediction = tf.equal(tf.argmax(tf.nn.softmax(y_), 1), tf.argmax(Y, 1))\n",
    "\n",
    "    ########################## define accuracy ########################\n",
    "    # calculate prediction accuracy\n",
    "    accuracy = tf.reduce_mean(tf.cast(correct_prediction, tf.float32), name = 'accuracy')\n",
    "\n",
    "    #############\n",
    "    # train test \n",
    "    #############\n",
    "    def multiclass_roc_auc_score(y_true, y_score):\n",
    "        assert y_true.shape == y_score.shape\n",
    "        fpr = dict()\n",
    "        tpr = dict()\n",
    "        roc_auc = dict()\n",
    "        n_classes = y_true.shape[1]\n",
    "        # compute ROC curve and ROC area for each class\n",
    "        for i in range(n_classes):\n",
    "            fpr[i], tpr[i], _ = roc_curve(y_true[:, i], y_score[:, i])\n",
    "            roc_auc[i] = auc(fpr[i], tpr[i])\n",
    "        # compute micro-average ROC curve and ROC area\n",
    "        fpr[\"micro\"], tpr[\"micro\"], _ = roc_curve(y_true.ravel(), y_score.ravel())\n",
    "        roc_auc[\"micro\"] = auc(fpr[\"micro\"], tpr[\"micro\"])\n",
    "\n",
    "        # compute macro-average ROC curve and ROC area\n",
    "        # First aggregate all false probtive rates\n",
    "        all_fpr = np.unique(np.concatenate([fpr[i] for i in range(n_classes)]))\n",
    "        # Then interpolate all ROC curves at this points\n",
    "        mean_tpr = np.zeros_like(all_fpr)\n",
    "        for i in range(n_classes):\n",
    "            mean_tpr += interp(all_fpr, fpr[i], tpr[i])\n",
    "        # Finally average it and compute AUC\n",
    "        mean_tpr /= n_classes\n",
    "        fpr[\"macro\"] = all_fpr\n",
    "        tpr[\"macro\"] = mean_tpr\n",
    "        roc_auc[\"macro\"] = auc(fpr[\"macro\"], tpr[\"macro\"])\n",
    "        return roc_auc\n",
    "    # run with gpu memory growth\n",
    "    config = tf.ConfigProto()\n",
    "    # config.gpu_options.allow_growth = True\n",
    "\n",
    "    train_acc = []\n",
    "    test_acc = []\n",
    "    best_test_acc = []\n",
    "    train_loss = []\n",
    "    with tf.Session(config=config) as session:\n",
    "        session.run(tf.global_variables_initializer())\n",
    "        best_acc = 0\n",
    "        for epoch in range(training_epochs):\n",
    "            pred_test = np.array([])\n",
    "            true_test = []\n",
    "            prob_test = []\n",
    "            ########################## training process ########################\n",
    "            for b in range(batch_num_per_epoch):\n",
    "                offset = (b * batch_size) % (train_y.shape[0] - batch_size) \n",
    "                batch_x = train_x[offset:(offset + batch_size), :, :, :, :]\n",
    "                batch_x = batch_x.reshape([len(batch_x)*num_timestep, n_channel, window_size, 1])\n",
    "                batch_y = train_y[offset:(offset + batch_size), :]\n",
    "                _, c = session.run([optimizer, cost], feed_dict={X: batch_x, Y: batch_y, keep_prob: 1-dropout_prob, train_phase: True})\n",
    "            # calculate train and test accuracy after each training epoch\n",
    "            if(epoch%1 == 0):\n",
    "                train_accuracy \t= np.zeros(shape=[0], dtype=float)\n",
    "                test_accuracy\t= np.zeros(shape=[0], dtype=float)\n",
    "                train_l \t\t= np.zeros(shape=[0], dtype=float)\n",
    "                test_l\t\t\t= np.zeros(shape=[0], dtype=float)\n",
    "                # calculate train accuracy after each training epoch\n",
    "                for i in range(batch_num_per_epoch):\n",
    "                    ########################## prepare training data ########################\n",
    "                    offset = (i * batch_size) % (train_y.shape[0] - batch_size) \n",
    "                    train_batch_x = train_x[offset:(offset + batch_size), :, :, :]\n",
    "                    train_batch_x = train_batch_x.reshape([len(train_batch_x)*num_timestep, n_channel, window_size, 1])\n",
    "                    train_batch_y = train_y[offset:(offset + batch_size), :]\n",
    "\n",
    "                    ########################## calculate training results ########################\n",
    "                    train_a, train_c = session.run([accuracy, cost], feed_dict={X: train_batch_x, Y: train_batch_y, keep_prob: 1.0, train_phase: False})\n",
    "\n",
    "                    train_l = np.append(train_l, train_c)\n",
    "                    train_accuracy = np.append(train_accuracy, train_a)\n",
    "                print(\"(\"+time.asctime(time.localtime(time.time()))+\") Epoch: \", epoch+1, \" Training Cost: \", np.mean(train_l), \"Training Accuracy: \", np.mean(train_accuracy))\n",
    "                train_acc = train_acc + [np.mean(train_accuracy)]\n",
    "                train_loss = train_loss + [np.mean(train_l)]\n",
    "                # calculate test accuracy after each training epoch\n",
    "                for j in range(batch_num_per_epoch):\n",
    "                    ########################## prepare test data ########################\n",
    "                    offset = (j * batch_size) % (test_y.shape[0] - batch_size) \n",
    "                    test_batch_x = test_x[offset:(offset + batch_size), :, :, :]\n",
    "                    test_batch_x = test_batch_x.reshape([len(test_batch_x)*num_timestep, n_channel, window_size, 1])\n",
    "                    test_batch_y = test_y[offset:(offset + batch_size), :]\n",
    "\n",
    "                    ########################## calculate test results ########################\n",
    "                    test_a, test_c, prob_v, pred_v = session.run([accuracy, cost, y_prob, y_pred], feed_dict={X: test_batch_x, Y: test_batch_y, keep_prob: 1.0, train_phase: False})\n",
    "\n",
    "                    test_accuracy = np.append(test_accuracy, test_a)\n",
    "                    test_l = np.append(test_l, test_c)\n",
    "                    pred_test = np.append(pred_test, pred_v)\n",
    "                    true_test.append(test_batch_y)\n",
    "                    prob_test.append(prob_v)\n",
    "                if np.mean(test_accuracy) > best_acc :\n",
    "                    best_acc = np.mean(test_accuracy)\n",
    "                true_test = np.array(true_test).reshape([-1, num_labels])\n",
    "                prob_test = np.array(prob_test).reshape([-1, num_labels])\n",
    "                auc_roc_test = multiclass_roc_auc_score(y_true=true_test, y_score=prob_test)\n",
    "                f1 = f1_score (y_true=np.argmax(true_test, axis = 1), y_pred=pred_test, average = 'macro')\n",
    "                print(\"(\"+time.asctime(time.localtime(time.time()))+\") Epoch: \", epoch+1, \"Test Cost: \", np.mean(test_l), \n",
    "                                                                                          \"Test Accuracy: \", np.mean(test_accuracy), \n",
    "                                                                                          \"Test f1: \", f1, \n",
    "                                                                                          \"Test AUC: \", auc_roc_test['macro'], \"\\n\")\n",
    "    input()\n"
   ]
  },
  {
   "cell_type": "code",
   "execution_count": null,
   "metadata": {},
   "outputs": [],
   "source": []
  }
 ],
 "metadata": {
  "kernelspec": {
   "display_name": "Python 3",
   "language": "python",
   "name": "python3"
  },
  "language_info": {
   "codemirror_mode": {
    "name": "ipython",
    "version": 3
   },
   "file_extension": ".py",
   "mimetype": "text/x-python",
   "name": "python",
   "nbconvert_exporter": "python",
   "pygments_lexer": "ipython3",
   "version": "3.7.0"
  }
 },
 "nbformat": 4,
 "nbformat_minor": 2
}
